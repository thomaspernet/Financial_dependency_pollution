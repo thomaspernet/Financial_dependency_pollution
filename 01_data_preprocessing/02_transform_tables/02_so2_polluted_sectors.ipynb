{
 "cells": [
  {
   "cell_type": "markdown",
   "metadata": {
    "lines_to_next_cell": 0
   },
   "source": [
    "# Transform pollution data by constructing polluted sectors (2 digit industry)\n",
    "\n",
    "# Objective(s)\n",
    "\n",
    "**Business needs**\n",
    "\n",
    "Transform pollution data by constructing polluted sectors (aggregate 2 digits industry level)\n",
    "\n",
    "**Description**\n",
    "\n",
    "*Objective*\n",
    "\n",
    "Construct polluted sectors for each year at the CIC 2 digits level. Three ways to compute the split:\n",
    "\n",
    "* Average\n",
    "* Median\n",
    "* Third decile\n",
    "* Using the threshold 68070.78\n",
    "\n",
    "\n",
    "*Construction variables*\n",
    "\n",
    "* polluted_di: If SO2 emission is above third decile, then ABOVE else BELOW, by year-2 digit CIC\n",
    "* polluted_mi: If SO2 emission is above average, then ABOVE else BELOW, by year-2 digit CIC\n",
    "* polluted_mei: If SO2 emission is above median, then ABOVE else BELOW, by year-2 digit CIC\n",
    "* polluted_thre: If SO2 emission is above 68070.78, then ABOVE else BELOW, by year-2 digit CIC\n",
    "\n",
    "*Steps*\n",
    "\n",
    "1. Aggregate by year\n",
    "2. Compute threshold\n",
    "3. Keep value mean, median, third decile\n",
    "\n",
    "*Cautious*\n",
    "\n",
    "* Make sure there is no duplicates\n",
    "\n",
    "**Target**\n",
    "\n",
    "* The file is saved in S3: \n",
    "  * bucket: datalake-datascience \n",
    "  * path: DATA/ENVIRONMENT/CHINA/SECTOR_POLLUTION_THRESHOLD \n",
    "* Glue data catalog should be updated\n",
    "  * database: environment \n",
    "  * table prefix: china_ \n",
    "    * table name (prefix + last folder S3 path): china_sector_pollution_threshold \n",
    "* Analytics (table name)\n",
    "  * HTML:  ANALYTICS/HTML OUTPUT/CHINA_SECTOR_POLLUTION_THRESHOLD \n",
    "  * Notebook:  ANALYTICS/OUTPUT/CHINA_SECTOR_POLLUTION_THRESHOLD \n",
    "\n",
    "# Metadata\n",
    "\n",
    "* Key: cif97iznh63117m\n",
    "* Parent key (for update parent):  \n",
    "* Notebook US Parent (i.e the one to update): \n",
    "https://github.com/thomaspernet/Financial_dependency_pollution/blob/master/01_data_preprocessing/02_transform_tables/02_so2_polluted_sectors.md\n",
    "* Reports: https://htmlpreview.github.io/?https://github.com/thomaspernet/Financial_dependency_pollution/blob/master/01_data_preprocessing/02_transform_tables/Reports/02_so2_polluted_sectors.html\n",
    "* Analytics reports:\n",
    "https://htmlpreview.github.io/?https://github.com/thomaspernet/Financial_dependency_pollution/blob/master/00_data_catalogue/HTML_ANALYSIS/CHINA_SECTOR_POLLUTION_THRESHOLD.html\n",
    "* Epic: Dataset transformation\n",
    "* US: Polluted sectors\n",
    "* Date Begin: 11/30/2020\n",
    "* Duration Task: 0\n",
    "* Description: Transform pollution data by constructing polluted sectors (aggregate 2 digits industry level)\n",
    "* Step type: Transform table\n",
    "* Status: Active\n",
    "* Source URL:  \n",
    "* Task type: Jupyter Notebook\n",
    "* Users: Thomas Pernet\n",
    "* Watchers: Thomas Pernet\n",
    "* User Account: https://468786073381.signin.aws.amazon.com/console\n",
    "* Estimated Log points: 5\n",
    "* Task tag: #pollution,#polluted-sector,#so2\n",
    "* Toggl Tag: #data-transformation\n",
    "* current nb commits: 0\n",
    " * Meetings:  \n",
    "* Presentation:  \n",
    "\n",
    "# Input Cloud Storage [AWS/GCP]\n",
    "\n",
    "## Table/file\n",
    "\n",
    "* Origin: \n",
    "* Athena\n",
    "* Name: \n",
    "* china_city_sector_pollution \n",
    "* china_code_normalised\n",
    "* Github: \n",
    "  * https://github.com/thomaspernet/Financial_dependency_pollution/blob/master/01_data_preprocessing/00_download_data_from/CITY_SECTOR_POLLUTION/city_sector_pollution.py\n",
    "  * https://github.com/thomaspernet/Financial_dependency_pollution/blob/master/01_data_preprocessing/00_download_data_from/CITY_CODE_CORRESPONDANCE/city_code_correspondance.py\n",
    "  \n",
    "# Destination Output/Delivery\n",
    "\n",
    "## Table/file\n",
    "\n",
    "* Origin: \n",
    "* S3\n",
    "* Athena\n",
    "* Name:\n",
    "* DATA/ENVIRONMENT/CHINA/SECTOR_POLLUTION_THRESHOLD\n",
    "* china_sector_pollution_threshold\n",
    "* GitHub:\n",
    "* https://github.com/thomaspernet/Financial_dependency_pollution/blob/master/02_data_analysis/01_model_estimation/00_estimate_fin_ratio/00_so2_fin_ratio.md\n",
    "* https://github.com/thomaspernet/Financial_dependency_pollution/blob/master/01_data_preprocessing/02_transform_tables/02_so2_polluted_sectors.md\n",
    "* URL: \n",
    "  * datalake-datascience/DATA/ENVIRONMENT/CHINA/SECTOR_POLLUTION_THRESHOLD\n",
    "* \n",
    "\n",
    "# Knowledge\n",
    "\n",
    "## List of candidates\n",
    "\n",
    "* [Polluted sectors codes from SBC paper](https://github.com/thomaspernet/SBC_pollution_China/blob/master/Data_preprocessing/02_SBC_pollution_China_preprocessing.md)"
   ]
  },
  {
   "cell_type": "code",
   "execution_count": null,
   "metadata": {
    "collapsed": false,
    "inputHidden": false,
    "jupyter": {
     "outputs_hidden": false
    },
    "outputHidden": false
   },
   "outputs": [],
   "source": [
    "from awsPy.aws_authorization import aws_connector\n",
    "from awsPy.aws_s3 import service_s3\n",
    "from awsPy.aws_glue import service_glue\n",
    "from pathlib import Path\n",
    "import pandas as pd\n",
    "import numpy as np\n",
    "import seaborn as sns\n",
    "import os, shutil, json\n",
    "\n",
    "path = os.getcwd()\n",
    "parent_path = str(Path(path).parent.parent)\n",
    "\n",
    "\n",
    "name_credential = 'financial_dep_SO2_accessKeys.csv'\n",
    "region = 'eu-west-2'\n",
    "bucket = 'datalake-london'\n",
    "path_cred = \"{0}/creds/{1}\".format(parent_path, name_credential)"
   ]
  },
  {
   "cell_type": "code",
   "execution_count": null,
   "metadata": {
    "collapsed": false,
    "inputHidden": false,
    "jupyter": {
     "outputs_hidden": false
    },
    "outputHidden": false
   },
   "outputs": [],
   "source": [
    "con = aws_connector.aws_instantiate(credential = path_cred,\n",
    "                                       region = region)\n",
    "client= con.client_boto()\n",
    "s3 = service_s3.connect_S3(client = client,\n",
    "                      bucket = bucket, verbose = True) \n",
    "glue = service_glue.connect_glue(client = client) "
   ]
  },
  {
   "cell_type": "code",
   "execution_count": null,
   "metadata": {},
   "outputs": [],
   "source": [
    "pandas_setting = True\n",
    "if pandas_setting:\n",
    "    cm = sns.light_palette(\"green\", as_cmap=True)\n",
    "    pd.set_option('display.max_columns', None)\n",
    "    pd.set_option('display.max_colwidth', None)"
   ]
  },
  {
   "cell_type": "markdown",
   "metadata": {},
   "source": [
    "# Prepare query \n",
    "\n",
    "Write query and save the CSV back in the S3 bucket `datalake-datascience` "
   ]
  },
  {
   "cell_type": "markdown",
   "metadata": {},
   "source": [
    "# Steps"
   ]
  },
  {
   "cell_type": "markdown",
   "metadata": {},
   "source": [
    "## Example step by step"
   ]
  },
  {
   "cell_type": "code",
   "execution_count": null,
   "metadata": {},
   "outputs": [],
   "source": [
    "DatabaseName = 'environment'\n",
    "s3_output_example = 'SQL_OUTPUT_ATHENA'"
   ]
  },
  {
   "cell_type": "markdown",
   "metadata": {},
   "source": [
    "Compute the following metrics by year\n",
    "\n",
    "- percentile 75\n",
    "- Mean\n",
    "- Median\n",
    "\n"
   ]
  },
  {
   "cell_type": "code",
   "execution_count": null,
   "metadata": {},
   "outputs": [],
   "source": [
    "query= \"\"\"\n",
    "WITH agg_ind2 AS (\n",
    "  SELECT \n",
    "    year, \n",
    "    ind2, \n",
    "    SUM(tso2) as tso2 \n",
    "  FROM environment.china_city_sector_pollution \n",
    "  GROUP BY \n",
    "    year, \n",
    "    ind2\n",
    "  )\n",
    "  SELECT year, approx_percentile(tso2, .75) AS pct_75_tso2, AVG(tso2) AS avg_tso2, approx_percentile(tso2, .50) AS mdn_tso2\n",
    "  FROM agg_ind2 \n",
    "  WHERE tso2 > 0\n",
    "  GROUP BY year  \n",
    "  ORDER BY year\n",
    "\"\"\"\n",
    "output = s3.run_query(\n",
    "                    query=query,\n",
    "                    database=DatabaseName,\n",
    "                    s3_output=s3_output_example,\n",
    "    filename = 'example_1'\n",
    "                )\n",
    "output"
   ]
  },
  {
   "cell_type": "markdown",
   "metadata": {},
   "source": [
    "Bring back the threshold to the orginal table"
   ]
  },
  {
   "cell_type": "code",
   "execution_count": null,
   "metadata": {},
   "outputs": [],
   "source": [
    "query =\"\"\"\n",
    "WITH agg_ind2 AS (\n",
    "  SELECT \n",
    "    year, \n",
    "    ind2, \n",
    "    SUM(tso2) as tso2 \n",
    "  FROM environment.china_city_sector_pollution \n",
    "  GROUP BY \n",
    "    year, \n",
    "    ind2\n",
    "  )\n",
    "  SELECT agg_ind2.year, ind2, tso2, pct_75_tso2, avg_tso2, mdn_tso2\n",
    "  FROM agg_ind2\n",
    "  LEFT JOIN (\n",
    "    SELECT\n",
    "  year, approx_percentile(tso2, .75) AS pct_75_tso2, AVG(tso2) AS avg_tso2, approx_percentile(tso2, .50) AS mdn_tso2\n",
    "  FROM agg_ind2 \n",
    "  WHERE tso2 > 0\n",
    "  GROUP BY year  \n",
    "  ORDER BY year\n",
    "    ) as threshold\n",
    "    ON agg_ind2.year = threshold.year\n",
    "    LIMIT 10\n",
    "\"\"\"\n",
    "output = s3.run_query(\n",
    "                    query=query,\n",
    "                    database=DatabaseName,\n",
    "                    s3_output=s3_output_example,\n",
    "    filename = 'example_2'\n",
    "                )\n",
    "output"
   ]
  },
  {
   "cell_type": "markdown",
   "metadata": {},
   "source": [
    "# Table `china_sector_pollution_threshold`\n",
    "\n",
    "Since the table to create has missing value, please use the following at the top of the query\n",
    "\n",
    "CREATE TABLE database.table_name WITH (format = 'PARQUET') AS"
   ]
  },
  {
   "cell_type": "markdown",
   "metadata": {},
   "source": [
    "Choose a location in S3 to save the CSV. It is recommended to save in it the datalake-datascience bucket. Locate an appropriate folder in the bucket, and make sure all output have the same format"
   ]
  },
  {
   "cell_type": "code",
   "execution_count": null,
   "metadata": {},
   "outputs": [],
   "source": [
    "s3_output = 'DATA/ENVIRONMENT/CHINA/SECTOR_POLLUTION_THRESHOLD'\n",
    "table_name = 'china_sector_pollution_threshold'"
   ]
  },
  {
   "cell_type": "markdown",
   "metadata": {},
   "source": [
    "First, we need to delete the table (if exist)"
   ]
  },
  {
   "cell_type": "code",
   "execution_count": null,
   "metadata": {},
   "outputs": [],
   "source": [
    "try:\n",
    "    response = glue.delete_table(\n",
    "        database=DatabaseName,\n",
    "        table=table_name\n",
    "    )\n",
    "    print(response)\n",
    "except Exception as e:\n",
    "    print(e)"
   ]
  },
  {
   "cell_type": "markdown",
   "metadata": {},
   "source": [
    "Clean up the folder with the previous csv file. Be careful, it will erase all files inside the folder"
   ]
  },
  {
   "cell_type": "code",
   "execution_count": null,
   "metadata": {},
   "outputs": [],
   "source": [
    "s3.remove_all_bucket(path_remove = s3_output)"
   ]
  },
  {
   "cell_type": "code",
   "execution_count": null,
   "metadata": {},
   "outputs": [],
   "source": [
    "%%time\n",
    "query = \"\"\"\n",
    "CREATE TABLE {0}.{1} WITH (format = 'PARQUET') AS\n",
    "WITH agg_ind2 AS (\n",
    "  SELECT \n",
    "    year, \n",
    "    ind2, \n",
    "    SUM(tso2) as tso2 \n",
    "  FROM environment.china_city_sector_pollution \n",
    "  GROUP BY \n",
    "    year, \n",
    "    ind2\n",
    ") \n",
    "SELECT \n",
    "  agg_ind2.year, \n",
    "  ind2, \n",
    "  tso2, \n",
    "  pct_50_tso2,\n",
    "  pct_75_tso2, \n",
    "  pct_80_tso2, \n",
    "  pct_85_tso2, \n",
    "  pct_90_tso2,\n",
    "  pct_95_tso2,\n",
    "  avg_tso2, \n",
    "  CASE WHEN tso2 > pct_50_tso2 THEN 'ABOVE' ELSE 'BELOW' END AS polluted_d50i,\n",
    "  CASE WHEN tso2 > pct_75_tso2 THEN 'ABOVE' ELSE 'BELOW' END AS polluted_d75i,\n",
    "  CASE WHEN tso2 > pct_80_tso2 THEN 'ABOVE' ELSE 'BELOW' END AS polluted_d80i,\n",
    "  CASE WHEN tso2 > pct_85_tso2 THEN 'ABOVE' ELSE 'BELOW' END AS polluted_d85i,\n",
    "  CASE WHEN tso2 > pct_90_tso2 THEN 'ABOVE' ELSE 'BELOW' END AS polluted_d90i,\n",
    "  CASE WHEN tso2 > pct_95_tso2 THEN 'ABOVE' ELSE 'BELOW' END AS polluted_d95i,\n",
    "  CASE WHEN tso2 > avg_tso2 THEN 'ABOVE' ELSE 'BELOW' END AS polluted_mi\n",
    "FROM \n",
    "  agg_ind2 \n",
    "  LEFT JOIN (\n",
    "    SELECT \n",
    "      year, \n",
    "      approx_percentile(tso2,.50) AS pct_50_tso2,\n",
    "      approx_percentile(tso2,.75) AS pct_75_tso2, \n",
    "      approx_percentile(tso2,.80) AS pct_80_tso2, \n",
    "      approx_percentile(tso2,.85) AS pct_85_tso2, \n",
    "      approx_percentile(tso2,.90) AS pct_90_tso2,\n",
    "      approx_percentile(tso2,.95) AS pct_95_tso2,\n",
    "      AVG(tso2) AS avg_tso2\n",
    "    FROM \n",
    "      agg_ind2 \n",
    "    WHERE \n",
    "      tso2 > 0 \n",
    "    GROUP BY \n",
    "      year \n",
    "    ORDER BY \n",
    "      year\n",
    "  ) as threshold ON agg_ind2.year = threshold.year \n",
    "  ORDER BY year, ind2\n",
    "\"\"\".format(DatabaseName, table_name)\n",
    "output = s3.run_query(\n",
    "                    query=query,\n",
    "                    database=DatabaseName,\n",
    "                    s3_output=s3_output,\n",
    "                )\n",
    "output"
   ]
  },
  {
   "cell_type": "code",
   "execution_count": null,
   "metadata": {},
   "outputs": [],
   "source": [
    "query_count = \"\"\"\n",
    "SELECT COUNT(*) AS CNT\n",
    "FROM {}.{} \n",
    "\"\"\".format(DatabaseName, table_name)\n",
    "output = s3.run_query(\n",
    "                    query=query_count,\n",
    "                    database=DatabaseName,\n",
    "                    s3_output=s3_output_example,\n",
    "    filename = 'count_{}'.format(table_name)\n",
    "                )\n",
    "output"
   ]
  },
  {
   "cell_type": "markdown",
   "metadata": {},
   "source": [
    "# Validate query\n",
    "\n",
    "This step is mandatory to validate the query in the ETL. If you are not sure about the quality of the query, go to the next step."
   ]
  },
  {
   "cell_type": "markdown",
   "metadata": {},
   "source": [
    "To validate the query, please fillin the json below. Don't forget to change the schema so that the crawler can use it.\n",
    "\n",
    "1. Add a partition key:\n",
    "    - Inform if there is group in the table so that, the parser can compute duplicate\n",
    "2. Add the steps number -> Not automtic yet. Start at 0\n",
    "3. Change the schema if needed. It is highly recommanded to add comment to the fields\n",
    "4. Provide a description -> detail the steps "
   ]
  },
  {
   "cell_type": "markdown",
   "metadata": {},
   "source": [
    "1. Add a partition key"
   ]
  },
  {
   "cell_type": "code",
   "execution_count": null,
   "metadata": {},
   "outputs": [],
   "source": [
    "partition_keys = ['year', 'polluted_d95i']"
   ]
  },
  {
   "cell_type": "markdown",
   "metadata": {},
   "source": [
    "3. Change the schema\n",
    "\n",
    "Bear in mind that CSV SerDe (OpenCSVSerDe) does not support empty fields in columns defined as a numeric data type. All columns with missing values should be saved as string. "
   ]
  },
  {
   "cell_type": "code",
   "execution_count": null,
   "metadata": {},
   "outputs": [],
   "source": [
    "glue.get_table_information(\n",
    "    database = DatabaseName,\n",
    "    table = table_name)['Table']['StorageDescriptor']['Columns']"
   ]
  },
  {
   "cell_type": "code",
   "execution_count": null,
   "metadata": {},
   "outputs": [],
   "source": [
    "schema = [{'Name': 'year', 'Type': 'string', 'Comment': ''},\n",
    " {'Name': 'ind2', 'Type': 'string', 'Comment': ''},\n",
    " {'Name': 'tso2', 'Type': 'bigint', 'Comment': ''},\n",
    " {'Name': 'pct_50_tso2', 'Type': 'bigint', 'Comment': 'Yearly 50th percentile of SO2'},\n",
    " {'Name': 'pct_75_tso2', 'Type': 'bigint', 'Comment': 'Yearly 75th percentile of SO2'},\n",
    " {'Name': 'pct_80_tso2', 'Type': 'bigint', 'Comment': 'Yearly 80th percentile of SO2'},\n",
    " {'Name': 'pct_85_tso2', 'Type': 'bigint', 'Comment': 'Yearly 85th percentile of SO2'},\n",
    " {'Name': 'pct_90_tso2', 'Type': 'bigint', 'Comment': 'Yearly 90th percentile of SO2'},\n",
    " {'Name': 'pct_95_tso2', 'Type': 'bigint', 'Comment': 'Yearly 95th percentile of SO2'},\n",
    " {'Name': 'avg_tso2', 'Type': 'double', 'Comment': 'Yearly average of SO2'},\n",
    " {'Name': 'polluted_d50i', 'Type': 'varchar(5)', 'Comment': 'Sectors with values above Yearly 50th percentile of SO2 label as ABOVE else BELOW'},\n",
    " {'Name': 'polluted_d80i', 'Type': 'varchar(5)', 'Comment': 'Sectors with values above Yearly 80th percentile of SO2 label as ABOVE else BELOW'},\n",
    " {'Name': 'polluted_d85i', 'Type': 'varchar(5)', 'Comment': 'Sectors with values above Yearly 85th percentile of SO2 label as ABOVE else BELOW'}, \n",
    " {'Name': 'polluted_d90i', 'Type': 'varchar(5)', 'Comment': 'Sectors with values above Yearly 90th percentile of SO2 label as ABOVE else BELOW'},\n",
    " {'Name': 'polluted_d95i', 'Type': 'varchar(5)', 'Comment': 'Sectors with values above Yearly 95th percentile of SO2 label as ABOVE else BELOW'},         \n",
    " {'Name': 'polluted_mi', 'Type': 'varchar(5)', 'Comment': 'Sectors with values above Yearly average of SO2 label as ABOVE else BELOW'}]"
   ]
  },
  {
   "cell_type": "markdown",
   "metadata": {},
   "source": [
    "4. Provide a description"
   ]
  },
  {
   "cell_type": "code",
   "execution_count": null,
   "metadata": {},
   "outputs": [],
   "source": [
    "description = \"\"\"\n",
    " Yearly Rank sectors based on SO2 emissionsand label them as ABOVE or BELOW\n",
    "\"\"\""
   ]
  },
  {
   "cell_type": "markdown",
   "metadata": {},
   "source": [
    "3. provide metadata\n",
    "\n",
    "- DatabaseName:\n",
    "- TablePrefix:\n",
    "- input: \n",
    "- notebook name: to indicate\n",
    "- Task ID: from Coda\n",
    "- index_final_table: a list to indicate if the current table is used to prepare the final table(s). If more than one, pass the index. Start at 0\n",
    "- if_final: A boolean. Indicates if the current table is the final table -> the one the model will be used to be trained"
   ]
  },
  {
   "cell_type": "code",
   "execution_count": null,
   "metadata": {},
   "outputs": [],
   "source": [
    "import re\n",
    "name_json = 'parameters_ETL_Financial_dependency_pollution.json'\n",
    "path_json = os.path.join(str(Path(path).parent.parent), 'utils',name_json)"
   ]
  },
  {
   "cell_type": "code",
   "execution_count": null,
   "metadata": {},
   "outputs": [],
   "source": [
    "with open(path_json) as json_file:\n",
    "    parameters = json.load(json_file)"
   ]
  },
  {
   "cell_type": "code",
   "execution_count": null,
   "metadata": {},
   "outputs": [],
   "source": [
    "filename =  \"02_so2_polluted_sectors.ipynb\"\n",
    "index_final_table = [0]\n",
    "if_final = 'False'"
   ]
  },
  {
   "cell_type": "code",
   "execution_count": null,
   "metadata": {},
   "outputs": [],
   "source": [
    "github_url = os.path.join(\n",
    "    \"https://github.com/\",\n",
    "    parameters['GLOBAL']['GITHUB']['owner'],\n",
    "    parameters['GLOBAL']['GITHUB']['repo_name'],\n",
    "    \"blob/master\",\n",
    "    re.sub(parameters['GLOBAL']['GITHUB']['repo_name'],\n",
    "           '', re.sub(\n",
    "               r\".*(?={})\".format(parameters['GLOBAL']['GITHUB']['repo_name'])\n",
    "               , '', path))[1:],\n",
    "    re.sub('.ipynb','.md',filename)\n",
    ")"
   ]
  },
  {
   "cell_type": "markdown",
   "metadata": {},
   "source": [
    "Grab the input name from query"
   ]
  },
  {
   "cell_type": "code",
   "execution_count": null,
   "metadata": {},
   "outputs": [],
   "source": [
    "list_input = []\n",
    "tables = glue.get_tables(full_output = False)\n",
    "regex_matches = re.findall(r'(?=\\.).*?(?=\\s)|(?=\\.\\\").*?(?=\\\")', query)\n",
    "for i in regex_matches:\n",
    "    cleaning = i.lstrip().rstrip().replace('.', '').replace('\"', '')\n",
    "    if cleaning in tables and cleaning != table_name:\n",
    "        list_input.append(cleaning)"
   ]
  },
  {
   "cell_type": "code",
   "execution_count": null,
   "metadata": {},
   "outputs": [],
   "source": [
    "json_etl = {\n",
    "    'description': description,\n",
    "    'query': query,\n",
    "    'schema': schema,\n",
    "    'partition_keys': partition_keys,\n",
    "    'metadata': {\n",
    "        'DatabaseName': DatabaseName,\n",
    "        'TableName': table_name,\n",
    "        'input': list_input,\n",
    "        'target_S3URI': os.path.join('s3://', bucket, s3_output),\n",
    "        'from_athena': 'True',\n",
    "        'filename': filename,\n",
    "        'index_final_table' : index_final_table,\n",
    "        'if_final': if_final,\n",
    "        'github_url':github_url\n",
    "    }\n",
    "}\n",
    "json_etl['metadata']"
   ]
  },
  {
   "cell_type": "markdown",
   "metadata": {},
   "source": [
    "Remove the step number from the current file (if exist)"
   ]
  },
  {
   "cell_type": "code",
   "execution_count": null,
   "metadata": {},
   "outputs": [],
   "source": [
    "index_to_remove = next(\n",
    "                (\n",
    "                    index\n",
    "                    for (index, d) in enumerate(parameters['TABLES']['TRANSFORMATION']['STEPS'])\n",
    "                    if d['metadata']['TableName'] == table_name\n",
    "                ),\n",
    "                None,\n",
    "            )\n",
    "if index_to_remove != None:\n",
    "    parameters['TABLES']['TRANSFORMATION']['STEPS'].pop(index_to_remove)"
   ]
  },
  {
   "cell_type": "code",
   "execution_count": null,
   "metadata": {},
   "outputs": [],
   "source": [
    "parameters['TABLES']['TRANSFORMATION']['STEPS'].append(json_etl)"
   ]
  },
  {
   "cell_type": "code",
   "execution_count": null,
   "metadata": {},
   "outputs": [],
   "source": [
    "print(\"Currently, the ETL has {} tables\".format(len(parameters['TABLES']['TRANSFORMATION']['STEPS'])))"
   ]
  },
  {
   "cell_type": "markdown",
   "metadata": {},
   "source": [
    "Save JSON"
   ]
  },
  {
   "cell_type": "code",
   "execution_count": null,
   "metadata": {},
   "outputs": [],
   "source": [
    "with open(path_json, \"w\") as json_file:\n",
    "    json.dump(parameters, json_file)"
   ]
  },
  {
   "cell_type": "markdown",
   "metadata": {},
   "source": [
    "# Create or update the data catalog\n",
    "\n",
    "The query is saved in the S3 (bucket `datalake-datascience`) but the table is not available yet in the Data Catalog. Use the function `create_table_glue` to generate the table and update the catalog.\n",
    "\n",
    "Few parameters are required:\n",
    "\n",
    "- name_crawler: Name of the crawler\n",
    "- Role: Role to temporary provide an access tho the service\n",
    "- DatabaseName: Name of the database to create the table\n",
    "- TablePrefix: Prefix of the table. Full name of the table will be `TablePrefix` + folder name\n",
    "\n",
    "To update the schema, please use the following structure\n",
    "\n",
    "```\n",
    "schema = [\n",
    "    {\n",
    "        \"Name\": \"VAR1\",\n",
    "        \"Type\": \"\",\n",
    "        \"Comment\": \"\"\n",
    "    },\n",
    "    {\n",
    "        \"Name\": \"VAR2\",\n",
    "        \"Type\": \"\",\n",
    "        \"Comment\": \"\"\n",
    "    }\n",
    "]\n",
    "```"
   ]
  },
  {
   "cell_type": "code",
   "execution_count": null,
   "metadata": {},
   "outputs": [],
   "source": [
    "glue.update_schema_table(\n",
    "    database = DatabaseName,\n",
    "    table = table_name,\n",
    "    schema= schema)"
   ]
  },
  {
   "cell_type": "markdown",
   "metadata": {},
   "source": [
    "## Check Duplicates\n",
    "\n",
    "One of the most important step when creating a table is to check if the table contains duplicates. The cell below checks if the table generated before is empty of duplicates. The code uses the JSON file to create the query parsed in Athena. \n",
    "\n",
    "You are required to define the group(s) that Athena will use to compute the duplicate. For instance, your table can be grouped by COL1 and COL2 (need to be string or varchar), then pass the list ['COL1', 'COL2'] "
   ]
  },
  {
   "cell_type": "code",
   "execution_count": null,
   "metadata": {},
   "outputs": [],
   "source": [
    "partition_keys = ['year', 'ind2']\n",
    "\n",
    "with open(path_json) as json_file:\n",
    "    parameters = json.load(json_file)"
   ]
  },
  {
   "cell_type": "code",
   "execution_count": null,
   "metadata": {},
   "outputs": [],
   "source": [
    "### COUNT DUPLICATES\n",
    "if len(partition_keys) > 0:\n",
    "    groups = ' , '.join(partition_keys)\n",
    "\n",
    "    query_duplicates = parameters[\"ANALYSIS\"]['COUNT_DUPLICATES']['query'].format(\n",
    "                                DatabaseName,table_name,groups\n",
    "                                )\n",
    "    dup = s3.run_query(\n",
    "                                query=query_duplicates,\n",
    "                                database=DatabaseName,\n",
    "                                s3_output=\"SQL_OUTPUT_ATHENA\",\n",
    "                                filename=\"duplicates_{}\".format(table_name))\n",
    "    display(dup)\n"
   ]
  },
  {
   "cell_type": "markdown",
   "metadata": {},
   "source": [
    "## Count missing values"
   ]
  },
  {
   "cell_type": "code",
   "execution_count": null,
   "metadata": {},
   "outputs": [],
   "source": [
    "#table = 'XX'\n",
    "schema = glue.get_table_information(\n",
    "    database = DatabaseName,\n",
    "    table = table_name\n",
    ")['Table']\n",
    "schema"
   ]
  },
  {
   "cell_type": "code",
   "execution_count": null,
   "metadata": {},
   "outputs": [],
   "source": [
    "from datetime import date\n",
    "today = date.today().strftime('%Y%M%d')"
   ]
  },
  {
   "cell_type": "code",
   "execution_count": null,
   "metadata": {},
   "outputs": [],
   "source": [
    "table_top = parameters[\"ANALYSIS\"][\"COUNT_MISSING\"][\"top\"]\n",
    "table_middle = \"\"\n",
    "table_bottom = parameters[\"ANALYSIS\"][\"COUNT_MISSING\"][\"bottom\"].format(\n",
    "    DatabaseName, table_name\n",
    ")\n",
    "\n",
    "for key, value in enumerate(schema[\"StorageDescriptor\"][\"Columns\"]):\n",
    "    if key == len(schema[\"StorageDescriptor\"][\"Columns\"]) - 1:\n",
    "\n",
    "        table_middle += \"{} \".format(\n",
    "            parameters[\"ANALYSIS\"][\"COUNT_MISSING\"][\"middle\"].format(value[\"Name\"])\n",
    "        )\n",
    "    else:\n",
    "        table_middle += \"{} ,\".format(\n",
    "            parameters[\"ANALYSIS\"][\"COUNT_MISSING\"][\"middle\"].format(value[\"Name\"])\n",
    "        )\n",
    "query = table_top + table_middle + table_bottom\n",
    "output = s3.run_query(\n",
    "    query=query,\n",
    "    database=DatabaseName,\n",
    "    s3_output=\"SQL_OUTPUT_ATHENA\",\n",
    "    filename=\"count_missing\",  ## Add filename to print dataframe\n",
    "    destination_key=None,  ### Add destination key if need to copy output\n",
    ")\n",
    "display(\n",
    "    output.T.rename(columns={0: \"total_missing\"})\n",
    "    .assign(total_missing_pct=lambda x: x[\"total_missing\"] / x.iloc[0, 0])\n",
    "    .sort_values(by=[\"total_missing\"], ascending=False)\n",
    "    .style.format(\"{0:,.2%}\", subset=[\"total_missing_pct\"])\n",
    "    .bar(subset=\"total_missing_pct\", color=[\"#d65f5f\"])\n",
    ")"
   ]
  },
  {
   "cell_type": "markdown",
   "metadata": {},
   "source": [
    "# Update Github Data catalog\n",
    "\n",
    "The data catalog is available in Glue. Although, we might want to get a quick access to the tables in Github. In this part, we are generating a `README.md` in the folder `00_data_catalogue`. All tables used in the project will be added to the catalog. We use the ETL parameter file and the schema in Glue to create the README. \n",
    "\n",
    "Bear in mind the code will erase the previous README. "
   ]
  },
  {
   "cell_type": "code",
   "execution_count": null,
   "metadata": {},
   "outputs": [],
   "source": [
    "README = \"\"\"\n",
    "# Data Catalogue\n",
    "\n",
    "{}\n",
    "\n",
    "    \"\"\"\n",
    "\n",
    "top_readme = \"\"\"\n",
    "\n",
    "## Table of Content\n",
    "\n",
    "    \"\"\"\n",
    "\n",
    "template = \"\"\"\n",
    "\n",
    "## Table {0}\n",
    "\n",
    "- Database: {1}\n",
    "- S3uri: `{2}`\n",
    "- Partitition: {3}\n",
    "- Script: {5}\n",
    "\n",
    "{4}\n",
    "\n",
    "    \"\"\"\n",
    "github_link = os.path.join(\"https://github.com/\", parameters['GLOBAL']['GITHUB']['owner'],\n",
    "                           parameters['GLOBAL']['GITHUB']['repo_name'], \"tree/master/00_data_catalogue#table-\")\n",
    "for key, value in parameters['TABLES'].items():\n",
    "    if key == 'CREATION':\n",
    "        param = 'ALL_SCHEMA'\n",
    "    else:\n",
    "        param = 'STEPS'\n",
    "        \n",
    "    for schema in parameters['TABLES'][key][param]:\n",
    "        description = schema['description']\n",
    "        DatabaseName = schema['metadata']['DatabaseName']\n",
    "        target_S3URI = schema['metadata']['target_S3URI']\n",
    "        partition = schema['partition_keys']\n",
    "        script = schema['metadata']['github_url']\n",
    "        if param =='ALL_SCHEMA':\n",
    "            table_name_git = '{}{}'.format(\n",
    "                schema['metadata']['TablePrefix'],\n",
    "                os.path.basename(schema['metadata']['target_S3URI']).lower()\n",
    "            )\n",
    "        else:\n",
    "            try:\n",
    "                table_name_git = schema['metadata']['TableName']\n",
    "            except:\n",
    "                table_name_git = '{}{}'.format(\n",
    "                schema['metadata']['TablePrefix'],\n",
    "                os.path.basename(schema['metadata']['target_S3URI']).lower()\n",
    "            )\n",
    "        \n",
    "        tb = pd.json_normalize(schema['schema']).to_markdown()\n",
    "        toc = \"{}{}\".format(github_link, table_name_git)\n",
    "        top_readme += '\\n- [{0}]({1})'.format(table_name_git, toc)\n",
    "\n",
    "        README += template.format(table_name_git,\n",
    "                                  DatabaseName,\n",
    "                                  target_S3URI,\n",
    "                                  partition,\n",
    "                                  tb,\n",
    "                                  script\n",
    "                                  )\n",
    "README = README.format(top_readme)\n",
    "with open(os.path.join(str(Path(path).parent.parent), '00_data_catalogue/README.md'), \"w\") as outfile:\n",
    "    outfile.write(README)"
   ]
  },
  {
   "cell_type": "markdown",
   "metadata": {},
   "source": [
    "# Generation report"
   ]
  },
  {
   "cell_type": "code",
   "execution_count": null,
   "metadata": {},
   "outputs": [],
   "source": [
    "import os, time, shutil, urllib, ipykernel, json\n",
    "from pathlib import Path\n",
    "from notebook import notebookapp\n",
    "import sys\n",
    "sys.path.append(os.path.join(parent_path, 'utils'))\n",
    "import make_toc\n",
    "import create_schema\n",
    "import os, time, shutil, urllib, ipykernel, json\n",
    "from pathlib import Path\n",
    "from notebook import notebookapp"
   ]
  },
  {
   "cell_type": "code",
   "execution_count": null,
   "metadata": {},
   "outputs": [],
   "source": [
    "def create_report(extension = \"html\", keep_code = False, notebookname = None):\n",
    "    \"\"\"\n",
    "    Create a report from the current notebook and save it in the \n",
    "    Report folder (Parent-> child directory)\n",
    "    \n",
    "    1. Exctract the current notbook name\n",
    "    2. Convert the Notebook \n",
    "    3. Move the newly created report\n",
    "    \n",
    "    Args:\n",
    "    extension: string. Can be \"html\", \"pdf\", \"md\"\n",
    "    \n",
    "    \n",
    "    \"\"\"\n",
    "    \n",
    "    ### Get notebook name\n",
    "    connection_file = os.path.basename(ipykernel.get_connection_file())\n",
    "    kernel_id = connection_file.split('-', 1)[0].split('.')[0]\n",
    "\n",
    "    for srv in notebookapp.list_running_servers():\n",
    "        try:\n",
    "            if srv['token']=='' and not srv['password']:  \n",
    "                req = urllib.request.urlopen(srv['url']+'api/sessions')\n",
    "            else:\n",
    "                req = urllib.request.urlopen(srv['url']+ \\\n",
    "                                             'api/sessions?token=' + \\\n",
    "                                             srv['token'])\n",
    "            sessions = json.load(req)\n",
    "            notebookname = sessions[0]['name']\n",
    "        except:\n",
    "            notebookname = notebookname  \n",
    "    \n",
    "    sep = '.'\n",
    "    path = os.getcwd()\n",
    "    #parent_path = str(Path(path).parent)\n",
    "    \n",
    "    ### Path report\n",
    "    #path_report = \"{}/Reports\".format(parent_path)\n",
    "    #path_report = \"{}/Reports\".format(path)\n",
    "    \n",
    "    ### Path destination\n",
    "    name_no_extension = notebookname.split(sep, 1)[0]\n",
    "    source_to_move = name_no_extension +'.{}'.format(extension)\n",
    "    dest = os.path.join(path,'Reports', source_to_move)\n",
    "    \n",
    "    ### Generate notebook\n",
    "    if keep_code:\n",
    "        os.system('jupyter nbconvert --to {} {}'.format(\n",
    "    extension,notebookname))\n",
    "    else:\n",
    "        os.system('jupyter nbconvert --no-input --to {} {}'.format(\n",
    "    extension,notebookname))\n",
    "    \n",
    "    ### Move notebook to report folder\n",
    "    #time.sleep(5)\n",
    "    shutil.move(source_to_move, dest)\n",
    "    print(\"Report Available at this adress:\\n {}\".format(dest))"
   ]
  },
  {
   "cell_type": "code",
   "execution_count": null,
   "metadata": {},
   "outputs": [],
   "source": [
    "create_report(extension = \"html\", keep_code = True, notebookname =filename)"
   ]
  },
  {
   "cell_type": "code",
   "execution_count": null,
   "metadata": {},
   "outputs": [],
   "source": [
    "create_schema.create_schema(path_json, path_save_image = os.path.join(parent_path, 'utils'))"
   ]
  },
  {
   "cell_type": "code",
   "execution_count": null,
   "metadata": {},
   "outputs": [],
   "source": [
    "### Update TOC in Github\n",
    "for p in [parent_path,\n",
    "          str(Path(path).parent),\n",
    "          os.path.join(str(Path(path).parent), \"00_download_data_from\"),\n",
    "          os.path.join(str(Path(path).parent.parent), \"02_data_analysis\"),\n",
    "          os.path.join(str(Path(path).parent.parent), \"02_data_analysis\", \"00_statistical_exploration\"),\n",
    "          os.path.join(str(Path(path).parent.parent), \"02_data_analysis\", \"01_model_estimation\"),\n",
    "         ]:\n",
    "    try:\n",
    "        os.remove(os.path.join(p, 'README.md'))\n",
    "    except:\n",
    "        pass\n",
    "    path_parameter = os.path.join(parent_path,'utils', name_json)\n",
    "    md_lines =  make_toc.create_index(cwd = p, path_parameter = path_parameter)\n",
    "    md_out_fn = os.path.join(p,'README.md')\n",
    "    \n",
    "    if p == parent_path:\n",
    "    \n",
    "        make_toc.replace_index(md_out_fn, md_lines, Header = os.path.basename(p).replace('_', ' '), add_description = True, path_parameter = path_parameter)\n",
    "    else:\n",
    "        make_toc.replace_index(md_out_fn, md_lines, Header = os.path.basename(p).replace('_', ' '), add_description = False)"
   ]
  }
 ],
 "metadata": {
  "jupytext": {
   "formats": "ipynb,md"
  },
  "kernel_info": {
   "name": "python3"
  },
  "kernelspec": {
   "display_name": "Python 3",
   "language": "python",
   "name": "python3"
  },
  "language_info": {
   "codemirror_mode": {
    "name": "ipython",
    "version": 3
   },
   "file_extension": ".py",
   "mimetype": "text/x-python",
   "name": "python",
   "nbconvert_exporter": "python",
   "pygments_lexer": "ipython3",
   "version": "3.8.5"
  },
  "nteract": {
   "version": "0.22.0"
  },
  "toc": {
   "base_numbering": 1,
   "nav_menu": {},
   "number_sections": true,
   "sideBar": true,
   "skip_h1_title": false,
   "title_cell": "Table of Contents",
   "title_sidebar": "Contents",
   "toc_cell": false,
   "toc_position": {},
   "toc_section_display": true,
   "toc_window_display": false
  }
 },
 "nbformat": 4,
 "nbformat_minor": 4
}
