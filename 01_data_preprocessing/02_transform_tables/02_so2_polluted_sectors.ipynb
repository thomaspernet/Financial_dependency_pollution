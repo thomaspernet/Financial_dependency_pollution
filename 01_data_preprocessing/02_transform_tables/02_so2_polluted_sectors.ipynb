{
 "cells": [
  {
   "cell_type": "markdown",
   "metadata": {
    "lines_to_next_cell": 0
   },
   "source": [
    "# Transform pollution data by constructing polluted sectors (2 digit industry)\n",
    "\n",
    "# Objective(s)\n",
    "\n",
    "**Business needs**\n",
    "\n",
    "Transform pollution data by constructing polluted sectors (aggregate 2 digits industry level)\n",
    "\n",
    "**Description**\n",
    "\n",
    "*Objective*\n",
    "\n",
    "Construct polluted sectors for each year at the CIC 2 digits level. Three ways to compute the split:\n",
    "\n",
    "* Average\n",
    "* Median\n",
    "* Third decile\n",
    "* Using the threshold 68070.78\n",
    "\n",
    "\n",
    "*Construction variables*\n",
    "\n",
    "* polluted_di: If SO2 emission is above third decile, then ABOVE else BELOW, by year-2 digit CIC\n",
    "* polluted_mi: If SO2 emission is above average, then ABOVE else BELOW, by year-2 digit CIC\n",
    "* polluted_mei: If SO2 emission is above median, then ABOVE else BELOW, by year-2 digit CIC\n",
    "* polluted_thre: If SO2 emission is above 68070.78, then ABOVE else BELOW, by year-2 digit CIC\n",
    "\n",
    "*Steps*\n",
    "\n",
    "1. Aggregate by year\n",
    "2. Compute threshold\n",
    "3. Keep value mean, median, third decile\n",
    "\n",
    "*Cautious*\n",
    "\n",
    "* Make sure there is no duplicates\n",
    "\n",
    "**Target**\n",
    "\n",
    "* The file is saved in S3: \n",
    "  * bucket: datalake-datascience \n",
    "  * path: DATA/ENVIRONMENT/CHINA/SECTOR_POLLUTION_THRESHOLD \n",
    "* Glue data catalog should be updated\n",
    "  * database: environment \n",
    "  * table prefix: china_ \n",
    "    * table name (prefix + last folder S3 path): china_sector_pollution_threshold \n",
    "* Analytics (table name)\n",
    "  * HTML:  ANALYTICS/HTML OUTPUT/CHINA_SECTOR_POLLUTION_THRESHOLD \n",
    "  * Notebook:  ANALYTICS/OUTPUT/CHINA_SECTOR_POLLUTION_THRESHOLD \n",
    "\n",
    "# Metadata\n",
    "\n",
    "* Key: cif97iznh63117m\n",
    "* Parent key (for update parent):  \n",
    "* Notebook US Parent (i.e the one to update): \n",
    "https://github.com/thomaspernet/Financial_dependency_pollution/blob/master/01_data_preprocessing/02_transform_tables/02_so2_polluted_sectors.md\n",
    "* Reports: https://htmlpreview.github.io/?https://github.com/thomaspernet/Financial_dependency_pollution/blob/master/01_data_preprocessing/02_transform_tables/Reports/02_so2_polluted_sectors.html\n",
    "* Analytics reports:\n",
    "https://htmlpreview.github.io/?https://github.com/thomaspernet/Financial_dependency_pollution/blob/master/00_data_catalogue/HTML_ANALYSIS/CHINA_SECTOR_POLLUTION_THRESHOLD.html\n",
    "* Epic: Dataset transformation\n",
    "* US: Polluted sectors\n",
    "* Date Begin: 11/30/2020\n",
    "* Duration Task: 0\n",
    "* Description: Transform pollution data by constructing polluted sectors (aggregate 2 digits industry level)\n",
    "* Step type: Transform table\n",
    "* Status: Active\n",
    "* Source URL:  \n",
    "* Task type: Jupyter Notebook\n",
    "* Users: Thomas Pernet\n",
    "* Watchers: Thomas Pernet\n",
    "* User Account: https://468786073381.signin.aws.amazon.com/console\n",
    "* Estimated Log points: 5\n",
    "* Task tag: #pollution,#polluted-sector,#so2\n",
    "* Toggl Tag: #data-transformation\n",
    "* current nb commits: 0\n",
    " * Meetings:  \n",
    "* Presentation:  \n",
    "\n",
    "# Input Cloud Storage [AWS/GCP]\n",
    "\n",
    "## Table/file\n",
    "\n",
    "* Origin: \n",
    "* Athena\n",
    "* Name: \n",
    "* china_city_sector_pollution \n",
    "* Github: \n",
    "  * https://github.com/thomaspernet/Financial_dependency_pollution/blob/master/01_data_preprocessing/00_download_data_from/CITY_SECTOR_POLLUTION/city_sector_pollution.py\n",
    "\n",
    "# Destination Output/Delivery\n",
    "\n",
    "## Table/file\n",
    "\n",
    "* Origin: \n",
    "* S3\n",
    "* Athena\n",
    "* Name:\n",
    "* DATA/ENVIRONMENT/CHINA/SECTOR_POLLUTION_THRESHOLD\n",
    "* china_sector_pollution_threshold\n",
    "* GitHub:\n",
    "* https://github.com/thomaspernet/Financial_dependency_pollution/blob/master/02_data_analysis/01_model_estimation/00_estimate_fin_ratio/00_so2_fin_ratio.md\n",
    "* https://github.com/thomaspernet/Financial_dependency_pollution/blob/master/01_data_preprocessing/02_transform_tables/02_so2_polluted_sectors.md\n",
    "* URL: \n",
    "  * datalake-datascience/DATA/ENVIRONMENT/CHINA/SECTOR_POLLUTION_THRESHOLD\n",
    "* \n",
    "\n",
    "# Knowledge\n",
    "\n",
    "## List of candidates\n",
    "\n",
    "* [Polluted sectors codes from SBC paper](https://github.com/thomaspernet/SBC_pollution_China/blob/master/Data_preprocessing/02_SBC_pollution_China_preprocessing.md)"
   ]
  },
  {
   "cell_type": "code",
   "execution_count": null,
   "metadata": {
    "collapsed": false,
    "inputHidden": false,
    "jupyter": {
     "outputs_hidden": false
    },
    "outputHidden": false
   },
   "outputs": [],
   "source": [
    "from awsPy.aws_authorization import aws_connector\n",
    "from awsPy.aws_s3 import service_s3\n",
    "from awsPy.aws_glue import service_glue\n",
    "from pathlib import Path\n",
    "import pandas as pd\n",
    "import numpy as np\n",
    "import seaborn as sns\n",
    "import os, shutil, json\n",
    "\n",
    "path = os.getcwd()\n",
    "parent_path = str(Path(path).parent.parent)\n",
    "\n",
    "\n",
    "name_credential = 'financial_dep_SO2_accessKeys.csv'\n",
    "region = 'eu-west-3'\n",
    "bucket = 'datalake-datascience'\n",
    "path_cred = \"{0}/creds/{1}\".format(parent_path, name_credential)"
   ]
  },
  {
   "cell_type": "code",
   "execution_count": null,
   "metadata": {
    "collapsed": false,
    "inputHidden": false,
    "jupyter": {
     "outputs_hidden": false
    },
    "outputHidden": false
   },
   "outputs": [],
   "source": [
    "con = aws_connector.aws_instantiate(credential = path_cred,\n",
    "                                       region = region)\n",
    "client= con.client_boto()\n",
    "s3 = service_s3.connect_S3(client = client,\n",
    "                      bucket = bucket, verbose = True) \n",
    "glue = service_glue.connect_glue(client = client) "
   ]
  },
  {
   "cell_type": "code",
   "execution_count": null,
   "metadata": {},
   "outputs": [],
   "source": [
    "pandas_setting = True\n",
    "if pandas_setting:\n",
    "    cm = sns.light_palette(\"green\", as_cmap=True)\n",
    "    pd.set_option('display.max_columns', None)\n",
    "    pd.set_option('display.max_colwidth', None)"
   ]
  },
  {
   "cell_type": "markdown",
   "metadata": {},
   "source": [
    "# Prepare query \n",
    "\n",
    "Write query and save the CSV back in the S3 bucket `datalake-datascience` "
   ]
  },
  {
   "cell_type": "markdown",
   "metadata": {},
   "source": [
    "# Steps"
   ]
  },
  {
   "cell_type": "markdown",
   "metadata": {},
   "source": [
    "## Example step by step"
   ]
  },
  {
   "cell_type": "code",
   "execution_count": null,
   "metadata": {},
   "outputs": [],
   "source": [
    "DatabaseName = ''\n",
    "s3_output_example = 'SQL_OUTPUT_ATHENA'"
   ]
  },
  {
   "cell_type": "code",
   "execution_count": null,
   "metadata": {},
   "outputs": [],
   "source": [
    "query= \"\"\"\n",
    "\n",
    "\"\"\""
   ]
  },
  {
   "cell_type": "code",
   "execution_count": null,
   "metadata": {},
   "outputs": [],
   "source": [
    "output = s3.run_query(\n",
    "                    query=query,\n",
    "                    database=DatabaseName,\n",
    "                    s3_output=s3_output_example,\n",
    "    filename = 'example_1'\n",
    "                )\n",
    "output"
   ]
  },
  {
   "cell_type": "markdown",
   "metadata": {},
   "source": [
    "# Table `china_sector_pallution_threshold`\n"
   ]
  },
  {
   "cell_type": "markdown",
   "metadata": {},
   "source": [
    "Choose a location in S3 to save the CSV. It is recommended to save in it the `datalake-datascience` bucket. Locate an appropriate folder in the bucket, and make sure all output have the same format"
   ]
  },
  {
   "cell_type": "code",
   "execution_count": null,
   "metadata": {},
   "outputs": [],
   "source": [
    "s3_output = ''\n",
    "table_name = ''"
   ]
  },
  {
   "cell_type": "markdown",
   "metadata": {},
   "source": [
    "Clean up the folder with the previous csv file. Be careful, it will erase all files inside the folder"
   ]
  },
  {
   "cell_type": "code",
   "execution_count": null,
   "metadata": {},
   "outputs": [],
   "source": [
    "s3.remove_all_bucket(path_remove = s3_output)"
   ]
  },
  {
   "cell_type": "code",
   "execution_count": null,
   "metadata": {},
   "outputs": [],
   "source": [
    "query = \"\"\"\n",
    "\n",
    "\"\"\"\n",
    "%%time\n",
    "output = s3.run_query(\n",
    "                    query=query,\n",
    "                    database=DatabaseName,\n",
    "                    s3_output=s3_output,\n",
    "                )\n",
    "output"
   ]
  },
  {
   "cell_type": "code",
   "execution_count": null,
   "metadata": {},
   "outputs": [],
   "source": [
    "query_count = \"\"\"\n",
    "SELECT COUNT(*) AS CNT\n",
    "FROM {}.{} \n",
    "\"\"\".format(DatabaseName, table_name)\n",
    "output = s3.run_query(\n",
    "                    query=query_count,\n",
    "                    database=DatabaseName,\n",
    "                    s3_output=s3_output_example,\n",
    "    filename = 'count_{}'.format(table_name)\n",
    "                )\n",
    "output"
   ]
  },
  {
   "cell_type": "markdown",
   "metadata": {},
   "source": [
    "Need to remove the metadata generated by Athena. We remove it to avoid parsing incorrect value with the crawler"
   ]
  },
  {
   "cell_type": "code",
   "execution_count": null,
   "metadata": {},
   "outputs": [],
   "source": [
    "s3.remove_file(key = os.path.join(s3_output, output['QueryID'] + \".csv.metadata\"))"
   ]
  },
  {
   "cell_type": "markdown",
   "metadata": {},
   "source": [
    "# Validate query\n",
    "\n",
    "This step is mandatory to validate the query in the ETL. If you are not sure about the quality of the query, go to the next step."
   ]
  },
  {
   "cell_type": "markdown",
   "metadata": {},
   "source": [
    "To validate the query, please fillin the json below. Don't forget to change the schema so that the crawler can use it.\n",
    "\n",
    "1. Add a partition key:\n",
    "    - Inform if there is group in the table so that, the parser can compute duplicate\n",
    "2. Add the steps number -> Not automtic yet. Start at 0\n",
    "3. Change the schema if needed. It is highly recommanded to add comment to the fields\n",
    "4. Provide a description -> detail the steps "
   ]
  },
  {
   "cell_type": "markdown",
   "metadata": {},
   "source": [
    "1. Add a partition key"
   ]
  },
  {
   "cell_type": "code",
   "execution_count": null,
   "metadata": {},
   "outputs": [],
   "source": [
    "partition_keys = []"
   ]
  },
  {
   "cell_type": "markdown",
   "metadata": {},
   "source": [
    "2. Add the steps number"
   ]
  },
  {
   "cell_type": "code",
   "execution_count": null,
   "metadata": {},
   "outputs": [],
   "source": [
    "step = 0"
   ]
  },
  {
   "cell_type": "markdown",
   "metadata": {},
   "source": [
    "3. Change the schema\n",
    "\n",
    "Bear in mind that CSV SerDe (OpenCSVSerDe) does not support empty fields in columns defined as a numeric data type. All columns with missing values should be saved as string. "
   ]
  },
  {
   "cell_type": "code",
   "execution_count": null,
   "metadata": {},
   "outputs": [],
   "source": [
    "glue.get_table_information(\n",
    "    database = DatabaseName,\n",
    "    table = table_name)['Table']['StorageDescriptor']['Columns']"
   ]
  },
  {
   "cell_type": "code",
   "execution_count": null,
   "metadata": {},
   "outputs": [],
   "source": [
    "schema = [\n",
    "    {\n",
    "        \"Name\": \"VAR1\",\n",
    "        \"Type\": \"\",\n",
    "        \"Comment\": \"\"\n",
    "    },\n",
    "    {\n",
    "        \"Name\": \"VAR2\",\n",
    "        \"Type\": \"\",\n",
    "        \"Comment\": \"\"\n",
    "    }\n",
    "]"
   ]
  },
  {
   "cell_type": "markdown",
   "metadata": {},
   "source": [
    "4. Provide a description"
   ]
  },
  {
   "cell_type": "code",
   "execution_count": null,
   "metadata": {},
   "outputs": [],
   "source": [
    "description = \"\"\"\n",
    "\n",
    "\"\"\""
   ]
  },
  {
   "cell_type": "markdown",
   "metadata": {},
   "source": [
    "5. provide metadata\n",
    "\n",
    "- DatabaseName\n",
    "- TablePrefix\n",
    "- "
   ]
  },
  {
   "cell_type": "code",
   "execution_count": null,
   "metadata": {},
   "outputs": [],
   "source": [
    "DatabaseName = ''\n",
    "TablePrefix = ''"
   ]
  },
  {
   "cell_type": "code",
   "execution_count": null,
   "metadata": {},
   "outputs": [],
   "source": [
    "json_etl = {\n",
    "    'step': 1,\n",
    "    'description':description,\n",
    "    'query':query,\n",
    "    'schema': schema,\n",
    "    'partition_keys':partition_keys,\n",
    "    'metadata':{\n",
    "    'DatabaseName' : DatabaseName,\n",
    "    'TablePrefix' : TablePrefix,\n",
    "    'target_S3URI' : os.path.join('s3://',bucket, s3_output),\n",
    "    'from_athena': 'True'    \n",
    "    }\n",
    "}\n",
    "json_etl"
   ]
  },
  {
   "cell_type": "code",
   "execution_count": null,
   "metadata": {},
   "outputs": [],
   "source": [
    "with open(os.path.join(str(Path(path).parent), 'parameters_ETL_TEMPLATE.json')) as json_file:\n",
    "    parameters = json.load(json_file)"
   ]
  },
  {
   "cell_type": "markdown",
   "metadata": {},
   "source": [
    "Remove the step number from the current file (if exist)"
   ]
  },
  {
   "cell_type": "code",
   "execution_count": null,
   "metadata": {},
   "outputs": [],
   "source": [
    "index_to_remove = next(\n",
    "                (\n",
    "                    index\n",
    "                    for (index, d) in enumerate(parameters['TABLES']['PREPARATION']['STEPS'])\n",
    "                    if d[\"step\"] == step\n",
    "                ),\n",
    "                None,\n",
    "            )\n",
    "if index_to_remove != None:\n",
    "    parameters['TABLES']['PREPARATION']['STEPS'].pop(index_to_remove)"
   ]
  },
  {
   "cell_type": "code",
   "execution_count": null,
   "metadata": {},
   "outputs": [],
   "source": [
    "parameters['TABLES']['PREPARATION']['STEPS'].append(json_etl)"
   ]
  },
  {
   "cell_type": "markdown",
   "metadata": {},
   "source": [
    "Save JSON"
   ]
  },
  {
   "cell_type": "code",
   "execution_count": null,
   "metadata": {},
   "outputs": [],
   "source": [
    "with open(os.path.join(str(Path(path).parent), 'parameters_ETL_TEMPLATE.json'), \"w\")as outfile:\n",
    "    json.dump(parameters, outfile)"
   ]
  },
  {
   "cell_type": "markdown",
   "metadata": {},
   "source": [
    "# Create or update the data catalog\n",
    "\n",
    "The query is saved in the S3 (bucket `datalake-datascience`) but the table is not available yet in the Data Catalog. Use the function `create_table_glue` to generate the table and update the catalog.\n",
    "\n",
    "Few parameters are required:\n",
    "\n",
    "- name_crawler: Name of the crawler\n",
    "- Role: Role to temporary provide an access tho the service\n",
    "- DatabaseName: Name of the database to create the table\n",
    "- TablePrefix: Prefix of the table. Full name of the table will be `TablePrefix` + folder name\n",
    "\n",
    "To update the schema, please use the following structure\n",
    "\n",
    "```\n",
    "schema = [\n",
    "    {\n",
    "        \"Name\": \"VAR1\",\n",
    "        \"Type\": \"\",\n",
    "        \"Comment\": \"\"\n",
    "    },\n",
    "    {\n",
    "        \"Name\": \"VAR2\",\n",
    "        \"Type\": \"\",\n",
    "        \"Comment\": \"\"\n",
    "    }\n",
    "]\n",
    "```"
   ]
  },
  {
   "cell_type": "code",
   "execution_count": null,
   "metadata": {},
   "outputs": [],
   "source": [
    "name_crawler = 'table-test-parser'\n",
    "Role = ''\n",
    "DatabaseName = ''\n",
    "TablePrefix = 'table_test_'"
   ]
  },
  {
   "cell_type": "code",
   "execution_count": null,
   "metadata": {},
   "outputs": [],
   "source": [
    "target_S3URI = os.path.join('s3://',bucket, s3_output)\n",
    "table_name = '{}{}'.format(TablePrefix, os.path.basename(target_S3URI).lower())\n",
    "\n"
   ]
  },
  {
   "cell_type": "code",
   "execution_count": null,
   "metadata": {},
   "outputs": [],
   "source": [
    "glue.create_table_glue(\n",
    "    target_S3URI,\n",
    "    name_crawler,\n",
    "    Role,\n",
    "    DatabaseName,\n",
    "    TablePrefix,\n",
    "    from_athena=True,\n",
    "    update_schema=schema,\n",
    ")"
   ]
  },
  {
   "cell_type": "markdown",
   "metadata": {},
   "source": [
    "## Check Duplicates\n",
    "\n",
    "One of the most important step when creating a table is to check if the table contains duplicates. The cell below checks if the table generated before is empty of duplicates. The code uses the JSON file to create the query parsed in Athena. \n",
    "\n",
    "You are required to define the group(s) that Athena will use to compute the duplicate. For instance, your table can be grouped by COL1 and COL2 (need to be string or varchar), then pass the list ['COL1', 'COL2'] "
   ]
  },
  {
   "cell_type": "code",
   "execution_count": null,
   "metadata": {},
   "outputs": [],
   "source": [
    "partition_keys = []\n",
    "\n",
    "with open(os.path.join(str(Path(path).parent), 'parameters_ETL_TEMPLATE.json')) as json_file:\n",
    "    parameters = json.load(json_file)"
   ]
  },
  {
   "cell_type": "code",
   "execution_count": null,
   "metadata": {},
   "outputs": [],
   "source": [
    "### COUNT DUPLICATES\n",
    "if len(partition_keys) > 0:\n",
    "    groups = ' , '.join(partition_keys)\n",
    "\n",
    "    query_duplicates = parameters[\"ANALYSIS\"]['COUNT_DUPLICATES']['query'].format(\n",
    "                                DatabaseName,table_name,groups\n",
    "                                )\n",
    "    dup = s3.run_query(\n",
    "                                query=query_duplicates,\n",
    "                                database=DatabaseName,\n",
    "                                s3_output=\"SQL_OUTPUT_ATHENA\",\n",
    "                                filename=\"duplicates_{}\".format(table_name))\n",
    "    display(dup)\n"
   ]
  },
  {
   "cell_type": "markdown",
   "metadata": {},
   "source": [
    "## Count missing values"
   ]
  },
  {
   "cell_type": "code",
   "execution_count": null,
   "metadata": {},
   "outputs": [],
   "source": [
    "#table = 'XX'\n",
    "schema = glue.get_table_information(\n",
    "    database = DatabaseName,\n",
    "    table = table_name\n",
    ")['Table']\n",
    "schema"
   ]
  },
  {
   "cell_type": "code",
   "execution_count": null,
   "metadata": {},
   "outputs": [],
   "source": [
    "from datetime import date\n",
    "today = date.today().strftime('%Y%M%d')"
   ]
  },
  {
   "cell_type": "code",
   "execution_count": null,
   "metadata": {},
   "outputs": [],
   "source": [
    "table_top = parameters[\"ANALYSIS\"][\"COUNT_MISSING\"][\"top\"]\n",
    "table_middle = \"\"\n",
    "table_bottom = parameters[\"ANALYSIS\"][\"COUNT_MISSING\"][\"bottom\"].format(\n",
    "    DatabaseName, table_name\n",
    ")\n",
    "\n",
    "for key, value in enumerate(schema[\"StorageDescriptor\"][\"Columns\"]):\n",
    "    if key == len(schema[\"StorageDescriptor\"][\"Columns\"]) - 1:\n",
    "\n",
    "        table_middle += \"{} \".format(\n",
    "            parameters[\"ANALYSIS\"][\"COUNT_MISSING\"][\"middle\"].format(value[\"Name\"])\n",
    "        )\n",
    "    else:\n",
    "        table_middle += \"{} ,\".format(\n",
    "            parameters[\"ANALYSIS\"][\"COUNT_MISSING\"][\"middle\"].format(value[\"Name\"])\n",
    "        )\n",
    "query = table_top + table_middle + table_bottom\n",
    "output = s3.run_query(\n",
    "    query=query,\n",
    "    database=DatabaseName,\n",
    "    s3_output=\"SQL_OUTPUT_ATHENA\",\n",
    "    filename=\"count_missing\",  ## Add filename to print dataframe\n",
    "    destination_key=None,  ### Add destination key if need to copy output\n",
    ")\n",
    "display(\n",
    "    output.T.rename(columns={0: \"total_missing\"})\n",
    "    .assign(total_missing_pct=lambda x: x[\"total_missing\"] / x.iloc[0, 0])\n",
    "    .sort_values(by=[\"total_missing\"], ascending=False)\n",
    "    .style.format(\"{0:,.2%}\", subset=[\"total_missing_pct\"])\n",
    "    .bar(subset=\"total_missing_pct\", color=[\"#d65f5f\"])\n",
    ")"
   ]
  },
  {
   "cell_type": "markdown",
   "metadata": {},
   "source": [
    "# Update Github Data catalog\n",
    "\n",
    "The data catalog is available in Glue. Although, we might want to get a quick access to the tables in Github. In this part, we are generating a `README.md` in the folder `00_data_catalogue`. All tables used in the project will be added to the catalog. We use the ETL parameter file and the schema in Glue to create the README. \n",
    "\n",
    "Bear in mind the code will erase the previous README. "
   ]
  },
  {
   "cell_type": "code",
   "execution_count": null,
   "metadata": {},
   "outputs": [],
   "source": [
    "README = \"\"\"\n",
    "# Data Catalogue\n",
    "\n",
    "{}\n",
    "\n",
    "    \"\"\"\n",
    "\n",
    "top_readme = \"\"\"\n",
    "\n",
    "## Table of Content\n",
    "\n",
    "    \"\"\"\n",
    "\n",
    "template = \"\"\"\n",
    "\n",
    "## Table {0}\n",
    "\n",
    "- Database: {1}\n",
    "- S3uri: `{2}`\n",
    "- Partitition: {3}\n",
    "\n",
    "{4}\n",
    "\n",
    "    \"\"\"\n",
    "github_link = os.path.join(\"https://github.com/\", parameters['GLOBAL']['GITHUB']['owner'],\n",
    "                           parameters['GLOBAL']['GITHUB']['repo_name'], \"tree/master/00_data_catalogue#table-\")\n",
    "for key, value in parameters['TABLES'].items():\n",
    "    if key == 'CREATION':\n",
    "        param = 'ALL_SCHEMA'\n",
    "    else:\n",
    "        param = 'STEPS'\n",
    "        \n",
    "    for schema in parameters['TABLES'][key][param]:\n",
    "        description = schema['description']\n",
    "        DatabaseName = schema['metadata']['DatabaseName']\n",
    "        target_S3URI = schema['metadata']['target_S3URI']\n",
    "        partition = schema['partition_keys']\n",
    "        \n",
    "        if param =='ALL_SCHEMA':\n",
    "            table_name = '{}{}'.format(\n",
    "                schema['metadata']['TablePrefix'],\n",
    "                os.path.basename(schema['metadata']['target_S3URI']).lower()\n",
    "            )\n",
    "        else:\n",
    "            table_name = schema['metadata']['TableName']\n",
    "        \n",
    "        tb = pd.json_normalize(schema['schema']).to_markdown()\n",
    "        toc = \"{}{}\".format(github_link, table_name)\n",
    "        top_readme += '\\n- [{0}]({1})'.format(table_name, toc)\n",
    "\n",
    "        README += template.format(table_name,\n",
    "                                  DatabaseName,\n",
    "                                  target_S3URI,\n",
    "                                  partition,\n",
    "                                  tb\n",
    "                                  )\n",
    "README = README.format(top_readme)\n",
    "with open(os.path.join(str(Path(path).parent.parent), '00_data_catalogue/README.md'), \"w\") as outfile:\n",
    "    outfile.write(README)"
   ]
  },
  {
   "cell_type": "markdown",
   "metadata": {},
   "source": [
    "# Analytics\n",
    "\n",
    "In this part, we are providing basic summary statistic. Since we have created the tables, we can parse the schema in Glue and use our json file to automatically generates the analysis.\n",
    "\n",
    "The cells below execute the job in the key `ANALYSIS`. You need to change the `primary_key` and `secondary_key` "
   ]
  },
  {
   "cell_type": "markdown",
   "metadata": {},
   "source": [
    "For a full analysis of the table, please use the following Lambda function. Be patient, it can takes between 5 to 30 minutes. Times varies according to the number of columns in your dataset.\n",
    "\n",
    "Use the function as follow:\n",
    "\n",
    "- `output_prefix`:  s3://datalake-datascience/ANALYTICS/OUTPUT/TABLE_NAME/\n",
    "- `region`: region where the table is stored\n",
    "- `bucket`: Name of the bucket\n",
    "- `DatabaseName`: Name of the database\n",
    "- `table_name`: Name of the table\n",
    "- `group`: variables name to group to count the duplicates\n",
    "- `primary_key`: Variable name to perform the grouping -> Only one variable for now\n",
    "- `secondary_key`: Variable name to perform the secondary grouping -> Only one variable for now\n",
    "- `proba`: Chi-square analysis probabilitity\n",
    "- `y_var`: Continuous target variables\n",
    "\n",
    "Check the job processing in Sagemaker: https://eu-west-3.console.aws.amazon.com/sagemaker/home?region=eu-west-3#/processing-jobs\n",
    "\n",
    "The notebook is available: https://s3.console.aws.amazon.com/s3/buckets/datalake-datascience?region=eu-west-3&prefix=ANALYTICS/OUTPUT/&showversions=false\n",
    "\n",
    "Please, download the notebook on your local machine, and convert it to HTML:\n",
    "\n",
    "```\n",
    "cd \"/Users/thomas/Downloads/Notebook\"\n",
    "aws s3 cp s3://datalake-datascience/ANALYTICS/OUTPUT/asif_unzip_data_csv/Template_analysis_from_lambda-2020-11-22-08-12-20.ipynb .\n",
    "\n",
    "## convert HTML no code\n",
    "jupyter nbconvert --no-input --to html Template_analysis_from_lambda-2020-11-21-14-30-45.ipynb\n",
    "jupyter nbconvert --to html Template_analysis_from_lambda-2020-11-22-08-12-20.ipynb\n",
    "```\n",
    "\n",
    "Then upload the HTML to: https://s3.console.aws.amazon.com/s3/buckets/datalake-datascience?region=eu-west-3&prefix=ANALYTICS/HTML_OUTPUT/\n",
    "\n",
    "Add a new folder with the table name in upper case"
   ]
  },
  {
   "cell_type": "code",
   "execution_count": null,
   "metadata": {},
   "outputs": [],
   "source": [
    "import boto3\n",
    "\n",
    "key, secret_ = con.load_credential()\n",
    "client_lambda = boto3.client(\n",
    "    'lambda',\n",
    "    aws_access_key_id=key,\n",
    "    aws_secret_access_key=secret_,\n",
    "    region_name = region)"
   ]
  },
  {
   "cell_type": "code",
   "execution_count": null,
   "metadata": {},
   "outputs": [],
   "source": [
    "primary_key = ''\n",
    "secondary_key = ''\n",
    "y_var = ''"
   ]
  },
  {
   "cell_type": "code",
   "execution_count": null,
   "metadata": {},
   "outputs": [],
   "source": [
    "payload = {\n",
    "    \"input_path\": \"s3://datalake-datascience/ANALYTICS/TEMPLATE_NOTEBOOKS/template_analysis_from_lambda.ipynb\",\n",
    "    \"output_prefix\": \"s3://datalake-datascience/ANALYTICS/OUTPUT/{}/\".format(table_name.upper()),\n",
    "    \"parameters\": {\n",
    "        \"region\": \"{}\".format(region),\n",
    "        \"bucket\": \"{}\".format(bucket),\n",
    "        \"DatabaseName\": \"{}\".format(DatabaseName),\n",
    "        \"table_name\": \"{}\".format(table_name),\n",
    "        \"group\": \"{}\".format(','.join(partition_keys)),\n",
    "        \"keys\": \"{},{}\".format(primary_key,secondary_key),\n",
    "        \"y_var\": \"{}\".format(y_var),\n",
    "        \"threshold\":0\n",
    "    },\n",
    "}\n",
    "payload"
   ]
  },
  {
   "cell_type": "code",
   "execution_count": null,
   "metadata": {},
   "outputs": [],
   "source": [
    "response = client_lambda.invoke(\n",
    "    FunctionName='RunNotebook',\n",
    "    InvocationType='RequestResponse',\n",
    "    LogType='Tail',\n",
    "    Payload=json.dumps(payload),\n",
    ")\n",
    "response"
   ]
  },
  {
   "cell_type": "markdown",
   "metadata": {},
   "source": [
    "# Generation report"
   ]
  },
  {
   "cell_type": "code",
   "execution_count": null,
   "metadata": {},
   "outputs": [],
   "source": [
    "import os, time, shutil, urllib, ipykernel, json\n",
    "from pathlib import Path\n",
    "from notebook import notebookapp"
   ]
  },
  {
   "cell_type": "code",
   "execution_count": null,
   "metadata": {},
   "outputs": [],
   "source": [
    "def create_report(extension = \"html\", keep_code = False):\n",
    "    \"\"\"\n",
    "    Create a report from the current notebook and save it in the \n",
    "    Report folder (Parent-> child directory)\n",
    "    \n",
    "    1. Exctract the current notbook name\n",
    "    2. Convert the Notebook \n",
    "    3. Move the newly created report\n",
    "    \n",
    "    Args:\n",
    "    extension: string. Can be \"html\", \"pdf\", \"md\"\n",
    "    \n",
    "    \n",
    "    \"\"\"\n",
    "    \n",
    "    ### Get notebook name\n",
    "    connection_file = os.path.basename(ipykernel.get_connection_file())\n",
    "    kernel_id = connection_file.split('-', 1)[0].split('.')[0]\n",
    "\n",
    "    for srv in notebookapp.list_running_servers():\n",
    "        try:\n",
    "            if srv['token']=='' and not srv['password']:  \n",
    "                req = urllib.request.urlopen(srv['url']+'api/sessions')\n",
    "            else:\n",
    "                req = urllib.request.urlopen(srv['url']+ \\\n",
    "                                             'api/sessions?token=' + \\\n",
    "                                             srv['token'])\n",
    "            sessions = json.load(req)\n",
    "            notebookname = sessions[0]['name']\n",
    "        except:\n",
    "            pass  \n",
    "    \n",
    "    sep = '.'\n",
    "    path = os.getcwd()\n",
    "    #parent_path = str(Path(path).parent)\n",
    "    \n",
    "    ### Path report\n",
    "    #path_report = \"{}/Reports\".format(parent_path)\n",
    "    #path_report = \"{}/Reports\".format(path)\n",
    "    \n",
    "    ### Path destination\n",
    "    name_no_extension = notebookname.split(sep, 1)[0]\n",
    "    source_to_move = name_no_extension +'.{}'.format(extension)\n",
    "    dest = os.path.join(path,'Reports', source_to_move)\n",
    "    \n",
    "    ### Generate notebook\n",
    "    if keep_code:\n",
    "        os.system('jupyter nbconvert --to {} {}'.format(\n",
    "    extension,notebookname))\n",
    "    else:\n",
    "        os.system('jupyter nbconvert --no-input --to {} {}'.format(\n",
    "    extension,notebookname))\n",
    "    \n",
    "    ### Move notebook to report folder\n",
    "    #time.sleep(5)\n",
    "    shutil.move(source_to_move, dest)\n",
    "    print(\"Report Available at this adress:\\n {}\".format(dest))"
   ]
  },
  {
   "cell_type": "code",
   "execution_count": null,
   "metadata": {},
   "outputs": [],
   "source": [
    "create_report(extension = \"html\", keep_code = True)"
   ]
  }
 ],
 "metadata": {
  "jupytext": {
   "formats": "ipynb,md"
  },
  "kernel_info": {
   "name": "python3"
  },
  "kernelspec": {
   "display_name": "Python 3",
   "language": "python",
   "name": "python3"
  },
  "language_info": {
   "codemirror_mode": {
    "name": "ipython",
    "version": 3
   },
   "file_extension": ".py",
   "mimetype": "text/x-python",
   "name": "python",
   "nbconvert_exporter": "python",
   "pygments_lexer": "ipython3",
   "version": "3.7.6"
  },
  "nteract": {
   "version": "0.22.0"
  },
  "toc": {
   "base_numbering": 1,
   "nav_menu": {},
   "number_sections": true,
   "sideBar": true,
   "skip_h1_title": false,
   "title_cell": "Table of Contents",
   "title_sidebar": "Contents",
   "toc_cell": false,
   "toc_position": {},
   "toc_section_display": true,
   "toc_window_display": false
  }
 },
 "nbformat": 4,
 "nbformat_minor": 4
}
