{
 "cells": [
  {
   "cell_type": "markdown",
   "metadata": {
    "kernel": "SoS",
    "lines_to_next_cell": 0
   },
   "source": [
    "# Transform asif firms prepared data by constructing tfp_OP_f (estimate op TFP) to asif tfp firm level\n",
    "\n",
    "# US Name\n",
    "\n",
    "Transform asif firms prepared data by constructing tfp_OP_f (estimate op TFP) to asif tfp firm level \n",
    "\n",
    "# Business needs \n",
    "\n",
    "Transform asif firms prepared data by constructing tfp_OP_f (Estimate TFP using Olley and Pakes approach) to asif tfp firm level \n",
    "\n",
    "## Description\n",
    "### Objective \n",
    "\n",
    "Use existing table asif firms prepared to construct ZZ\n",
    "\n",
    "# Construction variables \n",
    "\n",
    "* tfp_OP_f\n",
    "\n",
    "### Steps \n",
    "\n",
    "1. Remove outliers\n",
    "2. Remove firm with different:\n",
    "  1. ownership, cities and industries over time\n",
    "3. Compute TFP using OP methodology\n",
    "\n",
    "\n",
    "**Cautious**\n",
    "Make sure there is no duplicates\n",
    "\n",
    "# Target\n",
    "\n",
    "* The file is saved in S3:\n",
    "  * bucket: datalake-datascience\n",
    "  * path: DATA/ECON/FIRM_SURVEY/ASIF_CHINA/TRANSFORMED/TFP/FIRM_LEVEL\n",
    "* Glue data catalog should be updated\n",
    "  * database:firms_survey\n",
    "  * Table prefix:asif_tfp_\n",
    "  * table name:asif_tfp_firm_level\n",
    "* Analytics\n",
    "  * HTML: ANALYTICS/HTML_OUTPUT/asif_tfp_firm_level\n",
    "  * Notebook: ANALYTICS/OUTPUT/asif_tfp_firm_level\n",
    "\n",
    "# Metadata\n",
    "\n",
    "* Key: qdy59wtof20713d\n",
    "* Parent key (for update parent):  \n",
    "* Epic: Dataset transformation\n",
    "* US: tfp_computation\n",
    "* Task tag: #tfp,#productivity,#r_instance,#firm\n",
    "* Notebook US Parent (i.e the one to update): \n",
    "https://github.com/thomaspernet/Financial_dependency_pollution/blob/master/01_data_preprocessing/02_transform_tables/05_tfp_computation.md\n",
    "* Reports: https://htmlpreview.github.io/?https://github.com/thomaspernet/Financial_dependency_pollution/blob/master/01_data_preprocessing/02_transform_tables/Reports/05_tfp_computation.html\n",
    "* Analytics reports:\n",
    "https://htmlpreview.github.io/?https://github.com/thomaspernet/Financial_dependency_pollution/blob/master/00_data_catalogue/HTML_ANALYSIS/ASIF_TFP_FIRM_LEVEL.html\n",
    "\n",
    "# Input Cloud Storage [AWS/GCP]\n",
    "\n",
    "## Table/file\n",
    "* Name: \n",
    "* asif_firms_prepared\n",
    "* Github: \n",
    "  * https://github.com/thomaspernet/Financial_dependency_pollution/blob/master/01_data_preprocessing/01_prepare_tables/00_prepare_asif.md\n",
    "\n",
    "# Destination Output/Delivery\n",
    "## Table/file\n",
    "* Name:\n",
    "* asif_tfp_firm_level\n",
    "* GitHub:\n",
    "* https://github.com/thomaspernet/Financial_dependency_pollution/blob/master/01_data_preprocessing/02_transform_tables/05_tfp_computation.md"
   ]
  },
  {
   "cell_type": "code",
   "execution_count": 1,
   "metadata": {
    "collapsed": false,
    "inputHidden": false,
    "jupyter": {
     "outputs_hidden": false
    },
    "kernel": "python3",
    "outputHidden": false
   },
   "outputs": [],
   "source": [
    "from awsPy.aws_authorization import aws_connector\n",
    "from awsPy.aws_s3 import service_s3\n",
    "from awsPy.aws_glue import service_glue\n",
    "from pathlib import Path\n",
    "import pandas as pd\n",
    "#import numpy as np\n",
    "import seaborn as sns\n",
    "import os, shutil, json\n",
    "\n",
    "path = os.getcwd()\n",
    "parent_path = str(Path(path).parent.parent)\n",
    "\n",
    "\n",
    "name_credential = 'financial_dep_SO2_accessKeys.csv'\n",
    "region = 'eu-west-3'\n",
    "bucket = 'datalake-datascience'\n",
    "path_cred = \"{0}/creds/{1}\".format(parent_path, name_credential)"
   ]
  },
  {
   "cell_type": "code",
   "execution_count": 2,
   "metadata": {
    "collapsed": false,
    "inputHidden": false,
    "jupyter": {
     "outputs_hidden": false
    },
    "kernel": "python3",
    "outputHidden": false
   },
   "outputs": [],
   "source": [
    "con = aws_connector.aws_instantiate(credential = path_cred,\n",
    "                                       region = region)\n",
    "client= con.client_boto()\n",
    "s3 = service_s3.connect_S3(client = client,\n",
    "                      bucket = bucket, verbose = True) \n",
    "glue = service_glue.connect_glue(client = client) "
   ]
  },
  {
   "cell_type": "code",
   "execution_count": 3,
   "metadata": {
    "kernel": "python3"
   },
   "outputs": [],
   "source": [
    "pandas_setting = True\n",
    "if pandas_setting:\n",
    "    cm = sns.light_palette(\"green\", as_cmap=True)\n",
    "    pd.set_option('display.max_columns', None)\n",
    "    pd.set_option('display.max_colwidth', None)"
   ]
  },
  {
   "cell_type": "markdown",
   "metadata": {
    "kernel": "SoS"
   },
   "source": [
    "# Prepare query \n",
    "\n",
    "Write query and save the CSV back in the S3 bucket `datalake-datascience` "
   ]
  },
  {
   "cell_type": "markdown",
   "metadata": {
    "kernel": "SoS"
   },
   "source": [
    "# Steps\n",
    "\n",
    "1. Remove outliers: Remove 5 and 95% of the firms's output, employ and captal by year\n",
    "2. Remove when Input >= Output\n",
    "3. Remove firm with different:\n",
    "    - ownership, cities and industries over time\n",
    "\n",
    "Variables needed:\n",
    "\n",
    "- ID: `firm`\n",
    "- year: `year`\n",
    "- Output: `output`\n",
    "- Employement: `employ`\n",
    "- Capital: `captal`\n",
    "- Input: `midput` \n",
    "\n",
    "\n"
   ]
  },
  {
   "cell_type": "markdown",
   "metadata": {
    "kernel": "SoS"
   },
   "source": [
    "## Example step by step"
   ]
  },
  {
   "cell_type": "code",
   "execution_count": 4,
   "metadata": {
    "kernel": "python3"
   },
   "outputs": [],
   "source": [
    "DatabaseName = 'firms_survey'\n",
    "s3_output_example = 'SQL_OUTPUT_ATHENA'"
   ]
  },
  {
   "cell_type": "markdown",
   "metadata": {
    "kernel": "python3"
   },
   "source": [
    "Check all firm ID are digits. "
   ]
  },
  {
   "cell_type": "code",
   "execution_count": 5,
   "metadata": {
    "kernel": "python3"
   },
   "outputs": [
    {
     "data": {
      "text/html": [
       "<div>\n",
       "<style scoped>\n",
       "    .dataframe tbody tr th:only-of-type {\n",
       "        vertical-align: middle;\n",
       "    }\n",
       "\n",
       "    .dataframe tbody tr th {\n",
       "        vertical-align: top;\n",
       "    }\n",
       "\n",
       "    .dataframe thead th {\n",
       "        text-align: right;\n",
       "    }\n",
       "</style>\n",
       "<table border=\"1\" class=\"dataframe\">\n",
       "  <thead>\n",
       "    <tr style=\"text-align: right;\">\n",
       "      <th></th>\n",
       "      <th>test</th>\n",
       "      <th>count</th>\n",
       "    </tr>\n",
       "  </thead>\n",
       "  <tbody>\n",
       "    <tr>\n",
       "      <th>0</th>\n",
       "      <td>False</td>\n",
       "      <td>1893513</td>\n",
       "    </tr>\n",
       "  </tbody>\n",
       "</table>\n",
       "</div>"
      ],
      "text/plain": [
       "    test    count\n",
       "0  False  1893513"
      ]
     },
     "execution_count": 5,
     "metadata": {},
     "output_type": "execute_result"
    }
   ],
   "source": [
    "query= \"\"\"\n",
    "SELECT test, COUNT(test) as count\n",
    "FROM (\n",
    "SELECT regexp_like(firm, '[a-zA-Z]') as test\n",
    "FROM \"firms_survey\".\"asif_firms_prepared\"\n",
    "  )\n",
    "  GROUP BY test\n",
    "\"\"\"\n",
    "output = s3.run_query(\n",
    "                    query=query,\n",
    "                    database=DatabaseName,\n",
    "                    s3_output=s3_output_example,\n",
    "    filename = 'example_1'\n",
    "                )\n",
    "output"
   ]
  },
  {
   "cell_type": "markdown",
   "metadata": {
    "kernel": "python3"
   },
   "source": [
    "Example firm with multiple cities, or ownerships or industries"
   ]
  },
  {
   "cell_type": "code",
   "execution_count": 6,
   "metadata": {
    "kernel": "python3"
   },
   "outputs": [
    {
     "data": {
      "text/html": [
       "<div>\n",
       "<style scoped>\n",
       "    .dataframe tbody tr th:only-of-type {\n",
       "        vertical-align: middle;\n",
       "    }\n",
       "\n",
       "    .dataframe tbody tr th {\n",
       "        vertical-align: top;\n",
       "    }\n",
       "\n",
       "    .dataframe thead th {\n",
       "        text-align: right;\n",
       "    }\n",
       "</style>\n",
       "<table border=\"1\" class=\"dataframe\">\n",
       "  <thead>\n",
       "    <tr style=\"text-align: right;\">\n",
       "      <th></th>\n",
       "      <th>firm</th>\n",
       "      <th>year</th>\n",
       "      <th>output</th>\n",
       "      <th>employ</th>\n",
       "      <th>captal</th>\n",
       "      <th>midput</th>\n",
       "      <th>ownership</th>\n",
       "      <th>geocode4_corr</th>\n",
       "      <th>count_city</th>\n",
       "      <th>count_ownership</th>\n",
       "      <th>count_industry</th>\n",
       "    </tr>\n",
       "  </thead>\n",
       "  <tbody>\n",
       "    <tr>\n",
       "      <th>0</th>\n",
       "      <td>255463</td>\n",
       "      <td>2001</td>\n",
       "      <td>67310</td>\n",
       "      <td>300</td>\n",
       "      <td>81729</td>\n",
       "      <td>37890</td>\n",
       "      <td>PRIVATE</td>\n",
       "      <td>3101</td>\n",
       "      <td>1</td>\n",
       "      <td>2</td>\n",
       "      <td>1</td>\n",
       "    </tr>\n",
       "    <tr>\n",
       "      <th>1</th>\n",
       "      <td>255463</td>\n",
       "      <td>2002</td>\n",
       "      <td>63220</td>\n",
       "      <td>306</td>\n",
       "      <td>81729</td>\n",
       "      <td>37990</td>\n",
       "      <td>PRIVATE</td>\n",
       "      <td>3101</td>\n",
       "      <td>1</td>\n",
       "      <td>2</td>\n",
       "      <td>1</td>\n",
       "    </tr>\n",
       "    <tr>\n",
       "      <th>2</th>\n",
       "      <td>255463</td>\n",
       "      <td>2003</td>\n",
       "      <td>55860</td>\n",
       "      <td>248</td>\n",
       "      <td>81729</td>\n",
       "      <td>52271</td>\n",
       "      <td>PRIVATE</td>\n",
       "      <td>3101</td>\n",
       "      <td>1</td>\n",
       "      <td>2</td>\n",
       "      <td>1</td>\n",
       "    </tr>\n",
       "    <tr>\n",
       "      <th>3</th>\n",
       "      <td>255463</td>\n",
       "      <td>2004</td>\n",
       "      <td>55300</td>\n",
       "      <td>235</td>\n",
       "      <td>30000</td>\n",
       "      <td>32946</td>\n",
       "      <td>COLLECTIVE</td>\n",
       "      <td>3101</td>\n",
       "      <td>1</td>\n",
       "      <td>2</td>\n",
       "      <td>1</td>\n",
       "    </tr>\n",
       "    <tr>\n",
       "      <th>4</th>\n",
       "      <td>255463</td>\n",
       "      <td>2005</td>\n",
       "      <td>47100</td>\n",
       "      <td>268</td>\n",
       "      <td>30000</td>\n",
       "      <td>44500</td>\n",
       "      <td>PRIVATE</td>\n",
       "      <td>3101</td>\n",
       "      <td>1</td>\n",
       "      <td>2</td>\n",
       "      <td>1</td>\n",
       "    </tr>\n",
       "    <tr>\n",
       "      <th>5</th>\n",
       "      <td>255463</td>\n",
       "      <td>2006</td>\n",
       "      <td>41150</td>\n",
       "      <td>261</td>\n",
       "      <td>30000</td>\n",
       "      <td>27299</td>\n",
       "      <td>COLLECTIVE</td>\n",
       "      <td>3101</td>\n",
       "      <td>1</td>\n",
       "      <td>2</td>\n",
       "      <td>1</td>\n",
       "    </tr>\n",
       "    <tr>\n",
       "      <th>6</th>\n",
       "      <td>255463</td>\n",
       "      <td>2007</td>\n",
       "      <td>38050</td>\n",
       "      <td>256</td>\n",
       "      <td>30000</td>\n",
       "      <td>10913</td>\n",
       "      <td>PRIVATE</td>\n",
       "      <td>3101</td>\n",
       "      <td>1</td>\n",
       "      <td>2</td>\n",
       "      <td>1</td>\n",
       "    </tr>\n",
       "  </tbody>\n",
       "</table>\n",
       "</div>"
      ],
      "text/plain": [
       "     firm  year  output  employ  captal  midput   ownership  geocode4_corr  \\\n",
       "0  255463  2001   67310     300   81729   37890     PRIVATE           3101   \n",
       "1  255463  2002   63220     306   81729   37990     PRIVATE           3101   \n",
       "2  255463  2003   55860     248   81729   52271     PRIVATE           3101   \n",
       "3  255463  2004   55300     235   30000   32946  COLLECTIVE           3101   \n",
       "4  255463  2005   47100     268   30000   44500     PRIVATE           3101   \n",
       "5  255463  2006   41150     261   30000   27299  COLLECTIVE           3101   \n",
       "6  255463  2007   38050     256   30000   10913     PRIVATE           3101   \n",
       "\n",
       "   count_city  count_ownership  count_industry  \n",
       "0           1                2               1  \n",
       "1           1                2               1  \n",
       "2           1                2               1  \n",
       "3           1                2               1  \n",
       "4           1                2               1  \n",
       "5           1                2               1  \n",
       "6           1                2               1  "
      ]
     },
     "execution_count": 6,
     "metadata": {},
     "output_type": "execute_result"
    }
   ],
   "source": [
    "query = \"\"\"\n",
    "WITH test as (\n",
    "  SELECT \n",
    "    firm, \n",
    "    asif_firms_prepared.year, \n",
    "    output, \n",
    "    employ, \n",
    "    captal, \n",
    "    midput, \n",
    "    ownership, \n",
    "    geocode4_corr, \n",
    "    cic \n",
    "  FROM \n",
    "    asif_firms_prepared \n",
    "    INNER JOIN (\n",
    "      SELECT \n",
    "        year, \n",
    "        approx_percentile(output,.05) AS output_lower_bound, \n",
    "        approx_percentile(output,.98) AS output_upper_bound, \n",
    "        approx_percentile(employ,.05) AS employ_lower_bound, \n",
    "        approx_percentile(employ,.98) AS employ_upper_bound, \n",
    "        approx_percentile(captal,.05) AS captal_lower_bound, \n",
    "        approx_percentile(captal,.98) AS captal_upper_bound \n",
    "      FROM \n",
    "        \"firms_survey\".\"asif_firms_prepared\" \n",
    "      GROUP BY \n",
    "        year\n",
    "    ) as outliers ON asif_firms_prepared.year = outliers.year \n",
    "    INNER JOIN (\n",
    "      SELECT \n",
    "        extra_code, \n",
    "        geocode4_corr \n",
    "      FROM \n",
    "        chinese_lookup.china_city_code_normalised \n",
    "      GROUP BY \n",
    "        extra_code, \n",
    "        geocode4_corr\n",
    "    ) as no_dup_citycode ON asif_firms_prepared.citycode = no_dup_citycode.extra_code \n",
    "  WHERE \n",
    "    (\n",
    "      output > output_lower_bound \n",
    "      -- AND output < output_upper_bound \n",
    "      AND employ > employ_lower_bound \n",
    "      -- AND employ < employ_upper_bound \n",
    "      AND captal > captal_lower_bound \n",
    "      -- AND output < captal_upper_bound \n",
    "      AND asif_firms_prepared.year >= '2001' \n",
    "      AND asif_firms_prepared.year <= '2007'\n",
    "      AND output > midput \n",
    "      AND midput > 0\n",
    "    )\n",
    ") \n",
    "SELECT \n",
    "  test.firm, \n",
    "  year, \n",
    "  output, \n",
    "  employ, \n",
    "  captal, \n",
    "  midput, \n",
    "  ownership, \n",
    "  geocode4_corr,\n",
    "  count_city,\n",
    "  count_ownership,\n",
    "  count_industry\n",
    "FROM \n",
    "  test \n",
    "  INNER JOIN (\n",
    "    SELECT \n",
    "      firm, \n",
    "      COUNT(\n",
    "        DISTINCT(geocode4_corr)\n",
    "      ) AS count_city \n",
    "    FROM \n",
    "      test \n",
    "    GROUP BY \n",
    "      firm\n",
    "  ) as multi_cities ON test.firm = multi_cities.firm \n",
    "  INNER JOIN (\n",
    "    SELECT \n",
    "      firm, \n",
    "      COUNT(\n",
    "        DISTINCT(ownership)\n",
    "      ) AS count_ownership \n",
    "    FROM \n",
    "      test \n",
    "    GROUP BY \n",
    "      firm\n",
    "  ) as multi_ownership ON test.firm = multi_ownership.firm \n",
    "  INNER JOIN (\n",
    "    SELECT \n",
    "      firm, \n",
    "      COUNT(\n",
    "        DISTINCT(cic)\n",
    "      ) AS count_industry \n",
    "    FROM \n",
    "      test \n",
    "    GROUP BY \n",
    "      firm\n",
    "  ) as multi_industry ON test.firm = multi_industry.firm \n",
    "WHERE \n",
    "  test.firm  = '255463' \n",
    "  ORDER BY year\n",
    "\"\"\"\n",
    "output = s3.run_query(\n",
    "                    query=query,\n",
    "                    database=DatabaseName,\n",
    "                    s3_output=s3_output_example,\n",
    "    filename = 'example_2'\n",
    "                )\n",
    "output"
   ]
  },
  {
   "cell_type": "markdown",
   "metadata": {
    "kernel": "python3"
   },
   "source": [
    "Make sure the number of observations before filtering is higher than after"
   ]
  },
  {
   "cell_type": "code",
   "execution_count": 7,
   "metadata": {
    "kernel": "python3"
   },
   "outputs": [
    {
     "data": {
      "text/html": [
       "<div>\n",
       "<style scoped>\n",
       "    .dataframe tbody tr th:only-of-type {\n",
       "        vertical-align: middle;\n",
       "    }\n",
       "\n",
       "    .dataframe tbody tr th {\n",
       "        vertical-align: top;\n",
       "    }\n",
       "\n",
       "    .dataframe thead th {\n",
       "        text-align: right;\n",
       "    }\n",
       "</style>\n",
       "<table border=\"1\" class=\"dataframe\">\n",
       "  <thead>\n",
       "    <tr style=\"text-align: right;\">\n",
       "      <th></th>\n",
       "      <th>count</th>\n",
       "    </tr>\n",
       "  </thead>\n",
       "  <tbody>\n",
       "    <tr>\n",
       "      <th>0</th>\n",
       "      <td>1234537</td>\n",
       "    </tr>\n",
       "  </tbody>\n",
       "</table>\n",
       "</div>"
      ],
      "text/plain": [
       "     count\n",
       "0  1234537"
      ]
     },
     "execution_count": 7,
     "metadata": {},
     "output_type": "execute_result"
    }
   ],
   "source": [
    "query = \"\"\"\n",
    "WITH test as (\n",
    "  SELECT \n",
    "    firm, \n",
    "    asif_firms_prepared.year, \n",
    "    output, \n",
    "    employ, \n",
    "    captal, \n",
    "    midput, \n",
    "    ownership, \n",
    "    geocode4_corr, \n",
    "    cic \n",
    "  FROM \n",
    "    asif_firms_prepared \n",
    "    INNER JOIN (\n",
    "      SELECT \n",
    "        year, \n",
    "        approx_percentile(output,.05) AS output_lower_bound, \n",
    "        approx_percentile(output,.98) AS output_upper_bound, \n",
    "        approx_percentile(employ,.05) AS employ_lower_bound, \n",
    "        approx_percentile(employ,.98) AS employ_upper_bound, \n",
    "        approx_percentile(captal,.05) AS captal_lower_bound, \n",
    "        approx_percentile(captal,.98) AS captal_upper_bound \n",
    "      FROM \n",
    "        \"firms_survey\".\"asif_firms_prepared\" \n",
    "      GROUP BY \n",
    "        year\n",
    "    ) as outliers ON asif_firms_prepared.year = outliers.year \n",
    "    INNER JOIN (\n",
    "      SELECT \n",
    "        extra_code, \n",
    "        geocode4_corr \n",
    "      FROM \n",
    "        chinese_lookup.china_city_code_normalised \n",
    "      GROUP BY \n",
    "        extra_code, \n",
    "        geocode4_corr\n",
    "    ) as no_dup_citycode ON asif_firms_prepared.citycode = no_dup_citycode.extra_code \n",
    "  WHERE \n",
    "    (\n",
    "      output > output_lower_bound \n",
    "      -- AND output < output_upper_bound \n",
    "      AND employ > employ_lower_bound \n",
    "      -- AND employ < employ_upper_bound \n",
    "      AND captal > captal_lower_bound \n",
    "      -- AND output < captal_upper_bound \n",
    "      AND asif_firms_prepared.year >= '2001' \n",
    "      AND asif_firms_prepared.year <= '2007'\n",
    "      AND output > midput \n",
    "      AND midput > 0\n",
    "    )\n",
    ") \n",
    "SELECT \n",
    "  COUNT(*) as count\n",
    "FROM \n",
    "  test \n",
    "\n",
    "\"\"\"\n",
    "output = s3.run_query(\n",
    "                    query=query,\n",
    "                    database=DatabaseName,\n",
    "                    s3_output=s3_output_example,\n",
    "    filename = 'example_3'\n",
    "                )\n",
    "output"
   ]
  },
  {
   "cell_type": "code",
   "execution_count": 8,
   "metadata": {
    "kernel": "python3"
   },
   "outputs": [
    {
     "data": {
      "text/html": [
       "<div>\n",
       "<style scoped>\n",
       "    .dataframe tbody tr th:only-of-type {\n",
       "        vertical-align: middle;\n",
       "    }\n",
       "\n",
       "    .dataframe tbody tr th {\n",
       "        vertical-align: top;\n",
       "    }\n",
       "\n",
       "    .dataframe thead th {\n",
       "        text-align: right;\n",
       "    }\n",
       "</style>\n",
       "<table border=\"1\" class=\"dataframe\">\n",
       "  <thead>\n",
       "    <tr style=\"text-align: right;\">\n",
       "      <th></th>\n",
       "      <th>count</th>\n",
       "    </tr>\n",
       "  </thead>\n",
       "  <tbody>\n",
       "    <tr>\n",
       "      <th>0</th>\n",
       "      <td>586379</td>\n",
       "    </tr>\n",
       "  </tbody>\n",
       "</table>\n",
       "</div>"
      ],
      "text/plain": [
       "    count\n",
       "0  586379"
      ]
     },
     "execution_count": 8,
     "metadata": {},
     "output_type": "execute_result"
    }
   ],
   "source": [
    "query = \"\"\"\n",
    "WITH test as (\n",
    "  SELECT \n",
    "    firm, \n",
    "    asif_firms_prepared.year, \n",
    "    output, \n",
    "    employ, \n",
    "    captal, \n",
    "    midput, \n",
    "    ownership, \n",
    "    geocode4_corr, \n",
    "    cic \n",
    "  FROM \n",
    "    asif_firms_prepared \n",
    "    INNER JOIN (\n",
    "      SELECT \n",
    "        year, \n",
    "        approx_percentile(output,.05) AS output_lower_bound, \n",
    "        approx_percentile(output,.98) AS output_upper_bound, \n",
    "        approx_percentile(employ,.05) AS employ_lower_bound, \n",
    "        approx_percentile(employ,.98) AS employ_upper_bound, \n",
    "        approx_percentile(captal,.05) AS captal_lower_bound, \n",
    "        approx_percentile(captal,.98) AS captal_upper_bound \n",
    "      FROM \n",
    "        \"firms_survey\".\"asif_firms_prepared\" \n",
    "      GROUP BY \n",
    "        year\n",
    "    ) as outliers ON asif_firms_prepared.year = outliers.year \n",
    "    INNER JOIN (\n",
    "      SELECT \n",
    "        extra_code, \n",
    "        geocode4_corr \n",
    "      FROM \n",
    "        chinese_lookup.china_city_code_normalised \n",
    "      GROUP BY \n",
    "        extra_code, \n",
    "        geocode4_corr\n",
    "    ) as no_dup_citycode ON asif_firms_prepared.citycode = no_dup_citycode.extra_code \n",
    "  WHERE \n",
    "    (\n",
    "      output > output_lower_bound \n",
    "      -- AND output < output_upper_bound \n",
    "      AND employ > employ_lower_bound \n",
    "      -- AND employ < employ_upper_bound \n",
    "      AND captal > captal_lower_bound \n",
    "      -- AND output < captal_upper_bound \n",
    "      AND asif_firms_prepared.year >= '2001' \n",
    "      AND asif_firms_prepared.year <= '2007'\n",
    "      AND output > midput \n",
    "      AND midput > 0\n",
    "    )\n",
    ") \n",
    "SELECT \n",
    "  COUNT(*) AS count \n",
    "FROM \n",
    "  test \n",
    "  INNER JOIN (\n",
    "    SELECT \n",
    "      firm, \n",
    "      COUNT(\n",
    "        DISTINCT(geocode4_corr)\n",
    "      ) AS count_city \n",
    "    FROM \n",
    "      test \n",
    "    GROUP BY \n",
    "      firm\n",
    "  ) as multi_cities ON test.firm = multi_cities.firm \n",
    "  INNER JOIN (\n",
    "    SELECT \n",
    "      firm, \n",
    "      COUNT(\n",
    "        DISTINCT(ownership)\n",
    "      ) AS count_ownership \n",
    "    FROM \n",
    "      test \n",
    "    GROUP BY \n",
    "      firm\n",
    "  ) as multi_ownership ON test.firm = multi_ownership.firm \n",
    "  INNER JOIN (\n",
    "    SELECT \n",
    "      firm, \n",
    "      COUNT(\n",
    "        DISTINCT(cic)\n",
    "      ) AS count_industry \n",
    "    FROM \n",
    "      test \n",
    "    GROUP BY \n",
    "      firm\n",
    "  ) as multi_industry ON test.firm = multi_industry.firm \n",
    "WHERE \n",
    "  count_ownership = 1 \n",
    "  AND count_city = 1 \n",
    "  AND count_industry = 1 \n",
    "\"\"\"\n",
    "output = s3.run_query(\n",
    "                    query=query,\n",
    "                    database=DatabaseName,\n",
    "                    s3_output=s3_output_example,\n",
    "    filename = 'example_4'\n",
    "                )\n",
    "output"
   ]
  },
  {
   "cell_type": "markdown",
   "metadata": {
    "kernel": "python3"
   },
   "source": [
    "Count by year"
   ]
  },
  {
   "cell_type": "code",
   "execution_count": 9,
   "metadata": {
    "kernel": "python3"
   },
   "outputs": [
    {
     "data": {
      "text/html": [
       "<div>\n",
       "<style scoped>\n",
       "    .dataframe tbody tr th:only-of-type {\n",
       "        vertical-align: middle;\n",
       "    }\n",
       "\n",
       "    .dataframe tbody tr th {\n",
       "        vertical-align: top;\n",
       "    }\n",
       "\n",
       "    .dataframe thead th {\n",
       "        text-align: right;\n",
       "    }\n",
       "</style>\n",
       "<table border=\"1\" class=\"dataframe\">\n",
       "  <thead>\n",
       "    <tr style=\"text-align: right;\">\n",
       "      <th></th>\n",
       "      <th>year</th>\n",
       "      <th>count</th>\n",
       "    </tr>\n",
       "  </thead>\n",
       "  <tbody>\n",
       "    <tr>\n",
       "      <th>0</th>\n",
       "      <td>2001</td>\n",
       "      <td>34935</td>\n",
       "    </tr>\n",
       "    <tr>\n",
       "      <th>1</th>\n",
       "      <td>2002</td>\n",
       "      <td>27332</td>\n",
       "    </tr>\n",
       "    <tr>\n",
       "      <th>2</th>\n",
       "      <td>2003</td>\n",
       "      <td>39081</td>\n",
       "    </tr>\n",
       "    <tr>\n",
       "      <th>3</th>\n",
       "      <td>2004</td>\n",
       "      <td>101393</td>\n",
       "    </tr>\n",
       "    <tr>\n",
       "      <th>4</th>\n",
       "      <td>2005</td>\n",
       "      <td>107956</td>\n",
       "    </tr>\n",
       "    <tr>\n",
       "      <th>5</th>\n",
       "      <td>2006</td>\n",
       "      <td>128510</td>\n",
       "    </tr>\n",
       "    <tr>\n",
       "      <th>6</th>\n",
       "      <td>2007</td>\n",
       "      <td>147516</td>\n",
       "    </tr>\n",
       "  </tbody>\n",
       "</table>\n",
       "</div>"
      ],
      "text/plain": [
       "   year   count\n",
       "0  2001   34935\n",
       "1  2002   27332\n",
       "2  2003   39081\n",
       "3  2004  101393\n",
       "4  2005  107956\n",
       "5  2006  128510\n",
       "6  2007  147516"
      ]
     },
     "execution_count": 9,
     "metadata": {},
     "output_type": "execute_result"
    }
   ],
   "source": [
    "query =\"\"\"\n",
    "WITH test as ( \n",
    "  SELECT \n",
    "firm,\n",
    "asif_firms_prepared.year, \n",
    "output,\n",
    "employ,\n",
    "captal,\n",
    "midput,\n",
    "ownership,\n",
    "geocode4_corr,cic\n",
    "FROM asif_firms_prepared \n",
    "INNER JOIN (\n",
    "SELECT year,\n",
    "approx_percentile(output, .05) AS output_lower_bound,\n",
    "approx_percentile(output, .98) AS output_upper_bound,\n",
    "approx_percentile(employ, .05) AS employ_lower_bound,\n",
    "approx_percentile(employ, .98) AS employ_upper_bound,\n",
    "approx_percentile(captal, .05) AS captal_lower_bound,\n",
    "approx_percentile(captal, .98) AS captal_upper_bound\n",
    "FROM \"firms_survey\".\"asif_firms_prepared\"\n",
    "GROUP BY year\n",
    "  ) as outliers \n",
    "  ON asif_firms_prepared.year = outliers.year\n",
    "INNER JOIN (\n",
    "            SELECT \n",
    "              extra_code, \n",
    "              geocode4_corr \n",
    "            FROM \n",
    "              chinese_lookup.china_city_code_normalised \n",
    "            GROUP BY \n",
    "              extra_code, \n",
    "              geocode4_corr\n",
    "          ) as no_dup_citycode ON asif_firms_prepared.citycode = no_dup_citycode.extra_code\n",
    "WHERE (\n",
    "  output > output_lower_bound \n",
    "      -- AND output < output_upper_bound \n",
    "      AND employ > employ_lower_bound \n",
    "      -- AND employ < employ_upper_bound \n",
    "      AND captal > captal_lower_bound \n",
    "      -- AND output < captal_upper_bound \n",
    "      AND asif_firms_prepared.year >= '2001' \n",
    "      AND asif_firms_prepared.year <= '2007'\n",
    "      AND output > midput \n",
    "      AND midput > 0\n",
    "  )\n",
    "  )\n",
    "  SELECT \n",
    "  year, COUNT(*) as count\n",
    "  FROM test\n",
    "  INNER JOIN (\n",
    "  SELECT firm,COUNT(DISTINCT(geocode4_corr)) AS count_city\n",
    "  FROM test\n",
    "  GROUP BY firm \n",
    "    ) as multi_cities\n",
    "    ON test.firm = multi_cities.firm \n",
    "  INNER JOIN (\n",
    "  SELECT firm, COUNT(DISTINCT(ownership)) AS count_ownership\n",
    "  FROM test\n",
    "  GROUP BY firm  \n",
    "    ) as multi_ownership\n",
    "    ON test.firm = multi_ownership.firm\n",
    "  INNER JOIN (\n",
    "  SELECT firm, COUNT(DISTINCT(cic)) AS count_industry\n",
    "  FROM test\n",
    "  GROUP BY firm  \n",
    "    ) as multi_industry\n",
    "  ON test.firm = multi_industry.firm\n",
    "WHERE \n",
    "  count_ownership = 1 \n",
    "  AND count_city = 1 \n",
    "  AND count_industry = 1\n",
    " GROUP BY year\n",
    " ORDER BY year\n",
    "\n",
    "\"\"\"\n",
    "output = s3.run_query(\n",
    "                    query=query,\n",
    "                    database=DatabaseName,\n",
    "                    s3_output=s3_output_example,\n",
    "    filename = 'example_5'\n",
    "                )\n",
    "output"
   ]
  },
  {
   "cell_type": "markdown",
   "metadata": {
    "kernel": "SoS"
   },
   "source": [
    "# Table `asif_tfp_firm_level`\n"
   ]
  },
  {
   "cell_type": "markdown",
   "metadata": {
    "kernel": "SoS"
   },
   "source": [
    "By default, the query saves the data in `SQL_OUTPUT_ATHENA/CSV`, however, please paste the S3 key where the table transformed by R should be saved. "
   ]
  },
  {
   "cell_type": "code",
   "execution_count": 10,
   "metadata": {
    "kernel": "python3"
   },
   "outputs": [],
   "source": [
    "s3_output = 'DATA/ECON/FIRM_SURVEY/ASIF_CHINA/TRANSFORMED/TFP/FIRM_LEVEL'\n",
    "table_name = 'asif_tfp_firm_level'\n",
    "\n",
    "LOCAL_PATH_CONFIG_FILE = os.path.join(str(Path(path).parent.parent),\n",
    "                                      '00_data_catalogue',\n",
    "                                      'temporary_local_data'\n",
    "                                      )\n",
    "\n",
    "path_temporary_file_out = os.path.join(str(Path(path).parent.parent),\n",
    "                                      '00_data_catalogue',\n",
    "                                      'temporary_local_data',\n",
    "                                   table_name + \".csv\"\n",
    "                                      )"
   ]
  },
  {
   "cell_type": "markdown",
   "metadata": {
    "kernel": "SoS"
   },
   "source": [
    "Clean up the folder with the previous csv file. Be careful, it will erase all files inside the folder"
   ]
  },
  {
   "cell_type": "code",
   "execution_count": 11,
   "metadata": {
    "kernel": "python3"
   },
   "outputs": [
    {
     "data": {
      "text/plain": [
       "True"
      ]
     },
     "execution_count": 11,
     "metadata": {},
     "output_type": "execute_result"
    }
   ],
   "source": [
    "s3.remove_all_bucket(path_remove = s3_output)"
   ]
  },
  {
   "cell_type": "code",
   "execution_count": 12,
   "metadata": {
    "kernel": "python3"
   },
   "outputs": [
    {
     "data": {
      "text/plain": [
       "{'Results': {'State': 'SUCCEEDED',\n",
       "  'SubmissionDateTime': datetime.datetime(2021, 1, 23, 5, 2, 38, 105000, tzinfo=tzlocal()),\n",
       "  'CompletionDateTime': datetime.datetime(2021, 1, 23, 5, 2, 44, 433000, tzinfo=tzlocal())},\n",
       " 'QueryID': '19f8af72-dc4d-4bb0-84ec-80a402ff5882'}"
      ]
     },
     "execution_count": 12,
     "metadata": {},
     "output_type": "execute_result"
    }
   ],
   "source": [
    "query = \"\"\"\n",
    "WITH test as (\n",
    "  SELECT \n",
    "    firm, \n",
    "    asif_firms_prepared.year, \n",
    "    output, \n",
    "    employ, \n",
    "    captal, \n",
    "    midput, \n",
    "    ownership, \n",
    "    geocode4_corr, \n",
    "    cic,\n",
    "    CASE WHEN LENGTH(cic) = 4 THEN substr(cic, 1, 2) ELSE concat(\n",
    "            '0', \n",
    "            substr(cic, 1, 1)\n",
    "          ) END AS indu_2,\n",
    "          output_upper_bound,\n",
    "  employ_upper_bound,\n",
    "  captal_upper_bound\n",
    "  FROM \n",
    "    asif_firms_prepared \n",
    "    INNER JOIN (\n",
    "      SELECT \n",
    "        year, \n",
    "        approx_percentile(output,.05) AS output_lower_bound, \n",
    "        approx_percentile(output,.98) AS output_upper_bound, \n",
    "        approx_percentile(employ,.05) AS employ_lower_bound, \n",
    "        approx_percentile(employ,.98) AS employ_upper_bound, \n",
    "        approx_percentile(captal,.05) AS captal_lower_bound, \n",
    "        approx_percentile(captal,.98) AS captal_upper_bound \n",
    "      FROM \n",
    "        \"firms_survey\".\"asif_firms_prepared\" \n",
    "      GROUP BY \n",
    "        year\n",
    "    ) as outliers ON asif_firms_prepared.year = outliers.year \n",
    "    INNER JOIN (\n",
    "      SELECT \n",
    "        extra_code, \n",
    "        geocode4_corr \n",
    "      FROM \n",
    "        chinese_lookup.china_city_code_normalised \n",
    "      GROUP BY \n",
    "        extra_code, \n",
    "        geocode4_corr\n",
    "    ) as no_dup_citycode ON asif_firms_prepared.citycode = no_dup_citycode.extra_code \n",
    "  WHERE \n",
    "    (\n",
    "      output > output_lower_bound \n",
    "      -- AND output < output_upper_bound \n",
    "      AND employ > employ_lower_bound \n",
    "      -- AND employ < employ_upper_bound \n",
    "      AND captal > captal_lower_bound \n",
    "      -- AND output < captal_upper_bound \n",
    "      AND asif_firms_prepared.year >= '2001' \n",
    "      AND asif_firms_prepared.year <= '2007'\n",
    "      AND output > midput \n",
    "      AND midput > 0\n",
    "    )\n",
    ") \n",
    "SELECT \n",
    "  test.firm, \n",
    "  year, \n",
    "  output, \n",
    "  employ, \n",
    "  captal, \n",
    "  midput, \n",
    "  ownership, \n",
    "  geocode4_corr,\n",
    "  indu_2,\n",
    "  output_upper_bound,\n",
    "  employ_upper_bound,\n",
    "  captal_upper_bound\n",
    "\n",
    "FROM \n",
    "  test \n",
    "  INNER JOIN (\n",
    "    SELECT \n",
    "      firm, \n",
    "      COUNT(\n",
    "        DISTINCT(geocode4_corr)\n",
    "      ) AS count_city \n",
    "    FROM \n",
    "      test \n",
    "    GROUP BY \n",
    "      firm\n",
    "  ) as multi_cities ON test.firm = multi_cities.firm \n",
    "  INNER JOIN (\n",
    "    SELECT \n",
    "      firm, \n",
    "      COUNT(\n",
    "        DISTINCT(ownership)\n",
    "      ) AS count_ownership \n",
    "    FROM \n",
    "      test \n",
    "    GROUP BY \n",
    "      firm\n",
    "  ) as multi_ownership ON test.firm = multi_ownership.firm \n",
    "  INNER JOIN (\n",
    "    SELECT \n",
    "      firm, \n",
    "      COUNT(\n",
    "        DISTINCT(cic)\n",
    "      ) AS count_industry \n",
    "    FROM \n",
    "      test \n",
    "    GROUP BY \n",
    "      firm\n",
    "  ) as multi_industry ON test.firm = multi_industry.firm \n",
    "WHERE \n",
    "  count_ownership = 1 \n",
    "  AND count_city = 1 \n",
    "  AND count_industry = 1 \n",
    "\"\"\"\n",
    "\n",
    "output = s3.run_query(\n",
    "                    query=query,\n",
    "                    database=DatabaseName,\n",
    "                    s3_output='SQL_OUTPUT_ATHENA/CSV'\n",
    "                )\n",
    "output"
   ]
  },
  {
   "cell_type": "markdown",
   "metadata": {
    "kernel": "SoS"
   },
   "source": [
    "Need to load the data to the instance"
   ]
  },
  {
   "cell_type": "code",
   "execution_count": 13,
   "metadata": {
    "kernel": "python3"
   },
   "outputs": [],
   "source": [
    "s3.download_file(\n",
    "    key = os.path.join('SQL_OUTPUT_ATHENA/CSV', output['QueryID'] + \".csv\"),\n",
    "    path_local = LOCAL_PATH_CONFIG_FILE\n",
    ")\n",
    "os.rename(\n",
    "    os.path.join(LOCAL_PATH_CONFIG_FILE,output['QueryID']+'.csv'),\n",
    "    os.path.join(LOCAL_PATH_CONFIG_FILE,'temporary_file.csv'))"
   ]
  },
  {
   "cell_type": "markdown",
   "metadata": {
    "kernel": "SoS"
   },
   "source": [
    "Load the data in the instance, and open it using R. **DONT FORGET TO WRITE AGAIN THE TABLE NAME**"
   ]
  },
  {
   "cell_type": "code",
   "execution_count": 14,
   "metadata": {
    "kernel": "SoS"
   },
   "outputs": [],
   "source": [
    "from pathlib import Path\n",
    "import os\n",
    "table_name = \"asif_tfp_firm_level\"\n",
    "\n",
    "path = os.getcwd()\n",
    "path_temporary_file = os.path.join(str(Path(path).parent.parent),\n",
    "                                      '00_data_catalogue',\n",
    "                                      'temporary_local_data',\n",
    "                                   'temporary_file.csv'\n",
    "                                      )\n",
    "path_temporary_file_out = os.path.join(str(Path(path).parent.parent),\n",
    "                                      '00_data_catalogue',\n",
    "                                      'temporary_local_data',\n",
    "                                   table_name + \".csv\"\n",
    "                                      )"
   ]
  },
  {
   "cell_type": "code",
   "execution_count": 15,
   "metadata": {
    "kernel": "R"
   },
   "outputs": [
    {
     "name": "stderr",
     "output_type": "stream",
     "text": [
      "Registered S3 methods overwritten by 'ggplot2':\n",
      "  method         from \n",
      "  [.quosures     rlang\n",
      "  c.quosures     rlang\n",
      "  print.quosures rlang\n",
      "Registered S3 method overwritten by 'rvest':\n",
      "  method            from\n",
      "  read_xml.response xml2\n",
      "── Attaching packages ─────────────────────────────────────── tidyverse 1.2.1 ──\n",
      "✔ ggplot2 3.1.1       ✔ purrr   0.3.2  \n",
      "✔ tibble  2.1.1       ✔ dplyr   0.8.0.1\n",
      "✔ tidyr   0.8.3       ✔ stringr 1.4.0  \n",
      "✔ readr   1.3.1       ✔ forcats 0.4.0  \n",
      "── Conflicts ────────────────────────────────────────── tidyverse_conflicts() ──\n",
      "✖ dplyr::filter() masks stats::filter()\n",
      "✖ dplyr::lag()    masks stats::lag()\n"
     ]
    }
   ],
   "source": [
    "options(warn=-1)\n",
    "library(tidyverse)"
   ]
  },
  {
   "cell_type": "code",
   "execution_count": 16,
   "metadata": {
    "kernel": "R"
   },
   "outputs": [
    {
     "name": "stderr",
     "output_type": "stream",
     "text": [
      "Parsed with column specification:\n",
      "cols(\n",
      "  firm = col_double(),\n",
      "  year = col_double(),\n",
      "  output = col_double(),\n",
      "  employ = col_double(),\n",
      "  captal = col_double(),\n",
      "  midput = col_double(),\n",
      "  ownership = col_character(),\n",
      "  geocode4_corr = col_double(),\n",
      "  indu_2 = col_character(),\n",
      "  output_upper_bound = col_double(),\n",
      "  employ_upper_bound = col_double(),\n",
      "  captal_upper_bound = col_double()\n",
      ")\n"
     ]
    },
    {
     "data": {
      "text/html": [
       "<table>\n",
       "<thead><tr><th scope=col>firm</th><th scope=col>year</th><th scope=col>output</th><th scope=col>employ</th><th scope=col>captal</th><th scope=col>midput</th><th scope=col>ownership</th><th scope=col>geocode4_corr</th><th scope=col>indu_2</th><th scope=col>output_upper_bound</th><th scope=col>employ_upper_bound</th><th scope=col>captal_upper_bound</th></tr></thead>\n",
       "<tbody>\n",
       "\t<tr><td>281611 </td><td>2003   </td><td>47675  </td><td>371    </td><td> 3000  </td><td>37624  </td><td>PRIVATE</td><td>3712   </td><td>23     </td><td>491519 </td><td>1919   </td><td>151551 </td></tr>\n",
       "\t<tr><td>275073 </td><td>2003   </td><td> 6104  </td><td>150    </td><td> 3600  </td><td> 4787  </td><td>PRIVATE</td><td>3505   </td><td>31     </td><td>491519 </td><td>1919   </td><td>151551 </td></tr>\n",
       "\t<tr><td>358098 </td><td>2003   </td><td> 5500  </td><td>200    </td><td> 3200  </td><td> 3493  </td><td>PRIVATE</td><td>3505   </td><td>31     </td><td>491519 </td><td>1919   </td><td>151551 </td></tr>\n",
       "\t<tr><td>354023 </td><td>2003   </td><td>33250  </td><td>124    </td><td>21416  </td><td>24605  </td><td>PRIVATE</td><td>3301   </td><td>23     </td><td>491519 </td><td>1919   </td><td>151551 </td></tr>\n",
       "\t<tr><td>170614 </td><td>2003   </td><td>18980  </td><td> 30    </td><td> 3000  </td><td>13244  </td><td>PRIVATE</td><td>3604   </td><td>23     </td><td>491519 </td><td>1919   </td><td>151551 </td></tr>\n",
       "\t<tr><td>273534 </td><td>2003   </td><td> 5030  </td><td> 42    </td><td> 1000  </td><td> 4066  </td><td>PRIVATE</td><td>3414   </td><td>14     </td><td>491519 </td><td>1919   </td><td>151551 </td></tr>\n",
       "</tbody>\n",
       "</table>\n"
      ],
      "text/latex": [
       "\\begin{tabular}{r|llllllllllll}\n",
       " firm & year & output & employ & captal & midput & ownership & geocode4\\_corr & indu\\_2 & output\\_upper\\_bound & employ\\_upper\\_bound & captal\\_upper\\_bound\\\\\n",
       "\\hline\n",
       "\t 281611  & 2003    & 47675   & 371     &  3000   & 37624   & PRIVATE & 3712    & 23      & 491519  & 1919    & 151551 \\\\\n",
       "\t 275073  & 2003    &  6104   & 150     &  3600   &  4787   & PRIVATE & 3505    & 31      & 491519  & 1919    & 151551 \\\\\n",
       "\t 358098  & 2003    &  5500   & 200     &  3200   &  3493   & PRIVATE & 3505    & 31      & 491519  & 1919    & 151551 \\\\\n",
       "\t 354023  & 2003    & 33250   & 124     & 21416   & 24605   & PRIVATE & 3301    & 23      & 491519  & 1919    & 151551 \\\\\n",
       "\t 170614  & 2003    & 18980   &  30     &  3000   & 13244   & PRIVATE & 3604    & 23      & 491519  & 1919    & 151551 \\\\\n",
       "\t 273534  & 2003    &  5030   &  42     &  1000   &  4066   & PRIVATE & 3414    & 14      & 491519  & 1919    & 151551 \\\\\n",
       "\\end{tabular}\n"
      ],
      "text/markdown": [
       "\n",
       "| firm | year | output | employ | captal | midput | ownership | geocode4_corr | indu_2 | output_upper_bound | employ_upper_bound | captal_upper_bound |\n",
       "|---|---|---|---|---|---|---|---|---|---|---|---|\n",
       "| 281611  | 2003    | 47675   | 371     |  3000   | 37624   | PRIVATE | 3712    | 23      | 491519  | 1919    | 151551  |\n",
       "| 275073  | 2003    |  6104   | 150     |  3600   |  4787   | PRIVATE | 3505    | 31      | 491519  | 1919    | 151551  |\n",
       "| 358098  | 2003    |  5500   | 200     |  3200   |  3493   | PRIVATE | 3505    | 31      | 491519  | 1919    | 151551  |\n",
       "| 354023  | 2003    | 33250   | 124     | 21416   | 24605   | PRIVATE | 3301    | 23      | 491519  | 1919    | 151551  |\n",
       "| 170614  | 2003    | 18980   |  30     |  3000   | 13244   | PRIVATE | 3604    | 23      | 491519  | 1919    | 151551  |\n",
       "| 273534  | 2003    |  5030   |  42     |  1000   |  4066   | PRIVATE | 3414    | 14      | 491519  | 1919    | 151551  |\n",
       "\n"
      ],
      "text/plain": [
       "  firm   year output employ captal midput ownership geocode4_corr indu_2\n",
       "1 281611 2003 47675  371     3000  37624  PRIVATE   3712          23    \n",
       "2 275073 2003  6104  150     3600   4787  PRIVATE   3505          31    \n",
       "3 358098 2003  5500  200     3200   3493  PRIVATE   3505          31    \n",
       "4 354023 2003 33250  124    21416  24605  PRIVATE   3301          23    \n",
       "5 170614 2003 18980   30     3000  13244  PRIVATE   3604          23    \n",
       "6 273534 2003  5030   42     1000   4066  PRIVATE   3414          14    \n",
       "  output_upper_bound employ_upper_bound captal_upper_bound\n",
       "1 491519             1919               151551            \n",
       "2 491519             1919               151551            \n",
       "3 491519             1919               151551            \n",
       "4 491519             1919               151551            \n",
       "5 491519             1919               151551            \n",
       "6 491519             1919               151551            "
      ]
     },
     "metadata": {},
     "output_type": "display_data"
    }
   ],
   "source": [
    "%get path_temporary_file\n",
    "df_input <- read_csv(path_temporary_file) \n",
    "df_input %>% head()"
   ]
  },
  {
   "cell_type": "markdown",
   "metadata": {
    "kernel": "R"
   },
   "source": [
    "Prepare R code for transformation, rename the final table `df_output`. Make sure there is no missing values, the crawler cannot handle missing values, neither any econometrics or machine learning model"
   ]
  },
  {
   "cell_type": "markdown",
   "metadata": {
    "kernel": "R"
   },
   "source": [
    "Note that, we change the program to make sure we can use it within our environment. The original file can be found here https://github.com/GabrieleRovigatti/prodest/tree/master/prodest/R\n",
    "\n",
    "We bring together the file https://github.com/GabrieleRovigatti/prodest/blob/master/prodest/R/auxFun.R and https://github.com/GabrieleRovigatti/prodest/blob/master/prodest/R/prodestOPLP.R. We change a few lines of codes to avoid issue with the data preparation. "
   ]
  },
  {
   "cell_type": "code",
   "execution_count": 17,
   "metadata": {
    "kernel": "R"
   },
   "outputs": [],
   "source": [
    "path = \"TFP_R_PROGRAM/program_OP_TFP.R\"\n",
    "source(path)"
   ]
  },
  {
   "cell_type": "markdown",
   "metadata": {
    "kernel": "R"
   },
   "source": [
    "Estimate TFP excluding largest firms"
   ]
  },
  {
   "cell_type": "code",
   "execution_count": 18,
   "metadata": {
    "kernel": "R"
   },
   "outputs": [
    {
     "data": {
      "text/html": [
       "<ol class=list-inline>\n",
       "\t<li>558494</li>\n",
       "\t<li>13</li>\n",
       "</ol>\n"
      ],
      "text/latex": [
       "\\begin{enumerate*}\n",
       "\\item 558494\n",
       "\\item 13\n",
       "\\end{enumerate*}\n"
      ],
      "text/markdown": [
       "1. 558494\n",
       "2. 13\n",
       "\n",
       "\n"
      ],
      "text/plain": [
       "[1] 558494     13"
      ]
     },
     "metadata": {},
     "output_type": "display_data"
    }
   ],
   "source": [
    "df_train <- df_input %>% filter(\n",
    "    output < output_upper_bound \n",
    "    & \n",
    "employ < employ_upper_bound\n",
    "& \n",
    "captal < captal_upper_bound)\n",
    "df_train$id_1 <- df_train %>% group_indices(firm) \n",
    "dim(df_train)"
   ]
  },
  {
   "cell_type": "code",
   "execution_count": 19,
   "metadata": {
    "kernel": "python3"
   },
   "outputs": [],
   "source": [
    "import time\n",
    "start_time = time.time()"
   ]
  },
  {
   "cell_type": "code",
   "execution_count": 20,
   "metadata": {
    "kernel": "R"
   },
   "outputs": [],
   "source": [
    "OP.fit <- prodestOP(Y = log(df_train$output),\n",
    "                    fX = log(df_train$employ),\n",
    "                    sX= log(df_train$captal),\n",
    "                    pX = log(df_train$midput),\n",
    "                    idvar = df_train$id_1,\n",
    "                    timevar = df_train$year)"
   ]
  },
  {
   "cell_type": "code",
   "execution_count": 21,
   "metadata": {
    "kernel": "python3"
   },
   "outputs": [
    {
     "data": {
      "text/plain": [
       "403.72067524194716"
      ]
     },
     "execution_count": 21,
     "metadata": {},
     "output_type": "execute_result"
    }
   ],
   "source": [
    "(time.time() - start_time)/60"
   ]
  },
  {
   "cell_type": "code",
   "execution_count": 22,
   "metadata": {
    "kernel": "R"
   },
   "outputs": [
    {
     "data": {
      "text/html": [
       "<dl>\n",
       "\t<dt>$pars</dt>\n",
       "\t\t<dd><dl class=dl-horizontal>\n",
       "\t<dt>fX1</dt>\n",
       "\t\t<dd>0.0485408639100278</dd>\n",
       "\t<dt>sX1</dt>\n",
       "\t\t<dd>0.122027766547882</dd>\n",
       "</dl>\n",
       "</dd>\n",
       "\t<dt>$std.errors</dt>\n",
       "\t\t<dd><dl class=dl-horizontal>\n",
       "\t<dt>fX1</dt>\n",
       "\t\t<dd>0.000650875332997785</dd>\n",
       "\t<dt>sX1</dt>\n",
       "\t\t<dd>&lt;NA&gt;</dd>\n",
       "</dl>\n",
       "</dd>\n",
       "</dl>\n"
      ],
      "text/latex": [
       "\\begin{description}\n",
       "\\item[\\$pars] \\begin{description*}\n",
       "\\item[fX1] 0.0485408639100278\n",
       "\\item[sX1] 0.122027766547882\n",
       "\\end{description*}\n",
       "\n",
       "\\item[\\$std.errors] \\begin{description*}\n",
       "\\item[fX1] 0.000650875332997785\n",
       "\\item[sX1] <NA>\n",
       "\\end{description*}\n",
       "\n",
       "\\end{description}\n"
      ],
      "text/markdown": [
       "$pars\n",
       ":   fX1\n",
       ":   0.0485408639100278sX1\n",
       ":   0.122027766547882\n",
       "\n",
       "\n",
       "$std.errors\n",
       ":   fX1\n",
       ":   0.000650875332997785sX1\n",
       ":   &lt;NA&gt;\n",
       "\n",
       "\n",
       "\n",
       "\n"
      ],
      "text/plain": [
       "$pars\n",
       "       fX1        sX1 \n",
       "0.04854086 0.12202777 \n",
       "\n",
       "$std.errors\n",
       "         fX1          sX1 \n",
       "0.0006508753           NA \n"
      ]
     },
     "metadata": {},
     "output_type": "display_data"
    }
   ],
   "source": [
    "OP.fit"
   ]
  },
  {
   "cell_type": "markdown",
   "metadata": {
    "kernel": "R"
   },
   "source": [
    "Compute the TFP using the coefficients of employment and capital.\n",
    "\n",
    "TFP is predicted on all firms"
   ]
  },
  {
   "cell_type": "code",
   "execution_count": 23,
   "metadata": {
    "kernel": "R"
   },
   "outputs": [],
   "source": [
    "df_input$tfp_OP <- log(df_input$output) - (log(df_input$employ) * OP.fit$pars[1] +\n",
    "                                      log(df_input$captal) * OP.fit$pars[2])"
   ]
  },
  {
   "cell_type": "code",
   "execution_count": 25,
   "metadata": {
    "kernel": "R"
   },
   "outputs": [],
   "source": [
    "df_output <- df_input #%>% select (-id_1)"
   ]
  },
  {
   "cell_type": "code",
   "execution_count": 26,
   "metadata": {
    "kernel": "R"
   },
   "outputs": [
    {
     "name": "stdout",
     "output_type": "stream",
     "text": [
      "Observations: 574,136\n",
      "Variables: 13\n",
      "$ firm               <dbl> 281611, 275073, 358098, 354023, 170614, 273534, 28…\n",
      "$ year               <dbl> 2003, 2003, 2003, 2003, 2003, 2003, 2003, 2003, 20…\n",
      "$ output             <dbl> 47675, 6104, 5500, 33250, 18980, 5030, 18187, 3395…\n",
      "$ employ             <dbl> 371, 150, 200, 124, 30, 42, 110, 152, 77, 61, 629,…\n",
      "$ captal             <dbl> 3000, 3600, 3200, 21416, 3000, 1000, 3105, 10800, …\n",
      "$ midput             <dbl> 37624, 4787, 3493, 24605, 13244, 4066, 15015, 2594…\n",
      "$ ownership          <chr> \"PRIVATE\", \"PRIVATE\", \"PRIVATE\", \"PRIVATE\", \"PRIVA…\n",
      "$ geocode4_corr      <dbl> 3712, 3505, 3505, 3301, 3604, 3414, 3712, 3304, 33…\n",
      "$ indu_2             <chr> \"23\", \"31\", \"31\", \"23\", \"23\", \"14\", \"31\", \"17\", \"2…\n",
      "$ output_upper_bound <dbl> 491519, 491519, 491519, 491519, 491519, 491519, 49…\n",
      "$ employ_upper_bound <dbl> 1919, 1919, 1919, 1919, 1919, 1919, 1919, 1919, 19…\n",
      "$ captal_upper_bound <dbl> 151551, 151551, 151551, 151551, 151551, 151551, 15…\n",
      "$ tfp_OP             <dbl> 9.507986, 7.474232, 7.370444, 8.960982, 8.709045, …\n"
     ]
    }
   ],
   "source": [
    "glimpse(df_output)"
   ]
  },
  {
   "cell_type": "code",
   "execution_count": 27,
   "metadata": {
    "kernel": "R"
   },
   "outputs": [
    {
     "data": {
      "text/html": [
       "<table>\n",
       "<thead><tr><th scope=col>firm</th><th scope=col>year</th><th scope=col>output</th><th scope=col>employ</th><th scope=col>captal</th><th scope=col>midput</th><th scope=col>ownership</th><th scope=col>geocode4_corr</th><th scope=col>indu_2</th><th scope=col>output_upper_bound</th><th scope=col>employ_upper_bound</th><th scope=col>captal_upper_bound</th><th scope=col>tfp_OP</th></tr></thead>\n",
       "<tbody>\n",
       "\t<tr><td>246379  </td><td>2005    </td><td>1914473 </td><td>2000    </td><td>217402  </td><td>701777  </td><td>SOE     </td><td>1301    </td><td>16      </td><td>557055  </td><td>1535    </td><td>141311  </td><td>12.59634</td></tr>\n",
       "\t<tr><td>246379  </td><td>2003    </td><td>1373106 </td><td>2093    </td><td>210402  </td><td>545581  </td><td>SOE     </td><td>1301    </td><td>16      </td><td>491519  </td><td>1919    </td><td>151551  </td><td>12.26576</td></tr>\n",
       "\t<tr><td>246379  </td><td>2001    </td><td>1157875 </td><td>2187    </td><td>197402  </td><td>517980  </td><td>SOE     </td><td>1301    </td><td>16      </td><td>385023  </td><td>2047    </td><td>145407  </td><td>12.10092</td></tr>\n",
       "\t<tr><td>246379  </td><td>2004    </td><td>1578605 </td><td>2058    </td><td>217402  </td><td>629603  </td><td>SOE     </td><td>1301    </td><td>16      </td><td>458751  </td><td>1487    </td><td>131071  </td><td>12.40205</td></tr>\n",
       "\t<tr><td>246379  </td><td>2002    </td><td>1310458 </td><td>1928    </td><td>197402  </td><td>566201  </td><td>SOE     </td><td>1301    </td><td>16      </td><td>417791  </td><td>1887    </td><td>159743  </td><td>12.23083</td></tr>\n",
       "</tbody>\n",
       "</table>\n"
      ],
      "text/latex": [
       "\\begin{tabular}{r|lllllllllllll}\n",
       " firm & year & output & employ & captal & midput & ownership & geocode4\\_corr & indu\\_2 & output\\_upper\\_bound & employ\\_upper\\_bound & captal\\_upper\\_bound & tfp\\_OP\\\\\n",
       "\\hline\n",
       "\t 246379   & 2005     & 1914473  & 2000     & 217402   & 701777   & SOE      & 1301     & 16       & 557055   & 1535     & 141311   & 12.59634\\\\\n",
       "\t 246379   & 2003     & 1373106  & 2093     & 210402   & 545581   & SOE      & 1301     & 16       & 491519   & 1919     & 151551   & 12.26576\\\\\n",
       "\t 246379   & 2001     & 1157875  & 2187     & 197402   & 517980   & SOE      & 1301     & 16       & 385023   & 2047     & 145407   & 12.10092\\\\\n",
       "\t 246379   & 2004     & 1578605  & 2058     & 217402   & 629603   & SOE      & 1301     & 16       & 458751   & 1487     & 131071   & 12.40205\\\\\n",
       "\t 246379   & 2002     & 1310458  & 1928     & 197402   & 566201   & SOE      & 1301     & 16       & 417791   & 1887     & 159743   & 12.23083\\\\\n",
       "\\end{tabular}\n"
      ],
      "text/markdown": [
       "\n",
       "| firm | year | output | employ | captal | midput | ownership | geocode4_corr | indu_2 | output_upper_bound | employ_upper_bound | captal_upper_bound | tfp_OP |\n",
       "|---|---|---|---|---|---|---|---|---|---|---|---|---|\n",
       "| 246379   | 2005     | 1914473  | 2000     | 217402   | 701777   | SOE      | 1301     | 16       | 557055   | 1535     | 141311   | 12.59634 |\n",
       "| 246379   | 2003     | 1373106  | 2093     | 210402   | 545581   | SOE      | 1301     | 16       | 491519   | 1919     | 151551   | 12.26576 |\n",
       "| 246379   | 2001     | 1157875  | 2187     | 197402   | 517980   | SOE      | 1301     | 16       | 385023   | 2047     | 145407   | 12.10092 |\n",
       "| 246379   | 2004     | 1578605  | 2058     | 217402   | 629603   | SOE      | 1301     | 16       | 458751   | 1487     | 131071   | 12.40205 |\n",
       "| 246379   | 2002     | 1310458  | 1928     | 197402   | 566201   | SOE      | 1301     | 16       | 417791   | 1887     | 159743   | 12.23083 |\n",
       "\n"
      ],
      "text/plain": [
       "  firm   year output  employ captal midput ownership geocode4_corr indu_2\n",
       "1 246379 2005 1914473 2000   217402 701777 SOE       1301          16    \n",
       "2 246379 2003 1373106 2093   210402 545581 SOE       1301          16    \n",
       "3 246379 2001 1157875 2187   197402 517980 SOE       1301          16    \n",
       "4 246379 2004 1578605 2058   217402 629603 SOE       1301          16    \n",
       "5 246379 2002 1310458 1928   197402 566201 SOE       1301          16    \n",
       "  output_upper_bound employ_upper_bound captal_upper_bound tfp_OP  \n",
       "1 557055             1535               141311             12.59634\n",
       "2 491519             1919               151551             12.26576\n",
       "3 385023             2047               145407             12.10092\n",
       "4 458751             1487               131071             12.40205\n",
       "5 417791             1887               159743             12.23083"
      ]
     },
     "metadata": {},
     "output_type": "display_data"
    }
   ],
   "source": [
    "df_output %>% filter(firm == '246379')"
   ]
  },
  {
   "cell_type": "markdown",
   "metadata": {
    "kernel": "R"
   },
   "source": [
    "Save the data with R in the temporary folder `00_data_catalogue/temporary_local_data`.\n",
    "\n",
    "If need to save the model, use `saveRDS(XX.fit, \"XX.rds\")` and choose another path in S3"
   ]
  },
  {
   "cell_type": "code",
   "execution_count": 28,
   "metadata": {
    "kernel": "R"
   },
   "outputs": [],
   "source": [
    "%get path_temporary_file_out\n",
    "write.csv(df_output, path_temporary_file_out, row.names=FALSE)"
   ]
  },
  {
   "cell_type": "markdown",
   "metadata": {
    "kernel": "SoS"
   },
   "source": [
    "Save the data back in the S3 folder using Python"
   ]
  },
  {
   "cell_type": "code",
   "execution_count": 30,
   "metadata": {
    "kernel": "python3"
   },
   "outputs": [],
   "source": [
    "s3.upload_file(file_to_upload = path_temporary_file_out, destination_in_s3 = s3_output)"
   ]
  },
  {
   "cell_type": "markdown",
   "metadata": {
    "kernel": "SoS"
   },
   "source": [
    "# Validate query\n",
    "\n",
    "This step is mandatory to validate the query in the ETL. If you are not sure about the quality of the query, go to the next step."
   ]
  },
  {
   "cell_type": "markdown",
   "metadata": {
    "kernel": "SoS"
   },
   "source": [
    "To validate the query, please fillin the json below. Don't forget to change the schema so that the crawler can use it.\n",
    "\n",
    "1. Add a partition key:\n",
    "    - Inform if there is group in the table so that, the parser can compute duplicate\n",
    "2. Add the steps number -> Not automtic yet. Start at 0\n",
    "3. Change the schema if needed. It is highly recommanded to add comment to the fields\n",
    "4. Provide a description -> detail the steps "
   ]
  },
  {
   "cell_type": "markdown",
   "metadata": {
    "kernel": "SoS"
   },
   "source": [
    "1. Add a partition key"
   ]
  },
  {
   "cell_type": "code",
   "execution_count": 31,
   "metadata": {
    "kernel": "python3"
   },
   "outputs": [],
   "source": [
    "partition_keys = ['year', 'ownership']"
   ]
  },
  {
   "cell_type": "markdown",
   "metadata": {
    "kernel": "SoS"
   },
   "source": [
    "2. Add the steps number"
   ]
  },
  {
   "cell_type": "code",
   "execution_count": 32,
   "metadata": {
    "kernel": "python3"
   },
   "outputs": [],
   "source": [
    "step = 3"
   ]
  },
  {
   "cell_type": "markdown",
   "metadata": {
    "kernel": "SoS"
   },
   "source": [
    "3. Change the schema\n",
    "\n",
    "Bear in mind that CSV SerDe (OpenCSVSerDe) does not support empty fields in columns defined as a numeric data type. All columns with missing values should be saved as string. "
   ]
  },
  {
   "cell_type": "code",
   "execution_count": null,
   "metadata": {
    "kernel": "python3"
   },
   "outputs": [],
   "source": [
    "#glue.get_table_information(\n",
    "#    database = DatabaseName,\n",
    "#    table = table_name)['Table']['StorageDescriptor']['Columns']"
   ]
  },
  {
   "cell_type": "code",
   "execution_count": 33,
   "metadata": {
    "kernel": "python3"
   },
   "outputs": [],
   "source": [
    "schema = [\n",
    "    {\n",
    "        \"Name\": \"firm\",\n",
    "        \"Type\": \"string\",\n",
    "        \"Comment\": \"Firm ID\"\n",
    "    },\n",
    "    {\n",
    "        \"Name\": \"year\",\n",
    "        \"Type\": \"string\",\n",
    "        \"Comment\": \"\"\n",
    "    },\n",
    "    {\n",
    "        \"Name\": \"output\",\n",
    "        \"Type\": \"double\",\n",
    "        \"Comment\": \"output\"\n",
    "    },\n",
    "    {\n",
    "        \"Name\": \"employ\",\n",
    "        \"Type\": \"double\",\n",
    "        \"Comment\": \"employement\"\n",
    "    },\n",
    "    {\n",
    "        \"Name\": \"captal\",\n",
    "        \"Type\": \"double\",\n",
    "        \"Comment\": \"Capital\"\n",
    "    },\n",
    "    {\n",
    "        \"Name\": \"midput\",\n",
    "        \"Type\": \"double\",\n",
    "        \"Comment\": \"Intermediate input\"\n",
    "    },\n",
    "    {\n",
    "        \"Name\": \"ownership\",\n",
    "        \"Type\": \"string\",\n",
    "        \"Comment\": \"firm s ownership\"\n",
    "    },\n",
    "    {\n",
    "        \"Name\": \"geocode4_corr\",\n",
    "        \"Type\": \"string\",\n",
    "        \"Comment\": \"\"\n",
    "    },\n",
    "    {\n",
    "        \"Name\": \"indu_2\",\n",
    "        \"Type\": \"string\",\n",
    "        \"Comment\": \"\"\n",
    "    },\n",
    "    {\n",
    "        \"Name\": \"output_upper_bound\",\n",
    "        \"Type\": \"string\",\n",
    "        \"Comment\": \"\"\n",
    "    },\n",
    "    {\n",
    "        \"Name\": \"employ_upper_bound\",\n",
    "        \"Type\": \"string\",\n",
    "        \"Comment\": \"\"\n",
    "    },\n",
    "    {\n",
    "        \"Name\": \"captal_upper_bound\",\n",
    "        \"Type\": \"string\",\n",
    "        \"Comment\": \"\"\n",
    "    },\n",
    "    {\n",
    "        \"Name\": \"tfp_OP\",\n",
    "        \"Type\": \"double\",\n",
    "        \"Comment\": \"Estimate TFP using Olley and Pakes approach\"\n",
    "    }\n",
    "]"
   ]
  },
  {
   "cell_type": "markdown",
   "metadata": {
    "kernel": "SoS"
   },
   "source": [
    "4. Provide a description"
   ]
  },
  {
   "cell_type": "code",
   "execution_count": 34,
   "metadata": {
    "kernel": "python3"
   },
   "outputs": [],
   "source": [
    "description = \"\"\"\n",
    "Compute TFP using Olley and Pakes approach at the firm level\n",
    "\"\"\""
   ]
  },
  {
   "cell_type": "markdown",
   "metadata": {
    "kernel": "SoS"
   },
   "source": [
    "5. provide metadata\n",
    "\n",
    "- DatabaseName\n",
    "- TablePrefix\n",
    "- "
   ]
  },
  {
   "cell_type": "code",
   "execution_count": 36,
   "metadata": {
    "kernel": "python3"
   },
   "outputs": [],
   "source": [
    "DatabaseName = 'firms_survey'\n",
    "TablePrefix = 'asif_tfp_'"
   ]
  },
  {
   "cell_type": "code",
   "execution_count": 37,
   "metadata": {
    "kernel": "python3"
   },
   "outputs": [
    {
     "data": {
      "text/plain": [
       "{'step': 3,\n",
       " 'description': '\\nCompute TFP using Olley and Pakes approach at the firm level\\n',\n",
       " 'query': '\\nWITH test as (\\n  SELECT \\n    firm, \\n    asif_firms_prepared.year, \\n    output, \\n    employ, \\n    captal, \\n    midput, \\n    ownership, \\n    geocode4_corr, \\n    cic,\\n    CASE WHEN LENGTH(cic) = 4 THEN substr(cic, 1, 2) ELSE concat(\\n            \\'0\\', \\n            substr(cic, 1, 1)\\n          ) END AS indu_2,\\n          output_upper_bound,\\n  employ_upper_bound,\\n  captal_upper_bound\\n  FROM \\n    asif_firms_prepared \\n    INNER JOIN (\\n      SELECT \\n        year, \\n        approx_percentile(output,.05) AS output_lower_bound, \\n        approx_percentile(output,.98) AS output_upper_bound, \\n        approx_percentile(employ,.05) AS employ_lower_bound, \\n        approx_percentile(employ,.98) AS employ_upper_bound, \\n        approx_percentile(captal,.05) AS captal_lower_bound, \\n        approx_percentile(captal,.98) AS captal_upper_bound \\n      FROM \\n        \"firms_survey\".\"asif_firms_prepared\" \\n      GROUP BY \\n        year\\n    ) as outliers ON asif_firms_prepared.year = outliers.year \\n    INNER JOIN (\\n      SELECT \\n        extra_code, \\n        geocode4_corr \\n      FROM \\n        chinese_lookup.china_city_code_normalised \\n      GROUP BY \\n        extra_code, \\n        geocode4_corr\\n    ) as no_dup_citycode ON asif_firms_prepared.citycode = no_dup_citycode.extra_code \\n  WHERE \\n    (\\n      output > output_lower_bound \\n      -- AND output < output_upper_bound \\n      AND employ > employ_lower_bound \\n      -- AND employ < employ_upper_bound \\n      AND captal > captal_lower_bound \\n      -- AND output < captal_upper_bound \\n      AND asif_firms_prepared.year >= \\'2001\\' \\n      AND asif_firms_prepared.year <= \\'2007\\'\\n      AND output > midput \\n      AND midput > 0\\n    )\\n) \\nSELECT \\n  test.firm, \\n  year, \\n  output, \\n  employ, \\n  captal, \\n  midput, \\n  ownership, \\n  geocode4_corr,\\n  indu_2,\\n  output_upper_bound,\\n  employ_upper_bound,\\n  captal_upper_bound\\n\\nFROM \\n  test \\n  INNER JOIN (\\n    SELECT \\n      firm, \\n      COUNT(\\n        DISTINCT(geocode4_corr)\\n      ) AS count_city \\n    FROM \\n      test \\n    GROUP BY \\n      firm\\n  ) as multi_cities ON test.firm = multi_cities.firm \\n  INNER JOIN (\\n    SELECT \\n      firm, \\n      COUNT(\\n        DISTINCT(ownership)\\n      ) AS count_ownership \\n    FROM \\n      test \\n    GROUP BY \\n      firm\\n  ) as multi_ownership ON test.firm = multi_ownership.firm \\n  INNER JOIN (\\n    SELECT \\n      firm, \\n      COUNT(\\n        DISTINCT(cic)\\n      ) AS count_industry \\n    FROM \\n      test \\n    GROUP BY \\n      firm\\n  ) as multi_industry ON test.firm = multi_industry.firm \\nWHERE \\n  count_ownership = 1 \\n  AND count_city = 1 \\n  AND count_industry = 1 \\n',\n",
       " 'schema': [{'Name': 'firm', 'Type': 'string', 'Comment': 'Firm ID'},\n",
       "  {'Name': 'year', 'Type': 'string', 'Comment': ''},\n",
       "  {'Name': 'output', 'Type': 'double', 'Comment': 'output'},\n",
       "  {'Name': 'employ', 'Type': 'double', 'Comment': 'employement'},\n",
       "  {'Name': 'captal', 'Type': 'double', 'Comment': 'Capital'},\n",
       "  {'Name': 'midput', 'Type': 'double', 'Comment': 'Intermediate input'},\n",
       "  {'Name': 'ownership', 'Type': 'string', 'Comment': 'firm s ownership'},\n",
       "  {'Name': 'geocode4_corr', 'Type': 'string', 'Comment': ''},\n",
       "  {'Name': 'indu_2', 'Type': 'string', 'Comment': ''},\n",
       "  {'Name': 'output_upper_bound', 'Type': 'string', 'Comment': ''},\n",
       "  {'Name': 'employ_upper_bound', 'Type': 'string', 'Comment': ''},\n",
       "  {'Name': 'captal_upper_bound', 'Type': 'string', 'Comment': ''},\n",
       "  {'Name': 'tfp_OP',\n",
       "   'Type': 'double',\n",
       "   'Comment': 'Estimate TFP using Olley and Pakes approach'}],\n",
       " 'partition_keys': ['year', 'ownership'],\n",
       " 'metadata': {'DatabaseName': 'firms_survey',\n",
       "  'TablePrefix': 'asif_tfp_',\n",
       "  'target_S3URI': 's3://datalake-datascience/DATA/ECON/FIRM_SURVEY/ASIF_CHINA/TRANSFORMED/TFP/FIRM_LEVEL',\n",
       "  'from_athena': 'True'}}"
      ]
     },
     "execution_count": 37,
     "metadata": {},
     "output_type": "execute_result"
    }
   ],
   "source": [
    "json_etl = {\n",
    "    'step': step,\n",
    "    'description':description,\n",
    "    'query':query,\n",
    "    'schema': schema,\n",
    "    'partition_keys':partition_keys,\n",
    "    'metadata':{\n",
    "    'DatabaseName' : DatabaseName,\n",
    "    'TablePrefix' : TablePrefix,\n",
    "    'target_S3URI' : os.path.join('s3://',bucket, s3_output),\n",
    "    'from_athena': 'True'    \n",
    "    }\n",
    "}\n",
    "json_etl"
   ]
  },
  {
   "cell_type": "code",
   "execution_count": 38,
   "metadata": {
    "kernel": "python3"
   },
   "outputs": [],
   "source": [
    "with open(os.path.join(str(Path(path).parent), 'parameters_ETL_Financial_dependency_pollution.json')) as json_file:\n",
    "    parameters = json.load(json_file)"
   ]
  },
  {
   "cell_type": "markdown",
   "metadata": {
    "kernel": "SoS"
   },
   "source": [
    "Remove the step number from the current file (if exist)"
   ]
  },
  {
   "cell_type": "code",
   "execution_count": 39,
   "metadata": {
    "kernel": "python3"
   },
   "outputs": [],
   "source": [
    "index_to_remove = next(\n",
    "                (\n",
    "                    index\n",
    "                    for (index, d) in enumerate(parameters['TABLES']['TRANSFORMATION']['STEPS'])\n",
    "                    if d[\"step\"] == step\n",
    "                ),\n",
    "                None,\n",
    "            )\n",
    "if index_to_remove != None:\n",
    "    parameters['TABLES']['TRANSFORMATION']['STEPS'].pop(index_to_remove)"
   ]
  },
  {
   "cell_type": "code",
   "execution_count": 40,
   "metadata": {
    "kernel": "python3"
   },
   "outputs": [],
   "source": [
    "parameters['TABLES']['TRANSFORMATION']['STEPS'].append(json_etl)"
   ]
  },
  {
   "cell_type": "markdown",
   "metadata": {
    "kernel": "SoS"
   },
   "source": [
    "Save JSON"
   ]
  },
  {
   "cell_type": "code",
   "execution_count": 41,
   "metadata": {
    "kernel": "python3"
   },
   "outputs": [],
   "source": [
    "with open(os.path.join(str(Path(path).parent), 'parameters_ETL_Financial_dependency_pollution.json'), \"w\")as outfile:\n",
    "    json.dump(parameters, outfile)"
   ]
  },
  {
   "cell_type": "markdown",
   "metadata": {
    "kernel": "SoS"
   },
   "source": [
    "# Create or update the data catalog\n",
    "\n",
    "The query is saved in the S3 (bucket `datalake-datascience`) but the table is not available yet in the Data Catalog. Use the function `create_table_glue` to generate the table and update the catalog.\n",
    "\n",
    "Few parameters are required:\n",
    "\n",
    "- name_crawler: Name of the crawler\n",
    "- Role: Role to temporary provide an access tho the service\n",
    "- DatabaseName: Name of the database to create the table\n",
    "- TablePrefix: Prefix of the table. Full name of the table will be `TablePrefix` + folder name\n",
    "\n",
    "To update the schema, please use the following structure\n",
    "\n",
    "```\n",
    "schema = [\n",
    "    {\n",
    "        \"Name\": \"VAR1\",\n",
    "        \"Type\": \"\",\n",
    "        \"Comment\": \"\"\n",
    "    },\n",
    "    {\n",
    "        \"Name\": \"VAR2\",\n",
    "        \"Type\": \"\",\n",
    "        \"Comment\": \"\"\n",
    "    }\n",
    "]\n",
    "```"
   ]
  },
  {
   "cell_type": "code",
   "execution_count": 42,
   "metadata": {
    "kernel": "python3"
   },
   "outputs": [],
   "source": [
    "name_crawler = 'table-test-parser'\n",
    "Role = 'arn:aws:iam::468786073381:role/AWSGlueServiceRole-crawler-datalake'\n",
    "#DatabaseName = 'firms_survey'\n",
    "#TablePrefix = 'asif_tfp_'"
   ]
  },
  {
   "cell_type": "code",
   "execution_count": 43,
   "metadata": {
    "kernel": "python3"
   },
   "outputs": [],
   "source": [
    "target_S3URI = os.path.join('s3://',bucket, s3_output)\n",
    "table_name = '{}{}'.format(TablePrefix, os.path.basename(target_S3URI).lower())"
   ]
  },
  {
   "cell_type": "code",
   "execution_count": 44,
   "metadata": {
    "kernel": "python3"
   },
   "outputs": [
    {
     "data": {
      "text/plain": [
       "{'Name': 'asif_tfp_firm_level',\n",
       " 'DatabaseName': 'firms_survey',\n",
       " 'Owner': 'owner',\n",
       " 'CreateTime': datetime.datetime(2021, 1, 23, 11, 53, 12, tzinfo=tzlocal()),\n",
       " 'UpdateTime': datetime.datetime(2021, 1, 23, 11, 53, 19, tzinfo=tzlocal()),\n",
       " 'LastAccessTime': datetime.datetime(2021, 1, 23, 11, 53, 12, tzinfo=tzlocal()),\n",
       " 'Retention': 0,\n",
       " 'StorageDescriptor': {'Columns': [{'Name': 'firm',\n",
       "    'Type': 'string',\n",
       "    'Comment': 'Firm ID'},\n",
       "   {'Name': 'year', 'Type': 'string', 'Comment': ''},\n",
       "   {'Name': 'output', 'Type': 'double', 'Comment': 'output'},\n",
       "   {'Name': 'employ', 'Type': 'double', 'Comment': 'employement'},\n",
       "   {'Name': 'captal', 'Type': 'double', 'Comment': 'Capital'},\n",
       "   {'Name': 'midput', 'Type': 'double', 'Comment': 'Intermediate input'},\n",
       "   {'Name': 'ownership', 'Type': 'string', 'Comment': 'firm s ownership'},\n",
       "   {'Name': 'geocode4_corr', 'Type': 'string', 'Comment': ''},\n",
       "   {'Name': 'indu_2', 'Type': 'string', 'Comment': ''},\n",
       "   {'Name': 'output_upper_bound', 'Type': 'string', 'Comment': ''},\n",
       "   {'Name': 'employ_upper_bound', 'Type': 'string', 'Comment': ''},\n",
       "   {'Name': 'captal_upper_bound', 'Type': 'string', 'Comment': ''},\n",
       "   {'Name': 'tfp_op', 'Type': 'double'}],\n",
       "  'Location': 's3://datalake-datascience/DATA/ECON/FIRM_SURVEY/ASIF_CHINA/TRANSFORMED/TFP/FIRM_LEVEL/',\n",
       "  'InputFormat': 'org.apache.hadoop.mapred.TextInputFormat',\n",
       "  'OutputFormat': 'org.apache.hadoop.hive.ql.io.HiveIgnoreKeyTextOutputFormat',\n",
       "  'Compressed': False,\n",
       "  'NumberOfBuckets': -1,\n",
       "  'SerdeInfo': {'SerializationLibrary': 'org.apache.hadoop.hive.serde2.OpenCSVSerde',\n",
       "   'Parameters': {'escapeChar': '\\\\',\n",
       "    'quoteChar': '\"',\n",
       "    'separatorChar': ',',\n",
       "    'serialization.format': '1'}},\n",
       "  'BucketColumns': [],\n",
       "  'SortColumns': [],\n",
       "  'Parameters': {'CrawlerSchemaDeserializerVersion': '1.0',\n",
       "   'CrawlerSchemaSerializerVersion': '1.0',\n",
       "   'UPDATED_BY_CRAWLER': 'table-test-parser',\n",
       "   'areColumnsQuoted': 'false',\n",
       "   'averageRecordSize': '110',\n",
       "   'classification': 'csv',\n",
       "   'columnsOrdered': 'true',\n",
       "   'compressionType': 'none',\n",
       "   'delimiter': ',',\n",
       "   'exclusions': '[\"s3://datalake-datascience/DATA/ECON/FIRM_SURVEY/ASIF_CHINA/TRANSFORMED/TFP/FIRM_LEVEL/*.csv.metadata\"]',\n",
       "   'objectCount': '1',\n",
       "   'recordCount': '457414',\n",
       "   'sizeKey': '50315637',\n",
       "   'skip.header.line.count': '1',\n",
       "   'typeOfData': 'file'},\n",
       "  'StoredAsSubDirectories': False},\n",
       " 'PartitionKeys': [],\n",
       " 'TableType': 'EXTERNAL_TABLE',\n",
       " 'Parameters': {'CrawlerSchemaDeserializerVersion': '1.0',\n",
       "  'CrawlerSchemaSerializerVersion': '1.0',\n",
       "  'UPDATED_BY_CRAWLER': 'table-test-parser',\n",
       "  'areColumnsQuoted': 'false',\n",
       "  'averageRecordSize': '110',\n",
       "  'classification': 'csv',\n",
       "  'columnsOrdered': 'true',\n",
       "  'compressionType': 'none',\n",
       "  'delimiter': ',',\n",
       "  'exclusions': '[\"s3://datalake-datascience/DATA/ECON/FIRM_SURVEY/ASIF_CHINA/TRANSFORMED/TFP/FIRM_LEVEL/*.csv.metadata\"]',\n",
       "  'objectCount': '1',\n",
       "  'recordCount': '457414',\n",
       "  'sizeKey': '50315637',\n",
       "  'skip.header.line.count': '1',\n",
       "  'typeOfData': 'file'},\n",
       " 'CreatedBy': 'arn:aws:sts::468786073381:assumed-role/AWSGlueServiceRole-crawler-datalake/AWS-Crawler',\n",
       " 'IsRegisteredWithLakeFormation': False,\n",
       " 'CatalogId': '468786073381'}"
      ]
     },
     "execution_count": 44,
     "metadata": {},
     "output_type": "execute_result"
    }
   ],
   "source": [
    "glue.create_table_glue(\n",
    "    target_S3URI,\n",
    "    name_crawler,\n",
    "    Role,\n",
    "    DatabaseName,\n",
    "    TablePrefix,\n",
    "    from_athena=True,\n",
    "    update_schema=schema,\n",
    ")"
   ]
  },
  {
   "cell_type": "code",
   "execution_count": 45,
   "metadata": {
    "kernel": "python3",
    "nteract": {
     "transient": {
      "deleting": false
     }
    }
   },
   "outputs": [
    {
     "data": {
      "text/html": [
       "<div>\n",
       "<style scoped>\n",
       "    .dataframe tbody tr th:only-of-type {\n",
       "        vertical-align: middle;\n",
       "    }\n",
       "\n",
       "    .dataframe tbody tr th {\n",
       "        vertical-align: top;\n",
       "    }\n",
       "\n",
       "    .dataframe thead th {\n",
       "        text-align: right;\n",
       "    }\n",
       "</style>\n",
       "<table border=\"1\" class=\"dataframe\">\n",
       "  <thead>\n",
       "    <tr style=\"text-align: right;\">\n",
       "      <th></th>\n",
       "      <th>CNT</th>\n",
       "    </tr>\n",
       "  </thead>\n",
       "  <tbody>\n",
       "    <tr>\n",
       "      <th>0</th>\n",
       "      <td>574136</td>\n",
       "    </tr>\n",
       "  </tbody>\n",
       "</table>\n",
       "</div>"
      ],
      "text/plain": [
       "      CNT\n",
       "0  574136"
      ]
     },
     "execution_count": 45,
     "metadata": {},
     "output_type": "execute_result"
    }
   ],
   "source": [
    "query_count = \"\"\"\n",
    "SELECT COUNT(*) AS CNT\n",
    "FROM {}.{} \n",
    "\"\"\".format(DatabaseName, table_name)\n",
    "output = s3.run_query(\n",
    "                    query=query_count,\n",
    "                    database=DatabaseName,\n",
    "                    s3_output=s3_output_example,\n",
    "    filename = 'count_{}'.format(table_name)\n",
    "                )\n",
    "output"
   ]
  },
  {
   "cell_type": "markdown",
   "metadata": {
    "kernel": "SoS"
   },
   "source": [
    "## Check Duplicates\n",
    "\n",
    "One of the most important step when creating a table is to check if the table contains duplicates. The cell below checks if the table generated before is empty of duplicates. The code uses the JSON file to create the query parsed in Athena. \n",
    "\n",
    "You are required to define the group(s) that Athena will use to compute the duplicate. For instance, your table can be grouped by COL1 and COL2 (need to be string or varchar), then pass the list ['COL1', 'COL2'] "
   ]
  },
  {
   "cell_type": "code",
   "execution_count": 46,
   "metadata": {
    "kernel": "python3"
   },
   "outputs": [],
   "source": [
    "partition_keys = ['firm', 'year']\n",
    "\n",
    "with open(os.path.join(str(Path(path).parent), 'parameters_ETL_Financial_dependency_pollution.json')) as json_file:\n",
    "    parameters = json.load(json_file)"
   ]
  },
  {
   "cell_type": "code",
   "execution_count": 47,
   "metadata": {
    "kernel": "python3"
   },
   "outputs": [
    {
     "data": {
      "text/html": [
       "<div>\n",
       "<style scoped>\n",
       "    .dataframe tbody tr th:only-of-type {\n",
       "        vertical-align: middle;\n",
       "    }\n",
       "\n",
       "    .dataframe tbody tr th {\n",
       "        vertical-align: top;\n",
       "    }\n",
       "\n",
       "    .dataframe thead th {\n",
       "        text-align: right;\n",
       "    }\n",
       "</style>\n",
       "<table border=\"1\" class=\"dataframe\">\n",
       "  <thead>\n",
       "    <tr style=\"text-align: right;\">\n",
       "      <th></th>\n",
       "      <th>CNT</th>\n",
       "      <th>CNT_DUPLICATE</th>\n",
       "    </tr>\n",
       "  </thead>\n",
       "  <tbody>\n",
       "    <tr>\n",
       "      <th>0</th>\n",
       "      <td>1</td>\n",
       "      <td>574136</td>\n",
       "    </tr>\n",
       "  </tbody>\n",
       "</table>\n",
       "</div>"
      ],
      "text/plain": [
       "   CNT  CNT_DUPLICATE\n",
       "0    1         574136"
      ]
     },
     "metadata": {},
     "output_type": "display_data"
    }
   ],
   "source": [
    "### COUNT DUPLICATES\n",
    "if len(partition_keys) > 0:\n",
    "    groups = ' , '.join(partition_keys)\n",
    "\n",
    "    query_duplicates = parameters[\"ANALYSIS\"]['COUNT_DUPLICATES']['query'].format(\n",
    "                                DatabaseName,table_name,groups\n",
    "                                )\n",
    "    dup = s3.run_query(\n",
    "                                query=query_duplicates,\n",
    "                                database=DatabaseName,\n",
    "                                s3_output=\"SQL_OUTPUT_ATHENA\",\n",
    "                                filename=\"duplicates_{}\".format(table_name))\n",
    "    display(dup)\n"
   ]
  },
  {
   "cell_type": "markdown",
   "metadata": {
    "kernel": "SoS"
   },
   "source": [
    "## Count missing values"
   ]
  },
  {
   "cell_type": "code",
   "execution_count": 48,
   "metadata": {
    "kernel": "python3"
   },
   "outputs": [
    {
     "data": {
      "text/plain": [
       "{'Name': 'asif_tfp_firm_level',\n",
       " 'DatabaseName': 'firms_survey',\n",
       " 'Owner': 'owner',\n",
       " 'CreateTime': datetime.datetime(2021, 1, 23, 11, 53, 12, tzinfo=tzlocal()),\n",
       " 'UpdateTime': datetime.datetime(2021, 1, 23, 11, 53, 19, tzinfo=tzlocal()),\n",
       " 'LastAccessTime': datetime.datetime(2021, 1, 23, 11, 53, 12, tzinfo=tzlocal()),\n",
       " 'Retention': 0,\n",
       " 'StorageDescriptor': {'Columns': [{'Name': 'firm',\n",
       "    'Type': 'string',\n",
       "    'Comment': 'Firm ID'},\n",
       "   {'Name': 'year', 'Type': 'string', 'Comment': ''},\n",
       "   {'Name': 'output', 'Type': 'double', 'Comment': 'output'},\n",
       "   {'Name': 'employ', 'Type': 'double', 'Comment': 'employement'},\n",
       "   {'Name': 'captal', 'Type': 'double', 'Comment': 'Capital'},\n",
       "   {'Name': 'midput', 'Type': 'double', 'Comment': 'Intermediate input'},\n",
       "   {'Name': 'ownership', 'Type': 'string', 'Comment': 'firm s ownership'},\n",
       "   {'Name': 'geocode4_corr', 'Type': 'string', 'Comment': ''},\n",
       "   {'Name': 'indu_2', 'Type': 'string', 'Comment': ''},\n",
       "   {'Name': 'output_upper_bound', 'Type': 'string', 'Comment': ''},\n",
       "   {'Name': 'employ_upper_bound', 'Type': 'string', 'Comment': ''},\n",
       "   {'Name': 'captal_upper_bound', 'Type': 'string', 'Comment': ''},\n",
       "   {'Name': 'tfp_op', 'Type': 'double'}],\n",
       "  'Location': 's3://datalake-datascience/DATA/ECON/FIRM_SURVEY/ASIF_CHINA/TRANSFORMED/TFP/FIRM_LEVEL/',\n",
       "  'InputFormat': 'org.apache.hadoop.mapred.TextInputFormat',\n",
       "  'OutputFormat': 'org.apache.hadoop.hive.ql.io.HiveIgnoreKeyTextOutputFormat',\n",
       "  'Compressed': False,\n",
       "  'NumberOfBuckets': -1,\n",
       "  'SerdeInfo': {'SerializationLibrary': 'org.apache.hadoop.hive.serde2.OpenCSVSerde',\n",
       "   'Parameters': {'escapeChar': '\\\\',\n",
       "    'quoteChar': '\"',\n",
       "    'separatorChar': ',',\n",
       "    'serialization.format': '1'}},\n",
       "  'BucketColumns': [],\n",
       "  'SortColumns': [],\n",
       "  'Parameters': {'CrawlerSchemaDeserializerVersion': '1.0',\n",
       "   'CrawlerSchemaSerializerVersion': '1.0',\n",
       "   'UPDATED_BY_CRAWLER': 'table-test-parser',\n",
       "   'areColumnsQuoted': 'false',\n",
       "   'averageRecordSize': '110',\n",
       "   'classification': 'csv',\n",
       "   'columnsOrdered': 'true',\n",
       "   'compressionType': 'none',\n",
       "   'delimiter': ',',\n",
       "   'exclusions': '[\"s3://datalake-datascience/DATA/ECON/FIRM_SURVEY/ASIF_CHINA/TRANSFORMED/TFP/FIRM_LEVEL/*.csv.metadata\"]',\n",
       "   'objectCount': '1',\n",
       "   'recordCount': '457414',\n",
       "   'sizeKey': '50315637',\n",
       "   'skip.header.line.count': '1',\n",
       "   'typeOfData': 'file'},\n",
       "  'StoredAsSubDirectories': False},\n",
       " 'PartitionKeys': [],\n",
       " 'TableType': 'EXTERNAL_TABLE',\n",
       " 'Parameters': {'CrawlerSchemaDeserializerVersion': '1.0',\n",
       "  'CrawlerSchemaSerializerVersion': '1.0',\n",
       "  'UPDATED_BY_CRAWLER': 'table-test-parser',\n",
       "  'areColumnsQuoted': 'false',\n",
       "  'averageRecordSize': '110',\n",
       "  'classification': 'csv',\n",
       "  'columnsOrdered': 'true',\n",
       "  'compressionType': 'none',\n",
       "  'delimiter': ',',\n",
       "  'exclusions': '[\"s3://datalake-datascience/DATA/ECON/FIRM_SURVEY/ASIF_CHINA/TRANSFORMED/TFP/FIRM_LEVEL/*.csv.metadata\"]',\n",
       "  'objectCount': '1',\n",
       "  'recordCount': '457414',\n",
       "  'sizeKey': '50315637',\n",
       "  'skip.header.line.count': '1',\n",
       "  'typeOfData': 'file'},\n",
       " 'CreatedBy': 'arn:aws:sts::468786073381:assumed-role/AWSGlueServiceRole-crawler-datalake/AWS-Crawler',\n",
       " 'IsRegisteredWithLakeFormation': False,\n",
       " 'CatalogId': '468786073381'}"
      ]
     },
     "execution_count": 48,
     "metadata": {},
     "output_type": "execute_result"
    }
   ],
   "source": [
    "#table = 'XX'\n",
    "schema = glue.get_table_information(\n",
    "    database = DatabaseName,\n",
    "    table = table_name\n",
    ")['Table']\n",
    "schema"
   ]
  },
  {
   "cell_type": "code",
   "execution_count": 49,
   "metadata": {
    "kernel": "python3"
   },
   "outputs": [],
   "source": [
    "from datetime import date\n",
    "today = date.today().strftime('%Y%M%d')"
   ]
  },
  {
   "cell_type": "code",
   "execution_count": 50,
   "metadata": {
    "kernel": "python3"
   },
   "outputs": [
    {
     "data": {
      "text/html": [
       "<style  type=\"text/css\" >\n",
       "#T_cecb8_row0_col1{\n",
       "            width:  10em;\n",
       "             height:  80%;\n",
       "            background:  linear-gradient(90deg,#d65f5f 100.0%, transparent 100.0%);\n",
       "        }#T_cecb8_row1_col1,#T_cecb8_row2_col1,#T_cecb8_row3_col1,#T_cecb8_row4_col1,#T_cecb8_row5_col1,#T_cecb8_row6_col1,#T_cecb8_row7_col1,#T_cecb8_row8_col1,#T_cecb8_row9_col1,#T_cecb8_row10_col1,#T_cecb8_row11_col1,#T_cecb8_row12_col1,#T_cecb8_row13_col1{\n",
       "            width:  10em;\n",
       "             height:  80%;\n",
       "        }</style><table id=\"T_cecb8_\" ><thead>    <tr>        <th class=\"blank level0\" ></th>        <th class=\"col_heading level0 col0\" >total_missing</th>        <th class=\"col_heading level0 col1\" >total_missing_pct</th>    </tr></thead><tbody>\n",
       "                <tr>\n",
       "                        <th id=\"T_cecb8_level0_row0\" class=\"row_heading level0 row0\" >nb_obs</th>\n",
       "                        <td id=\"T_cecb8_row0_col0\" class=\"data row0 col0\" >574136</td>\n",
       "                        <td id=\"T_cecb8_row0_col1\" class=\"data row0 col1\" >100.00%</td>\n",
       "            </tr>\n",
       "            <tr>\n",
       "                        <th id=\"T_cecb8_level0_row1\" class=\"row_heading level0 row1\" >firm</th>\n",
       "                        <td id=\"T_cecb8_row1_col0\" class=\"data row1 col0\" >0</td>\n",
       "                        <td id=\"T_cecb8_row1_col1\" class=\"data row1 col1\" >0.00%</td>\n",
       "            </tr>\n",
       "            <tr>\n",
       "                        <th id=\"T_cecb8_level0_row2\" class=\"row_heading level0 row2\" >year</th>\n",
       "                        <td id=\"T_cecb8_row2_col0\" class=\"data row2 col0\" >0</td>\n",
       "                        <td id=\"T_cecb8_row2_col1\" class=\"data row2 col1\" >0.00%</td>\n",
       "            </tr>\n",
       "            <tr>\n",
       "                        <th id=\"T_cecb8_level0_row3\" class=\"row_heading level0 row3\" >output</th>\n",
       "                        <td id=\"T_cecb8_row3_col0\" class=\"data row3 col0\" >0</td>\n",
       "                        <td id=\"T_cecb8_row3_col1\" class=\"data row3 col1\" >0.00%</td>\n",
       "            </tr>\n",
       "            <tr>\n",
       "                        <th id=\"T_cecb8_level0_row4\" class=\"row_heading level0 row4\" >employ</th>\n",
       "                        <td id=\"T_cecb8_row4_col0\" class=\"data row4 col0\" >0</td>\n",
       "                        <td id=\"T_cecb8_row4_col1\" class=\"data row4 col1\" >0.00%</td>\n",
       "            </tr>\n",
       "            <tr>\n",
       "                        <th id=\"T_cecb8_level0_row5\" class=\"row_heading level0 row5\" >captal</th>\n",
       "                        <td id=\"T_cecb8_row5_col0\" class=\"data row5 col0\" >0</td>\n",
       "                        <td id=\"T_cecb8_row5_col1\" class=\"data row5 col1\" >0.00%</td>\n",
       "            </tr>\n",
       "            <tr>\n",
       "                        <th id=\"T_cecb8_level0_row6\" class=\"row_heading level0 row6\" >midput</th>\n",
       "                        <td id=\"T_cecb8_row6_col0\" class=\"data row6 col0\" >0</td>\n",
       "                        <td id=\"T_cecb8_row6_col1\" class=\"data row6 col1\" >0.00%</td>\n",
       "            </tr>\n",
       "            <tr>\n",
       "                        <th id=\"T_cecb8_level0_row7\" class=\"row_heading level0 row7\" >ownership</th>\n",
       "                        <td id=\"T_cecb8_row7_col0\" class=\"data row7 col0\" >0</td>\n",
       "                        <td id=\"T_cecb8_row7_col1\" class=\"data row7 col1\" >0.00%</td>\n",
       "            </tr>\n",
       "            <tr>\n",
       "                        <th id=\"T_cecb8_level0_row8\" class=\"row_heading level0 row8\" >geocode4_corr</th>\n",
       "                        <td id=\"T_cecb8_row8_col0\" class=\"data row8 col0\" >0</td>\n",
       "                        <td id=\"T_cecb8_row8_col1\" class=\"data row8 col1\" >0.00%</td>\n",
       "            </tr>\n",
       "            <tr>\n",
       "                        <th id=\"T_cecb8_level0_row9\" class=\"row_heading level0 row9\" >indu_2</th>\n",
       "                        <td id=\"T_cecb8_row9_col0\" class=\"data row9 col0\" >0</td>\n",
       "                        <td id=\"T_cecb8_row9_col1\" class=\"data row9 col1\" >0.00%</td>\n",
       "            </tr>\n",
       "            <tr>\n",
       "                        <th id=\"T_cecb8_level0_row10\" class=\"row_heading level0 row10\" >output_upper_bound</th>\n",
       "                        <td id=\"T_cecb8_row10_col0\" class=\"data row10 col0\" >0</td>\n",
       "                        <td id=\"T_cecb8_row10_col1\" class=\"data row10 col1\" >0.00%</td>\n",
       "            </tr>\n",
       "            <tr>\n",
       "                        <th id=\"T_cecb8_level0_row11\" class=\"row_heading level0 row11\" >employ_upper_bound</th>\n",
       "                        <td id=\"T_cecb8_row11_col0\" class=\"data row11 col0\" >0</td>\n",
       "                        <td id=\"T_cecb8_row11_col1\" class=\"data row11 col1\" >0.00%</td>\n",
       "            </tr>\n",
       "            <tr>\n",
       "                        <th id=\"T_cecb8_level0_row12\" class=\"row_heading level0 row12\" >captal_upper_bound</th>\n",
       "                        <td id=\"T_cecb8_row12_col0\" class=\"data row12 col0\" >0</td>\n",
       "                        <td id=\"T_cecb8_row12_col1\" class=\"data row12 col1\" >0.00%</td>\n",
       "            </tr>\n",
       "            <tr>\n",
       "                        <th id=\"T_cecb8_level0_row13\" class=\"row_heading level0 row13\" >tfp_op</th>\n",
       "                        <td id=\"T_cecb8_row13_col0\" class=\"data row13 col0\" >0</td>\n",
       "                        <td id=\"T_cecb8_row13_col1\" class=\"data row13 col1\" >0.00%</td>\n",
       "            </tr>\n",
       "    </tbody></table>"
      ],
      "text/plain": [
       "<pandas.io.formats.style.Styler at 0x7f0e59c7b250>"
      ]
     },
     "metadata": {},
     "output_type": "display_data"
    }
   ],
   "source": [
    "table_top = parameters[\"ANALYSIS\"][\"COUNT_MISSING\"][\"top\"]\n",
    "table_middle = \"\"\n",
    "table_bottom = parameters[\"ANALYSIS\"][\"COUNT_MISSING\"][\"bottom\"].format(\n",
    "    DatabaseName, table_name\n",
    ")\n",
    "\n",
    "for key, value in enumerate(schema[\"StorageDescriptor\"][\"Columns\"]):\n",
    "    if key == len(schema[\"StorageDescriptor\"][\"Columns\"]) - 1:\n",
    "\n",
    "        table_middle += \"{} \".format(\n",
    "            parameters[\"ANALYSIS\"][\"COUNT_MISSING\"][\"middle\"].format(value[\"Name\"])\n",
    "        )\n",
    "    else:\n",
    "        table_middle += \"{} ,\".format(\n",
    "            parameters[\"ANALYSIS\"][\"COUNT_MISSING\"][\"middle\"].format(value[\"Name\"])\n",
    "        )\n",
    "query = table_top + table_middle + table_bottom\n",
    "output = s3.run_query(\n",
    "    query=query,\n",
    "    database=DatabaseName,\n",
    "    s3_output=\"SQL_OUTPUT_ATHENA\",\n",
    "    filename=\"count_missing\",  ## Add filename to print dataframe\n",
    "    destination_key=None,  ### Add destination key if need to copy output\n",
    ")\n",
    "display(\n",
    "    output.T.rename(columns={0: \"total_missing\"})\n",
    "    .assign(total_missing_pct=lambda x: x[\"total_missing\"] / x.iloc[0, 0])\n",
    "    .sort_values(by=[\"total_missing\"], ascending=False)\n",
    "    .style.format(\"{0:,.2%}\", subset=[\"total_missing_pct\"])\n",
    "    .bar(subset=\"total_missing_pct\", color=[\"#d65f5f\"])\n",
    ")"
   ]
  },
  {
   "cell_type": "markdown",
   "metadata": {
    "kernel": "SoS"
   },
   "source": [
    "# Update Github Data catalog\n",
    "\n",
    "The data catalog is available in Glue. Although, we might want to get a quick access to the tables in Github. In this part, we are generating a `README.md` in the folder `00_data_catalogue`. All tables used in the project will be added to the catalog. We use the ETL parameter file and the schema in Glue to create the README. \n",
    "\n",
    "Bear in mind the code will erase the previous README. "
   ]
  },
  {
   "cell_type": "code",
   "execution_count": 51,
   "metadata": {
    "kernel": "python3"
   },
   "outputs": [],
   "source": [
    "README = \"\"\"\n",
    "# Data Catalogue\n",
    "\n",
    "{}\n",
    "\n",
    "    \"\"\"\n",
    "\n",
    "top_readme = \"\"\"\n",
    "\n",
    "## Table of Content\n",
    "\n",
    "    \"\"\"\n",
    "\n",
    "template = \"\"\"\n",
    "\n",
    "## Table {0}\n",
    "\n",
    "- Database: {1}\n",
    "- S3uri: `{2}`\n",
    "- Partitition: {3}\n",
    "\n",
    "{4}\n",
    "\n",
    "    \"\"\"\n",
    "github_link = os.path.join(\"https://github.com/\", parameters['GLOBAL']['GITHUB']['owner'],\n",
    "                           parameters['GLOBAL']['GITHUB']['repo_name'], \"tree/master/00_data_catalogue#table-\")\n",
    "for key, value in parameters['TABLES'].items():\n",
    "    if key == 'CREATION':\n",
    "        param = 'ALL_SCHEMA'\n",
    "    else:\n",
    "        param = 'STEPS'\n",
    "        \n",
    "    for schema in parameters['TABLES'][key][param]:\n",
    "        description = schema['description']\n",
    "        DatabaseName = schema['metadata']['DatabaseName']\n",
    "        target_S3URI = schema['metadata']['target_S3URI']\n",
    "        partition = schema['partition_keys']\n",
    "        \n",
    "        if param =='ALL_SCHEMA':\n",
    "            table_name = '{}{}'.format(\n",
    "                schema['metadata']['TablePrefix'],\n",
    "                os.path.basename(schema['metadata']['target_S3URI']).lower()\n",
    "            )\n",
    "        else:\n",
    "            try:\n",
    "                table_name = schema['metadata']['TableName']\n",
    "            except:\n",
    "                table_name = '{}{}'.format(\n",
    "                schema['metadata']['TablePrefix'],\n",
    "                os.path.basename(schema['metadata']['target_S3URI']).lower()\n",
    "            )\n",
    "        \n",
    "        tb = pd.json_normalize(schema['schema']).to_markdown()\n",
    "        toc = \"{}{}\".format(github_link, table_name)\n",
    "        top_readme += '\\n- [{0}]({1})'.format(table_name, toc)\n",
    "\n",
    "        README += template.format(table_name,\n",
    "                                  DatabaseName,\n",
    "                                  target_S3URI,\n",
    "                                  partition,\n",
    "                                  tb\n",
    "                                  )\n",
    "README = README.format(top_readme)\n",
    "with open(os.path.join(str(Path(path).parent.parent), '00_data_catalogue/README.md'), \"w\") as outfile:\n",
    "    outfile.write(README)"
   ]
  },
  {
   "cell_type": "markdown",
   "metadata": {
    "kernel": "SoS"
   },
   "source": [
    "# Analytics\n",
    "\n",
    "In this part, we are providing basic summary statistic. Since we have created the tables, we can parse the schema in Glue and use our json file to automatically generates the analysis.\n",
    "\n",
    "The cells below execute the job in the key `ANALYSIS`. You need to change the `primary_key` and `secondary_key` "
   ]
  },
  {
   "cell_type": "markdown",
   "metadata": {
    "kernel": "SoS"
   },
   "source": [
    "For a full analysis of the table, please use the following Lambda function. Be patient, it can takes between 5 to 30 minutes. Times varies according to the number of columns in your dataset.\n",
    "\n",
    "Use the function as follow:\n",
    "\n",
    "- `output_prefix`:  s3://datalake-datascience/ANALYTICS/OUTPUT/TABLE_NAME/\n",
    "- `region`: region where the table is stored\n",
    "- `bucket`: Name of the bucket\n",
    "- `DatabaseName`: Name of the database\n",
    "- `table_name`: Name of the table\n",
    "- `group`: variables name to group to count the duplicates\n",
    "- `primary_key`: Variable name to perform the grouping -> Only one variable for now\n",
    "- `secondary_key`: Variable name to perform the secondary grouping -> Only one variable for now\n",
    "- `proba`: Chi-square analysis probabilitity\n",
    "- `y_var`: Continuous target variables\n",
    "\n",
    "Check the job processing in Sagemaker: https://eu-west-3.console.aws.amazon.com/sagemaker/home?region=eu-west-3#/processing-jobs\n",
    "\n",
    "The notebook is available: https://s3.console.aws.amazon.com/s3/buckets/datalake-datascience?region=eu-west-3&prefix=ANALYTICS/OUTPUT/&showversions=false\n",
    "\n",
    "Please, download the notebook on your local machine, and convert it to HTML:\n",
    "\n",
    "```\n",
    "cd \"/Users/thomas/Downloads/Notebook\"\n",
    "aws s3 cp s3://datalake-datascience/ANALYTICS/OUTPUT/asif_unzip_data_csv/Template_analysis_from_lambda-2020-11-22-08-12-20.ipynb .\n",
    "\n",
    "## convert HTML no code\n",
    "jupyter nbconvert --no-input --to html Template_analysis_from_lambda-2020-11-21-14-30-45.ipynb\n",
    "jupyter nbconvert --to html Template_analysis_from_lambda-2020-11-22-08-12-20.ipynb\n",
    "```\n",
    "\n",
    "Then upload the HTML to: https://s3.console.aws.amazon.com/s3/buckets/datalake-datascience?region=eu-west-3&prefix=ANALYTICS/HTML_OUTPUT/\n",
    "\n",
    "Add a new folder with the table name in upper case"
   ]
  },
  {
   "cell_type": "code",
   "execution_count": 52,
   "metadata": {
    "kernel": "python3"
   },
   "outputs": [],
   "source": [
    "import boto3\n",
    "\n",
    "key, secret_ = con.load_credential()\n",
    "client_lambda = boto3.client(\n",
    "    'lambda',\n",
    "    aws_access_key_id=key,\n",
    "    aws_secret_access_key=secret_,\n",
    "    region_name = region)"
   ]
  },
  {
   "cell_type": "code",
   "execution_count": 53,
   "metadata": {
    "kernel": "python3"
   },
   "outputs": [],
   "source": [
    "primary_key = 'year'\n",
    "secondary_key = 'ownership'\n",
    "y_var = 'tfp_OP'"
   ]
  },
  {
   "cell_type": "code",
   "execution_count": 54,
   "metadata": {
    "kernel": "python3"
   },
   "outputs": [
    {
     "data": {
      "text/plain": [
       "{'input_path': 's3://datalake-datascience/ANALYTICS/TEMPLATE_NOTEBOOKS/template_analysis_from_lambda.ipynb',\n",
       " 'output_prefix': 's3://datalake-datascience/ANALYTICS/OUTPUT/ASIF_TFP_FIRM_LEVEL/',\n",
       " 'parameters': {'region': 'eu-west-3',\n",
       "  'bucket': 'datalake-datascience',\n",
       "  'DatabaseName': 'firms_survey',\n",
       "  'table_name': 'asif_tfp_firm_level',\n",
       "  'group': 'firm,year',\n",
       "  'keys': 'year,ownership',\n",
       "  'y_var': 'tfp_OP',\n",
       "  'threshold': 0}}"
      ]
     },
     "execution_count": 54,
     "metadata": {},
     "output_type": "execute_result"
    }
   ],
   "source": [
    "payload = {\n",
    "    \"input_path\": \"s3://datalake-datascience/ANALYTICS/TEMPLATE_NOTEBOOKS/template_analysis_from_lambda.ipynb\",\n",
    "    \"output_prefix\": \"s3://datalake-datascience/ANALYTICS/OUTPUT/{}/\".format(table_name.upper()),\n",
    "    \"parameters\": {\n",
    "        \"region\": \"{}\".format(region),\n",
    "        \"bucket\": \"{}\".format(bucket),\n",
    "        \"DatabaseName\": \"{}\".format(DatabaseName),\n",
    "        \"table_name\": \"{}\".format(table_name),\n",
    "        \"group\": \"{}\".format(','.join(partition_keys)),\n",
    "        \"keys\": \"{},{}\".format(primary_key,secondary_key),\n",
    "        \"y_var\": \"{}\".format(y_var),\n",
    "        \"threshold\":0\n",
    "    },\n",
    "}\n",
    "payload"
   ]
  },
  {
   "cell_type": "code",
   "execution_count": 55,
   "metadata": {
    "kernel": "python3"
   },
   "outputs": [
    {
     "data": {
      "text/plain": [
       "{'ResponseMetadata': {'RequestId': '74168327-e056-44a5-8196-8727e8e74ed5',\n",
       "  'HTTPStatusCode': 200,\n",
       "  'HTTPHeaders': {'date': 'Sat, 23 Jan 2021 11:55:49 GMT',\n",
       "   'content-type': 'application/json',\n",
       "   'content-length': '75',\n",
       "   'connection': 'keep-alive',\n",
       "   'x-amzn-requestid': '74168327-e056-44a5-8196-8727e8e74ed5',\n",
       "   'x-amzn-remapped-content-length': '0',\n",
       "   'x-amz-executed-version': '$LATEST',\n",
       "   'x-amz-log-result': 'U1RBUlQgUmVxdWVzdElkOiA3NDE2ODMyNy1lMDU2LTQ0YTUtODE5Ni04NzI3ZThlNzRlZDUgVmVyc2lvbjogJExBVEVTVApFTkQgUmVxdWVzdElkOiA3NDE2ODMyNy1lMDU2LTQ0YTUtODE5Ni04NzI3ZThlNzRlZDUKUkVQT1JUIFJlcXVlc3RJZDogNzQxNjgzMjctZTA1Ni00NGE1LTgxOTYtODcyN2U4ZTc0ZWQ1CUR1cmF0aW9uOiAyMzk1LjA1IG1zCUJpbGxlZCBEdXJhdGlvbjogMjM5NiBtcwlNZW1vcnkgU2l6ZTogMTI4IE1CCU1heCBNZW1vcnkgVXNlZDogODQgTUIJSW5pdCBEdXJhdGlvbjogMjgyLjYxIG1zCQo=',\n",
       "   'x-amzn-trace-id': 'root=1-600c0ec2-11d86cea33b4fd5560b0e8a3;sampled=0'},\n",
       "  'RetryAttempts': 0},\n",
       " 'StatusCode': 200,\n",
       " 'LogResult': 'U1RBUlQgUmVxdWVzdElkOiA3NDE2ODMyNy1lMDU2LTQ0YTUtODE5Ni04NzI3ZThlNzRlZDUgVmVyc2lvbjogJExBVEVTVApFTkQgUmVxdWVzdElkOiA3NDE2ODMyNy1lMDU2LTQ0YTUtODE5Ni04NzI3ZThlNzRlZDUKUkVQT1JUIFJlcXVlc3RJZDogNzQxNjgzMjctZTA1Ni00NGE1LTgxOTYtODcyN2U4ZTc0ZWQ1CUR1cmF0aW9uOiAyMzk1LjA1IG1zCUJpbGxlZCBEdXJhdGlvbjogMjM5NiBtcwlNZW1vcnkgU2l6ZTogMTI4IE1CCU1heCBNZW1vcnkgVXNlZDogODQgTUIJSW5pdCBEdXJhdGlvbjogMjgyLjYxIG1zCQo=',\n",
       " 'ExecutedVersion': '$LATEST',\n",
       " 'Payload': <botocore.response.StreamingBody at 0x7f0e58781610>}"
      ]
     },
     "execution_count": 55,
     "metadata": {},
     "output_type": "execute_result"
    }
   ],
   "source": [
    "response = client_lambda.invoke(\n",
    "    FunctionName='RunNotebook',\n",
    "    InvocationType='RequestResponse',\n",
    "    LogType='Tail',\n",
    "    Payload=json.dumps(payload),\n",
    ")\n",
    "response"
   ]
  },
  {
   "cell_type": "markdown",
   "metadata": {
    "kernel": "SoS"
   },
   "source": [
    "# Generation report"
   ]
  },
  {
   "cell_type": "code",
   "execution_count": 56,
   "metadata": {
    "kernel": "python3"
   },
   "outputs": [],
   "source": [
    "import os, time, shutil, urllib, ipykernel, json\n",
    "from pathlib import Path\n",
    "from notebook import notebookapp"
   ]
  },
  {
   "cell_type": "code",
   "execution_count": 57,
   "metadata": {
    "kernel": "python3"
   },
   "outputs": [],
   "source": [
    "def create_report(extension = \"html\", keep_code = False, notebookname = None):\n",
    "    \"\"\"\n",
    "    Create a report from the current notebook and save it in the \n",
    "    Report folder (Parent-> child directory)\n",
    "    \n",
    "    1. Exctract the current notbook name\n",
    "    2. Convert the Notebook \n",
    "    3. Move the newly created report\n",
    "    \n",
    "    Args:\n",
    "    extension: string. Can be \"html\", \"pdf\", \"md\"\n",
    "    \n",
    "    \n",
    "    \"\"\"\n",
    "    \n",
    "    ### Get notebook name\n",
    "    connection_file = os.path.basename(ipykernel.get_connection_file())\n",
    "    kernel_id = connection_file.split('-', 1)[0].split('.')[0]\n",
    "\n",
    "    for srv in notebookapp.list_running_servers():\n",
    "        try:\n",
    "            if srv['token']=='' and not srv['password']:  \n",
    "                req = urllib.request.urlopen(srv['url']+'api/sessions')\n",
    "            else:\n",
    "                req = urllib.request.urlopen(srv['url']+ \\\n",
    "                                             'api/sessions?token=' + \\\n",
    "                                             srv['token'])\n",
    "            sessions = json.load(req)\n",
    "            notebookname = sessions[0]['name']\n",
    "        except:\n",
    "            notebookname = notebookname  \n",
    "    \n",
    "    sep = '.'\n",
    "    path = os.getcwd()\n",
    "    #parent_path = str(Path(path).parent)\n",
    "    \n",
    "    ### Path report\n",
    "    #path_report = \"{}/Reports\".format(parent_path)\n",
    "    #path_report = \"{}/Reports\".format(path)\n",
    "    \n",
    "    ### Path destination\n",
    "    name_no_extension = notebookname.split(sep, 1)[0]\n",
    "    source_to_move = name_no_extension +'.{}'.format(extension)\n",
    "    dest = os.path.join(path,'Reports', source_to_move)\n",
    "    \n",
    "    ### Generate notebook\n",
    "    if keep_code:\n",
    "        os.system('jupyter nbconvert --to {} {}'.format(\n",
    "    extension,notebookname))\n",
    "    else:\n",
    "        os.system('jupyter nbconvert --no-input --to {} {}'.format(\n",
    "    extension,notebookname))\n",
    "    \n",
    "    ### Move notebook to report folder\n",
    "    #time.sleep(5)\n",
    "    shutil.move(source_to_move, dest)\n",
    "    print(\"Report Available at this adress:\\n {}\".format(dest))"
   ]
  },
  {
   "cell_type": "code",
   "execution_count": null,
   "metadata": {
    "kernel": "python3"
   },
   "outputs": [],
   "source": [
    "create_report(extension = \"html\", keep_code = True, notebookname = '05_tfp_computation.ipynb')"
   ]
  }
 ],
 "metadata": {
  "jupytext": {
   "formats": "ipynb,md"
  },
  "kernel_info": {
   "name": "python3"
  },
  "kernelspec": {
   "display_name": "SoS",
   "language": "sos",
   "name": "sos"
  },
  "language_info": {
   "codemirror_mode": "sos",
   "file_extension": ".sos",
   "mimetype": "text/x-sos",
   "name": "sos",
   "nbconvert_exporter": "sos_notebook.converter.SoS_Exporter",
   "pygments_lexer": "sos"
  },
  "nteract": {
   "version": "0.26.0"
  },
  "sos": {
   "kernels": [
    [
     "R",
     "ir",
     "R",
     "#DCDCDA",
     "r"
    ],
    [
     "SoS",
     "sos",
     "",
     "",
     "sos"
    ],
    [
     "python3",
     "python3",
     "python",
     "",
     {
      "name": "ipython",
      "version": 3
     }
    ]
   ],
   "version": "0.20.1"
  },
  "toc": {
   "base_numbering": 1,
   "nav_menu": {},
   "number_sections": true,
   "sideBar": true,
   "skip_h1_title": false,
   "title_cell": "Table of Contents",
   "title_sidebar": "Contents",
   "toc_cell": false,
   "toc_position": {},
   "toc_section_display": true,
   "toc_window_display": false
  }
 },
 "nbformat": 4,
 "nbformat_minor": 4
}
