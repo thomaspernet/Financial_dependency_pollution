{
 "cells": [
  {
   "cell_type": "markdown",
   "metadata": {
    "kernel": "SoS",
    "lines_to_next_cell": 0
   },
   "source": [
    "# Transform asif firms prepared data by constructing tfp_OP_f (estimate op TFP) to asif tfp firm level\n",
    "\n",
    "# US Name\n",
    "\n",
    "Transform asif firms prepared data by constructing tfp_OP_f (estimate op TFP) to asif tfp firm level \n",
    "\n",
    "# Business needs \n",
    "\n",
    "Transform asif firms prepared data by constructing tfp_OP_f (Estimate TFP using Olley and Pakes approach) to asif tfp firm level \n",
    "\n",
    "## Description\n",
    "### Objective \n",
    "\n",
    "Use existing table asif firms prepared to construct ZZ\n",
    "\n",
    "# Construction variables \n",
    "\n",
    "* tfp_OP_f\n",
    "\n",
    "### Steps \n",
    "\n",
    "1. Remove outliers\n",
    "2. Remove firm with different:\n",
    "  1. ownership, cities and industries over time\n",
    "3. Compute TFP using OP methodology\n",
    "\n",
    "\n",
    "**Cautious**\n",
    "Make sure there is no duplicates\n",
    "\n",
    "# Target\n",
    "\n",
    "* The file is saved in S3:\n",
    "  * bucket: datalake-datascience\n",
    "  * path: DATA/ECON/FIRM_SURVEY/ASIF_CHINA/TRANSFORMED/TFP/FIRM_LEVEL\n",
    "* Glue data catalog should be updated\n",
    "  * database:firms_survey\n",
    "  * Table prefix:asif_tfp_\n",
    "  * table name:asif_tfp_firm_level\n",
    "* Analytics\n",
    "  * HTML: ANALYTICS/HTML_OUTPUT/asif_tfp_firm_level\n",
    "  * Notebook: ANALYTICS/OUTPUT/asif_tfp_firm_level\n",
    "\n",
    "# Metadata\n",
    "\n",
    "* Key: qdy59wtof20713d\n",
    "* Parent key (for update parent):  \n",
    "* Epic: Dataset transformation\n",
    "* US: tfp_computation\n",
    "* Task tag: #tfp,#productivity,#r_instance,#firm\n",
    "* Notebook US Parent (i.e the one to update): \n",
    "https://github.com/thomaspernet/Financial_dependency_pollution/blob/master/01_data_preprocessing/02_transform_tables/05_tfp_computation.md\n",
    "* Reports: https://htmlpreview.github.io/?https://github.com/thomaspernet/Financial_dependency_pollution/blob/master/01_data_preprocessing/02_transform_tables/Reports/05_tfp_computation.html\n",
    "* Analytics reports:\n",
    "https://htmlpreview.github.io/?https://github.com/thomaspernet/Financial_dependency_pollution/blob/master/00_data_catalogue/HTML_ANALYSIS/ASIF_TFP_FIRM_LEVEL.html\n",
    "\n",
    "# Input Cloud Storage [AWS/GCP]\n",
    "\n",
    "## Table/file\n",
    "* Name: \n",
    "* asif_firms_prepared\n",
    "* Github: \n",
    "  * https://github.com/thomaspernet/Financial_dependency_pollution/blob/master/01_data_preprocessing/01_prepare_tables/00_prepare_asif.md\n",
    "\n",
    "# Destination Output/Delivery\n",
    "## Table/file\n",
    "* Name:\n",
    "* asif_tfp_firm_level\n",
    "* GitHub:\n",
    "* https://github.com/thomaspernet/Financial_dependency_pollution/blob/master/01_data_preprocessing/02_transform_tables/05_tfp_computation.md"
   ]
  },
  {
   "cell_type": "code",
   "execution_count": null,
   "metadata": {
    "collapsed": false,
    "inputHidden": false,
    "jupyter": {
     "outputs_hidden": false
    },
    "kernel": "python3",
    "outputHidden": false
   },
   "outputs": [],
   "source": [
    "from awsPy.aws_authorization import aws_connector\n",
    "from awsPy.aws_s3 import service_s3\n",
    "from awsPy.aws_glue import service_glue\n",
    "from pathlib import Path\n",
    "import pandas as pd\n",
    "#import numpy as np\n",
    "import seaborn as sns\n",
    "import os, shutil, json\n",
    "\n",
    "path = os.getcwd()\n",
    "parent_path = str(Path(path).parent.parent)\n",
    "\n",
    "\n",
    "name_credential = 'financial_dep_SO2_accessKeys.csv'\n",
    "region = 'eu-west-3'\n",
    "bucket = 'datalake-datascience'\n",
    "path_cred = \"{0}/creds/{1}\".format(parent_path, name_credential)"
   ]
  },
  {
   "cell_type": "code",
   "execution_count": null,
   "metadata": {
    "collapsed": false,
    "inputHidden": false,
    "jupyter": {
     "outputs_hidden": false
    },
    "kernel": "python3",
    "outputHidden": false
   },
   "outputs": [],
   "source": [
    "con = aws_connector.aws_instantiate(credential = path_cred,\n",
    "                                       region = region)\n",
    "client= con.client_boto()\n",
    "s3 = service_s3.connect_S3(client = client,\n",
    "                      bucket = bucket, verbose = True) \n",
    "glue = service_glue.connect_glue(client = client) "
   ]
  },
  {
   "cell_type": "code",
   "execution_count": null,
   "metadata": {
    "kernel": "python3"
   },
   "outputs": [],
   "source": [
    "pandas_setting = True\n",
    "if pandas_setting:\n",
    "    cm = sns.light_palette(\"green\", as_cmap=True)\n",
    "    pd.set_option('display.max_columns', None)\n",
    "    pd.set_option('display.max_colwidth', None)"
   ]
  },
  {
   "cell_type": "markdown",
   "metadata": {
    "kernel": "SoS"
   },
   "source": [
    "# Prepare query \n",
    "\n",
    "Write query and save the CSV back in the S3 bucket `datalake-datascience` "
   ]
  },
  {
   "cell_type": "markdown",
   "metadata": {
    "kernel": "SoS"
   },
   "source": [
    "# Steps\n",
    "\n",
    "1. Remove outliers: Remove 5 and 95% of the firms's output, employ and captal by year\n",
    "2. Remove when Input >= Output\n",
    "3. Remove firm with different:\n",
    "    - ownership, cities and industries over time\n",
    "\n",
    "Variables needed:\n",
    "\n",
    "- ID: `firm`\n",
    "- year: `year`\n",
    "- Output: `output`\n",
    "- Employement: `employ`\n",
    "- Capital: `captal`\n",
    "- Input: `midput` \n",
    "\n",
    "\n"
   ]
  },
  {
   "cell_type": "markdown",
   "metadata": {
    "kernel": "SoS"
   },
   "source": [
    "## Example step by step"
   ]
  },
  {
   "cell_type": "code",
   "execution_count": null,
   "metadata": {
    "kernel": "python3"
   },
   "outputs": [],
   "source": [
    "DatabaseName = 'firms_survey'\n",
    "s3_output_example = 'SQL_OUTPUT_ATHENA'"
   ]
  },
  {
   "cell_type": "markdown",
   "metadata": {
    "kernel": "python3"
   },
   "source": [
    "Check all firm ID are digits. "
   ]
  },
  {
   "cell_type": "code",
   "execution_count": null,
   "metadata": {
    "kernel": "python3"
   },
   "outputs": [],
   "source": [
    "query= \"\"\"\n",
    "SELECT test, COUNT(test) as count\n",
    "FROM (\n",
    "SELECT regexp_like(firm, '[a-zA-Z]') as test\n",
    "FROM \"firms_survey\".\"asif_firms_prepared\"\n",
    "  )\n",
    "  GROUP BY test\n",
    "\"\"\"\n",
    "output = s3.run_query(\n",
    "                    query=query,\n",
    "                    database=DatabaseName,\n",
    "                    s3_output=s3_output_example,\n",
    "    filename = 'example_1'\n",
    "                )\n",
    "output"
   ]
  },
  {
   "cell_type": "markdown",
   "metadata": {
    "kernel": "python3"
   },
   "source": [
    "Example firm with multiple cities, or ownerships or industries"
   ]
  },
  {
   "cell_type": "code",
   "execution_count": null,
   "metadata": {
    "kernel": "python3"
   },
   "outputs": [],
   "source": [
    "query = \"\"\"\n",
    "WITH test as (\n",
    "  SELECT \n",
    "    firm, \n",
    "    asif_firms_prepared.year, \n",
    "    output, \n",
    "    employ, \n",
    "    captal, \n",
    "    midput, \n",
    "    ownership, \n",
    "    geocode4_corr, \n",
    "    cic \n",
    "  FROM \n",
    "    asif_firms_prepared \n",
    "    INNER JOIN (\n",
    "      SELECT \n",
    "        year, \n",
    "        approx_percentile(output,.05) AS output_lower_bound, \n",
    "        approx_percentile(output,.98) AS output_upper_bound, \n",
    "        approx_percentile(employ,.05) AS employ_lower_bound, \n",
    "        approx_percentile(employ,.98) AS employ_upper_bound, \n",
    "        approx_percentile(captal,.05) AS captal_lower_bound, \n",
    "        approx_percentile(captal,.98) AS captal_upper_bound \n",
    "      FROM \n",
    "        \"firms_survey\".\"asif_firms_prepared\" \n",
    "      GROUP BY \n",
    "        year\n",
    "    ) as outliers ON asif_firms_prepared.year = outliers.year \n",
    "    INNER JOIN (\n",
    "      SELECT \n",
    "        extra_code, \n",
    "        geocode4_corr \n",
    "      FROM \n",
    "        chinese_lookup.china_city_code_normalised \n",
    "      GROUP BY \n",
    "        extra_code, \n",
    "        geocode4_corr\n",
    "    ) as no_dup_citycode ON asif_firms_prepared.citycode = no_dup_citycode.extra_code \n",
    "  WHERE \n",
    "    (\n",
    "      output > output_lower_bound \n",
    "      -- AND output < output_upper_bound \n",
    "      AND employ > employ_lower_bound \n",
    "      -- AND employ < employ_upper_bound \n",
    "      AND captal > captal_lower_bound \n",
    "      -- AND output < captal_upper_bound \n",
    "      AND asif_firms_prepared.year >= '2001' \n",
    "      AND asif_firms_prepared.year <= '2007'\n",
    "      AND output > midput \n",
    "      AND midput > 0\n",
    "    )\n",
    ") \n",
    "SELECT \n",
    "  test.firm, \n",
    "  year, \n",
    "  output, \n",
    "  employ, \n",
    "  captal, \n",
    "  midput, \n",
    "  ownership, \n",
    "  geocode4_corr,\n",
    "  count_city,\n",
    "  count_ownership,\n",
    "  count_industry\n",
    "FROM \n",
    "  test \n",
    "  INNER JOIN (\n",
    "    SELECT \n",
    "      firm, \n",
    "      COUNT(\n",
    "        DISTINCT(geocode4_corr)\n",
    "      ) AS count_city \n",
    "    FROM \n",
    "      test \n",
    "    GROUP BY \n",
    "      firm\n",
    "  ) as multi_cities ON test.firm = multi_cities.firm \n",
    "  INNER JOIN (\n",
    "    SELECT \n",
    "      firm, \n",
    "      COUNT(\n",
    "        DISTINCT(ownership)\n",
    "      ) AS count_ownership \n",
    "    FROM \n",
    "      test \n",
    "    GROUP BY \n",
    "      firm\n",
    "  ) as multi_ownership ON test.firm = multi_ownership.firm \n",
    "  INNER JOIN (\n",
    "    SELECT \n",
    "      firm, \n",
    "      COUNT(\n",
    "        DISTINCT(cic)\n",
    "      ) AS count_industry \n",
    "    FROM \n",
    "      test \n",
    "    GROUP BY \n",
    "      firm\n",
    "  ) as multi_industry ON test.firm = multi_industry.firm \n",
    "WHERE \n",
    "  test.firm  = '255463' \n",
    "  ORDER BY year\n",
    "\"\"\"\n",
    "output = s3.run_query(\n",
    "                    query=query,\n",
    "                    database=DatabaseName,\n",
    "                    s3_output=s3_output_example,\n",
    "    filename = 'example_2'\n",
    "                )\n",
    "output"
   ]
  },
  {
   "cell_type": "markdown",
   "metadata": {
    "kernel": "python3"
   },
   "source": [
    "Make sure the number of observations before filtering is higher than after"
   ]
  },
  {
   "cell_type": "code",
   "execution_count": null,
   "metadata": {
    "kernel": "python3"
   },
   "outputs": [],
   "source": [
    "query = \"\"\"\n",
    "WITH test as (\n",
    "  SELECT \n",
    "    firm, \n",
    "    asif_firms_prepared.year, \n",
    "    output, \n",
    "    employ, \n",
    "    captal, \n",
    "    midput, \n",
    "    ownership, \n",
    "    geocode4_corr, \n",
    "    cic \n",
    "  FROM \n",
    "    asif_firms_prepared \n",
    "    INNER JOIN (\n",
    "      SELECT \n",
    "        year, \n",
    "        approx_percentile(output,.05) AS output_lower_bound, \n",
    "        approx_percentile(output,.98) AS output_upper_bound, \n",
    "        approx_percentile(employ,.05) AS employ_lower_bound, \n",
    "        approx_percentile(employ,.98) AS employ_upper_bound, \n",
    "        approx_percentile(captal,.05) AS captal_lower_bound, \n",
    "        approx_percentile(captal,.98) AS captal_upper_bound \n",
    "      FROM \n",
    "        \"firms_survey\".\"asif_firms_prepared\" \n",
    "      GROUP BY \n",
    "        year\n",
    "    ) as outliers ON asif_firms_prepared.year = outliers.year \n",
    "    INNER JOIN (\n",
    "      SELECT \n",
    "        extra_code, \n",
    "        geocode4_corr \n",
    "      FROM \n",
    "        chinese_lookup.china_city_code_normalised \n",
    "      GROUP BY \n",
    "        extra_code, \n",
    "        geocode4_corr\n",
    "    ) as no_dup_citycode ON asif_firms_prepared.citycode = no_dup_citycode.extra_code \n",
    "  WHERE \n",
    "    (\n",
    "      output > output_lower_bound \n",
    "      -- AND output < output_upper_bound \n",
    "      AND employ > employ_lower_bound \n",
    "      -- AND employ < employ_upper_bound \n",
    "      AND captal > captal_lower_bound \n",
    "      -- AND output < captal_upper_bound \n",
    "      AND asif_firms_prepared.year >= '2001' \n",
    "      AND asif_firms_prepared.year <= '2007'\n",
    "      AND output > midput \n",
    "      AND midput > 0\n",
    "    )\n",
    ") \n",
    "SELECT \n",
    "  COUNT(*) as count\n",
    "FROM \n",
    "  test \n",
    "\n",
    "\"\"\"\n",
    "output = s3.run_query(\n",
    "                    query=query,\n",
    "                    database=DatabaseName,\n",
    "                    s3_output=s3_output_example,\n",
    "    filename = 'example_3'\n",
    "                )\n",
    "output"
   ]
  },
  {
   "cell_type": "code",
   "execution_count": null,
   "metadata": {
    "kernel": "python3"
   },
   "outputs": [],
   "source": [
    "query = \"\"\"\n",
    "WITH test as (\n",
    "  SELECT \n",
    "    firm, \n",
    "    asif_firms_prepared.year, \n",
    "    output, \n",
    "    employ, \n",
    "    captal, \n",
    "    midput, \n",
    "    ownership, \n",
    "    geocode4_corr, \n",
    "    cic \n",
    "  FROM \n",
    "    asif_firms_prepared \n",
    "    INNER JOIN (\n",
    "      SELECT \n",
    "        year, \n",
    "        approx_percentile(output,.05) AS output_lower_bound, \n",
    "        approx_percentile(output,.98) AS output_upper_bound, \n",
    "        approx_percentile(employ,.05) AS employ_lower_bound, \n",
    "        approx_percentile(employ,.98) AS employ_upper_bound, \n",
    "        approx_percentile(captal,.05) AS captal_lower_bound, \n",
    "        approx_percentile(captal,.98) AS captal_upper_bound \n",
    "      FROM \n",
    "        \"firms_survey\".\"asif_firms_prepared\" \n",
    "      GROUP BY \n",
    "        year\n",
    "    ) as outliers ON asif_firms_prepared.year = outliers.year \n",
    "    INNER JOIN (\n",
    "      SELECT \n",
    "        extra_code, \n",
    "        geocode4_corr \n",
    "      FROM \n",
    "        chinese_lookup.china_city_code_normalised \n",
    "      GROUP BY \n",
    "        extra_code, \n",
    "        geocode4_corr\n",
    "    ) as no_dup_citycode ON asif_firms_prepared.citycode = no_dup_citycode.extra_code \n",
    "  WHERE \n",
    "    (\n",
    "      output > output_lower_bound \n",
    "      -- AND output < output_upper_bound \n",
    "      AND employ > employ_lower_bound \n",
    "      -- AND employ < employ_upper_bound \n",
    "      AND captal > captal_lower_bound \n",
    "      -- AND output < captal_upper_bound \n",
    "      AND asif_firms_prepared.year >= '2001' \n",
    "      AND asif_firms_prepared.year <= '2007'\n",
    "      AND output > midput \n",
    "      AND midput > 0\n",
    "    )\n",
    ") \n",
    "SELECT \n",
    "  COUNT(*) AS count \n",
    "FROM \n",
    "  test \n",
    "  INNER JOIN (\n",
    "    SELECT \n",
    "      firm, \n",
    "      COUNT(\n",
    "        DISTINCT(geocode4_corr)\n",
    "      ) AS count_city \n",
    "    FROM \n",
    "      test \n",
    "    GROUP BY \n",
    "      firm\n",
    "  ) as multi_cities ON test.firm = multi_cities.firm \n",
    "  INNER JOIN (\n",
    "    SELECT \n",
    "      firm, \n",
    "      COUNT(\n",
    "        DISTINCT(ownership)\n",
    "      ) AS count_ownership \n",
    "    FROM \n",
    "      test \n",
    "    GROUP BY \n",
    "      firm\n",
    "  ) as multi_ownership ON test.firm = multi_ownership.firm \n",
    "  INNER JOIN (\n",
    "    SELECT \n",
    "      firm, \n",
    "      COUNT(\n",
    "        DISTINCT(cic)\n",
    "      ) AS count_industry \n",
    "    FROM \n",
    "      test \n",
    "    GROUP BY \n",
    "      firm\n",
    "  ) as multi_industry ON test.firm = multi_industry.firm \n",
    "WHERE \n",
    "  count_ownership = 1 \n",
    "  AND count_city = 1 \n",
    "  AND count_industry = 1 \n",
    "\"\"\"\n",
    "output = s3.run_query(\n",
    "                    query=query,\n",
    "                    database=DatabaseName,\n",
    "                    s3_output=s3_output_example,\n",
    "    filename = 'example_4'\n",
    "                )\n",
    "output"
   ]
  },
  {
   "cell_type": "markdown",
   "metadata": {
    "kernel": "python3"
   },
   "source": [
    "Count by year"
   ]
  },
  {
   "cell_type": "code",
   "execution_count": null,
   "metadata": {
    "kernel": "python3"
   },
   "outputs": [],
   "source": [
    "query =\"\"\"\n",
    "WITH test as ( \n",
    "  SELECT \n",
    "firm,\n",
    "asif_firms_prepared.year, \n",
    "output,\n",
    "employ,\n",
    "captal,\n",
    "midput,\n",
    "ownership,\n",
    "geocode4_corr,cic\n",
    "FROM asif_firms_prepared \n",
    "INNER JOIN (\n",
    "SELECT year,\n",
    "approx_percentile(output, .05) AS output_lower_bound,\n",
    "approx_percentile(output, .98) AS output_upper_bound,\n",
    "approx_percentile(employ, .05) AS employ_lower_bound,\n",
    "approx_percentile(employ, .98) AS employ_upper_bound,\n",
    "approx_percentile(captal, .05) AS captal_lower_bound,\n",
    "approx_percentile(captal, .98) AS captal_upper_bound\n",
    "FROM \"firms_survey\".\"asif_firms_prepared\"\n",
    "GROUP BY year\n",
    "  ) as outliers \n",
    "  ON asif_firms_prepared.year = outliers.year\n",
    "INNER JOIN (\n",
    "            SELECT \n",
    "              extra_code, \n",
    "              geocode4_corr \n",
    "            FROM \n",
    "              chinese_lookup.china_city_code_normalised \n",
    "            GROUP BY \n",
    "              extra_code, \n",
    "              geocode4_corr\n",
    "          ) as no_dup_citycode ON asif_firms_prepared.citycode = no_dup_citycode.extra_code\n",
    "WHERE (\n",
    "  output > output_lower_bound \n",
    "      -- AND output < output_upper_bound \n",
    "      AND employ > employ_lower_bound \n",
    "      -- AND employ < employ_upper_bound \n",
    "      AND captal > captal_lower_bound \n",
    "      -- AND output < captal_upper_bound \n",
    "      AND asif_firms_prepared.year >= '2001' \n",
    "      AND asif_firms_prepared.year <= '2007'\n",
    "      AND output > midput \n",
    "      AND midput > 0\n",
    "  )\n",
    "  )\n",
    "  SELECT \n",
    "  year, COUNT(*) as count\n",
    "  FROM test\n",
    "  INNER JOIN (\n",
    "  SELECT firm,COUNT(DISTINCT(geocode4_corr)) AS count_city\n",
    "  FROM test\n",
    "  GROUP BY firm \n",
    "    ) as multi_cities\n",
    "    ON test.firm = multi_cities.firm \n",
    "  INNER JOIN (\n",
    "  SELECT firm, COUNT(DISTINCT(ownership)) AS count_ownership\n",
    "  FROM test\n",
    "  GROUP BY firm  \n",
    "    ) as multi_ownership\n",
    "    ON test.firm = multi_ownership.firm\n",
    "  INNER JOIN (\n",
    "  SELECT firm, COUNT(DISTINCT(cic)) AS count_industry\n",
    "  FROM test\n",
    "  GROUP BY firm  \n",
    "    ) as multi_industry\n",
    "  ON test.firm = multi_industry.firm\n",
    "WHERE \n",
    "  count_ownership = 1 \n",
    "  AND count_city = 1 \n",
    "  AND count_industry = 1\n",
    " GROUP BY year\n",
    " ORDER BY year\n",
    "\n",
    "\"\"\"\n",
    "output = s3.run_query(\n",
    "                    query=query,\n",
    "                    database=DatabaseName,\n",
    "                    s3_output=s3_output_example,\n",
    "    filename = 'example_5'\n",
    "                )\n",
    "output"
   ]
  },
  {
   "cell_type": "markdown",
   "metadata": {
    "kernel": "SoS"
   },
   "source": [
    "# Table `asif_tfp_firm_level`\n"
   ]
  },
  {
   "cell_type": "markdown",
   "metadata": {
    "kernel": "SoS"
   },
   "source": [
    "By default, the query saves the data in `SQL_OUTPUT_ATHENA/CSV`, however, please paste the S3 key where the table transformed by R should be saved. \n",
    "\n",
    "Update:\n",
    "\n",
    "Relax the constraint on:\n",
    "\n",
    "- Big/small firms\n",
    "- switching city\n",
    "- switching industry\n",
    "- switching ownership\n",
    "\n",
    "We will predict the model using the constraint **but** we will predict on all firms"
   ]
  },
  {
   "cell_type": "code",
   "execution_count": null,
   "metadata": {
    "kernel": "python3"
   },
   "outputs": [],
   "source": [
    "s3_output = 'DATA/ECON/FIRM_SURVEY/ASIF_CHINA/TRANSFORMED/TFP/FIRM_LEVEL'\n",
    "table_name = 'asif_tfp_firm_level'\n",
    "\n",
    "LOCAL_PATH_CONFIG_FILE = os.path.join(str(Path(path).parent.parent),\n",
    "                                      '00_data_catalogue',\n",
    "                                      'temporary_local_data'\n",
    "                                      )\n",
    "\n",
    "path_temporary_file_out = os.path.join(str(Path(path).parent.parent),\n",
    "                                      '00_data_catalogue',\n",
    "                                      'temporary_local_data',\n",
    "                                   table_name + \".csv\"\n",
    "                                      )"
   ]
  },
  {
   "cell_type": "markdown",
   "metadata": {
    "kernel": "SoS"
   },
   "source": [
    "Clean up the folder with the previous csv file. Be careful, it will erase all files inside the folder"
   ]
  },
  {
   "cell_type": "code",
   "execution_count": null,
   "metadata": {
    "kernel": "python3"
   },
   "outputs": [],
   "source": [
    "s3.remove_all_bucket(path_remove = s3_output)"
   ]
  },
  {
   "cell_type": "code",
   "execution_count": null,
   "metadata": {
    "kernel": "python3"
   },
   "outputs": [],
   "source": [
    "query = \"\"\"\n",
    "WITH test as (\n",
    "  SELECT \n",
    "    firm, \n",
    "    asif_firms_prepared.year, \n",
    "    output, \n",
    "    employ, \n",
    "    captal, \n",
    "    midput, \n",
    "    ownership, \n",
    "    geocode4_corr, \n",
    "    cic,\n",
    "    CASE WHEN LENGTH(cic) = 4 THEN substr(cic, 1, 2) ELSE concat(\n",
    "            '0', \n",
    "            substr(cic, 1, 1)\n",
    "          ) END AS indu_2,\n",
    "          output_upper_bound,\n",
    "  employ_upper_bound,\n",
    "  captal_upper_bound\n",
    "  FROM \n",
    "    asif_firms_prepared \n",
    "    INNER JOIN (\n",
    "      SELECT \n",
    "        year, \n",
    "        approx_percentile(output,.05) AS output_lower_bound, \n",
    "        approx_percentile(output,.98) AS output_upper_bound, \n",
    "        approx_percentile(employ,.05) AS employ_lower_bound, \n",
    "        approx_percentile(employ,.98) AS employ_upper_bound, \n",
    "        approx_percentile(captal,.05) AS captal_lower_bound, \n",
    "        approx_percentile(captal,.98) AS captal_upper_bound \n",
    "      FROM \n",
    "        \"firms_survey\".\"asif_firms_prepared\" \n",
    "      GROUP BY \n",
    "        year\n",
    "    ) as outliers ON asif_firms_prepared.year = outliers.year \n",
    "    INNER JOIN (\n",
    "      SELECT \n",
    "        extra_code, \n",
    "        geocode4_corr \n",
    "      FROM \n",
    "        chinese_lookup.china_city_code_normalised \n",
    "      GROUP BY \n",
    "        extra_code, \n",
    "        geocode4_corr\n",
    "    ) as no_dup_citycode ON asif_firms_prepared.citycode = no_dup_citycode.extra_code \n",
    "  WHERE \n",
    "    (\n",
    "      output > output_lower_bound \n",
    "      -- AND output < output_upper_bound \n",
    "      AND employ > employ_lower_bound \n",
    "      -- AND employ < employ_upper_bound \n",
    "      AND captal > captal_lower_bound \n",
    "      -- AND output < captal_upper_bound \n",
    "      AND asif_firms_prepared.year >= '2001' \n",
    "      AND asif_firms_prepared.year <= '2007'\n",
    "      AND output > midput \n",
    "      AND midput > 0\n",
    "    )\n",
    ") \n",
    "SELECT \n",
    "  test.firm, \n",
    "  year, \n",
    "  output, \n",
    "  employ, \n",
    "  captal, \n",
    "  midput, \n",
    "  ownership, \n",
    "  geocode4_corr,\n",
    "  indu_2,\n",
    "  output_upper_bound,\n",
    "  employ_upper_bound,\n",
    "  captal_upper_bound,\n",
    "  count_ownership,\n",
    "  count_city,\n",
    "  count_industry\n",
    "FROM \n",
    "  test \n",
    "  INNER JOIN (\n",
    "    SELECT \n",
    "      firm, \n",
    "      COUNT(\n",
    "        DISTINCT(geocode4_corr)\n",
    "      ) AS count_city \n",
    "    FROM \n",
    "      test \n",
    "    GROUP BY \n",
    "      firm\n",
    "  ) as multi_cities ON test.firm = multi_cities.firm \n",
    "  INNER JOIN (\n",
    "    SELECT \n",
    "      firm, \n",
    "      COUNT(\n",
    "        DISTINCT(ownership)\n",
    "      ) AS count_ownership \n",
    "    FROM \n",
    "      test \n",
    "    GROUP BY \n",
    "      firm\n",
    "  ) as multi_ownership ON test.firm = multi_ownership.firm \n",
    "  INNER JOIN (\n",
    "    SELECT \n",
    "      firm, \n",
    "      COUNT(\n",
    "        DISTINCT(cic)\n",
    "      ) AS count_industry \n",
    "    FROM \n",
    "      test \n",
    "    GROUP BY \n",
    "      firm\n",
    "  ) as multi_industry ON test.firm = multi_industry.firm \n",
    "-- WHERE \n",
    "--  count_ownership = 1 \n",
    "--  AND count_city = 1 \n",
    "--  AND count_industry = 1 \n",
    "\"\"\"\n",
    "\n",
    "output = s3.run_query(\n",
    "                    query=query,\n",
    "                    database=DatabaseName,\n",
    "                    s3_output='SQL_OUTPUT_ATHENA/CSV'\n",
    "                )\n",
    "output"
   ]
  },
  {
   "cell_type": "markdown",
   "metadata": {
    "kernel": "SoS"
   },
   "source": [
    "Need to load the data to the instance"
   ]
  },
  {
   "cell_type": "code",
   "execution_count": null,
   "metadata": {
    "kernel": "python3"
   },
   "outputs": [],
   "source": [
    "s3.download_file(\n",
    "    key = os.path.join('SQL_OUTPUT_ATHENA/CSV', output['QueryID'] + \".csv\"),\n",
    "    path_local = LOCAL_PATH_CONFIG_FILE\n",
    ")\n",
    "os.rename(\n",
    "    os.path.join(LOCAL_PATH_CONFIG_FILE,output['QueryID']+'.csv'),\n",
    "    os.path.join(LOCAL_PATH_CONFIG_FILE,'temporary_file.csv'))"
   ]
  },
  {
   "cell_type": "markdown",
   "metadata": {
    "kernel": "SoS"
   },
   "source": [
    "Load the data in the instance, and open it using R. **DONT FORGET TO WRITE AGAIN THE TABLE NAME**"
   ]
  },
  {
   "cell_type": "code",
   "execution_count": null,
   "metadata": {
    "kernel": "SoS"
   },
   "outputs": [],
   "source": [
    "from pathlib import Path\n",
    "import os\n",
    "table_name = \"asif_tfp_firm_level\"\n",
    "\n",
    "path = os.getcwd()\n",
    "path_temporary_file = os.path.join(str(Path(path).parent.parent),\n",
    "                                      '00_data_catalogue',\n",
    "                                      'temporary_local_data',\n",
    "                                   'temporary_file.csv'\n",
    "                                      )\n",
    "path_temporary_file_out = os.path.join(str(Path(path).parent.parent),\n",
    "                                      '00_data_catalogue',\n",
    "                                      'temporary_local_data',\n",
    "                                   table_name + \".csv\"\n",
    "                                      )"
   ]
  },
  {
   "cell_type": "code",
   "execution_count": null,
   "metadata": {
    "kernel": "R"
   },
   "outputs": [],
   "source": [
    "options(warn=-1)\n",
    "library(tidyverse)"
   ]
  },
  {
   "cell_type": "code",
   "execution_count": null,
   "metadata": {
    "kernel": "R"
   },
   "outputs": [],
   "source": [
    "%get path_temporary_file\n",
    "df_input <- read_csv(path_temporary_file) \n",
    "df_input %>% head()"
   ]
  },
  {
   "cell_type": "code",
   "execution_count": null,
   "metadata": {
    "kernel": "R"
   },
   "outputs": [],
   "source": [
    "dim(df_input)"
   ]
  },
  {
   "cell_type": "markdown",
   "metadata": {
    "kernel": "R"
   },
   "source": [
    "Prepare R code for transformation, rename the final table `df_output`. Make sure there is no missing values, the crawler cannot handle missing values, neither any econometrics or machine learning model"
   ]
  },
  {
   "cell_type": "markdown",
   "metadata": {
    "kernel": "R"
   },
   "source": [
    "Note that, we change the program to make sure we can use it within our environment. The original file can be found here https://github.com/GabrieleRovigatti/prodest/tree/master/prodest/R\n",
    "\n",
    "We bring together the file https://github.com/GabrieleRovigatti/prodest/blob/master/prodest/R/auxFun.R and https://github.com/GabrieleRovigatti/prodest/blob/master/prodest/R/prodestOPLP.R. We change a few lines of codes to avoid issue with the data preparation. "
   ]
  },
  {
   "cell_type": "code",
   "execution_count": null,
   "metadata": {
    "kernel": "R"
   },
   "outputs": [],
   "source": [
    "path = \"TFP_R_PROGRAM/program_OP_TFP.R\"\n",
    "source(path)"
   ]
  },
  {
   "cell_type": "markdown",
   "metadata": {
    "kernel": "R"
   },
   "source": [
    "Estimate TFP excluding largest firms"
   ]
  },
  {
   "cell_type": "code",
   "execution_count": null,
   "metadata": {
    "kernel": "R"
   },
   "outputs": [],
   "source": [
    "df_train <- df_input %>% filter(\n",
    "    output < output_upper_bound \n",
    "    & \n",
    "employ < employ_upper_bound\n",
    "& \n",
    "captal < captal_upper_bound\n",
    "&count_ownership == 1 \n",
    "&count_city == 1 \n",
    "&count_industry == 1 \n",
    ")\n",
    "df_train$id_1 <- df_train %>% group_indices(firm) \n",
    "dim(df_train)"
   ]
  },
  {
   "cell_type": "code",
   "execution_count": null,
   "metadata": {
    "kernel": "python3"
   },
   "outputs": [],
   "source": [
    "import time\n",
    "start_time = time.time()"
   ]
  },
  {
   "cell_type": "code",
   "execution_count": null,
   "metadata": {
    "kernel": "R"
   },
   "outputs": [],
   "source": [
    "OP.fit <- prodestOP(Y = log(df_train$output),\n",
    "                    fX = log(df_train$employ),\n",
    "                    sX= log(df_train$captal),\n",
    "                    pX = log(df_train$midput),\n",
    "                    idvar = df_train$id_1,\n",
    "                    timevar = df_train$year)"
   ]
  },
  {
   "cell_type": "code",
   "execution_count": null,
   "metadata": {
    "kernel": "python3"
   },
   "outputs": [],
   "source": [
    "(time.time() - start_time)/60"
   ]
  },
  {
   "cell_type": "code",
   "execution_count": null,
   "metadata": {
    "kernel": "R"
   },
   "outputs": [],
   "source": [
    "OP.fit"
   ]
  },
  {
   "cell_type": "markdown",
   "metadata": {
    "kernel": "R"
   },
   "source": [
    "Compute the TFP using the coefficients of employment and capital.\n",
    "\n",
    "TFP is predicted on all firms"
   ]
  },
  {
   "cell_type": "code",
   "execution_count": null,
   "metadata": {
    "kernel": "R"
   },
   "outputs": [],
   "source": [
    "df_input$tfp_OP <- log(df_input$output) - (log(df_input$employ) * OP.fit$pars[1] +\n",
    "                                      log(df_input$captal) * OP.fit$pars[2])"
   ]
  },
  {
   "cell_type": "code",
   "execution_count": null,
   "metadata": {
    "kernel": "R"
   },
   "outputs": [],
   "source": [
    "df_output <- df_input #%>% select (-id_1)"
   ]
  },
  {
   "cell_type": "code",
   "execution_count": null,
   "metadata": {
    "kernel": "R"
   },
   "outputs": [],
   "source": [
    "glimpse(df_output)"
   ]
  },
  {
   "cell_type": "code",
   "execution_count": null,
   "metadata": {
    "kernel": "R"
   },
   "outputs": [],
   "source": [
    "df_output %>% filter(firm == '246379')"
   ]
  },
  {
   "cell_type": "markdown",
   "metadata": {
    "kernel": "R"
   },
   "source": [
    "Save the data with R in the temporary folder `00_data_catalogue/temporary_local_data`.\n",
    "\n",
    "If need to save the model, use `saveRDS(XX.fit, \"XX.rds\")` and choose another path in S3"
   ]
  },
  {
   "cell_type": "code",
   "execution_count": null,
   "metadata": {
    "kernel": "R"
   },
   "outputs": [],
   "source": [
    "%get path_temporary_file_out\n",
    "write.csv(df_output, path_temporary_file_out, row.names=FALSE)"
   ]
  },
  {
   "cell_type": "markdown",
   "metadata": {
    "kernel": "SoS"
   },
   "source": [
    "Save the data back in the S3 folder using Python"
   ]
  },
  {
   "cell_type": "code",
   "execution_count": null,
   "metadata": {
    "kernel": "python3"
   },
   "outputs": [],
   "source": [
    "s3.upload_file(file_to_upload = path_temporary_file_out, destination_in_s3 = s3_output)"
   ]
  },
  {
   "cell_type": "markdown",
   "metadata": {
    "kernel": "SoS"
   },
   "source": [
    "# Validate query\n",
    "\n",
    "This step is mandatory to validate the query in the ETL. If you are not sure about the quality of the query, go to the next step."
   ]
  },
  {
   "cell_type": "markdown",
   "metadata": {
    "kernel": "SoS"
   },
   "source": [
    "To validate the query, please fillin the json below. Don't forget to change the schema so that the crawler can use it.\n",
    "\n",
    "1. Add a partition key:\n",
    "    - Inform if there is group in the table so that, the parser can compute duplicate\n",
    "2. Add the steps number -> Not automtic yet. Start at 0\n",
    "3. Change the schema if needed. It is highly recommanded to add comment to the fields\n",
    "4. Provide a description -> detail the steps "
   ]
  },
  {
   "cell_type": "markdown",
   "metadata": {
    "kernel": "SoS"
   },
   "source": [
    "1. Add a partition key"
   ]
  },
  {
   "cell_type": "code",
   "execution_count": null,
   "metadata": {
    "kernel": "python3"
   },
   "outputs": [],
   "source": [
    "partition_keys = ['year', 'ownership']"
   ]
  },
  {
   "cell_type": "markdown",
   "metadata": {
    "kernel": "SoS"
   },
   "source": [
    "2. Add the steps number"
   ]
  },
  {
   "cell_type": "code",
   "execution_count": null,
   "metadata": {
    "kernel": "python3"
   },
   "outputs": [],
   "source": [
    "step = 3"
   ]
  },
  {
   "cell_type": "markdown",
   "metadata": {
    "kernel": "SoS"
   },
   "source": [
    "3. Change the schema\n",
    "\n",
    "Bear in mind that CSV SerDe (OpenCSVSerDe) does not support empty fields in columns defined as a numeric data type. All columns with missing values should be saved as string. "
   ]
  },
  {
   "cell_type": "code",
   "execution_count": null,
   "metadata": {
    "kernel": "python3"
   },
   "outputs": [],
   "source": [
    "#glue.get_table_information(\n",
    "#    database = DatabaseName,\n",
    "#    table = table_name)['Table']['StorageDescriptor']['Columns']"
   ]
  },
  {
   "cell_type": "code",
   "execution_count": null,
   "metadata": {
    "kernel": "python3"
   },
   "outputs": [],
   "source": [
    "schema = [\n",
    "    {\n",
    "        \"Name\": \"firm\",\n",
    "        \"Type\": \"string\",\n",
    "        \"Comment\": \"Firm ID\"\n",
    "    },\n",
    "    {\n",
    "        \"Name\": \"year\",\n",
    "        \"Type\": \"string\",\n",
    "        \"Comment\": \"\"\n",
    "    },\n",
    "    {\n",
    "        \"Name\": \"output\",\n",
    "        \"Type\": \"double\",\n",
    "        \"Comment\": \"output\"\n",
    "    },\n",
    "    {\n",
    "        \"Name\": \"employ\",\n",
    "        \"Type\": \"double\",\n",
    "        \"Comment\": \"employement\"\n",
    "    },\n",
    "    {\n",
    "        \"Name\": \"captal\",\n",
    "        \"Type\": \"double\",\n",
    "        \"Comment\": \"Capital\"\n",
    "    },\n",
    "    {\n",
    "        \"Name\": \"midput\",\n",
    "        \"Type\": \"double\",\n",
    "        \"Comment\": \"Intermediate input\"\n",
    "    },\n",
    "    {\n",
    "        \"Name\": \"ownership\",\n",
    "        \"Type\": \"string\",\n",
    "        \"Comment\": \"firm s ownership\"\n",
    "    },\n",
    "    {\n",
    "        \"Name\": \"geocode4_corr\",\n",
    "        \"Type\": \"string\",\n",
    "        \"Comment\": \"\"\n",
    "    },\n",
    "    {\n",
    "        \"Name\": \"indu_2\",\n",
    "        \"Type\": \"string\",\n",
    "        \"Comment\": \"\"\n",
    "    },\n",
    "    {\n",
    "        \"Name\": \"output_upper_bound\",\n",
    "        \"Type\": \"string\",\n",
    "        \"Comment\": \"\"\n",
    "    },\n",
    "    {\n",
    "        \"Name\": \"employ_upper_bound\",\n",
    "        \"Type\": \"string\",\n",
    "        \"Comment\": \"\"\n",
    "    },\n",
    "    {\n",
    "        \"Name\": \"captal_upper_bound\",\n",
    "        \"Type\": \"string\",\n",
    "        \"Comment\": \"\"\n",
    "    },\n",
    "    {\n",
    "        \"Name\": \"count_ownership\",\n",
    "        \"Type\": \"string\",\n",
    "        \"Comment\": \"Number of ownerships per firm\"\n",
    "    },\n",
    "    {\n",
    "        \"Name\": \"count_city\",\n",
    "        \"Type\": \"string\",\n",
    "        \"Comment\": \"Number of cities per firm\"\n",
    "    },\n",
    "    {\n",
    "        \"Name\": \"count_industry\",\n",
    "        \"Type\": \"string\",\n",
    "        \"Comment\": \"Number of industries per firm\"\n",
    "    },\n",
    "    {\n",
    "        \"Name\": \"tfp_OP\",\n",
    "        \"Type\": \"double\",\n",
    "        \"Comment\": \"Estimate TFP using Olley and Pakes approach\"\n",
    "    }\n",
    "]"
   ]
  },
  {
   "cell_type": "markdown",
   "metadata": {
    "kernel": "SoS"
   },
   "source": [
    "4. Provide a description"
   ]
  },
  {
   "cell_type": "code",
   "execution_count": null,
   "metadata": {
    "kernel": "python3"
   },
   "outputs": [],
   "source": [
    "description = \"\"\"\n",
    "Compute TFP using Olley and Pakes approach at the firm level\n",
    "\"\"\""
   ]
  },
  {
   "cell_type": "markdown",
   "metadata": {
    "kernel": "SoS"
   },
   "source": [
    "5. provide metadata\n",
    "\n",
    "- DatabaseName\n",
    "- TablePrefix\n",
    "- "
   ]
  },
  {
   "cell_type": "code",
   "execution_count": null,
   "metadata": {
    "kernel": "python3"
   },
   "outputs": [],
   "source": [
    "DatabaseName = 'firms_survey'\n",
    "TablePrefix = 'asif_tfp_'"
   ]
  },
  {
   "cell_type": "code",
   "execution_count": null,
   "metadata": {
    "kernel": "python3"
   },
   "outputs": [],
   "source": [
    "json_etl = {\n",
    "    'step': step,\n",
    "    'description':description,\n",
    "    'query':query,\n",
    "    'schema': schema,\n",
    "    'partition_keys':partition_keys,\n",
    "    'metadata':{\n",
    "    'DatabaseName' : DatabaseName,\n",
    "    'TablePrefix' : TablePrefix,\n",
    "    'target_S3URI' : os.path.join('s3://',bucket, s3_output),\n",
    "    'from_athena': 'True'    \n",
    "    }\n",
    "}\n",
    "json_etl"
   ]
  },
  {
   "cell_type": "code",
   "execution_count": null,
   "metadata": {
    "kernel": "python3"
   },
   "outputs": [],
   "source": [
    "with open(os.path.join(str(Path(path).parent), 'parameters_ETL_Financial_dependency_pollution.json')) as json_file:\n",
    "    parameters = json.load(json_file)"
   ]
  },
  {
   "cell_type": "markdown",
   "metadata": {
    "kernel": "SoS"
   },
   "source": [
    "Remove the step number from the current file (if exist)"
   ]
  },
  {
   "cell_type": "code",
   "execution_count": null,
   "metadata": {
    "kernel": "python3"
   },
   "outputs": [],
   "source": [
    "index_to_remove = next(\n",
    "                (\n",
    "                    index\n",
    "                    for (index, d) in enumerate(parameters['TABLES']['TRANSFORMATION']['STEPS'])\n",
    "                    if d[\"step\"] == step\n",
    "                ),\n",
    "                None,\n",
    "            )\n",
    "if index_to_remove != None:\n",
    "    parameters['TABLES']['TRANSFORMATION']['STEPS'].pop(index_to_remove)"
   ]
  },
  {
   "cell_type": "code",
   "execution_count": null,
   "metadata": {
    "kernel": "python3"
   },
   "outputs": [],
   "source": [
    "parameters['TABLES']['TRANSFORMATION']['STEPS'].append(json_etl)"
   ]
  },
  {
   "cell_type": "markdown",
   "metadata": {
    "kernel": "SoS"
   },
   "source": [
    "Save JSON"
   ]
  },
  {
   "cell_type": "code",
   "execution_count": null,
   "metadata": {
    "kernel": "python3"
   },
   "outputs": [],
   "source": [
    "with open(os.path.join(str(Path(path).parent), 'parameters_ETL_Financial_dependency_pollution.json'), \"w\")as outfile:\n",
    "    json.dump(parameters, outfile)"
   ]
  },
  {
   "cell_type": "markdown",
   "metadata": {
    "kernel": "SoS"
   },
   "source": [
    "# Create or update the data catalog\n",
    "\n",
    "The query is saved in the S3 (bucket `datalake-datascience`) but the table is not available yet in the Data Catalog. Use the function `create_table_glue` to generate the table and update the catalog.\n",
    "\n",
    "Few parameters are required:\n",
    "\n",
    "- name_crawler: Name of the crawler\n",
    "- Role: Role to temporary provide an access tho the service\n",
    "- DatabaseName: Name of the database to create the table\n",
    "- TablePrefix: Prefix of the table. Full name of the table will be `TablePrefix` + folder name\n",
    "\n",
    "To update the schema, please use the following structure\n",
    "\n",
    "```\n",
    "schema = [\n",
    "    {\n",
    "        \"Name\": \"VAR1\",\n",
    "        \"Type\": \"\",\n",
    "        \"Comment\": \"\"\n",
    "    },\n",
    "    {\n",
    "        \"Name\": \"VAR2\",\n",
    "        \"Type\": \"\",\n",
    "        \"Comment\": \"\"\n",
    "    }\n",
    "]\n",
    "```"
   ]
  },
  {
   "cell_type": "code",
   "execution_count": null,
   "metadata": {
    "kernel": "python3"
   },
   "outputs": [],
   "source": [
    "name_crawler = 'table-test-parser'\n",
    "Role = 'arn:aws:iam::468786073381:role/AWSGlueServiceRole-crawler-datalake'\n",
    "#DatabaseName = 'firms_survey'\n",
    "#TablePrefix = 'asif_tfp_'"
   ]
  },
  {
   "cell_type": "code",
   "execution_count": null,
   "metadata": {
    "kernel": "python3"
   },
   "outputs": [],
   "source": [
    "target_S3URI = os.path.join('s3://',bucket, s3_output)\n",
    "table_name = '{}{}'.format(TablePrefix, os.path.basename(target_S3URI).lower())"
   ]
  },
  {
   "cell_type": "code",
   "execution_count": null,
   "metadata": {
    "kernel": "python3"
   },
   "outputs": [],
   "source": [
    "glue.create_table_glue(\n",
    "    target_S3URI,\n",
    "    name_crawler,\n",
    "    Role,\n",
    "    DatabaseName,\n",
    "    TablePrefix,\n",
    "    from_athena=True,\n",
    "    update_schema=schema,\n",
    ")"
   ]
  },
  {
   "cell_type": "code",
   "execution_count": null,
   "metadata": {
    "kernel": "python3",
    "nteract": {
     "transient": {
      "deleting": false
     }
    }
   },
   "outputs": [],
   "source": [
    "query_count = \"\"\"\n",
    "SELECT COUNT(*) AS CNT\n",
    "FROM {}.{} \n",
    "\"\"\".format(DatabaseName, table_name)\n",
    "output = s3.run_query(\n",
    "                    query=query_count,\n",
    "                    database=DatabaseName,\n",
    "                    s3_output=s3_output_example,\n",
    "    filename = 'count_{}'.format(table_name)\n",
    "                )\n",
    "output"
   ]
  },
  {
   "cell_type": "markdown",
   "metadata": {
    "kernel": "SoS"
   },
   "source": [
    "## Check Duplicates\n",
    "\n",
    "One of the most important step when creating a table is to check if the table contains duplicates. The cell below checks if the table generated before is empty of duplicates. The code uses the JSON file to create the query parsed in Athena. \n",
    "\n",
    "You are required to define the group(s) that Athena will use to compute the duplicate. For instance, your table can be grouped by COL1 and COL2 (need to be string or varchar), then pass the list ['COL1', 'COL2'] "
   ]
  },
  {
   "cell_type": "code",
   "execution_count": null,
   "metadata": {
    "kernel": "python3"
   },
   "outputs": [],
   "source": [
    "partition_keys = ['firm', 'year']\n",
    "\n",
    "with open(os.path.join(str(Path(path).parent), 'parameters_ETL_Financial_dependency_pollution.json')) as json_file:\n",
    "    parameters = json.load(json_file)"
   ]
  },
  {
   "cell_type": "code",
   "execution_count": null,
   "metadata": {
    "kernel": "python3"
   },
   "outputs": [],
   "source": [
    "### COUNT DUPLICATES\n",
    "if len(partition_keys) > 0:\n",
    "    groups = ' , '.join(partition_keys)\n",
    "\n",
    "    query_duplicates = parameters[\"ANALYSIS\"]['COUNT_DUPLICATES']['query'].format(\n",
    "                                DatabaseName,table_name,groups\n",
    "                                )\n",
    "    dup = s3.run_query(\n",
    "                                query=query_duplicates,\n",
    "                                database=DatabaseName,\n",
    "                                s3_output=\"SQL_OUTPUT_ATHENA\",\n",
    "                                filename=\"duplicates_{}\".format(table_name))\n",
    "    display(dup)\n"
   ]
  },
  {
   "cell_type": "markdown",
   "metadata": {
    "kernel": "SoS"
   },
   "source": [
    "## Count missing values"
   ]
  },
  {
   "cell_type": "code",
   "execution_count": null,
   "metadata": {
    "kernel": "python3"
   },
   "outputs": [],
   "source": [
    "#table = 'XX'\n",
    "schema = glue.get_table_information(\n",
    "    database = DatabaseName,\n",
    "    table = table_name\n",
    ")['Table']\n",
    "schema"
   ]
  },
  {
   "cell_type": "code",
   "execution_count": null,
   "metadata": {
    "kernel": "python3"
   },
   "outputs": [],
   "source": [
    "from datetime import date\n",
    "today = date.today().strftime('%Y%M%d')"
   ]
  },
  {
   "cell_type": "code",
   "execution_count": null,
   "metadata": {
    "kernel": "python3"
   },
   "outputs": [],
   "source": [
    "table_top = parameters[\"ANALYSIS\"][\"COUNT_MISSING\"][\"top\"]\n",
    "table_middle = \"\"\n",
    "table_bottom = parameters[\"ANALYSIS\"][\"COUNT_MISSING\"][\"bottom\"].format(\n",
    "    DatabaseName, table_name\n",
    ")\n",
    "\n",
    "for key, value in enumerate(schema[\"StorageDescriptor\"][\"Columns\"]):\n",
    "    if key == len(schema[\"StorageDescriptor\"][\"Columns\"]) - 1:\n",
    "\n",
    "        table_middle += \"{} \".format(\n",
    "            parameters[\"ANALYSIS\"][\"COUNT_MISSING\"][\"middle\"].format(value[\"Name\"])\n",
    "        )\n",
    "    else:\n",
    "        table_middle += \"{} ,\".format(\n",
    "            parameters[\"ANALYSIS\"][\"COUNT_MISSING\"][\"middle\"].format(value[\"Name\"])\n",
    "        )\n",
    "query = table_top + table_middle + table_bottom\n",
    "output = s3.run_query(\n",
    "    query=query,\n",
    "    database=DatabaseName,\n",
    "    s3_output=\"SQL_OUTPUT_ATHENA\",\n",
    "    filename=\"count_missing\",  ## Add filename to print dataframe\n",
    "    destination_key=None,  ### Add destination key if need to copy output\n",
    ")\n",
    "display(\n",
    "    output.T.rename(columns={0: \"total_missing\"})\n",
    "    .assign(total_missing_pct=lambda x: x[\"total_missing\"] / x.iloc[0, 0])\n",
    "    .sort_values(by=[\"total_missing\"], ascending=False)\n",
    "    .style.format(\"{0:,.2%}\", subset=[\"total_missing_pct\"])\n",
    "    .bar(subset=\"total_missing_pct\", color=[\"#d65f5f\"])\n",
    ")"
   ]
  },
  {
   "cell_type": "markdown",
   "metadata": {
    "kernel": "SoS"
   },
   "source": [
    "# Update Github Data catalog\n",
    "\n",
    "The data catalog is available in Glue. Although, we might want to get a quick access to the tables in Github. In this part, we are generating a `README.md` in the folder `00_data_catalogue`. All tables used in the project will be added to the catalog. We use the ETL parameter file and the schema in Glue to create the README. \n",
    "\n",
    "Bear in mind the code will erase the previous README. "
   ]
  },
  {
   "cell_type": "code",
   "execution_count": null,
   "metadata": {
    "kernel": "python3"
   },
   "outputs": [],
   "source": [
    "README = \"\"\"\n",
    "# Data Catalogue\n",
    "\n",
    "{}\n",
    "\n",
    "    \"\"\"\n",
    "\n",
    "top_readme = \"\"\"\n",
    "\n",
    "## Table of Content\n",
    "\n",
    "    \"\"\"\n",
    "\n",
    "template = \"\"\"\n",
    "\n",
    "## Table {0}\n",
    "\n",
    "- Database: {1}\n",
    "- S3uri: `{2}`\n",
    "- Partitition: {3}\n",
    "\n",
    "{4}\n",
    "\n",
    "    \"\"\"\n",
    "github_link = os.path.join(\"https://github.com/\", parameters['GLOBAL']['GITHUB']['owner'],\n",
    "                           parameters['GLOBAL']['GITHUB']['repo_name'], \"tree/master/00_data_catalogue#table-\")\n",
    "for key, value in parameters['TABLES'].items():\n",
    "    if key == 'CREATION':\n",
    "        param = 'ALL_SCHEMA'\n",
    "    else:\n",
    "        param = 'STEPS'\n",
    "        \n",
    "    for schema in parameters['TABLES'][key][param]:\n",
    "        description = schema['description']\n",
    "        DatabaseName = schema['metadata']['DatabaseName']\n",
    "        target_S3URI = schema['metadata']['target_S3URI']\n",
    "        partition = schema['partition_keys']\n",
    "        \n",
    "        if param =='ALL_SCHEMA':\n",
    "            table_name = '{}{}'.format(\n",
    "                schema['metadata']['TablePrefix'],\n",
    "                os.path.basename(schema['metadata']['target_S3URI']).lower()\n",
    "            )\n",
    "        else:\n",
    "            try:\n",
    "                table_name = schema['metadata']['TableName']\n",
    "            except:\n",
    "                table_name = '{}{}'.format(\n",
    "                schema['metadata']['TablePrefix'],\n",
    "                os.path.basename(schema['metadata']['target_S3URI']).lower()\n",
    "            )\n",
    "        \n",
    "        tb = pd.json_normalize(schema['schema']).to_markdown()\n",
    "        toc = \"{}{}\".format(github_link, table_name)\n",
    "        top_readme += '\\n- [{0}]({1})'.format(table_name, toc)\n",
    "\n",
    "        README += template.format(table_name,\n",
    "                                  DatabaseName,\n",
    "                                  target_S3URI,\n",
    "                                  partition,\n",
    "                                  tb\n",
    "                                  )\n",
    "README = README.format(top_readme)\n",
    "with open(os.path.join(str(Path(path).parent.parent), '00_data_catalogue/README.md'), \"w\") as outfile:\n",
    "    outfile.write(README)"
   ]
  },
  {
   "cell_type": "markdown",
   "metadata": {
    "kernel": "SoS"
   },
   "source": [
    "# Analytics\n",
    "\n",
    "In this part, we are providing basic summary statistic. Since we have created the tables, we can parse the schema in Glue and use our json file to automatically generates the analysis.\n",
    "\n",
    "The cells below execute the job in the key `ANALYSIS`. You need to change the `primary_key` and `secondary_key` "
   ]
  },
  {
   "cell_type": "markdown",
   "metadata": {
    "kernel": "SoS"
   },
   "source": [
    "For a full analysis of the table, please use the following Lambda function. Be patient, it can takes between 5 to 30 minutes. Times varies according to the number of columns in your dataset.\n",
    "\n",
    "Use the function as follow:\n",
    "\n",
    "- `output_prefix`:  s3://datalake-datascience/ANALYTICS/OUTPUT/TABLE_NAME/\n",
    "- `region`: region where the table is stored\n",
    "- `bucket`: Name of the bucket\n",
    "- `DatabaseName`: Name of the database\n",
    "- `table_name`: Name of the table\n",
    "- `group`: variables name to group to count the duplicates\n",
    "- `primary_key`: Variable name to perform the grouping -> Only one variable for now\n",
    "- `secondary_key`: Variable name to perform the secondary grouping -> Only one variable for now\n",
    "- `proba`: Chi-square analysis probabilitity\n",
    "- `y_var`: Continuous target variables\n",
    "\n",
    "Check the job processing in Sagemaker: https://eu-west-3.console.aws.amazon.com/sagemaker/home?region=eu-west-3#/processing-jobs\n",
    "\n",
    "The notebook is available: https://s3.console.aws.amazon.com/s3/buckets/datalake-datascience?region=eu-west-3&prefix=ANALYTICS/OUTPUT/&showversions=false\n",
    "\n",
    "Please, download the notebook on your local machine, and convert it to HTML:\n",
    "\n",
    "```\n",
    "cd \"/Users/thomas/Downloads/Notebook\"\n",
    "aws s3 cp s3://datalake-datascience/ANALYTICS/OUTPUT/asif_unzip_data_csv/Template_analysis_from_lambda-2020-11-22-08-12-20.ipynb .\n",
    "\n",
    "## convert HTML no code\n",
    "jupyter nbconvert --no-input --to html Template_analysis_from_lambda-2020-11-21-14-30-45.ipynb\n",
    "jupyter nbconvert --to html Template_analysis_from_lambda-2020-11-22-08-12-20.ipynb\n",
    "```\n",
    "\n",
    "Then upload the HTML to: https://s3.console.aws.amazon.com/s3/buckets/datalake-datascience?region=eu-west-3&prefix=ANALYTICS/HTML_OUTPUT/\n",
    "\n",
    "Add a new folder with the table name in upper case"
   ]
  },
  {
   "cell_type": "code",
   "execution_count": null,
   "metadata": {
    "kernel": "python3"
   },
   "outputs": [],
   "source": [
    "import boto3\n",
    "\n",
    "key, secret_ = con.load_credential()\n",
    "client_lambda = boto3.client(\n",
    "    'lambda',\n",
    "    aws_access_key_id=key,\n",
    "    aws_secret_access_key=secret_,\n",
    "    region_name = region)"
   ]
  },
  {
   "cell_type": "code",
   "execution_count": null,
   "metadata": {
    "kernel": "python3"
   },
   "outputs": [],
   "source": [
    "primary_key = 'year'\n",
    "secondary_key = 'ownership'\n",
    "y_var = 'tfp_OP'"
   ]
  },
  {
   "cell_type": "code",
   "execution_count": null,
   "metadata": {
    "kernel": "python3"
   },
   "outputs": [],
   "source": [
    "payload = {\n",
    "    \"input_path\": \"s3://datalake-datascience/ANALYTICS/TEMPLATE_NOTEBOOKS/template_analysis_from_lambda.ipynb\",\n",
    "    \"output_prefix\": \"s3://datalake-datascience/ANALYTICS/OUTPUT/{}/\".format(table_name.upper()),\n",
    "    \"parameters\": {\n",
    "        \"region\": \"{}\".format(region),\n",
    "        \"bucket\": \"{}\".format(bucket),\n",
    "        \"DatabaseName\": \"{}\".format(DatabaseName),\n",
    "        \"table_name\": \"{}\".format(table_name),\n",
    "        \"group\": \"{}\".format(','.join(partition_keys)),\n",
    "        \"keys\": \"{},{}\".format(primary_key,secondary_key),\n",
    "        \"y_var\": \"{}\".format(y_var),\n",
    "        \"threshold\":0\n",
    "    },\n",
    "}\n",
    "payload"
   ]
  },
  {
   "cell_type": "code",
   "execution_count": null,
   "metadata": {
    "kernel": "python3"
   },
   "outputs": [],
   "source": [
    "response = client_lambda.invoke(\n",
    "    FunctionName='RunNotebook',\n",
    "    InvocationType='RequestResponse',\n",
    "    LogType='Tail',\n",
    "    Payload=json.dumps(payload),\n",
    ")\n",
    "response"
   ]
  },
  {
   "cell_type": "markdown",
   "metadata": {
    "kernel": "SoS"
   },
   "source": [
    "# Generation report"
   ]
  },
  {
   "cell_type": "code",
   "execution_count": null,
   "metadata": {
    "kernel": "python3"
   },
   "outputs": [],
   "source": [
    "import os, time, shutil, urllib, ipykernel, json\n",
    "from pathlib import Path\n",
    "from notebook import notebookapp"
   ]
  },
  {
   "cell_type": "code",
   "execution_count": null,
   "metadata": {
    "kernel": "python3"
   },
   "outputs": [],
   "source": [
    "def create_report(extension = \"html\", keep_code = False, notebookname = None):\n",
    "    \"\"\"\n",
    "    Create a report from the current notebook and save it in the \n",
    "    Report folder (Parent-> child directory)\n",
    "    \n",
    "    1. Exctract the current notbook name\n",
    "    2. Convert the Notebook \n",
    "    3. Move the newly created report\n",
    "    \n",
    "    Args:\n",
    "    extension: string. Can be \"html\", \"pdf\", \"md\"\n",
    "    \n",
    "    \n",
    "    \"\"\"\n",
    "    \n",
    "    ### Get notebook name\n",
    "    connection_file = os.path.basename(ipykernel.get_connection_file())\n",
    "    kernel_id = connection_file.split('-', 1)[0].split('.')[0]\n",
    "\n",
    "    for srv in notebookapp.list_running_servers():\n",
    "        try:\n",
    "            if srv['token']=='' and not srv['password']:  \n",
    "                req = urllib.request.urlopen(srv['url']+'api/sessions')\n",
    "            else:\n",
    "                req = urllib.request.urlopen(srv['url']+ \\\n",
    "                                             'api/sessions?token=' + \\\n",
    "                                             srv['token'])\n",
    "            sessions = json.load(req)\n",
    "            notebookname = sessions[0]['name']\n",
    "        except:\n",
    "            notebookname = notebookname  \n",
    "    \n",
    "    sep = '.'\n",
    "    path = os.getcwd()\n",
    "    #parent_path = str(Path(path).parent)\n",
    "    \n",
    "    ### Path report\n",
    "    #path_report = \"{}/Reports\".format(parent_path)\n",
    "    #path_report = \"{}/Reports\".format(path)\n",
    "    \n",
    "    ### Path destination\n",
    "    name_no_extension = notebookname.split(sep, 1)[0]\n",
    "    source_to_move = name_no_extension +'.{}'.format(extension)\n",
    "    dest = os.path.join(path,'Reports', source_to_move)\n",
    "    \n",
    "    ### Generate notebook\n",
    "    if keep_code:\n",
    "        os.system('jupyter nbconvert --to {} {}'.format(\n",
    "    extension,notebookname))\n",
    "    else:\n",
    "        os.system('jupyter nbconvert --no-input --to {} {}'.format(\n",
    "    extension,notebookname))\n",
    "    \n",
    "    ### Move notebook to report folder\n",
    "    #time.sleep(5)\n",
    "    shutil.move(source_to_move, dest)\n",
    "    print(\"Report Available at this adress:\\n {}\".format(dest))"
   ]
  },
  {
   "cell_type": "code",
   "execution_count": null,
   "metadata": {
    "kernel": "python3"
   },
   "outputs": [],
   "source": [
    "create_report(extension = \"html\", keep_code = True, notebookname = '05_tfp_computation.ipynb')"
   ]
  }
 ],
 "metadata": {
  "jupytext": {
   "formats": "ipynb,md"
  },
  "kernel_info": {
   "name": "python3"
  },
  "kernelspec": {
   "display_name": "SoS",
   "language": "sos",
   "name": "sos"
  },
  "language_info": {
   "codemirror_mode": "sos",
   "file_extension": ".sos",
   "mimetype": "text/x-sos",
   "name": "sos",
   "nbconvert_exporter": "sos_notebook.converter.SoS_Exporter",
   "pygments_lexer": "sos"
  },
  "nteract": {
   "version": "0.26.0"
  },
  "sos": {
   "kernels": [
    [
     "R",
     "ir",
     "R",
     "#DCDCDA",
     "r"
    ],
    [
     "SoS",
     "sos",
     "",
     "",
     "sos"
    ],
    [
     "python3",
     "python3",
     "python",
     "",
     {
      "name": "ipython",
      "version": 3
     }
    ]
   ],
   "version": "0.20.1"
  },
  "toc": {
   "base_numbering": 1,
   "nav_menu": {},
   "number_sections": true,
   "sideBar": true,
   "skip_h1_title": false,
   "title_cell": "Table of Contents",
   "title_sidebar": "Contents",
   "toc_cell": false,
   "toc_position": {},
   "toc_section_display": true,
   "toc_window_display": false
  }
 },
 "nbformat": 4,
 "nbformat_minor": 4
}
