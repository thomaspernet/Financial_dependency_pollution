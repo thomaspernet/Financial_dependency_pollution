{
 "cells": [
  {
   "cell_type": "markdown",
   "metadata": {
    "lines_to_next_cell": 0
   },
   "source": [
    "# US Name\n",
    "Data preparation Prepare firm financial ratio and TFP with pollution information\n",
    "\n",
    "# Description\n",
    "None\n",
    "## Merge\n",
    "**Main table** \n",
    "None\n",
    "Merged with:\n",
    "None\n",
    "# Target\n",
    "- The file is saved in S3:\n",
    "- bucket: datalake-datascience\n",
    "- path: DATA/ENVIRONMENT/CHINA/FINANCIAL_DEPENDENCY_POLLUTION\n",
    "- Glue data catalog should be updated\n",
    "- database: environment\n",
    "- Table prefix: china_\n",
    "- table name: china_financial_dependency_pollution\n",
    "- Analytics\n",
    "- HTML: ANALYTICS/HTML_OUTPUT/china_financial_dependency_pollution\n",
    "- Notebook: ANALYTICS/OUTPUT/china_financial_dependency_pollution\n",
    "# Metadata\n",
    "- Key: 515_Financial_dependency_pollution\n",
    "- Epic: Dataset transformation\n",
    "- US: Prepare ASIF firm level data\n",
    "- Task tag: #etl-Financial-dependency-pollution, #financial-data, #financial-ratio, #pollution-china, #prepare-table-Financial-dependency-pollution\n",
    "- Analytics reports: https://htmlpreview.github.io/?https://github.com/thomaspernet/Financial_dependency_pollution/blob/master/00_data_catalog/HTML_ANALYSIS/china_FINANCIAL_DEPENDENCY_POLLUTION.html\n",
    "# Input\n",
    "## Table/file\n",
    "**Name**\n",
    "None\n",
    "**Github**\n",
    "- https://github.com/thomaspernet/Financial_dependency_pollution/blob/master/01_data_preprocessing/02_transform_tables/11_firm_pollution_financial_ratio_tfp.md"
   ]
  },
  {
   "cell_type": "code",
   "execution_count": null,
   "metadata": {
    "collapsed": false,
    "inputHidden": false,
    "jupyter": {
     "outputs_hidden": false
    },
    "outputHidden": false
   },
   "outputs": [],
   "source": [
    "from awsPy.aws_authorization import aws_connector\n",
    "from awsPy.aws_s3 import service_s3\n",
    "from awsPy.aws_glue import service_glue\n",
    "from pathlib import Path\n",
    "import pandas as pd\n",
    "import numpy as np\n",
    "import seaborn as sns\n",
    "import os, shutil, json, re\n",
    "\n",
    "path = os.getcwd()\n",
    "parent_path = str(Path(path).parent.parent)\n",
    "\n",
    "\n",
    "name_credential = 'financial_dep_SO2_accessKeys.csv'\n",
    "region = 'eu-west-2'\n",
    "bucket = 'datalake-london'\n",
    "path_cred = \"{0}/creds/{1}\".format(parent_path, name_credential)"
   ]
  },
  {
   "cell_type": "code",
   "execution_count": null,
   "metadata": {
    "collapsed": false,
    "inputHidden": false,
    "jupyter": {
     "outputs_hidden": false
    },
    "outputHidden": false
   },
   "outputs": [],
   "source": [
    "con = aws_connector.aws_instantiate(credential = path_cred,\n",
    "                                       region = region)\n",
    "client= con.client_boto()\n",
    "s3 = service_s3.connect_S3(client = client,\n",
    "                      bucket = bucket, verbose = True) \n",
    "glue = service_glue.connect_glue(client = client) "
   ]
  },
  {
   "cell_type": "code",
   "execution_count": null,
   "metadata": {},
   "outputs": [],
   "source": [
    "pandas_setting = True\n",
    "if pandas_setting:\n",
    "    cm = sns.light_palette(\"green\", as_cmap=True)\n",
    "    pd.set_option('display.max_columns', None)\n",
    "    pd.set_option('display.max_colwidth', None)"
   ]
  },
  {
   "cell_type": "markdown",
   "metadata": {},
   "source": [
    "# Prepare query \n",
    "\n",
    "Write query and save the CSV back in the S3 bucket `datalake-datascience` "
   ]
  },
  {
   "cell_type": "markdown",
   "metadata": {},
   "source": [
    "# Steps"
   ]
  },
  {
   "cell_type": "code",
   "execution_count": null,
   "metadata": {},
   "outputs": [],
   "source": [
    "DatabaseName = 'environment'\n",
    "s3_output_example = 'SQL_OUTPUT_ATHENA'"
   ]
  },
  {
   "cell_type": "markdown",
   "metadata": {},
   "source": [
    "# Table `XX`\n",
    "\n",
    "Since the table to create has missing value, please use the following at the top of the query\n",
    "\n",
    "```\n",
    "CREATE TABLE database.table_name WITH (format = 'PARQUET') AS\n",
    "```"
   ]
  },
  {
   "cell_type": "markdown",
   "metadata": {},
   "source": [
    "Choose a location in S3 to save the CSV. It is recommended to save in it the `datalake-datascience` bucket. Locate an appropriate folder in the bucket, and make sure all output have the same format"
   ]
  },
  {
   "cell_type": "code",
   "execution_count": null,
   "metadata": {},
   "outputs": [],
   "source": [
    "s3_output = 'DATA/ENVIRONMENT/CHINA/FINANCIAL_DEPENDENCY_POLLUTION'\n",
    "table_name = 'china_financial_dependency_pollution'"
   ]
  },
  {
   "cell_type": "markdown",
   "metadata": {},
   "source": [
    "First, we need to delete the table (if exist)"
   ]
  },
  {
   "cell_type": "code",
   "execution_count": null,
   "metadata": {},
   "outputs": [],
   "source": [
    "try:\n",
    "    response = glue.delete_table(\n",
    "        database=DatabaseName,\n",
    "        table=table_name\n",
    "    )\n",
    "    print(response)\n",
    "except Exception as e:\n",
    "    print(e)"
   ]
  },
  {
   "cell_type": "markdown",
   "metadata": {},
   "source": [
    "Clean up the folder with the previous csv file. Be careful, it will erase all files inside the folder"
   ]
  },
  {
   "cell_type": "code",
   "execution_count": null,
   "metadata": {},
   "outputs": [],
   "source": [
    "s3.remove_all_bucket(path_remove = s3_output)"
   ]
  },
  {
   "cell_type": "code",
   "execution_count": null,
   "metadata": {},
   "outputs": [],
   "source": [
    "%%time\n",
    "query = \"\"\"\n",
    "CREATE TABLE {0}.{1} WITH (format = 'PARQUET') AS\n",
    "WITH test AS (\n",
    "  SELECT \n",
    "    *, \n",
    "    CASE WHEN LENGTH(cic) = 4 THEN substr(cic, 1, 2) ELSE concat(\n",
    "      '0', \n",
    "      substr(cic, 1, 1)\n",
    "    ) END AS indu_2, \n",
    "    c80 + c81 + c82 + c79 as current_asset, \n",
    "    c91 + c92 AS intangible, \n",
    "    tofixed - cudepre AS tangible, \n",
    "    tofixed - cudepre + (c91 + c92) AS net_non_current, \n",
    "    (\n",
    "      c80 + c81 + c82 + c79 + tofixed - cudepre + (c91 + c92)\n",
    "    ) - (c95 + c97 + c99) AS error, \n",
    "    c95 + c97 as total_liabilities, \n",
    "    CASE WHEN (\n",
    "      c80 + c81 + c82 + c79 + tofixed - cudepre + (c91 + c92)\n",
    "    ) - (c95 + c97 + c99) > 0 THEN (c95 + c97 + c99) + ABS(\n",
    "      (\n",
    "        c80 + c81 + c82 + c79 + tofixed - cudepre + (c91 + c92)\n",
    "      ) - (c95 + c97 + c99)\n",
    "    ) ELSE (c95 + c97 + c99) END AS total_right, \n",
    "    CASE WHEN (\n",
    "      c80 + c81 + c82 + c79 + tofixed - cudepre + (c91 + c92)\n",
    "    ) - (c95 + c97 + c99) < 0 THEN (\n",
    "      c80 + c81 + c82 + c79 + tofixed - cudepre + (c91 + c92)\n",
    "    ) + ABS(\n",
    "      (\n",
    "        c80 + c81 + c82 + c79 + tofixed - cudepre + (c91 + c92)\n",
    "      ) - (c95 + c97 + c99)\n",
    "    ) ELSE (\n",
    "      c80 + c81 + c82 + c79 + tofixed - cudepre + (c91 + c92)\n",
    "    ) END AS total_asset, \n",
    "    (c131 - c134) + cudepre as cashflow \n",
    "  FROM \n",
    "    environment.china_firm_pollution_data \n",
    "    INNER JOIN (\n",
    "      SELECT \n",
    "        extra_code, \n",
    "        geocode4_corr, \n",
    "        province_en \n",
    "      FROM \n",
    "        chinese_lookup.china_city_code_normalised \n",
    "      GROUP BY \n",
    "        extra_code, \n",
    "        province_en, \n",
    "        geocode4_corr\n",
    "    ) as no_dup_citycode ON china_firm_pollution_data.citycode = no_dup_citycode.extra_code \n",
    "  WHERE \n",
    "    c95 > 0 -- current liabilities\n",
    "    AND c97 > 0 -- long term liabilities\n",
    "    AND c98 > 0 -- total liabilities\n",
    "    AND c99 > 0 -- equity\n",
    "    AND c80 + c81 + c82 + c79 > 0 \n",
    "    AND tofixed > 0 \n",
    "    AND output > 0 \n",
    "    and employ > 0\n",
    ") \n",
    "SELECT \n",
    "  test.year, \n",
    "  test.firm, \n",
    "  name, \n",
    "  test.geocode4_corr, \n",
    "  province_en, \n",
    "  cic_adj, \n",
    "  \"cic03\", \n",
    "  indu_2, \n",
    "  ownership_new, \n",
    "  \"age\", \n",
    "  \"tfp_op\", \n",
    "  \"tfp_lp\", \n",
    "  CAST(\n",
    "    (output) AS DECIMAL(16, 5)\n",
    "  ) AS output, \n",
    "  CAST(\n",
    "    (outputdefl) AS DECIMAL(16, 5)\n",
    "  ) AS outputdefl, \n",
    "  CAST(\n",
    "    (sales) AS DECIMAL(16, 5)\n",
    "  ) AS sales, \n",
    "  CAST(\n",
    "    (employ) AS DECIMAL(16, 5)\n",
    "  ) AS employment, \n",
    "  CAST(\n",
    "    (captal) AS DECIMAL(16, 5)\n",
    "  ) AS capital, \n",
    "  (current_asset) AS current_asset, \n",
    "  (tofixed) AS tofixed, \n",
    "  (error) AS error, \n",
    "  (total_liabilities) AS total_liabilities, \n",
    "  (total_asset) AS total_asset, \n",
    "  (total_right) AS total_right, \n",
    "  (intangible) AS intangible, \n",
    "  (tangible) AS tangible, \n",
    "  (net_non_current) AS net_non_current, \n",
    "  (cashflow) AS cashflow, \n",
    "  CAST(\n",
    "    (c80 + c81 + c82 + c79) AS DECIMAL(16, 5)\n",
    "  ) / NULLIF(\n",
    "    CAST(\n",
    "      (c95) AS DECIMAL(16, 5)\n",
    "    ), \n",
    "    0\n",
    "  ) AS current_ratio, \n",
    "  CAST(\n",
    "    (c80 + c81 + c82 + c79 - c80 - c81) AS DECIMAL(16, 5)\n",
    "  ) / NULLIF(\n",
    "    CAST(\n",
    "      (c95) AS DECIMAL(16, 5)\n",
    "    ), \n",
    "    0\n",
    "  ) AS quick_ratio, \n",
    "  CAST(\n",
    "    (c98) AS DECIMAL(16, 5)\n",
    "  ) / NULLIF(\n",
    "    CAST(\n",
    "      (total_asset) AS DECIMAL(16, 5)\n",
    "    ), \n",
    "    0\n",
    "  ) AS liabilities_tot_asset, \n",
    "  CAST(\n",
    "    (sales) AS DECIMAL(16, 5)\n",
    "  ) / NULLIF(\n",
    "    CAST(\n",
    "      (total_asset) AS DECIMAL(16, 5)\n",
    "    ), \n",
    "    0\n",
    "  ) AS sales_tot_asset, \n",
    "  CAST(\n",
    "    (c84) AS DECIMAL(16, 5)\n",
    "  ) / NULLIF(\n",
    "    CAST(\n",
    "      (total_asset) AS DECIMAL(16, 5)\n",
    "    ), \n",
    "    0\n",
    "  ) AS investment_tot_asset, \n",
    "  CAST(\n",
    "    (rdfee) AS DECIMAL(16, 5)\n",
    "  ) / NULLIF(\n",
    "    CAST(\n",
    "      (total_asset) AS DECIMAL(16, 5)\n",
    "    ), \n",
    "    0\n",
    "  ) AS rd_tot_asset, \n",
    "  CAST(\n",
    "    (tangible) AS DECIMAL(16, 5)\n",
    "  ) / NULLIF(\n",
    "    CAST(\n",
    "      (total_asset) AS DECIMAL(16, 5)\n",
    "    ), \n",
    "    0\n",
    "  ) asset_tangibility_tot_asset, \n",
    "  CAST(\n",
    "    (cashflow) AS DECIMAL(16, 5)\n",
    "  ) / NULLIF(\n",
    "    CAST(\n",
    "      (total_asset) AS DECIMAL(16, 5)\n",
    "    ), \n",
    "    0\n",
    "  ) AS cashflow_tot_asset, \n",
    "  CAST(\n",
    "    (cashflow) AS DECIMAL(16, 5)\n",
    "  ) / NULLIF(\n",
    "    CAST(\n",
    "      (tangible) AS DECIMAL(16, 5)\n",
    "    ), \n",
    "    0\n",
    "  ) AS cashflow_to_tangible, \n",
    "  -- update\n",
    "  CAST(\n",
    "    (c131) AS DECIMAL(16, 5)\n",
    "  ) / NULLIF(\n",
    "    CAST(\n",
    "      (sales) AS DECIMAL(16, 5)\n",
    "    ), \n",
    "    0\n",
    "  ) AS return_to_sale, \n",
    "  CAST(\n",
    "    (c131) AS DECIMAL(16, 5)\n",
    "  ) / NULLIF(\n",
    "    CAST(\n",
    "      (c125) AS DECIMAL(16, 5)\n",
    "    ), \n",
    "    0\n",
    "  ) AS coverage_ratio, \n",
    "  CAST(\n",
    "    (current_asset - c95) AS DECIMAL(16, 5)\n",
    "  ) / NULLIF(\n",
    "    CAST(\n",
    "      (tangible) AS DECIMAL(16, 5)\n",
    "    ), \n",
    "    0\n",
    "  ) AS liquidity, \n",
    "  \"total_industrialwater_used\", \n",
    "  \"total_freshwater_used\", \n",
    "  \"gyqs\", \n",
    "  \"total_repeatedwater_used\", \n",
    "  \"total_coal_used\", \n",
    "  \"rlmxf\", \n",
    "  \"ylmxf\", \n",
    "  \"rlmpjlf\", \n",
    "  \"rlyxf\", \n",
    "  \"zyxf\", \n",
    "  \"cyxf\", \n",
    "  \"rlypjlf\", \n",
    "  \"zypjlf\", \n",
    "  \"clean_gas_used\", \n",
    "  \"waste_water\", \n",
    "  \"cod\", \n",
    "  \"ad\", \n",
    "  \"waste_gas\", \n",
    "  \"so2\", \n",
    "  \"nox\", \n",
    "  \"smoke_dust\", \n",
    "  \"soot\", \n",
    "  \"yfc\", \n",
    "  \"gyfscll\", \n",
    "  \"hxxyqcl\", \n",
    "  \"xzssqcl\", \n",
    "  \"adqcl\", \n",
    "  \"eyhlqcl\", \n",
    "  \"dyhwqcl\", \n",
    "  \"ycqcl\", \n",
    "  \"gyfcqcl\", \n",
    "  \"dwastewater_equip\", \n",
    "  \"fszlssnl\", \n",
    "  \"fszlssfee\", \n",
    "  \"dwastegas_equip\", \n",
    "  \"dso2_equip\", \n",
    "  \"fqzlssnl\", \n",
    "  \"tlssnl\", \n",
    "  \"hxxycsl\", \n",
    "  \"adcsl\", \n",
    "  \"eyhlcsl\", \n",
    "  \"dyhwcsl\", \n",
    "  \"yfccsl\" \n",
    "FROM \n",
    "  test \n",
    "  INNER JOIN (\n",
    "    SELECT \n",
    "      \"firm\", \n",
    "      \"year\", \n",
    "      \"citycode_asifad\" as geocode4_corr, \n",
    "      \"tfp_op\", \n",
    "      \"tfp_lp\" \n",
    "    FROM \n",
    "      firms_survey.firm_tfp_china\n",
    "  ) as tfp_table on test.firm = tfp_table.firm \n",
    "  and test.geocode4_corr = tfp_table.geocode4_corr \n",
    "  and test.year = tfp_table.year \n",
    "WHERE \n",
    "  test.year in (\n",
    "    '2000', '2001', '2002', '2003', '2004', \n",
    "    '2005', '2006', '2007'\n",
    "  ) \n",
    "  AND total_asset > 0 \n",
    "  AND tangible > 0\n",
    "\"\"\".format(DatabaseName, table_name)\n",
    "output = s3.run_query(\n",
    "                    query=query,\n",
    "                    database=DatabaseName,\n",
    "                    s3_output=s3_output,\n",
    "                )\n",
    "output"
   ]
  },
  {
   "cell_type": "code",
   "execution_count": null,
   "metadata": {},
   "outputs": [],
   "source": [
    "query_count = \"\"\"\n",
    "SELECT COUNT(*) AS CNT\n",
    "FROM {}.{} \n",
    "\"\"\".format(DatabaseName, table_name)\n",
    "output = s3.run_query(\n",
    "                    query=query_count,\n",
    "                    database=DatabaseName,\n",
    "                    s3_output=s3_output_example,\n",
    "    filename = 'count_{}'.format(table_name)\n",
    "                )\n",
    "output"
   ]
  },
  {
   "cell_type": "code",
   "execution_count": null,
   "metadata": {},
   "outputs": [],
   "source": [
    "query_count = \"\"\"\n",
    "SELECT year, COUNT(*) AS CNT\n",
    "FROM {}.{} \n",
    "GROUP BY year\n",
    "ORDER BY year\n",
    "\"\"\".format(DatabaseName, table_name)\n",
    "output = s3.run_query(\n",
    "                    query=query_count,\n",
    "                    database=DatabaseName,\n",
    "                    s3_output=s3_output_example,\n",
    "    filename = 'count_{}'.format(table_name)\n",
    "                )\n",
    "output"
   ]
  },
  {
   "cell_type": "code",
   "execution_count": null,
   "metadata": {},
   "outputs": [],
   "source": [
    "query_count = \"\"\"\n",
    "SELECT year, COUNT(DISTINCT(firm)) AS CNT\n",
    "FROM {}.{} \n",
    "GROUP BY year\n",
    "ORDER BY year\n",
    "\"\"\".format(DatabaseName, table_name)\n",
    "output = s3.run_query(\n",
    "                    query=query_count,\n",
    "                    database=DatabaseName,\n",
    "                    s3_output=s3_output_example,\n",
    "    filename = 'count_{}'.format(table_name)\n",
    "                )\n",
    "output"
   ]
  },
  {
   "cell_type": "markdown",
   "metadata": {},
   "source": [
    "# Update Glue catalogue and Github\n",
    "\n",
    "This step is mandatory to validate the query in the ETL."
   ]
  },
  {
   "cell_type": "markdown",
   "metadata": {},
   "source": [
    "## Create or update the data catalog\n",
    "\n",
    "The query is saved in the S3 (bucket `datalake-london`), but the comments are not available. Use the functions below to update the catalogue and Github"
   ]
  },
  {
   "cell_type": "markdown",
   "metadata": {},
   "source": [
    "Update the dictionary\n",
    "\n",
    "- DatabaseName:\n",
    "- TableName:\n",
    "- ~TablePrefix:~\n",
    "- input: \n",
    "- filename: Name of the notebook or Python script: to indicate\n",
    "- Task ID: from Coda\n",
    "- index_final_table: a list to indicate if the current table is used to prepare the final table(s). If more than one, pass the index. Start at 0\n",
    "- if_final: A boolean. Indicates if the current table is the final table -> the one the model will be used to be trained\n",
    "- schema: glue schema with comment\n",
    "- description: details query objective\n",
    "\n",
    "**Update schema**\n",
    "\n",
    "If `automatic = False` in `automatic_update`, then the function returns only the variables to update the comments. Manually add the comment, **then**, pass the new schema (only the missing comment) to the argument `new_schema`. \n",
    "\n",
    "To update the schema, please use the following structure\n",
    "\n",
    "```\n",
    "schema = [\n",
    "    {\n",
    "        \"Name\": \"VAR1\",\n",
    "        \"Type\": \"\",\n",
    "        \"Comment\": \"\"\n",
    "    },\n",
    "    {\n",
    "        \"Name\": \"VAR2\",\n",
    "        \"Type\": \"\",\n",
    "        \"Comment\": \"\"\n",
    "    }\n",
    "]\n",
    "```"
   ]
  },
  {
   "cell_type": "code",
   "execution_count": null,
   "metadata": {},
   "outputs": [],
   "source": [
    "%load_ext autoreload\n",
    "%autoreload 2\n",
    "import sys\n",
    "sys.path.append(os.path.join(parent_path, 'utils'))\n",
    "import make_toc\n",
    "import create_schema\n",
    "import create_report\n",
    "import update_glue_github"
   ]
  },
  {
   "cell_type": "markdown",
   "metadata": {
    "nteract": {
     "transient": {
      "deleting": false
     }
    }
   },
   "source": [
    "The function below manages everything automatically. If the final table comes from more than one query, then pass a list of table in `list_tables` instead of `automatic`"
   ]
  },
  {
   "cell_type": "code",
   "execution_count": null,
   "metadata": {
    "nteract": {
     "transient": {
      "deleting": false
     }
    },
    "tags": []
   },
   "outputs": [],
   "source": [
    "list_input,  schema = update_glue_github.automatic_update(\n",
    "    list_tables = 'automatic',\n",
    "    automatic= True,\n",
    "    new_schema = None, ### override schema\n",
    "    client = client,\n",
    "    TableName = table_name,\n",
    "    query = query)"
   ]
  },
  {
   "cell_type": "code",
   "execution_count": null,
   "metadata": {},
   "outputs": [],
   "source": [
    "description = \"\"\"\n",
    "\n",
    "\"\"\"\n",
    "name_json = 'parameters_ETL_Template.json'\n",
    "partition_keys = [\"XX\"]\n",
    "notebookname = \"XX.ipynb\"\n",
    "dic_information = {\n",
    "    \"client\":client,\n",
    "    'bucket':bucket,\n",
    "    's3_output':s3_output,\n",
    "    'DatabaseName':DatabaseName,\n",
    "    'TableName':table_name,\n",
    "    'name_json':name_json,\n",
    "    'partition_keys':partition_keys,\n",
    "    'notebookname':notebookname,\n",
    "    'index_final_table':[0],\n",
    "    'if_final': 'True',\n",
    "    'schema':schema,\n",
    "    'description':description,\n",
    "    'query':query,\n",
    "    \"list_input\":list_input,\n",
    "    'list_input_automatic':True\n",
    "}"
   ]
  },
  {
   "cell_type": "code",
   "execution_count": null,
   "metadata": {},
   "outputs": [],
   "source": [
    "update_glue_github.update_glue_github(client = client,dic_information = dic_information)"
   ]
  },
  {
   "cell_type": "markdown",
   "metadata": {},
   "source": [
    "## Check Duplicates\n",
    "\n",
    "One of the most important step when creating a table is to check if the table contains duplicates. The cell below checks if the table generated before is empty of duplicates. The code uses the JSON file to create the query parsed in Athena. \n",
    "\n",
    "You are required to define the group(s) that Athena will use to compute the duplicate. For instance, your table can be grouped by COL1 and COL2 (need to be string or varchar), then pass the list ['COL1', 'COL2'] "
   ]
  },
  {
   "cell_type": "code",
   "execution_count": null,
   "metadata": {},
   "outputs": [],
   "source": [
    "update_glue_github.find_duplicates(\n",
    "    client = client,\n",
    "    bucket = bucket,\n",
    "    name_json = name_json,\n",
    "    partition_keys = partition_keys,\n",
    "    TableName= table_name\n",
    ")"
   ]
  },
  {
   "cell_type": "markdown",
   "metadata": {},
   "source": [
    "## Count missing values"
   ]
  },
  {
   "cell_type": "code",
   "execution_count": null,
   "metadata": {},
   "outputs": [],
   "source": [
    "update_glue_github.count_missing(client = client, name_json = name_json, bucket = bucket,TableName = table_name)"
   ]
  },
  {
   "cell_type": "markdown",
   "metadata": {},
   "source": [
    "# Update Github Data catalog\n",
    "\n",
    "The data catalog is available in Glue. Although, we might want to get a quick access to the tables in Github. In this part, we are generating a `README.md` in the folder `00_data_catalogue`. All tables used in the project will be added to the catalog. We use the ETL parameter file and the schema in Glue to create the README. \n",
    "\n",
    "Bear in mind the code will erase the previous README. "
   ]
  },
  {
   "cell_type": "code",
   "execution_count": null,
   "metadata": {},
   "outputs": [],
   "source": [
    "create_schema.make_data_schema_github(name_json = name_json)"
   ]
  },
  {
   "cell_type": "markdown",
   "metadata": {},
   "source": [
    "# Analytics\n",
    "\n",
    "In this part, we are providing basic summary statistic. Since we have created the tables, we can parse the schema in Glue and use our json file to automatically generates the analysis.\n",
    "\n",
    "The cells below execute the job in the key `ANALYSIS`. You need to change the `primary_key` and `secondary_key` "
   ]
  },
  {
   "cell_type": "markdown",
   "metadata": {},
   "source": [
    "For a full analysis of the table, please use the following Lambda function. Be patient, it can takes between 5 to 30 minutes. Times varies according to the number of columns in your dataset.\n",
    "\n",
    "Use the function as follow:\n",
    "\n",
    "- `output_prefix`:  s3://datalake-datascience/ANALYTICS/OUTPUT/TABLE_NAME/\n",
    "- `region`: region where the table is stored\n",
    "- `bucket`: Name of the bucket\n",
    "- `DatabaseName`: Name of the database\n",
    "- `table_name`: Name of the table\n",
    "- `group`: variables name to group to count the duplicates\n",
    "- `primary_key`: Variable name to perform the grouping -> Only one variable for now\n",
    "- `secondary_key`: Variable name to perform the secondary grouping -> Only one variable for now\n",
    "- `proba`: Chi-square analysis probabilitity\n",
    "- `y_var`: Continuous target variables\n",
    "\n",
    "Check the job processing in Sagemaker: https://eu-west-3.console.aws.amazon.com/sagemaker/home?region=eu-west-3#/processing-jobs\n",
    "\n",
    "The notebook is available: https://s3.console.aws.amazon.com/s3/buckets/datalake-datascience?region=eu-west-3&prefix=ANALYTICS/OUTPUT/&showversions=false\n",
    "\n",
    "Please, download the notebook on your local machine, and convert it to HTML:\n",
    "\n",
    "```\n",
    "cd \"/Users/thomas/Downloads/Notebook\"\n",
    "aws s3 cp s3://datalake-datascience/ANALYTICS/OUTPUT/asif_unzip_data_csv/Template_analysis_from_lambda-2020-11-22-08-12-20.ipynb .\n",
    "\n",
    "## convert HTML no code\n",
    "jupyter nbconvert --no-input --to html Template_analysis_from_lambda-2020-11-21-14-30-45.ipynb\n",
    "jupyter nbconvert --to html Template_analysis_from_lambda-2020-11-22-08-12-20.ipynb\n",
    "```\n",
    "\n",
    "Then upload the HTML to: https://s3.console.aws.amazon.com/s3/buckets/datalake-datascience?region=eu-west-3&prefix=ANALYTICS/HTML_OUTPUT/\n",
    "\n",
    "Add a new folder with the table name in upper case"
   ]
  },
  {
   "cell_type": "code",
   "execution_count": null,
   "metadata": {},
   "outputs": [],
   "source": [
    "import boto3\n",
    "\n",
    "key, secret_ = con.load_credential()\n",
    "client_lambda = boto3.client(\n",
    "    'lambda',\n",
    "    aws_access_key_id=key,\n",
    "    aws_secret_access_key=secret_,\n",
    "    region_name = region)"
   ]
  },
  {
   "cell_type": "code",
   "execution_count": null,
   "metadata": {},
   "outputs": [],
   "source": [
    "primary_key = ''\n",
    "secondary_key = ''\n",
    "y_var = ''"
   ]
  },
  {
   "cell_type": "code",
   "execution_count": null,
   "metadata": {},
   "outputs": [],
   "source": [
    "payload = {\n",
    "    \"input_path\": \"s3://datalake-london/ANALYTICS/TEMPLATE_NOTEBOOKS/template_analysis_from_lambda.ipynb\",\n",
    "    \"output_prefix\": \"s3://datalake-london/ANALYTICS/OUTPUT/{}/\".format(table_name.upper()),\n",
    "    \"parameters\": {\n",
    "        \"region\": \"{}\".format(region),\n",
    "        \"bucket\": \"{}\".format(bucket),\n",
    "        \"DatabaseName\": \"{}\".format(DatabaseName),\n",
    "        \"table_name\": \"{}\".format(table_name),\n",
    "        \"group\": \"{}\".format(','.join(partition_keys)),\n",
    "        \"keys\": \"{},{}\".format(primary_key,secondary_key),\n",
    "        \"y_var\": \"{}\".format(y_var),\n",
    "        \"threshold\":0\n",
    "    },\n",
    "}\n",
    "payload"
   ]
  },
  {
   "cell_type": "code",
   "execution_count": null,
   "metadata": {},
   "outputs": [],
   "source": [
    "response = client_lambda.invoke(\n",
    "    FunctionName='RunNotebook',\n",
    "    InvocationType='RequestResponse',\n",
    "    LogType='Tail',\n",
    "    Payload=json.dumps(payload),\n",
    ")\n",
    "response"
   ]
  },
  {
   "cell_type": "markdown",
   "metadata": {},
   "source": [
    "# Generation report"
   ]
  },
  {
   "cell_type": "code",
   "execution_count": null,
   "metadata": {},
   "outputs": [],
   "source": [
    "import os, time, shutil, urllib, ipykernel, json\n",
    "from pathlib import Path\n",
    "from notebook import notebookapp"
   ]
  },
  {
   "cell_type": "code",
   "execution_count": null,
   "metadata": {},
   "outputs": [],
   "source": [
    "create_report.create_report(extension = \"html\", keep_code = True, notebookname =  notebookname)"
   ]
  },
  {
   "cell_type": "code",
   "execution_count": null,
   "metadata": {},
   "outputs": [],
   "source": [
    "create_schema.create_schema(path_json, path_save_image = os.path.join(parent_path, 'utils'))"
   ]
  },
  {
   "cell_type": "code",
   "execution_count": null,
   "metadata": {},
   "outputs": [],
   "source": [
    "### Update TOC in Github\n",
    "for p in [parent_path,\n",
    "          str(Path(path).parent),\n",
    "          os.path.join(str(Path(path).parent), \"00_download_data\"),\n",
    "          #os.path.join(str(Path(path).parent.parent), \"02_data_analysis\"),\n",
    "          #os.path.join(str(Path(path).parent.parent), \"02_data_analysis\", \"00_statistical_exploration\"),\n",
    "          #os.path.join(str(Path(path).parent.parent), \"02_data_analysis\", \"01_model_estimation\"),\n",
    "         ]:\n",
    "    try:\n",
    "        os.remove(os.path.join(p, 'README.md'))\n",
    "    except:\n",
    "        pass\n",
    "    path_parameter = os.path.join(parent_path,'utils', name_json)\n",
    "    md_lines =  make_toc.create_index(cwd = p, path_parameter = path_parameter)\n",
    "    md_out_fn = os.path.join(p,'README.md')\n",
    "    \n",
    "    if p == parent_path:\n",
    "    \n",
    "        make_toc.replace_index(md_out_fn, md_lines, Header = os.path.basename(p).replace('_', ' '), add_description = True, path_parameter = path_parameter)\n",
    "    else:\n",
    "        make_toc.replace_index(md_out_fn, md_lines, Header = os.path.basename(p).replace('_', ' '), add_description = False)"
   ]
  }
 ],
 "metadata": {
  "jupytext": {
   "formats": "ipynb,md"
  },
  "kernel_info": {
   "name": "python3"
  },
  "kernelspec": {
   "display_name": "Python 3",
   "language": "python",
   "name": "python3"
  },
  "language_info": {
   "codemirror_mode": {
    "name": "ipython",
    "version": 3
   },
   "file_extension": ".py",
   "mimetype": "text/x-python",
   "name": "python",
   "nbconvert_exporter": "python",
   "pygments_lexer": "ipython3",
   "version": "3.8.5"
  },
  "nteract": {
   "version": "0.28.0"
  },
  "toc": {
   "base_numbering": 1,
   "nav_menu": {},
   "number_sections": true,
   "sideBar": true,
   "skip_h1_title": false,
   "title_cell": "Table of Contents",
   "title_sidebar": "Contents",
   "toc_cell": false,
   "toc_position": {},
   "toc_section_display": true,
   "toc_window_display": false
  }
 },
 "nbformat": 4,
 "nbformat_minor": 4
}
