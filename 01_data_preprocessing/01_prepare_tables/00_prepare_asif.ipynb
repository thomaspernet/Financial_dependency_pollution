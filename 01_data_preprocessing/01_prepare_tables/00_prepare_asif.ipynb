{
 "cells": [
  {
   "cell_type": "markdown",
   "metadata": {
    "lines_to_next_cell": 0
   },
   "source": [
    "# Prepare ASIF data to S3\n",
    "\n",
    "# Objective(s)\n",
    "\n",
    "## Business needs \n",
    "\n",
    "Prepare (cleaning  & removing unwanted rows) ASIF data using Athena and save output to S3 + Glue. \n",
    "\n",
    "## Description\n",
    "\n",
    "**Objective**\n",
    "\n",
    "Raw data is not 100% cleaned, as described by the analytical HTML table Template_analysis_from_lambda-2020-11-22-08-12-20.html (analysis of the raw table). \n",
    "\n",
    "**Steps**\n",
    "\n",
    "We will clean the table by doing the following steps:\n",
    "1. Keeping year 1998 to 2007\n",
    "2. Clean citycode → Only 4 digits\n",
    "3. Clean setup → replace to Null all values with a length lower/higher than 4 \n",
    "4. Remove rows when cic is unknown\n",
    "\n",
    "\n",
    "## Target\n",
    "\n",
    "* The file is saved in S3: \n",
    "  * bucket: datalake-datascience \n",
    "  * path: DATA/ECON/FIRM_SURVEY/ASIF_CHINA/PREPARED \n",
    "* Glue data catalog should be updated\n",
    "  * database: firms_survey \n",
    "  * table prefix: asif_firms \n",
    "    * table name (prefix + last folder S3 path): asif_firms_prepared \n",
    "\n",
    "# Metadata\n",
    "\n",
    "* Key: fzt56oqnn52261m\n",
    "* Parent key (for update parent):  \n",
    "* Notebook US Parent (i.e the one to update): \n",
    "* https://github.com/thomaspernet/Financial_dependency_pollution/blob/master/01_data_preprocessing/02_prepare_tables_model/00_prepare_asif.md\n",
    "* Epic: Epic 1\n",
    "* US: US 3\n",
    "* Date Begin: 11/22/2020\n",
    "* Duration Task: 0\n",
    "* Description: Prepare (cleaning  & removing unwanted rows) ASIF data using Athena and save output to S3 + Glue. \n",
    "* Step type: Prepare table\n",
    "* Status: Active\n",
    "* Source URL: US 03 Prepare ASIF\n",
    "* Task type: Jupyter Notebook\n",
    "* Users: Thomas Pernet\n",
    "* Watchers: Thomas Pernet\n",
    "* User Account: https://468786073381.signin.aws.amazon.com/console\n",
    "* Estimated Log points: 6\n",
    "* Task tag: #asif,#athena\n",
    "* Toggl Tag: #data-preparation\n",
    "* current nb commits: \n",
    " * Meetings:  \n",
    "* Presentation:  \n",
    "* Email Information:  \n",
    "  * thread: Number of threads: 0(Default 0, to avoid display email)\n",
    "  *  \n",
    "\n",
    "# Input Cloud Storage [AWS/GCP]\n",
    "\n",
    "## Table/file\n",
    "\n",
    "* Origin: \n",
    "* Athena\n",
    "* Name: \n",
    "* china_asif\n",
    "* Github: \n",
    "  * https://github.com/thomaspernet/Financial_dependency_pollution/blob/master/01_data_preprocessing/00_download_data_from/ASIF_PANEL/firm_asif.py\n",
    "\n",
    "# Destination Output/Delivery\n",
    "\n",
    "## Table/file\n",
    "\n",
    "* Origin: \n",
    "* S3\n",
    "* Athena\n",
    "* Name:\n",
    "* DATA/ECON/FIRM_SURVEY/ASIF_CHINA/PREPARED\n",
    "* asif_firms_prepared\n",
    "* GitHub:\n",
    "* https://github.com/thomaspernet/Financial_dependency_pollution/blob/master/01_data_preprocessing/02_prepare_tables_model/00_prepare_asif.md\n",
    "* URL: \n",
    "  * datalake-datascience/DATA/ECON/FIRM_SURVEY/ASIF_CHINA/PREPARED\n",
    "* \n",
    "\n",
    "# Knowledge\n",
    "\n",
    "## List of candidates\n",
    "\n",
    "* [Analytical raw dataset (HTML)](https://s3.console.aws.amazon.com/s3/buckets/datalake-datascience?region=eu-west-3&prefix=ANALYTICS/HTML_OUTPUT/ASIF_UNZIP_DATA_CSV/)"
   ]
  },
  {
   "cell_type": "code",
   "execution_count": null,
   "metadata": {
    "collapsed": false,
    "inputHidden": false,
    "jupyter": {
     "outputs_hidden": false
    },
    "outputHidden": false
   },
   "outputs": [],
   "source": [
    "from awsPy.aws_authorization import aws_connector\n",
    "from awsPy.aws_s3 import service_s3\n",
    "from awsPy.aws_glue import service_glue\n",
    "from pathlib import Path\n",
    "import pandas as pd\n",
    "import numpy as np\n",
    "import seaborn as sns\n",
    "import os, shutil, json\n",
    "\n",
    "path = os.getcwd()\n",
    "parent_path = str(Path(path).parent.parent)\n",
    "\n",
    "\n",
    "name_credential = 'financial_dep_SO2_accessKeys.csv'\n",
    "region = 'eu-west-3'\n",
    "bucket = 'datalake-datascience'\n",
    "path_cred = \"{0}/creds/{1}\".format(parent_path, name_credential)"
   ]
  },
  {
   "cell_type": "code",
   "execution_count": null,
   "metadata": {
    "collapsed": false,
    "inputHidden": false,
    "jupyter": {
     "outputs_hidden": false
    },
    "outputHidden": false
   },
   "outputs": [],
   "source": [
    "con = aws_connector.aws_instantiate(credential = path_cred,\n",
    "                                       region = region)\n",
    "client= con.client_boto()\n",
    "s3 = service_s3.connect_S3(client = client,\n",
    "                      bucket = bucket, verbose = True) \n",
    "glue = service_glue.connect_glue(client = client) "
   ]
  },
  {
   "cell_type": "code",
   "execution_count": null,
   "metadata": {},
   "outputs": [],
   "source": [
    "pandas_setting = True\n",
    "if pandas_setting:\n",
    "    cm = sns.light_palette(\"green\", as_cmap=True)\n",
    "    pd.set_option('display.max_columns', None)\n",
    "    pd.set_option('display.max_colwidth', None)"
   ]
  },
  {
   "cell_type": "markdown",
   "metadata": {},
   "source": [
    "# Prepare query \n",
    "\n",
    "Write query and save the CSV back in the S3 bucket `datalake-datascience` "
   ]
  },
  {
   "cell_type": "markdown",
   "metadata": {},
   "source": [
    "# Steps"
   ]
  },
  {
   "cell_type": "markdown",
   "metadata": {},
   "source": [
    "# Table `XX`\n",
    "\n",
    "- Table name: `XX`\n",
    "\n",
    "\n",
    "Since the table to create has missing value, please use the following at the top of the query\n",
    "\n",
    "```\n",
    "CREATE TABLE database.table_name WITH (format = 'PARQUET') AS\n",
    "```"
   ]
  },
  {
   "cell_type": "markdown",
   "metadata": {},
   "source": [
    "Choose a location in S3 to save the CSV. It is recommended to save in it the `datalake-datascience` bucket. Locate an appropriate folder in the bucket, and make sure all output have the same format"
   ]
  },
  {
   "cell_type": "code",
   "execution_count": null,
   "metadata": {},
   "outputs": [],
   "source": [
    "DatabaseName = 'firms_survey'\n",
    "table_name = 'asif_firms_prepared'\n",
    "s3_output = 'SQL_OUTPUT_ATHENA'"
   ]
  },
  {
   "cell_type": "markdown",
   "metadata": {},
   "source": [
    "First, we need to delete the table (if exist)"
   ]
  },
  {
   "cell_type": "code",
   "execution_count": null,
   "metadata": {},
   "outputs": [],
   "source": [
    "try:\n",
    "    response = glue.delete_table(\n",
    "        database=DatabaseName,\n",
    "        table=table_name\n",
    "    )\n",
    "    print(response)\n",
    "except Exception as e:\n",
    "    print(e)"
   ]
  },
  {
   "cell_type": "markdown",
   "metadata": {},
   "source": [
    "### Brief analysis\n",
    "\n",
    "\n",
    "\n",
    "- Count size of:\n",
    "    - `year` in 1998 to 2007\n",
    "    - `firms` has no digit\n",
    "    - `citycode` \n",
    "    - `cic`\n",
    "    - `setup`\n",
    "    - `type` \n",
    "    \n",
    "**Type**\n",
    "\n",
    "use \"type\" variable, classify ownership into five types:\n",
    "\n",
    "- 1=state -> 110 141 143 151\n",
    "- 2=collective -> 120 130 142 149\n",
    "- 3=private -171 172 173 174 190\n",
    "- 4=foreign- 210 220 230 240\n",
    "- 5=Hong Kong, Macau and Taiwan (4 and 5 can be combined into a single \"foreign\" category - 310 320 330 340\n",
    "\n",
    "There are two labels \"159\" and \"160\", which are joint stock and stock shareholding, that cannot be assigned straight away. We identify these firms' ownership using the information of other variables about firm equity structure. The firm's ownership for \"159\" and \"160\" is the group with the largest share (or value)\n",
    "    \n",
    "- Count nb of observations when `type`is broken down:\n",
    "    "
   ]
  },
  {
   "cell_type": "code",
   "execution_count": null,
   "metadata": {},
   "outputs": [],
   "source": [
    "query = \"\"\"\n",
    "SELECT year, COUNT(*) as CNT\n",
    "FROM \"firms_survey\".\"asif_unzip_data_csv\"\n",
    "WHERE year in ('1998', '1999', '2000', '2001', '2002', '2003', '2004', '2005', '2006', '2007')\n",
    "  GROUP BY  year\n",
    "  ORDER BY year\n",
    "\"\"\"\n",
    "output = s3.run_query(\n",
    "                    query=query,\n",
    "                    database=DatabaseName,\n",
    "                    s3_output=s3_output,\n",
    "    filename = 'count_year'\n",
    "                )\n",
    "output"
   ]
  },
  {
   "cell_type": "code",
   "execution_count": null,
   "metadata": {},
   "outputs": [],
   "source": [
    "query = \"\"\"\n",
    "WITH test AS (\n",
    "SELECT digit, COUNT(digit) AS CNT\n",
    "FROM (\n",
    "SELECT regexp_like(firm, '\\d+') as digit\n",
    "FROM \"firms_survey\".\"asif_unzip_data_csv\"\n",
    "WHERE year in ('1998', '1999', '2000', '2001', '2002', '2003', '2004', '2005', '2006', '2007')\n",
    ")\n",
    "GROUP BY digit\n",
    ")\n",
    "SELECT CNT, COUNT(CNT) AS CNT_DIGIT\n",
    "FROM test\n",
    "GROUP BY CNT\n",
    "\n",
    "\"\"\"\n",
    "output = s3.run_query(\n",
    "                    query=query,\n",
    "                    database=DatabaseName,\n",
    "                    s3_output=s3_output,\n",
    "    filename = 'count_digit'\n",
    "                )\n",
    "output"
   ]
  },
  {
   "cell_type": "code",
   "execution_count": null,
   "metadata": {},
   "outputs": [],
   "source": [
    "query = \"\"\"\n",
    "SELECT len, COUNT(*) as CNT\n",
    "FROM (\n",
    "SELECT LENGTH(citycode) as len\n",
    "FROM \"firms_survey\".\"asif_unzip_data_csv\"\n",
    "  )\n",
    "  GROUP BY len\n",
    "  ORDER BY CNT\n",
    "\"\"\"\n",
    "output = s3.run_query(\n",
    "                    query=query,\n",
    "                    database=DatabaseName,\n",
    "                    s3_output=s3_output,\n",
    "    filename = 'count_citycode'\n",
    "                )\n",
    "output"
   ]
  },
  {
   "cell_type": "code",
   "execution_count": null,
   "metadata": {},
   "outputs": [],
   "source": [
    "query = \"\"\"\n",
    "SELECT len, COUNT(*) as CNT\n",
    "FROM (\n",
    "SELECT LENGTH(cic) as len\n",
    "FROM \"firms_survey\".\"asif_unzip_data_csv\"\n",
    "  )\n",
    "  GROUP BY len\n",
    "  ORDER BY CNT\n",
    "\"\"\"\n",
    "output = s3.run_query(\n",
    "                    query=query,\n",
    "                    database=DatabaseName,\n",
    "                    s3_output=s3_output,\n",
    "    filename = 'count_cic'\n",
    "                )\n",
    "output"
   ]
  },
  {
   "cell_type": "code",
   "execution_count": null,
   "metadata": {},
   "outputs": [],
   "source": [
    "query = \"\"\"\n",
    "SELECT len, COUNT(*) as CNT\n",
    "FROM (\n",
    "SELECT LENGTH(setup) as len\n",
    "FROM \"firms_survey\".\"asif_unzip_data_csv\"\n",
    "  )\n",
    "  GROUP BY len\n",
    "  ORDER BY CNT\n",
    "\"\"\"\n",
    "output = s3.run_query(\n",
    "                    query=query,\n",
    "                    database=DatabaseName,\n",
    "                    s3_output=s3_output,\n",
    "    filename = 'count_setup'\n",
    "                )\n",
    "output"
   ]
  },
  {
   "cell_type": "code",
   "execution_count": null,
   "metadata": {},
   "outputs": [],
   "source": [
    "query = \"\"\"\n",
    "SELECT type, COUNT(*) as CNT\n",
    "FROM \"firms_survey\".\"asif_unzip_data_csv\"\n",
    "WHERE \n",
    " (\n",
    "  year in ('1998', '1999', '2000', '2001', '2002', '2003', '2004', '2005', '2006', '2007')\n",
    "  )\n",
    "  AND \n",
    "  (\n",
    "  LENGTH(citycode) = 4\n",
    "  AND \n",
    "  LENGTH(setup) = 4\n",
    "  AND \n",
    "  LENGTH(cic) <= 4\n",
    "  AND \n",
    "  regexp_like(firm, '\\d+') = TRUE\n",
    "  )\n",
    "  GROUP BY type\n",
    "  ORDER BY type\n",
    "\"\"\"\n",
    "output = s3.run_query(\n",
    "                    query=query,\n",
    "                    database=DatabaseName,\n",
    "                    s3_output=s3_output,\n",
    "    filename = 'count_type'\n",
    "                )\n",
    "output"
   ]
  },
  {
   "cell_type": "code",
   "execution_count": null,
   "metadata": {},
   "outputs": [],
   "source": [
    "query = \"\"\"\n",
    "WITH own AS(\n",
    "SELECT CASE \n",
    "WHEN type in ('110','141','143','151') THEN 'SOE' \n",
    "WHEN type in ('120','130','142','149') THEN 'COLLECTIVE' \n",
    "WHEN type in ('171','172','173','174','190') THEN 'PRIVATE' \n",
    "WHEN type in ('210','220','230','240') THEN 'FOREIGN' \n",
    "WHEN type in ( '310','320','330','340') THEN 'HTM'\n",
    "ELSE 'NOT_ASSIGNED' END AS ownership\n",
    "FROM \"firms_survey\".\"asif_unzip_data_csv\"\n",
    "WHERE \n",
    " (\n",
    "  year in ('1998', '1999', '2000', '2001', '2002', '2003', '2004', '2005', '2006', '2007')\n",
    "  )\n",
    "  AND \n",
    "  (\n",
    "  LENGTH(citycode) = 4\n",
    "  AND \n",
    "  LENGTH(setup) = 4\n",
    "  AND \n",
    "  LENGTH(cic) <= 4\n",
    "  AND \n",
    "  regexp_like(firm, '\\d+') = TRUE\n",
    "  )\n",
    "  )\n",
    "  SELECT ownership, COUNT(*) AS CNT\n",
    "  FROM own\n",
    "  GROUP BY ownership\n",
    "  ORDER BY CNT\n",
    "\"\"\"\n",
    "output = s3.run_query(\n",
    "                    query=query,\n",
    "                    database=DatabaseName,\n",
    "                    s3_output=s3_output,\n",
    "    filename = 'count_ownership'\n",
    "                )\n",
    "output"
   ]
  },
  {
   "cell_type": "markdown",
   "metadata": {},
   "source": [
    "In the cell below, we show how we retrive the ownership when type is equal to 159 or 160.  The rule is:\n",
    "\n",
    "If the maximum equity is :\n",
    "\n",
    "- 'e_collective': 'Collective',\n",
    "- 'e_state': 'SOE',\n",
    "- 'e_individual': 'Private',\n",
    "- 'e_legal_person': 'Private',\n",
    "- 'e_HMT': 'HTM',\n",
    "- 'e_foreign': 'Foreign'\n",
    "\n",
    "The strategy consists to get the maximum key of the array containing the columns `e_state`, `e_collective`, `e_legal_person`, `e_individual`, `e_hmt`, `e_foreign`. Then assigned an ownership knowing the key, i.e. 1 is `COLLECTIVE`, 2 is `SOE` and so on.\n",
    "\n",
    "If the maximum of the array is equal to zero, we leave it blank and remove it in the final table. It can happens when there is no known value for any of the equity columns or when one of the equity is negative and all the other equals to 0."
   ]
  },
  {
   "cell_type": "code",
   "execution_count": null,
   "metadata": {},
   "outputs": [],
   "source": [
    "query = \"\"\"\n",
    "WITH arrays AS (\n",
    "SELECT \n",
    "  type, \n",
    "  ARRAY[e_state, e_collective, e_legal_person, e_individual, e_hmt, e_foreign] AS array_equity, \n",
    "  array_max(\n",
    "    ARRAY[e_state, e_collective, e_legal_person, e_individual, e_hmt, e_foreign]\n",
    "    ) AS max_array_equity,\n",
    "  MAP(\n",
    "    ARRAY[1,2,3,4,5, 6],\n",
    "    ARRAY[e_state, e_collective, e_legal_person, e_individual, e_hmt, e_foreign]\n",
    "    ) AS map_array_equity,\n",
    "  map_filter(\n",
    "  map(\n",
    "  ARRAY[1,2,3,4,5, 6],\n",
    "  ARRAY[e_state, e_collective, e_legal_person, e_individual, e_hmt, e_foreign]\n",
    "  ),\n",
    "  (k, v) -> v = array_max(\n",
    "  ARRAY[e_state, e_collective, e_legal_person, e_individual, e_hmt, e_foreign]\n",
    "  )) AS max_map_array_equity,\n",
    "  map_keys(\n",
    "  map_filter(\n",
    "  map(\n",
    "  ARRAY[1,2,3,4,5, 6],\n",
    "  ARRAY[e_state, e_collective, e_legal_person, e_individual, e_hmt, e_foreign]\n",
    "  ),\n",
    "  (k, v) -> v = array_max(\n",
    "  ARRAY[e_state, e_collective, e_legal_person, e_individual, e_hmt, e_foreign]\n",
    "  )\n",
    "  )\n",
    "  ) AS max_key_array_equity\n",
    "FROM asif_unzip_data_csv \n",
    "\n",
    "  )\n",
    "  SELECT *,\n",
    "  CASE \n",
    " \n",
    "  WHEN type in ('159','160') AND max_key_array_equity = ARRAY[1] THEN 'COLLECTIVE'\n",
    "  WHEN type in ('159','160') AND max_key_array_equity = ARRAY[2] THEN 'SOE'\n",
    "  WHEN type in ('159','160') AND max_key_array_equity = ARRAY[3] THEN 'PRIVATE'\n",
    "  WHEN type in ('159','160') AND max_key_array_equity = ARRAY[4] THEN 'PRIVATE'\n",
    "  WHEN type in ('159','160') AND max_key_array_equity = ARRAY[5] THEN 'HTM'\n",
    "  WHEN type in ('159','160') AND max_key_array_equity = ARRAY[6] THEN 'FOREIGN'\n",
    "  WHEN type in ('110','141','143','151') THEN 'SOE' \n",
    "  WHEN type in ('120','130','142','149') THEN 'COLLECTIVE' \n",
    "  WHEN type in ('171','172','173','174','190') THEN 'PRIVATE' \n",
    "  WHEN type in ('210','220','230','240') THEN 'FOREIGN' \n",
    "  WHEN type in ( '310','320','330','340') THEN 'HTM'\n",
    "  END AS ownership\n",
    "  FROM arrays\n",
    "  WHERE type in ('159', '160') OR max_array_equity = 0 \n",
    "  LIMIT 10\n",
    "\"\"\"\n",
    "output = s3.run_query(\n",
    "                    query=query,\n",
    "                    database=DatabaseName,\n",
    "                    s3_output=s3_output,\n",
    "    filename = 'ex_ownership'\n",
    "                )\n",
    "output"
   ]
  },
  {
   "cell_type": "markdown",
   "metadata": {},
   "source": [
    "Count the ownership with the new rule. Not that, we exclude the `NULL` from `ownership`"
   ]
  },
  {
   "cell_type": "code",
   "execution_count": null,
   "metadata": {},
   "outputs": [],
   "source": [
    "query = \"\"\"\n",
    "WITH own AS(\n",
    "SELECT \n",
    "type,\n",
    "array_max(\n",
    "    ARRAY[e_state, e_collective, e_legal_person, e_individual, e_hmt, e_foreign]\n",
    "    ) AS max_array_equity,\n",
    "map_keys(\n",
    "  map_filter(\n",
    "  map(\n",
    "  ARRAY[1,2,3,4,5, 6],\n",
    "  ARRAY[e_state, e_collective, e_legal_person, e_individual, e_hmt, e_foreign]\n",
    "  ),\n",
    "  (k, v) -> v = array_max(\n",
    "  ARRAY[e_state, e_collective, e_legal_person, e_individual, e_hmt, e_foreign]\n",
    "  )\n",
    "  )\n",
    "  ) AS max_key_array_equity\n",
    "FROM \"firms_survey\".\"asif_unzip_data_csv\"\n",
    "WHERE \n",
    " (\n",
    "  year in ('1998', '1999', '2000', '2001', '2002', '2003', '2004', '2005', '2006', '2007')\n",
    "  )\n",
    "  AND \n",
    "  (\n",
    "  LENGTH(citycode) = 4\n",
    "  AND \n",
    "  LENGTH(setup) = 4\n",
    "  AND \n",
    "  LENGTH(cic) <= 4\n",
    "  AND \n",
    "  regexp_like(firm, '\\d+') = TRUE\n",
    "  )\n",
    "  )\n",
    "  SELECT ownership, COUNT(*) AS CNT\n",
    "  FROM (\n",
    "  SELECT \n",
    "  CASE \n",
    "  WHEN type in ('159','160') AND max_key_array_equity = ARRAY[1] THEN 'COLLECTIVE'\n",
    "  WHEN type in ('159','160') AND max_key_array_equity = ARRAY[2] THEN 'SOE'\n",
    "  WHEN type in ('159','160') AND max_key_array_equity = ARRAY[3] THEN 'PRIVATE'\n",
    "  WHEN type in ('159','160') AND max_key_array_equity = ARRAY[4] THEN 'PRIVATE'\n",
    "  WHEN type in ('159','160') AND max_key_array_equity = ARRAY[5] THEN 'HTM'\n",
    "  WHEN type in ('159','160') AND max_key_array_equity = ARRAY[6] THEN 'FOREIGN'\n",
    "  WHEN type in ('110','141','143','151') THEN 'SOE' \n",
    "  WHEN type in ('120','130','142','149') THEN 'COLLECTIVE' \n",
    "  WHEN type in ('171','172','173','174','190') THEN 'PRIVATE' \n",
    "  WHEN type in ('210','220','230','240') THEN 'FOREIGN' \n",
    "  WHEN type in ( '310','320','330','340') THEN 'HTM'\n",
    "  END AS ownership\n",
    "  FROM own\n",
    "  )\n",
    "  WHERE ownership in ('COLLECTIVE', 'SOE', 'PRIVATE', 'HTM', 'FOREIGN')\n",
    "  GROUP BY ownership\n",
    "  ORDER BY CNT\n",
    "  \n",
    "\"\"\"\n",
    "output = s3.run_query(\n",
    "                    query=query,\n",
    "                    database=DatabaseName,\n",
    "                    s3_output=s3_output,\n",
    "    filename = 'count_ownership'\n",
    "                )\n",
    "output"
   ]
  },
  {
   "cell_type": "markdown",
   "metadata": {},
   "source": [
    "Method cleaning dataset \n",
    "\n",
    "| Step cleaning | method                                                                                                  | Variables                                                      |\n",
    "|---------------|---------------------------------------------------------------------------------------------------------|----------------------------------------------------------------|\n",
    "| 1             | remove row if  total assets, net value of fixed assets, sales, gross value of industrial output missing | (负债合计 (c98) + 所有者权益合计 (c99), tofixed, sales, output |\n",
    "| 2             | ~number of employees hired by a firm must not be less than 10~                                            | c62 (年末从业人员合计_总计)                                    |\n",
    "| 3             | total assets must be higher than the liquid assets                                                      | (负债合计 (c98) + 所有者权益合计 (c99) >                       |\n",
    "| 4             | total assets must be larger than the total fixed assets                                                 | (负债合计 (c98) + 所有者权益合计 (c99) > totfixed              |\n",
    "| 5             | total assets must be larger than the net value of the fixed assets                                      | (负债合计 (c98) + 所有者权益合计 (c99) > netfixed              |"
   ]
  },
  {
   "cell_type": "markdown",
   "metadata": {},
   "source": [
    "Clean up the folder with the previous csv file. Be careful, it will erase all files inside the folder"
   ]
  },
  {
   "cell_type": "code",
   "execution_count": null,
   "metadata": {},
   "outputs": [],
   "source": [
    "s3_output = 'DATA/ECON/FIRM_SURVEY/ASIF_CHINA/PREPARED'"
   ]
  },
  {
   "cell_type": "code",
   "execution_count": null,
   "metadata": {},
   "outputs": [],
   "source": [
    "s3.remove_all_bucket(path_remove = s3_output)"
   ]
  },
  {
   "cell_type": "markdown",
   "metadata": {},
   "source": [
    "Just for the record, it took 17 seconds to manipulate 1.7gib of data"
   ]
  },
  {
   "cell_type": "code",
   "execution_count": null,
   "metadata": {},
   "outputs": [],
   "source": [
    "%%time\n",
    "query = \"\"\"\n",
    "CREATE TABLE firms_survey.asif_firms_prepared WITH (format = 'PARQUET') AS WITH own AS(\n",
    "  SELECT \n",
    "    *, \n",
    "    array_max(\n",
    "      ARRAY[e_state, e_collective, e_legal_person, \n",
    "      e_individual, e_hmt, e_foreign]\n",
    "    ) AS max_array_equity, \n",
    "    map_keys(\n",
    "      map_filter(\n",
    "        map(\n",
    "          ARRAY[1, 2, 3, 4, 5, 6], ARRAY[e_state, \n",
    "          e_collective, e_legal_person, e_individual, \n",
    "          e_hmt, e_foreign]\n",
    "        ), \n",
    "        (k, v) -> v = array_max(\n",
    "          ARRAY[e_state, e_collective, e_legal_person, \n",
    "          e_individual, e_hmt, e_foreign]\n",
    "        )\n",
    "      )\n",
    "    ) AS max_key_array_equity \n",
    "  FROM \n",
    "    \"firms_survey\".\"asif_unzip_data_csv\" \n",
    "  WHERE \n",
    "    (\n",
    "      year in (\n",
    "        '1998', '1999', '2000', '2001', '2002', \n",
    "        '2003', '2004', '2005', '2006', '2007'\n",
    "      )\n",
    "    ) \n",
    "    AND (\n",
    "      LENGTH(citycode) = 4 \n",
    "      AND LENGTH(setup) = 4 \n",
    "      AND LENGTH(cic) <= 4 \n",
    "      AND regexp_like(firm, '\\d+') = TRUE\n",
    "    )\n",
    ") \n",
    "SELECT \n",
    "  firm, \n",
    "  year, \n",
    "  export, \n",
    "  dq, \n",
    "  name, \n",
    "  town, \n",
    "  village, \n",
    "  street, \n",
    "  c15, \n",
    "  zip, \n",
    "  product1_, \n",
    "  c26, \n",
    "  c27, \n",
    "  cic, \n",
    "  type, \n",
    "  c44, \n",
    "  c45, \n",
    "  setup, \n",
    "  c47, \n",
    "  c60, \n",
    "  c61, \n",
    "  employ, \n",
    "  c69, \n",
    "  output, \n",
    "  new_product, \n",
    "  c74, \n",
    "  addval, \n",
    "  cuasset, \n",
    "  c80, \n",
    "  c81, \n",
    "  c82, \n",
    "  c83, \n",
    "  c84, \n",
    "  c85, \n",
    "  tofixed, \n",
    "  c87, \n",
    "  todepre, \n",
    "  cudepre, \n",
    "  netfixed, \n",
    "  CASE WHEN c91 IS NULL THEN 0 ELSE c91 END AS c91, \n",
    "  CASE WHEN c92 IS NULL THEN 0 ELSE c92 END AS c92, \n",
    "  toasset, \n",
    "  c95, \n",
    "  c97, \n",
    "  c98, \n",
    "  c99, \n",
    "  captal, \n",
    "  e_state, \n",
    "  e_collective, \n",
    "  e_legal_person, \n",
    "  e_individual, \n",
    "  e_hmt, \n",
    "  e_foreign, \n",
    "  sales, \n",
    "  c108, \n",
    "  c113, \n",
    "  c110, \n",
    "  c111, \n",
    "  c114, \n",
    "  c115, \n",
    "  c116, \n",
    "  c118, \n",
    "  c124, \n",
    "  c125, \n",
    "  profit, \n",
    "  c128, \n",
    "  c131, \n",
    "  c132, \n",
    "  c133, \n",
    "  c134, \n",
    "  c136, \n",
    "  wage, \n",
    "  c140, \n",
    "  c141, \n",
    "  c142, \n",
    "  c143, \n",
    "  c144, \n",
    "  c145, \n",
    "  midput, \n",
    "  c62, \n",
    "  c147, \n",
    "  c64, \n",
    "  c65, \n",
    "  c93, \n",
    "  c16, \n",
    "  c9, \n",
    "  c10, \n",
    "  c11, \n",
    "  c17, \n",
    "  c29, \n",
    "  c167, \n",
    "  c168, \n",
    "  v90, \n",
    "  CASE WHEN c79 IS NULL THEN 0 ELSE c79 END AS c79, \n",
    "  c96, \n",
    "  c117, \n",
    "  c119, \n",
    "  c121, \n",
    "  trainfee, \n",
    "  c123, \n",
    "  c127, \n",
    "  c135, \n",
    "  c120, \n",
    "  c138, \n",
    "  c148, \n",
    "  c149, \n",
    "  c150, \n",
    "  c151, \n",
    "  rdfee, \n",
    "  c156, \n",
    "  c157, \n",
    "  citycode, \n",
    "  prov, \n",
    "  ownership \n",
    "FROM \n",
    "  (\n",
    "    SELECT \n",
    "      *, \n",
    "      CASE WHEN type in ('159', '160') \n",
    "      AND max_key_array_equity = ARRAY[1] THEN 'COLLECTIVE' WHEN type in ('159', '160') \n",
    "      AND max_key_array_equity = ARRAY[2] THEN 'SOE' WHEN type in ('159', '160') \n",
    "      AND max_key_array_equity = ARRAY[3] THEN 'PRIVATE' WHEN type in ('159', '160') \n",
    "      AND max_key_array_equity = ARRAY[4] THEN 'PRIVATE' WHEN type in ('159', '160') \n",
    "      AND max_key_array_equity = ARRAY[5] THEN 'HTM' WHEN type in ('159', '160') \n",
    "      AND max_key_array_equity = ARRAY[6] THEN 'FOREIGN' WHEN type in ('110', '141', '143', '151') THEN 'SOE' WHEN type in ('120', '130', '142', '149') THEN 'COLLECTIVE' WHEN type in ('171', '172', '173', '174', '190') THEN 'PRIVATE' WHEN type in ('210', '220', '230', '240') THEN 'FOREIGN' WHEN type in ('310', '320', '330', '340') THEN 'HTM' END AS ownership \n",
    "    FROM \n",
    "      own\n",
    "  ) \n",
    "WHERE \n",
    "  (\n",
    "    ownership in (\n",
    "      'COLLECTIVE', 'SOE', 'PRIVATE', 'HTM', \n",
    "      'FOREIGN'\n",
    "    ) \n",
    "    AND c98 > 0 \n",
    "    AND c99 > 0 \n",
    "    AND tofixed > 0 \n",
    "    AND sales > 0 \n",
    "    AND output > 0 -- AND\n",
    "    -- c62 > 10 \n",
    "    AND (c98 + c99) > tofixed \n",
    "    AND (c98 + c99) > netfixed\n",
    "  )\n",
    "\n",
    "\"\"\"\n",
    "output = s3.run_query(\n",
    "                    query=query,\n",
    "                    database=DatabaseName,\n",
    "                    s3_output=s3_output\n",
    "                )"
   ]
  },
  {
   "cell_type": "code",
   "execution_count": null,
   "metadata": {},
   "outputs": [],
   "source": [
    "output"
   ]
  },
  {
   "cell_type": "markdown",
   "metadata": {},
   "source": [
    "Need to remove the metadata generated by Athena. We remove it to avoid parsing incorrect value with the crawler"
   ]
  },
  {
   "cell_type": "markdown",
   "metadata": {},
   "source": [
    "# Validate query\n",
    "\n",
    "This step is mandatory to validate the query in the ETL. If you are not sure about the quality of the query, go to the next step."
   ]
  },
  {
   "cell_type": "markdown",
   "metadata": {},
   "source": [
    "To validate the query, please fillin the json below. Don't forget to change the schema so that the crawler can use it.\n",
    "\n",
    "1. Add a partition key:\n",
    "    - Inform if there is group in the table so that, the parser can compute duplicate\n",
    "2. Add the steps number -> Not automtic yet. Start at 0\n",
    "3. Change the schema if needed. It is highly recommanded to add comment to the fields\n",
    "4. Provide a description -> detail the steps "
   ]
  },
  {
   "cell_type": "markdown",
   "metadata": {},
   "source": [
    "1. Add a partition key"
   ]
  },
  {
   "cell_type": "code",
   "execution_count": null,
   "metadata": {},
   "outputs": [],
   "source": [
    "partition_keys = ['firm', 'year']"
   ]
  },
  {
   "cell_type": "markdown",
   "metadata": {},
   "source": [
    "2. Add the steps number"
   ]
  },
  {
   "cell_type": "code",
   "execution_count": null,
   "metadata": {},
   "outputs": [],
   "source": [
    "step = 0"
   ]
  },
  {
   "cell_type": "markdown",
   "metadata": {},
   "source": [
    "3. Change the schema\n",
    "\n",
    "We load the schema from the raw data"
   ]
  },
  {
   "cell_type": "code",
   "execution_count": null,
   "metadata": {},
   "outputs": [],
   "source": [
    "schema = glue.get_table_information(\n",
    "    database = DatabaseName,\n",
    "    table = 'asif_unzip_data_csv'\n",
    ")['Table']['StorageDescriptor']['Columns']\n",
    "schema"
   ]
  },
  {
   "cell_type": "markdown",
   "metadata": {},
   "source": [
    "4. Provide a description"
   ]
  },
  {
   "cell_type": "code",
   "execution_count": null,
   "metadata": {},
   "outputs": [],
   "source": [
    "description = \"\"\"\n",
    "Prepare ASIF raw data by removing unconsistent year format, industry and birth year\n",
    "\"\"\""
   ]
  },
  {
   "cell_type": "markdown",
   "metadata": {},
   "source": [
    "5. provide metadata\n",
    "\n",
    "- DatabaseName\n",
    "- TablePrefix\n",
    "- "
   ]
  },
  {
   "cell_type": "code",
   "execution_count": null,
   "metadata": {},
   "outputs": [],
   "source": [
    "json_etl = {\n",
    "    'step': step,\n",
    "    'description':description,\n",
    "    'query':query,\n",
    "    'schema': schema,\n",
    "    'partition_keys':partition_keys,\n",
    "    'metadata':{\n",
    "    'DatabaseName' : DatabaseName,\n",
    "    'TableName' : table_name,\n",
    "    'target_S3URI' : os.path.join('s3://',bucket, s3_output),\n",
    "    'from_athena': 'True'    \n",
    "    }\n",
    "}"
   ]
  },
  {
   "cell_type": "code",
   "execution_count": null,
   "metadata": {},
   "outputs": [],
   "source": [
    "with open(os.path.join(str(Path(path).parent), 'parameters_ETL_Financial_dependency_pollution.json')) as json_file:\n",
    "    parameters = json.load(json_file)"
   ]
  },
  {
   "cell_type": "markdown",
   "metadata": {},
   "source": [
    "Remove the step number from the current file (if exist)"
   ]
  },
  {
   "cell_type": "code",
   "execution_count": null,
   "metadata": {},
   "outputs": [],
   "source": [
    "index_to_remove = next(\n",
    "                (\n",
    "                    index\n",
    "                    for (index, d) in enumerate(parameters['TABLES']['PREPARATION']['STEPS'])\n",
    "                    if d[\"step\"] == step\n",
    "                ),\n",
    "                None,\n",
    "            )\n",
    "if index_to_remove != None:\n",
    "    parameters['TABLES']['PREPARATION']['STEPS'].pop(index_to_remove)"
   ]
  },
  {
   "cell_type": "code",
   "execution_count": null,
   "metadata": {},
   "outputs": [],
   "source": [
    "parameters['TABLES']['PREPARATION']['STEPS'].append(json_etl)"
   ]
  },
  {
   "cell_type": "markdown",
   "metadata": {},
   "source": [
    "Save JSON"
   ]
  },
  {
   "cell_type": "code",
   "execution_count": null,
   "metadata": {},
   "outputs": [],
   "source": [
    "with open(os.path.join(str(Path(path).parent), 'parameters_ETL_Financial_dependency_pollution.json'), \"w\")as outfile:\n",
    "    json.dump(parameters, outfile)"
   ]
  },
  {
   "cell_type": "markdown",
   "metadata": {},
   "source": [
    "# Create or update the data catalog\n",
    "\n",
    "The query is saved in the S3 (bucket `datalake-datascience`) but the table is not available yet in the Data Catalog. Use the function `create_table_glue` to generate the table and update the catalog.\n",
    "\n",
    "Few parameters are required:\n",
    "\n",
    "- name_crawler: Name of the crawler\n",
    "- Role: Role to temporary provide an access tho the service\n",
    "- DatabaseName: Name of the database to create the table\n",
    "- TablePrefix: Prefix of the table. Full name of the table will be `TablePrefix` + folder name\n",
    "\n",
    "To update the schema, please use the following structure\n",
    "\n",
    "```\n",
    "schema = [\n",
    "    {\n",
    "        \"Name\": \"VAR1\",\n",
    "        \"Type\": \"\",\n",
    "        \"Comment\": \"\"\n",
    "    },\n",
    "    {\n",
    "        \"Name\": \"VAR2\",\n",
    "        \"Type\": \"\",\n",
    "        \"Comment\": \"\"\n",
    "    }\n",
    "]\n",
    "```"
   ]
  },
  {
   "cell_type": "code",
   "execution_count": null,
   "metadata": {},
   "outputs": [],
   "source": [
    "to_add = {\n",
    "        \"Name\": \"ownership\",\n",
    "        \"Type\": \"string\",\n",
    "        \"Comment\": \"One of COLLECTIVE, SOE, PRIVATE, HTM, FOREIGN. Cf https://github.com/thomaspernet/Financial_dependency_pollution/blob/master/01_data_preprocessing/01_prepare_tables/00_prepare_asif.md\"\n",
    "    }"
   ]
  },
  {
   "cell_type": "code",
   "execution_count": null,
   "metadata": {},
   "outputs": [],
   "source": [
    "schema.append(to_add)"
   ]
  },
  {
   "cell_type": "code",
   "execution_count": null,
   "metadata": {},
   "outputs": [],
   "source": [
    "glue.update_schema_table(\n",
    "    database = DatabaseName,\n",
    "    table = table_name,\n",
    "    schema= schema)"
   ]
  },
  {
   "cell_type": "markdown",
   "metadata": {},
   "source": [
    "## Check Duplicates\n",
    "\n",
    "One of the most important step when creating a table is to check if the table contains duplicates. The cell below checks if the table generated before is empty of duplicates. The code uses the JSON file to create the query parsed in Athena. \n",
    "\n",
    "You are required to define the group(s) that Athena will use to compute the duplicate. For instance, your table can be grouped by COL1 and COL2 (need to be string or varchar), then pass the list ['COL1', 'COL2'] "
   ]
  },
  {
   "cell_type": "code",
   "execution_count": null,
   "metadata": {},
   "outputs": [],
   "source": [
    "partition_keys = ['firm', 'year']\n",
    "\n",
    "with open(os.path.join(str(Path(path).parent), 'parameters_ETL_Financial_dependency_pollution.json')) as json_file:\n",
    "    parameters = json.load(json_file)"
   ]
  },
  {
   "cell_type": "code",
   "execution_count": null,
   "metadata": {},
   "outputs": [],
   "source": [
    "### COUNT DUPLICATES\n",
    "if len(partition_keys) > 0:\n",
    "    groups = ' , '.join(partition_keys)\n",
    "\n",
    "    query_duplicates = parameters[\"ANALYSIS\"]['COUNT_DUPLICATES']['query'].format(\n",
    "                                DatabaseName,table_name,groups\n",
    "                                )\n",
    "    dup = s3.run_query(\n",
    "                                query=query_duplicates,\n",
    "                                database=DatabaseName,\n",
    "                                s3_output=\"SQL_OUTPUT_ATHENA\",\n",
    "                                filename=\"duplicates_{}\".format(table_name))\n",
    "    display(dup)\n"
   ]
  },
  {
   "cell_type": "markdown",
   "metadata": {},
   "source": [
    "# Analytics\n",
    "\n",
    "In this part, we are providing basic summary statistic. Since we have created the tables, we can parse the schema in Glue and use our json file to automatically generates the analysis.\n",
    "\n",
    "The cells below execute the job in the key `ANALYSIS`. You need to change the `primary_key` and `secondary_key` "
   ]
  },
  {
   "cell_type": "markdown",
   "metadata": {},
   "source": [
    "For a full analysis of the table, please use the following Lambda function. Be patient, it can takes between 5 to 30 minutes. Times varies according to the number of columns in your dataset.\n",
    "\n",
    "Use the function as follow:\n",
    "\n",
    "- `output_prefix`:  s3://datalake-datascience/ANALYTICS/OUTPUT/TABLE_NAME/\n",
    "- `region`: region where the table is stored\n",
    "- `bucket`: Name of the bucket\n",
    "- `DatabaseName`: Name of the database\n",
    "- `table_name`: Name of the table\n",
    "- `group`: variables name to group to count the duplicates\n",
    "- `primary_key`: Variable name to perform the grouping -> Only one variable for now\n",
    "- `secondary_key`: Variable name to perform the secondary grouping -> Only one variable for now\n",
    "- `proba`: Chi-square analysis probabilitity\n",
    "- `y_var`: Continuous target variables\n",
    "\n",
    "Check the job processing in Sagemaker: https://eu-west-3.console.aws.amazon.com/sagemaker/home?region=eu-west-3#/processing-jobs\n",
    "\n",
    "The notebook is available: https://s3.console.aws.amazon.com/s3/buckets/datalake-datascience?region=eu-west-3&prefix=ANALYTICS/OUTPUT/&showversions=false\n",
    "\n",
    "Please, download the notebook on your local machine, and convert it to HTML:\n",
    "\n",
    "```\n",
    "cd \"/Users/thomas/Downloads/Notebook\"\n",
    "aws s3 cp s3://datalake-datascience/ANALYTICS/OUTPUT/asif_unzip_data_csv/Template_analysis_from_lambda-2020-11-22-08-12-20.ipynb .\n",
    "\n",
    "## convert HTML no code\n",
    "jupyter nbconvert --no-input --to html Template_analysis_from_lambda-2020-11-21-14-30-45.ipynb\n",
    "jupyter nbconvert --to html Template_analysis_from_lambda-2020-11-22-08-12-20.ipynb\n",
    "```\n",
    "\n",
    "Then upload the HTML to: https://s3.console.aws.amazon.com/s3/buckets/datalake-datascience?region=eu-west-3&prefix=ANALYTICS/HTML_OUTPUT/\n",
    "\n",
    "Add a new folder with the table name in upper case"
   ]
  },
  {
   "cell_type": "code",
   "execution_count": null,
   "metadata": {},
   "outputs": [],
   "source": [
    "import boto3\n",
    "\n",
    "key, secret_ = con.load_credential()\n",
    "client_lambda = boto3.client(\n",
    "    'lambda',\n",
    "    aws_access_key_id=key,\n",
    "    aws_secret_access_key=secret_,\n",
    "    region_name = region)"
   ]
  },
  {
   "cell_type": "code",
   "execution_count": null,
   "metadata": {},
   "outputs": [],
   "source": [
    "primary_key = 'year'\n",
    "secondary_key = 'ownership'\n",
    "y_var = 'output'"
   ]
  },
  {
   "cell_type": "code",
   "execution_count": null,
   "metadata": {},
   "outputs": [],
   "source": [
    "table_name.upper()"
   ]
  },
  {
   "cell_type": "code",
   "execution_count": null,
   "metadata": {},
   "outputs": [],
   "source": [
    "payload = {\n",
    "    \"input_path\": \"s3://datalake-datascience/ANALYTICS/TEMPLATE_NOTEBOOKS/template_analysis_from_lambda.ipynb\",\n",
    "    \"output_prefix\": \"s3://datalake-datascience/ANALYTICS/OUTPUT/{}/\".format(table_name.upper()),\n",
    "    \"parameters\": {\n",
    "        \"region\": \"{}\".format(region),\n",
    "        \"bucket\": \"{}\".format(bucket),\n",
    "        \"DatabaseName\": \"{}\".format(DatabaseName),\n",
    "        \"table_name\": \"{}\".format(table_name),\n",
    "        \"group\": \"{}\".format(','.join(partition_keys)),\n",
    "        \"keys\": \"{},{}\".format(primary_key,secondary_key),\n",
    "        \"y_var\": \"{}\".format(y_var),\n",
    "        \"threshold\":.5\n",
    "    },\n",
    "}\n",
    "payload"
   ]
  },
  {
   "cell_type": "code",
   "execution_count": null,
   "metadata": {},
   "outputs": [],
   "source": [
    "response = client_lambda.invoke(\n",
    "    FunctionName='RunNotebook',\n",
    "    InvocationType='RequestResponse',\n",
    "    LogType='Tail',\n",
    "    Payload=json.dumps(payload),\n",
    ")\n",
    "response"
   ]
  },
  {
   "cell_type": "markdown",
   "metadata": {},
   "source": [
    "For a partial analysis, run the cells below"
   ]
  },
  {
   "cell_type": "markdown",
   "metadata": {},
   "source": [
    "# Generation report"
   ]
  },
  {
   "cell_type": "code",
   "execution_count": null,
   "metadata": {},
   "outputs": [],
   "source": [
    "import os, time, shutil, urllib, ipykernel, json\n",
    "from pathlib import Path\n",
    "from notebook import notebookapp"
   ]
  },
  {
   "cell_type": "code",
   "execution_count": null,
   "metadata": {},
   "outputs": [],
   "source": [
    "def create_report(extension = \"html\", keep_code = False):\n",
    "    \"\"\"\n",
    "    Create a report from the current notebook and save it in the \n",
    "    Report folder (Parent-> child directory)\n",
    "    \n",
    "    1. Exctract the current notbook name\n",
    "    2. Convert the Notebook \n",
    "    3. Move the newly created report\n",
    "    \n",
    "    Args:\n",
    "    extension: string. Can be \"html\", \"pdf\", \"md\"\n",
    "    \n",
    "    \n",
    "    \"\"\"\n",
    "    \n",
    "    ### Get notebook name\n",
    "    connection_file = os.path.basename(ipykernel.get_connection_file())\n",
    "    kernel_id = connection_file.split('-', 1)[0].split('.')[0]\n",
    "\n",
    "    for srv in notebookapp.list_running_servers():\n",
    "        try:\n",
    "            if srv['token']=='' and not srv['password']:  \n",
    "                req = urllib.request.urlopen(srv['url']+'api/sessions')\n",
    "            else:\n",
    "                req = urllib.request.urlopen(srv['url']+ \\\n",
    "                                             'api/sessions?token=' + \\\n",
    "                                             srv['token'])\n",
    "            sessions = json.load(req)\n",
    "            notebookname = sessions[0]['name']\n",
    "        except:\n",
    "            pass  \n",
    "    \n",
    "    sep = '.'\n",
    "    path = os.getcwd()\n",
    "    #parent_path = str(Path(path).parent)\n",
    "    \n",
    "    ### Path report\n",
    "    #path_report = \"{}/Reports\".format(parent_path)\n",
    "    #path_report = \"{}/Reports\".format(path)\n",
    "    \n",
    "    ### Path destination\n",
    "    name_no_extension = notebookname.split(sep, 1)[0]\n",
    "    source_to_move = name_no_extension +'.{}'.format(extension)\n",
    "    dest = os.path.join(path,'Reports', source_to_move)\n",
    "    \n",
    "    ### Generate notebook\n",
    "    if keep_code:\n",
    "        os.system('jupyter nbconvert --to {} {}'.format(\n",
    "    extension,notebookname))\n",
    "    else:\n",
    "        os.system('jupyter nbconvert --no-input --to {} {}'.format(\n",
    "    extension,notebookname))\n",
    "    \n",
    "    ### Move notebook to report folder\n",
    "    #time.sleep(5)\n",
    "    shutil.move(source_to_move, dest)\n",
    "    print(\"Report Available at this adress:\\n {}\".format(dest))"
   ]
  },
  {
   "cell_type": "code",
   "execution_count": null,
   "metadata": {},
   "outputs": [],
   "source": [
    "create_report(extension = \"html\", keep_code = True)"
   ]
  }
 ],
 "metadata": {
  "jupytext": {
   "formats": "ipynb,md"
  },
  "kernel_info": {
   "name": "python3"
  },
  "kernelspec": {
   "display_name": "Python 3",
   "language": "python",
   "name": "python3"
  },
  "language_info": {
   "codemirror_mode": {
    "name": "ipython",
    "version": 3
   },
   "file_extension": ".py",
   "mimetype": "text/x-python",
   "name": "python",
   "nbconvert_exporter": "python",
   "pygments_lexer": "ipython3",
   "version": "3.8.5"
  },
  "nteract": {
   "version": "0.22.0"
  },
  "toc": {
   "base_numbering": 1,
   "nav_menu": {},
   "number_sections": true,
   "sideBar": true,
   "skip_h1_title": false,
   "title_cell": "Table of Contents",
   "title_sidebar": "Contents",
   "toc_cell": false,
   "toc_position": {},
   "toc_section_display": true,
   "toc_window_display": false
  }
 },
 "nbformat": 4,
 "nbformat_minor": 4
}
