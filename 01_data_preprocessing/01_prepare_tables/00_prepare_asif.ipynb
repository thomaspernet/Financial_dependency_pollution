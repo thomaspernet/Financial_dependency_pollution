{
 "cells": [
  {
   "cell_type": "markdown",
   "metadata": {
    "lines_to_next_cell": 0
   },
   "source": [
    "# Prepare ASIF data to S3\n",
    "\n",
    "# Objective(s)\n",
    "\n",
    "## Business needs \n",
    "\n",
    "Prepare (cleaning  & removing unwanted rows) ASIF data using Athena and save output to S3 + Glue. \n",
    "\n",
    "## Description\n",
    "\n",
    "**Objective**\n",
    "\n",
    "Raw data is not 100% cleaned, as described by the analytical HTML table Template_analysis_from_lambda-2020-11-22-08-12-20.html (analysis of the raw table). \n",
    "\n",
    "**Steps**\n",
    "\n",
    "We will clean the table by doing the following steps:\n",
    "1. Keeping year 1998 to 2007\n",
    "2. Clean citycode → Only 4 digits\n",
    "3. Clean setup → replace to Null all values with a length lower/higher than 4 \n",
    "4. Remove rows when cic is unknown\n",
    "\n",
    "\n",
    "## Target\n",
    "\n",
    "* The file is saved in S3: \n",
    "  * bucket: datalake-datascience \n",
    "  * path: DATA/ECON/FIRM_SURVEY/ASIF_CHINA/PREPARED \n",
    "* Glue data catalog should be updated\n",
    "  * database: firms_survey \n",
    "  * table prefix: asif_firms \n",
    "    * table name (prefix + last folder S3 path): asif_firms_prepared \n",
    "\n",
    "# Metadata\n",
    "\n",
    "* Key: fzt56oqnn52261m\n",
    "* Parent key (for update parent):  \n",
    "* Notebook US Parent (i.e the one to update): \n",
    "* https://github.com/thomaspernet/Financial_dependency_pollution/blob/master/01_data_preprocessing/02_prepare_tables_model/00_prepare_asif.md\n",
    "* Epic: Epic 1\n",
    "* US: US 3\n",
    "* Date Begin: 11/22/2020\n",
    "* Duration Task: 0\n",
    "* Description: Prepare (cleaning  & removing unwanted rows) ASIF data using Athena and save output to S3 + Glue. \n",
    "* Step type: Prepare table\n",
    "* Status: Active\n",
    "* Source URL: US 03 Prepare ASIF\n",
    "* Task type: Jupyter Notebook\n",
    "* Users: Thomas Pernet\n",
    "* Watchers: Thomas Pernet\n",
    "* User Account: https://468786073381.signin.aws.amazon.com/console\n",
    "* Estimated Log points: 6\n",
    "* Task tag: #asif,#athena\n",
    "* Toggl Tag: #data-preparation\n",
    "* current nb commits: \n",
    " * Meetings:  \n",
    "* Presentation:  \n",
    "* Email Information:  \n",
    "  * thread: Number of threads: 0(Default 0, to avoid display email)\n",
    "  *  \n",
    "\n",
    "# Input Cloud Storage [AWS/GCP]\n",
    "\n",
    "## Table/file\n",
    "\n",
    "* Origin: \n",
    "* Athena\n",
    "* Name: \n",
    "* china_asif\n",
    "* Github: \n",
    "  * https://github.com/thomaspernet/Financial_dependency_pollution/blob/master/01_data_preprocessing/00_download_data_from/ASIF_PANEL/firm_asif.py\n",
    "\n",
    "# Destination Output/Delivery\n",
    "\n",
    "## Table/file\n",
    "\n",
    "* Origin: \n",
    "* S3\n",
    "* Athena\n",
    "* Name:\n",
    "* DATA/ECON/FIRM_SURVEY/ASIF_CHINA/PREPARED\n",
    "* asif_firms_prepared\n",
    "* GitHub:\n",
    "* https://github.com/thomaspernet/Financial_dependency_pollution/blob/master/01_data_preprocessing/02_prepare_tables_model/00_prepare_asif.md\n",
    "* URL: \n",
    "  * datalake-datascience/DATA/ECON/FIRM_SURVEY/ASIF_CHINA/PREPARED\n",
    "* \n",
    "\n",
    "# Knowledge\n",
    "\n",
    "## List of candidates\n",
    "\n",
    "* [Analytical raw dataset (HTML)](https://s3.console.aws.amazon.com/s3/buckets/datalake-datascience?region=eu-west-3&prefix=ANALYTICS/HTML_OUTPUT/ASIF_UNZIP_DATA_CSV/)"
   ]
  },
  {
   "cell_type": "code",
   "execution_count": 1,
   "metadata": {
    "collapsed": false,
    "inputHidden": false,
    "jupyter": {
     "outputs_hidden": false
    },
    "outputHidden": false
   },
   "outputs": [],
   "source": [
    "from awsPy.aws_authorization import aws_connector\n",
    "from awsPy.aws_s3 import service_s3\n",
    "from awsPy.aws_glue import service_glue\n",
    "from pathlib import Path\n",
    "import pandas as pd\n",
    "import numpy as np\n",
    "import seaborn as sns\n",
    "import os, shutil, json\n",
    "\n",
    "path = os.getcwd()\n",
    "parent_path = str(Path(path).parent.parent)\n",
    "\n",
    "\n",
    "name_credential = 'financial_dep_SO2_accessKeys.csv'\n",
    "region = 'eu-west-3'\n",
    "bucket = 'datalake-datascience'\n",
    "path_cred = \"{0}/creds/{1}\".format(parent_path, name_credential)"
   ]
  },
  {
   "cell_type": "code",
   "execution_count": 2,
   "metadata": {
    "collapsed": false,
    "inputHidden": false,
    "jupyter": {
     "outputs_hidden": false
    },
    "outputHidden": false
   },
   "outputs": [],
   "source": [
    "con = aws_connector.aws_instantiate(credential = path_cred,\n",
    "                                       region = region)\n",
    "client= con.client_boto()\n",
    "s3 = service_s3.connect_S3(client = client,\n",
    "                      bucket = bucket, verbose = True) \n",
    "glue = service_glue.connect_glue(client = client) "
   ]
  },
  {
   "cell_type": "code",
   "execution_count": 3,
   "metadata": {},
   "outputs": [],
   "source": [
    "pandas_setting = True\n",
    "if pandas_setting:\n",
    "    cm = sns.light_palette(\"green\", as_cmap=True)\n",
    "    pd.set_option('display.max_columns', None)\n",
    "    pd.set_option('display.max_colwidth', None)"
   ]
  },
  {
   "cell_type": "markdown",
   "metadata": {},
   "source": [
    "# Prepare query \n",
    "\n",
    "Write query and save the CSV back in the S3 bucket `datalake-datascience` "
   ]
  },
  {
   "cell_type": "markdown",
   "metadata": {},
   "source": [
    "# Steps"
   ]
  },
  {
   "cell_type": "markdown",
   "metadata": {},
   "source": [
    "# Table `XX`\n",
    "\n",
    "- Table name: `XX`\n",
    "\n",
    "\n",
    "Since the table to create has missing value, please use the following at the top of the query\n",
    "\n",
    "```\n",
    "CREATE TABLE database.table_name WITH (format = 'PARQUET') AS\n",
    "```"
   ]
  },
  {
   "cell_type": "markdown",
   "metadata": {},
   "source": [
    "Choose a location in S3 to save the CSV. It is recommended to save in it the `datalake-datascience` bucket. Locate an appropriate folder in the bucket, and make sure all output have the same format"
   ]
  },
  {
   "cell_type": "code",
   "execution_count": 4,
   "metadata": {},
   "outputs": [],
   "source": [
    "DatabaseName = 'firms_survey'\n",
    "table_name = 'asif_firms_prepared'\n",
    "s3_output = 'SQL_OUTPUT_ATHENA'"
   ]
  },
  {
   "cell_type": "markdown",
   "metadata": {},
   "source": [
    "First, we need to delete the table (if exist)"
   ]
  },
  {
   "cell_type": "code",
   "execution_count": 5,
   "metadata": {},
   "outputs": [
    {
     "name": "stdout",
     "output_type": "stream",
     "text": [
      "An error occurred (EntityNotFoundException) when calling the DeleteTable operation: Table asif_firms_prepared not found.\n"
     ]
    }
   ],
   "source": [
    "try:\n",
    "    response = glue.delete_table(\n",
    "        database=DatabaseName,\n",
    "        table=table_name\n",
    "    )\n",
    "    print(response)\n",
    "except Exception as e:\n",
    "    print(e)"
   ]
  },
  {
   "cell_type": "markdown",
   "metadata": {},
   "source": [
    "### Brief analysis\n",
    "\n",
    "- Count size of:\n",
    "    - `year` in 1998 to 2007\n",
    "    - `firms` has no digit\n",
    "    - `citycode` \n",
    "    - `cic`\n",
    "    - `setup`"
   ]
  },
  {
   "cell_type": "code",
   "execution_count": 6,
   "metadata": {},
   "outputs": [
    {
     "data": {
      "text/html": [
       "<div>\n",
       "<style scoped>\n",
       "    .dataframe tbody tr th:only-of-type {\n",
       "        vertical-align: middle;\n",
       "    }\n",
       "\n",
       "    .dataframe tbody tr th {\n",
       "        vertical-align: top;\n",
       "    }\n",
       "\n",
       "    .dataframe thead th {\n",
       "        text-align: right;\n",
       "    }\n",
       "</style>\n",
       "<table border=\"1\" class=\"dataframe\">\n",
       "  <thead>\n",
       "    <tr style=\"text-align: right;\">\n",
       "      <th></th>\n",
       "      <th>year</th>\n",
       "      <th>CNT</th>\n",
       "    </tr>\n",
       "  </thead>\n",
       "  <tbody>\n",
       "    <tr>\n",
       "      <th>0</th>\n",
       "      <td>1998</td>\n",
       "      <td>165118</td>\n",
       "    </tr>\n",
       "    <tr>\n",
       "      <th>1</th>\n",
       "      <td>1999</td>\n",
       "      <td>162033</td>\n",
       "    </tr>\n",
       "    <tr>\n",
       "      <th>2</th>\n",
       "      <td>2000</td>\n",
       "      <td>162885</td>\n",
       "    </tr>\n",
       "    <tr>\n",
       "      <th>3</th>\n",
       "      <td>2001</td>\n",
       "      <td>169031</td>\n",
       "    </tr>\n",
       "    <tr>\n",
       "      <th>4</th>\n",
       "      <td>2002</td>\n",
       "      <td>181557</td>\n",
       "    </tr>\n",
       "    <tr>\n",
       "      <th>5</th>\n",
       "      <td>2003</td>\n",
       "      <td>196222</td>\n",
       "    </tr>\n",
       "    <tr>\n",
       "      <th>6</th>\n",
       "      <td>2004</td>\n",
       "      <td>276474</td>\n",
       "    </tr>\n",
       "    <tr>\n",
       "      <th>7</th>\n",
       "      <td>2005</td>\n",
       "      <td>271835</td>\n",
       "    </tr>\n",
       "    <tr>\n",
       "      <th>8</th>\n",
       "      <td>2006</td>\n",
       "      <td>301961</td>\n",
       "    </tr>\n",
       "    <tr>\n",
       "      <th>9</th>\n",
       "      <td>2007</td>\n",
       "      <td>336768</td>\n",
       "    </tr>\n",
       "  </tbody>\n",
       "</table>\n",
       "</div>"
      ],
      "text/plain": [
       "   year     CNT\n",
       "0  1998  165118\n",
       "1  1999  162033\n",
       "2  2000  162885\n",
       "3  2001  169031\n",
       "4  2002  181557\n",
       "5  2003  196222\n",
       "6  2004  276474\n",
       "7  2005  271835\n",
       "8  2006  301961\n",
       "9  2007  336768"
      ]
     },
     "execution_count": 6,
     "metadata": {},
     "output_type": "execute_result"
    }
   ],
   "source": [
    "query = \"\"\"\n",
    "SELECT year, COUNT(*) as CNT\n",
    "FROM \"firms_survey\".\"asif_unzip_data_csv\"\n",
    "WHERE year in ('1998', '1999', '2000', '2001', '2002', '2003', '2004', '2005', '2006', '2007')\n",
    "  GROUP BY  year\n",
    "  ORDER BY year\n",
    "\"\"\"\n",
    "output = s3.run_query(\n",
    "                    query=query,\n",
    "                    database=DatabaseName,\n",
    "                    s3_output=s3_output,\n",
    "    filename = 'count_year'\n",
    "                )\n",
    "output"
   ]
  },
  {
   "cell_type": "code",
   "execution_count": 7,
   "metadata": {},
   "outputs": [
    {
     "data": {
      "text/html": [
       "<div>\n",
       "<style scoped>\n",
       "    .dataframe tbody tr th:only-of-type {\n",
       "        vertical-align: middle;\n",
       "    }\n",
       "\n",
       "    .dataframe tbody tr th {\n",
       "        vertical-align: top;\n",
       "    }\n",
       "\n",
       "    .dataframe thead th {\n",
       "        text-align: right;\n",
       "    }\n",
       "</style>\n",
       "<table border=\"1\" class=\"dataframe\">\n",
       "  <thead>\n",
       "    <tr style=\"text-align: right;\">\n",
       "      <th></th>\n",
       "      <th>CNT</th>\n",
       "      <th>_col1</th>\n",
       "    </tr>\n",
       "  </thead>\n",
       "  <tbody>\n",
       "    <tr>\n",
       "      <th>0</th>\n",
       "      <td>2223884</td>\n",
       "      <td>1</td>\n",
       "    </tr>\n",
       "  </tbody>\n",
       "</table>\n",
       "</div>"
      ],
      "text/plain": [
       "       CNT  _col1\n",
       "0  2223884      1"
      ]
     },
     "execution_count": 7,
     "metadata": {},
     "output_type": "execute_result"
    }
   ],
   "source": [
    "query = \"\"\"\n",
    "WITH test AS (\n",
    "SELECT digit, COUNT(digit) AS CNT\n",
    "FROM (\n",
    "SELECT regexp_like(firm, '\\d+') as digit\n",
    "FROM \"firms_survey\".\"asif_unzip_data_csv\"\n",
    "WHERE year in ('1998', '1999', '2000', '2001', '2002', '2003', '2004', '2005', '2006', '2007')\n",
    ")\n",
    "GROUP BY digit\n",
    ")\n",
    "SELECT CNT, COUNT(CNT)\n",
    "FROM test\n",
    "GROUP BY CNT\n",
    "\n",
    "\"\"\"\n",
    "output = s3.run_query(\n",
    "                    query=query,\n",
    "                    database=DatabaseName,\n",
    "                    s3_output=s3_output,\n",
    "    filename = 'count_digit'\n",
    "                )\n",
    "output"
   ]
  },
  {
   "cell_type": "code",
   "execution_count": 8,
   "metadata": {},
   "outputs": [
    {
     "data": {
      "text/html": [
       "<div>\n",
       "<style scoped>\n",
       "    .dataframe tbody tr th:only-of-type {\n",
       "        vertical-align: middle;\n",
       "    }\n",
       "\n",
       "    .dataframe tbody tr th {\n",
       "        vertical-align: top;\n",
       "    }\n",
       "\n",
       "    .dataframe thead th {\n",
       "        text-align: right;\n",
       "    }\n",
       "</style>\n",
       "<table border=\"1\" class=\"dataframe\">\n",
       "  <thead>\n",
       "    <tr style=\"text-align: right;\">\n",
       "      <th></th>\n",
       "      <th>len</th>\n",
       "      <th>CNT</th>\n",
       "    </tr>\n",
       "  </thead>\n",
       "  <tbody>\n",
       "    <tr>\n",
       "      <th>0</th>\n",
       "      <td>1.0</td>\n",
       "      <td>3</td>\n",
       "    </tr>\n",
       "    <tr>\n",
       "      <th>1</th>\n",
       "      <td>3.0</td>\n",
       "      <td>18</td>\n",
       "    </tr>\n",
       "    <tr>\n",
       "      <th>2</th>\n",
       "      <td>2.0</td>\n",
       "      <td>50</td>\n",
       "    </tr>\n",
       "    <tr>\n",
       "      <th>3</th>\n",
       "      <td>NaN</td>\n",
       "      <td>80</td>\n",
       "    </tr>\n",
       "    <tr>\n",
       "      <th>4</th>\n",
       "      <td>0.0</td>\n",
       "      <td>917</td>\n",
       "    </tr>\n",
       "    <tr>\n",
       "      <th>5</th>\n",
       "      <td>4.0</td>\n",
       "      <td>2222860</td>\n",
       "    </tr>\n",
       "  </tbody>\n",
       "</table>\n",
       "</div>"
      ],
      "text/plain": [
       "   len      CNT\n",
       "0  1.0        3\n",
       "1  3.0       18\n",
       "2  2.0       50\n",
       "3  NaN       80\n",
       "4  0.0      917\n",
       "5  4.0  2222860"
      ]
     },
     "execution_count": 8,
     "metadata": {},
     "output_type": "execute_result"
    }
   ],
   "source": [
    "query = \"\"\"\n",
    "SELECT len, COUNT(*) as CNT\n",
    "FROM (\n",
    "SELECT LENGTH(citycode) as len\n",
    "FROM \"firms_survey\".\"asif_unzip_data_csv\"\n",
    "  )\n",
    "  GROUP BY len\n",
    "  ORDER BY CNT\n",
    "\"\"\"\n",
    "output = s3.run_query(\n",
    "                    query=query,\n",
    "                    database=DatabaseName,\n",
    "                    s3_output=s3_output,\n",
    "    filename = 'count_citycode'\n",
    "                )\n",
    "output"
   ]
  },
  {
   "cell_type": "code",
   "execution_count": 9,
   "metadata": {},
   "outputs": [
    {
     "data": {
      "text/html": [
       "<div>\n",
       "<style scoped>\n",
       "    .dataframe tbody tr th:only-of-type {\n",
       "        vertical-align: middle;\n",
       "    }\n",
       "\n",
       "    .dataframe tbody tr th {\n",
       "        vertical-align: top;\n",
       "    }\n",
       "\n",
       "    .dataframe thead th {\n",
       "        text-align: right;\n",
       "    }\n",
       "</style>\n",
       "<table border=\"1\" class=\"dataframe\">\n",
       "  <thead>\n",
       "    <tr style=\"text-align: right;\">\n",
       "      <th></th>\n",
       "      <th>len</th>\n",
       "      <th>CNT</th>\n",
       "    </tr>\n",
       "  </thead>\n",
       "  <tbody>\n",
       "    <tr>\n",
       "      <th>0</th>\n",
       "      <td>19.0</td>\n",
       "      <td>1</td>\n",
       "    </tr>\n",
       "    <tr>\n",
       "      <th>1</th>\n",
       "      <td>10.0</td>\n",
       "      <td>1</td>\n",
       "    </tr>\n",
       "    <tr>\n",
       "      <th>2</th>\n",
       "      <td>14.0</td>\n",
       "      <td>2</td>\n",
       "    </tr>\n",
       "    <tr>\n",
       "      <th>3</th>\n",
       "      <td>20.0</td>\n",
       "      <td>2</td>\n",
       "    </tr>\n",
       "    <tr>\n",
       "      <th>4</th>\n",
       "      <td>9.0</td>\n",
       "      <td>3</td>\n",
       "    </tr>\n",
       "    <tr>\n",
       "      <th>5</th>\n",
       "      <td>11.0</td>\n",
       "      <td>4</td>\n",
       "    </tr>\n",
       "    <tr>\n",
       "      <th>6</th>\n",
       "      <td>16.0</td>\n",
       "      <td>4</td>\n",
       "    </tr>\n",
       "    <tr>\n",
       "      <th>7</th>\n",
       "      <td>13.0</td>\n",
       "      <td>4</td>\n",
       "    </tr>\n",
       "    <tr>\n",
       "      <th>8</th>\n",
       "      <td>15.0</td>\n",
       "      <td>4</td>\n",
       "    </tr>\n",
       "    <tr>\n",
       "      <th>9</th>\n",
       "      <td>18.0</td>\n",
       "      <td>6</td>\n",
       "    </tr>\n",
       "    <tr>\n",
       "      <th>10</th>\n",
       "      <td>7.0</td>\n",
       "      <td>7</td>\n",
       "    </tr>\n",
       "    <tr>\n",
       "      <th>11</th>\n",
       "      <td>8.0</td>\n",
       "      <td>7</td>\n",
       "    </tr>\n",
       "    <tr>\n",
       "      <th>12</th>\n",
       "      <td>17.0</td>\n",
       "      <td>9</td>\n",
       "    </tr>\n",
       "    <tr>\n",
       "      <th>13</th>\n",
       "      <td>2.0</td>\n",
       "      <td>19</td>\n",
       "    </tr>\n",
       "    <tr>\n",
       "      <th>14</th>\n",
       "      <td>NaN</td>\n",
       "      <td>39</td>\n",
       "    </tr>\n",
       "    <tr>\n",
       "      <th>15</th>\n",
       "      <td>0.0</td>\n",
       "      <td>370</td>\n",
       "    </tr>\n",
       "    <tr>\n",
       "      <th>16</th>\n",
       "      <td>1.0</td>\n",
       "      <td>460</td>\n",
       "    </tr>\n",
       "    <tr>\n",
       "      <th>17</th>\n",
       "      <td>5.0</td>\n",
       "      <td>4902</td>\n",
       "    </tr>\n",
       "    <tr>\n",
       "      <th>18</th>\n",
       "      <td>6.0</td>\n",
       "      <td>20120</td>\n",
       "    </tr>\n",
       "    <tr>\n",
       "      <th>19</th>\n",
       "      <td>3.0</td>\n",
       "      <td>66483</td>\n",
       "    </tr>\n",
       "    <tr>\n",
       "      <th>20</th>\n",
       "      <td>4.0</td>\n",
       "      <td>2131481</td>\n",
       "    </tr>\n",
       "  </tbody>\n",
       "</table>\n",
       "</div>"
      ],
      "text/plain": [
       "     len      CNT\n",
       "0   19.0        1\n",
       "1   10.0        1\n",
       "2   14.0        2\n",
       "3   20.0        2\n",
       "4    9.0        3\n",
       "5   11.0        4\n",
       "6   16.0        4\n",
       "7   13.0        4\n",
       "8   15.0        4\n",
       "9   18.0        6\n",
       "10   7.0        7\n",
       "11   8.0        7\n",
       "12  17.0        9\n",
       "13   2.0       19\n",
       "14   NaN       39\n",
       "15   0.0      370\n",
       "16   1.0      460\n",
       "17   5.0     4902\n",
       "18   6.0    20120\n",
       "19   3.0    66483\n",
       "20   4.0  2131481"
      ]
     },
     "execution_count": 9,
     "metadata": {},
     "output_type": "execute_result"
    }
   ],
   "source": [
    "query = \"\"\"\n",
    "SELECT len, COUNT(*) as CNT\n",
    "FROM (\n",
    "SELECT LENGTH(cic) as len\n",
    "FROM \"firms_survey\".\"asif_unzip_data_csv\"\n",
    "  )\n",
    "  GROUP BY len\n",
    "  ORDER BY CNT\n",
    "\"\"\"\n",
    "output = s3.run_query(\n",
    "                    query=query,\n",
    "                    database=DatabaseName,\n",
    "                    s3_output=s3_output,\n",
    "    filename = 'count_cic'\n",
    "                )\n",
    "output"
   ]
  },
  {
   "cell_type": "code",
   "execution_count": 10,
   "metadata": {},
   "outputs": [
    {
     "data": {
      "text/html": [
       "<div>\n",
       "<style scoped>\n",
       "    .dataframe tbody tr th:only-of-type {\n",
       "        vertical-align: middle;\n",
       "    }\n",
       "\n",
       "    .dataframe tbody tr th {\n",
       "        vertical-align: top;\n",
       "    }\n",
       "\n",
       "    .dataframe thead th {\n",
       "        text-align: right;\n",
       "    }\n",
       "</style>\n",
       "<table border=\"1\" class=\"dataframe\">\n",
       "  <thead>\n",
       "    <tr style=\"text-align: right;\">\n",
       "      <th></th>\n",
       "      <th>len</th>\n",
       "      <th>CNT</th>\n",
       "    </tr>\n",
       "  </thead>\n",
       "  <tbody>\n",
       "    <tr>\n",
       "      <th>0</th>\n",
       "      <td>6.0</td>\n",
       "      <td>2</td>\n",
       "    </tr>\n",
       "    <tr>\n",
       "      <th>1</th>\n",
       "      <td>0.0</td>\n",
       "      <td>7</td>\n",
       "    </tr>\n",
       "    <tr>\n",
       "      <th>2</th>\n",
       "      <td>5.0</td>\n",
       "      <td>19</td>\n",
       "    </tr>\n",
       "    <tr>\n",
       "      <th>3</th>\n",
       "      <td>NaN</td>\n",
       "      <td>39</td>\n",
       "    </tr>\n",
       "    <tr>\n",
       "      <th>4</th>\n",
       "      <td>1.0</td>\n",
       "      <td>1110</td>\n",
       "    </tr>\n",
       "    <tr>\n",
       "      <th>5</th>\n",
       "      <td>2.0</td>\n",
       "      <td>2628</td>\n",
       "    </tr>\n",
       "    <tr>\n",
       "      <th>6</th>\n",
       "      <td>3.0</td>\n",
       "      <td>3346</td>\n",
       "    </tr>\n",
       "    <tr>\n",
       "      <th>7</th>\n",
       "      <td>4.0</td>\n",
       "      <td>2216777</td>\n",
       "    </tr>\n",
       "  </tbody>\n",
       "</table>\n",
       "</div>"
      ],
      "text/plain": [
       "   len      CNT\n",
       "0  6.0        2\n",
       "1  0.0        7\n",
       "2  5.0       19\n",
       "3  NaN       39\n",
       "4  1.0     1110\n",
       "5  2.0     2628\n",
       "6  3.0     3346\n",
       "7  4.0  2216777"
      ]
     },
     "execution_count": 10,
     "metadata": {},
     "output_type": "execute_result"
    }
   ],
   "source": [
    "query = \"\"\"\n",
    "SELECT len, COUNT(*) as CNT\n",
    "FROM (\n",
    "SELECT LENGTH(setup) as len\n",
    "FROM \"firms_survey\".\"asif_unzip_data_csv\"\n",
    "  )\n",
    "  GROUP BY len\n",
    "  ORDER BY CNT\n",
    "\"\"\"\n",
    "output = s3.run_query(\n",
    "                    query=query,\n",
    "                    database=DatabaseName,\n",
    "                    s3_output=s3_output,\n",
    "    filename = 'count_setup'\n",
    "                )\n",
    "output"
   ]
  },
  {
   "cell_type": "markdown",
   "metadata": {},
   "source": [
    "Clean up the folder with the previous csv file. Be careful, it will erase all files inside the folder"
   ]
  },
  {
   "cell_type": "code",
   "execution_count": 11,
   "metadata": {},
   "outputs": [],
   "source": [
    "s3_output = 'DATA/ECON/FIRM_SURVEY/ASIF_CHINA/PREPARED'"
   ]
  },
  {
   "cell_type": "code",
   "execution_count": 12,
   "metadata": {},
   "outputs": [
    {
     "data": {
      "text/plain": [
       "True"
      ]
     },
     "execution_count": 12,
     "metadata": {},
     "output_type": "execute_result"
    }
   ],
   "source": [
    "s3.remove_all_bucket(path_remove = s3_output)"
   ]
  },
  {
   "cell_type": "code",
   "execution_count": 13,
   "metadata": {},
   "outputs": [
    {
     "name": "stdout",
     "output_type": "stream",
     "text": [
      "CPU times: user 2.42 s, sys: 117 ms, total: 2.53 s\n",
      "Wall time: 20.4 s\n"
     ]
    }
   ],
   "source": [
    "%%time\n",
    "query = \"\"\"\n",
    "CREATE TABLE firms_survey.asif_firms_prepared WITH (format = 'PARQUET') AS\n",
    "SELECT *\n",
    "FROM \"firms_survey\".\"asif_unzip_data_csv\"\n",
    "WHERE \n",
    " (\n",
    "  year in ('1998', '1999', '2000', '2001', '2002', '2003', '2004', '2005', '2006', '2007')\n",
    "  )\n",
    "  AND \n",
    "  (\n",
    "  LENGTH(citycode) = 4\n",
    "  AND \n",
    "  LENGTH(setup) = 4\n",
    "  AND \n",
    "  LENGTH(cic) <= 4\n",
    "  AND \n",
    "  regexp_like(firm, '\\d+') = TRUE\n",
    "    )  \n",
    "\"\"\"\n",
    "output = s3.run_query(\n",
    "                    query=query,\n",
    "                    database=DatabaseName,\n",
    "                    s3_output=s3_output\n",
    "                )"
   ]
  },
  {
   "cell_type": "code",
   "execution_count": 14,
   "metadata": {},
   "outputs": [
    {
     "data": {
      "text/plain": [
       "{'Results': {'State': 'SUCCEEDED',\n",
       "  'SubmissionDateTime': datetime.datetime(2020, 11, 22, 18, 31, 33, 338000, tzinfo=tzlocal()),\n",
       "  'CompletionDateTime': datetime.datetime(2020, 11, 22, 18, 31, 53, 229000, tzinfo=tzlocal())},\n",
       " 'QueryID': '7d092fa5-d52b-44fb-89e6-b98ea727f320'}"
      ]
     },
     "execution_count": 14,
     "metadata": {},
     "output_type": "execute_result"
    }
   ],
   "source": [
    "output"
   ]
  },
  {
   "cell_type": "markdown",
   "metadata": {},
   "source": [
    "Need to remove the metadata generated by Athena. We remove it to avoid parsing incorrect value with the crawler"
   ]
  },
  {
   "cell_type": "markdown",
   "metadata": {},
   "source": [
    "# Validate query\n",
    "\n",
    "This step is mandatory to validate the query in the ETL. If you are not sure about the quality of the query, go to the next step."
   ]
  },
  {
   "cell_type": "markdown",
   "metadata": {},
   "source": [
    "To validate the query, please fillin the json below. Don't forget to change the schema so that the crawler can use it.\n",
    "\n",
    "1. Add a partition key:\n",
    "    - Inform if there is group in the table so that, the parser can compute duplicate\n",
    "2. Add the steps number -> Not automtic yet. Start at 0\n",
    "3. Change the schema if needed. It is highly recommanded to add comment to the fields\n",
    "4. Provide a description -> detail the steps "
   ]
  },
  {
   "cell_type": "markdown",
   "metadata": {},
   "source": [
    "1. Add a partition key"
   ]
  },
  {
   "cell_type": "code",
   "execution_count": 15,
   "metadata": {},
   "outputs": [],
   "source": [
    "partition_keys = ['firm', 'year']"
   ]
  },
  {
   "cell_type": "markdown",
   "metadata": {},
   "source": [
    "2. Add the steps number"
   ]
  },
  {
   "cell_type": "code",
   "execution_count": 16,
   "metadata": {},
   "outputs": [],
   "source": [
    "step = 0"
   ]
  },
  {
   "cell_type": "markdown",
   "metadata": {},
   "source": [
    "3. Change the schema\n",
    "\n",
    "We load the schema from the raw data"
   ]
  },
  {
   "cell_type": "code",
   "execution_count": 17,
   "metadata": {},
   "outputs": [
    {
     "data": {
      "text/plain": [
       "[{'Name': 'firm', 'Type': 'string', 'Comment': 'firm ID'},\n",
       " {'Name': 'year', 'Type': 'string', 'Comment': 'balance sheet year'},\n",
       " {'Name': 'export', 'Type': 'int', 'Comment': 'Where: export delivery value'},\n",
       " {'Name': 'dq', 'Type': 'string', 'Comment': 'Province county code'},\n",
       " {'Name': 'name', 'Type': 'string', 'Comment': 'Corporate Name'},\n",
       " {'Name': 'town', 'Type': 'string', 'Comment': 'Township (town)'},\n",
       " {'Name': 'village',\n",
       "  'Type': 'string',\n",
       "  'Comment': 'Street (village), house number'},\n",
       " {'Name': 'street', 'Type': 'string', 'Comment': 'Street office'},\n",
       " {'Name': 'c15',\n",
       "  'Type': 'string',\n",
       "  'Comment': 'Community (neighborhood) and village committee'},\n",
       " {'Name': 'zip', 'Type': 'string', 'Comment': 'Zip code'},\n",
       " {'Name': 'product1_', 'Type': 'string', 'Comment': 'The main products (1)'},\n",
       " {'Name': 'c26', 'Type': 'string', 'Comment': 'The main products (2)'},\n",
       " {'Name': 'c27', 'Type': 'string', 'Comment': 'The main products (3)'},\n",
       " {'Name': 'cic', 'Type': 'string', 'Comment': 'Industry Code'},\n",
       " {'Name': 'type', 'Type': 'string', 'Comment': 'Registration Type'},\n",
       " {'Name': 'c44', 'Type': 'string', 'Comment': 'Holding case'},\n",
       " {'Name': 'c45', 'Type': 'string', 'Comment': 'Affiliation'},\n",
       " {'Name': 'setup', 'Type': 'string', 'Comment': 'year of creation'},\n",
       " {'Name': 'c47',\n",
       "  'Type': 'int',\n",
       "  'Comment': 'Opening (established) time - months'},\n",
       " {'Name': 'c60', 'Type': 'int', 'Comment': 'Code-scale enterprises'},\n",
       " {'Name': 'c61', 'Type': 'int', 'Comment': 'Light and heavy industrial codes'},\n",
       " {'Name': 'employ', 'Type': 'int', 'Comment': 'Employement'},\n",
       " {'Name': 'c69',\n",
       "  'Type': 'int',\n",
       "  'Comment': 'Industrial output (constant prices)'},\n",
       " {'Name': 'output',\n",
       "  'Type': 'int',\n",
       "  'Comment': 'Industrial output value (current prices)'},\n",
       " {'Name': 'new_product',\n",
       "  'Type': 'int',\n",
       "  'Comment': 'Where: New product output value'},\n",
       " {'Name': 'c74',\n",
       "  'Type': 'int',\n",
       "  'Comment': 'Industrial sales output value (current prices)'},\n",
       " {'Name': 'addval', 'Type': 'int', 'Comment': 'Value added'},\n",
       " {'Name': 'cuasset', 'Type': 'int', 'Comment': 'Current asset'},\n",
       " {'Name': 'c80', 'Type': 'int', 'Comment': 'Accounts Receivable'},\n",
       " {'Name': 'c81', 'Type': 'int', 'Comment': 'stock'},\n",
       " {'Name': 'c82', 'Type': 'int', 'Comment': 'Wherein: Finished'},\n",
       " {'Name': 'c83',\n",
       "  'Type': 'int',\n",
       "  'Comment': 'The average balance of current assets'},\n",
       " {'Name': 'c84', 'Type': 'int', 'Comment': 'Long-term investment'},\n",
       " {'Name': 'c85', 'Type': 'int', 'Comment': 'Total fixed assets (deprecated)'},\n",
       " {'Name': 'tofixed', 'Type': 'int', 'Comment': 'Total fixed assets (to use)'},\n",
       " {'Name': 'c87',\n",
       "  'Type': 'int',\n",
       "  'Comment': 'Where: the production and operation with'},\n",
       " {'Name': 'todepre', 'Type': 'int', 'Comment': 'total depreciation'},\n",
       " {'Name': 'cudepre', 'Type': 'int', 'Comment': 'current depreciation'},\n",
       " {'Name': 'netfixed', 'Type': 'int', 'Comment': 'net fixed asset'},\n",
       " {'Name': 'c91', 'Type': 'int', 'Comment': 'Intangible and Deferred'},\n",
       " {'Name': 'c92', 'Type': 'int', 'Comment': 'Intangible assets'},\n",
       " {'Name': 'toasset', 'Type': 'int', 'Comment': 'Total asset'},\n",
       " {'Name': 'c95', 'Type': 'int', 'Comment': 'Total current liabilities'},\n",
       " {'Name': 'c97', 'Type': 'int', 'Comment': 'Total long-term liabilities'},\n",
       " {'Name': 'c98', 'Type': 'int', 'Comment': 'Total Liabilities'},\n",
       " {'Name': 'c99', 'Type': 'int', 'Comment': \"Total shareholders' equity\"},\n",
       " {'Name': 'captal', 'Type': 'int', 'Comment': 'Capital'},\n",
       " {'Name': 'e_state', 'Type': 'int', 'Comment': 'Where: National Capital'},\n",
       " {'Name': 'e_collective', 'Type': 'int', 'Comment': 'Collective capital'},\n",
       " {'Name': 'e_legal_person', 'Type': 'int', 'Comment': 'Corporate capital'},\n",
       " {'Name': 'e_individual', 'Type': 'int', 'Comment': 'Personal Capital'},\n",
       " {'Name': 'e_hmt', 'Type': 'bigint'},\n",
       " {'Name': 'e_foreign', 'Type': 'int', 'Comment': 'Foreign capital'},\n",
       " {'Name': 'sales', 'Type': 'int', 'Comment': 'Sales revenue'},\n",
       " {'Name': 'c108', 'Type': 'int', 'Comment': 'Main business cost'},\n",
       " {'Name': 'c113', 'Type': 'int', 'Comment': 'Operating expenses'},\n",
       " {'Name': 'c110',\n",
       "  'Type': 'int',\n",
       "  'Comment': 'The main business tax and surcharges'},\n",
       " {'Name': 'c111', 'Type': 'int', 'Comment': 'sales profit'},\n",
       " {'Name': 'c114', 'Type': 'int', 'Comment': 'Management fees'},\n",
       " {'Name': 'c115', 'Type': 'int', 'Comment': 'Where: Taxes'},\n",
       " {'Name': 'c116', 'Type': 'int', 'Comment': 'Property insurance'},\n",
       " {'Name': 'c118', 'Type': 'int', 'Comment': 'Labor, unemployment insurance'},\n",
       " {'Name': 'c124', 'Type': 'int', 'Comment': 'Financial expenses'},\n",
       " {'Name': 'c125', 'Type': 'int', 'Comment': 'Of which: Interest expense'},\n",
       " {'Name': 'profit', 'Type': 'int', 'Comment': 'operating profit'},\n",
       " {'Name': 'c128', 'Type': 'int', 'Comment': 'Subsidy income'},\n",
       " {'Name': 'c131', 'Type': 'int', 'Comment': 'The total profit'},\n",
       " {'Name': 'c132', 'Type': 'int', 'Comment': 'Total loss'},\n",
       " {'Name': 'c133', 'Type': 'int', 'Comment': 'Total profit and tax'},\n",
       " {'Name': 'c134', 'Type': 'int', 'Comment': 'Income tax payable'},\n",
       " {'Name': 'c136', 'Type': 'int', 'Comment': 'Profit payable'},\n",
       " {'Name': 'wage', 'Type': 'int', 'Comment': 'Wages of the year'},\n",
       " {'Name': 'c140', 'Type': 'int', 'Comment': 'Where: Main Wages of business'},\n",
       " {'Name': 'c141',\n",
       "  'Type': 'int',\n",
       "  'Comment': 'This year the total amount of welfare payable (credit accumulated amount)'},\n",
       " {'Name': 'c142',\n",
       "  'Type': 'int',\n",
       "  'Comment': 'Where: Main business cope with the total welfare'},\n",
       " {'Name': 'c143', 'Type': 'int', 'Comment': 'Payable VAT'},\n",
       " {'Name': 'c144', 'Type': 'int', 'Comment': 'Input tax year'},\n",
       " {'Name': 'c145', 'Type': 'int', 'Comment': 'Output tax year'},\n",
       " {'Name': 'midput', 'Type': 'int', 'Comment': 'intermediate inputs'},\n",
       " {'Name': 'c62', 'Type': 'int', 'Comment': 'Persons Employed Total Total _'},\n",
       " {'Name': 'c147', 'Type': 'int', 'Comment': 'Taxes (processing)'},\n",
       " {'Name': 'c64', 'Type': 'int', 'Comment': 'Total annual revenue'},\n",
       " {'Name': 'c65', 'Type': 'int', 'Comment': 'Where: Main business revenue'},\n",
       " {'Name': 'c93', 'Type': 'int', 'Comment': 'Total assets 318'},\n",
       " {'Name': 'c16', 'Type': 'int', 'Comment': 'Provinces'},\n",
       " {'Name': 'c9', 'Type': 'string', 'Comment': 'State / Province / State)'},\n",
       " {'Name': 'c10',\n",
       "  'Type': 'string',\n",
       "  'Comment': 'The (autonomous regions and municipalities, prefectures and leagues)'},\n",
       " {'Name': 'c11',\n",
       "  'Type': 'string',\n",
       "  'Comment': 'Counties (districts, cities, flag)'},\n",
       " {'Name': 'c17', 'Type': 'string', 'Comment': 'Area Code'},\n",
       " {'Name': 'c29',\n",
       "  'Type': 'string',\n",
       "  'Comment': 'Registration (or approval) authority - the administrative department for industry and commerce'},\n",
       " {'Name': 'c167', 'Type': 'string', 'Comment': 'Founded union situation'},\n",
       " {'Name': 'c168', 'Type': 'int', 'Comment': 'unionized'},\n",
       " {'Name': 'v90', 'Type': 'int', 'Comment': 'number_unionized'},\n",
       " {'Name': 'c79', 'Type': 'int', 'Comment': 'short_term_investments'},\n",
       " {'Name': 'c96', 'Type': 'int', 'Comment': 'accounts_Payable'},\n",
       " {'Name': 'c117', 'Type': 'int', 'Comment': 'travel'},\n",
       " {'Name': 'c119', 'Type': 'int', 'Comment': 'union_funds'},\n",
       " {'Name': 'c121', 'Type': 'int', 'Comment': 'administrative_expenses'},\n",
       " {'Name': 'trainfee', 'Type': 'int', 'Comment': 'trainfee'},\n",
       " {'Name': 'c123', 'Type': 'int', 'Comment': 'sewage_charges'},\n",
       " {'Name': 'c127', 'Type': 'int', 'Comment': 'investment_income'},\n",
       " {'Name': 'c135', 'Type': 'int', 'Comment': 'advertising_fee'},\n",
       " {'Name': 'c120', 'Type': 'int', 'Comment': 'pension_medical_insurance'},\n",
       " {'Name': 'c138', 'Type': 'int', 'Comment': 'housing_fund'},\n",
       " {'Name': 'c148', 'Type': 'int', 'Comment': 'direct_aterial'},\n",
       " {'Name': 'c149', 'Type': 'int', 'Comment': 'intermediate_inputs'},\n",
       " {'Name': 'c150',\n",
       "  'Type': 'int',\n",
       "  'Comment': 'middle_management_fees_investment'},\n",
       " {'Name': 'c151', 'Type': 'int', 'Comment': 'operating_expenses '},\n",
       " {'Name': 'rdfee', 'Type': 'int', 'Comment': 'rdfee'},\n",
       " {'Name': 'c156',\n",
       "  'Type': 'string',\n",
       "  'Comment': 'Light and heavy industrial Name'},\n",
       " {'Name': 'c157', 'Type': 'string', 'Comment': 'Scale enterprises name'},\n",
       " {'Name': 'citycode',\n",
       "  'Type': 'string',\n",
       "  'Comment': 'City code clean by Zhao Ruili using adress'},\n",
       " {'Name': 'prov', 'Type': 'string', 'Comment': ''}]"
      ]
     },
     "execution_count": 17,
     "metadata": {},
     "output_type": "execute_result"
    }
   ],
   "source": [
    "schema = glue.get_table_information(\n",
    "    database = DatabaseName,\n",
    "    table = 'asif_unzip_data_csv'\n",
    ")['Table']['StorageDescriptor']['Columns']\n",
    "schema"
   ]
  },
  {
   "cell_type": "markdown",
   "metadata": {},
   "source": [
    "4. Provide a description"
   ]
  },
  {
   "cell_type": "code",
   "execution_count": 18,
   "metadata": {},
   "outputs": [],
   "source": [
    "description = \"\"\"\n",
    "Prepare ASIF raw data by removing unconsistent year format, industry and birth year\n",
    "\"\"\""
   ]
  },
  {
   "cell_type": "markdown",
   "metadata": {},
   "source": [
    "5. provide metadata\n",
    "\n",
    "- DatabaseName\n",
    "- TablePrefix\n",
    "- "
   ]
  },
  {
   "cell_type": "code",
   "execution_count": 19,
   "metadata": {},
   "outputs": [],
   "source": [
    "json_etl = {\n",
    "    'step': step,\n",
    "    'description':description,\n",
    "    'query':query,\n",
    "    'schema': schema,\n",
    "    'partition_keys':partition_keys,\n",
    "    'metadata':{\n",
    "    'DatabaseName' : DatabaseName,\n",
    "    'TableName' : table_name,\n",
    "    'target_S3URI' : os.path.join('s3://',bucket, s3_output),\n",
    "    'from_athena': 'True'    \n",
    "    }\n",
    "}"
   ]
  },
  {
   "cell_type": "code",
   "execution_count": 20,
   "metadata": {},
   "outputs": [],
   "source": [
    "with open(os.path.join(str(Path(path).parent), 'parameters_ETL_Financial_dependency_pollution.json')) as json_file:\n",
    "    parameters = json.load(json_file)"
   ]
  },
  {
   "cell_type": "code",
   "execution_count": 21,
   "metadata": {},
   "outputs": [
    {
     "data": {
      "text/plain": [
       "{'step': 0,\n",
       " 'description': '\\nPrepare ASIF raw data by removing unconsistent year format, industry and birth year\\n',\n",
       " 'query': '\\nCREATE TABLE firms_survey.asif_firms_prepared WITH (format = \\'PARQUET\\') AS\\nSELECT *\\nFROM \"firms_survey\".\"asif_unzip_data_csv\"\\nWHERE \\n (\\n  year in (\\'1998\\', \\'1999\\', \\'2000\\', \\'2001\\', \\'2002\\', \\'2003\\', \\'2004\\', \\'2005\\', \\'2006\\', \\'2007\\')\\n  )\\n  AND \\n  (\\n  LENGTH(citycode) = 4\\n  AND \\n  LENGTH(setup) = 4\\n  AND \\n  LENGTH(cic) <= 4\\n  AND \\n  regexp_like(firm, \\'\\\\d+\\') = TRUE\\n    )  \\n',\n",
       " 'schema': [{'Name': 'firm', 'Type': 'string', 'Comment': ''},\n",
       "  {'Name': 'year', 'Type': 'string', 'Comment': ''},\n",
       "  {'Name': 'export', 'Type': 'int', 'Comment': ''},\n",
       "  {'Name': 'dq', 'Type': 'string', 'Comment': ''},\n",
       "  {'Name': 'name', 'Type': 'string', 'Comment': ''},\n",
       "  {'Name': 'town', 'Type': 'string', 'Comment': ''},\n",
       "  {'Name': 'village', 'Type': 'string', 'Comment': ''},\n",
       "  {'Name': 'street', 'Type': 'string', 'Comment': ''},\n",
       "  {'Name': 'c15', 'Type': 'string', 'Comment': ''},\n",
       "  {'Name': 'zip', 'Type': 'string', 'Comment': ''},\n",
       "  {'Name': 'product1_', 'Type': 'string', 'Comment': ''},\n",
       "  {'Name': 'c26', 'Type': 'string', 'Comment': ''},\n",
       "  {'Name': 'c27', 'Type': 'string', 'Comment': ''},\n",
       "  {'Name': 'cic', 'Type': 'string', 'Comment': ''},\n",
       "  {'Name': 'type', 'Type': 'string', 'Comment': ''},\n",
       "  {'Name': 'c44', 'Type': 'string', 'Comment': ''},\n",
       "  {'Name': 'c45', 'Type': 'string', 'Comment': ''},\n",
       "  {'Name': 'setup', 'Type': 'string', 'Comment': ''},\n",
       "  {'Name': 'c47', 'Type': 'int', 'Comment': ''},\n",
       "  {'Name': 'c60', 'Type': 'int', 'Comment': ''},\n",
       "  {'Name': 'c61', 'Type': 'int', 'Comment': ''},\n",
       "  {'Name': 'employ', 'Type': 'int', 'Comment': ''},\n",
       "  {'Name': 'c69', 'Type': 'int', 'Comment': ''},\n",
       "  {'Name': 'output', 'Type': 'int', 'Comment': ''},\n",
       "  {'Name': 'new_product', 'Type': 'int', 'Comment': ''},\n",
       "  {'Name': 'c74', 'Type': 'int', 'Comment': ''},\n",
       "  {'Name': 'addval', 'Type': 'int', 'Comment': ''},\n",
       "  {'Name': 'cuasset', 'Type': 'int', 'Comment': ''},\n",
       "  {'Name': 'c80', 'Type': 'int', 'Comment': ''},\n",
       "  {'Name': 'c81', 'Type': 'int', 'Comment': ''},\n",
       "  {'Name': 'c82', 'Type': 'int', 'Comment': ''},\n",
       "  {'Name': 'c83', 'Type': 'int', 'Comment': ''},\n",
       "  {'Name': 'c84', 'Type': 'int', 'Comment': ''},\n",
       "  {'Name': 'c85', 'Type': 'int', 'Comment': ''},\n",
       "  {'Name': 'tofixed', 'Type': 'int', 'Comment': ''},\n",
       "  {'Name': 'c87', 'Type': 'int', 'Comment': ''},\n",
       "  {'Name': 'todepre', 'Type': 'int', 'Comment': ''},\n",
       "  {'Name': 'cudepre', 'Type': 'int', 'Comment': ''},\n",
       "  {'Name': 'netfixed', 'Type': 'int', 'Comment': ''},\n",
       "  {'Name': 'c91', 'Type': 'int', 'Comment': ''},\n",
       "  {'Name': 'c92', 'Type': 'int', 'Comment': ''},\n",
       "  {'Name': 'toasset', 'Type': 'int', 'Comment': ''},\n",
       "  {'Name': 'c95', 'Type': 'int', 'Comment': ''},\n",
       "  {'Name': 'c97', 'Type': 'int', 'Comment': ''},\n",
       "  {'Name': 'c98', 'Type': 'int', 'Comment': ''},\n",
       "  {'Name': 'c99', 'Type': 'int', 'Comment': ''},\n",
       "  {'Name': 'captal', 'Type': 'int', 'Comment': ''},\n",
       "  {'Name': 'e_state', 'Type': 'int', 'Comment': ''},\n",
       "  {'Name': 'e_collective', 'Type': 'int', 'Comment': ''},\n",
       "  {'Name': 'e_legal_person', 'Type': 'int', 'Comment': ''},\n",
       "  {'Name': 'e_individual', 'Type': 'int', 'Comment': ''},\n",
       "  {'Name': 'e_hmt', 'Type': 'bigint', 'Comment': ''},\n",
       "  {'Name': 'e_foreign', 'Type': 'int', 'Comment': ''},\n",
       "  {'Name': 'sales', 'Type': 'int', 'Comment': ''},\n",
       "  {'Name': 'c108', 'Type': 'int', 'Comment': ''},\n",
       "  {'Name': 'c113', 'Type': 'int', 'Comment': ''},\n",
       "  {'Name': 'c110', 'Type': 'int', 'Comment': ''},\n",
       "  {'Name': 'c111', 'Type': 'int', 'Comment': ''},\n",
       "  {'Name': 'c114', 'Type': 'int', 'Comment': ''},\n",
       "  {'Name': 'c115', 'Type': 'int', 'Comment': ''},\n",
       "  {'Name': 'c116', 'Type': 'int', 'Comment': ''},\n",
       "  {'Name': 'c118', 'Type': 'int', 'Comment': ''},\n",
       "  {'Name': 'c124', 'Type': 'int', 'Comment': ''},\n",
       "  {'Name': 'c125', 'Type': 'int', 'Comment': ''},\n",
       "  {'Name': 'profit', 'Type': 'int', 'Comment': ''},\n",
       "  {'Name': 'c128', 'Type': 'int', 'Comment': ''},\n",
       "  {'Name': 'c131', 'Type': 'int', 'Comment': ''},\n",
       "  {'Name': 'c132', 'Type': 'int', 'Comment': ''},\n",
       "  {'Name': 'c133', 'Type': 'int', 'Comment': ''},\n",
       "  {'Name': 'c134', 'Type': 'int', 'Comment': ''},\n",
       "  {'Name': 'c136', 'Type': 'int', 'Comment': ''},\n",
       "  {'Name': 'wage', 'Type': 'int', 'Comment': ''},\n",
       "  {'Name': 'c140', 'Type': 'int', 'Comment': ''},\n",
       "  {'Name': 'c141', 'Type': 'int', 'Comment': ''},\n",
       "  {'Name': 'c142', 'Type': 'int', 'Comment': ''},\n",
       "  {'Name': 'c143', 'Type': 'int', 'Comment': ''},\n",
       "  {'Name': 'c144', 'Type': 'int', 'Comment': ''},\n",
       "  {'Name': 'c145', 'Type': 'int', 'Comment': ''},\n",
       "  {'Name': 'midput', 'Type': 'int', 'Comment': ''},\n",
       "  {'Name': 'c62', 'Type': 'int', 'Comment': ''},\n",
       "  {'Name': 'c147', 'Type': 'int', 'Comment': ''},\n",
       "  {'Name': 'c64', 'Type': 'int', 'Comment': ''},\n",
       "  {'Name': 'c65', 'Type': 'int', 'Comment': ''},\n",
       "  {'Name': 'c93', 'Type': 'int', 'Comment': ''},\n",
       "  {'Name': 'c16', 'Type': 'int', 'Comment': ''},\n",
       "  {'Name': 'c9', 'Type': 'string', 'Comment': ''},\n",
       "  {'Name': 'c10', 'Type': 'string', 'Comment': ''},\n",
       "  {'Name': 'c11', 'Type': 'string', 'Comment': ''},\n",
       "  {'Name': 'c17', 'Type': 'string', 'Comment': ''},\n",
       "  {'Name': 'c29', 'Type': 'string', 'Comment': ''},\n",
       "  {'Name': 'c167', 'Type': 'string', 'Comment': ''},\n",
       "  {'Name': 'c168', 'Type': 'int', 'Comment': ''},\n",
       "  {'Name': 'v90', 'Type': 'int', 'Comment': ''},\n",
       "  {'Name': 'c79', 'Type': 'int', 'Comment': ''},\n",
       "  {'Name': 'c96', 'Type': 'int', 'Comment': ''},\n",
       "  {'Name': 'c117', 'Type': 'int', 'Comment': ''},\n",
       "  {'Name': 'c119', 'Type': 'int', 'Comment': ''},\n",
       "  {'Name': 'c121', 'Type': 'int', 'Comment': ''},\n",
       "  {'Name': 'trainfee', 'Type': 'int', 'Comment': ''},\n",
       "  {'Name': 'c123', 'Type': 'int', 'Comment': ''},\n",
       "  {'Name': 'c127', 'Type': 'int', 'Comment': ''},\n",
       "  {'Name': 'c135', 'Type': 'int', 'Comment': ''},\n",
       "  {'Name': 'c120', 'Type': 'int', 'Comment': ''},\n",
       "  {'Name': 'c138', 'Type': 'int', 'Comment': ''},\n",
       "  {'Name': 'c148', 'Type': 'int', 'Comment': ''},\n",
       "  {'Name': 'c149', 'Type': 'int', 'Comment': ''},\n",
       "  {'Name': 'c150', 'Type': 'int', 'Comment': ''},\n",
       "  {'Name': 'c151', 'Type': 'int', 'Comment': ''},\n",
       "  {'Name': 'rdfee', 'Type': 'int', 'Comment': ''},\n",
       "  {'Name': 'c156', 'Type': 'string', 'Comment': ''},\n",
       "  {'Name': 'c157', 'Type': 'string', 'Comment': ''},\n",
       "  {'Name': 'citycode', 'Type': 'string', 'Comment': ''},\n",
       "  {'Name': 'prov', 'Type': 'string', 'Comment': ''}],\n",
       " 'partition_keys': ['firm', 'year'],\n",
       " 'metadata': {'DatabaseName': 'firms_survey',\n",
       "  'TableName': 'asif_firms_prepared',\n",
       "  'target_S3URI': 's3://datalake-datascience/DATA/ECON/FIRM_SURVEY/ASIF_CHINA/PREPARED',\n",
       "  'from_athena': 'True'}}"
      ]
     },
     "execution_count": 21,
     "metadata": {},
     "output_type": "execute_result"
    }
   ],
   "source": [
    "parameters['TABLES']['PREPARATION']['STEPS'].pop(0)"
   ]
  },
  {
   "cell_type": "code",
   "execution_count": 22,
   "metadata": {},
   "outputs": [],
   "source": [
    "parameters['TABLES']['PREPARATION']['STEPS'].append(json_etl)"
   ]
  },
  {
   "cell_type": "markdown",
   "metadata": {},
   "source": [
    "Save JSON"
   ]
  },
  {
   "cell_type": "code",
   "execution_count": 23,
   "metadata": {},
   "outputs": [],
   "source": [
    "with open(os.path.join(str(Path(path).parent), 'parameters_ETL_Financial_dependency_pollution.json'), \"w\")as outfile:\n",
    "    json.dump(parameters, outfile)"
   ]
  },
  {
   "cell_type": "markdown",
   "metadata": {},
   "source": [
    "# Create or update the data catalog\n",
    "\n",
    "The query is saved in the S3 (bucket `datalake-datascience`) but the table is not available yet in the Data Catalog. Use the function `create_table_glue` to generate the table and update the catalog.\n",
    "\n",
    "Few parameters are required:\n",
    "\n",
    "- name_crawler: Name of the crawler\n",
    "- Role: Role to temporary provide an access tho the service\n",
    "- DatabaseName: Name of the database to create the table\n",
    "- TablePrefix: Prefix of the table. Full name of the table will be `TablePrefix` + folder name\n",
    "\n",
    "To update the schema, please use the following structure\n",
    "\n",
    "```\n",
    "schema = [\n",
    "    {\n",
    "        \"Name\": \"VAR1\",\n",
    "        \"Type\": \"\",\n",
    "        \"Comment\": \"\"\n",
    "    },\n",
    "    {\n",
    "        \"Name\": \"VAR2\",\n",
    "        \"Type\": \"\",\n",
    "        \"Comment\": \"\"\n",
    "    }\n",
    "]\n",
    "```"
   ]
  },
  {
   "cell_type": "code",
   "execution_count": 24,
   "metadata": {},
   "outputs": [
    {
     "data": {
      "text/plain": [
       "{'ResponseMetadata': {'RequestId': 'ae4b4a0e-a152-4ad9-8a4d-c526b7f18ec9',\n",
       "  'HTTPStatusCode': 200,\n",
       "  'HTTPHeaders': {'date': 'Sun, 22 Nov 2020 17:31:54 GMT',\n",
       "   'content-type': 'application/x-amz-json-1.1',\n",
       "   'content-length': '2',\n",
       "   'connection': 'keep-alive',\n",
       "   'x-amzn-requestid': 'ae4b4a0e-a152-4ad9-8a4d-c526b7f18ec9'},\n",
       "  'RetryAttempts': 0}}"
      ]
     },
     "execution_count": 24,
     "metadata": {},
     "output_type": "execute_result"
    }
   ],
   "source": [
    "glue.update_schema_table(\n",
    "    database = DatabaseName,\n",
    "    table = table_name,\n",
    "    schema= schema)"
   ]
  },
  {
   "cell_type": "markdown",
   "metadata": {},
   "source": [
    "## Check Duplicates\n",
    "\n",
    "One of the most important step when creating a table is to check if the table contains duplicates. The cell below checks if the table generated before is empty of duplicates. The code uses the JSON file to create the query parsed in Athena. \n",
    "\n",
    "You are required to define the group(s) that Athena will use to compute the duplicate. For instance, your table can be grouped by COL1 and COL2 (need to be string or varchar), then pass the list ['COL1', 'COL2'] "
   ]
  },
  {
   "cell_type": "code",
   "execution_count": 25,
   "metadata": {},
   "outputs": [],
   "source": [
    "partition_keys = ['firm', 'year']\n",
    "\n",
    "with open(os.path.join(str(Path(path).parent), 'parameters_ETL_Financial_dependency_pollution.json')) as json_file:\n",
    "    parameters = json.load(json_file)"
   ]
  },
  {
   "cell_type": "code",
   "execution_count": 26,
   "metadata": {},
   "outputs": [
    {
     "data": {
      "text/html": [
       "<div>\n",
       "<style scoped>\n",
       "    .dataframe tbody tr th:only-of-type {\n",
       "        vertical-align: middle;\n",
       "    }\n",
       "\n",
       "    .dataframe tbody tr th {\n",
       "        vertical-align: top;\n",
       "    }\n",
       "\n",
       "    .dataframe thead th {\n",
       "        text-align: right;\n",
       "    }\n",
       "</style>\n",
       "<table border=\"1\" class=\"dataframe\">\n",
       "  <thead>\n",
       "    <tr style=\"text-align: right;\">\n",
       "      <th></th>\n",
       "      <th>CNT</th>\n",
       "      <th>CNT_DUPLICATE</th>\n",
       "    </tr>\n",
       "  </thead>\n",
       "  <tbody>\n",
       "    <tr>\n",
       "      <th>0</th>\n",
       "      <td>1</td>\n",
       "      <td>2191919</td>\n",
       "    </tr>\n",
       "  </tbody>\n",
       "</table>\n",
       "</div>"
      ],
      "text/plain": [
       "   CNT  CNT_DUPLICATE\n",
       "0    1        2191919"
      ]
     },
     "metadata": {},
     "output_type": "display_data"
    }
   ],
   "source": [
    "### COUNT DUPLICATES\n",
    "if len(partition_keys) > 0:\n",
    "    groups = ' , '.join(partition_keys)\n",
    "\n",
    "    query_duplicates = parameters[\"ANALYSIS\"]['COUNT_DUPLICATES']['query'].format(\n",
    "                                DatabaseName,table_name,groups\n",
    "                                )\n",
    "    dup = s3.run_query(\n",
    "                                query=query_duplicates,\n",
    "                                database=DatabaseName,\n",
    "                                s3_output=\"SQL_OUTPUT_ATHENA\",\n",
    "                                filename=\"duplicates_{}\".format(table_name))\n",
    "    display(dup)\n"
   ]
  },
  {
   "cell_type": "markdown",
   "metadata": {},
   "source": [
    "# Analytics\n",
    "\n",
    "In this part, we are providing basic summary statistic. Since we have created the tables, we can parse the schema in Glue and use our json file to automatically generates the analysis.\n",
    "\n",
    "The cells below execute the job in the key `ANALYSIS`. You need to change the `primary_key` and `secondary_key` "
   ]
  },
  {
   "cell_type": "markdown",
   "metadata": {},
   "source": [
    "For a full analysis of the table, please use the following Lambda function. Be patient, it can takes between 5 to 30 minutes. Times varies according to the number of columns in your dataset.\n",
    "\n",
    "Use the function as follow:\n",
    "\n",
    "- `output_prefix`:  s3://datalake-datascience/ANALYTICS/OUTPUT/TABLE_NAME/\n",
    "- `region`: region where the table is stored\n",
    "- `bucket`: Name of the bucket\n",
    "- `DatabaseName`: Name of the database\n",
    "- `table_name`: Name of the table\n",
    "- `group`: variables name to group to count the duplicates\n",
    "- `primary_key`: Variable name to perform the grouping -> Only one variable for now\n",
    "- `secondary_key`: Variable name to perform the secondary grouping -> Only one variable for now\n",
    "- `proba`: Chi-square analysis probabilitity\n",
    "- `y_var`: Continuous target variables\n",
    "\n",
    "Check the job processing in Sagemaker: https://eu-west-3.console.aws.amazon.com/sagemaker/home?region=eu-west-3#/processing-jobs\n",
    "\n",
    "The notebook is available: https://s3.console.aws.amazon.com/s3/buckets/datalake-datascience?region=eu-west-3&prefix=ANALYTICS/OUTPUT/&showversions=false\n",
    "\n",
    "Please, download the notebook on your local machine, and convert it to HTML:\n",
    "\n",
    "```\n",
    "cd \"/Users/thomas/Downloads/Notebook\"\n",
    "aws s3 cp s3://datalake-datascience/ANALYTICS/OUTPUT/asif_unzip_data_csv/Template_analysis_from_lambda-2020-11-22-08-12-20.ipynb .\n",
    "\n",
    "## convert HTML no code\n",
    "jupyter nbconvert --no-input --to html Template_analysis_from_lambda-2020-11-21-14-30-45.ipynb\n",
    "jupyter nbconvert --to html Template_analysis_from_lambda-2020-11-22-08-12-20.ipynb\n",
    "```\n",
    "\n",
    "Then upload the HTML to: https://s3.console.aws.amazon.com/s3/buckets/datalake-datascience?region=eu-west-3&prefix=ANALYTICS/HTML_OUTPUT/\n",
    "\n",
    "Add a new folder with the table name in upper case"
   ]
  },
  {
   "cell_type": "code",
   "execution_count": 27,
   "metadata": {},
   "outputs": [],
   "source": [
    "import boto3\n",
    "\n",
    "key, secret_ = con.load_credential()\n",
    "client_lambda = boto3.client(\n",
    "    'lambda',\n",
    "    aws_access_key_id=key,\n",
    "    aws_secret_access_key=secret_,\n",
    "    region_name = region)"
   ]
  },
  {
   "cell_type": "code",
   "execution_count": 28,
   "metadata": {},
   "outputs": [],
   "source": [
    "primary_key = 'year'\n",
    "secondary_key = 'citycode'\n",
    "y_var = 'output'"
   ]
  },
  {
   "cell_type": "code",
   "execution_count": 29,
   "metadata": {},
   "outputs": [
    {
     "data": {
      "text/plain": [
       "{'input_path': 's3://datalake-datascience/ANALYTICS/TEMPLATE_NOTEBOOKS/Template_analysis_from_lambda.ipynb',\n",
       " 'output_prefix': 's3://datalake-datascience/ANALYTICS/OUTPUT/ASIF_FIRMS_PREPARED/',\n",
       " 'parameters': {'region': 'eu-west-3',\n",
       "  'bucket': 'datalake-datascience',\n",
       "  'DatabaseName': 'firms_survey',\n",
       "  'table_name': 'asif_firms_prepared',\n",
       "  'group': 'firm,year',\n",
       "  'primary_key': 'year',\n",
       "  'secondary_key': 'citycode',\n",
       "  'y_var': 'output'}}"
      ]
     },
     "execution_count": 29,
     "metadata": {},
     "output_type": "execute_result"
    }
   ],
   "source": [
    "payload = {\n",
    "    \"input_path\": \"s3://datalake-datascience/ANALYTICS/TEMPLATE_NOTEBOOKS/Template_analysis_from_lambda.ipynb\",\n",
    "    \"output_prefix\": \"s3://datalake-datascience/ANALYTICS/OUTPUT/{}/\".format(table_name.upper()),\n",
    "    \"parameters\": {\n",
    "        \"region\": \"{}\".format(region),\n",
    "        \"bucket\": \"{}\".format(bucket),\n",
    "        \"DatabaseName\": \"{}\".format(DatabaseName),\n",
    "        \"table_name\": \"{}\".format(table_name),\n",
    "        \"group\": \"{}\".format(','.join(partition_keys)),\n",
    "        \"primary_key\": \"{}\".format(primary_key),\n",
    "        \"secondary_key\": \"{}\".format(secondary_key),\n",
    "        \"y_var\": \"{}\".format(y_var),\n",
    "    },\n",
    "}\n",
    "payload"
   ]
  },
  {
   "cell_type": "code",
   "execution_count": 30,
   "metadata": {},
   "outputs": [
    {
     "data": {
      "text/plain": [
       "{'ResponseMetadata': {'RequestId': '11269bb4-e3c5-4896-bca7-8638f4a76b98',\n",
       "  'HTTPStatusCode': 200,\n",
       "  'HTTPHeaders': {'date': 'Sun, 22 Nov 2020 17:32:48 GMT',\n",
       "   'content-type': 'application/json',\n",
       "   'content-length': '75',\n",
       "   'connection': 'keep-alive',\n",
       "   'x-amzn-requestid': '11269bb4-e3c5-4896-bca7-8638f4a76b98',\n",
       "   'x-amzn-remapped-content-length': '0',\n",
       "   'x-amz-executed-version': '$LATEST',\n",
       "   'x-amz-log-result': 'U1RBUlQgUmVxdWVzdElkOiAxMTI2OWJiNC1lM2M1LTQ4OTYtYmNhNy04NjM4ZjRhNzZiOTggVmVyc2lvbjogJExBVEVTVApFTkQgUmVxdWVzdElkOiAxMTI2OWJiNC1lM2M1LTQ4OTYtYmNhNy04NjM4ZjRhNzZiOTgKUkVQT1JUIFJlcXVlc3RJZDogMTEyNjliYjQtZTNjNS00ODk2LWJjYTctODYzOGY0YTc2Yjk4CUR1cmF0aW9uOiAyMjEzLjcxIG1zCUJpbGxlZCBEdXJhdGlvbjogMjMwMCBtcwlNZW1vcnkgU2l6ZTogMTI4IE1CCU1heCBNZW1vcnkgVXNlZDogODIgTUIJSW5pdCBEdXJhdGlvbjogMjg4LjY1IG1zCQo=',\n",
       "   'x-amzn-trace-id': 'root=1-5fbaa0be-662dd43e4af22f937d7ca7db;sampled=0'},\n",
       "  'RetryAttempts': 0},\n",
       " 'StatusCode': 200,\n",
       " 'LogResult': 'U1RBUlQgUmVxdWVzdElkOiAxMTI2OWJiNC1lM2M1LTQ4OTYtYmNhNy04NjM4ZjRhNzZiOTggVmVyc2lvbjogJExBVEVTVApFTkQgUmVxdWVzdElkOiAxMTI2OWJiNC1lM2M1LTQ4OTYtYmNhNy04NjM4ZjRhNzZiOTgKUkVQT1JUIFJlcXVlc3RJZDogMTEyNjliYjQtZTNjNS00ODk2LWJjYTctODYzOGY0YTc2Yjk4CUR1cmF0aW9uOiAyMjEzLjcxIG1zCUJpbGxlZCBEdXJhdGlvbjogMjMwMCBtcwlNZW1vcnkgU2l6ZTogMTI4IE1CCU1heCBNZW1vcnkgVXNlZDogODIgTUIJSW5pdCBEdXJhdGlvbjogMjg4LjY1IG1zCQo=',\n",
       " 'ExecutedVersion': '$LATEST',\n",
       " 'Payload': <botocore.response.StreamingBody at 0x7fdc8cfd93d0>}"
      ]
     },
     "execution_count": 30,
     "metadata": {},
     "output_type": "execute_result"
    }
   ],
   "source": [
    "response = client_lambda.invoke(\n",
    "    FunctionName='RunNotebook',\n",
    "    InvocationType='RequestResponse',\n",
    "    LogType='Tail',\n",
    "    Payload=json.dumps(payload),\n",
    ")\n",
    "response"
   ]
  },
  {
   "cell_type": "markdown",
   "metadata": {},
   "source": [
    "For a partial analysis, run the cells below"
   ]
  },
  {
   "cell_type": "markdown",
   "metadata": {},
   "source": [
    "# Generation report"
   ]
  },
  {
   "cell_type": "code",
   "execution_count": 31,
   "metadata": {},
   "outputs": [],
   "source": [
    "import os, time, shutil, urllib, ipykernel, json\n",
    "from pathlib import Path\n",
    "from notebook import notebookapp"
   ]
  },
  {
   "cell_type": "code",
   "execution_count": null,
   "metadata": {},
   "outputs": [],
   "source": [
    "def create_report(extension = \"html\", keep_code = False):\n",
    "    \"\"\"\n",
    "    Create a report from the current notebook and save it in the \n",
    "    Report folder (Parent-> child directory)\n",
    "    \n",
    "    1. Exctract the current notbook name\n",
    "    2. Convert the Notebook \n",
    "    3. Move the newly created report\n",
    "    \n",
    "    Args:\n",
    "    extension: string. Can be \"html\", \"pdf\", \"md\"\n",
    "    \n",
    "    \n",
    "    \"\"\"\n",
    "    \n",
    "    ### Get notebook name\n",
    "    connection_file = os.path.basename(ipykernel.get_connection_file())\n",
    "    kernel_id = connection_file.split('-', 1)[0].split('.')[0]\n",
    "\n",
    "    for srv in notebookapp.list_running_servers():\n",
    "        try:\n",
    "            if srv['token']=='' and not srv['password']:  \n",
    "                req = urllib.request.urlopen(srv['url']+'api/sessions')\n",
    "            else:\n",
    "                req = urllib.request.urlopen(srv['url']+ \\\n",
    "                                             'api/sessions?token=' + \\\n",
    "                                             srv['token'])\n",
    "            sessions = json.load(req)\n",
    "            notebookname = sessions[0]['name']\n",
    "        except:\n",
    "            pass  \n",
    "    \n",
    "    sep = '.'\n",
    "    path = os.getcwd()\n",
    "    #parent_path = str(Path(path).parent)\n",
    "    \n",
    "    ### Path report\n",
    "    #path_report = \"{}/Reports\".format(parent_path)\n",
    "    #path_report = \"{}/Reports\".format(path)\n",
    "    \n",
    "    ### Path destination\n",
    "    name_no_extension = notebookname.split(sep, 1)[0]\n",
    "    source_to_move = name_no_extension +'.{}'.format(extension)\n",
    "    dest = os.path.join(path,'Reports', source_to_move)\n",
    "    \n",
    "    ### Generate notebook\n",
    "    if keep_code:\n",
    "        os.system('jupyter nbconvert --to {} {}'.format(\n",
    "    extension,notebookname))\n",
    "    else:\n",
    "        os.system('jupyter nbconvert --no-input --to {} {}'.format(\n",
    "    extension,notebookname))\n",
    "    \n",
    "    ### Move notebook to report folder\n",
    "    #time.sleep(5)\n",
    "    shutil.move(source_to_move, dest)\n",
    "    print(\"Report Available at this adress:\\n {}\".format(dest))"
   ]
  },
  {
   "cell_type": "code",
   "execution_count": null,
   "metadata": {},
   "outputs": [],
   "source": [
    "create_report(extension = \"html\")"
   ]
  }
 ],
 "metadata": {
  "jupytext": {
   "formats": "ipynb,md"
  },
  "kernel_info": {
   "name": "python3"
  },
  "kernelspec": {
   "display_name": "Python 3",
   "language": "python",
   "name": "python3"
  },
  "language_info": {
   "codemirror_mode": {
    "name": "ipython",
    "version": 3
   },
   "file_extension": ".py",
   "mimetype": "text/x-python",
   "name": "python",
   "nbconvert_exporter": "python",
   "pygments_lexer": "ipython3",
   "version": "3.7.6"
  },
  "nteract": {
   "version": "0.22.0"
  },
  "toc": {
   "base_numbering": 1,
   "nav_menu": {},
   "number_sections": true,
   "sideBar": true,
   "skip_h1_title": false,
   "title_cell": "Table of Contents",
   "title_sidebar": "Contents",
   "toc_cell": false,
   "toc_position": {},
   "toc_section_display": true,
   "toc_window_display": false
  }
 },
 "nbformat": 4,
 "nbformat_minor": 4
}
