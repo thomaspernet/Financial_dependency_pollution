{
 "cells": [
  {
   "cell_type": "markdown",
   "metadata": {
    "kernel": "SoS"
   },
   "source": [
    "# US Name\n",
    "\n",
    "Estimate tangible asset as a function of  current ratio and others (Evaluate role of internal finance) \n",
    "\n",
    "# Business needs \n",
    "\n",
    "Estimate tangible asset as a function of  current ratio, cash_over_total_asset, liabilities over asset, Cash flow to total asset, cash flow to total tangible asset, credit constraint (Evaluate the impact of internal finance on asset) \n",
    "\n",
    "## Description\n",
    "### Objective \n",
    "\n",
    "Test the coefficient sign and significant of the main variable\n",
    "\n",
    "### Tables\n",
    "\n",
    "Table 1: Baseline Estimate, tangible asset and current ratio, cash_over_total_asset, liabilities over asset, Cash flow to total asset, cash flow to total tangible asset, credit constraint\n",
    "\n",
    "**Cautious**\n",
    "Make sure no empty rows, otherwise it will be filtered out in the estimate\n",
    "\n",
    "\n",
    "# Metadata\n",
    "\n",
    "- Key: gac25vjvp54377n\n",
    "- Epic: Models\n",
    "- US: Internal finance estimate\n",
    "- Task tag: #internal-finance, #credit-constraint, #firm-level\n",
    "- Analytics reports: \n",
    "\n",
    "# Input Cloud Storage\n",
    "\n",
    "## Table/file\n",
    "\n",
    "**Name** \n",
    "\n",
    "- https://github.com/thomaspernet/Financial_dependency_pollution/blob/master/01_data_preprocessing/02_transform_tables/09_asif_tfp_firm_baseline.md\n",
    "\n",
    "**Github**\n",
    "\n",
    "- DATA/ECON/FIRM_SURVEY/ASIF_CHINA/TRANSFORMED/TFP/CREDIT_CONSTRAINT\n",
    "\n"
   ]
  },
  {
   "cell_type": "markdown",
   "metadata": {
    "kernel": "SoS"
   },
   "source": [
    "# Connexion server"
   ]
  },
  {
   "cell_type": "code",
   "execution_count": 1,
   "metadata": {
    "kernel": "SoS"
   },
   "outputs": [],
   "source": [
    "from awsPy.aws_authorization import aws_connector\n",
    "from awsPy.aws_s3 import service_s3\n",
    "from awsPy.aws_glue import service_glue\n",
    "from pathlib import Path\n",
    "import pandas as pd\n",
    "import numpy as np\n",
    "#import seaborn as sns\n",
    "import os, shutil, json\n",
    "\n",
    "path = os.getcwd()\n",
    "parent_path = str(Path(path).parent.parent.parent)\n",
    "\n",
    "\n",
    "name_credential = 'financial_dep_SO2_accessKeys.csv'\n",
    "region = 'eu-west-3'\n",
    "bucket = 'datalake-datascience'\n",
    "path_cred = \"{0}/creds/{1}\".format(parent_path, name_credential)"
   ]
  },
  {
   "cell_type": "code",
   "execution_count": 2,
   "metadata": {
    "kernel": "SoS"
   },
   "outputs": [],
   "source": [
    "con = aws_connector.aws_instantiate(credential = path_cred,\n",
    "                                       region = region)\n",
    "client= con.client_boto()\n",
    "s3 = service_s3.connect_S3(client = client,\n",
    "                      bucket = bucket, verbose = False)\n",
    "glue = service_glue.connect_glue(client = client) "
   ]
  },
  {
   "cell_type": "code",
   "execution_count": 3,
   "metadata": {
    "kernel": "SoS"
   },
   "outputs": [],
   "source": [
    "pandas_setting = True\n",
    "if pandas_setting:\n",
    "    #cm = sns.light_palette(\"green\", as_cmap=True)\n",
    "    pd.set_option('display.max_columns', None)\n",
    "    pd.set_option('display.max_colwidth', None)"
   ]
  },
  {
   "cell_type": "code",
   "execution_count": 4,
   "metadata": {
    "kernel": "SoS",
    "nteract": {
     "transient": {
      "deleting": false
     }
    }
   },
   "outputs": [],
   "source": [
    "os.environ['KMP_DUPLICATE_LIB_OK']='True'\n"
   ]
  },
  {
   "cell_type": "markdown",
   "metadata": {
    "kernel": "SoS"
   },
   "source": [
    "# Load tables\n",
    "\n",
    "Since we load the data as a Pandas DataFrame, we want to pass the `dtypes`. We load the schema from Glue to guess the types\n",
    "\n",
    "R has a hard time importing correctly values with many missing values, so to force R to import `rd_tot_asset` as a float, we use the following trick\n",
    "\n",
    "- `rd_tot_asset` lowest value is -.013. Hence, when `rd_tot_asset` is missing replace by -1000"
   ]
  },
  {
   "cell_type": "code",
   "execution_count": 5,
   "metadata": {
    "kernel": "SoS"
   },
   "outputs": [],
   "source": [
    "db = 'firms_survey'\n",
    "table = 'asif_tfp_credit_constraint'"
   ]
  },
  {
   "cell_type": "code",
   "execution_count": 6,
   "metadata": {
    "kernel": "SoS"
   },
   "outputs": [],
   "source": [
    "dtypes = {}\n",
    "schema = (glue.get_table_information(database = db,\n",
    "                           table = table)\n",
    "          ['Table']['StorageDescriptor']['Columns']\n",
    "         )\n",
    "for key, value in enumerate(schema):\n",
    "    if value['Type'] in ['varchar(12)']:\n",
    "        format_ = 'string'\n",
    "    elif value['Type'] in ['decimal(21,5)', 'double', 'bigint', 'int', 'float']:\n",
    "        format_ = 'float'\n",
    "    else:\n",
    "        format_ = value['Type'] \n",
    "    dtypes.update(\n",
    "        {value['Name']:format_}\n",
    "    )"
   ]
  },
  {
   "cell_type": "code",
   "execution_count": 7,
   "metadata": {
    "kernel": "SoS"
   },
   "outputs": [],
   "source": [
    "download_data = True\n",
    "filename = 'df_{}_rd'.format(table)\n",
    "full_path_filename = 'SQL_OUTPUT_ATHENA/CSV/{}.csv'.format(filename)\n",
    "path_local = os.path.join(str(Path(path).parent.parent.parent), \n",
    "                              \"00_data_catalogue/temporary_local_data\")\n",
    "df_path = os.path.join(path_local, filename + '.csv')\n",
    "if download_data:\n",
    "    \n",
    "    s3 = service_s3.connect_S3(client = client,\n",
    "                          bucket = bucket, verbose = False)\n",
    "    query = \"\"\"\n",
    "    SELECT *,\n",
    "    CASE WHEN rd_tot_asset IS NULL THEN -1000 \n",
    "    WHEN rd_tot_asset < 0 THEN 0\n",
    "    ELSE rd_tot_asset END AS rd_tot_asset_trick\n",
    "    FROM {}.{}\n",
    "    WHERE\n",
    "    cashflow_to_tangible > 0\n",
    "    AND current_ratio > 0\n",
    "    AND liabilities_tot_asset > 0\n",
    "    AND year in (\n",
    "        '2001', '2002', '2003', '2004', '2005', \n",
    "        '2006', '2007'\n",
    "      )\n",
    "    \"\"\".format(db, table)\n",
    "    df = (s3.run_query(\n",
    "        query=query,\n",
    "        database=db,\n",
    "        s3_output='SQL_OUTPUT_ATHENA',\n",
    "        filename=filename,  # Add filename to print dataframe\n",
    "        destination_key='SQL_OUTPUT_ATHENA/CSV',  #Use it temporarily\n",
    "        dtype = dtypes\n",
    "    )\n",
    "            )\n",
    "    s3.download_file(\n",
    "        key = full_path_filename\n",
    "    )\n",
    "    shutil.move(\n",
    "        filename + '.csv',\n",
    "        os.path.join(path_local, filename + '.csv')\n",
    "    )\n",
    "    s3.remove_file(full_path_filename)\n",
    "    df.head()"
   ]
  },
  {
   "cell_type": "code",
   "execution_count": 8,
   "metadata": {
    "kernel": "SoS",
    "nteract": {
     "transient": {
      "deleting": false
     }
    }
   },
   "outputs": [
    {
     "data": {
      "text/html": [
       "<div>\n",
       "<style scoped>\n",
       "    .dataframe tbody tr th:only-of-type {\n",
       "        vertical-align: middle;\n",
       "    }\n",
       "\n",
       "    .dataframe tbody tr th {\n",
       "        vertical-align: top;\n",
       "    }\n",
       "\n",
       "    .dataframe thead th {\n",
       "        text-align: right;\n",
       "    }\n",
       "</style>\n",
       "<table border=\"1\" class=\"dataframe\">\n",
       "  <thead>\n",
       "    <tr style=\"text-align: right;\">\n",
       "      <th></th>\n",
       "      <th>Name</th>\n",
       "      <th>Type</th>\n",
       "      <th>Comment</th>\n",
       "    </tr>\n",
       "  </thead>\n",
       "  <tbody>\n",
       "    <tr>\n",
       "      <th>0</th>\n",
       "      <td>firm</td>\n",
       "      <td>string</td>\n",
       "      <td>firm ID</td>\n",
       "    </tr>\n",
       "    <tr>\n",
       "      <th>1</th>\n",
       "      <td>year</td>\n",
       "      <td>string</td>\n",
       "      <td>year</td>\n",
       "    </tr>\n",
       "    <tr>\n",
       "      <th>2</th>\n",
       "      <td>period</td>\n",
       "      <td>varchar(5)</td>\n",
       "      <td>if year prior to 2006 then False else true. Indicate break from 10 and 11 FYP</td>\n",
       "    </tr>\n",
       "    <tr>\n",
       "      <th>3</th>\n",
       "      <td>cic</td>\n",
       "      <td>string</td>\n",
       "      <td>4 digits industry code</td>\n",
       "    </tr>\n",
       "    <tr>\n",
       "      <th>4</th>\n",
       "      <td>indu_2</td>\n",
       "      <td>string</td>\n",
       "      <td>Two digits industry. If length cic equals to 3, then add 0 to indu_2</td>\n",
       "    </tr>\n",
       "    <tr>\n",
       "      <th>...</th>\n",
       "      <td>...</td>\n",
       "      <td>...</td>\n",
       "      <td>...</td>\n",
       "    </tr>\n",
       "    <tr>\n",
       "      <th>73</th>\n",
       "      <td>count_city</td>\n",
       "      <td>string</td>\n",
       "      <td></td>\n",
       "    </tr>\n",
       "    <tr>\n",
       "      <th>74</th>\n",
       "      <td>count_industry</td>\n",
       "      <td>string</td>\n",
       "      <td></td>\n",
       "    </tr>\n",
       "    <tr>\n",
       "      <th>75</th>\n",
       "      <td>fe_c_i</td>\n",
       "      <td>bigint</td>\n",
       "      <td>City industry fixed effect</td>\n",
       "    </tr>\n",
       "    <tr>\n",
       "      <th>76</th>\n",
       "      <td>fe_t_i</td>\n",
       "      <td>bigint</td>\n",
       "      <td>year industry fixed effect</td>\n",
       "    </tr>\n",
       "    <tr>\n",
       "      <th>77</th>\n",
       "      <td>fe_c_t</td>\n",
       "      <td>bigint</td>\n",
       "      <td>city industry fixed effect</td>\n",
       "    </tr>\n",
       "  </tbody>\n",
       "</table>\n",
       "<p>78 rows × 3 columns</p>\n",
       "</div>"
      ],
      "text/plain": [
       "              Name        Type  \\\n",
       "0             firm      string   \n",
       "1             year      string   \n",
       "2           period  varchar(5)   \n",
       "3              cic      string   \n",
       "4           indu_2      string   \n",
       "..             ...         ...   \n",
       "73      count_city      string   \n",
       "74  count_industry      string   \n",
       "75          fe_c_i      bigint   \n",
       "76          fe_t_i      bigint   \n",
       "77          fe_c_t      bigint   \n",
       "\n",
       "                                                                          Comment  \n",
       "0                                                                         firm ID  \n",
       "1                                                                            year  \n",
       "2   if year prior to 2006 then False else true. Indicate break from 10 and 11 FYP  \n",
       "3                                                          4 digits industry code  \n",
       "4            Two digits industry. If length cic equals to 3, then add 0 to indu_2  \n",
       "..                                                                            ...  \n",
       "73                                                                                 \n",
       "74                                                                                 \n",
       "75                                                     City industry fixed effect  \n",
       "76                                                     year industry fixed effect  \n",
       "77                                                     city industry fixed effect  \n",
       "\n",
       "[78 rows x 3 columns]"
      ]
     },
     "execution_count": 8,
     "metadata": {},
     "output_type": "execute_result"
    }
   ],
   "source": [
    "pd.DataFrame(schema)"
   ]
  },
  {
   "cell_type": "markdown",
   "metadata": {
    "kernel": "SoS",
    "nteract": {
     "transient": {
      "deleting": false
     }
    }
   },
   "source": [
    "## Schema Latex table\n",
    "\n",
    "To rename a variable, please use the following template:\n",
    "\n",
    "```\n",
    "{\n",
    "    'old':'XX',\n",
    "    'new':'XX_1'\n",
    "    }\n",
    "```\n",
    "\n",
    "if you need to pass a latex format with `\\`, you need to duplicate it for instance, `\\text` becomes `\\\\text:\n",
    "\n",
    "```\n",
    "{\n",
    "    'old':'working\\_capital\\_i',\n",
    "    'new':'\\\\text{working capital}_i'\n",
    "    }\n",
    "```\n",
    "\n",
    "Then add it to the key `to_rename`"
   ]
  },
  {
   "cell_type": "code",
   "execution_count": 9,
   "metadata": {
    "kernel": "SoS",
    "nteract": {
     "transient": {
      "deleting": false
     }
    }
   },
   "outputs": [],
   "source": [
    "add_to_dic = True\n",
    "if add_to_dic:\n",
    "    if os.path.exists(\"schema_table.json\"):\n",
    "        os.remove(\"schema_table.json\")\n",
    "        data = {'to_rename':[], 'to_remove':[]}\n",
    "    dic_rename =  [\n",
    "        {\n",
    "        'old':'periodTRUE',\n",
    "        'new':'\\\\text{period}'\n",
    "        },\n",
    "        ### depd\n",
    "        {\n",
    "        'old':'total\\_asset',\n",
    "        'new':'\\\\text{size}'\n",
    "        },\n",
    "        {\n",
    "        'old':'tangible',\n",
    "        'new':'\\\\text{tangible asset}'\n",
    "        },\n",
    "        {\n",
    "        'old':'investment\\_tot\\_asset',\n",
    "        'new':'\\\\text{investment to asset}'\n",
    "        },\n",
    "        {\n",
    "        'old':'rd\\_tot\\_asset',\n",
    "        'new':'\\\\text{rd to asset}'\n",
    "        },\n",
    "        {\n",
    "        'old':'asset\\_tangibility\\_tot\\_asset',\n",
    "        'new':'\\\\text{collateral}'\n",
    "        },\n",
    "        \n",
    "        ### ind\n",
    "        {\n",
    "        'old':'current\\_ratio',\n",
    "        'new':'\\\\text{current ratio}'\n",
    "        },\n",
    "        {\n",
    "        'old':'quick\\_ratio',\n",
    "        'new':'\\\\text{quick ratio}'\n",
    "        },\n",
    "        {\n",
    "        'old':'liabilities\\_tot\\_asset',\n",
    "        'new':'\\\\text{liabilities to asset}'\n",
    "        },\n",
    "        {\n",
    "        'old':'sales\\_tot\\_asset',\n",
    "        'new':'\\\\text{sales to asset}'\n",
    "        },\n",
    "        {\n",
    "        'old':'cash\\_tot\\_asset',\n",
    "        'new':'\\\\text{cash to asset}'\n",
    "        },\n",
    "        {\n",
    "        'old':'cashflow\\_tot\\_asset',\n",
    "        'new':'\\\\text{cashflow to asset}'\n",
    "        },\n",
    "        {\n",
    "        'old':'cashflow\\_to\\_tangible',\n",
    "        'new':'\\\\text{cashflow}'\n",
    "        },\n",
    "        {\n",
    "        'old':'d\\_credit\\_constraintBELOW',\n",
    "        'new':'\\\\text{Fin dep}_{i}'\n",
    "        },\n",
    "        ## control\n",
    "        {\n",
    "        'old':'age + 1',\n",
    "        'new':'\\\\text{age}'\n",
    "        },\n",
    "        {\n",
    "        'old':'export\\_to\\_sale',\n",
    "        'new':'\\\\text{export to sale}'\n",
    "        },\n",
    "        {\n",
    "        'old':'labor\\_capital',\n",
    "        'new':'\\\\text{labor to capital}'\n",
    "        },\n",
    "        ### Supply demand external finance\n",
    "        {\n",
    "        'old':'supply\\_all\\_credit',\n",
    "        'new':'\\\\text{all credit}'\n",
    "        },\n",
    "        {\n",
    "        'old':'supply\\_long\\_term\\_credit',\n",
    "        'new':'\\\\text{long term credit}'\n",
    "        },\n",
    "        {\n",
    "        'old':'credit\\_constraint',\n",
    "        'new':'\\\\text{credit demand}'\n",
    "        },\n",
    "        {\n",
    "        'old':'soe\\_vs\\_priPRIVATE',\n",
    "        'new':'\\\\text{private}'\n",
    "        },\n",
    "    ]\n",
    "    \n",
    "\n",
    "    data['to_rename'].extend(dic_rename)\n",
    "    with open('schema_table.json', 'w') as outfile:\n",
    "        json.dump(data, outfile)"
   ]
  },
  {
   "cell_type": "code",
   "execution_count": 10,
   "metadata": {
    "kernel": "SoS"
   },
   "outputs": [],
   "source": [
    "import function.latex_beautify as lb\n",
    "\n",
    "#%load_ext autoreload\n",
    "#%autoreload 2"
   ]
  },
  {
   "cell_type": "code",
   "execution_count": 11,
   "metadata": {
    "kernel": "R"
   },
   "outputs": [
    {
     "name": "stderr",
     "output_type": "stream",
     "text": [
      "Registered S3 methods overwritten by 'ggplot2':\n",
      "  method         from \n",
      "  [.quosures     rlang\n",
      "  c.quosures     rlang\n",
      "  print.quosures rlang\n",
      "Registered S3 method overwritten by 'rvest':\n",
      "  method            from\n",
      "  read_xml.response xml2\n",
      "── Attaching packages ─────────────────────────────────────── tidyverse 1.2.1 ──\n",
      "✔ ggplot2 3.1.1       ✔ purrr   0.3.2  \n",
      "✔ tibble  2.1.1       ✔ dplyr   0.8.0.1\n",
      "✔ tidyr   0.8.3       ✔ stringr 1.4.0  \n",
      "✔ readr   1.3.1       ✔ forcats 0.4.0  \n",
      "── Conflicts ────────────────────────────────────────── tidyverse_conflicts() ──\n",
      "✖ dplyr::filter() masks stats::filter()\n",
      "✖ dplyr::lag()    masks stats::lag()\n",
      "Loading required package: Matrix\n",
      "\n",
      "Attaching package: ‘Matrix’\n",
      "\n",
      "The following object is masked from ‘package:tidyr’:\n",
      "\n",
      "    expand\n",
      "\n",
      "\n",
      "Please cite as: \n",
      "\n",
      " Hlavac, Marek (2018). stargazer: Well-Formatted Regression and Summary Statistics Tables.\n",
      " R package version 5.2.2. https://CRAN.R-project.org/package=stargazer \n",
      "\n"
     ]
    }
   ],
   "source": [
    "options(warn=-1)\n",
    "library(tidyverse)\n",
    "library(lfe)\n",
    "#library(lazyeval)\n",
    "library('progress')\n",
    "path = \"function/table_golatex.R\"\n",
    "source(path)"
   ]
  },
  {
   "cell_type": "code",
   "execution_count": 12,
   "metadata": {
    "kernel": "R"
   },
   "outputs": [
    {
     "name": "stderr",
     "output_type": "stream",
     "text": [
      "Parsed with column specification:\n",
      "cols(\n",
      "  .default = col_double(),\n",
      "  period = col_logical(),\n",
      "  short = col_character(),\n",
      "  province_en = col_character(),\n",
      "  ownership = col_character(),\n",
      "  soe_vs_pri = col_character(),\n",
      "  for_vs_dom = col_character(),\n",
      "  d_credit_constraint = col_character(),\n",
      "  rd_tot_asset = col_logical(),\n",
      "  avg_size_asset_fci = col_character(),\n",
      "  avg_size_output_fci = col_character(),\n",
      "  avg_employment_fci = col_character(),\n",
      "  avg_size_capital_fci = col_character(),\n",
      "  avg_sales_fci = col_character(),\n",
      "  size_asset_fci = col_character(),\n",
      "  size_asset_fc = col_character(),\n",
      "  size_asset_fi = col_character(),\n",
      "  size_output_fci = col_character(),\n",
      "  size_output_fc = col_character(),\n",
      "  size_output_fi = col_character(),\n",
      "  size_employment_fci = col_character()\n",
      "  # ... with 8 more columns\n",
      ")\n",
      "See spec(...) for full column specifications.\n"
     ]
    }
   ],
   "source": [
    "%get df_path\n",
    "df_final <- read_csv(df_path) %>%\n",
    "mutate_if(is.character, as.factor) %>%\n",
    "    mutate_at(vars(starts_with(\"fe\")), as.factor) %>%\n",
    "mutate(\n",
    "    period = relevel(as.factor(period), ref='FALSE'),\n",
    "    soe_vs_pri = relevel(as.factor(soe_vs_pri), ref='SOE'))"
   ]
  },
  {
   "cell_type": "code",
   "execution_count": 13,
   "metadata": {
    "kernel": "R"
   },
   "outputs": [
    {
     "name": "stdout",
     "output_type": "stream",
     "text": [
      "Observations: 216,269\n",
      "Variables: 79\n",
      "$ firm                        <dbl> 316355, 407727, 63480, 254141, 367939, 47…\n",
      "$ year                        <dbl> 2004, 2004, 2004, 2004, 2004, 2004, 2004,…\n",
      "$ period                      <fct> FALSE, FALSE, FALSE, FALSE, FALSE, FALSE,…\n",
      "$ cic                         <dbl> 2221, 3020, 3592, 1440, 3521, 3529, 2110,…\n",
      "$ indu_2                      <dbl> 22, 30, 35, 14, 35, 35, 21, 14, 17, 31, 3…\n",
      "$ short                       <fct> Paper, Plastics, Machinery, Foods, Machin…\n",
      "$ geocode4_corr               <dbl> 2302, 2302, 2302, 2302, 2302, 2302, 2302,…\n",
      "$ province_en                 <fct> Heilongjiang, Heilongjiang, Heilongjiang,…\n",
      "$ tcz                         <dbl> 0, 0, 0, 0, 0, 0, 0, 0, 0, 0, 0, 0, 0, 0,…\n",
      "$ spz                         <dbl> 0, 0, 0, 0, 0, 0, 0, 0, 0, 0, 0, 0, 0, 0,…\n",
      "$ ownership                   <fct> FOREIGN, PRIVATE, SOE, PRIVATE, COLLECTIV…\n",
      "$ soe_vs_pri                  <fct> PRIVATE, PRIVATE, SOE, PRIVATE, PRIVATE, …\n",
      "$ for_vs_dom                  <fct> FOREIGN, DOMESTIC, DOMESTIC, DOMESTIC, DO…\n",
      "$ tso2_mandate_c              <dbl> 0.01441632, 0.01441632, 0.01441632, 0.014…\n",
      "$ in_10_000_tonnes            <dbl> 0.1441631, 0.1441631, 0.1441631, 0.144163…\n",
      "$ output                      <dbl> 310508, 75163, 404390, 49305, 743858, 523…\n",
      "$ employment                  <dbl> 2260, 416, 3455, 81, 2104, 1492, 640, 139…\n",
      "$ capital                     <dbl> 80000, 3507, 310180, 555, 58152, 59901, 5…\n",
      "$ current_asset               <dbl> 166007, 39622, 795726, 21517, 379620, 444…\n",
      "$ net_non_current             <dbl> 659736, 41589, 824003, 8288, 130217, 8812…\n",
      "$ intangible                  <dbl> 0, 11182, 0, 0, 196, 49786, 4819, 198, 18…\n",
      "$ tangible                    <dbl> 659736, 30407, 824003, 8288, 130021, 3833…\n",
      "$ total_asset                 <dbl> 825743, 98376, 1619729, 29805, 583233, 17…\n",
      "$ current_liabilities         <dbl> 143490, 71534, 814442, 10344, 477442, 236…\n",
      "$ lt_liabilities              <dbl> 160140, 5575, 240000, 2000, 6176, 39323, …\n",
      "$ from_asif_tot_liabilities   <dbl> 453894, 77109, 1054442, 12344, 483618, 62…\n",
      "$ total_liabilities           <dbl> 303630, 77109, 1054442, 12344, 483618, 62…\n",
      "$ total_right                 <dbl> 825743, 98376, 1619729, 29805, 583233, 17…\n",
      "$ error                       <dbl> 164776, -17165, 50336, 6327, -73396, -451…\n",
      "$ cashflow                    <dbl> 24904, 14130, 33375, 2326, 24174, 2726, 2…\n",
      "$ sales                       <dbl> 298165, 70676, 887437, 48411, 463428, 539…\n",
      "$ tfp_op                      <dbl> 10.893411, 9.938626, 10.971615, 9.821381,…\n",
      "$ credit_constraint           <dbl> 0.07, -0.47, -2.59, -0.32, -2.59, -2.59, …\n",
      "$ d_credit_constraint         <fct> ABOVE, ABOVE, BELOW, ABOVE, BELOW, BELOW,…\n",
      "$ supply_all_credit           <dbl> 1.351351, 1.351351, 1.351351, 1.351351, 1…\n",
      "$ supply_long_term_credit     <dbl> 3.703704, 3.703704, 3.703704, 3.703704, 3…\n",
      "$ current_ratio               <dbl> 1.15692, 0.55389, 0.97702, 2.08014, 0.795…\n",
      "$ quick_ratio                 <dbl> 0.07102, 0.14474, 0.07936, 0.57860, 0.097…\n",
      "$ liabilities_tot_asset       <dbl> 0.54968, 0.78382, 0.65100, 0.41416, 0.829…\n",
      "$ sales_tot_asset             <dbl> 0.36109, 0.71843, 0.54789, 1.62426, 0.794…\n",
      "$ investment_tot_asset        <dbl> 0.00109, 0.05663, 0.00000, 0.00000, 0.005…\n",
      "$ rd_tot_asset                <lgl> NA, NA, NA, NA, NA, NA, NA, NA, NA, NA, N…\n",
      "$ asset_tangibility_tot_asset <dbl> 0.79896, 0.30909, 0.50873, 0.27807, 0.222…\n",
      "$ cashflow_tot_asset          <dbl> 0.03016, 0.14363, 0.02061, 0.07804, 0.041…\n",
      "$ cashflow_to_tangible        <dbl> 0.03775, 0.46470, 0.04050, 0.28065, 0.185…\n",
      "$ return_to_sale              <dbl> 0.01902, 0.03833, 0.01665, 0.05228, 0.051…\n",
      "$ coverage_ratio              <dbl> 0.00344, 0.01847, 0.00466, 0.07252, 0.030…\n",
      "$ liquidity                   <dbl> 0.02727, -0.32439, -0.01156, 0.37487, -0.…\n",
      "$ export_to_sale              <dbl> 0.00000, 0.00000, 0.00000, 0.00000, 0.009…\n",
      "$ labor_productivity          <dbl> 0.13193, 0.16989, 0.25686, 0.59767, 0.220…\n",
      "$ labor_capital               <dbl> 0.03426, 0.13684, 0.04193, 0.09783, 0.161…\n",
      "$ age                         <dbl> 8, 4, 6, 10, 6, 2, 3, 43, 16, 46, 9, 3, 4…\n",
      "$ avg_size_asset_fci          <fct> LARGE, LARGE, LARGE, SMALL, LARGE, SMALL,…\n",
      "$ avg_size_output_fci         <fct> LARGE, LARGE, LARGE, SMALL, LARGE, SMALL,…\n",
      "$ avg_employment_fci          <fct> LARGE, LARGE, LARGE, SMALL, LARGE, LARGE,…\n",
      "$ avg_size_capital_fci        <fct> LARGE, SMALL, LARGE, SMALL, LARGE, LARGE,…\n",
      "$ avg_sales_fci               <fct> LARGE, LARGE, LARGE, SMALL, LARGE, SMALL,…\n",
      "$ size_asset_fci              <fct> \"{0.5=true, 0.9=false, 0.75=true, 0.95=fa…\n",
      "$ size_asset_fc               <fct> \"{0.5=true, 0.9=true, 0.75=true, 0.95=fal…\n",
      "$ size_asset_fi               <fct> \"{0.5=true, 0.9=true, 0.75=true, 0.95=tru…\n",
      "$ size_output_fci             <fct> \"{0.5=true, 0.9=false, 0.75=true, 0.95=fa…\n",
      "$ size_output_fc              <fct> \"{0.5=true, 0.9=true, 0.75=true, 0.95=fal…\n",
      "$ size_output_fi              <fct> \"{0.5=true, 0.9=true, 0.75=true, 0.95=tru…\n",
      "$ size_employment_fci         <fct> \"{0.5=true, 0.9=false, 0.75=true, 0.95=fa…\n",
      "$ size_employment_fc          <fct> \"{0.5=true, 0.9=true, 0.75=true, 0.95=fal…\n",
      "$ size_employment_fi          <fct> \"{0.5=true, 0.9=true, 0.75=true, 0.95=tru…\n",
      "$ size_capital_fci            <fct> \"{0.5=true, 0.9=false, 0.75=true, 0.95=fa…\n",
      "$ size_capital_fc             <fct> \"{0.5=true, 0.9=false, 0.75=true, 0.95=fa…\n",
      "$ size_capital_fi             <fct> \"{0.5=true, 0.9=true, 0.75=true, 0.95=tru…\n",
      "$ size_sales_fci              <fct> \"{0.5=true, 0.9=false, 0.75=true, 0.95=fa…\n",
      "$ size_sales_fc               <fct> \"{0.5=true, 0.9=true, 0.75=true, 0.95=fal…\n",
      "$ size_sales_fi               <fct> \"{0.5=true, 0.9=true, 0.75=true, 0.95=tru…\n",
      "$ count_ownership             <dbl> 2, 1, 1, 1, 2, 1, 3, 3, 2, 2, 1, 1, 1, 1,…\n",
      "$ count_city                  <dbl> 1, 1, 1, 1, 1, 1, 1, 1, 1, 1, 1, 1, 1, 1,…\n",
      "$ count_industry              <dbl> 1, 2, 1, 2, 1, 2, 1, 2, 2, 2, 1, 1, 1, 1,…\n",
      "$ fe_c_i                      <fct> 4688, 4708, 4725, 4672, 4719, 4721, 4687,…\n",
      "$ fe_t_i                      <fct> 1493, 1574, 1689, 1418, 1662, 1667, 1488,…\n",
      "$ fe_c_t                      <fct> 387, 387, 387, 387, 387, 387, 387, 387, 3…\n",
      "$ rd_tot_asset_trick          <dbl> -1000, -1000, -1000, -1000, -1000, -1000,…\n"
     ]
    }
   ],
   "source": [
    "glimpse(df_final)"
   ]
  },
  {
   "cell_type": "markdown",
   "metadata": {
    "kernel": "SoS"
   },
   "source": [
    "## Table 1: Channel of transmission: Asset accumulation\n",
    "\n",
    "$$\n",
    "\\begin{aligned}\n",
    "\\text { (Asset) }_{i t}= \\beta_{1}\\text {Cash flow}_{fit}+\\beta_{2}\\text {Current ratio}_{fit}+\\beta_{3}\\text {liabilities to asset}_{fit} + \\beta_{4}\\text {X}_{fit} +\\epsilon_{fit}\n",
    "\\end{aligned}\n",
    "$$\n",
    "\n",
    "* Column 1: tangible to total asset\n",
    "    * FE: \n",
    "        - fe 1: `firm`\n",
    "        - fe 2: `industry-year`\n",
    "* Column 2: RD to total asset\n",
    "    * FE: \n",
    "        - fe 1: `firm`\n",
    "        - fe 2: `industry-year`"
   ]
  },
  {
   "cell_type": "code",
   "execution_count": 14,
   "metadata": {
    "kernel": "SoS",
    "nteract": {
     "transient": {
      "deleting": false
     }
    }
   },
   "outputs": [],
   "source": [
    "folder = 'Tables_0'\n",
    "table_nb = 1\n",
    "table = 'table_{}'.format(table_nb)\n",
    "path = os.path.join(folder, table + '.txt')\n",
    "if os.path.exists(folder) == False:\n",
    "        os.mkdir(folder)\n",
    "for ext in ['.txt', '.tex', '.pdf']:\n",
    "    x = [a for a in os.listdir(folder) if a.endswith(ext)]\n",
    "    [os.remove(os.path.join(folder, i)) for i in x]"
   ]
  },
  {
   "cell_type": "code",
   "execution_count": 15,
   "metadata": {
    "kernel": "R"
   },
   "outputs": [],
   "source": [
    "%get path table\n",
    "t_0 <- felm(log(asset_tangibility_tot_asset) ~\n",
    "            log(cashflow_to_tangible) +\n",
    "            log(current_ratio) +\n",
    "            log(liabilities_tot_asset) +\n",
    "            log(age) +\n",
    "            export_to_sale \n",
    "            | firm + year + indu_2|0 | firm,df_final,\n",
    "            exactDOF = TRUE)\n",
    "\n",
    "t_1 <- felm(rd_tot_asset_trick ~\n",
    "            log(cashflow_to_tangible) +\n",
    "            log(current_ratio) +\n",
    "            log(liabilities_tot_asset) +\n",
    "            log(age) +\n",
    "            export_to_sale \n",
    "            | firm + year + indu_2|0 | firm,df_final %>% filter(year %in% list(\"2005\",\"2006\", \"2007\")),\n",
    "            exactDOF = TRUE)\n",
    "\n",
    "## All credits\n",
    "t_2 <- felm(log(asset_tangibility_tot_asset) ~\n",
    "            log(cashflow_to_tangible) +\n",
    "            log(current_ratio) +\n",
    "            log(liabilities_tot_asset) +\n",
    "            log(age) +\n",
    "            export_to_sale +\n",
    "            supply_all_credit\n",
    "            | firm + year + indu_2|0 | firm,df_final,\n",
    "            exactDOF = TRUE)\n",
    "\n",
    "t_3 <- felm(rd_tot_asset_trick ~\n",
    "            log(cashflow_to_tangible) +\n",
    "            log(current_ratio) +\n",
    "            log(liabilities_tot_asset) +\n",
    "            log(age) +\n",
    "            export_to_sale +\n",
    "            supply_all_credit\n",
    "            | year + indu_2|0 | firm,df_final %>% filter(year %in% list(\"2005\",\"2006\", \"2007\")),\n",
    "            exactDOF = TRUE)\n",
    "\n",
    "## LT credit\n",
    "t_4 <- felm(log(asset_tangibility_tot_asset) ~\n",
    "            log(cashflow_to_tangible) +\n",
    "            log(current_ratio) +\n",
    "            log(liabilities_tot_asset) +\n",
    "            log(age) +\n",
    "            export_to_sale +\n",
    "            supply_long_term_credit\n",
    "            | firm + year + indu_2|0 | firm,df_final,\n",
    "            exactDOF = TRUE)\n",
    "\n",
    "t_5 <- felm(rd_tot_asset_trick ~\n",
    "            log(cashflow_to_tangible) +\n",
    "            log(current_ratio) +\n",
    "            log(liabilities_tot_asset) +\n",
    "            log(age) +\n",
    "            export_to_sale +\n",
    "            supply_long_term_credit\n",
    "            | year + indu_2|0 | firm,df_final %>% filter(year %in% list(\"2005\",\"2006\", \"2007\")),\n",
    "            exactDOF = TRUE)\n",
    "\n",
    "## Credit demand\n",
    "t_6 <- felm(log(asset_tangibility_tot_asset) ~\n",
    "            log(cashflow_to_tangible) +\n",
    "            log(current_ratio) +\n",
    "            log(liabilities_tot_asset) +\n",
    "            log(age) +\n",
    "            export_to_sale +\n",
    "            credit_constraint\n",
    "            | firm + year|0 | firm,df_final,\n",
    "            exactDOF = TRUE)\n",
    "\n",
    "t_7 <- felm(rd_tot_asset_trick ~\n",
    "            log(cashflow_to_tangible) +\n",
    "            log(current_ratio) +\n",
    "            log(liabilities_tot_asset) +\n",
    "            log(age) +\n",
    "            export_to_sale +\n",
    "            credit_constraint\n",
    "            | firm + year|0 | firm,df_final %>% filter(year %in% list(\"2005\",\"2006\", \"2007\")),\n",
    "            exactDOF = TRUE)\n",
    "\n",
    "            \n",
    "dep <- \"Dependent variable\"\n",
    "fe1 <- list(\n",
    "    c(\"firm\", \"Yes\", \"Yes\", \"Yes\", \"No\", \"Yes\", \"No\", \"Yes\", \"Yes\"),\n",
    "    c(\"industry\", \"Yes\", \"Yes\", \"Yes\", \"Yes\", \"Yes\", \"Yes\", \"No\", \"No\"),\n",
    "    c(\"year\", \"Yes\", \"Yes\", \"Yes\", \"Yes\", \"Yes\", \"Yes\", \"Yes\", \"Yes\")\n",
    "             )\n",
    "\n",
    "table_1 <- go_latex(list(\n",
    "    t_0,t_1, t_2, t_3, t_4, t_5, t_6, t_7\n",
    "),\n",
    "    title=\"Channel of transmission Asset accumulation\",\n",
    "    dep_var = dep,\n",
    "    addFE=fe1,\n",
    "    save=TRUE,\n",
    "    note = FALSE,\n",
    "    name=path\n",
    ") "
   ]
  },
  {
   "cell_type": "code",
   "execution_count": 16,
   "metadata": {
    "kernel": "SoS"
   },
   "outputs": [
    {
     "data": {
      "image/png": "[encoded data removed]",
      "text/plain": [
       "<wand.image.Image: aa671d8 'PDF' (955x721)>"
      ]
     },
     "metadata": {},
     "output_type": "display_data"
    }
   ],
   "source": [
    "tbe1  = \"This table estimates eq(X). \" \\\n",
    "\"Heteroskedasticity-robust standard errors\" \\\n",
    "\"clustered at the firm level appear inparentheses.\"\\\n",
    "\"Dependent variables include firm's Asset tangibility over asset level and RD expenditure over asset.\" \\\n",
    "\" The later only includes year 2005 to 2007 which is the availablity of the information in the dataset.\" \\\n",
    "\" Independent variable cashflow is measured as net income + depreciation over asset;\"\\\n",
    "\" current ratio is measured as current asset over current liabilities. \" \\\n",
    "\"\\sym{*} Significance at the 10\\%, \\sym{**} Significance at the 5\\%, \\sym{***} Significance at the 1\\%.\"\n",
    "\n",
    "multicolumn ={\n",
    "    'Tangible to asset': 2,\n",
    "    'RD': 2,\n",
    "    'Tangible to asset': 2,\n",
    "    'Rd': 2\n",
    "}\n",
    "\n",
    "\n",
    "#multi_lines_dep = '(city/product/trade regime/year)'\n",
    "new_r = ['& Tangible to asset', 'RD', 'Tangible to asset', 'RD', 'Tangible to asset', 'RD', 'Tangible to asset', 'RD']\n",
    "lb.beautify(table_number = table_nb,\n",
    "            #reorder_var = reorder,\n",
    "            #multi_lines_dep = multi_lines_dep,\n",
    "            new_row= new_r,\n",
    "            #multicolumn = multicolumn,\n",
    "            table_nte = tbe1,\n",
    "            jupyter_preview = True,\n",
    "            resolution = 200,\n",
    "            folder = folder)"
   ]
  },
  {
   "cell_type": "code",
   "execution_count": 17,
   "metadata": {
    "kernel": "SoS"
   },
   "outputs": [],
   "source": [
    "folder = 'Tables_0'\n",
    "table_nb = 1\n",
    "table = 'table_{}'.format(table_nb)\n",
    "path = os.path.join(folder, table + '.txt')\n",
    "if os.path.exists(folder) == False:\n",
    "        os.mkdir(folder)\n",
    "for ext in ['.txt', '.tex', '.pdf']:\n",
    "    x = [a for a in os.listdir(folder) if a.endswith(ext)]\n",
    "    [os.remove(os.path.join(folder, i)) for i in x]"
   ]
  },
  {
   "cell_type": "markdown",
   "metadata": {
    "kernel": "SoS",
    "nteract": {
     "transient": {
      "deleting": false
     }
    }
   },
   "source": [
    "# Generate reports"
   ]
  },
  {
   "cell_type": "code",
   "execution_count": 18,
   "metadata": {
    "kernel": "python3",
    "nteract": {
     "transient": {
      "deleting": false
     }
    },
    "outputExpanded": false
   },
   "outputs": [],
   "source": [
    "import os, time, shutil, urllib, ipykernel, json\n",
    "from pathlib import Path\n",
    "from notebook import notebookapp"
   ]
  },
  {
   "cell_type": "code",
   "execution_count": 19,
   "metadata": {
    "kernel": "python3",
    "nteract": {
     "transient": {
      "deleting": false
     }
    },
    "outputExpanded": false
   },
   "outputs": [],
   "source": [
    "def create_report(extension = \"html\", keep_code = False, notebookname = None):\n",
    "    \"\"\"\n",
    "    Create a report from the current notebook and save it in the \n",
    "    Report folder (Parent-> child directory)\n",
    "    \n",
    "    1. Exctract the current notbook name\n",
    "    2. Convert the Notebook \n",
    "    3. Move the newly created report\n",
    "    \n",
    "    Args:\n",
    "    extension: string. Can be \"html\", \"pdf\", \"md\"\n",
    "    \n",
    "    \n",
    "    \"\"\"\n",
    "    \n",
    "    ### Get notebook name\n",
    "    connection_file = os.path.basename(ipykernel.get_connection_file())\n",
    "    kernel_id = connection_file.split('-', 1)[0].split('.')[0]\n",
    "\n",
    "    for srv in notebookapp.list_running_servers():\n",
    "        try:\n",
    "            if srv['token']=='' and not srv['password']:  \n",
    "                req = urllib.request.urlopen(srv['url']+'api/sessions')\n",
    "            else:\n",
    "                req = urllib.request.urlopen(srv['url']+ \\\n",
    "                                             'api/sessions?token=' + \\\n",
    "                                             srv['token'])\n",
    "            sessions = json.load(req)\n",
    "            notebookname = sessions[0]['name']\n",
    "        except:\n",
    "            notebookname = notebookname  \n",
    "    \n",
    "    sep = '.'\n",
    "    path = os.getcwd()\n",
    "    #parent_path = str(Path(path).parent)\n",
    "    \n",
    "    ### Path report\n",
    "    #path_report = \"{}/Reports\".format(parent_path)\n",
    "    #path_report = \"{}/Reports\".format(path)\n",
    "    \n",
    "    ### Path destination\n",
    "    name_no_extension = notebookname.split(sep, 1)[0]\n",
    "    source_to_move = name_no_extension +'.{}'.format(extension)\n",
    "    dest = os.path.join(path,'Reports', source_to_move)\n",
    "    \n",
    "    ### Generate notebook\n",
    "    if keep_code:\n",
    "        os.system('jupyter nbconvert --to {} {}'.format(\n",
    "    extension,notebookname))\n",
    "    else:\n",
    "        os.system('jupyter nbconvert --no-input --to {} {}'.format(\n",
    "    extension,notebookname))\n",
    "    \n",
    "    ### Move notebook to report folder\n",
    "    #time.sleep(5)\n",
    "    shutil.move(source_to_move, dest)\n",
    "    print(\"Report Available at this adress:\\n {}\".format(dest))"
   ]
  },
  {
   "cell_type": "code",
   "execution_count": null,
   "metadata": {
    "kernel": "python3",
    "nteract": {
     "transient": {
      "deleting": false
     }
    },
    "outputExpanded": false
   },
   "outputs": [],
   "source": [
    "create_report(extension = \"html\", keep_code = False, notebookname = \"06_internal_finance_firm_level.ipynb\")"
   ]
  }
 ],
 "metadata": {
  "jupytext": {
   "formats": "ipynb,md"
  },
  "kernel_info": {
   "name": "python3"
  },
  "kernelspec": {
   "display_name": "SoS",
   "language": "sos",
   "name": "sos"
  },
  "language_info": {
   "codemirror_mode": "sos",
   "file_extension": ".sos",
   "mimetype": "text/x-sos",
   "name": "sos",
   "nbconvert_exporter": "sos_notebook.converter.SoS_Exporter",
   "pygments_lexer": "sos"
  },
  "nteract": {
   "version": "0.26.0"
  },
  "sos": {
   "kernels": [
    [
     "R",
     "ir",
     "R",
     "#DCDCDA",
     "r"
    ],
    [
     "SoS",
     "sos",
     "",
     "",
     "sos"
    ],
    [
     "python3",
     "python3",
     "python",
     "",
     {
      "name": "ipython",
      "version": 3
     }
    ]
   ],
   "version": "0.20.1"
  },
  "toc": {
   "base_numbering": 1,
   "nav_menu": {},
   "number_sections": true,
   "sideBar": true,
   "skip_h1_title": false,
   "title_cell": "Table of Contents",
   "title_sidebar": "Contents",
   "toc_cell": false,
   "toc_position": {},
   "toc_section_display": true,
   "toc_window_display": false
  }
 },
 "nbformat": 4,
 "nbformat_minor": 4
}
