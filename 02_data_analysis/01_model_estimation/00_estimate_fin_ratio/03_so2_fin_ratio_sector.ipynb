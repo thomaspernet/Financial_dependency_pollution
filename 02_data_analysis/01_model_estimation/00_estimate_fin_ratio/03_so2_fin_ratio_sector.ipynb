{
 "cells": [
  {
   "cell_type": "markdown",
   "metadata": {
    "kernel": "SoS"
   },
   "source": [
    "# Estimate so2 as a function of  financial ratio (add city-level, Estimate by city-industry)\n",
    "\n",
    "# US Name\n",
    "\n",
    "Estimate so2 as a function of  financial ratio (add city-level, Estimate by city-industry) \n",
    "\n",
    "# Business needs \n",
    "\n",
    "Estimate so2 as a function of  financial ratio (Add city-industry financial ratio level, Pull estimate using financial ratio at the city-industry) \n",
    "\n",
    "## Description\n",
    "### Objective \n",
    "\n",
    "Test the coefficient sign and significant of the main variable\n",
    "\n",
    "### Tables\n",
    "\n",
    "1. Table 1: Baseline Estimate, so2 and financial ratio\n",
    "\n",
    "**Cautious**\n",
    "* Make sure no empty rows, otherwise it will be filtered out in the estimate\n",
    "\n",
    "\n",
    "# Metadata\n",
    "\n",
    "* Key: srj15wnkj21653b\n",
    "* Parent key (for update parent):  \n",
    "* Epic: Models\n",
    "* US: Sector by sector\n",
    "* Task tag: #analytics,#econometrics,#sector-estimate\n",
    "* Notebook US Parent (i.e the one to update): \n",
    "https://github.com/thomaspernet/Financial_dependency_pollution/blob/master/02_data_analysis/01_model_estimation/00_estimate_fin_ratio/03_so2_fin_ratio_sector.md\n",
    "* Reports: https://htmlpreview.github.io/?https://github.com/thomaspernet/Financial_dependency_pollution/blob/master/02_data_analysis/01_model_estimation/00_estimate_fin_ratio/Reports/03_so2_fin_ratio_sector.html\n",
    "* Analytics reports:\n",
    " \n",
    "\n",
    "# Input Cloud Storage [AWS/GCP]\n",
    "\n",
    "## Table/file\n",
    "* Name: \n",
    "* fin_dep_pollution_baseline_city\n",
    "* Github: \n",
    "  * https://github.com/thomaspernet/Financial_dependency_pollution/blob/master/01_data_preprocessing/02_transform_tables/04_fin_dep_pol_baseline_city.md\n",
    "\n"
   ]
  },
  {
   "cell_type": "markdown",
   "metadata": {
    "kernel": "SoS"
   },
   "source": [
    "# Connexion server"
   ]
  },
  {
   "cell_type": "code",
   "execution_count": 1,
   "metadata": {
    "kernel": "SoS"
   },
   "outputs": [],
   "source": [
    "from awsPy.aws_authorization import aws_connector\n",
    "from awsPy.aws_s3 import service_s3\n",
    "from awsPy.aws_glue import service_glue\n",
    "from pathlib import Path\n",
    "import pandas as pd\n",
    "import numpy as np\n",
    "#import seaborn as sns\n",
    "import os, shutil, json\n",
    "\n",
    "path = os.getcwd()\n",
    "parent_path = str(Path(path).parent.parent.parent)\n",
    "\n",
    "\n",
    "name_credential = 'financial_dep_SO2_accessKeys.csv'\n",
    "region = 'eu-west-3'\n",
    "bucket = 'datalake-datascience'\n",
    "path_cred = \"{0}/creds/{1}\".format(parent_path, name_credential)"
   ]
  },
  {
   "cell_type": "code",
   "execution_count": 2,
   "metadata": {
    "kernel": "SoS"
   },
   "outputs": [
    {
     "name": "stderr",
     "output_type": "stream",
     "text": [
      "[0]: \n",
      "---------------------------------------------------------------------------\n",
      "FileNotFoundError                         Traceback (most recent call last)\n",
      "script_1218904332603109477 in <module>\n",
      "      con = aws_connector.aws_instantiate(credential = path_cred,\n",
      "                                             region = region)\n",
      "----> client= con.client_boto()\n",
      "      s3 = service_s3.connect_S3(client = client,\n",
      "                            bucket = bucket, verbose = False)\n",
      "      glue = service_glue.connect_glue(client = client)\n",
      "\n",
      "FileNotFoundError: 2\n"
     ]
    }
   ],
   "source": [
    "con = aws_connector.aws_instantiate(credential = path_cred,\n",
    "                                       region = region)\n",
    "client= con.client_boto()\n",
    "s3 = service_s3.connect_S3(client = client,\n",
    "                      bucket = bucket, verbose = False)\n",
    "glue = service_glue.connect_glue(client = client) "
   ]
  },
  {
   "cell_type": "code",
   "execution_count": null,
   "metadata": {
    "kernel": "SoS"
   },
   "outputs": [],
   "source": [
    "pandas_setting = True\n",
    "if pandas_setting:\n",
    "    #cm = sns.light_palette(\"green\", as_cmap=True)\n",
    "    pd.set_option('display.max_columns', None)\n",
    "    pd.set_option('display.max_colwidth', None)"
   ]
  },
  {
   "cell_type": "code",
   "execution_count": null,
   "metadata": {
    "kernel": "SoS",
    "nteract": {
     "transient": {
      "deleting": false
     }
    }
   },
   "outputs": [],
   "source": [
    "os.environ['KMP_DUPLICATE_LIB_OK']='True'\n"
   ]
  },
  {
   "cell_type": "markdown",
   "metadata": {
    "kernel": "SoS"
   },
   "source": [
    "# Load tables\n",
    "\n",
    "Since we load the data as a Pandas DataFrame, we want to pass the `dtypes`. We load the schema from Glue to guess the types"
   ]
  },
  {
   "cell_type": "code",
   "execution_count": null,
   "metadata": {
    "kernel": "SoS"
   },
   "outputs": [],
   "source": [
    "db = 'environment'\n",
    "table = 'fin_dep_pollution_baseline_city'"
   ]
  },
  {
   "cell_type": "code",
   "execution_count": null,
   "metadata": {
    "kernel": "SoS"
   },
   "outputs": [],
   "source": [
    "dtypes = {}\n",
    "schema = (glue.get_table_information(database = db,\n",
    "                           table = table)\n",
    "          ['Table']['StorageDescriptor']['Columns']\n",
    "         )\n",
    "for key, value in enumerate(schema):\n",
    "    if value['Type'] in ['varchar(12)']:\n",
    "        format_ = 'string'\n",
    "    elif value['Type'] in ['decimal(21,5)', 'double', 'bigint', 'int', 'float']:\n",
    "        format_ = 'float'\n",
    "    else:\n",
    "        format_ = value['Type'] \n",
    "    dtypes.update(\n",
    "        {value['Name']:format_}\n",
    "    )"
   ]
  },
  {
   "cell_type": "code",
   "execution_count": null,
   "metadata": {
    "kernel": "SoS"
   },
   "outputs": [],
   "source": [
    "download_data = False\n",
    "filename = 'df_{}'.format(table)\n",
    "full_path_filename = 'SQL_OUTPUT_ATHENA/CSV/{}.csv'.format(filename)\n",
    "path_local = os.path.join(str(Path(path).parent.parent.parent), \n",
    "                              \"00_data_catalogue/temporary_local_data\")\n",
    "df_path = os.path.join(path_local, filename + '.csv')\n",
    "if download_data:\n",
    "    \n",
    "    s3 = service_s3.connect_S3(client = client,\n",
    "                          bucket = bucket, verbose = False)\n",
    "    query = \"\"\"\n",
    "    SELECT * \n",
    "    FROM {}.{}\n",
    "    \"\"\".format(db, table)\n",
    "    df = (s3.run_query(\n",
    "        query=query,\n",
    "        database=db,\n",
    "        s3_output='SQL_OUTPUT_ATHENA',\n",
    "        filename=filename,  # Add filename to print dataframe\n",
    "        destination_key='SQL_OUTPUT_ATHENA/CSV',  #Use it temporarily\n",
    "        dtype = dtypes\n",
    "    )\n",
    "            )\n",
    "    s3.download_file(\n",
    "        key = full_path_filename\n",
    "    )\n",
    "    shutil.move(\n",
    "        filename + '.csv',\n",
    "        os.path.join(path_local, filename + '.csv')\n",
    "    )\n",
    "    s3.remove_file(full_path_filename)\n",
    "    df.head()"
   ]
  },
  {
   "cell_type": "code",
   "execution_count": null,
   "metadata": {
    "kernel": "SoS",
    "nteract": {
     "transient": {
      "deleting": false
     }
    }
   },
   "outputs": [],
   "source": [
    "pd.DataFrame(schema)"
   ]
  },
  {
   "cell_type": "markdown",
   "metadata": {
    "kernel": "SoS",
    "nteract": {
     "transient": {
      "deleting": false
     }
    }
   },
   "source": [
    "## Schema Latex table\n",
    "\n",
    "To rename a variable, please use the following template:\n",
    "\n",
    "```\n",
    "{\n",
    "    'old':'XX',\n",
    "    'new':'XX_1'\n",
    "    }\n",
    "```\n",
    "\n",
    "if you need to pass a latex format with `\\`, you need to duplicate it for instance, `\\text` becomes `\\\\text:\n",
    "\n",
    "```\n",
    "{\n",
    "    'old':'working\\_capital\\_i',\n",
    "    'new':'\\\\text{working capital}_i'\n",
    "    }\n",
    "```\n",
    "\n",
    "Then add it to the key `to_rename`"
   ]
  },
  {
   "cell_type": "code",
   "execution_count": null,
   "metadata": {
    "kernel": "SoS",
    "nteract": {
     "transient": {
      "deleting": false
     }
    }
   },
   "outputs": [],
   "source": [
    "add_to_dic = True\n",
    "if add_to_dic:\n",
    "    with open('schema_table.json') as json_file:\n",
    "        data = json.load(json_file)\n",
    "    data['to_rename'] = []\n",
    "    dic_rename = [\n",
    "        ### control variables\n",
    "        {\n",
    "        'old':'output',\n",
    "        'new':'\\\\text{output}_{cit}'\n",
    "        },\n",
    "        {\n",
    "        'old':'employment',\n",
    "        'new':'\\\\text{employment}_{cit}'\n",
    "        },\n",
    "        {\n",
    "        'old':'capital',\n",
    "        'new':'\\\\text{capital}_{cit}'\n",
    "        },\n",
    "        {\n",
    "        'old':'sales',\n",
    "        'new':'\\\\text{sales}_{cit}'\n",
    "        },\n",
    "        {\n",
    "        'old':'total\\_asset',\n",
    "        'new':'\\\\text{total asset}_{cit}'\n",
    "        },\n",
    "        ### Polluted sector\n",
    "        {\n",
    "        'old':'polluted_di',\n",
    "        'new':'\\\\text{polluted sector, decile}_{ci}'\n",
    "        },\n",
    "        {\n",
    "        'old':'polluted\\_diABOVE',\n",
    "        'new':'\\\\text{polluted sector, decile}_{ci}'\n",
    "        },\n",
    "        {\n",
    "        'old':'polluted_mi',\n",
    "        'new':'\\\\text{polluted sector, mean}_{ci}'\n",
    "        },\n",
    "        {\n",
    "        'old':'polluted\\_miABOVE',\n",
    "        'new':'\\\\text{polluted sector, mean}_{ci}'\n",
    "        },\n",
    "        {\n",
    "        'old':'polluted_mei',\n",
    "        'new':'\\\\text{polluted sector, median}_{ci}'\n",
    "        },\n",
    "        {\n",
    "        'old':'polluted\\_meiABOVE',\n",
    "        'new':'\\\\text{polluted sector, median}_{ci}'\n",
    "        },\n",
    "        ### financial ratio\n",
    "        #### Industry\n",
    "        {\n",
    "        'old':'credit\\_constraint',\n",
    "        'new':'\\\\text{credit constraint}_i'\n",
    "        },\n",
    "        {\n",
    "        'old':'std\\_receivable\\_curasset\\_ci',\n",
    "        'new':'\\\\text{receivable asset ratio}_{ci}'\n",
    "        },\n",
    "        {\n",
    "        'old':'receivable\\_curasset\\_ci',\n",
    "        'new':'\\\\text{receivable asset ratio}_{ci}'\n",
    "        },\n",
    "        {\n",
    "        'old':'std\\_cash\\_over\\_curasset\\_ci',\n",
    "        'new':'\\\\text{cash over asset}_{ci}'\n",
    "        },\n",
    "        {\n",
    "        'old':'cash\\_over\\_curasset\\_ci',\n",
    "        'new':'\\\\text{cash over asset}_{ci}'\n",
    "        },  \n",
    "        {\n",
    "        'old':'std\\_cash_over_totasset_ci',\n",
    "        'new':'\\\\text{cash over asset}_{ci}'\n",
    "        },\n",
    "        {\n",
    "        'old':'cash\\_over\\_totasset\\_ci',\n",
    "        'new':'\\\\text{cash over asset}_{ci}'\n",
    "        },\n",
    "        {\n",
    "        'old':'std\\_working\\_capital\\_ci',\n",
    "        'new':'\\\\text{working capital}_{ci}'\n",
    "        },\n",
    "        {\n",
    "        'old':'working\\_capital\\_ci',\n",
    "        'new':'\\\\text{working capital}_{ci}'\n",
    "        },\n",
    "        {\n",
    "        'old':'std\\_working\\_capital\\_requirement\\_ci',\n",
    "        'new':'\\\\text{working capital requirement}_{ci}'\n",
    "        },\n",
    "        {\n",
    "        'old':'working\\_capital\\_requirement\\_ci',\n",
    "        'new':'\\\\text{working capital requirement}_{ci}'\n",
    "        },\n",
    "        {\n",
    "        'old':'std\\_current\\_ratio\\_ci',\n",
    "        'new':'\\\\text{current ratio}_{ci}'\n",
    "        },\n",
    "        {\n",
    "        'old':'current\\_ratio\\_ci',\n",
    "        'new':'\\\\text{current ratio}_{ci}'\n",
    "        },\n",
    "        {\n",
    "        'old':'std\\_quick\\_ratio\\_ci',\n",
    "        'new':'\\\\text{quick ratio}_{ci}'\n",
    "        },\n",
    "        {\n",
    "        'old':'quick\\_ratio\\_ci',\n",
    "        'new':'\\\\text{quick ratio}_{ci}'\n",
    "        },\n",
    "        {\n",
    "        'old':'std\\_cash\\_ratio\\_ci',\n",
    "        'new':'\\\\text{cash ratio}_{ci}'\n",
    "        },\n",
    "        {\n",
    "        'old':'cash\\_ratio\\_ci',\n",
    "        'new':'\\\\text{cash ratio}_{ci}'\n",
    "        },\n",
    "        {\n",
    "        'old':'std\\_liabilities\\_assets\\_ci',\n",
    "        'new':'\\\\text{liabilities assets}_{ci}'\n",
    "        },{\n",
    "        'old':'liabilities\\_assets\\_ci',\n",
    "        'new':'\\\\text{liabilities assets}_{ci}'\n",
    "        },\n",
    "        {\n",
    "        'old':'std\\_return\\_on\\_asset\\_ci',\n",
    "        'new':'\\\\text{return on asset}_{ci}'\n",
    "        },{\n",
    "        'old':'return\\_on\\_asset\\_ci',\n",
    "        'new':'\\\\text{return on asset}_{ci}'\n",
    "        },\n",
    "        {\n",
    "        'old':'std\\_sales\\_assets\\_ci',\n",
    "        'new':'\\\\text{std sales assets}_{ci}'\n",
    "        },\n",
    "        {\n",
    "        'old':'sales\\_assets\\_ci',\n",
    "        'new':'\\\\text{sales assets}_{ci}'\n",
    "        },\n",
    "         {\n",
    "        'old':'std\\_sales\\_assets\\_andersen\\_ci',\n",
    "        'new':'\\\\text{sales over assets}_{ci}'\n",
    "        },\n",
    "        {\n",
    "        'old':'sales\\_assets\\_andersen\\_ci',\n",
    "        'new':'\\\\text{sales over assets}_{ci}'\n",
    "        },\n",
    "        {\n",
    "        'old':'std\\_rd\\_intensity\\_ci',\n",
    "        'new':'\\\\text{rd intensity}_{ci}'\n",
    "        },\n",
    "        {\n",
    "        'old':'rd\\_intensity\\_ci',\n",
    "        'new':'\\\\text{rd intensity}_{ci}'\n",
    "        },\n",
    "        {\n",
    "        'old':'std\\_inventory\\_to\\_sales\\_ci',\n",
    "        'new':'\\\\text{inventory to sales}_{ci}'\n",
    "        },\n",
    "        {\n",
    "        'old':'inventory\\_to\\_sales\\_ci',\n",
    "        'new':'\\\\text{inventory to sales}_{ci}'\n",
    "        },\n",
    "        {\n",
    "        'old':'std\\_asset\\_tangibility\\_ci',\n",
    "        'new':'\\\\text{asset tangibility}_{ci}'\n",
    "        },\n",
    "        {\n",
    "        'old':'asset\\_tangibility\\_ci',\n",
    "        'new':'\\\\text{asset tangibility}_{ci}'\n",
    "        },\n",
    "        {\n",
    "        'old':'std\\_account\\_paybable\\_to\\_asset\\_ci',\n",
    "        'new':'\\\\text{account paybable to asset}_{ci}'\n",
    "        },\n",
    "        {\n",
    "        'old':'account\\_paybable\\_to\\_asset\\_ci',\n",
    "        'new':'\\\\text{account paybable to asset}_{ci}'\n",
    "        },\n",
    "        {\n",
    "        'old':'std\\_reverse\\_liabilities\\_assets\\_ci',\n",
    "        'new':'\\\\text{inverse liabilites to asset}_{ci}'\n",
    "        },\n",
    "        {\n",
    "        'old':'reverse\\_liabilities\\_assets\\_ci',\n",
    "        'new':'\\\\text{inverse liabilites to asset}_{ci}'\n",
    "        },\n",
    "        #### \n",
    "        {\n",
    "        'old':'periodTRUE',\n",
    "        'new':'\\\\text{period}'\n",
    "        },\n",
    "        {\n",
    "        'old':'period',\n",
    "        'new':'\\\\text{period}'\n",
    "        },\n",
    "        {\n",
    "        'old':'tso2\\_mandate\\_c',\n",
    "        'new':'\\\\text{policy mandate}_c'\n",
    "        }\n",
    "    ]\n",
    "\n",
    "    data['to_rename'].extend(dic_rename)\n",
    "    with open('schema_table.json', 'w') as outfile:\n",
    "        json.dump(data, outfile)"
   ]
  },
  {
   "cell_type": "code",
   "execution_count": null,
   "metadata": {
    "kernel": "SoS"
   },
   "outputs": [],
   "source": [
    "import function.latex_beautify as lb\n",
    "\n",
    "#%load_ext autoreload\n",
    "#%autoreload 2"
   ]
  },
  {
   "cell_type": "code",
   "execution_count": null,
   "metadata": {
    "kernel": "R"
   },
   "outputs": [],
   "source": [
    "options(warn=-1)\n",
    "library(tidyverse)\n",
    "library(lfe)\n",
    "#library(lazyeval)\n",
    "library('progress')\n",
    "path = \"function/table_golatex.R\"\n",
    "source(path)"
   ]
  },
  {
   "cell_type": "code",
   "execution_count": null,
   "metadata": {
    "kernel": "R"
   },
   "outputs": [],
   "source": [
    "%get df_path\n",
    "df_final <- read_csv(df_path) %>%\n",
    "mutate_if(is.character, as.factor) %>%\n",
    "    mutate_at(vars(starts_with(\"fe\")), as.factor) %>%\n",
    "mutate(\n",
    "    period = relevel(as.factor(period), ref='FALSE'),\n",
    "    polluted_di = relevel(as.factor(polluted_di), ref='BELOW'),\n",
    "    polluted_mi = relevel(as.factor(polluted_mi), ref='BELOW'),\n",
    "    polluted_mei = relevel(as.factor(polluted_mei), ref='BELOW'),\n",
    "    #working_capital_i = working_capital_i /1000000,\n",
    "    #working_capital_requirement_i = working_capital_requirement_i /1000000,\n",
    "    #liabilities_assets_m2_i = liabilities_assets_m2_i /1000000,\n",
    "    #asset_tangibility_i = asset_tangibility_i /1000000,\n",
    "    #polluted_thre = relevel(as.factor(polluted_thre), ref='BELOW'),\n",
    "    \n",
    ")"
   ]
  },
  {
   "cell_type": "markdown",
   "metadata": {
    "kernel": "R"
   },
   "source": [
    "# Expected signs\n",
    "\n",
    "| index | Metrics                        | comments                                                                                                    | variables                                                                                                                                                           | Roam_link                                       | Exepected sign              | Comment                                                                                                                                                                                                                                                                                                                                                                                                                                                                                                                                        |\n",
    "|-------|--------------------------------|-------------------------------------------------------------------------------------------------------------|---------------------------------------------------------------------------------------------------------------------------------------------------------------------|-------------------------------------------------|-----------------------------|------------------------------------------------------------------------------------------------------------------------------------------------------------------------------------------------------------------------------------------------------------------------------------------------------------------------------------------------------------------------------------------------------------------------------------------------------------------------------------------------------------------------------------------------|\n",
    "| 1     | External finance dependence    | From #[[Fan et al. 2015 - Credit constraints, quality, and export prices - Theory and evidence from China]] |                                                                                                                                                                     | #external-finance-dependence                    | Negative                    | An industry’s external finance dependence (ExtFini) is defined as the share of capital expenditure not financed with cash flows from operations. If external finance dependence is high, the industry is more financially vulnerable and have higher credit needs                                                                                                                                                                                                                                                                              |\n",
    "| 2     | R&D intensity                  | RD / Sales                                                                                                  | rdfee/sales                                                                                                                                                         | #rd-intensity                                   | Negative                    | Share of RD expenditure over sales. larger values indicates larger use of sales to spend on RD. Say differently, lower borrowing done toward RD                                                                                                                                                                                                                                                                                                                                                                                                |\n",
    "| 3     | Inventory to sales             | Inventory / sales                                                                                           | 存货 (c81) / sales                                                                                                                                                  | #inventory-to-sales                             | Negative                    | Share of inventory over sales. Larger values indicates share of unsold or not consumed items. large values is a demonstration of tighter credit constraint                                                                                                                                                                                                                                                                                                                                                                                     |\n",
    "| 4     | % receivable                   | receivable account / current asset                                                                          | 应收帐款 (c80) / cuasset                                                                                                                                            | #account-receivable #current-asset              | Negative                    | Share of receivable over current asset. Larger value indicates longer time before collecting the money from the customers                                                                                                                                                                                                                                                                                                                                                                                                                      |\n",
    "| 5     | Liabilities over asset         | (Short-Tern Debt + Long-Term Debt)/total asset                                                              | (流动负债合计 (c95) + 长期负债合计 (c97)) / toasset                                                                                                                 | #total-debt-to-total-assets                     | Negative                    | Share of liabilities over total asset. Larger value indicates assets that are financed by external creditors                                                                                                                                                                                                                                                                                                                                                                                                                                   |\n",
    "| 6     | working capital requirement    | Inventory + Accounts receivable - Accounts payable                                                          | 存货 (c81) + 应收帐款 (c80) - 应付帐款  (c96)                                                                                                                       | #working-capital                                | Negative                    | Working Capital Requirement is the amount of money needed to finance the gap between disbursements (payments to suppliers) and receipts (payments from customers). Larger values indicate the amount of money needed to meet the debt.                                                                                                                                                                                                                                                                                                         |\n",
    "| 7     | % cash                         | Current asset - cash / current asset                                                                        | (cuasset- 其中：短期投资 (c79) - 应收帐款 (c80) - 存货 (c81) - 其中：产成品 (c82)) /current asset                                                                   | #current-asset #cash                            | Positive                    | Share of cash asset over current asset. Larger values indicate more cash in hand.                                                                                                                                                                                                                                                                                                                                                                                                                                                              |\n",
    "|       | Cash over asset                | Current asset - cash / total asset                                                                          | (cuasset- 其中：短期投资 (c79) - 应收帐款 (c80) - 存货 (c81) - 其中：产成品 (c82)) /toasset                                                                         | #current-asset #cash                            | Positive                    | Share of cash asset over total asset. Larger values indicate more cash in hand.                                                                                                                                                                                                                                                                                                                                                                                                                                                                |\n",
    "| 8     | cash ratio                     | (Cash + marketable securities)/current liabilities                                                          | 1-(cuasset - 其中：短期投资 (c79) - 应收帐款 (c80) - 存货 (c81) - 其中：产成品 (c82))/ 流动负债合计 (c95)                                                           | #cash-asset #cash-ratio                         | Positive                    | Cash divided by liabilities. A portion of short-term debt that can be financed by cash. A larger value indicates the company generates enough cash to cope with the short term debt                                                                                                                                                                                                                                                                                                                                                            |\n",
    "| 9     | Working capital                | Current asset - current liabilities                                                                         | cuasset- 流动负债合计 (c95)                                                                                                                                         | #working-capital-requirement                    | Positive                    | Difference between current asset and current liabilities. Larger value indicates that assets are enough to cope with the short term need                                                                                                                                                                                                                                                                                                                                                                                                       |\n",
    "| 10    | current ratio                  | Current asset /current liabilities                                                                          | cuasset/流动负债合计 (c95)                                                                                                                                          | #current-ratio                                  | Ambiguous                   | Asset divided by liabilities. Values above 1 indicate there are more assets than liabilities. There are two effects on the liquidity constraint. Larger values imply the company has more liquidity, hence they may be less dependent on the formal financial market. By analogy, the financial market prefers to invest or provide money to the more liquid company (reduce the risk default)                                                                                                                                                 |\n",
    "| 11    | Quick ratio                    | (Current asset - Inventory)/current liabilities                                                             | (cuasset -  其中：短期投资 (c79) - 应收帐款 (c80) - 存货 (c81)) / 流动负债合计 (c95)                                                                                | #quick-ratio                                    | Ambiguous                   | The quick ratio is a measure of liquidity. The higher the more liquid the company is. To improve the ratio, the company should reduce the account receivable (reduce payment time) and increase the account payable (negotiate payment term). There are two effects on the liquidity constraint. Larger values imply the company has more liquidity, hence they may be less dependent on the formal financial market. By analogy, the financial market prefers to invest or provide money to the more liquid company (reduce the risk default) |\n",
    "| 12    | Return on Asset                | Net income / Total assets                                                                                   | sales - (主营业务成本 (c108) + 营业费用 (c113) + 管理费用 (c114) + 财产保险费 (c116) + 劳动、失业保险费 (c118)+ 财务费用 (c124) + 本年应付工资总额 (wage)) /toasset | #return-on-asset                                | Ambiguous                   | Net income over total asset. Capacity of an asset to generate income. Larger value indicates that asset are used in an efficiente way to generate income                                                                                                                                                                                                                                                                                                                                                                                       |\n",
    "| 13    | Asset Turnover Ratio           | Total sales / ((delta total asset)/2)                                                                       | 全年营业收入合计 (c64) /($\\Delta$ toasset/2)                                                                                                                        | #asset-turnover-ratio                           | Ambiguous                   | Sales divided by the average changes in total asset. Larger value indicates better efficiency at using asset to generate revenue                                                                                                                                                                                                                                                                                                                                                                                                               |\n",
    "| 14    | Sale over asset                | Total sales /total asset                                                                                    | 全年营业收入合计 (c64) /(toasset)                                                                                                                                   | #sale-over-asset                                | Ambiguous                   | Sales divided by total asset. Larger value indicates better efficiency at using asset to generate revenue                                                                                                                                                                                                                                                                                                                                                                                                                                      |\n",
    "| 15    | Asset tangibility              | Total fixed assets - Intangible assets                                                                      | tofixed - 无形资产 (c92)                                                                                                                                            | #asset-tangibility                              | Ambiguous                   | Difference between fixed sset and intangible asset. Larger value indicates more collateral, hence higher borrowing capacity                                                                                                                                                                                                                                                                                                                                                                                                                    |\n",
    "| 16    | Account payable to total asset | (delta account payable)/ (delta total asset)                                                                | ($\\Delta$ 应付帐款  (c96))/ ($\\Delta$$ (toasset))                                                                                                                   | #change-account-paybable-to-change-total-assets | Ambiguous (favour positive) | Variation of account payable over variation total asset. If the nominator larger than the denominator, it means the account payable grew larger than an asset, or more time is given to pay back the supplier relative to the total asset.  Say differently,  companies can more easily access buyer or supplier trade credit, they may be less dependent on the formal financial market                                                                                                                                                       |"
   ]
  },
  {
   "cell_type": "markdown",
   "metadata": {
    "kernel": "SoS"
   },
   "source": [
    "## Table 1: Determinant of SO2 emission: so2 and financial ratio\n",
    "\n",
    "$$ \\begin{aligned} \\text{SO2}{cit} &= \\alpha \\text{Financial ratio}_{ci} + \\text{X}_{cit} + \\gamma{c} + \\gamma{t} + \\epsilon_{cit} \\end{aligned} $$\n",
    "\n",
    "**Andersen results**\n",
    "\n",
    "![](https://drive.google.com/uc?export=view&id=1HrqaA5NLRPjWk2lqvHyrZAjO3wSP5r-9)\n"
   ]
  },
  {
   "cell_type": "markdown",
   "metadata": {
    "kernel": "R"
   },
   "source": [
    "### Reproduce Andersen Table"
   ]
  },
  {
   "cell_type": "code",
   "execution_count": null,
   "metadata": {
    "kernel": "SoS"
   },
   "outputs": [],
   "source": [
    "folder = 'Tables_0'\n",
    "table_nb = 1\n",
    "table = 'table_{}'.format(table_nb)\n",
    "path = os.path.join(folder, table + '.txt')\n",
    "if os.path.exists(folder) == False:\n",
    "        os.mkdir(folder)\n",
    "for ext in ['.txt', '.tex', '.pdf']:\n",
    "    x = [a for a in os.listdir(folder) if a.endswith(ext)]\n",
    "    [os.remove(os.path.join(folder, i)) for i in x]"
   ]
  },
  {
   "cell_type": "code",
   "execution_count": null,
   "metadata": {
    "kernel": "R"
   },
   "outputs": [],
   "source": [
    "%get path table\n",
    "t_0 <- felm(log(tso2) ~ asset_tangibility_ci  +\n",
    "            log(sales) + log(total_asset)\n",
    "            | fe_t_i + fe_c_t|0 | geocode4_corr, df_final,\n",
    "            exactDOF = TRUE)\n",
    "t_1 <- felm(log(tso2) ~ asset_tangibility_ci  + current_ratio_ci + cash_over_totasset_ci +\n",
    "            log(sales) + log(total_asset)\n",
    "            | fe_t_i +fe_c_t|0 | geocode4_corr, df_final,\n",
    "            exactDOF = TRUE)\n",
    "t_2 <- felm(log(tso2) ~ asset_tangibility_ci  + current_ratio_ci + cash_over_totasset_ci + liabilities_assets_ci + sales_assets_andersen_ci +\n",
    "            log(sales) + log(total_asset)\n",
    "            | fe_t_i +fe_c_t|0 | geocode4_corr, df_final,\n",
    "            exactDOF = TRUE)\n",
    "\n",
    "t_3 <- felm(log(so2_intensity) ~ asset_tangibility_ci  +\n",
    "            log(sales) + log(total_asset)\n",
    "            | fe_t_i + fe_c_t|0 | geocode4_corr, df_final,\n",
    "            exactDOF = TRUE)\n",
    "t_4 <- felm(log(so2_intensity) ~ asset_tangibility_ci  + current_ratio_ci + cash_over_totasset_ci +\n",
    "            log(sales) + log(total_asset)\n",
    "            | fe_t_i +fe_c_t|0 | geocode4_corr, df_final,\n",
    "            exactDOF = TRUE)\n",
    "t_5 <- felm(log(so2_intensity) ~ asset_tangibility_ci  + current_ratio_ci + cash_over_totasset_ci + liabilities_assets_ci + sales_assets_andersen_ci +\n",
    "            log(sales) + log(total_asset)\n",
    "            | fe_t_i +fe_c_t|0 | geocode4_corr, df_final,\n",
    "            exactDOF = TRUE)\n",
    "\n",
    "dep <- \"Dependent variable: SO2 emission\"\n",
    "fe1 <- list(\n",
    "    c(\"industry-year\", \"Yes\", \"Yes\", \"Yes\"),\n",
    "    c(\"city-year\", \"Yes\", \"Yes\", \"Yes\")\n",
    "             )\n",
    "table_1 <- go_latex(list(\n",
    "    t_0,t_1, t_2, t_3, t_4, t_5\n",
    "),\n",
    "    title=\"Determinant of SO2 emission, financial ratio\",\n",
    "    dep_var = dep,\n",
    "    addFE=fe1,\n",
    "    save=TRUE,\n",
    "    note = FALSE,\n",
    "    name=path\n",
    ")"
   ]
  },
  {
   "cell_type": "code",
   "execution_count": null,
   "metadata": {
    "kernel": "SoS"
   },
   "outputs": [],
   "source": [
    "tbe1  = \"This table estimates eq(3). \" \\\n",
    "\"Heteroskedasticity-robust standard errors \" \\\n",
    "\"clustered at the city level appear inp arentheses. \"\\\n",
    "\"\\sym{*} Significance at the 10\\%, \\sym{**} Significance at the 5\\%, \\sym{***} Significance at the 1\\%.\"\n",
    "\n",
    "multicolumn ={\n",
    "    'SO2': 1,\n",
    "    'SO2 intensity': 5\n",
    "}\n",
    "\n",
    "#reorder = {\n",
    "    \n",
    "#    7:0,\n",
    "#    8:1,\n",
    "    #9:2\n",
    "#}\n",
    "\n",
    "#multi_lines_dep = '(city/product/trade regime/year)'\n",
    "#new_r = ['& test1', 'test2']\n",
    "lb.beautify(table_number = table_nb,\n",
    "            #reorder_var = reorder,\n",
    "            #multi_lines_dep = multi_lines_dep,\n",
    "            #new_row= new_r,\n",
    "            multicolumn = multicolumn,\n",
    "            table_nte = tbe1,\n",
    "            jupyter_preview = True,\n",
    "            resolution = 150,\n",
    "           folder = folder)"
   ]
  },
  {
   "cell_type": "markdown",
   "metadata": {
    "kernel": "SoS"
   },
   "source": [
    "# Table 2:S02 emission reduction, financial ratio, Filter polluted sector\n",
    "\n",
    "$$\n",
    "\\begin{aligned}\n",
    "\\text{SO2}_{cit}  &= \\alpha \\text{Financial ratio}_{ci} + \\gamma_{ct} + \\gamma_{ci}  + \\epsilon_{cit}\n",
    "\\end{aligned}\n",
    "$$"
   ]
  },
  {
   "cell_type": "code",
   "execution_count": null,
   "metadata": {
    "kernel": "SoS"
   },
   "outputs": [],
   "source": [
    "table_nb = 2\n",
    "table = 'table_{}'.format(table_nb)\n",
    "path = os.path.join(folder, table + '.txt')\n",
    "if os.path.exists(folder) == False:\n",
    "        os.mkdir(folder)\n",
    "for ext in ['.txt', '.tex', '.pdf']:\n",
    "    x = [a for a in os.listdir(folder) if a.endswith(ext)]\n",
    "    [os.remove(os.path.join(folder, i)) for i in x]\n",
    "path"
   ]
  },
  {
   "cell_type": "code",
   "execution_count": null,
   "metadata": {
    "kernel": "R"
   },
   "outputs": [],
   "source": [
    "%get path table\n",
    "t_0 <- felm(log(tso2) ~ asset_tangibility_ci  +\n",
    "            log(sales) + log(total_asset)\n",
    "            | fe_t_i + fe_c_t|0 | geocode4_corr, df_final %>% filter(polluted_di == 'ABOVE'),\n",
    "            exactDOF = TRUE)\n",
    "t_1 <- felm(log(tso2) ~ asset_tangibility_ci  + current_ratio_ci + cash_over_totasset_ci +\n",
    "            log(sales) + log(total_asset)\n",
    "            | fe_t_i +fe_c_t|0 | geocode4_corr, df_final %>% filter(polluted_di == 'ABOVE'),\n",
    "            exactDOF = TRUE)\n",
    "t_2 <- felm(log(tso2) ~ asset_tangibility_ci  + current_ratio_ci + cash_over_totasset_ci + liabilities_assets_ci + sales_assets_andersen_ci +\n",
    "            log(sales) + log(total_asset)\n",
    "            | fe_t_i +fe_c_t|0 | geocode4_corr, df_final %>% filter(polluted_di == 'ABOVE'),\n",
    "            exactDOF = TRUE)\n",
    "\n",
    "t_3 <- felm(log(so2_intensity) ~ asset_tangibility_ci  +\n",
    "            log(sales) + log(total_asset)\n",
    "            | fe_t_i + fe_c_t|0 | geocode4_corr, df_final %>% filter(polluted_di == 'ABOVE'),\n",
    "            exactDOF = TRUE)\n",
    "t_4 <- felm(log(so2_intensity) ~ asset_tangibility_ci  + current_ratio_ci + cash_over_totasset_ci +\n",
    "            log(sales) + log(total_asset)\n",
    "            | fe_t_i +fe_c_t|0 | geocode4_corr, df_final %>% filter(polluted_di == 'ABOVE'),\n",
    "            exactDOF = TRUE)\n",
    "t_5 <- felm(log(so2_intensity) ~ asset_tangibility_ci  + current_ratio_ci + cash_over_totasset_ci + liabilities_assets_ci + sales_assets_andersen_ci +\n",
    "            log(sales) + log(total_asset)\n",
    "            | fe_t_i +fe_c_t|0 | geocode4_corr, df_final %>% filter(polluted_di == 'ABOVE'),\n",
    "            exactDOF = TRUE)\n",
    "\n",
    "dep <- \"Dependent variable: SO2 emission\"\n",
    "fe1 <- list(\n",
    "    c(\"industry-year\", \"Yes\", \"Yes\", \"Yes\"),\n",
    "    c(\"city-year\", \"Yes\", \"Yes\", \"Yes\")\n",
    "             )\n",
    "table_1 <- go_latex(list(\n",
    "    t_0,t_1, t_2, t_3, t_4, t_5\n",
    "),\n",
    "    title=\"Baseline estimate, S02 emission reduction, financial ratio, Filter polluted sector\",\n",
    "    dep_var = dep,\n",
    "    addFE=fe1,\n",
    "    save=TRUE,\n",
    "    note = FALSE,\n",
    "    name=path\n",
    ")"
   ]
  },
  {
   "cell_type": "code",
   "execution_count": null,
   "metadata": {
    "kernel": "SoS"
   },
   "outputs": [],
   "source": [
    "tbe1  = \"This table estimates eq(3). \" \\\n",
    "\"Heteroskedasticity-robust standard errors \" \\\n",
    "\"clustered at the city level appear inp arentheses. \"\\\n",
    "\"\\sym{*} Significance at the 10\\%, \\sym{**} Significance at the 5\\%, \\sym{***} Significance at the 1\\%.\"\n",
    "\n",
    "multicolumn ={\n",
    "    'SO2': 1,\n",
    "    'SO2 intensity': 5\n",
    "}\n",
    "\n",
    "#reorder = {\n",
    "    \n",
    "#    7:0,\n",
    "#    8:1,\n",
    "    #9:2\n",
    "#}\n",
    "\n",
    "#multi_lines_dep = '(city/product/trade regime/year)'\n",
    "#new_r = ['& test1', 'test2']\n",
    "lb.beautify(table_number = table_nb,\n",
    "            #reorder_var = reorder,\n",
    "            #multi_lines_dep = multi_lines_dep,\n",
    "            #new_row= new_r,\n",
    "            multicolumn = multicolumn,\n",
    "            table_nte = tbe1,\n",
    "            jupyter_preview = True,\n",
    "            resolution = 150,\n",
    "           folder = folder)"
   ]
  },
  {
   "cell_type": "markdown",
   "metadata": {
    "kernel": "SoS"
   },
   "source": [
    "# Table 3: S02 emission reduction, financial ratio, Filter no polluted sector\n",
    "\n",
    "$$\n",
    "\\begin{aligned}\n",
    "\\text{SO2}_{cit}  &= \\alpha \\text{Financial ratio}_ci \\times \\text{Period} + \\gamma_{c} + \\gamma_{t}  + \\epsilon_{cit}\n",
    "\\end{aligned}\n",
    "$$"
   ]
  },
  {
   "cell_type": "code",
   "execution_count": null,
   "metadata": {
    "kernel": "SoS"
   },
   "outputs": [],
   "source": [
    "table_nb = 4\n",
    "table = 'table_{}'.format(table_nb)\n",
    "path = os.path.join(folder, table + '.txt')\n",
    "if os.path.exists(folder) == False:\n",
    "        os.mkdir(folder)\n",
    "for ext in ['.txt', '.tex', '.pdf']:\n",
    "    x = [a for a in os.listdir(folder) if a.endswith(ext)]\n",
    "    [os.remove(os.path.join(folder, i)) for i in x]\n",
    "path"
   ]
  },
  {
   "cell_type": "code",
   "execution_count": null,
   "metadata": {
    "kernel": "R"
   },
   "outputs": [],
   "source": [
    "%get path table\n",
    "t_0 <- felm(log(tso2) ~ asset_tangibility_ci  +\n",
    "            log(sales) + log(total_asset)\n",
    "            | fe_t_i + fe_c_t|0 | geocode4_corr, df_final %>% filter(polluted_di == 'BELOW'),\n",
    "            exactDOF = TRUE)\n",
    "t_1 <- felm(log(tso2) ~ asset_tangibility_ci  + current_ratio_ci + cash_over_totasset_ci +\n",
    "            log(sales) + log(total_asset)\n",
    "            | fe_t_i +fe_c_t|0 | geocode4_corr, df_final %>% filter(polluted_di == 'BELOW'),\n",
    "            exactDOF = TRUE)\n",
    "t_2 <- felm(log(tso2) ~ asset_tangibility_ci  + current_ratio_ci + cash_over_totasset_ci + liabilities_assets_ci + sales_assets_andersen_ci +\n",
    "            log(sales) + log(total_asset)\n",
    "            | fe_t_i +fe_c_t|0 | geocode4_corr, df_final %>% filter(polluted_di == 'BELOW'),\n",
    "            exactDOF = TRUE)\n",
    "\n",
    "t_3 <- felm(log(so2_intensity) ~ asset_tangibility_ci  +\n",
    "            log(sales) + log(total_asset)\n",
    "            | fe_t_i + fe_c_t|0 | geocode4_corr, df_final %>% filter(polluted_di == 'BELOW'),\n",
    "            exactDOF = TRUE)\n",
    "t_4 <- felm(log(so2_intensity) ~ asset_tangibility_ci  + current_ratio_ci + cash_over_totasset_ci +\n",
    "            log(sales) + log(total_asset)\n",
    "            | fe_t_i +fe_c_t|0 | geocode4_corr, df_final %>% filter(polluted_di == 'BELOW'),\n",
    "            exactDOF = TRUE)\n",
    "t_5 <- felm(log(so2_intensity) ~ asset_tangibility_ci  + current_ratio_ci + cash_over_totasset_ci + liabilities_assets_ci + sales_assets_andersen_ci +\n",
    "            log(sales) + log(total_asset)\n",
    "            | fe_t_i +fe_c_t|0 | geocode4_corr, df_final %>% filter(polluted_di == 'BELOW'),\n",
    "            exactDOF = TRUE)\n",
    "\n",
    "dep <- \"Dependent variable: SO2 emission\"\n",
    "fe1 <- list(\n",
    "    c(\"industry-year\", \"Yes\", \"Yes\", \"Yes\"),\n",
    "    c(\"city-year\", \"Yes\", \"Yes\", \"Yes\")\n",
    "             )\n",
    "table_1 <- go_latex(list(\n",
    "    t_0,t_1, t_2, t_3, t_4, t_5\n",
    "),\n",
    "    title=\"Baseline estimate, S02 emission reduction, financial ratio, Filter no polluted sector\",\n",
    "    dep_var = dep,\n",
    "    addFE=fe1,\n",
    "    save=TRUE,\n",
    "    note = FALSE,\n",
    "    name=path\n",
    ")"
   ]
  },
  {
   "cell_type": "code",
   "execution_count": null,
   "metadata": {
    "kernel": "SoS"
   },
   "outputs": [],
   "source": [
    "tbe1  = \"This table estimates eq(3). \" \\\n",
    "\"Heteroskedasticity-robust standard errors \" \\\n",
    "\"clustered at the city level appear inp arentheses. \"\\\n",
    "\"\\sym{*} Significance at the 10\\%, \\sym{**} Significance at the 5\\%, \\sym{***} Significance at the 1\\%.\"\n",
    "\n",
    "multicolumn ={\n",
    "    'SO2': 1,\n",
    "    'SO2 intensity': 5\n",
    "}\n",
    "\n",
    "#reorder = {\n",
    "    \n",
    "#    7:0,\n",
    "#    8:1,\n",
    "    #9:2\n",
    "#}\n",
    "\n",
    "#multi_lines_dep = '(city/product/trade regime/year)'\n",
    "#new_r = ['& test1', 'test2']\n",
    "lb.beautify(table_number = table_nb,\n",
    "            #reorder_var = reorder,\n",
    "            #multi_lines_dep = multi_lines_dep,\n",
    "            #new_row= new_r,\n",
    "            multicolumn = multicolumn,\n",
    "            table_nte = tbe1,\n",
    "            jupyter_preview = True,\n",
    "            resolution = 150,\n",
    "           folder = folder)"
   ]
  },
  {
   "cell_type": "code",
   "execution_count": null,
   "metadata": {
    "kernel": "SoS"
   },
   "outputs": [],
   "source": [
    "table_nb = 4\n",
    "table = 'table_{}'.format(table_nb)\n",
    "path = os.path.join(folder, table + '.txt')\n",
    "if os.path.exists(folder) == False:\n",
    "        os.mkdir(folder)\n",
    "for ext in ['.txt', '.tex', '.pdf']:\n",
    "    x = [a for a in os.listdir(folder) if a.endswith(ext)]\n",
    "    [os.remove(os.path.join(folder, i)) for i in x]\n",
    "path"
   ]
  },
  {
   "cell_type": "markdown",
   "metadata": {
    "kernel": "SoS",
    "nteract": {
     "transient": {
      "deleting": false
     }
    }
   },
   "source": [
    "# Generate reports"
   ]
  },
  {
   "cell_type": "code",
   "execution_count": null,
   "metadata": {
    "kernel": "python3",
    "nteract": {
     "transient": {
      "deleting": false
     }
    },
    "outputExpanded": false
   },
   "outputs": [],
   "source": [
    "import os, time, shutil, urllib, ipykernel, json\n",
    "from pathlib import Path\n",
    "from notebook import notebookapp"
   ]
  },
  {
   "cell_type": "code",
   "execution_count": null,
   "metadata": {
    "kernel": "python3",
    "nteract": {
     "transient": {
      "deleting": false
     }
    },
    "outputExpanded": false
   },
   "outputs": [],
   "source": [
    "def create_report(extension = \"html\", keep_code = False, notebookname = None):\n",
    "    \"\"\"\n",
    "    Create a report from the current notebook and save it in the \n",
    "    Report folder (Parent-> child directory)\n",
    "    \n",
    "    1. Exctract the current notbook name\n",
    "    2. Convert the Notebook \n",
    "    3. Move the newly created report\n",
    "    \n",
    "    Args:\n",
    "    extension: string. Can be \"html\", \"pdf\", \"md\"\n",
    "    \n",
    "    \n",
    "    \"\"\"\n",
    "    \n",
    "    ### Get notebook name\n",
    "    connection_file = os.path.basename(ipykernel.get_connection_file())\n",
    "    kernel_id = connection_file.split('-', 1)[0].split('.')[0]\n",
    "\n",
    "    for srv in notebookapp.list_running_servers():\n",
    "        try:\n",
    "            if srv['token']=='' and not srv['password']:  \n",
    "                req = urllib.request.urlopen(srv['url']+'api/sessions')\n",
    "            else:\n",
    "                req = urllib.request.urlopen(srv['url']+ \\\n",
    "                                             'api/sessions?token=' + \\\n",
    "                                             srv['token'])\n",
    "            sessions = json.load(req)\n",
    "            notebookname = sessions[0]['name']\n",
    "        except:\n",
    "            notebookname = notebookname  \n",
    "    \n",
    "    sep = '.'\n",
    "    path = os.getcwd()\n",
    "    #parent_path = str(Path(path).parent)\n",
    "    \n",
    "    ### Path report\n",
    "    #path_report = \"{}/Reports\".format(parent_path)\n",
    "    #path_report = \"{}/Reports\".format(path)\n",
    "    \n",
    "    ### Path destination\n",
    "    name_no_extension = notebookname.split(sep, 1)[0]\n",
    "    source_to_move = name_no_extension +'.{}'.format(extension)\n",
    "    dest = os.path.join(path,'Reports', source_to_move)\n",
    "    \n",
    "    ### Generate notebook\n",
    "    if keep_code:\n",
    "        os.system('jupyter nbconvert --to {} {}'.format(\n",
    "    extension,notebookname))\n",
    "    else:\n",
    "        os.system('jupyter nbconvert --no-input --to {} {}'.format(\n",
    "    extension,notebookname))\n",
    "    \n",
    "    ### Move notebook to report folder\n",
    "    #time.sleep(5)\n",
    "    shutil.move(source_to_move, dest)\n",
    "    print(\"Report Available at this adress:\\n {}\".format(dest))"
   ]
  },
  {
   "cell_type": "code",
   "execution_count": null,
   "metadata": {
    "kernel": "python3",
    "nteract": {
     "transient": {
      "deleting": false
     }
    },
    "outputExpanded": false
   },
   "outputs": [],
   "source": [
    "create_report(extension = \"html\", keep_code = False, notebookname = \"03_so2_fin_ratio_sector.ipynb\")"
   ]
  }
 ],
 "metadata": {
  "jupytext": {
   "formats": "ipynb,md"
  },
  "kernel_info": {
   "name": "python3"
  },
  "kernelspec": {
   "display_name": "SoS",
   "language": "sos",
   "name": "sos"
  },
  "language_info": {
   "codemirror_mode": "sos",
   "file_extension": ".sos",
   "mimetype": "text/x-sos",
   "name": "sos",
   "nbconvert_exporter": "sos_notebook.converter.SoS_Exporter",
   "pygments_lexer": "sos"
  },
  "nteract": {
   "version": "0.26.0"
  },
  "sos": {
   "kernels": [
    [
     "R",
     "ir",
     "R",
     "#DCDCDA",
     "r"
    ],
    [
     "SoS",
     "sos",
     "",
     "",
     "sos"
    ],
    [
     "python3",
     "python3",
     "python",
     "",
     {
      "name": "ipython",
      "version": 3
     }
    ]
   ],
   "version": "0.20.1"
  },
  "toc": {
   "base_numbering": 1,
   "nav_menu": {},
   "number_sections": true,
   "sideBar": true,
   "skip_h1_title": false,
   "title_cell": "Table of Contents",
   "title_sidebar": "Contents",
   "toc_cell": false,
   "toc_position": {},
   "toc_section_display": true,
   "toc_window_display": false
  }
 },
 "nbformat": 4,
 "nbformat_minor": 4
}
