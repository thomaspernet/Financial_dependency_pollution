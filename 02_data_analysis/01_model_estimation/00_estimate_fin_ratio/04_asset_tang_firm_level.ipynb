{
 "cells": [
  {
   "cell_type": "markdown",
   "metadata": {
    "kernel": "SoS"
   },
   "source": [
    "# US Name\n",
    "\n",
    "Estimate asset_tangibility as a function of  financial ratio and others (estimate table 6 Andersen, etc) \n",
    "\n",
    "# Business needs \n",
    "\n",
    "Estimate asset_tangibility as a function of  financial ratio, credit constraint, city policy mandate, tcz, spz, capital, employment, sales, output (Replicate table 6 Andersen Determinants of firm-level asset tangibility., Add proxy to firm size like output, sales, employment separately, add more parameters to the model specific to China like policy mandate, tcz, spz) \n",
    "\n",
    "## Description\n",
    "### Objective \n",
    "\n",
    "Test the coefficient sign and significant of the main variable\n",
    "\n",
    "### Tables\n",
    "\n",
    "1. Table 1: Baseline Estimate, determinants of firm-level asset tangibility.\n",
    "  1. asset_tangibility and financial ratio, credit constraint, city policy mandate, tcz, spz, capital, employment, sales, output\n",
    "\n",
    "**Cautious**\n",
    "Make sure no empty rows, otherwise it will be filtered out in the estimate\n",
    "\n",
    "\n",
    "# Metadata\n",
    "\n",
    "- Key: bnj64hblu96864v\n",
    "- Epic: Models\n",
    "- US: Firm level estimate\n",
    "- Task tag: #analytics, #firm-level, #tangible-asset, #andersen\n",
    "- Analytics reports: \n",
    "\n",
    "# Input Cloud Storage\n",
    "\n",
    "## Table/file\n",
    "\n",
    "**Name** \n",
    "\n",
    "- https://github.com/thomaspernet/Financial_dependency_pollution/blob/master/01_data_preprocessing/02_transform_tables/06_asif_financial_ratio_firm_baseline.md\n",
    "\n",
    "**Github**\n",
    "\n",
    "- DATA/ECON/FIRM_SURVEY/ASIF_CHINA/TRANSFORMED/FINANCIAL_RATIO/FIRM\n",
    "\n"
   ]
  },
  {
   "cell_type": "markdown",
   "metadata": {
    "kernel": "SoS"
   },
   "source": [
    "# Connexion server"
   ]
  },
  {
   "cell_type": "code",
   "execution_count": 1,
   "metadata": {
    "kernel": "SoS"
   },
   "outputs": [],
   "source": [
    "from awsPy.aws_authorization import aws_connector\n",
    "from awsPy.aws_s3 import service_s3\n",
    "from awsPy.aws_glue import service_glue\n",
    "from pathlib import Path\n",
    "import pandas as pd\n",
    "import numpy as np\n",
    "#import seaborn as sns\n",
    "import os, shutil, json\n",
    "\n",
    "path = os.getcwd()\n",
    "parent_path = str(Path(path).parent.parent.parent)\n",
    "\n",
    "\n",
    "name_credential = 'financial_dep_SO2_accessKeys.csv'\n",
    "region = 'eu-west-3'\n",
    "bucket = 'datalake-datascience'\n",
    "path_cred = \"{0}/creds/{1}\".format(parent_path, name_credential)"
   ]
  },
  {
   "cell_type": "code",
   "execution_count": 2,
   "metadata": {
    "kernel": "SoS"
   },
   "outputs": [],
   "source": [
    "con = aws_connector.aws_instantiate(credential = path_cred,\n",
    "                                       region = region)\n",
    "client= con.client_boto()\n",
    "s3 = service_s3.connect_S3(client = client,\n",
    "                      bucket = bucket, verbose = False)\n",
    "glue = service_glue.connect_glue(client = client) "
   ]
  },
  {
   "cell_type": "code",
   "execution_count": 3,
   "metadata": {
    "kernel": "SoS"
   },
   "outputs": [],
   "source": [
    "pandas_setting = True\n",
    "if pandas_setting:\n",
    "    #cm = sns.light_palette(\"green\", as_cmap=True)\n",
    "    pd.set_option('display.max_columns', None)\n",
    "    pd.set_option('display.max_colwidth', None)"
   ]
  },
  {
   "cell_type": "code",
   "execution_count": 4,
   "metadata": {
    "kernel": "SoS",
    "nteract": {
     "transient": {
      "deleting": false
     }
    }
   },
   "outputs": [],
   "source": [
    "os.environ['KMP_DUPLICATE_LIB_OK']='True'\n"
   ]
  },
  {
   "cell_type": "markdown",
   "metadata": {
    "kernel": "SoS"
   },
   "source": [
    "# Load tables\n",
    "\n",
    "Since we load the data as a Pandas DataFrame, we want to pass the `dtypes`. We load the schema from Glue to guess the types"
   ]
  },
  {
   "cell_type": "code",
   "execution_count": 5,
   "metadata": {
    "kernel": "SoS"
   },
   "outputs": [],
   "source": [
    "db = 'firms_survey'\n",
    "table = 'asif_financial_ratio_baseline_firm'"
   ]
  },
  {
   "cell_type": "code",
   "execution_count": 6,
   "metadata": {
    "kernel": "SoS"
   },
   "outputs": [],
   "source": [
    "dtypes = {}\n",
    "schema = (glue.get_table_information(database = db,\n",
    "                           table = table)\n",
    "          ['Table']['StorageDescriptor']['Columns']\n",
    "         )\n",
    "for key, value in enumerate(schema):\n",
    "    if value['Type'] in ['varchar(12)']:\n",
    "        format_ = 'string'\n",
    "    elif value['Type'] in ['decimal(21,5)', 'double', 'bigint', 'int', 'float']:\n",
    "        format_ = 'float'\n",
    "    else:\n",
    "        format_ = value['Type'] \n",
    "    dtypes.update(\n",
    "        {value['Name']:format_}\n",
    "    )"
   ]
  },
  {
   "cell_type": "code",
   "execution_count": 7,
   "metadata": {
    "kernel": "SoS"
   },
   "outputs": [],
   "source": [
    "download_data = False\n",
    "filename = 'df_{}'.format(table)\n",
    "full_path_filename = 'SQL_OUTPUT_ATHENA/CSV/{}.csv'.format(filename)\n",
    "path_local = os.path.join(str(Path(path).parent.parent.parent), \n",
    "                              \"00_data_catalogue/temporary_local_data\")\n",
    "df_path = os.path.join(path_local, filename + '.csv')\n",
    "if download_data:\n",
    "    \n",
    "    s3 = service_s3.connect_S3(client = client,\n",
    "                          bucket = bucket, verbose = False)\n",
    "    query = \"\"\"\n",
    "    SELECT * \n",
    "    FROM {}.{}\n",
    "    \"\"\".format(db, table)\n",
    "    df = (s3.run_query(\n",
    "        query=query,\n",
    "        database=db,\n",
    "        s3_output='SQL_OUTPUT_ATHENA',\n",
    "        filename=filename,  # Add filename to print dataframe\n",
    "        destination_key='SQL_OUTPUT_ATHENA/CSV',  #Use it temporarily\n",
    "        dtype = dtypes\n",
    "    )\n",
    "            )\n",
    "    s3.download_file(\n",
    "        key = full_path_filename\n",
    "    )\n",
    "    shutil.move(\n",
    "        filename + '.csv',\n",
    "        os.path.join(path_local, filename + '.csv')\n",
    "    )\n",
    "    s3.remove_file(full_path_filename)\n",
    "    df.head()"
   ]
  },
  {
   "cell_type": "code",
   "execution_count": 8,
   "metadata": {
    "kernel": "SoS",
    "nteract": {
     "transient": {
      "deleting": false
     }
    }
   },
   "outputs": [
    {
     "data": {
      "text/html": [
       "<div>\n",
       "<style scoped>\n",
       "    .dataframe tbody tr th:only-of-type {\n",
       "        vertical-align: middle;\n",
       "    }\n",
       "\n",
       "    .dataframe tbody tr th {\n",
       "        vertical-align: top;\n",
       "    }\n",
       "\n",
       "    .dataframe thead th {\n",
       "        text-align: right;\n",
       "    }\n",
       "</style>\n",
       "<table border=\"1\" class=\"dataframe\">\n",
       "  <thead>\n",
       "    <tr style=\"text-align: right;\">\n",
       "      <th></th>\n",
       "      <th>Name</th>\n",
       "      <th>Type</th>\n",
       "      <th>Comment</th>\n",
       "    </tr>\n",
       "  </thead>\n",
       "  <tbody>\n",
       "    <tr>\n",
       "      <th>0</th>\n",
       "      <td>firm</td>\n",
       "      <td>string</td>\n",
       "      <td>Firms ID</td>\n",
       "    </tr>\n",
       "    <tr>\n",
       "      <th>1</th>\n",
       "      <td>year</td>\n",
       "      <td>string</td>\n",
       "      <td></td>\n",
       "    </tr>\n",
       "    <tr>\n",
       "      <th>2</th>\n",
       "      <td>period</td>\n",
       "      <td>varchar(5)</td>\n",
       "      <td>if year prior to 2006 then False else true. Indicate break from 10 and 11 FYP</td>\n",
       "    </tr>\n",
       "    <tr>\n",
       "      <th>3</th>\n",
       "      <td>cic</td>\n",
       "      <td>string</td>\n",
       "      <td>4 digits industry code</td>\n",
       "    </tr>\n",
       "    <tr>\n",
       "      <th>4</th>\n",
       "      <td>indu_2</td>\n",
       "      <td>string</td>\n",
       "      <td>Two digits industry. If length cic equals to 3, then add 0 to indu_2</td>\n",
       "    </tr>\n",
       "    <tr>\n",
       "      <th>5</th>\n",
       "      <td>short</td>\n",
       "      <td>string</td>\n",
       "      <td>Industry short description</td>\n",
       "    </tr>\n",
       "    <tr>\n",
       "      <th>6</th>\n",
       "      <td>geocode4_corr</td>\n",
       "      <td>string</td>\n",
       "      <td>city code</td>\n",
       "    </tr>\n",
       "    <tr>\n",
       "      <th>7</th>\n",
       "      <td>tcz</td>\n",
       "      <td>string</td>\n",
       "      <td>Two control zone policy</td>\n",
       "    </tr>\n",
       "    <tr>\n",
       "      <th>8</th>\n",
       "      <td>spz</td>\n",
       "      <td>string</td>\n",
       "      <td>Special policy zone</td>\n",
       "    </tr>\n",
       "    <tr>\n",
       "      <th>9</th>\n",
       "      <td>ownership</td>\n",
       "      <td>string</td>\n",
       "      <td>Firms ownership</td>\n",
       "    </tr>\n",
       "    <tr>\n",
       "      <th>10</th>\n",
       "      <td>soe_vs_pri</td>\n",
       "      <td>varchar(7)</td>\n",
       "      <td>SOE vs PRIVATE</td>\n",
       "    </tr>\n",
       "    <tr>\n",
       "      <th>11</th>\n",
       "      <td>for_vs_dom</td>\n",
       "      <td>varchar(8)</td>\n",
       "      <td>FOREIGN vs DOMESTICT if ownership is HTM then FOREIGN</td>\n",
       "    </tr>\n",
       "    <tr>\n",
       "      <th>12</th>\n",
       "      <td>tso2_mandate_c</td>\n",
       "      <td>float</td>\n",
       "      <td>city reduction mandate in tonnes</td>\n",
       "    </tr>\n",
       "    <tr>\n",
       "      <th>13</th>\n",
       "      <td>in_10_000_tonnes</td>\n",
       "      <td>float</td>\n",
       "      <td>city reduction mandate in 10k tonnes</td>\n",
       "    </tr>\n",
       "    <tr>\n",
       "      <th>14</th>\n",
       "      <td>output</td>\n",
       "      <td>decimal(16,5)</td>\n",
       "      <td>Output</td>\n",
       "    </tr>\n",
       "    <tr>\n",
       "      <th>15</th>\n",
       "      <td>employment</td>\n",
       "      <td>decimal(16,5)</td>\n",
       "      <td>employment</td>\n",
       "    </tr>\n",
       "    <tr>\n",
       "      <th>16</th>\n",
       "      <td>capital</td>\n",
       "      <td>decimal(16,5)</td>\n",
       "      <td>capital</td>\n",
       "    </tr>\n",
       "    <tr>\n",
       "      <th>17</th>\n",
       "      <td>sales</td>\n",
       "      <td>decimal(16,5)</td>\n",
       "      <td>sales</td>\n",
       "    </tr>\n",
       "    <tr>\n",
       "      <th>18</th>\n",
       "      <td>total_asset</td>\n",
       "      <td>decimal(16,5)</td>\n",
       "      <td>Total asset</td>\n",
       "    </tr>\n",
       "    <tr>\n",
       "      <th>19</th>\n",
       "      <td>credit_constraint</td>\n",
       "      <td>float</td>\n",
       "      <td>Financial dependency. From paper https://www.sciencedirect.com/science/article/pii/S0147596715000311</td>\n",
       "    </tr>\n",
       "    <tr>\n",
       "      <th>20</th>\n",
       "      <td>d_credit_constraint</td>\n",
       "      <td>varchar(5)</td>\n",
       "      <td>Sectors financially dependant when above median</td>\n",
       "    </tr>\n",
       "    <tr>\n",
       "      <th>21</th>\n",
       "      <td>asset_tangibility_fcit</td>\n",
       "      <td>decimal(16,5)</td>\n",
       "      <td>Total fixed assets - Intangible assets</td>\n",
       "    </tr>\n",
       "    <tr>\n",
       "      <th>22</th>\n",
       "      <td>cash_over_totasset_fcit</td>\n",
       "      <td>decimal(21,5)</td>\n",
       "      <td>cuasset - short_term_investment - c80 - c81 - c82 divided by toasset</td>\n",
       "    </tr>\n",
       "    <tr>\n",
       "      <th>23</th>\n",
       "      <td>lag_cash_over_totasset_fcit</td>\n",
       "      <td>decimal(21,5)</td>\n",
       "      <td>lag cash over total asset</td>\n",
       "    </tr>\n",
       "    <tr>\n",
       "      <th>24</th>\n",
       "      <td>current_ratio_fcit</td>\n",
       "      <td>decimal(21,5)</td>\n",
       "      <td>cuasset/流动负债合计 (c95)</td>\n",
       "    </tr>\n",
       "    <tr>\n",
       "      <th>25</th>\n",
       "      <td>lag_current_ratio_fcit</td>\n",
       "      <td>decimal(21,5)</td>\n",
       "      <td>lag current ratio</td>\n",
       "    </tr>\n",
       "    <tr>\n",
       "      <th>26</th>\n",
       "      <td>quick_ratio_fcit</td>\n",
       "      <td>decimal(21,5)</td>\n",
       "      <td>(cuasset-存货 (c81) ) / 流动负债合计 (c95)</td>\n",
       "    </tr>\n",
       "    <tr>\n",
       "      <th>27</th>\n",
       "      <td>lag_quick_ratio_fcit</td>\n",
       "      <td>decimal(21,5)</td>\n",
       "      <td>lag quick ratio</td>\n",
       "    </tr>\n",
       "    <tr>\n",
       "      <th>28</th>\n",
       "      <td>liabilities_assets_fcit</td>\n",
       "      <td>decimal(21,5)</td>\n",
       "      <td>(流动负债合计 (c95) + 长期负债合计 (c97)) / toasset</td>\n",
       "    </tr>\n",
       "    <tr>\n",
       "      <th>29</th>\n",
       "      <td>lag_liabilities_assets_fcit</td>\n",
       "      <td>decimal(21,5)</td>\n",
       "      <td>lag liabilities over total asset</td>\n",
       "    </tr>\n",
       "    <tr>\n",
       "      <th>30</th>\n",
       "      <td>sales_assets_andersen_fcit</td>\n",
       "      <td>decimal(21,5)</td>\n",
       "      <td>Sales divided by total asset</td>\n",
       "    </tr>\n",
       "    <tr>\n",
       "      <th>31</th>\n",
       "      <td>return_on_asset_fcit</td>\n",
       "      <td>decimal(21,5)</td>\n",
       "      <td>sales - (主营业务成本 (c108) + 营业费用 (c113) + 管理费用 (c114) + 财产保险费 (c116) + 劳动、失业保险费 (c118)+ 财务费用 (c124) + 本年应付工资总额 (wage)) /toasset</td>\n",
       "    </tr>\n",
       "    <tr>\n",
       "      <th>32</th>\n",
       "      <td>fe_c_i</td>\n",
       "      <td>bigint</td>\n",
       "      <td>City industry fixed effect</td>\n",
       "    </tr>\n",
       "    <tr>\n",
       "      <th>33</th>\n",
       "      <td>fe_t_i</td>\n",
       "      <td>bigint</td>\n",
       "      <td>year industry fixed effect</td>\n",
       "    </tr>\n",
       "    <tr>\n",
       "      <th>34</th>\n",
       "      <td>fe_c_t</td>\n",
       "      <td>bigint</td>\n",
       "      <td>city industry fixed effect</td>\n",
       "    </tr>\n",
       "  </tbody>\n",
       "</table>\n",
       "</div>"
      ],
      "text/plain": [
       "                           Name           Type  \\\n",
       "0                          firm         string   \n",
       "1                          year         string   \n",
       "2                        period     varchar(5)   \n",
       "3                           cic         string   \n",
       "4                        indu_2         string   \n",
       "5                         short         string   \n",
       "6                 geocode4_corr         string   \n",
       "7                           tcz         string   \n",
       "8                           spz         string   \n",
       "9                     ownership         string   \n",
       "10                   soe_vs_pri     varchar(7)   \n",
       "11                   for_vs_dom     varchar(8)   \n",
       "12               tso2_mandate_c          float   \n",
       "13             in_10_000_tonnes          float   \n",
       "14                       output  decimal(16,5)   \n",
       "15                   employment  decimal(16,5)   \n",
       "16                      capital  decimal(16,5)   \n",
       "17                        sales  decimal(16,5)   \n",
       "18                  total_asset  decimal(16,5)   \n",
       "19            credit_constraint          float   \n",
       "20          d_credit_constraint     varchar(5)   \n",
       "21       asset_tangibility_fcit  decimal(16,5)   \n",
       "22      cash_over_totasset_fcit  decimal(21,5)   \n",
       "23  lag_cash_over_totasset_fcit  decimal(21,5)   \n",
       "24           current_ratio_fcit  decimal(21,5)   \n",
       "25       lag_current_ratio_fcit  decimal(21,5)   \n",
       "26             quick_ratio_fcit  decimal(21,5)   \n",
       "27         lag_quick_ratio_fcit  decimal(21,5)   \n",
       "28      liabilities_assets_fcit  decimal(21,5)   \n",
       "29  lag_liabilities_assets_fcit  decimal(21,5)   \n",
       "30   sales_assets_andersen_fcit  decimal(21,5)   \n",
       "31         return_on_asset_fcit  decimal(21,5)   \n",
       "32                       fe_c_i         bigint   \n",
       "33                       fe_t_i         bigint   \n",
       "34                       fe_c_t         bigint   \n",
       "\n",
       "                                                                                                                         Comment  \n",
       "0                                                                                                                       Firms ID  \n",
       "1                                                                                                                                 \n",
       "2                                                  if year prior to 2006 then False else true. Indicate break from 10 and 11 FYP  \n",
       "3                                                                                                         4 digits industry code  \n",
       "4                                                           Two digits industry. If length cic equals to 3, then add 0 to indu_2  \n",
       "5                                                                                                     Industry short description  \n",
       "6                                                                                                                      city code  \n",
       "7                                                                                                        Two control zone policy  \n",
       "8                                                                                                            Special policy zone  \n",
       "9                                                                                                                Firms ownership  \n",
       "10                                                                                                                SOE vs PRIVATE  \n",
       "11                                                                         FOREIGN vs DOMESTICT if ownership is HTM then FOREIGN  \n",
       "12                                                                                              city reduction mandate in tonnes  \n",
       "13                                                                                          city reduction mandate in 10k tonnes  \n",
       "14                                                                                                                        Output  \n",
       "15                                                                                                                    employment  \n",
       "16                                                                                                                       capital  \n",
       "17                                                                                                                         sales  \n",
       "18                                                                                                                   Total asset  \n",
       "19                          Financial dependency. From paper https://www.sciencedirect.com/science/article/pii/S0147596715000311  \n",
       "20                                                                               Sectors financially dependant when above median  \n",
       "21                                                                                        Total fixed assets - Intangible assets  \n",
       "22                                                          cuasset - short_term_investment - c80 - c81 - c82 divided by toasset  \n",
       "23                                                                                                     lag cash over total asset  \n",
       "24                                                                                                          cuasset/流动负债合计 (c95)  \n",
       "25                                                                                                             lag current ratio  \n",
       "26                                                                                            (cuasset-存货 (c81) ) / 流动负债合计 (c95)  \n",
       "27                                                                                                               lag quick ratio  \n",
       "28                                                                                       (流动负债合计 (c95) + 长期负债合计 (c97)) / toasset  \n",
       "29                                                                                              lag liabilities over total asset  \n",
       "30                                                                                                  Sales divided by total asset  \n",
       "31  sales - (主营业务成本 (c108) + 营业费用 (c113) + 管理费用 (c114) + 财产保险费 (c116) + 劳动、失业保险费 (c118)+ 财务费用 (c124) + 本年应付工资总额 (wage)) /toasset  \n",
       "32                                                                                                    City industry fixed effect  \n",
       "33                                                                                                    year industry fixed effect  \n",
       "34                                                                                                    city industry fixed effect  "
      ]
     },
     "execution_count": 8,
     "metadata": {},
     "output_type": "execute_result"
    }
   ],
   "source": [
    "pd.DataFrame(schema)"
   ]
  },
  {
   "cell_type": "markdown",
   "metadata": {
    "kernel": "SoS",
    "nteract": {
     "transient": {
      "deleting": false
     }
    }
   },
   "source": [
    "## Schema Latex table\n",
    "\n",
    "To rename a variable, please use the following template:\n",
    "\n",
    "```\n",
    "{\n",
    "    'old':'XX',\n",
    "    'new':'XX_1'\n",
    "    }\n",
    "```\n",
    "\n",
    "if you need to pass a latex format with `\\`, you need to duplicate it for instance, `\\text` becomes `\\\\text:\n",
    "\n",
    "```\n",
    "{\n",
    "    'old':'working\\_capital\\_i',\n",
    "    'new':'\\\\text{working capital}_i'\n",
    "    }\n",
    "```\n",
    "\n",
    "Then add it to the key `to_rename`"
   ]
  },
  {
   "cell_type": "code",
   "execution_count": 9,
   "metadata": {
    "kernel": "SoS",
    "nteract": {
     "transient": {
      "deleting": false
     }
    }
   },
   "outputs": [],
   "source": [
    "add_to_dic = True\n",
    "\n",
    "if add_to_dic:\n",
    "    if os.path.exists(\"schema_table.json\"):\n",
    "        os.remove(\"schema_table.json\")\n",
    "        data = {'to_rename':[], 'to_remove':[]}\n",
    "    dic_rename = [\n",
    "        ### control variables\n",
    "        {\n",
    "        'old':'output',\n",
    "        'new':'\\\\text{output}_{cit}'\n",
    "        },\n",
    "        {\n",
    "        'old':'employment',\n",
    "        'new':'\\\\text{employment}_{cit}'\n",
    "        },\n",
    "        {\n",
    "        'old':'capital',\n",
    "        'new':'\\\\text{capital}_{cit}'\n",
    "        },\n",
    "        {\n",
    "        'old':'sales',\n",
    "        'new':'\\\\text{sales}_{cit}'\n",
    "        },\n",
    "        {\n",
    "        'old':'total\\_asset',\n",
    "        'new':'\\\\text{total asset}_{cit}'\n",
    "        },\n",
    "        ####\n",
    "        {\n",
    "        'old':'asset\\_tangibility\\_fcit',\n",
    "        'new':'\\\\text{asset tangibility}_{fcit}'\n",
    "        },\n",
    "        {\n",
    "        'old':'cash\\_over\\_totasset\\_fcit',\n",
    "        'new':'\\\\text{cash over asset}_{fcit}'\n",
    "        },\n",
    "        {\n",
    "        'old':'lag\\_cash\\_over\\_totasset\\_fcit',\n",
    "        'new':'\\\\text{cash over asset}_{fcit}'\n",
    "        },\n",
    "        {\n",
    "        'old':'sales\\_assets\\_andersen\\_fcit',\n",
    "        'new':'\\\\text{sales over assets}_{fcit}'\n",
    "        },\n",
    "        {\n",
    "        'old':'return\\_on\\_asset\\_fcit',\n",
    "        'new':'\\\\text{return on asset}_{fcit}'\n",
    "        },\n",
    "        {\n",
    "        'old':'liabilities\\_assets\\_fcit',\n",
    "        'new':'\\\\text{liabilities assets}_{fcit}'\n",
    "        },\n",
    "        {\n",
    "        'old':'lag\\_liabilities\\_assets\\_fcit',\n",
    "        'new':'\\\\text{liabilities assets}_{fcit}'\n",
    "        },\n",
    "        {\n",
    "        'old':'quick\\_ratio\\_fcit',\n",
    "        'new':'\\\\text{quick ratio}_{fcit}'\n",
    "        },\n",
    "        {\n",
    "        'old':'lag\\_quick\\_ratio\\_fcit',\n",
    "        'new':'\\\\text{quick ratio}_{fcit}'\n",
    "        },\n",
    "        {\n",
    "        'old':'current\\_ratio\\_fcit',\n",
    "        'new':'\\\\text{current ratio}_{fcit}'\n",
    "        },\n",
    "        {\n",
    "        'old':'lag\\_current\\_ratio\\_fcit',\n",
    "        'new':'\\\\text{current ratio}_{fcit}'\n",
    "        },\n",
    "        {\n",
    "        'old':'d\\_credit\\_constraintBELOW',\n",
    "        'new':'\\\\text{Fin dep}_{i}'\n",
    "        }\n",
    "    ]\n",
    "\n",
    "    data['to_rename'].extend(dic_rename)\n",
    "    with open('schema_table.json', 'w') as outfile:\n",
    "        json.dump(data, outfile)"
   ]
  },
  {
   "cell_type": "code",
   "execution_count": 10,
   "metadata": {
    "kernel": "SoS"
   },
   "outputs": [],
   "source": [
    "import function.latex_beautify as lb\n",
    "\n",
    "#%load_ext autoreload\n",
    "#%autoreload 2"
   ]
  },
  {
   "cell_type": "code",
   "execution_count": 11,
   "metadata": {
    "kernel": "R"
   },
   "outputs": [
    {
     "name": "stderr",
     "output_type": "stream",
     "text": [
      "Registered S3 methods overwritten by 'ggplot2':\n",
      "  method         from \n",
      "  [.quosures     rlang\n",
      "  c.quosures     rlang\n",
      "  print.quosures rlang\n",
      "Registered S3 method overwritten by 'rvest':\n",
      "  method            from\n",
      "  read_xml.response xml2\n",
      "── Attaching packages ─────────────────────────────────────── tidyverse 1.2.1 ──\n",
      "✔ ggplot2 3.1.1       ✔ purrr   0.3.2  \n",
      "✔ tibble  2.1.1       ✔ dplyr   0.8.0.1\n",
      "✔ tidyr   0.8.3       ✔ stringr 1.4.0  \n",
      "✔ readr   1.3.1       ✔ forcats 0.4.0  \n",
      "── Conflicts ────────────────────────────────────────── tidyverse_conflicts() ──\n",
      "✖ dplyr::filter() masks stats::filter()\n",
      "✖ dplyr::lag()    masks stats::lag()\n",
      "Loading required package: Matrix\n",
      "\n",
      "Attaching package: ‘Matrix’\n",
      "\n",
      "The following object is masked from ‘package:tidyr’:\n",
      "\n",
      "    expand\n",
      "\n",
      "\n",
      "Please cite as: \n",
      "\n",
      " Hlavac, Marek (2018). stargazer: Well-Formatted Regression and Summary Statistics Tables.\n",
      " R package version 5.2.2. https://CRAN.R-project.org/package=stargazer \n",
      "\n"
     ]
    }
   ],
   "source": [
    "options(warn=-1)\n",
    "library(tidyverse)\n",
    "library(lfe)\n",
    "#library(lazyeval)\n",
    "library('progress')\n",
    "path = \"function/table_golatex.R\"\n",
    "source(path)"
   ]
  },
  {
   "cell_type": "code",
   "execution_count": 12,
   "metadata": {
    "kernel": "R"
   },
   "outputs": [
    {
     "name": "stderr",
     "output_type": "stream",
     "text": [
      "Parsed with column specification:\n",
      "cols(\n",
      "  .default = col_double(),\n",
      "  period = col_logical(),\n",
      "  short = col_character(),\n",
      "  ownership = col_character(),\n",
      "  soe_vs_pri = col_character(),\n",
      "  for_vs_dom = col_character(),\n",
      "  d_credit_constraint = col_character()\n",
      ")\n",
      "See spec(...) for full column specifications.\n"
     ]
    }
   ],
   "source": [
    "%get df_path\n",
    "df_final <- read_csv(df_path) %>%\n",
    "mutate_if(is.character, as.factor) %>%\n",
    "    mutate_at(vars(starts_with(\"fe\")), as.factor) %>%\n",
    "mutate(\n",
    "    period = relevel(as.factor(period), ref='FALSE'),\n",
    "    soe_vs_pri = relevel(as.factor(soe_vs_pri), ref='SOE'),\n",
    "    #asset_tangibility_fcit = asset_tangibility_fcit /1000000000,\n",
    "    #cash_over_totasset_fcit = cash_over_totasset_fcit /100000,\n",
    "    #liabilities_assets_fcit = liabilities_assets_fcit /100000,\n",
    ")"
   ]
  },
  {
   "cell_type": "markdown",
   "metadata": {
    "kernel": "SoS"
   },
   "source": [
    "## 1. Table 1: Baseline Estimate, determinants of firm-level asset tangibility.\n",
    "\n",
    "$$\n",
    "\\begin{aligned}\n",
    "\\text { Asset Tangibility }_{f i t}=\\delta_{7} \\text { Current Ratio }_{f i t-1}+\\delta_{8} \\text { Cash/Assets }_{f i t-1}+\\delta_{9} \\text { Liabilities/Assets }_{f i t-1}+\\Lambda_{\\text {fit }}^{\\prime} X+\\vartheta_{i t}+u_{\\text {fit }}\n",
    "\\end{aligned}\n",
    "$$\n",
    "\n",
    "\n",
    "* Column 1: Baseline\n",
    "    * FE: \n",
    "        - fe 1: `firm`\n",
    "* Column 2: Add control\n",
    "    * FE: \n",
    "        - fe 1: `firm`\n",
    "* Column 3: Test credit constraint interaction\n",
    "    * FE: \n",
    "        - fe 1: `firm`\n",
    "        \n",
    "![](https://drive.google.com/uc?export=view&id=12uyrdOY5hskcWeH9ZlU8y4MazgEeEHWK)"
   ]
  },
  {
   "cell_type": "code",
   "execution_count": null,
   "metadata": {
    "kernel": "SoS",
    "nteract": {
     "transient": {
      "deleting": false
     }
    }
   },
   "outputs": [],
   "source": [
    "folder = 'Tables_0'\n",
    "table_nb = 1\n",
    "table = 'table_{}'.format(table_nb)\n",
    "path = os.path.join(folder, table + '.txt')\n",
    "if os.path.exists(folder) == False:\n",
    "        os.mkdir(folder)\n",
    "for ext in ['.txt', '.tex', '.pdf']:\n",
    "    x = [a for a in os.listdir(folder) if a.endswith(ext)]\n",
    "    [os.remove(os.path.join(folder, i)) for i in x]"
   ]
  },
  {
   "cell_type": "code",
   "execution_count": null,
   "metadata": {
    "kernel": "R"
   },
   "outputs": [],
   "source": [
    "%get path table\n",
    "t_0 <- felm(log(asset_tangibility_fcit) ~ log(current_ratio_fcit) +\n",
    "            log(cash_over_totasset_fcit) +\n",
    "            log(liabilities_assets_fcit)\n",
    "            | firm + fe_t_i|0 | firm, df_final,\n",
    "            exactDOF = TRUE)\n",
    "\n",
    "t_1 <- felm(log(asset_tangibility_fcit) ~ log(current_ratio_fcit) +\n",
    "            log(cash_over_totasset_fcit) + \n",
    "            log(liabilities_assets_fcit) +\n",
    "            log(sales_assets_andersen_fcit) \n",
    "            | firm+ fe_t_i|0 | firm,df_final,\n",
    "            exactDOF = TRUE)\n",
    "\n",
    "t_2 <- felm(log(asset_tangibility_fcit) ~ log(current_ratio_fcit) +\n",
    "            log(cash_over_totasset_fcit) + \n",
    "            log(liabilities_assets_fcit) +\n",
    "            log(current_ratio_fcit) * d_credit_constraint  + \n",
    "            log(cash_over_totasset_fcit) * d_credit_constraint + \n",
    "            log(liabilities_assets_fcit) * d_credit_constraint\n",
    "            | firm+ fe_t_i|0 | firm, df_final,\n",
    "            exactDOF = TRUE)\n",
    "\n",
    "### more controls\n",
    "t_3 <- felm(log(asset_tangibility_fcit) ~ log(current_ratio_fcit) +\n",
    "            log(cash_over_totasset_fcit) + \n",
    "            log(liabilities_assets_fcit) +\n",
    "            log(output)\n",
    "            | firm + fe_t_i|0 | firm,df_final,\n",
    "            exactDOF = TRUE)\n",
    "\n",
    "t_4 <- felm(log(asset_tangibility_fcit) ~ log(current_ratio_fcit) +\n",
    "            log(cash_over_totasset_fcit) +\n",
    "            log(liabilities_assets_fcit) +\n",
    "            log(sales_assets_andersen_fcit) +\n",
    "            log(output)\n",
    "            | firm+ fe_t_i|0 | firm, df_final,\n",
    "            exactDOF = TRUE)\n",
    "\n",
    "t_5 <- felm(log(asset_tangibility_fcit) ~ log(current_ratio_fcit) +\n",
    "            log(cash_over_totasset_fcit) +\n",
    "            log(liabilities_assets_fcit) +\n",
    "            log(current_ratio_fcit) * d_credit_constraint  + \n",
    "            log(cash_over_totasset_fcit) * d_credit_constraint + \n",
    "            log(liabilities_assets_fcit) * d_credit_constraint + \n",
    "            log(output)\n",
    "            | firm+ fe_t_i|0 | firm,df_final,\n",
    "            exactDOF = TRUE)\n",
    "            \n",
    "dep <- \"Dependent variable: Asset tangilibility\"\n",
    "fe1 <- list(\n",
    "    c(\"firm\", \"Yes\", \"Yes\", \"Yes\", \"Yes\", \"Yes\", \"Yes\"),\n",
    "    c(\"industry-year\", \"Yes\", \"Yes\", \"Yes\", \"Yes\", \"Yes\", \"Yes\")\n",
    "             )\n",
    "\n",
    "table_1 <- go_latex(list(\n",
    "    t_0,t_1, t_2, t_3, t_4, t_5\n",
    "),\n",
    "    title=\"Baseline Estimate, determinants of firm-level asset tangibility\",\n",
    "    dep_var = dep,\n",
    "    addFE=fe1,\n",
    "    save=TRUE,\n",
    "    note = FALSE,\n",
    "    name=path\n",
    ") "
   ]
  },
  {
   "cell_type": "code",
   "execution_count": null,
   "metadata": {
    "kernel": "SoS"
   },
   "outputs": [],
   "source": [
    "tbe1  = \"This table estimates eq(3). \" \\\n",
    "\"Heteroskedasticity-robust standard errors\" \\\n",
    "\"clustered at the firm level appear in parentheses.\"\\\n",
    "\"\\sym{*} Significance at the 10\\%, \\sym{**} Significance at the 5\\%, \\sym{***} Significance at the 1\\%.\"\n",
    "\n",
    "#multicolumn ={\n",
    "#    'Eligible': 2,\n",
    "#    'Non-Eligible': 1,\n",
    "#    'All': 1,\n",
    "#    'All benchmark': 1,\n",
    "#}\n",
    "\n",
    "#multi_lines_dep = '(city/product/trade regime/year)'\n",
    "#new_r = ['& test1', 'test2']\n",
    "lb.beautify(table_number = table_nb,\n",
    "            #reorder_var = reorder,\n",
    "            #multi_lines_dep = multi_lines_dep,\n",
    "            #new_row= new_r,\n",
    "            #multicolumn = multicolumn,\n",
    "            table_nte = tbe1,\n",
    "            jupyter_preview = True,\n",
    "            resolution = 200,\n",
    "            folder = folder)"
   ]
  },
  {
   "cell_type": "markdown",
   "metadata": {
    "kernel": "SoS"
   },
   "source": [
    "Lagged value"
   ]
  },
  {
   "cell_type": "code",
   "execution_count": null,
   "metadata": {
    "kernel": "SoS"
   },
   "outputs": [],
   "source": [
    "folder = 'Tables_0'\n",
    "table_nb = 2\n",
    "table = 'table_{}'.format(table_nb)\n",
    "path = os.path.join(folder, table + '.txt')\n",
    "if os.path.exists(folder) == False:\n",
    "        os.mkdir(folder)\n",
    "for ext in ['.txt', '.tex', '.pdf']:\n",
    "    x = [a for a in os.listdir(folder) if a.endswith(ext)]\n",
    "    [os.remove(os.path.join(folder, i)) for i in x]"
   ]
  },
  {
   "cell_type": "code",
   "execution_count": null,
   "metadata": {
    "kernel": "R"
   },
   "outputs": [],
   "source": [
    "%get path table\n",
    "t_0 <- felm(log(asset_tangibility_fcit) ~ log(lag_current_ratio_fcit) +\n",
    "            log(lag_cash_over_totasset_fcit) +\n",
    "            log(lag_liabilities_assets_fcit)\n",
    "            | firm + fe_t_i|0 | firm, df_final,\n",
    "            exactDOF = TRUE)\n",
    "\n",
    "t_1 <- felm(log(asset_tangibility_fcit) ~ log(lag_current_ratio_fcit) +\n",
    "            log(lag_cash_over_totasset_fcit) + \n",
    "            log(lag_liabilities_assets_fcit) +\n",
    "            log(sales_assets_andersen_fcit) \n",
    "            | firm+ fe_t_i|0 | firm,df_final,\n",
    "            exactDOF = TRUE)\n",
    "\n",
    "t_2 <- felm(log(asset_tangibility_fcit) ~ log(lag_current_ratio_fcit) +\n",
    "            log(lag_cash_over_totasset_fcit) + \n",
    "            log(lag_liabilities_assets_fcit) +\n",
    "            log(lag_current_ratio_fcit) * d_credit_constraint  + \n",
    "            log(lag_cash_over_totasset_fcit) * d_credit_constraint + \n",
    "            log(lag_liabilities_assets_fcit) * d_credit_constraint\n",
    "            | firm+ fe_t_i|0 | firm, df_final,\n",
    "            exactDOF = TRUE)\n",
    "\n",
    "### more controls\n",
    "t_3 <- felm(log(asset_tangibility_fcit) ~ log(lag_current_ratio_fcit) +\n",
    "            log(lag_cash_over_totasset_fcit) + \n",
    "            log(lag_liabilities_assets_fcit) +\n",
    "            log(output)\n",
    "            | firm + fe_t_i|0 | firm,df_final,\n",
    "            exactDOF = TRUE)\n",
    "\n",
    "t_4 <- felm(log(asset_tangibility_fcit) ~ log(lag_current_ratio_fcit) +\n",
    "            log(lag_cash_over_totasset_fcit) +\n",
    "            log(lag_liabilities_assets_fcit) +\n",
    "            log(sales_assets_andersen_fcit) +\n",
    "            log(output)\n",
    "            | firm+ fe_t_i|0 | firm, df_final,\n",
    "            exactDOF = TRUE)\n",
    "\n",
    "t_5 <- felm(log(asset_tangibility_fcit) ~ log(lag_current_ratio_fcit) +\n",
    "            log(lag_cash_over_totasset_fcit) +\n",
    "            log(lag_liabilities_assets_fcit) +\n",
    "            log(lag_current_ratio_fcit) * d_credit_constraint  + \n",
    "            log(lag_cash_over_totasset_fcit) * d_credit_constraint + \n",
    "            log(lag_liabilities_assets_fcit) * d_credit_constraint + \n",
    "            log(output)\n",
    "            | firm+ fe_t_i|0 | firm,df_final,\n",
    "            exactDOF = TRUE)\n",
    "            \n",
    "dep <- \"Dependent variable: Asset tangilibility\"\n",
    "fe1 <- list(\n",
    "    c(\"firm\", \"Yes\", \"Yes\", \"Yes\", \"Yes\", \"Yes\", \"Yes\"),\n",
    "    c(\"industry-year\", \"Yes\", \"Yes\", \"Yes\", \"Yes\", \"Yes\", \"Yes\")\n",
    "             )\n",
    "\n",
    "table_1 <- go_latex(list(\n",
    "    t_0,t_1, t_2, t_3, t_4, t_5\n",
    "),\n",
    "    title=\"Baseline Estimate, determinants of firm-level asset tangibility (lagged)\",\n",
    "    dep_var = dep,\n",
    "    addFE=fe1,\n",
    "    save=TRUE,\n",
    "    note = FALSE,\n",
    "    name=path\n",
    ") "
   ]
  },
  {
   "cell_type": "code",
   "execution_count": null,
   "metadata": {
    "kernel": "SoS"
   },
   "outputs": [],
   "source": [
    "tbe1  = \"This table estimates eq(3). \" \\\n",
    "\"Heteroskedasticity-robust standard errors\" \\\n",
    "\"clustered at the firm level appear in parentheses.\"\\\n",
    "\" Current ratio, cash over asset and liabilities over asset are lagged by one year. \"\\\n",
    "\"\\sym{*} Significance at the 10\\%, \\sym{**} Significance at the 5\\%, \\sym{***} Significance at the 1\\%.\"\n",
    "\n",
    "#multicolumn ={\n",
    "#    'Eligible': 2,\n",
    "#    'Non-Eligible': 1,\n",
    "#    'All': 1,\n",
    "#    'All benchmark': 1,\n",
    "#}\n",
    "\n",
    "#multi_lines_dep = '(city/product/trade regime/year)'\n",
    "#new_r = ['& test1', 'test2']\n",
    "lb.beautify(table_number = table_nb,\n",
    "            #reorder_var = reorder,\n",
    "            #multi_lines_dep = multi_lines_dep,\n",
    "            #new_row= new_r,\n",
    "            #multicolumn = multicolumn,\n",
    "            table_nte = tbe1,\n",
    "            jupyter_preview = True,\n",
    "            resolution = 200,\n",
    "            folder = folder)"
   ]
  },
  {
   "cell_type": "markdown",
   "metadata": {
    "kernel": "SoS"
   },
   "source": [
    "# Table 2: Private vs SOE"
   ]
  },
  {
   "cell_type": "code",
   "execution_count": 13,
   "metadata": {
    "kernel": "SoS"
   },
   "outputs": [],
   "source": [
    "folder = 'Tables_0'\n",
    "table_nb = 2\n",
    "table = 'table_{}'.format(table_nb)\n",
    "path = os.path.join(folder, table + '.txt')\n",
    "if os.path.exists(folder) == False:\n",
    "        os.mkdir(folder)\n",
    "for ext in ['.txt', '.tex', '.pdf']:\n",
    "    x = [a for a in os.listdir(folder) if a.endswith(ext)]\n",
    "    [os.remove(os.path.join(folder, i)) for i in x]"
   ]
  },
  {
   "cell_type": "code",
   "execution_count": 14,
   "metadata": {
    "kernel": "R"
   },
   "outputs": [],
   "source": [
    "%get path table\n",
    "t_0 <- felm(log(asset_tangibility_fcit) ~ log(current_ratio_fcit) +\n",
    "            log(cash_over_totasset_fcit) + \n",
    "            log(liabilities_assets_fcit) +\n",
    "            log(current_ratio_fcit) * soe_vs_pri  + \n",
    "            log(cash_over_totasset_fcit) * soe_vs_pri + \n",
    "            log(liabilities_assets_fcit)  * soe_vs_pri\n",
    "            | firm+ fe_t_i|0 | firm, df_final,\n",
    "            exactDOF = TRUE)\n",
    "\n",
    "### more controls\n",
    "t_1 <- felm(log(asset_tangibility_fcit) ~ log(current_ratio_fcit) +\n",
    "            log(cash_over_totasset_fcit) +\n",
    "            log(liabilities_assets_fcit) +\n",
    "            log(current_ratio_fcit)  * soe_vs_pri  + \n",
    "            log(cash_over_totasset_fcit)  * soe_vs_pri + \n",
    "            log(liabilities_assets_fcit)  * soe_vs_pri + \n",
    "            log(output)\n",
    "            | firm+ fe_t_i|0 | firm,df_final,\n",
    "            exactDOF = TRUE)\n",
    "            \n",
    "dep <- \"Dependent variable: Asset tangilibility\"\n",
    "fe1 <- list(\n",
    "    c(\"firm\", \"Yes\", \"Yes\"),\n",
    "    c(\"industry-year\", \"Yes\", \"Yes\")\n",
    "             )\n",
    "\n",
    "table_1 <- go_latex(list(\n",
    "    t_0,t_1\n",
    "),\n",
    "    title=\"Baseline Estimate, determinants of firm-level asset tangibility (SOE vs PRI)\",\n",
    "    dep_var = dep,\n",
    "    addFE=fe1,\n",
    "    save=TRUE,\n",
    "    note = FALSE,\n",
    "    name=path\n",
    ") "
   ]
  },
  {
   "cell_type": "code",
   "execution_count": 15,
   "metadata": {
    "kernel": "SoS"
   },
   "outputs": [
    {
     "data": {
      "image/png": "[encoded data removed]",
      "text/plain": [
       "<wand.image.Image: a57fb59 'PDF' (955x866)>"
      ]
     },
     "metadata": {},
     "output_type": "display_data"
    }
   ],
   "source": [
    "tbe1  = \"This table estimates eq(3). \" \\\n",
    "\"Heteroskedasticity-robust standard errors\" \\\n",
    "\"clustered at the firm level appear in parentheses.\"\\\n",
    "\" Current ratio, cash over asset and liabilities over asset are lagged by one year. \"\\\n",
    "\"\\sym{*} Significance at the 10\\%, \\sym{**} Significance at the 5\\%, \\sym{***} Significance at the 1\\%.\"\n",
    "\n",
    "#multicolumn ={\n",
    "#    'Eligible': 2,\n",
    "#    'Non-Eligible': 1,\n",
    "#    'All': 1,\n",
    "#    'All benchmark': 1,\n",
    "#}\n",
    "\n",
    "#multi_lines_dep = '(city/product/trade regime/year)'\n",
    "#new_r = ['& test1', 'test2']\n",
    "lb.beautify(table_number = table_nb,\n",
    "            #reorder_var = reorder,\n",
    "            #multi_lines_dep = multi_lines_dep,\n",
    "            #new_row= new_r,\n",
    "            #multicolumn = multicolumn,\n",
    "            table_nte = tbe1,\n",
    "            jupyter_preview = True,\n",
    "            resolution = 200,\n",
    "            folder = folder)"
   ]
  },
  {
   "cell_type": "markdown",
   "metadata": {
    "kernel": "SoS"
   },
   "source": [
    "# Table 3: TCZ "
   ]
  },
  {
   "cell_type": "code",
   "execution_count": 22,
   "metadata": {
    "kernel": "SoS"
   },
   "outputs": [],
   "source": [
    "folder = 'Tables_0'\n",
    "table_nb = 2\n",
    "table = 'table_{}'.format(table_nb)\n",
    "path = os.path.join(folder, table + '.txt')\n",
    "if os.path.exists(folder) == False:\n",
    "        os.mkdir(folder)\n",
    "for ext in ['.txt', '.tex', '.pdf']:\n",
    "    x = [a for a in os.listdir(folder) if a.endswith(ext)]\n",
    "    [os.remove(os.path.join(folder, i)) for i in x]"
   ]
  },
  {
   "cell_type": "code",
   "execution_count": 23,
   "metadata": {
    "kernel": "R"
   },
   "outputs": [],
   "source": [
    "%get path table\n",
    "t_0 <- felm(log(asset_tangibility_fcit) ~ log(current_ratio_fcit) +\n",
    "            log(cash_over_totasset_fcit) + \n",
    "            log(liabilities_assets_fcit) +\n",
    "            log(current_ratio_fcit) * tcz  + \n",
    "            log(cash_over_totasset_fcit) * tcz + \n",
    "            log(liabilities_assets_fcit)  * tcz\n",
    "            | firm+ fe_t_i|0 | firm, df_final,\n",
    "            exactDOF = TRUE)\n",
    "\n",
    "### more controls\n",
    "t_1 <- felm(log(asset_tangibility_fcit) ~ log(current_ratio_fcit) +\n",
    "            log(cash_over_totasset_fcit) +\n",
    "            log(liabilities_assets_fcit) +\n",
    "            log(current_ratio_fcit)  * tcz  + \n",
    "            log(cash_over_totasset_fcit)  * tcz + \n",
    "            log(liabilities_assets_fcit)  * tcz + \n",
    "            log(output)\n",
    "            | firm+ fe_t_i|0 | firm,df_final,\n",
    "            exactDOF = TRUE)\n",
    "            \n",
    "dep <- \"Dependent variable: Asset tangilibility\"\n",
    "fe1 <- list(\n",
    "    c(\"firm\", \"Yes\", \"Yes\"),\n",
    "    c(\"industry-year\", \"Yes\", \"Yes\")\n",
    "             )\n",
    "\n",
    "table_1 <- go_latex(list(\n",
    "    t_0,t_1\n",
    "),\n",
    "    title=\"Baseline Estimate, determinants of firm-level asset tangibility (TCZ)\",\n",
    "    dep_var = dep,\n",
    "    addFE=fe1,\n",
    "    save=TRUE,\n",
    "    note = FALSE,\n",
    "    name=path\n",
    ") "
   ]
  },
  {
   "cell_type": "code",
   "execution_count": 27,
   "metadata": {
    "kernel": "SoS"
   },
   "outputs": [
    {
     "data": {
      "image/png": "[encoded data removed]",
      "text/plain": [
       "<wand.image.Image: e3c17d8 'PDF' (716x774)>"
      ]
     },
     "metadata": {},
     "output_type": "display_data"
    }
   ],
   "source": [
    "tbe1  = \"This table estimates eq(3). \" \\\n",
    "\"Heteroskedasticity-robust standard errors\" \\\n",
    "\"clustered at the firm level appear in parentheses.\"\\\n",
    "\" Current ratio, cash over asset and liabilities over asset are lagged by one year. \"\\\n",
    "\"\\sym{*} Significance at the 10\\%, \\sym{**} Significance at the 5\\%, \\sym{***} Significance at the 1\\%.\"\n",
    "\n",
    "#multicolumn ={\n",
    "#    'Eligible': 2,\n",
    "#    'Non-Eligible': 1,\n",
    "#    'All': 1,\n",
    "#    'All benchmark': 1,\n",
    "#}\n",
    "\n",
    "#multi_lines_dep = '(city/product/trade regime/year)'\n",
    "#new_r = ['& test1', 'test2']\n",
    "lb.beautify(table_number = table_nb,\n",
    "            #reorder_var = reorder,\n",
    "            #multi_lines_dep = multi_lines_dep,\n",
    "            #new_row= new_r,\n",
    "            #multicolumn = multicolumn,\n",
    "            table_nte = tbe1,\n",
    "            jupyter_preview = True,\n",
    "            resolution = 150,\n",
    "            folder = folder)"
   ]
  },
  {
   "cell_type": "markdown",
   "metadata": {
    "kernel": "SoS"
   },
   "source": [
    "# Table 4: TCZ "
   ]
  },
  {
   "cell_type": "code",
   "execution_count": 28,
   "metadata": {
    "kernel": "SoS"
   },
   "outputs": [],
   "source": [
    "folder = 'Tables_0'\n",
    "table_nb = 2\n",
    "table = 'table_{}'.format(table_nb)\n",
    "path = os.path.join(folder, table + '.txt')\n",
    "if os.path.exists(folder) == False:\n",
    "        os.mkdir(folder)\n",
    "for ext in ['.txt', '.tex', '.pdf']:\n",
    "    x = [a for a in os.listdir(folder) if a.endswith(ext)]\n",
    "    [os.remove(os.path.join(folder, i)) for i in x]"
   ]
  },
  {
   "cell_type": "code",
   "execution_count": 29,
   "metadata": {
    "kernel": "R"
   },
   "outputs": [],
   "source": [
    "%get path table\n",
    "t_0 <- felm(log(asset_tangibility_fcit) ~ log(current_ratio_fcit) +\n",
    "            log(cash_over_totasset_fcit) + \n",
    "            log(liabilities_assets_fcit) +\n",
    "            log(current_ratio_fcit) * spz  + \n",
    "            log(cash_over_totasset_fcit) * spz + \n",
    "            log(liabilities_assets_fcit)  * spz\n",
    "            | firm+ fe_t_i|0 | firm, df_final,\n",
    "            exactDOF = TRUE)\n",
    "\n",
    "### more controls\n",
    "t_1 <- felm(log(asset_tangibility_fcit) ~ log(current_ratio_fcit) +\n",
    "            log(cash_over_totasset_fcit) +\n",
    "            log(liabilities_assets_fcit) +\n",
    "            log(current_ratio_fcit)  * spz  + \n",
    "            log(cash_over_totasset_fcit)  * spz + \n",
    "            log(liabilities_assets_fcit)  * spz + \n",
    "            log(output)\n",
    "            | firm + fe_t_i|0 | firm,df_final,\n",
    "            exactDOF = TRUE)\n",
    "            \n",
    "dep <- \"Dependent variable: Asset tangilibility\"\n",
    "fe1 <- list(\n",
    "    c(\"firm\", \"Yes\", \"Yes\"),\n",
    "    c(\"industry-year\", \"Yes\", \"Yes\")\n",
    "             )\n",
    "\n",
    "table_1 <- go_latex(list(\n",
    "    t_0,t_1\n",
    "),\n",
    "    title=\"Baseline Estimate, determinants of firm-level asset tangibility (SPZ)\",\n",
    "    dep_var = dep,\n",
    "    addFE=fe1,\n",
    "    save=TRUE,\n",
    "    note = FALSE,\n",
    "    name=path\n",
    ") "
   ]
  },
  {
   "cell_type": "code",
   "execution_count": 30,
   "metadata": {
    "kernel": "SoS"
   },
   "outputs": [
    {
     "data": {
      "image/png": "[encoded data removed]",
      "text/plain": [
       "<wand.image.Image: 8037f4e 'PDF' (716x746)>"
      ]
     },
     "metadata": {},
     "output_type": "display_data"
    }
   ],
   "source": [
    "tbe1  = \"This table estimates eq(3). \" \\\n",
    "\"Heteroskedasticity-robust standard errors\" \\\n",
    "\"clustered at the firm level appear in parentheses.\"\\\n",
    "\" Current ratio, cash over asset and liabilities over asset are lagged by one year. \"\\\n",
    "\"\\sym{*} Significance at the 10\\%, \\sym{**} Significance at the 5\\%, \\sym{***} Significance at the 1\\%.\"\n",
    "\n",
    "#multicolumn ={\n",
    "#    'Eligible': 2,\n",
    "#    'Non-Eligible': 1,\n",
    "#    'All': 1,\n",
    "#    'All benchmark': 1,\n",
    "#}\n",
    "\n",
    "#multi_lines_dep = '(city/product/trade regime/year)'\n",
    "#new_r = ['& test1', 'test2']\n",
    "lb.beautify(table_number = table_nb,\n",
    "            #reorder_var = reorder,\n",
    "            #multi_lines_dep = multi_lines_dep,\n",
    "            #new_row= new_r,\n",
    "            #multicolumn = multicolumn,\n",
    "            table_nte = tbe1,\n",
    "            jupyter_preview = True,\n",
    "            resolution = 150,\n",
    "            folder = folder)"
   ]
  },
  {
   "cell_type": "markdown",
   "metadata": {
    "kernel": "SoS",
    "nteract": {
     "transient": {
      "deleting": false
     }
    }
   },
   "source": [
    "# Generate reports"
   ]
  },
  {
   "cell_type": "code",
   "execution_count": 25,
   "metadata": {
    "kernel": "python3",
    "nteract": {
     "transient": {
      "deleting": false
     }
    },
    "outputExpanded": false
   },
   "outputs": [],
   "source": [
    "import os, time, shutil, urllib, ipykernel, json\n",
    "from pathlib import Path\n",
    "from notebook import notebookapp"
   ]
  },
  {
   "cell_type": "code",
   "execution_count": 17,
   "metadata": {
    "kernel": "python3",
    "nteract": {
     "transient": {
      "deleting": false
     }
    },
    "outputExpanded": false
   },
   "outputs": [],
   "source": [
    "def create_report(extension = \"html\", keep_code = False, notebookname = None):\n",
    "    \"\"\"\n",
    "    Create a report from the current notebook and save it in the \n",
    "    Report folder (Parent-> child directory)\n",
    "    \n",
    "    1. Exctract the current notbook name\n",
    "    2. Convert the Notebook \n",
    "    3. Move the newly created report\n",
    "    \n",
    "    Args:\n",
    "    extension: string. Can be \"html\", \"pdf\", \"md\"\n",
    "    \n",
    "    \n",
    "    \"\"\"\n",
    "    \n",
    "    ### Get notebook name\n",
    "    connection_file = os.path.basename(ipykernel.get_connection_file())\n",
    "    kernel_id = connection_file.split('-', 1)[0].split('.')[0]\n",
    "\n",
    "    for srv in notebookapp.list_running_servers():\n",
    "        try:\n",
    "            if srv['token']=='' and not srv['password']:  \n",
    "                req = urllib.request.urlopen(srv['url']+'api/sessions')\n",
    "            else:\n",
    "                req = urllib.request.urlopen(srv['url']+ \\\n",
    "                                             'api/sessions?token=' + \\\n",
    "                                             srv['token'])\n",
    "            sessions = json.load(req)\n",
    "            notebookname = sessions[0]['name']\n",
    "        except:\n",
    "            notebookname = notebookname  \n",
    "    \n",
    "    sep = '.'\n",
    "    path = os.getcwd()\n",
    "    #parent_path = str(Path(path).parent)\n",
    "    \n",
    "    ### Path report\n",
    "    #path_report = \"{}/Reports\".format(parent_path)\n",
    "    #path_report = \"{}/Reports\".format(path)\n",
    "    \n",
    "    ### Path destination\n",
    "    name_no_extension = notebookname.split(sep, 1)[0]\n",
    "    source_to_move = name_no_extension +'.{}'.format(extension)\n",
    "    dest = os.path.join(path,'Reports', source_to_move)\n",
    "    \n",
    "    ### Generate notebook\n",
    "    if keep_code:\n",
    "        os.system('jupyter nbconvert --to {} {}'.format(\n",
    "    extension,notebookname))\n",
    "    else:\n",
    "        os.system('jupyter nbconvert --no-input --to {} {}'.format(\n",
    "    extension,notebookname))\n",
    "    \n",
    "    ### Move notebook to report folder\n",
    "    #time.sleep(5)\n",
    "    shutil.move(source_to_move, dest)\n",
    "    print(\"Report Available at this adress:\\n {}\".format(dest))"
   ]
  },
  {
   "cell_type": "code",
   "execution_count": 26,
   "metadata": {
    "kernel": "python3",
    "nteract": {
     "transient": {
      "deleting": false
     }
    },
    "outputExpanded": false
   },
   "outputs": [
    {
     "name": "stdout",
     "output_type": "stream",
     "text": [
      "Report Available at this adress:\n",
      " /home/ubuntu/Financial_dependency_pollution/02_data_analysis/01_model_estimation/00_estimate_fin_ratio/Reports/04_asset_tang_firm_level.html\n"
     ]
    }
   ],
   "source": [
    "create_report(extension = \"html\", keep_code = False, notebookname = \"04_asset_tang_firm_level.ipynb\")"
   ]
  }
 ],
 "metadata": {
  "jupytext": {
   "formats": "ipynb,md"
  },
  "kernel_info": {
   "name": "python3"
  },
  "kernelspec": {
   "display_name": "SoS",
   "language": "sos",
   "name": "sos"
  },
  "language_info": {
   "codemirror_mode": "sos",
   "file_extension": ".sos",
   "mimetype": "text/x-sos",
   "name": "sos",
   "nbconvert_exporter": "sos_notebook.converter.SoS_Exporter",
   "pygments_lexer": "sos"
  },
  "nteract": {
   "version": "0.26.0"
  },
  "sos": {
   "kernels": [
    [
     "R",
     "ir",
     "R",
     "#DCDCDA",
     "r"
    ],
    [
     "SoS",
     "sos",
     "",
     "",
     "sos"
    ],
    [
     "python3",
     "python3",
     "python",
     "",
     {
      "name": "ipython",
      "version": 3
     }
    ]
   ],
   "version": "0.20.1"
  },
  "toc": {
   "base_numbering": 1,
   "nav_menu": {},
   "number_sections": true,
   "sideBar": true,
   "skip_h1_title": false,
   "title_cell": "Table of Contents",
   "title_sidebar": "Contents",
   "toc_cell": false,
   "toc_position": {},
   "toc_section_display": true,
   "toc_window_display": false
  }
 },
 "nbformat": 4,
 "nbformat_minor": 4
}
