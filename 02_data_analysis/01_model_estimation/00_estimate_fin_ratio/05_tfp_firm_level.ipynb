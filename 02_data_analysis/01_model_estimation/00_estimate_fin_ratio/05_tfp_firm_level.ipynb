{
 "cells": [
  {
   "cell_type": "markdown",
   "metadata": {
    "kernel": "SoS"
   },
   "source": [
    "# US Name\n",
    "\n",
    "Estimate tfp_OP_f as a function of  asset_tangibility and others (Estimate table 6 with TFP) \n",
    "\n",
    "# Business needs \n",
    "\n",
    "Estimate tfp_OP_f as a function of  asset_tangibility, cash_over_total_asset, credit constraint, current ratio, sales over asset Andersen method, liabilities over asset (Estimate table 6 by using TFP instead of asset tangibility to explain a new channel of impact) \n",
    "\n",
    "## Description\n",
    "### Objective \n",
    "\n",
    "Test the coefficient sign and significant of the main variable\n",
    "\n",
    "### Tables\n",
    "\n",
    "Table 1: Baseline Estimate, tfp_OP_f and asset_tangibility, cash_over_total_asset, credit constraint, current ratio, sales over asset Andersen method, liabilities over asset\n",
    "\n",
    "**Cautious**\n",
    "Make sure no empty rows, otherwise it will be filtered out in the estimate\n",
    "\n",
    "\n",
    "# Metadata\n",
    "\n",
    "- Key: rae81txps49928f\n",
    "- Epic: Models\n",
    "- US: Estimate TFP\n",
    "- Task tag: #analytics, #andersen, #tfp, #econometrics\n",
    "- Analytics reports: \n",
    "\n",
    "# Input Cloud Storage\n",
    "\n",
    "## Table/file\n",
    "\n",
    "**Name** \n",
    "\n",
    "- https://github.com/thomaspernet/Financial_dependency_pollution/blob/master/01_data_preprocessing/02_transform_tables/09_asif_tfp_firm_baseline.md\n",
    "\n",
    "**Github**\n",
    "\n",
    "- DATA/ECON/FIRM_SURVEY/ASIF_CHINA/TRANSFORMED/TFP/CREDIT_CONSTRAINT\n",
    "\n"
   ]
  },
  {
   "cell_type": "markdown",
   "metadata": {
    "kernel": "SoS"
   },
   "source": [
    "# Connexion server"
   ]
  },
  {
   "cell_type": "code",
   "execution_count": 1,
   "metadata": {
    "kernel": "SoS"
   },
   "outputs": [],
   "source": [
    "from awsPy.aws_authorization import aws_connector\n",
    "from awsPy.aws_s3 import service_s3\n",
    "from awsPy.aws_glue import service_glue\n",
    "from pathlib import Path\n",
    "import pandas as pd\n",
    "import numpy as np\n",
    "#import seaborn as sns\n",
    "import os, shutil, json\n",
    "\n",
    "path = os.getcwd()\n",
    "parent_path = str(Path(path).parent.parent.parent)\n",
    "\n",
    "\n",
    "name_credential = 'financial_dep_SO2_accessKeys.csv'\n",
    "region = 'eu-west-3'\n",
    "bucket = 'datalake-datascience'\n",
    "path_cred = \"{0}/creds/{1}\".format(parent_path, name_credential)"
   ]
  },
  {
   "cell_type": "code",
   "execution_count": 2,
   "metadata": {
    "kernel": "SoS"
   },
   "outputs": [],
   "source": [
    "con = aws_connector.aws_instantiate(credential = path_cred,\n",
    "                                       region = region)\n",
    "client= con.client_boto()\n",
    "s3 = service_s3.connect_S3(client = client,\n",
    "                      bucket = bucket, verbose = False)\n",
    "glue = service_glue.connect_glue(client = client) "
   ]
  },
  {
   "cell_type": "code",
   "execution_count": 3,
   "metadata": {
    "kernel": "SoS"
   },
   "outputs": [],
   "source": [
    "pandas_setting = True\n",
    "if pandas_setting:\n",
    "    #cm = sns.light_palette(\"green\", as_cmap=True)\n",
    "    pd.set_option('display.max_columns', None)\n",
    "    pd.set_option('display.max_colwidth', None)"
   ]
  },
  {
   "cell_type": "code",
   "execution_count": 4,
   "metadata": {
    "kernel": "SoS",
    "nteract": {
     "transient": {
      "deleting": false
     }
    }
   },
   "outputs": [],
   "source": [
    "os.environ['KMP_DUPLICATE_LIB_OK']='True'\n"
   ]
  },
  {
   "cell_type": "code",
   "execution_count": 5,
   "metadata": {
    "kernel": "R"
   },
   "outputs": [],
   "source": [
    "change_target <- function(table){\n",
    "    ## SOE\n",
    "    check_target_current_ratio_soe <- grep(\"soe_vs_priPRIVATE:log\\\\(current_ratio\\\\)\", rownames(table$coef))\n",
    "    check_target_liabilities_soe <- grep(\"soe_vs_priPRIVATE:log\\\\(liabilities_tot_asset\\\\)\", rownames(table$coef))\n",
    "    ## TCZ\n",
    "    check_target_current_ratio_tcz <- grep(\"tcz:log\\\\(current_ratio\\\\)\", rownames(table$coef))\n",
    "    check_target_liabilities_tcz <- grep(\"tcz:log\\\\(liabilities_tot_asset\\\\)\", rownames(table$coef))\n",
    "    #check_target_cashflow_tcz <- grep(\"tcz:log\\\\(cashflow_to_tangible\\\\)\", rownames(table$coef))\n",
    "    \n",
    "    ## SPZ\n",
    "    check_target_current_ratio_spz <- grep(\"spz:log\\\\(current_ratio\\\\)\", rownames(table$coef))\n",
    "    check_target_liabilities_spz <- grep(\"spz:log\\\\(liabilities_tot_asset\\\\)\", rownames(table$coef))\n",
    "    #check_target_cashflow_spz <- grep(\"tcz:log\\\\(cashflow_to_tangible\\\\)\", rownames(table$coef))\n",
    "    \n",
    "    if (length(check_target_current_ratio_soe) !=0) {\n",
    "    ## SOE\n",
    "    rownames(table$coefficients)[check_target_current_ratio_soe] <- 'log(current_ratio):soe_vs_priPRIVATE'\n",
    "    rownames(table$beta)[check_target_current_ratio_soe] <- 'log(current_ratio):soe_vs_priPRIVATE'\n",
    "    rownames(table$coefficients)[check_target_liabilities_soe] <- 'log(liabilities_tot_asset):soe_vs_priPRIVATE'\n",
    "    rownames(table$beta)[check_target_liabilities_soe] <- 'log(liabilities_tot_asset):soe_vs_priPRIVATE'\n",
    "    } else if (length(check_target_current_ratio_tcz) !=0){\n",
    "    \n",
    "    ## TCZ\n",
    "    rownames(table$coefficients)[check_target_current_ratio_tcz] <- 'log(current_ratio):tcz'\n",
    "    rownames(table$beta)[check_target_current_ratio_tcz] <- 'log(current_ratio):tcz'\n",
    "    rownames(table$coefficients)[check_target_liabilities_tcz] <- 'log(liabilities_tot_asset):tcz'\n",
    "    rownames(table$beta)[check_target_liabilities_tcz] <- 'log(liabilities_tot_asset):tcz'\n",
    "    #rownames(table$coefficients)[check_target_cashflow_tcz] <- 'log(cashflow_to_tangible):tcz'\n",
    "    #rownames(table$beta)[check_target_cashflow_tcz] <- 'log(cashflow_to_tangible):tcz'\n",
    "        } else if (length(check_target_current_ratio_spz) !=0){\n",
    "        \n",
    "    ## SPZ\n",
    "    rownames(table$coefficients)[check_target_current_ratio_spz] <- 'log(current_ratio):spz'\n",
    "    rownames(table$beta)[check_target_current_ratio_spz] <- 'log(current_ratio):spz'\n",
    "    rownames(table$coefficients)[check_target_liabilities_spz] <- 'log(liabilities_tot_asset):spz'\n",
    "    rownames(table$beta)[check_target_liabilities_spz] <- 'log(liabilities_tot_asset):spz'\n",
    "    #rownames(table$coefficients)[check_target_cashflow_spz] <- 'log(cashflow_to_tangible):tcz'\n",
    "    #rownames(table$beta)[check_target_cashflow_spz] <- 'log(cashflow_to_tangible):tcz'\n",
    "        }\n",
    "    return (table)\n",
    "}"
   ]
  },
  {
   "cell_type": "markdown",
   "metadata": {
    "kernel": "SoS"
   },
   "source": [
    "# Load tables\n",
    "\n",
    "Since we load the data as a Pandas DataFrame, we want to pass the `dtypes`. We load the schema from Glue to guess the types"
   ]
  },
  {
   "cell_type": "code",
   "execution_count": 6,
   "metadata": {
    "kernel": "SoS"
   },
   "outputs": [],
   "source": [
    "db = 'firms_survey'\n",
    "table = 'asif_tfp_credit_constraint'"
   ]
  },
  {
   "cell_type": "code",
   "execution_count": 7,
   "metadata": {
    "kernel": "SoS"
   },
   "outputs": [],
   "source": [
    "dtypes = {}\n",
    "schema = (glue.get_table_information(database = db,\n",
    "                           table = table)\n",
    "          ['Table']['StorageDescriptor']['Columns']\n",
    "         )\n",
    "for key, value in enumerate(schema):\n",
    "    if value['Type'] in ['varchar(12)']:\n",
    "        format_ = 'string'\n",
    "    elif value['Type'] in ['decimal(21,5)', 'double', 'bigint', 'int', 'float']:\n",
    "        format_ = 'float'\n",
    "    else:\n",
    "        format_ = value['Type'] \n",
    "    dtypes.update(\n",
    "        {value['Name']:format_}\n",
    "    )"
   ]
  },
  {
   "cell_type": "code",
   "execution_count": 8,
   "metadata": {
    "kernel": "SoS"
   },
   "outputs": [],
   "source": [
    "download_data = False\n",
    "filename = 'df_{}'.format(table)\n",
    "full_path_filename = 'SQL_OUTPUT_ATHENA/CSV/{}.csv'.format(filename)\n",
    "path_local = os.path.join(str(Path(path).parent.parent.parent), \n",
    "                              \"00_data_catalogue/temporary_local_data\")\n",
    "df_path = os.path.join(path_local, filename + '.csv')\n",
    "if download_data:\n",
    "    \n",
    "    s3 = service_s3.connect_S3(client = client,\n",
    "                          bucket = bucket, verbose = False)\n",
    "    query = \"\"\"\n",
    "    SELECT * \n",
    "    FROM {}.{}\n",
    "    WHERE \n",
    "    cashflow_to_tangible > 0\n",
    "    AND current_ratio > 0\n",
    "    AND liabilities_tot_asset > 0\n",
    "    AND year in (\n",
    "        '2001', '2002', '2003', '2004', '2005', \n",
    "        '2006', '2007'\n",
    "      )\n",
    "    \"\"\".format(db, table)\n",
    "    df = (s3.run_query(\n",
    "        query=query,\n",
    "        database=db,\n",
    "        s3_output='SQL_OUTPUT_ATHENA',\n",
    "        filename=filename,  # Add filename to print dataframe\n",
    "        destination_key='SQL_OUTPUT_ATHENA/CSV',  #Use it temporarily\n",
    "        dtype = dtypes\n",
    "    )\n",
    "            )\n",
    "    s3.download_file(\n",
    "        key = full_path_filename\n",
    "    )\n",
    "    shutil.move(\n",
    "        filename + '.csv',\n",
    "        os.path.join(path_local, filename + '.csv')\n",
    "    )\n",
    "    s3.remove_file(full_path_filename)\n",
    "    df.head()"
   ]
  },
  {
   "cell_type": "code",
   "execution_count": 9,
   "metadata": {
    "kernel": "SoS",
    "nteract": {
     "transient": {
      "deleting": false
     }
    }
   },
   "outputs": [
    {
     "data": {
      "text/html": [
       "<div>\n",
       "<style scoped>\n",
       "    .dataframe tbody tr th:only-of-type {\n",
       "        vertical-align: middle;\n",
       "    }\n",
       "\n",
       "    .dataframe tbody tr th {\n",
       "        vertical-align: top;\n",
       "    }\n",
       "\n",
       "    .dataframe thead th {\n",
       "        text-align: right;\n",
       "    }\n",
       "</style>\n",
       "<table border=\"1\" class=\"dataframe\">\n",
       "  <thead>\n",
       "    <tr style=\"text-align: right;\">\n",
       "      <th></th>\n",
       "      <th>Name</th>\n",
       "      <th>Type</th>\n",
       "      <th>Comment</th>\n",
       "    </tr>\n",
       "  </thead>\n",
       "  <tbody>\n",
       "    <tr>\n",
       "      <th>0</th>\n",
       "      <td>firm</td>\n",
       "      <td>string</td>\n",
       "      <td>firm ID</td>\n",
       "    </tr>\n",
       "    <tr>\n",
       "      <th>1</th>\n",
       "      <td>year</td>\n",
       "      <td>string</td>\n",
       "      <td>year</td>\n",
       "    </tr>\n",
       "    <tr>\n",
       "      <th>2</th>\n",
       "      <td>period</td>\n",
       "      <td>varchar(5)</td>\n",
       "      <td>if year prior to 2006 then False else true. Indicate break from 10 and 11 FYP</td>\n",
       "    </tr>\n",
       "    <tr>\n",
       "      <th>3</th>\n",
       "      <td>cic</td>\n",
       "      <td>string</td>\n",
       "      <td>4 digits industry code</td>\n",
       "    </tr>\n",
       "    <tr>\n",
       "      <th>4</th>\n",
       "      <td>indu_2</td>\n",
       "      <td>string</td>\n",
       "      <td>Two digits industry. If length cic equals to 3, then add 0 to indu_2</td>\n",
       "    </tr>\n",
       "    <tr>\n",
       "      <th>...</th>\n",
       "      <td>...</td>\n",
       "      <td>...</td>\n",
       "      <td>...</td>\n",
       "    </tr>\n",
       "    <tr>\n",
       "      <th>73</th>\n",
       "      <td>count_city</td>\n",
       "      <td>string</td>\n",
       "      <td></td>\n",
       "    </tr>\n",
       "    <tr>\n",
       "      <th>74</th>\n",
       "      <td>count_industry</td>\n",
       "      <td>string</td>\n",
       "      <td></td>\n",
       "    </tr>\n",
       "    <tr>\n",
       "      <th>75</th>\n",
       "      <td>fe_c_i</td>\n",
       "      <td>bigint</td>\n",
       "      <td>City industry fixed effect</td>\n",
       "    </tr>\n",
       "    <tr>\n",
       "      <th>76</th>\n",
       "      <td>fe_t_i</td>\n",
       "      <td>bigint</td>\n",
       "      <td>year industry fixed effect</td>\n",
       "    </tr>\n",
       "    <tr>\n",
       "      <th>77</th>\n",
       "      <td>fe_c_t</td>\n",
       "      <td>bigint</td>\n",
       "      <td>city industry fixed effect</td>\n",
       "    </tr>\n",
       "  </tbody>\n",
       "</table>\n",
       "<p>78 rows × 3 columns</p>\n",
       "</div>"
      ],
      "text/plain": [
       "              Name        Type  \\\n",
       "0             firm      string   \n",
       "1             year      string   \n",
       "2           period  varchar(5)   \n",
       "3              cic      string   \n",
       "4           indu_2      string   \n",
       "..             ...         ...   \n",
       "73      count_city      string   \n",
       "74  count_industry      string   \n",
       "75          fe_c_i      bigint   \n",
       "76          fe_t_i      bigint   \n",
       "77          fe_c_t      bigint   \n",
       "\n",
       "                                                                          Comment  \n",
       "0                                                                         firm ID  \n",
       "1                                                                            year  \n",
       "2   if year prior to 2006 then False else true. Indicate break from 10 and 11 FYP  \n",
       "3                                                          4 digits industry code  \n",
       "4            Two digits industry. If length cic equals to 3, then add 0 to indu_2  \n",
       "..                                                                            ...  \n",
       "73                                                                                 \n",
       "74                                                                                 \n",
       "75                                                     City industry fixed effect  \n",
       "76                                                     year industry fixed effect  \n",
       "77                                                     city industry fixed effect  \n",
       "\n",
       "[78 rows x 3 columns]"
      ]
     },
     "execution_count": 9,
     "metadata": {},
     "output_type": "execute_result"
    }
   ],
   "source": [
    "pd.DataFrame(schema)"
   ]
  },
  {
   "cell_type": "markdown",
   "metadata": {
    "kernel": "SoS",
    "nteract": {
     "transient": {
      "deleting": false
     }
    }
   },
   "source": [
    "## Schema Latex table\n",
    "\n",
    "To rename a variable, please use the following template:\n",
    "\n",
    "```\n",
    "{\n",
    "    'old':'XX',\n",
    "    'new':'XX_1'\n",
    "    }\n",
    "```\n",
    "\n",
    "if you need to pass a latex format with `\\`, you need to duplicate it for instance, `\\text` becomes `\\\\text:\n",
    "\n",
    "```\n",
    "{\n",
    "    'old':'working\\_capital\\_i',\n",
    "    'new':'\\\\text{working capital}_i'\n",
    "    }\n",
    "```\n",
    "\n",
    "Then add it to the key `to_rename`"
   ]
  },
  {
   "cell_type": "code",
   "execution_count": 10,
   "metadata": {
    "kernel": "SoS",
    "nteract": {
     "transient": {
      "deleting": false
     }
    }
   },
   "outputs": [],
   "source": [
    "add_to_dic = True\n",
    "if add_to_dic:\n",
    "    if os.path.exists(\"schema_table.json\"):\n",
    "        os.remove(\"schema_table.json\")\n",
    "        data = {'to_rename':[], 'to_remove':[]}\n",
    "    dic_rename =  [\n",
    "        {\n",
    "        'old':'periodTRUE',\n",
    "        'new':'\\\\text{period}'\n",
    "        },\n",
    "        ### depd\n",
    "        {\n",
    "        'old':'total\\_asset',\n",
    "        'new':'\\\\text{total asset}'\n",
    "        },\n",
    "        {\n",
    "        'old':'tangible',\n",
    "        'new':'\\\\text{tangible asset}'\n",
    "        },\n",
    "        {\n",
    "        'old':'investment\\_tot\\_asset',\n",
    "        'new':'\\\\text{investment to asset}'\n",
    "        },\n",
    "        {\n",
    "        'old':'rd\\_tot\\_asset',\n",
    "        'new':'\\\\text{rd to asset}'\n",
    "        },\n",
    "        {\n",
    "        'old':'asset\\_tangibility\\_tot\\_asset',\n",
    "        'new':'\\\\text{collateral}'\n",
    "        },\n",
    "        \n",
    "        ### ind\n",
    "        {\n",
    "        'old':'current\\_ratio',\n",
    "        'new':'\\\\text{current ratio}'\n",
    "        },\n",
    "        {\n",
    "        'old':'quick\\_ratio',\n",
    "        'new':'\\\\text{quick ratio}'\n",
    "        },\n",
    "        {\n",
    "        'old':'liabilities\\_tot\\_asset',\n",
    "        'new':'\\\\text{liabilities to asset}'\n",
    "        },\n",
    "        {\n",
    "        'old':'sales\\_tot\\_asset',\n",
    "        'new':'\\\\text{sales to asset}'\n",
    "        },\n",
    "        {\n",
    "        'old':'cash\\_tot\\_asset',\n",
    "        'new':'\\\\text{cash to asset}'\n",
    "        },\n",
    "        {\n",
    "        'old':'cashflow\\_tot\\_asset',\n",
    "        'new':'\\\\text{cashflow to asset}'\n",
    "        },\n",
    "        {\n",
    "        'old':'cashflow\\_to\\_tangible',\n",
    "        'new':'\\\\text{cashflow}'\n",
    "        },\n",
    "        {\n",
    "        'old':'d\\_credit\\_constraintBELOW',\n",
    "        'new':'\\\\text{Fin dep}_{i}'\n",
    "        },\n",
    "        ## control\n",
    "        {\n",
    "        'old':'age + 1',\n",
    "        'new':'\\\\text{age}'\n",
    "        },\n",
    "        {\n",
    "        'old':'export\\_to\\_sale',\n",
    "        'new':'\\\\text{export to sale}'\n",
    "        },\n",
    "        {\n",
    "        'old':'labor\\_capital',\n",
    "        'new':'\\\\text{labor to capital}'\n",
    "        },\n",
    "        ### Supply demand external finance\n",
    "        {\n",
    "        'old':'supply\\_all\\_credit',\n",
    "        'new':'\\\\text{all credit}'\n",
    "        },\n",
    "        {\n",
    "        'old':'supply\\_long\\_term\\_credit',\n",
    "        'new':'\\\\text{long term credit}'\n",
    "        },\n",
    "        {\n",
    "        'old':'credit\\_constraint',\n",
    "        'new':'\\\\text{credit demand}'\n",
    "        },\n",
    "        {\n",
    "        'old':'soe\\_vs\\_priPRIVATE',\n",
    "        'new':'\\\\text{private}'\n",
    "        },\n",
    "    ]\n",
    "    \n",
    "\n",
    "    data['to_rename'].extend(dic_rename)\n",
    "    with open('schema_table.json', 'w') as outfile:\n",
    "        json.dump(data, outfile)"
   ]
  },
  {
   "cell_type": "code",
   "execution_count": 11,
   "metadata": {
    "kernel": "SoS"
   },
   "outputs": [],
   "source": [
    "import function.latex_beautify as lb\n",
    "\n",
    "#%load_ext autoreload\n",
    "#%autoreload 2"
   ]
  },
  {
   "cell_type": "code",
   "execution_count": 12,
   "metadata": {
    "kernel": "R"
   },
   "outputs": [
    {
     "name": "stderr",
     "output_type": "stream",
     "text": [
      "Registered S3 methods overwritten by 'ggplot2':\n",
      "  method         from \n",
      "  [.quosures     rlang\n",
      "  c.quosures     rlang\n",
      "  print.quosures rlang\n",
      "Registered S3 method overwritten by 'rvest':\n",
      "  method            from\n",
      "  read_xml.response xml2\n",
      "── Attaching packages ─────────────────────────────────────── tidyverse 1.2.1 ──\n",
      "✔ ggplot2 3.1.1       ✔ purrr   0.3.2  \n",
      "✔ tibble  2.1.1       ✔ dplyr   0.8.0.1\n",
      "✔ tidyr   0.8.3       ✔ stringr 1.4.0  \n",
      "✔ readr   1.3.1       ✔ forcats 0.4.0  \n",
      "── Conflicts ────────────────────────────────────────── tidyverse_conflicts() ──\n",
      "✖ dplyr::filter() masks stats::filter()\n",
      "✖ dplyr::lag()    masks stats::lag()\n",
      "Loading required package: Matrix\n",
      "\n",
      "Attaching package: ‘Matrix’\n",
      "\n",
      "The following object is masked from ‘package:tidyr’:\n",
      "\n",
      "    expand\n",
      "\n",
      "\n",
      "Please cite as: \n",
      "\n",
      " Hlavac, Marek (2018). stargazer: Well-Formatted Regression and Summary Statistics Tables.\n",
      " R package version 5.2.2. https://CRAN.R-project.org/package=stargazer \n",
      "\n"
     ]
    }
   ],
   "source": [
    "options(warn=-1)\n",
    "library(tidyverse)\n",
    "library(lfe)\n",
    "#library(lazyeval)\n",
    "library('progress')\n",
    "path = \"function/table_golatex.R\"\n",
    "source(path)"
   ]
  },
  {
   "cell_type": "code",
   "execution_count": 13,
   "metadata": {
    "kernel": "R"
   },
   "outputs": [
    {
     "name": "stderr",
     "output_type": "stream",
     "text": [
      "Parsed with column specification:\n",
      "cols(\n",
      "  .default = col_double(),\n",
      "  period = col_logical(),\n",
      "  short = col_character(),\n",
      "  province_en = col_character(),\n",
      "  ownership = col_character(),\n",
      "  soe_vs_pri = col_character(),\n",
      "  for_vs_dom = col_character(),\n",
      "  d_credit_constraint = col_character(),\n",
      "  rd_tot_asset = col_logical(),\n",
      "  avg_size_asset_fci = col_character(),\n",
      "  avg_size_output_fci = col_character(),\n",
      "  avg_employment_fci = col_character(),\n",
      "  avg_size_capital_fci = col_character(),\n",
      "  avg_sales_fci = col_character(),\n",
      "  size_asset_fci = col_character(),\n",
      "  size_asset_fc = col_character(),\n",
      "  size_asset_fi = col_character(),\n",
      "  size_output_fci = col_character(),\n",
      "  size_output_fc = col_character(),\n",
      "  size_output_fi = col_character(),\n",
      "  size_employment_fci = col_character()\n",
      "  # ... with 8 more columns\n",
      ")\n",
      "See spec(...) for full column specifications.\n"
     ]
    },
    {
     "data": {
      "text/html": [
       "<ol class=list-inline>\n",
       "\t<li>216269</li>\n",
       "\t<li>78</li>\n",
       "</ol>\n"
      ],
      "text/latex": [
       "\\begin{enumerate*}\n",
       "\\item 216269\n",
       "\\item 78\n",
       "\\end{enumerate*}\n"
      ],
      "text/markdown": [
       "1. 216269\n",
       "2. 78\n",
       "\n",
       "\n"
      ],
      "text/plain": [
       "[1] 216269     78"
      ]
     },
     "metadata": {},
     "output_type": "display_data"
    }
   ],
   "source": [
    "%get df_path\n",
    "df_final <- read_csv(df_path) %>%\n",
    "mutate_if(is.character, as.factor) %>%\n",
    "    mutate_at(vars(starts_with(\"fe\")), as.factor) %>%\n",
    "mutate(\n",
    "    period = relevel(as.factor(period), ref='FALSE'),\n",
    "    soe_vs_pri = relevel(as.factor(soe_vs_pri), ref='SOE')\n",
    ")\n",
    "dim(df_final)"
   ]
  },
  {
   "cell_type": "markdown",
   "metadata": {
    "kernel": "R"
   },
   "source": [
    "## Recall\n",
    "\n",
    "* Variables of interest capturing internal finance:\n",
    "  * current ratio\n",
    "  * cash over tangible asset\n",
    "* Variables of interest capturing external finance\n",
    "  * external finance dependance → demand of credit → industry level\n",
    "  * external supply of credit → supply of credit → province year\n",
    "    * all credits to gdp\n",
    "    * long term loan to gdp\n",
    "* Control\n",
    "  * return on sale\n",
    "  * leverage\n",
    "  * coverage ratio\n",
    "  * liquidity\n",
    "  * labor productivity\n",
    "  * age\n",
    "  * export to sale"
   ]
  },
  {
   "cell_type": "markdown",
   "metadata": {
    "kernel": "R"
   },
   "source": [
    "## Table 1: Baseline effect of internal finance on firm TFP\n",
    "\n",
    "$$ \\begin{aligned}\n",
    "\\begin{equation}\n",
    "\\mathrm{TFP}_{\\mathrm{it}}=\\beta_{1} \\text { Internal finance }_{\\mathrm{it}}+\\beta 2 \\text { X }_{\\mathrm{it}}+v_{t}+v_{k}+\\varepsilon_{\\mathrm{it}}\n",
    "\\end{equation}\n",
    "\\end{aligned} $$"
   ]
  },
  {
   "cell_type": "code",
   "execution_count": 24,
   "metadata": {
    "kernel": "SoS"
   },
   "outputs": [],
   "source": [
    "folder = 'Tables_0'\n",
    "table_nb = 1\n",
    "table = 'table_{}'.format(table_nb)\n",
    "path = os.path.join(folder, table + '.txt')\n",
    "if os.path.exists(folder) == False:\n",
    "        os.mkdir(folder)\n",
    "for ext in ['.txt', '.tex', '.pdf']:\n",
    "    x = [a for a in os.listdir(folder) if a.endswith(ext)]\n",
    "    [os.remove(os.path.join(folder, i)) for i in x]"
   ]
  },
  {
   "cell_type": "code",
   "execution_count": 25,
   "metadata": {
    "kernel": "R"
   },
   "outputs": [],
   "source": [
    "%get path table \n",
    "t_0 <- felm(log(tfp_op) ~ \n",
    "            log(cashflow_to_tangible) + \n",
    "            log(asset_tangibility_tot_asset) +\n",
    "            log(labor_capital) +\n",
    "            log(total_asset) + \n",
    "            log(age) +\n",
    "            export_to_sale \n",
    "            | firm + year + indu_2|0 | firm, df_final,\n",
    "            exactDOF = TRUE)\n",
    "t_1 <- felm(log(tfp_op) ~ \n",
    "            log(current_ratio) + \n",
    "            log(asset_tangibility_tot_asset) +\n",
    "            log(labor_capital) +\n",
    "            log(total_asset) + \n",
    "            log(age) +\n",
    "            export_to_sale \n",
    "            | firm + year + indu_2|0 | firm, df_final,\n",
    "            exactDOF = TRUE)\n",
    "t_2 <- felm(log(tfp_op) ~ \n",
    "            log(liabilities_tot_asset) + \n",
    "            log(asset_tangibility_tot_asset) +\n",
    "            log(labor_capital) +\n",
    "            log(total_asset) + \n",
    "            log(age) +\n",
    "            export_to_sale \n",
    "            | firm + year + indu_2|0 | firm, df_final,\n",
    "            exactDOF = TRUE)\n",
    "###\n",
    "t_3 <- felm(log(tfp_op) ~ \n",
    "            log(cashflow_to_tangible) + \n",
    "            log(current_ratio) + \n",
    "            log(liabilities_tot_asset) + \n",
    "            log(asset_tangibility_tot_asset) +\n",
    "            log(labor_capital) +\n",
    "            log(total_asset) + \n",
    "            log(age) +\n",
    "            export_to_sale \n",
    "            | firm + year + indu_2|0 | firm, df_final,\n",
    "            exactDOF = TRUE)\n",
    "\n",
    "### More control\n",
    "t_4 <- felm(log(tfp_op) ~ \n",
    "            log(cashflow_to_tangible) + \n",
    "            log(current_ratio) + \n",
    "            log(liabilities_tot_asset) + \n",
    "            log(asset_tangibility_tot_asset) +\n",
    "            log(labor_capital) +\n",
    "            log(total_asset) + \n",
    "            log(age) +\n",
    "            export_to_sale +\n",
    "            supply_all_credit\n",
    "            | firm + year + indu_2|0 | firm, df_final,\n",
    "            exactDOF = TRUE)\n",
    "t_5 <- felm(log(tfp_op) ~ \n",
    "            log(cashflow_to_tangible) + \n",
    "            log(current_ratio) + \n",
    "            log(liabilities_tot_asset) + \n",
    "            log(asset_tangibility_tot_asset) +\n",
    "            log(labor_capital) +\n",
    "            log(total_asset) + \n",
    "            log(age) +\n",
    "            export_to_sale +\n",
    "            supply_long_term_credit \n",
    "            | firm + year + indu_2|0 | firm, df_final,\n",
    "            exactDOF = TRUE)\n",
    "t_6 <- felm(log(tfp_op) ~ \n",
    "            log(cashflow_to_tangible) + \n",
    "            log(current_ratio) + \n",
    "            log(liabilities_tot_asset) + \n",
    "            log(asset_tangibility_tot_asset) +\n",
    "            log(labor_capital) +\n",
    "            log(total_asset) + \n",
    "            log(age) +\n",
    "            export_to_sale +\n",
    "            credit_constraint\n",
    "            | firm + year|0 | firm, df_final,\n",
    "            exactDOF = TRUE)\n",
    "\n",
    "dep <- \"Dependent variable: Total factor productivity\"\n",
    "fe1 <- list(\n",
    "    c(\"firm\", \"Yes\", \"Yes\", \"Yes\", \"Yes\", \"Yes\", \"Yes\", \"Yes\"),\n",
    "    c(\"industry\", \"Yes\", \"Yes\", \"Yes\", \"Yes\", \"Yes\", \"No\", \"No\"),\n",
    "    c(\"year\", \"Yes\", \"Yes\", \"Yes\", \"Yes\", \"Yes\", \"Yes\", \"Yes\")\n",
    "             )\n",
    "\n",
    "table_1 <- go_latex(list(\n",
    "    t_0, t_1, t_2, t_3, t_4,t_5, t_6\n",
    "),\n",
    "    title=\"Baseline effect of internal finance on firm TFP\",\n",
    "    dep_var = dep,\n",
    "    addFE=fe1,\n",
    "    save=TRUE,\n",
    "    note = FALSE,\n",
    "    name=path\n",
    ") "
   ]
  },
  {
   "cell_type": "code",
   "execution_count": 26,
   "metadata": {
    "kernel": "SoS"
   },
   "outputs": [
    {
     "data": {
      "image/png": "[encoded data removed]",
      "text/plain": [
       "<wand.image.Image: 243ddef 'PDF' (716x743)>"
      ]
     },
     "metadata": {},
     "output_type": "display_data"
    }
   ],
   "source": [
    "tbe1  = \"This table estimates eq(X). \" \\\n",
    "\"Heteroskedasticity-robust standard errors\" \\\n",
    "\"clustered at the firm level appear inparentheses.\"\\\n",
    "\"Dependent variables include firm's TFP level \" \\\n",
    "\" Independent variable cashflow is measured as net income + depreciation over asset;\"\\\n",
    "\" current ratio is measured as current asset over current liabilities. \" \\\n",
    "\"\\sym{*} Significance at the 10\\%, \\sym{**} Significance at the 5\\%, \\sym{***} Significance at the 1\\%.\"\n",
    "\n",
    "#multicolumn ={\n",
    "#    'Eligible': 2,\n",
    "#    'Non-Eligible': 1,\n",
    "#    'All': 1,\n",
    "#    'All benchmark': 1,\n",
    "#}\n",
    "\n",
    "#multi_lines_dep = '(city/product/trade regime/year)'\n",
    "#new_r = ['& test1', 'test2']\n",
    "lb.beautify(table_number = table_nb,\n",
    "            #reorder_var = reorder,\n",
    "            #multi_lines_dep = multi_lines_dep,\n",
    "            #new_row= new_r,\n",
    "            #multicolumn = multicolumn,\n",
    "            table_nte = tbe1,\n",
    "            jupyter_preview = True,\n",
    "            resolution = 150,\n",
    "            folder = folder)"
   ]
  },
  {
   "cell_type": "markdown",
   "metadata": {
    "kernel": "SoS"
   },
   "source": [
    "## Table 2: Ownership structure effect"
   ]
  },
  {
   "cell_type": "code",
   "execution_count": 15,
   "metadata": {
    "kernel": "SoS"
   },
   "outputs": [],
   "source": [
    "folder = 'Tables_0'\n",
    "table_nb = 1\n",
    "table = 'table_{}'.format(table_nb)\n",
    "path = os.path.join(folder, table + '.txt')\n",
    "if os.path.exists(folder) == False:\n",
    "        os.mkdir(folder)\n",
    "for ext in ['.txt', '.tex', '.pdf']:\n",
    "    x = [a for a in os.listdir(folder) if a.endswith(ext)]\n",
    "    [os.remove(os.path.join(folder, i)) for i in x]"
   ]
  },
  {
   "cell_type": "code",
   "execution_count": 16,
   "metadata": {
    "kernel": "R"
   },
   "outputs": [],
   "source": [
    "%get path table \n",
    "t_0 <- felm(log(tfp_op) ~ \n",
    "            log(cashflow_to_tangible) * soe_vs_pri+ \n",
    "            log(asset_tangibility_tot_asset) +\n",
    "            log(labor_capital) +\n",
    "            log(total_asset) + \n",
    "            log(age) +\n",
    "            export_to_sale \n",
    "            | firm + year + indu_2|0 | firm, df_final,\n",
    "            exactDOF = TRUE)\n",
    "t_1 <- felm(log(tfp_op) ~ \n",
    "            log(current_ratio) * soe_vs_pri+ \n",
    "            log(asset_tangibility_tot_asset) +\n",
    "            log(labor_capital) +\n",
    "            log(total_asset) + \n",
    "            log(age) +\n",
    "            export_to_sale \n",
    "            | firm + year + indu_2|0 | firm, df_final,\n",
    "            exactDOF = TRUE)\n",
    "t_2 <- felm(log(tfp_op) ~ \n",
    "            log(liabilities_tot_asset)* soe_vs_pri + \n",
    "            log(asset_tangibility_tot_asset) +\n",
    "            log(labor_capital) +\n",
    "            log(total_asset) + \n",
    "            log(age) +\n",
    "            export_to_sale \n",
    "            | firm + year + indu_2|0 | firm, df_final,\n",
    "            exactDOF = TRUE)\n",
    "###\n",
    "t_3 <- felm(log(tfp_op) ~ \n",
    "            log(cashflow_to_tangible) * soe_vs_pri+ \n",
    "            log(current_ratio) * soe_vs_pri+ \n",
    "            log(liabilities_tot_asset) * soe_vs_pri+ \n",
    "            log(asset_tangibility_tot_asset) +\n",
    "            log(labor_capital) +\n",
    "            log(total_asset) + \n",
    "            log(age) +\n",
    "            export_to_sale \n",
    "            | firm + year + indu_2|0 | firm, df_final,\n",
    "            exactDOF = TRUE)\n",
    "t_3 <- change_target(t_3)\n",
    "### More control\n",
    "t_4 <- felm(log(tfp_op) ~ \n",
    "            log(cashflow_to_tangible) * soe_vs_pri+ \n",
    "            log(current_ratio) * soe_vs_pri+ \n",
    "            log(liabilities_tot_asset) * soe_vs_pri+ \n",
    "            log(asset_tangibility_tot_asset) +\n",
    "            log(labor_capital) +\n",
    "            log(total_asset) + \n",
    "            log(age) +\n",
    "            export_to_sale +\n",
    "            supply_all_credit\n",
    "            | firm + year + indu_2|0 | firm, df_final,\n",
    "            exactDOF = TRUE)\n",
    "t_4 <- change_target(t_4)\n",
    "t_5 <- felm(log(tfp_op) ~ \n",
    "            log(cashflow_to_tangible)* soe_vs_pri + \n",
    "            log(current_ratio) * soe_vs_pri+ \n",
    "            log(liabilities_tot_asset) * soe_vs_pri+ \n",
    "            log(asset_tangibility_tot_asset) +\n",
    "            log(labor_capital) +\n",
    "            log(total_asset) + \n",
    "            log(age) +\n",
    "            export_to_sale +\n",
    "            supply_long_term_credit \n",
    "            | firm + year + indu_2|0 | firm, df_final,\n",
    "            exactDOF = TRUE)\n",
    "t_5 <- change_target(t_5)\n",
    "t_6 <- felm(log(tfp_op) ~ \n",
    "            log(cashflow_to_tangible) * soe_vs_pri+ \n",
    "            log(current_ratio) * soe_vs_pri+ \n",
    "            log(liabilities_tot_asset) * soe_vs_pri+ \n",
    "            log(asset_tangibility_tot_asset) +\n",
    "            log(labor_capital) +\n",
    "            log(total_asset) + \n",
    "            log(age) +\n",
    "            export_to_sale +\n",
    "            credit_constraint\n",
    "            | firm + year|0 | firm, df_final,\n",
    "            exactDOF = TRUE)\n",
    "t_6 <- change_target(t_6)\n",
    "dep <- \"Dependent variable: Total factor productivity\"\n",
    "fe1 <- list(\n",
    "    c(\"firm\", \"Yes\", \"Yes\", \"Yes\", \"Yes\", \"Yes\", \"Yes\", \"Yes\"),\n",
    "    c(\"industry\", \"Yes\", \"Yes\", \"Yes\", \"Yes\", \"Yes\", \"No\", \"No\"),\n",
    "    c(\"year\", \"Yes\", \"Yes\", \"Yes\", \"Yes\", \"Yes\", \"Yes\", \"Yes\")\n",
    "             )\n",
    "\n",
    "table_1 <- go_latex(list(\n",
    "    t_0, t_1, t_2, t_3, t_4,t_5, t_6\n",
    "),\n",
    "    title=\"Ownership structure effect\",\n",
    "    dep_var = dep,\n",
    "    addFE=fe1,\n",
    "    save=TRUE,\n",
    "    note = FALSE,\n",
    "    name=path\n",
    ") "
   ]
  },
  {
   "cell_type": "code",
   "execution_count": null,
   "metadata": {
    "kernel": "python3"
   },
   "outputs": [],
   "source": [
    "import re\n",
    "table_out = \"{}/table_{}.tex\".format(\"Tables_0\", 1)\n",
    "reorder_var = {\n",
    "    12:3,\n",
    "    13:4,\n",
    "    14:5\n",
    "}\n",
    "with open(table_out, 'r') as f:\n",
    "    lines = f.readlines()\n",
    "\n",
    "regex = r\"\\((\\d+)\\)\"\n",
    "found = False\n",
    "for x, line in enumerate(lines):\n",
    "    matches = re.search(regex, line)\n",
    "    if matches  and found != True:\n",
    "        found = True\n",
    "        coef_rows = x + 2\n",
    "top_text = lines[:coef_rows]\n",
    "vars_text = lines[coef_rows:]\n",
    "\n",
    "regex = r\"\\((\\d+)\\)\"\n",
    "found = False\n",
    "for x, line in enumerate(lines):\n",
    "    matches = re.search(regex, line)\n",
    "    if matches  and found != True:\n",
    "        found = True\n",
    "        coef_rows = x + 2\n",
    "top_text = lines[:coef_rows]\n",
    "vars_text = lines[coef_rows:]\n",
    "\n",
    "regex= r\"\\((\\d+)\"\n",
    "count_var = -1\n",
    "for x, line in enumerate(vars_text):\n",
    "    matches = re.search(regex, line)\n",
    "    if matches:\n",
    "        count_var+=1\n",
    "bottom_text = vars_text[count_var*2:]\n",
    "count_var += 2\n",
    "\n",
    "new_order = [None] * count_var\n",
    "for key, value in reorder_var.items():\n",
    "    new_order[value] = key * 2\n",
    "for i in range(0, count_var * 2, 2):\n",
    "    if i not in new_order:\n",
    "        position = next(i for i, j in enumerate(new_order) if j == None)\n",
    "        new_order[position] = i\n",
    "reorder_full = []\n",
    "for order in new_order:\n",
    "    reorder_full.append(vars_text[order])\n",
    "    reorder_full.append(vars_text[order+1])\n",
    "new_table = top_text + reorder_full[:-1] + bottom_text[3:]\n",
    "new_table"
   ]
  },
  {
   "cell_type": "code",
   "execution_count": null,
   "metadata": {
    "kernel": "python3"
   },
   "outputs": [],
   "source": [
    "bottom_text[3:]"
   ]
  },
  {
   "cell_type": "code",
   "execution_count": 17,
   "metadata": {
    "kernel": "SoS"
   },
   "outputs": [
    {
     "data": {
      "image/png": "[encoded data removed]",
      "text/plain": [
       "<wand.image.Image: 0b01429 'PDF' (716x812)>"
      ]
     },
     "metadata": {},
     "output_type": "display_data"
    }
   ],
   "source": [
    "tbe1  = \"This table estimates eq(X). \" \\\n",
    "\"Heteroskedasticity-robust standard errors\" \\\n",
    "\"clustered at the firm level appear inparentheses.\"\\\n",
    "\"Dependent variables include firm's TFP level \" \\\n",
    "\" Independent variable cashflow is measured as net income + depreciation over asset;\"\\\n",
    "\" current ratio is measured as current asset over current liabilities. \" \\\n",
    "\"\\sym{*} Significance at the 10\\%, \\sym{**} Significance at the 5\\%, \\sym{***} Significance at the 1\\%.\"\n",
    "\n",
    "#multicolumn ={\n",
    "#    'Eligible': 2,\n",
    "#    'Non-Eligible': 1,\n",
    "#    'All': 1,\n",
    "#    'All benchmark': 1,\n",
    "#}\n",
    "\n",
    "reorder = {\n",
    "    12:3,\n",
    "    13:4,\n",
    "    14:5\n",
    "}\n",
    "\n",
    "#multi_lines_dep = '(city/product/trade regime/year)'\n",
    "#new_r = ['& test1', 'test2']\n",
    "lb.beautify(table_number = table_nb,\n",
    "            reorder_var = reorder,\n",
    "            #multi_lines_dep = multi_lines_dep,\n",
    "            #new_row= new_r,\n",
    "            #multicolumn = multicolumn,\n",
    "            table_nte = tbe1,\n",
    "            jupyter_preview = True,\n",
    "            resolution = 150,\n",
    "            folder = folder)"
   ]
  },
  {
   "cell_type": "markdown",
   "metadata": {
    "kernel": "SoS"
   },
   "source": [
    "## Table 3: city characteristic structure effect"
   ]
  },
  {
   "cell_type": "markdown",
   "metadata": {
    "kernel": "SoS"
   },
   "source": [
    "### TCZ"
   ]
  },
  {
   "cell_type": "code",
   "execution_count": 18,
   "metadata": {
    "kernel": "SoS"
   },
   "outputs": [],
   "source": [
    "folder = 'Tables_0'\n",
    "table_nb = 1\n",
    "table = 'table_{}'.format(table_nb)\n",
    "path = os.path.join(folder, table + '.txt')\n",
    "if os.path.exists(folder) == False:\n",
    "        os.mkdir(folder)\n",
    "for ext in ['.txt', '.tex', '.pdf']:\n",
    "    x = [a for a in os.listdir(folder) if a.endswith(ext)]\n",
    "    [os.remove(os.path.join(folder, i)) for i in x]"
   ]
  },
  {
   "cell_type": "code",
   "execution_count": 19,
   "metadata": {
    "kernel": "R"
   },
   "outputs": [],
   "source": [
    "%get path table \n",
    "t_0 <- felm(log(tfp_op) ~ \n",
    "            log(cashflow_to_tangible) * tcz+ \n",
    "            log(asset_tangibility_tot_asset) +\n",
    "            log(labor_capital) +\n",
    "            log(total_asset) + \n",
    "            log(age) +\n",
    "            export_to_sale \n",
    "            | firm + year + indu_2|0 | firm, df_final,\n",
    "            exactDOF = TRUE)\n",
    "t_1 <- felm(log(tfp_op) ~ \n",
    "            log(current_ratio) * tcz+ \n",
    "            log(asset_tangibility_tot_asset) +\n",
    "            log(labor_capital) +\n",
    "            log(total_asset) + \n",
    "            log(age) +\n",
    "            export_to_sale \n",
    "            | firm + year + indu_2|0 | firm, df_final,\n",
    "            exactDOF = TRUE)\n",
    "t_2 <- felm(log(tfp_op) ~ \n",
    "            log(liabilities_tot_asset)* tcz + \n",
    "            log(asset_tangibility_tot_asset) +\n",
    "            log(labor_capital) +\n",
    "            log(total_asset) + \n",
    "            log(age) +\n",
    "            export_to_sale \n",
    "            | firm + year + indu_2|0 | firm, df_final,\n",
    "            exactDOF = TRUE)\n",
    "###\n",
    "t_3 <- felm(log(tfp_op) ~ \n",
    "            log(cashflow_to_tangible) * tcz+ \n",
    "            log(current_ratio) * tcz+ \n",
    "            log(liabilities_tot_asset) * tcz+ \n",
    "            log(asset_tangibility_tot_asset) +\n",
    "            log(labor_capital) +\n",
    "            log(total_asset) + \n",
    "            log(age) +\n",
    "            export_to_sale \n",
    "            | firm + year + indu_2|0 | firm, df_final,\n",
    "            exactDOF = TRUE)\n",
    "t_3 <- change_target(t_3)\n",
    "### More control\n",
    "t_4 <- felm(log(tfp_op) ~ \n",
    "            log(cashflow_to_tangible) * tcz+ \n",
    "            log(current_ratio) * tcz+ \n",
    "            log(liabilities_tot_asset) * tcz+ \n",
    "            log(asset_tangibility_tot_asset) +\n",
    "            log(labor_capital) +\n",
    "            log(total_asset) + \n",
    "            log(age) +\n",
    "            export_to_sale +\n",
    "            supply_all_credit\n",
    "            | firm + year + indu_2|0 | firm, df_final,\n",
    "            exactDOF = TRUE)\n",
    "t_4 <- change_target(t_4)\n",
    "t_5 <- felm(log(tfp_op) ~ \n",
    "            log(cashflow_to_tangible)* tcz + \n",
    "            log(current_ratio) * tcz+ \n",
    "            log(liabilities_tot_asset) * tcz+ \n",
    "            log(asset_tangibility_tot_asset) +\n",
    "            log(labor_capital) +\n",
    "            log(total_asset) + \n",
    "            log(age) +\n",
    "            export_to_sale +\n",
    "            supply_long_term_credit \n",
    "            | firm + year + indu_2|0 | firm, df_final,\n",
    "            exactDOF = TRUE)\n",
    "t_5 <- change_target(t_5)\n",
    "t_6 <- felm(log(tfp_op) ~ \n",
    "            log(cashflow_to_tangible) * tcz+ \n",
    "            log(current_ratio) * tcz+ \n",
    "            log(liabilities_tot_asset) * tcz+ \n",
    "            log(asset_tangibility_tot_asset) +\n",
    "            log(labor_capital) +\n",
    "            log(total_asset) + \n",
    "            log(age) +\n",
    "            export_to_sale +\n",
    "            credit_constraint\n",
    "            | firm + year|0 | firm, df_final,\n",
    "            exactDOF = TRUE)\n",
    "t_6 <- change_target(t_6)\n",
    "\n",
    "dep <- \"Dependent variable: Total factor productivity\"\n",
    "fe1 <- list(\n",
    "    c(\"firm\", \"Yes\", \"Yes\", \"Yes\", \"Yes\", \"Yes\", \"Yes\", \"Yes\"),\n",
    "    c(\"industry\", \"Yes\", \"Yes\", \"Yes\", \"Yes\", \"Yes\", \"No\", \"No\"),\n",
    "    c(\"year\", \"Yes\", \"Yes\", \"Yes\", \"Yes\", \"Yes\", \"Yes\", \"Yes\")\n",
    "             )\n",
    "\n",
    "table_1 <- go_latex(list(\n",
    "    t_0, t_1, t_2, t_3, t_4,t_5, t_6\n",
    "),\n",
    "    title=\"City characteristics TCZ\",\n",
    "    dep_var = dep,\n",
    "    addFE=fe1,\n",
    "    save=TRUE,\n",
    "    note = FALSE,\n",
    "    name=path\n",
    ") "
   ]
  },
  {
   "cell_type": "code",
   "execution_count": 20,
   "metadata": {
    "kernel": "SoS"
   },
   "outputs": [
    {
     "data": {
      "image/png": "[encoded data removed]",
      "text/plain": [
       "<wand.image.Image: 5a6a280 'PDF' (716x854)>"
      ]
     },
     "metadata": {},
     "output_type": "display_data"
    }
   ],
   "source": [
    "tbe1  = \"This table estimates eq(X). \" \\\n",
    "\"Heteroskedasticity-robust standard errors\" \\\n",
    "\"clustered at the firm level appear inparentheses.\"\\\n",
    "\"Dependent variables include firm's TFP level \" \\\n",
    "\" Independent variable cashflow is measured as net income + depreciation over asset;\"\\\n",
    "\" current ratio is measured as current asset over current liabilities. \" \\\n",
    "\"\\sym{*} Significance at the 10\\%, \\sym{**} Significance at the 5\\%, \\sym{***} Significance at the 1\\%.\"\n",
    "\n",
    "#multicolumn ={\n",
    "#    'Eligible': 2,\n",
    "#    'Non-Eligible': 1,\n",
    "#    'All': 1,\n",
    "#    'All benchmark': 1,\n",
    "#}\n",
    "\n",
    "reorder = {\n",
    "    12:3,\n",
    "    13:4,\n",
    "    14:5\n",
    "}\n",
    "\n",
    "#multi_lines_dep = '(city/product/trade regime/year)'\n",
    "#new_r = ['& test1', 'test2']\n",
    "lb.beautify(table_number = table_nb,\n",
    "            reorder_var = reorder,\n",
    "            #multi_lines_dep = multi_lines_dep,\n",
    "            #new_row= new_r,\n",
    "            #multicolumn = multicolumn,\n",
    "            table_nte = tbe1,\n",
    "            jupyter_preview = True,\n",
    "            resolution = 150,\n",
    "            folder = folder)"
   ]
  },
  {
   "cell_type": "markdown",
   "metadata": {
    "kernel": "SoS"
   },
   "source": [
    "### SPZ"
   ]
  },
  {
   "cell_type": "code",
   "execution_count": 21,
   "metadata": {
    "kernel": "SoS"
   },
   "outputs": [],
   "source": [
    "folder = 'Tables_0'\n",
    "table_nb = 1\n",
    "table = 'table_{}'.format(table_nb)\n",
    "path = os.path.join(folder, table + '.txt')\n",
    "if os.path.exists(folder) == False:\n",
    "        os.mkdir(folder)\n",
    "for ext in ['.txt', '.tex', '.pdf']:\n",
    "    x = [a for a in os.listdir(folder) if a.endswith(ext)]\n",
    "    [os.remove(os.path.join(folder, i)) for i in x]"
   ]
  },
  {
   "cell_type": "code",
   "execution_count": 22,
   "metadata": {
    "kernel": "R"
   },
   "outputs": [],
   "source": [
    "%get path table \n",
    "t_0 <- felm(log(tfp_op) ~ \n",
    "            log(cashflow_to_tangible) * spz+ \n",
    "            log(asset_tangibility_tot_asset) +\n",
    "            log(labor_capital) +\n",
    "            log(total_asset) + \n",
    "            log(age) +\n",
    "            export_to_sale \n",
    "            | firm + year + indu_2|0 | firm, df_final,\n",
    "            exactDOF = TRUE)\n",
    "t_1 <- felm(log(tfp_op) ~ \n",
    "            log(current_ratio) * spz+ \n",
    "            log(asset_tangibility_tot_asset) +\n",
    "            log(labor_capital) +\n",
    "            log(total_asset) + \n",
    "            log(age) +\n",
    "            export_to_sale \n",
    "            | firm + year + indu_2|0 | firm, df_final,\n",
    "            exactDOF = TRUE)\n",
    "t_2 <- felm(log(tfp_op) ~ \n",
    "            log(liabilities_tot_asset)* spz + \n",
    "            log(asset_tangibility_tot_asset) +\n",
    "            log(labor_capital) +\n",
    "            log(total_asset) + \n",
    "            log(age) +\n",
    "            export_to_sale \n",
    "            | firm + year + indu_2|0 | firm, df_final,\n",
    "            exactDOF = TRUE)\n",
    "###\n",
    "t_3 <- felm(log(tfp_op) ~ \n",
    "            log(cashflow_to_tangible) * spz+ \n",
    "            log(current_ratio) * spz+ \n",
    "            log(liabilities_tot_asset) * spz+ \n",
    "            log(asset_tangibility_tot_asset) +\n",
    "            log(labor_capital) +\n",
    "            log(total_asset) + \n",
    "            log(age) +\n",
    "            export_to_sale \n",
    "            | firm + year + indu_2|0 | firm, df_final,\n",
    "            exactDOF = TRUE)\n",
    "t_3 <- change_target(t_3)\n",
    "### More control\n",
    "t_4 <- felm(log(tfp_op) ~ \n",
    "            log(cashflow_to_tangible) * spz+ \n",
    "            log(current_ratio) * spz+ \n",
    "            log(liabilities_tot_asset) * spz+ \n",
    "            log(asset_tangibility_tot_asset) +\n",
    "            log(labor_capital) +\n",
    "            log(total_asset) + \n",
    "            log(age) +\n",
    "            export_to_sale +\n",
    "            supply_all_credit\n",
    "            | firm + year + indu_2|0 | firm, df_final,\n",
    "            exactDOF = TRUE)\n",
    "t_4 <- change_target(t_4)\n",
    "t_5 <- felm(log(tfp_op) ~ \n",
    "            log(cashflow_to_tangible)* spz + \n",
    "            log(current_ratio) * spz+ \n",
    "            log(liabilities_tot_asset) * spz+ \n",
    "            log(asset_tangibility_tot_asset) +\n",
    "            log(labor_capital) +\n",
    "            log(total_asset) + \n",
    "            log(age) +\n",
    "            export_to_sale +\n",
    "            supply_long_term_credit \n",
    "            | firm + year + indu_2|0 | firm, df_final,\n",
    "            exactDOF = TRUE)\n",
    "t_5 <- change_target(t_5)\n",
    "t_6 <- felm(log(tfp_op) ~ \n",
    "            log(cashflow_to_tangible) * spz+ \n",
    "            log(current_ratio) * spz+ \n",
    "            log(liabilities_tot_asset) * spz+ \n",
    "            log(asset_tangibility_tot_asset) +\n",
    "            log(labor_capital) +\n",
    "            log(total_asset) + \n",
    "            log(age) +\n",
    "            export_to_sale +\n",
    "            credit_constraint\n",
    "            | firm + year|0 | firm, df_final,\n",
    "            exactDOF = TRUE)\n",
    "t_6 <- change_target(t_6)\n",
    "dep <- \"Dependent variable: Total factor productivity\"\n",
    "fe1 <- list(\n",
    "    c(\"firm\", \"Yes\", \"Yes\", \"Yes\", \"Yes\", \"Yes\", \"Yes\", \"Yes\"),\n",
    "    c(\"industry\", \"Yes\", \"Yes\", \"Yes\", \"Yes\", \"Yes\", \"No\", \"No\"),\n",
    "    c(\"year\", \"Yes\", \"Yes\", \"Yes\", \"Yes\", \"Yes\", \"Yes\", \"Yes\")\n",
    "             )\n",
    "\n",
    "table_1 <- go_latex(list(\n",
    "    t_0, t_1, t_2, t_3, t_4,t_5, t_6\n",
    "),\n",
    "    title=\"City characteristics SPZ\",\n",
    "    dep_var = dep,\n",
    "    addFE=fe1,\n",
    "    save=TRUE,\n",
    "    note = FALSE,\n",
    "    name=path\n",
    ") "
   ]
  },
  {
   "cell_type": "code",
   "execution_count": 23,
   "metadata": {
    "kernel": "SoS"
   },
   "outputs": [
    {
     "data": {
      "image/png": "[encoded data removed]",
      "text/plain": [
       "<wand.image.Image: 4155222 'PDF' (716x852)>"
      ]
     },
     "metadata": {},
     "output_type": "display_data"
    }
   ],
   "source": [
    "tbe1  = \"This table estimates eq(X). \" \\\n",
    "\"Heteroskedasticity-robust standard errors\" \\\n",
    "\"clustered at the firm level appear inparentheses.\"\\\n",
    "\"Dependent variables include firm's TFP level \" \\\n",
    "\" Independent variable cashflow is measured as net income + depreciation over asset;\"\\\n",
    "\" current ratio is measured as current asset over current liabilities. \" \\\n",
    "\"\\sym{*} Significance at the 10\\%, \\sym{**} Significance at the 5\\%, \\sym{***} Significance at the 1\\%.\"\n",
    "\n",
    "#multicolumn ={\n",
    "#    'Eligible': 2,\n",
    "#    'Non-Eligible': 1,\n",
    "#    'All': 1,\n",
    "#    'All benchmark': 1,\n",
    "#}\n",
    "\n",
    "reorder = {\n",
    "    12:3,\n",
    "    13:4,\n",
    "    14:5\n",
    "}\n",
    "\n",
    "#multi_lines_dep = '(city/product/trade regime/year)'\n",
    "#new_r = ['& test1', 'test2']\n",
    "lb.beautify(table_number = table_nb,\n",
    "            reorder_var = reorder,\n",
    "            #multi_lines_dep = multi_lines_dep,\n",
    "            #new_row= new_r,\n",
    "            #multicolumn = multicolumn,\n",
    "            table_nte = tbe1,\n",
    "            jupyter_preview = True,\n",
    "            resolution = 150,\n",
    "            folder = folder)"
   ]
  },
  {
   "cell_type": "code",
   "execution_count": 27,
   "metadata": {
    "kernel": "SoS"
   },
   "outputs": [],
   "source": [
    "folder = 'Tables_0'\n",
    "table_nb = 1\n",
    "table = 'table_{}'.format(table_nb)\n",
    "path = os.path.join(folder, table + '.txt')\n",
    "if os.path.exists(folder) == False:\n",
    "        os.mkdir(folder)\n",
    "for ext in ['.txt', '.tex', '.pdf']:\n",
    "    x = [a for a in os.listdir(folder) if a.endswith(ext)]\n",
    "    [os.remove(os.path.join(folder, i)) for i in x]"
   ]
  },
  {
   "cell_type": "markdown",
   "metadata": {
    "kernel": "SoS",
    "nteract": {
     "transient": {
      "deleting": false
     }
    }
   },
   "source": [
    "# Generate reports"
   ]
  },
  {
   "cell_type": "code",
   "execution_count": 28,
   "metadata": {
    "kernel": "python3",
    "nteract": {
     "transient": {
      "deleting": false
     }
    },
    "outputExpanded": false
   },
   "outputs": [],
   "source": [
    "import os, time, shutil, urllib, ipykernel, json\n",
    "from pathlib import Path\n",
    "from notebook import notebookapp"
   ]
  },
  {
   "cell_type": "code",
   "execution_count": 29,
   "metadata": {
    "kernel": "python3",
    "nteract": {
     "transient": {
      "deleting": false
     }
    },
    "outputExpanded": false
   },
   "outputs": [],
   "source": [
    "def create_report(extension = \"html\", keep_code = False, notebookname = None):\n",
    "    \"\"\"\n",
    "    Create a report from the current notebook and save it in the \n",
    "    Report folder (Parent-> child directory)\n",
    "    \n",
    "    1. Exctract the current notbook name\n",
    "    2. Convert the Notebook \n",
    "    3. Move the newly created report\n",
    "    \n",
    "    Args:\n",
    "    extension: string. Can be \"html\", \"pdf\", \"md\"\n",
    "    \n",
    "    \n",
    "    \"\"\"\n",
    "    \n",
    "    ### Get notebook name\n",
    "    connection_file = os.path.basename(ipykernel.get_connection_file())\n",
    "    kernel_id = connection_file.split('-', 1)[0].split('.')[0]\n",
    "\n",
    "    for srv in notebookapp.list_running_servers():\n",
    "        try:\n",
    "            if srv['token']=='' and not srv['password']:  \n",
    "                req = urllib.request.urlopen(srv['url']+'api/sessions')\n",
    "            else:\n",
    "                req = urllib.request.urlopen(srv['url']+ \\\n",
    "                                             'api/sessions?token=' + \\\n",
    "                                             srv['token'])\n",
    "            sessions = json.load(req)\n",
    "            notebookname = sessions[0]['name']\n",
    "        except:\n",
    "            notebookname = notebookname  \n",
    "    \n",
    "    sep = '.'\n",
    "    path = os.getcwd()\n",
    "    #parent_path = str(Path(path).parent)\n",
    "    \n",
    "    ### Path report\n",
    "    #path_report = \"{}/Reports\".format(parent_path)\n",
    "    #path_report = \"{}/Reports\".format(path)\n",
    "    \n",
    "    ### Path destination\n",
    "    name_no_extension = notebookname.split(sep, 1)[0]\n",
    "    source_to_move = name_no_extension +'.{}'.format(extension)\n",
    "    dest = os.path.join(path,'Reports', source_to_move)\n",
    "    \n",
    "    ### Generate notebook\n",
    "    if keep_code:\n",
    "        os.system('jupyter nbconvert --to {} {}'.format(\n",
    "    extension,notebookname))\n",
    "    else:\n",
    "        os.system('jupyter nbconvert --no-input --to {} {}'.format(\n",
    "    extension,notebookname))\n",
    "    \n",
    "    ### Move notebook to report folder\n",
    "    #time.sleep(5)\n",
    "    shutil.move(source_to_move, dest)\n",
    "    print(\"Report Available at this adress:\\n {}\".format(dest))"
   ]
  },
  {
   "cell_type": "code",
   "execution_count": null,
   "metadata": {
    "kernel": "python3",
    "nteract": {
     "transient": {
      "deleting": false
     }
    },
    "outputExpanded": false
   },
   "outputs": [],
   "source": [
    "create_report(extension = \"html\", keep_code = False, notebookname = \"05_tfp_firm_level.ipynb\")"
   ]
  }
 ],
 "metadata": {
  "jupytext": {
   "formats": "ipynb,md"
  },
  "kernel_info": {
   "name": "python3"
  },
  "kernelspec": {
   "display_name": "SoS",
   "language": "sos",
   "name": "sos"
  },
  "language_info": {
   "codemirror_mode": "sos",
   "file_extension": ".sos",
   "mimetype": "text/x-sos",
   "name": "sos",
   "nbconvert_exporter": "sos_notebook.converter.SoS_Exporter",
   "pygments_lexer": "sos"
  },
  "nteract": {
   "version": "0.26.0"
  },
  "sos": {
   "kernels": [
    [
     "R",
     "ir",
     "R",
     "#DCDCDA",
     "r"
    ],
    [
     "SoS",
     "sos",
     "",
     "",
     "sos"
    ],
    [
     "python3",
     "python3",
     "python",
     "",
     {
      "name": "ipython",
      "version": 3
     }
    ]
   ],
   "version": "0.20.1"
  },
  "toc": {
   "base_numbering": 1,
   "nav_menu": {},
   "number_sections": true,
   "sideBar": true,
   "skip_h1_title": false,
   "title_cell": "Table of Contents",
   "title_sidebar": "Contents",
   "toc_cell": false,
   "toc_position": {},
   "toc_section_display": true,
   "toc_window_display": false
  }
 },
 "nbformat": 4,
 "nbformat_minor": 4
}
