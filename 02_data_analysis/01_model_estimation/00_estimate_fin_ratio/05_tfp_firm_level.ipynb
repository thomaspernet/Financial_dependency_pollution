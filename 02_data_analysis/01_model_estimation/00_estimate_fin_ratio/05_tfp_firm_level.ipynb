{
 "cells": [
  {
   "cell_type": "markdown",
   "metadata": {
    "kernel": "SoS"
   },
   "source": [
    "# US Name\n",
    "\n",
    "Estimate tfp_OP_f as a function of  asset_tangibility and others (Estimate table 6 with TFP) \n",
    "\n",
    "# Business needs \n",
    "\n",
    "Estimate tfp_OP_f as a function of  asset_tangibility, cash_over_total_asset, credit constraint, current ratio, sales over asset Andersen method, liabilities over asset (Estimate table 6 by using TFP instead of asset tangibility to explain a new channel of impact) \n",
    "\n",
    "## Description\n",
    "### Objective \n",
    "\n",
    "Test the coefficient sign and significant of the main variable\n",
    "\n",
    "### Tables\n",
    "\n",
    "Table 1: Baseline Estimate, tfp_OP_f and asset_tangibility, cash_over_total_asset, credit constraint, current ratio, sales over asset Andersen method, liabilities over asset\n",
    "\n",
    "**Cautious**\n",
    "Make sure no empty rows, otherwise it will be filtered out in the estimate\n",
    "\n",
    "\n",
    "# Metadata\n",
    "\n",
    "- Key: rae81txps49928f\n",
    "- Epic: Models\n",
    "- US: Estimate TFP\n",
    "- Task tag: #analytics, #andersen, #tfp, #econometrics\n",
    "- Analytics reports: \n",
    "\n",
    "# Input Cloud Storage\n",
    "\n",
    "## Table/file\n",
    "\n",
    "**Name** \n",
    "\n",
    "- https://github.com/thomaspernet/Financial_dependency_pollution/blob/master/01_data_preprocessing/02_transform_tables/09_asif_tfp_firm_baseline.md\n",
    "\n",
    "**Github**\n",
    "\n",
    "- DATA/ECON/FIRM_SURVEY/ASIF_CHINA/TRANSFORMED/TFP/CREDIT_CONSTRAINT\n",
    "\n"
   ]
  },
  {
   "cell_type": "markdown",
   "metadata": {
    "kernel": "SoS"
   },
   "source": [
    "# Connexion server"
   ]
  },
  {
   "cell_type": "code",
   "execution_count": 1,
   "metadata": {
    "kernel": "SoS"
   },
   "outputs": [],
   "source": [
    "from awsPy.aws_authorization import aws_connector\n",
    "from awsPy.aws_s3 import service_s3\n",
    "from awsPy.aws_glue import service_glue\n",
    "from pathlib import Path\n",
    "import pandas as pd\n",
    "import numpy as np\n",
    "#import seaborn as sns\n",
    "import os, shutil, json\n",
    "\n",
    "path = os.getcwd()\n",
    "parent_path = str(Path(path).parent.parent.parent)\n",
    "\n",
    "\n",
    "name_credential = 'financial_dep_SO2_accessKeys.csv'\n",
    "region = 'eu-west-3'\n",
    "bucket = 'datalake-datascience'\n",
    "path_cred = \"{0}/creds/{1}\".format(parent_path, name_credential)"
   ]
  },
  {
   "cell_type": "code",
   "execution_count": 2,
   "metadata": {
    "kernel": "SoS"
   },
   "outputs": [],
   "source": [
    "con = aws_connector.aws_instantiate(credential = path_cred,\n",
    "                                       region = region)\n",
    "client= con.client_boto()\n",
    "s3 = service_s3.connect_S3(client = client,\n",
    "                      bucket = bucket, verbose = False)\n",
    "glue = service_glue.connect_glue(client = client) "
   ]
  },
  {
   "cell_type": "code",
   "execution_count": 3,
   "metadata": {
    "kernel": "SoS"
   },
   "outputs": [],
   "source": [
    "pandas_setting = True\n",
    "if pandas_setting:\n",
    "    #cm = sns.light_palette(\"green\", as_cmap=True)\n",
    "    pd.set_option('display.max_columns', None)\n",
    "    pd.set_option('display.max_colwidth', None)"
   ]
  },
  {
   "cell_type": "code",
   "execution_count": 4,
   "metadata": {
    "kernel": "SoS",
    "nteract": {
     "transient": {
      "deleting": false
     }
    }
   },
   "outputs": [],
   "source": [
    "os.environ['KMP_DUPLICATE_LIB_OK']='True'\n"
   ]
  },
  {
   "cell_type": "markdown",
   "metadata": {
    "kernel": "SoS"
   },
   "source": [
    "# Load tables\n",
    "\n",
    "Since we load the data as a Pandas DataFrame, we want to pass the `dtypes`. We load the schema from Glue to guess the types"
   ]
  },
  {
   "cell_type": "code",
   "execution_count": 5,
   "metadata": {
    "kernel": "SoS"
   },
   "outputs": [],
   "source": [
    "db = 'firms_survey'\n",
    "table = 'asif_tfp_credit_constraint'"
   ]
  },
  {
   "cell_type": "code",
   "execution_count": 6,
   "metadata": {
    "kernel": "SoS"
   },
   "outputs": [],
   "source": [
    "dtypes = {}\n",
    "schema = (glue.get_table_information(database = db,\n",
    "                           table = table)\n",
    "          ['Table']['StorageDescriptor']['Columns']\n",
    "         )\n",
    "for key, value in enumerate(schema):\n",
    "    if value['Type'] in ['varchar(12)']:\n",
    "        format_ = 'string'\n",
    "    elif value['Type'] in ['decimal(21,5)', 'double', 'bigint', 'int', 'float']:\n",
    "        format_ = 'float'\n",
    "    else:\n",
    "        format_ = value['Type'] \n",
    "    dtypes.update(\n",
    "        {value['Name']:format_}\n",
    "    )"
   ]
  },
  {
   "cell_type": "code",
   "execution_count": 7,
   "metadata": {
    "kernel": "SoS"
   },
   "outputs": [],
   "source": [
    "download_data = True\n",
    "filename = 'df_{}'.format(table)\n",
    "full_path_filename = 'SQL_OUTPUT_ATHENA/CSV/{}.csv'.format(filename)\n",
    "path_local = os.path.join(str(Path(path).parent.parent.parent), \n",
    "                              \"00_data_catalogue/temporary_local_data\")\n",
    "df_path = os.path.join(path_local, filename + '.csv')\n",
    "if download_data:\n",
    "    \n",
    "    s3 = service_s3.connect_S3(client = client,\n",
    "                          bucket = bucket, verbose = False)\n",
    "    query = \"\"\"\n",
    "    SELECT * \n",
    "    FROM {}.{}\n",
    "    WHERE \n",
    "    cashflow_to_tangible > 0\n",
    "    AND current_ratio > 0\n",
    "    AND liabilities_tot_asset > 0\n",
    "    AND year in (\n",
    "        '2001', '2002', '2003', '2004', '2005', \n",
    "        '2006', '2007'\n",
    "      )\n",
    "    \"\"\".format(db, table)\n",
    "    df = (s3.run_query(\n",
    "        query=query,\n",
    "        database=db,\n",
    "        s3_output='SQL_OUTPUT_ATHENA',\n",
    "        filename=filename,  # Add filename to print dataframe\n",
    "        destination_key='SQL_OUTPUT_ATHENA/CSV',  #Use it temporarily\n",
    "        dtype = dtypes\n",
    "    )\n",
    "            )\n",
    "    s3.download_file(\n",
    "        key = full_path_filename\n",
    "    )\n",
    "    shutil.move(\n",
    "        filename + '.csv',\n",
    "        os.path.join(path_local, filename + '.csv')\n",
    "    )\n",
    "    s3.remove_file(full_path_filename)\n",
    "    df.head()"
   ]
  },
  {
   "cell_type": "code",
   "execution_count": 8,
   "metadata": {
    "kernel": "SoS",
    "nteract": {
     "transient": {
      "deleting": false
     }
    }
   },
   "outputs": [
    {
     "data": {
      "text/html": [
       "<div>\n",
       "<style scoped>\n",
       "    .dataframe tbody tr th:only-of-type {\n",
       "        vertical-align: middle;\n",
       "    }\n",
       "\n",
       "    .dataframe tbody tr th {\n",
       "        vertical-align: top;\n",
       "    }\n",
       "\n",
       "    .dataframe thead th {\n",
       "        text-align: right;\n",
       "    }\n",
       "</style>\n",
       "<table border=\"1\" class=\"dataframe\">\n",
       "  <thead>\n",
       "    <tr style=\"text-align: right;\">\n",
       "      <th></th>\n",
       "      <th>Name</th>\n",
       "      <th>Type</th>\n",
       "      <th>Comment</th>\n",
       "    </tr>\n",
       "  </thead>\n",
       "  <tbody>\n",
       "    <tr>\n",
       "      <th>0</th>\n",
       "      <td>firm</td>\n",
       "      <td>string</td>\n",
       "      <td>firm ID</td>\n",
       "    </tr>\n",
       "    <tr>\n",
       "      <th>1</th>\n",
       "      <td>year</td>\n",
       "      <td>string</td>\n",
       "      <td>year</td>\n",
       "    </tr>\n",
       "    <tr>\n",
       "      <th>2</th>\n",
       "      <td>period</td>\n",
       "      <td>varchar(5)</td>\n",
       "      <td>if year prior to 2006 then False else true. Indicate break from 10 and 11 FYP</td>\n",
       "    </tr>\n",
       "    <tr>\n",
       "      <th>3</th>\n",
       "      <td>cic</td>\n",
       "      <td>string</td>\n",
       "      <td>4 digits industry code</td>\n",
       "    </tr>\n",
       "    <tr>\n",
       "      <th>4</th>\n",
       "      <td>indu_2</td>\n",
       "      <td>string</td>\n",
       "      <td>Two digits industry. If length cic equals to 3, then add 0 to indu_2</td>\n",
       "    </tr>\n",
       "    <tr>\n",
       "      <th>...</th>\n",
       "      <td>...</td>\n",
       "      <td>...</td>\n",
       "      <td>...</td>\n",
       "    </tr>\n",
       "    <tr>\n",
       "      <th>73</th>\n",
       "      <td>count_city</td>\n",
       "      <td>string</td>\n",
       "      <td></td>\n",
       "    </tr>\n",
       "    <tr>\n",
       "      <th>74</th>\n",
       "      <td>count_industry</td>\n",
       "      <td>string</td>\n",
       "      <td></td>\n",
       "    </tr>\n",
       "    <tr>\n",
       "      <th>75</th>\n",
       "      <td>fe_c_i</td>\n",
       "      <td>bigint</td>\n",
       "      <td>City industry fixed effect</td>\n",
       "    </tr>\n",
       "    <tr>\n",
       "      <th>76</th>\n",
       "      <td>fe_t_i</td>\n",
       "      <td>bigint</td>\n",
       "      <td>year industry fixed effect</td>\n",
       "    </tr>\n",
       "    <tr>\n",
       "      <th>77</th>\n",
       "      <td>fe_c_t</td>\n",
       "      <td>bigint</td>\n",
       "      <td>city industry fixed effect</td>\n",
       "    </tr>\n",
       "  </tbody>\n",
       "</table>\n",
       "<p>78 rows × 3 columns</p>\n",
       "</div>"
      ],
      "text/plain": [
       "              Name        Type  \\\n",
       "0             firm      string   \n",
       "1             year      string   \n",
       "2           period  varchar(5)   \n",
       "3              cic      string   \n",
       "4           indu_2      string   \n",
       "..             ...         ...   \n",
       "73      count_city      string   \n",
       "74  count_industry      string   \n",
       "75          fe_c_i      bigint   \n",
       "76          fe_t_i      bigint   \n",
       "77          fe_c_t      bigint   \n",
       "\n",
       "                                                                          Comment  \n",
       "0                                                                         firm ID  \n",
       "1                                                                            year  \n",
       "2   if year prior to 2006 then False else true. Indicate break from 10 and 11 FYP  \n",
       "3                                                          4 digits industry code  \n",
       "4            Two digits industry. If length cic equals to 3, then add 0 to indu_2  \n",
       "..                                                                            ...  \n",
       "73                                                                                 \n",
       "74                                                                                 \n",
       "75                                                     City industry fixed effect  \n",
       "76                                                     year industry fixed effect  \n",
       "77                                                     city industry fixed effect  \n",
       "\n",
       "[78 rows x 3 columns]"
      ]
     },
     "execution_count": 8,
     "metadata": {},
     "output_type": "execute_result"
    }
   ],
   "source": [
    "pd.DataFrame(schema)"
   ]
  },
  {
   "cell_type": "markdown",
   "metadata": {
    "kernel": "SoS",
    "nteract": {
     "transient": {
      "deleting": false
     }
    }
   },
   "source": [
    "## Schema Latex table\n",
    "\n",
    "To rename a variable, please use the following template:\n",
    "\n",
    "```\n",
    "{\n",
    "    'old':'XX',\n",
    "    'new':'XX_1'\n",
    "    }\n",
    "```\n",
    "\n",
    "if you need to pass a latex format with `\\`, you need to duplicate it for instance, `\\text` becomes `\\\\text:\n",
    "\n",
    "```\n",
    "{\n",
    "    'old':'working\\_capital\\_i',\n",
    "    'new':'\\\\text{working capital}_i'\n",
    "    }\n",
    "```\n",
    "\n",
    "Then add it to the key `to_rename`"
   ]
  },
  {
   "cell_type": "code",
   "execution_count": 9,
   "metadata": {
    "kernel": "SoS",
    "nteract": {
     "transient": {
      "deleting": false
     }
    }
   },
   "outputs": [],
   "source": [
    "add_to_dic = True\n",
    "if add_to_dic:\n",
    "    if os.path.exists(\"schema_table.json\"):\n",
    "        os.remove(\"schema_table.json\")\n",
    "        data = {'to_rename':[], 'to_remove':[]}\n",
    "    dic_rename =  [\n",
    "        {\n",
    "        'old':'periodTRUE',\n",
    "        'new':'\\\\text{period}'\n",
    "        },\n",
    "        ### depd\n",
    "        {\n",
    "        'old':'total\\_asset',\n",
    "        'new':'\\\\text{size}'\n",
    "        },\n",
    "        {\n",
    "        'old':'tangible',\n",
    "        'new':'\\\\text{tangible asset}'\n",
    "        },\n",
    "        {\n",
    "        'old':'investment\\_tot\\_asset',\n",
    "        'new':'\\\\text{investment to asset}'\n",
    "        },\n",
    "        {\n",
    "        'old':'rd\\_tot\\_asset',\n",
    "        'new':'\\\\text{rd to asset}'\n",
    "        },\n",
    "        {\n",
    "        'old':'asset\\_tangibility\\_tot\\_asset',\n",
    "        'new':'\\\\text{collateral}'\n",
    "        },\n",
    "        \n",
    "        ### ind\n",
    "        {\n",
    "        'old':'current\\_ratio',\n",
    "        'new':'\\\\text{current ratio}'\n",
    "        },\n",
    "        {\n",
    "        'old':'quick\\_ratio',\n",
    "        'new':'\\\\text{quick ratio}'\n",
    "        },\n",
    "        {\n",
    "        'old':'liabilities\\_tot\\_asset',\n",
    "        'new':'\\\\text{leverage}'\n",
    "        },\n",
    "        {\n",
    "        'old':'sales\\_tot\\_asset',\n",
    "        'new':'\\\\text{sales to asset}'\n",
    "        },\n",
    "        {\n",
    "        'old':'cash\\_tot\\_asset',\n",
    "        'new':'\\\\text{cash to asset}'\n",
    "        },\n",
    "        {\n",
    "        'old':'cashflow\\_tot\\_asset',\n",
    "        'new':'\\\\text{cashflow to asset}'\n",
    "        },\n",
    "        {\n",
    "        'old':'cashflow\\_to\\_tangible',\n",
    "        'new':'\\\\text{cashflow}'\n",
    "        },\n",
    "        {\n",
    "        'old':'d\\_credit\\_constraintBELOW',\n",
    "        'new':'\\\\text{Fin dep}_{i}'\n",
    "        },\n",
    "        ## control\n",
    "        {\n",
    "        'old':'age + 1',\n",
    "        'new':'\\\\text{age}'\n",
    "        },\n",
    "        {\n",
    "        'old':'export\\_to\\_sale',\n",
    "        'new':'\\\\text{export to sale}'\n",
    "        },\n",
    "        {\n",
    "        'old':'labor\\_capital',\n",
    "        'new':'\\\\text{labor to capital}'\n",
    "        },\n",
    "        ### Supply demand external finance\n",
    "        {\n",
    "        'old':'supply\\_all\\_credit',\n",
    "        'new':'\\\\text{all credit}'\n",
    "        },\n",
    "        {\n",
    "        'old':'supply\\_long\\_term\\_credit',\n",
    "        'new':'\\\\text{long term credit}'\n",
    "        },\n",
    "        {\n",
    "        'old':'credit\\_constraint',\n",
    "        'new':'\\\\text{credit demand}'\n",
    "        },\n",
    "        {\n",
    "        'old':'soe\\_vs\\_priPRIVATE',\n",
    "        'new':'\\\\text{private}'\n",
    "        },\n",
    "    ]\n",
    "    \n",
    "\n",
    "    data['to_rename'].extend(dic_rename)\n",
    "    with open('schema_table.json', 'w') as outfile:\n",
    "        json.dump(data, outfile)"
   ]
  },
  {
   "cell_type": "code",
   "execution_count": 10,
   "metadata": {
    "kernel": "SoS"
   },
   "outputs": [],
   "source": [
    "import function.latex_beautify as lb\n",
    "\n",
    "#%load_ext autoreload\n",
    "#%autoreload 2"
   ]
  },
  {
   "cell_type": "code",
   "execution_count": 11,
   "metadata": {
    "kernel": "R"
   },
   "outputs": [
    {
     "name": "stderr",
     "output_type": "stream",
     "text": [
      "Registered S3 methods overwritten by 'ggplot2':\n",
      "  method         from \n",
      "  [.quosures     rlang\n",
      "  c.quosures     rlang\n",
      "  print.quosures rlang\n",
      "Registered S3 method overwritten by 'rvest':\n",
      "  method            from\n",
      "  read_xml.response xml2\n",
      "── Attaching packages ─────────────────────────────────────── tidyverse 1.2.1 ──\n",
      "✔ ggplot2 3.1.1       ✔ purrr   0.3.2  \n",
      "✔ tibble  2.1.1       ✔ dplyr   0.8.0.1\n",
      "✔ tidyr   0.8.3       ✔ stringr 1.4.0  \n",
      "✔ readr   1.3.1       ✔ forcats 0.4.0  \n",
      "── Conflicts ────────────────────────────────────────── tidyverse_conflicts() ──\n",
      "✖ dplyr::filter() masks stats::filter()\n",
      "✖ dplyr::lag()    masks stats::lag()\n",
      "Loading required package: Matrix\n",
      "\n",
      "Attaching package: ‘Matrix’\n",
      "\n",
      "The following object is masked from ‘package:tidyr’:\n",
      "\n",
      "    expand\n",
      "\n",
      "\n",
      "Please cite as: \n",
      "\n",
      " Hlavac, Marek (2018). stargazer: Well-Formatted Regression and Summary Statistics Tables.\n",
      " R package version 5.2.2. https://CRAN.R-project.org/package=stargazer \n",
      "\n"
     ]
    }
   ],
   "source": [
    "options(warn=-1)\n",
    "library(tidyverse)\n",
    "library(lfe)\n",
    "#library(lazyeval)\n",
    "library('progress')\n",
    "path = \"function/table_golatex.R\"\n",
    "source(path)"
   ]
  },
  {
   "cell_type": "code",
   "execution_count": 12,
   "metadata": {
    "kernel": "R"
   },
   "outputs": [
    {
     "name": "stderr",
     "output_type": "stream",
     "text": [
      "Parsed with column specification:\n",
      "cols(\n",
      "  .default = col_double(),\n",
      "  period = col_logical(),\n",
      "  short = col_character(),\n",
      "  province_en = col_character(),\n",
      "  ownership = col_character(),\n",
      "  soe_vs_pri = col_character(),\n",
      "  for_vs_dom = col_character(),\n",
      "  d_credit_constraint = col_character(),\n",
      "  rd_tot_asset = col_logical(),\n",
      "  avg_size_asset_fci = col_character(),\n",
      "  avg_size_output_fci = col_character(),\n",
      "  avg_employment_fci = col_character(),\n",
      "  avg_size_capital_fci = col_character(),\n",
      "  avg_sales_fci = col_character(),\n",
      "  size_asset_fci = col_character(),\n",
      "  size_asset_fc = col_character(),\n",
      "  size_asset_fi = col_character(),\n",
      "  size_output_fci = col_character(),\n",
      "  size_output_fc = col_character(),\n",
      "  size_output_fi = col_character(),\n",
      "  size_employment_fci = col_character()\n",
      "  # ... with 8 more columns\n",
      ")\n",
      "See spec(...) for full column specifications.\n"
     ]
    },
    {
     "data": {
      "text/html": [
       "<ol class=list-inline>\n",
       "\t<li>212831</li>\n",
       "\t<li>78</li>\n",
       "</ol>\n"
      ],
      "text/latex": [
       "\\begin{enumerate*}\n",
       "\\item 212831\n",
       "\\item 78\n",
       "\\end{enumerate*}\n"
      ],
      "text/markdown": [
       "1. 212831\n",
       "2. 78\n",
       "\n",
       "\n"
      ],
      "text/plain": [
       "[1] 212831     78"
      ]
     },
     "metadata": {},
     "output_type": "display_data"
    }
   ],
   "source": [
    "%get df_path\n",
    "df_final <- read_csv(df_path) %>%\n",
    "mutate_if(is.character, as.factor) %>%\n",
    "    mutate_at(vars(starts_with(\"fe\")), as.factor) %>%\n",
    "mutate(\n",
    "    period = relevel(as.factor(period), ref='FALSE'),\n",
    "    soe_vs_pri = relevel(as.factor(soe_vs_pri), ref='SOE')\n",
    ")\n",
    "dim(df_final)"
   ]
  },
  {
   "cell_type": "markdown",
   "metadata": {
    "kernel": "R"
   },
   "source": [
    "## Recall\n",
    "\n",
    "* Variables of interest capturing internal finance:\n",
    "  * current ratio\n",
    "  * cash over tangible asset\n",
    "* Variables of interest capturing external finance\n",
    "  * external finance dependance → demand of credit → industry level\n",
    "  * external supply of credit → supply of credit → province year\n",
    "    * all credits to gdp\n",
    "    * long term loan to gdp\n",
    "* Control\n",
    "  * return on sale\n",
    "  * leverage\n",
    "  * coverage ratio\n",
    "  * liquidity\n",
    "  * labor productivity\n",
    "  * age\n",
    "  * export to sale"
   ]
  },
  {
   "cell_type": "markdown",
   "metadata": {
    "kernel": "R"
   },
   "source": [
    "## Table 1: baseline Effect of internal finance on firm TFP\n",
    "\n",
    "$$ \\begin{aligned}\n",
    "\\begin{equation}\n",
    "\\mathrm{TFP}_{\\mathrm{it}}=\\beta_{1} \\text { Internal finance }_{\\mathrm{it}}+\\beta 2 \\text { X }_{\\mathrm{it}}+v_{t}+v_{k}+\\varepsilon_{\\mathrm{it}}\n",
    "\\end{equation}\n",
    "\\end{aligned} $$"
   ]
  },
  {
   "cell_type": "code",
   "execution_count": null,
   "metadata": {
    "kernel": "SoS"
   },
   "outputs": [],
   "source": [
    "folder = 'Tables_0'\n",
    "table_nb = 1\n",
    "table = 'table_{}'.format(table_nb)\n",
    "path = os.path.join(folder, table + '.txt')\n",
    "if os.path.exists(folder) == False:\n",
    "        os.mkdir(folder)\n",
    "for ext in ['.txt', '.tex', '.pdf']:\n",
    "    x = [a for a in os.listdir(folder) if a.endswith(ext)]\n",
    "    [os.remove(os.path.join(folder, i)) for i in x]"
   ]
  },
  {
   "cell_type": "code",
   "execution_count": null,
   "metadata": {
    "kernel": "R"
   },
   "outputs": [],
   "source": [
    "%get path table \n",
    "t_0 <- felm(log(tfp_op) ~ \n",
    "            log(cashflow_to_tangible) + \n",
    "            log(labor_capital) +\n",
    "            log(total_asset) + \n",
    "            log(age) +\n",
    "            export_to_sale \n",
    "            | firm + year + indu_2|0 | firm, df_final,\n",
    "            exactDOF = TRUE)\n",
    "t_1 <- felm(log(tfp_op) ~ \n",
    "            log(current_ratio) + \n",
    "            log(labor_capital) +\n",
    "            log(total_asset) + \n",
    "            log(age) +\n",
    "            export_to_sale \n",
    "            \n",
    "            | firm + year + indu_2|0 | firm, df_final,\n",
    "            exactDOF = TRUE)\n",
    "### More control\n",
    "t_2 <- felm(log(tfp_op) ~ \n",
    "            log(cashflow_to_tangible) + \n",
    "            log(labor_capital) +\n",
    "            log(total_asset) +\n",
    "            log(age) +\n",
    "            export_to_sale + \n",
    "            log(liabilities_tot_asset)\n",
    "            | firm + year + indu_2|0 | firm, df_final,\n",
    "            exactDOF = TRUE)\n",
    "t_3 <- felm(log(tfp_op) ~ \n",
    "            log(current_ratio) + \n",
    "            log(labor_capital) +\n",
    "            log(total_asset) + \n",
    "            log(age) +\n",
    "            export_to_sale +\n",
    "            log(liabilities_tot_asset)\n",
    "            | firm + year + indu_2|0 | firm, df_final,\n",
    "            exactDOF = TRUE)\n",
    "### More control\n",
    "t_4 <- felm(log(tfp_op) ~ \n",
    "            log(cashflow_to_tangible) + \n",
    "            log(labor_capital) +\n",
    "            log(total_asset) + \n",
    "            log(age) +\n",
    "            export_to_sale +\n",
    "            log(liabilities_tot_asset) +\n",
    "            log(asset_tangibility_tot_asset)\n",
    "            | firm + year + indu_2|0 | firm, df_final,\n",
    "            exactDOF = TRUE)\n",
    "t_5 <- felm(log(tfp_op) ~ \n",
    "            log(current_ratio) + \n",
    "            log(labor_capital) +\n",
    "            log(total_asset) + \n",
    "            log(age) +\n",
    "            export_to_sale +\n",
    "            log(liabilities_tot_asset) +\n",
    "            log(asset_tangibility_tot_asset)\n",
    "            | firm + year + indu_2|0 | firm, df_final,\n",
    "            exactDOF = TRUE)\n",
    "dep <- \"Dependent variable: Total factor productivity\"\n",
    "fe1 <- list(\n",
    "    c(\"firm\", \"Yes\", \"Yes\", \"Yes\", \"Yes\", \"Yes\", \"Yes\"),\n",
    "    c(\"industry-year\", \"Yes\", \"Yes\", \"Yes\", \"Yes\", \"Yes\", \"Yes\")\n",
    "             )\n",
    "\n",
    "table_1 <- go_latex(list(\n",
    "    t_0, t_1, t_2, t_3, t_4,t_5\n",
    "),\n",
    "    title=\"Baseline Estimate, effect of internal finance on firm TFP\",\n",
    "    dep_var = dep,\n",
    "    addFE=fe1,\n",
    "    save=TRUE,\n",
    "    note = FALSE,\n",
    "    name=path\n",
    ") "
   ]
  },
  {
   "cell_type": "code",
   "execution_count": null,
   "metadata": {
    "kernel": "SoS"
   },
   "outputs": [],
   "source": [
    "tbe1  = \"This table estimates eq(3). \" \\\n",
    "\"Heteroskedasticity-robust standard errors\" \\\n",
    "\"clustered at the product level appear inparentheses.\"\\\n",
    "\"\\sym{*} Significance at the 10\\%, \\sym{**} Significance at the 5\\%, \\sym{***} Significance at the 1\\%.\"\n",
    "\n",
    "#multicolumn ={\n",
    "#    'Eligible': 2,\n",
    "#    'Non-Eligible': 1,\n",
    "#    'All': 1,\n",
    "#    'All benchmark': 1,\n",
    "#}\n",
    "\n",
    "#multi_lines_dep = '(city/product/trade regime/year)'\n",
    "#new_r = ['& test1', 'test2']\n",
    "lb.beautify(table_number = table_nb,\n",
    "            #reorder_var = reorder,\n",
    "            #multi_lines_dep = multi_lines_dep,\n",
    "            #new_row= new_r,\n",
    "            #multicolumn = multicolumn,\n",
    "            table_nte = tbe1,\n",
    "            jupyter_preview = True,\n",
    "            resolution = 150,\n",
    "            folder = folder)"
   ]
  },
  {
   "cell_type": "markdown",
   "metadata": {
    "kernel": "SoS"
   },
   "source": [
    "## Table 2: baseline Effect of external credit demand on firm productivity\n",
    "\n",
    "1. Effect of external credit supply\n",
    "    - all credits\n",
    "    - long term credits\n",
    "2. Effect of external credit demand"
   ]
  },
  {
   "cell_type": "code",
   "execution_count": null,
   "metadata": {
    "kernel": "SoS"
   },
   "outputs": [],
   "source": [
    "folder = 'Tables_0'\n",
    "table_nb = 1\n",
    "table = 'table_{}'.format(table_nb)\n",
    "path = os.path.join(folder, table + '.txt')\n",
    "if os.path.exists(folder) == False:\n",
    "        os.mkdir(folder)\n",
    "for ext in ['.txt', '.tex', '.pdf']:\n",
    "    x = [a for a in os.listdir(folder) if a.endswith(ext)]\n",
    "    [os.remove(os.path.join(folder, i)) for i in x]"
   ]
  },
  {
   "cell_type": "code",
   "execution_count": null,
   "metadata": {
    "kernel": "R"
   },
   "outputs": [],
   "source": [
    "%get path table \n",
    "## Credit supply\n",
    "t_0 <- felm(log(tfp_op) ~ \n",
    "            log(cashflow_to_tangible) + \n",
    "            supply_all_credit +\n",
    "            log(labor_capital) +\n",
    "            log(total_asset) + \n",
    "            log(age) +\n",
    "            export_to_sale +\n",
    "            log(liabilities_tot_asset) +\n",
    "            log(asset_tangibility_tot_asset) \n",
    "            | firm + year + indu_2|0 | firm, df_final,\n",
    "            exactDOF = TRUE)\n",
    "\n",
    "t_1 <- felm(log(tfp_op) ~ \n",
    "            log(cashflow_to_tangible) + \n",
    "            supply_long_term_credit + \n",
    "            log(labor_capital) +\n",
    "            log(total_asset) + \n",
    "            log(age) +\n",
    "            export_to_sale +\n",
    "            log(liabilities_tot_asset) +\n",
    "            log(asset_tangibility_tot_asset) \n",
    "            | firm + year + indu_2|0 | firm, df_final,\n",
    "            exactDOF = TRUE)\n",
    "\n",
    "t_2 <- felm(log(tfp_op) ~ \n",
    "            log(current_ratio) + \n",
    "            supply_all_credit + \n",
    "            log(labor_capital) +\n",
    "            log(total_asset) + \n",
    "            log(age) +\n",
    "            export_to_sale +\n",
    "            log(liabilities_tot_asset) +\n",
    "            log(asset_tangibility_tot_asset) \n",
    "            | firm + year + indu_2|0 | firm, df_final,\n",
    "            exactDOF = TRUE)\n",
    "t_3 <- felm(log(tfp_op) ~ \n",
    "            log(current_ratio) + \n",
    "            supply_long_term_credit +\n",
    "            log(labor_capital) +\n",
    "            log(total_asset) + \n",
    "            log(age) +\n",
    "            export_to_sale +\n",
    "            log(liabilities_tot_asset) +\n",
    "            log(asset_tangibility_tot_asset) \n",
    "            | firm + year + indu_2|0 | firm, df_final,\n",
    "            exactDOF = TRUE)\n",
    "## Credit demand\n",
    "t_4 <- felm(log(tfp_op) ~ \n",
    "            log(cashflow_to_tangible) + \n",
    "            credit_constraint +\n",
    "            log(labor_capital) +\n",
    "            log(total_asset) + \n",
    "            log(age) +\n",
    "            export_to_sale +\n",
    "            log(liabilities_tot_asset) +\n",
    "            log(asset_tangibility_tot_asset) \n",
    "            | firm + year |0 | firm, df_final,\n",
    "            exactDOF = TRUE)\n",
    "\n",
    "t_5 <- felm(log(tfp_op) ~ \n",
    "            log(current_ratio) + \n",
    "            credit_constraint + \n",
    "            log(labor_capital) +\n",
    "            log(total_asset) + \n",
    "            log(age) +\n",
    "            export_to_sale +\n",
    "            log(liabilities_tot_asset) +\n",
    "            log(asset_tangibility_tot_asset)\n",
    "            | firm + year|0 | firm, df_final,\n",
    "            exactDOF = TRUE)\n",
    "dep <- \"Dependent variable: Total factor productivity\"\n",
    "fe1 <- list(\n",
    "    c(\"firm\", \"Yes\", \"Yes\", \"Yes\", \"Yes\", \"Yes\", \"Yes\"),\n",
    "    c(\"industry-year\", \"Yes\", \"Yes\", \"Yes\", \"Yes\", \"Yes\", \"Yes\")\n",
    "             )\n",
    "\n",
    "table_1 <- go_latex(list(\n",
    "    t_0, t_1, t_2, t_3, t_4,t_5\n",
    "),\n",
    "    title=\"Baseline Estimate, effect of external credit demand on firm TFP\",\n",
    "    dep_var = dep,\n",
    "    addFE=fe1,\n",
    "    save=TRUE,\n",
    "    note = FALSE,\n",
    "    name=path\n",
    ") "
   ]
  },
  {
   "cell_type": "code",
   "execution_count": null,
   "metadata": {
    "kernel": "SoS"
   },
   "outputs": [],
   "source": [
    "tbe1  = \"This table estimates eq(3). \" \\\n",
    "\"Heteroskedasticity-robust standard errors\" \\\n",
    "\"clustered at the product level appear inparentheses.\"\\\n",
    "\"\\sym{*} Significance at the 10\\%, \\sym{**} Significance at the 5\\%, \\sym{***} Significance at the 1\\%.\"\n",
    "\n",
    "#multicolumn ={\n",
    "#    'Eligible': 2,\n",
    "#    'Non-Eligible': 1,\n",
    "#    'All': 1,\n",
    "#    'All benchmark': 1,\n",
    "#}\n",
    "\n",
    "#multi_lines_dep = '(city/product/trade regime/year)'\n",
    "#new_r = ['& test1', 'test2']\n",
    "lb.beautify(table_number = table_nb,\n",
    "            #reorder_var = reorder,\n",
    "            #multi_lines_dep = multi_lines_dep,\n",
    "            #new_row= new_r,\n",
    "            #multicolumn = multicolumn,\n",
    "            table_nte = tbe1,\n",
    "            jupyter_preview = True,\n",
    "            resolution = 150,\n",
    "            folder = folder)"
   ]
  },
  {
   "cell_type": "markdown",
   "metadata": {
    "kernel": "SoS"
   },
   "source": [
    "## Table 3: baseline Effect of external credit demand on firm productivity (interaction term)"
   ]
  },
  {
   "cell_type": "code",
   "execution_count": null,
   "metadata": {
    "kernel": "SoS"
   },
   "outputs": [],
   "source": [
    "folder = 'Tables_0'\n",
    "table_nb = 1\n",
    "table = 'table_{}'.format(table_nb)\n",
    "path = os.path.join(folder, table + '.txt')\n",
    "if os.path.exists(folder) == False:\n",
    "        os.mkdir(folder)\n",
    "for ext in ['.txt', '.tex', '.pdf']:\n",
    "    x = [a for a in os.listdir(folder) if a.endswith(ext)]\n",
    "    [os.remove(os.path.join(folder, i)) for i in x]"
   ]
  },
  {
   "cell_type": "code",
   "execution_count": null,
   "metadata": {
    "kernel": "R"
   },
   "outputs": [],
   "source": [
    "%get path table \n",
    "## Credit supply\n",
    "t_0 <- felm(log(tfp_op) ~ \n",
    "            log(cashflow_to_tangible) * supply_all_credit +\n",
    "            log(labor_capital) +\n",
    "            log(total_asset) + \n",
    "            log(age) +\n",
    "            export_to_sale +\n",
    "            log(liabilities_tot_asset) +\n",
    "            log(asset_tangibility_tot_asset)\n",
    "            | firm + year + indu_2|0 | firm, df_final,\n",
    "            exactDOF = TRUE)\n",
    "\n",
    "t_1 <- felm(log(tfp_op) ~ \n",
    "            log(cashflow_to_tangible) *  supply_long_term_credit + \n",
    "            log(labor_capital) +\n",
    "            log(total_asset) + \n",
    "            log(age) +\n",
    "            export_to_sale +\n",
    "            log(liabilities_tot_asset) +\n",
    "            log(asset_tangibility_tot_asset)\n",
    "            | firm + year + indu_2|0 | firm, df_final,\n",
    "            exactDOF = TRUE)\n",
    "\n",
    "t_2 <- felm(log(tfp_op) ~ \n",
    "            log(current_ratio) *supply_all_credit+ \n",
    "            log(labor_capital) +\n",
    "            log(total_asset) + \n",
    "            log(age) +\n",
    "            export_to_sale +\n",
    "            log(liabilities_tot_asset) +\n",
    "            log(asset_tangibility_tot_asset)\n",
    "            | firm + year + indu_2|0 | firm, df_final,\n",
    "            exactDOF = TRUE)\n",
    "t_3 <- felm(log(tfp_op) ~ \n",
    "            log(current_ratio) * supply_long_term_credit +\n",
    "            log(labor_capital) +\n",
    "            log(total_asset) + \n",
    "            log(age) +\n",
    "            export_to_sale +\n",
    "            log(liabilities_tot_asset) +\n",
    "            log(asset_tangibility_tot_asset)\n",
    "            | firm + year + indu_2|0 | firm, df_final,\n",
    "            exactDOF = TRUE)\n",
    "## Credit demand\n",
    "t_4 <- felm(log(tfp_op) ~ \n",
    "            log(cashflow_to_tangible) *credit_constraint +\n",
    "            log(labor_capital) +\n",
    "            log(total_asset) + \n",
    "            log(age) +\n",
    "            export_to_sale +\n",
    "            log(liabilities_tot_asset) +\n",
    "            log(asset_tangibility_tot_asset) \n",
    "            | firm + year |0 | firm, df_final,\n",
    "            exactDOF = TRUE)\n",
    "\n",
    "t_5 <- felm(log(tfp_op) ~ \n",
    "            log(current_ratio) *credit_constraint + \n",
    "            log(labor_capital) +\n",
    "            log(total_asset) + \n",
    "            log(age) +\n",
    "            export_to_sale +\n",
    "            log(liabilities_tot_asset) +\n",
    "            log(asset_tangibility_tot_asset) \n",
    "            | firm + year|0 | firm, df_final,\n",
    "            exactDOF = TRUE)\n",
    "dep <- \"Dependent variable: Total factor productivity\"\n",
    "fe1 <- list(\n",
    "    c(\"firm\", \"Yes\", \"Yes\", \"Yes\", \"Yes\", \"Yes\", \"Yes\"),\n",
    "    c(\"industry-year\", \"Yes\", \"Yes\", \"Yes\", \"Yes\", \"Yes\", \"Yes\")\n",
    "             )\n",
    "\n",
    "table_1 <- go_latex(list(\n",
    "    t_0, t_1, t_2, t_3, t_4,t_5\n",
    "),\n",
    "    title=\"Baseline interaction effect of external credit demand on firm TFP\",\n",
    "    dep_var = dep,\n",
    "    addFE=fe1,\n",
    "    save=TRUE,\n",
    "    note = FALSE,\n",
    "    name=path\n",
    ") "
   ]
  },
  {
   "cell_type": "code",
   "execution_count": null,
   "metadata": {
    "kernel": "SoS"
   },
   "outputs": [],
   "source": [
    "tbe1  = \"This table estimates eq(3). \" \\\n",
    "\"Heteroskedasticity-robust standard errors\" \\\n",
    "\"clustered at the product level appear inparentheses.\"\\\n",
    "\"\\sym{*} Significance at the 10\\%, \\sym{**} Significance at the 5\\%, \\sym{***} Significance at the 1\\%.\"\n",
    "\n",
    "#multicolumn ={\n",
    "#    'Eligible': 2,\n",
    "#    'Non-Eligible': 1,\n",
    "#    'All': 1,\n",
    "#    'All benchmark': 1,\n",
    "#}\n",
    "\n",
    "reorder = {\n",
    "    11:5,\n",
    "    12:6,\n",
    "    13:7,\n",
    "    14:8,\n",
    "    15:9,\n",
    "    #16:10\n",
    "}\n",
    "\n",
    "#multi_lines_dep = '(city/product/trade regime/year)'\n",
    "#new_r = ['& test1', 'test2']\n",
    "lb.beautify(table_number = table_nb,\n",
    "            reorder_var = reorder,\n",
    "            #multi_lines_dep = multi_lines_dep,\n",
    "            #new_row= new_r,\n",
    "            #multicolumn = multicolumn,\n",
    "            table_nte = tbe1,\n",
    "            jupyter_preview = True,\n",
    "            resolution = 150,\n",
    "            folder = folder)"
   ]
  },
  {
   "cell_type": "markdown",
   "metadata": {
    "kernel": "SoS"
   },
   "source": [
    "## Table 4: Ownership structure effect of internal finance on firm TFP"
   ]
  },
  {
   "cell_type": "code",
   "execution_count": null,
   "metadata": {
    "kernel": "SoS"
   },
   "outputs": [],
   "source": [
    "folder = 'Tables_0'\n",
    "table_nb = 1\n",
    "table = 'table_{}'.format(table_nb)\n",
    "path = os.path.join(folder, table + '.txt')\n",
    "if os.path.exists(folder) == False:\n",
    "        os.mkdir(folder)\n",
    "for ext in ['.txt', '.tex', '.pdf']:\n",
    "    x = [a for a in os.listdir(folder) if a.endswith(ext)]\n",
    "    [os.remove(os.path.join(folder, i)) for i in x]"
   ]
  },
  {
   "cell_type": "code",
   "execution_count": null,
   "metadata": {
    "kernel": "R"
   },
   "outputs": [],
   "source": [
    "%get path table \n",
    "### SOE\n",
    "t_0 <- felm(log(tfp_op) ~ \n",
    "            log(cashflow_to_tangible) + \n",
    "            log(labor_capital) +\n",
    "            log(total_asset) + \n",
    "            log(age) +\n",
    "            export_to_sale +\n",
    "            log(liabilities_tot_asset) +\n",
    "            log(asset_tangibility_tot_asset)\n",
    "            | firm + year + indu_2|0 | firm, df_final %>% filter(soe_vs_pri == 'SOE'),\n",
    "            exactDOF = TRUE)\n",
    "t_1 <- felm(log(tfp_op) ~ \n",
    "            log(current_ratio) + \n",
    "            log(labor_capital) +\n",
    "            log(total_asset) + \n",
    "            log(age) +\n",
    "            export_to_sale +\n",
    "            log(liabilities_tot_asset) +\n",
    "            log(asset_tangibility_tot_asset)\n",
    "            | firm + year + indu_2|0 | firm, df_final %>% filter(soe_vs_pri == 'SOE'),\n",
    "            exactDOF = TRUE)\n",
    "### Private\n",
    "t_2 <- felm(log(tfp_op) ~ \n",
    "            log(cashflow_to_tangible) + \n",
    "            log(labor_capital) +\n",
    "            log(total_asset) + \n",
    "            log(age) +\n",
    "            export_to_sale +\n",
    "            log(liabilities_tot_asset) +\n",
    "            log(asset_tangibility_tot_asset)\n",
    "            | firm + year + indu_2|0 | firm, df_final %>% filter(soe_vs_pri == 'PRIVATE'),\n",
    "            exactDOF = TRUE)\n",
    "t_3 <- felm(log(tfp_op) ~ \n",
    "            log(current_ratio) + \n",
    "            log(labor_capital) +\n",
    "            log(total_asset) + \n",
    "            log(age) +\n",
    "            export_to_sale +\n",
    "            log(liabilities_tot_asset) +\n",
    "            log(asset_tangibility_tot_asset)\n",
    "            | firm + year + indu_2|0 | firm, df_final %>% filter(soe_vs_pri == 'PRIVATE'),\n",
    "            exactDOF = TRUE)\n",
    "t_4 <- felm(log(tfp_op) ~ \n",
    "            log(cashflow_to_tangible) * soe_vs_pri+ \n",
    "            log(labor_capital) +\n",
    "            log(total_asset) + \n",
    "            log(age) +\n",
    "            export_to_sale +\n",
    "            log(liabilities_tot_asset) +\n",
    "            log(asset_tangibility_tot_asset)\n",
    "            | firm + year + indu_2|0 | firm, df_final,\n",
    "            exactDOF = TRUE)\n",
    "t_5 <- felm(log(tfp_op) ~ \n",
    "            log(current_ratio)*soe_vs_pri + \n",
    "            log(labor_capital) +\n",
    "            log(total_asset) + \n",
    "            log(age) +\n",
    "            export_to_sale +\n",
    "            log(liabilities_tot_asset) +\n",
    "            log(asset_tangibility_tot_asset)\n",
    "            | firm + year + indu_2|0 | firm, df_final,\n",
    "            exactDOF = TRUE)\n",
    "dep <- \"Dependent variable: Total factor productivity\"\n",
    "fe1 <- list(\n",
    "    c(\"firm\", \"Yes\", \"Yes\", \"Yes\", \"Yes\"),\n",
    "    c(\"industry-year\", \"Yes\", \"Yes\", \"Yes\", \"Yes\")\n",
    "             )\n",
    "\n",
    "table_1 <- go_latex(list(\n",
    "    t_0, t_1, t_2, t_3, t_4, t_5\n",
    "),\n",
    "    title=\"Ownership structure effect of internal finance on firm TFP\",\n",
    "    dep_var = dep,\n",
    "    addFE=fe1,\n",
    "    save=TRUE,\n",
    "    note = FALSE,\n",
    "    name=path\n",
    ") "
   ]
  },
  {
   "cell_type": "code",
   "execution_count": null,
   "metadata": {
    "kernel": "SoS"
   },
   "outputs": [],
   "source": [
    "tbe1  = \"This table estimates eq(3). \" \\\n",
    "\"Heteroskedasticity-robust standard errors\" \\\n",
    "\"clustered at the product level appear inparentheses.\"\\\n",
    "\"\\sym{*} Significance at the 10\\%, \\sym{**} Significance at the 5\\%, \\sym{***} Significance at the 1\\%.\"\n",
    "\n",
    "multicolumn ={\n",
    "    'SOE': 2,\n",
    "    'Private': 2,\n",
    "}\n",
    "reorder = {\n",
    "    9:3,\n",
    "    #10:3,\n",
    "}\n",
    "#multi_lines_dep = '(city/product/trade regime/year)'\n",
    "#new_r = ['& test1', 'test2']\n",
    "lb.beautify(table_number = table_nb,\n",
    "            reorder_var = reorder,\n",
    "            #multi_lines_dep = multi_lines_dep,\n",
    "            #new_row= new_r,\n",
    "            multicolumn = multicolumn,\n",
    "            table_nte = tbe1,\n",
    "            jupyter_preview = True,\n",
    "            resolution = 150,\n",
    "            folder = folder)"
   ]
  },
  {
   "cell_type": "markdown",
   "metadata": {
    "kernel": "SoS"
   },
   "source": [
    "## Table 5: Ownership structure effect of external credit demand on firm productivity"
   ]
  },
  {
   "cell_type": "code",
   "execution_count": null,
   "metadata": {
    "kernel": "SoS"
   },
   "outputs": [],
   "source": [
    "folder = 'Tables_0'\n",
    "table_nb = 1\n",
    "table = 'table_{}'.format(table_nb)\n",
    "path = os.path.join(folder, table + '.txt')\n",
    "if os.path.exists(folder) == False:\n",
    "        os.mkdir(folder)\n",
    "for ext in ['.txt', '.tex', '.pdf']:\n",
    "    x = [a for a in os.listdir(folder) if a.endswith(ext)]\n",
    "    [os.remove(os.path.join(folder, i)) for i in x]"
   ]
  },
  {
   "cell_type": "code",
   "execution_count": null,
   "metadata": {
    "kernel": "R"
   },
   "outputs": [],
   "source": [
    "%get path table \n",
    "## Credit supply\n",
    "t_0 <- felm(log(tfp_op) ~ \n",
    "            log(cashflow_to_tangible) + \n",
    "            supply_all_credit *soe_vs_pri+\n",
    "            log(labor_capital) +\n",
    "            log(total_asset) + \n",
    "            log(age) +\n",
    "            export_to_sale +\n",
    "            log(liabilities_tot_asset) +\n",
    "            log(asset_tangibility_tot_asset) \n",
    "            | firm + year + indu_2|0 | firm, df_final,\n",
    "            exactDOF = TRUE)\n",
    "\n",
    "t_1 <- felm(log(tfp_op) ~ \n",
    "            log(cashflow_to_tangible) + \n",
    "            supply_long_term_credit *soe_vs_pri+ \n",
    "            log(labor_capital) +\n",
    "            log(total_asset) + \n",
    "            log(age) +\n",
    "            export_to_sale +\n",
    "            log(liabilities_tot_asset) +\n",
    "            log(asset_tangibility_tot_asset) \n",
    "            | firm + year + indu_2|0 | firm, df_final,\n",
    "            exactDOF = TRUE)\n",
    "\n",
    "t_2 <- felm(log(tfp_op) ~ \n",
    "            log(current_ratio) + \n",
    "            supply_all_credit *soe_vs_pri+ \n",
    "            log(labor_capital) +\n",
    "            log(total_asset) + \n",
    "            log(age) +\n",
    "            export_to_sale +\n",
    "            log(liabilities_tot_asset) +\n",
    "            log(asset_tangibility_tot_asset) \n",
    "            | firm + year + indu_2|0 | firm, df_final,\n",
    "            exactDOF = TRUE)\n",
    "t_3 <- felm(log(tfp_op) ~ \n",
    "            log(current_ratio) + \n",
    "            supply_long_term_credit*soe_vs_pri +\n",
    "            log(labor_capital) +\n",
    "            log(total_asset) + \n",
    "            log(age) +\n",
    "            export_to_sale +\n",
    "            log(liabilities_tot_asset) +\n",
    "            log(asset_tangibility_tot_asset) \n",
    "            | firm + year + indu_2|0 | firm, df_final,\n",
    "            exactDOF = TRUE)\n",
    "## Credit demand\n",
    "t_4 <- felm(log(tfp_op) ~ \n",
    "            log(cashflow_to_tangible) + \n",
    "            credit_constraint *soe_vs_pri+\n",
    "            log(labor_capital) +\n",
    "            log(total_asset) + \n",
    "            log(age) +\n",
    "            export_to_sale +\n",
    "            log(liabilities_tot_asset) +\n",
    "            log(asset_tangibility_tot_asset) \n",
    "            | firm + year |0 | firm, df_final,\n",
    "            exactDOF = TRUE)\n",
    "\n",
    "t_5 <- felm(log(tfp_op) ~ \n",
    "            log(current_ratio) + \n",
    "            credit_constraint *soe_vs_pri+ \n",
    "            log(labor_capital) +\n",
    "            log(total_asset) + \n",
    "            log(age) +\n",
    "            export_to_sale +\n",
    "            log(liabilities_tot_asset) +\n",
    "            log(asset_tangibility_tot_asset)\n",
    "            | firm + year|0 | firm, df_final,\n",
    "            exactDOF = TRUE)\n",
    "dep <- \"Dependent variable: Total factor productivity\"\n",
    "fe1 <- list(\n",
    "    c(\"firm\", \"Yes\", \"Yes\", \"Yes\", \"Yes\", \"Yes\", \"Yes\"),\n",
    "    c(\"industry-year\", \"Yes\", \"Yes\", \"Yes\", \"Yes\", \"Yes\", \"Yes\")\n",
    "             )\n",
    "\n",
    "table_1 <- go_latex(list(\n",
    "    t_0, t_1, t_2, t_3, t_4,t_5\n",
    "),\n",
    "    title=\"Ownership structure effect of external credit demand on firm TFP\",\n",
    "    dep_var = dep,\n",
    "    addFE=fe1,\n",
    "    save=TRUE,\n",
    "    note = FALSE,\n",
    "    name=path\n",
    ") "
   ]
  },
  {
   "cell_type": "code",
   "execution_count": null,
   "metadata": {
    "kernel": "SoS"
   },
   "outputs": [],
   "source": [
    "tbe1  = \"This table estimates eq(3). \" \\\n",
    "\"Heteroskedasticity-robust standard errors\" \\\n",
    "\"clustered at the product level appear inparentheses.\"\\\n",
    "\"\\sym{*} Significance at the 10\\%, \\sym{**} Significance at the 5\\%, \\sym{***} Significance at the 1\\%.\"\n",
    "\n",
    "multicolumn ={\n",
    "    'SOE': 2,\n",
    "    'Private': 2,\n",
    "    'dummy':2\n",
    "}\n",
    "reorder = {\n",
    "    9:3,\n",
    "    #10:3,\n",
    "}\n",
    "#multi_lines_dep = '(city/product/trade regime/year)'\n",
    "#new_r = ['& test1', 'test2']\n",
    "lb.beautify(table_number = table_nb,\n",
    "            #reorder_var = reorder,\n",
    "            #multi_lines_dep = multi_lines_dep,\n",
    "            #new_row= new_r,\n",
    "            multicolumn = multicolumn,\n",
    "            table_nte = tbe1,\n",
    "            jupyter_preview = True,\n",
    "            resolution = 150,\n",
    "            folder = folder)"
   ]
  },
  {
   "cell_type": "markdown",
   "metadata": {
    "kernel": "SoS"
   },
   "source": [
    "## Table 6: City characteristic effect of internal finance on firm TFP"
   ]
  },
  {
   "cell_type": "code",
   "execution_count": 30,
   "metadata": {
    "kernel": "SoS"
   },
   "outputs": [],
   "source": [
    "folder = 'Tables_0'\n",
    "table_nb = 1\n",
    "table = 'table_{}'.format(table_nb)\n",
    "path = os.path.join(folder, table + '.txt')\n",
    "if os.path.exists(folder) == False:\n",
    "        os.mkdir(folder)\n",
    "for ext in ['.txt', '.tex', '.pdf']:\n",
    "    x = [a for a in os.listdir(folder) if a.endswith(ext)]\n",
    "    [os.remove(os.path.join(folder, i)) for i in x]"
   ]
  },
  {
   "cell_type": "code",
   "execution_count": 32,
   "metadata": {
    "kernel": "R"
   },
   "outputs": [],
   "source": [
    "%get path table \n",
    "### SOE\n",
    "t_0 <- felm(log(tfp_op) ~ \n",
    "            log(cashflow_to_tangible) + \n",
    "            log(labor_capital) +\n",
    "            log(total_asset) + \n",
    "            log(age) +\n",
    "            export_to_sale +\n",
    "            log(liabilities_tot_asset) +\n",
    "            log(asset_tangibility_tot_asset)\n",
    "            | firm + year + indu_2|0 | firm, df_final %>% filter(tcz == 1),\n",
    "            exactDOF = TRUE)\n",
    "t_1 <- felm(log(tfp_op) ~ \n",
    "            log(current_ratio) + \n",
    "            log(labor_capital) +\n",
    "            log(total_asset) + \n",
    "            log(age) +\n",
    "            export_to_sale +\n",
    "            log(liabilities_tot_asset) +\n",
    "            log(asset_tangibility_tot_asset)\n",
    "            | firm + year + indu_2|0 | firm, df_final %>% filter(tcz == 1),\n",
    "            exactDOF = TRUE)\n",
    "### Private\n",
    "t_2 <- felm(log(tfp_op) ~ \n",
    "            log(cashflow_to_tangible) + \n",
    "            log(labor_capital) +\n",
    "            log(total_asset) + \n",
    "            log(age) +\n",
    "            export_to_sale +\n",
    "            log(liabilities_tot_asset) +\n",
    "            log(asset_tangibility_tot_asset)\n",
    "            | firm + year + indu_2|0 | firm, df_final %>% filter(tcz == 0),\n",
    "            exactDOF = TRUE)\n",
    "t_3 <- felm(log(tfp_op) ~ \n",
    "            log(current_ratio) + \n",
    "            log(labor_capital) +\n",
    "            log(total_asset) + \n",
    "            log(age) +\n",
    "            export_to_sale +\n",
    "            log(liabilities_tot_asset) +\n",
    "            log(asset_tangibility_tot_asset)\n",
    "            | firm + year + indu_2|0 | firm, df_final %>% filter(tcz == 0),\n",
    "            exactDOF = TRUE)\n",
    "t_4 <- felm(log(tfp_op) ~ \n",
    "            log(cashflow_to_tangible) * tcz+ \n",
    "            log(labor_capital) +\n",
    "            log(total_asset) + \n",
    "            log(age) +\n",
    "            export_to_sale +\n",
    "            log(liabilities_tot_asset) +\n",
    "            log(asset_tangibility_tot_asset)\n",
    "            | firm + year + indu_2|0 | firm, df_final,\n",
    "            exactDOF = TRUE)\n",
    "t_5 <- felm(log(tfp_op) ~ \n",
    "            log(current_ratio)*tcz + \n",
    "            log(labor_capital) +\n",
    "            log(total_asset) + \n",
    "            log(age) +\n",
    "            export_to_sale +\n",
    "            log(liabilities_tot_asset) +\n",
    "            log(asset_tangibility_tot_asset)\n",
    "            | firm + year + indu_2|0 | firm, df_final,\n",
    "            exactDOF = TRUE)\n",
    "dep <- \"Dependent variable: Total factor productivity\"\n",
    "fe1 <- list(\n",
    "    c(\"firm\", \"Yes\", \"Yes\", \"Yes\", \"Yes\"),\n",
    "    c(\"industry-year\", \"Yes\", \"Yes\", \"Yes\", \"Yes\")\n",
    "             )\n",
    "\n",
    "table_1 <- go_latex(list(\n",
    "    t_0, t_1, t_2, t_3, t_4, t_5\n",
    "),\n",
    "    title=\"City characteristic TCZ effect of internal finance on firm TFP\",\n",
    "    dep_var = dep,\n",
    "    addFE=fe1,\n",
    "    save=TRUE,\n",
    "    note = FALSE,\n",
    "    name=path\n",
    ") "
   ]
  },
  {
   "cell_type": "code",
   "execution_count": 33,
   "metadata": {
    "kernel": "SoS"
   },
   "outputs": [
    {
     "data": {
      "image/png": "[encoded data removed]",
      "text/plain": [
       "<wand.image.Image: c6a6084 'PDF' (716x773)>"
      ]
     },
     "metadata": {},
     "output_type": "display_data"
    }
   ],
   "source": [
    "tbe1  = \"This table estimates eq(3). \" \\\n",
    "\"Heteroskedasticity-robust standard errors\" \\\n",
    "\"clustered at the product level appear inparentheses.\"\\\n",
    "\"\\sym{*} Significance at the 10\\%, \\sym{**} Significance at the 5\\%, \\sym{***} Significance at the 1\\%.\"\n",
    "\n",
    "multicolumn ={\n",
    "    'TCZ': 2,\n",
    "    'Non-TCZ': 2,\n",
    "    'dummy':2\n",
    "}\n",
    "reorder = {\n",
    "    9:3,\n",
    "    #10:3,\n",
    "}\n",
    "#multi_lines_dep = '(city/product/trade regime/year)'\n",
    "#new_r = ['& test1', 'test2']\n",
    "lb.beautify(table_number = table_nb,\n",
    "            #reorder_var = reorder,\n",
    "            #multi_lines_dep = multi_lines_dep,\n",
    "            #new_row= new_r,\n",
    "            multicolumn = multicolumn,\n",
    "            table_nte = tbe1,\n",
    "            jupyter_preview = True,\n",
    "            resolution = 150,\n",
    "            folder = folder)"
   ]
  },
  {
   "cell_type": "markdown",
   "metadata": {
    "kernel": "SoS"
   },
   "source": [
    "## Table 7: City characteristic effect of external credit demand on firm productivity"
   ]
  },
  {
   "cell_type": "code",
   "execution_count": 34,
   "metadata": {
    "kernel": "SoS"
   },
   "outputs": [],
   "source": [
    "folder = 'Tables_0'\n",
    "table_nb = 1\n",
    "table = 'table_{}'.format(table_nb)\n",
    "path = os.path.join(folder, table + '.txt')\n",
    "if os.path.exists(folder) == False:\n",
    "        os.mkdir(folder)\n",
    "for ext in ['.txt', '.tex', '.pdf']:\n",
    "    x = [a for a in os.listdir(folder) if a.endswith(ext)]\n",
    "    [os.remove(os.path.join(folder, i)) for i in x]"
   ]
  },
  {
   "cell_type": "code",
   "execution_count": 35,
   "metadata": {
    "kernel": "R"
   },
   "outputs": [],
   "source": [
    "%get path table \n",
    "## Credit supply\n",
    "t_0 <- felm(log(tfp_op) ~ \n",
    "            log(cashflow_to_tangible) + \n",
    "            supply_all_credit *tcz+\n",
    "            log(labor_capital) +\n",
    "            log(total_asset) + \n",
    "            log(age) +\n",
    "            export_to_sale +\n",
    "            log(liabilities_tot_asset) +\n",
    "            log(asset_tangibility_tot_asset) \n",
    "            | firm + year + indu_2|0 | firm, df_final,\n",
    "            exactDOF = TRUE)\n",
    "\n",
    "t_1 <- felm(log(tfp_op) ~ \n",
    "            log(cashflow_to_tangible) + \n",
    "            supply_long_term_credit *tcz+ \n",
    "            log(labor_capital) +\n",
    "            log(total_asset) + \n",
    "            log(age) +\n",
    "            export_to_sale +\n",
    "            log(liabilities_tot_asset) +\n",
    "            log(asset_tangibility_tot_asset) \n",
    "            | firm + year + indu_2|0 | firm, df_final,\n",
    "            exactDOF = TRUE)\n",
    "\n",
    "t_2 <- felm(log(tfp_op) ~ \n",
    "            log(current_ratio) + \n",
    "            supply_all_credit *tcz+ \n",
    "            log(labor_capital) +\n",
    "            log(total_asset) + \n",
    "            log(age) +\n",
    "            export_to_sale +\n",
    "            log(liabilities_tot_asset) +\n",
    "            log(asset_tangibility_tot_asset) \n",
    "            | firm + year + indu_2|0 | firm, df_final,\n",
    "            exactDOF = TRUE)\n",
    "t_3 <- felm(log(tfp_op) ~ \n",
    "            log(current_ratio) + \n",
    "            supply_long_term_credit*tcz +\n",
    "            log(labor_capital) +\n",
    "            log(total_asset) + \n",
    "            log(age) +\n",
    "            export_to_sale +\n",
    "            log(liabilities_tot_asset) +\n",
    "            log(asset_tangibility_tot_asset) \n",
    "            | firm + year + indu_2|0 | firm, df_final,\n",
    "            exactDOF = TRUE)\n",
    "## Credit demand\n",
    "t_4 <- felm(log(tfp_op) ~ \n",
    "            log(cashflow_to_tangible) + \n",
    "            credit_constraint *tcz+\n",
    "            log(labor_capital) +\n",
    "            log(total_asset) + \n",
    "            log(age) +\n",
    "            export_to_sale +\n",
    "            log(liabilities_tot_asset) +\n",
    "            log(asset_tangibility_tot_asset) \n",
    "            | firm + year |0 | firm, df_final,\n",
    "            exactDOF = TRUE)\n",
    "\n",
    "t_5 <- felm(log(tfp_op) ~ \n",
    "            log(current_ratio) + \n",
    "            credit_constraint *tcz+ \n",
    "            log(labor_capital) +\n",
    "            log(total_asset) + \n",
    "            log(age) +\n",
    "            export_to_sale +\n",
    "            log(liabilities_tot_asset) +\n",
    "            log(asset_tangibility_tot_asset)\n",
    "            | firm + year|0 | firm, df_final,\n",
    "            exactDOF = TRUE)\n",
    "dep <- \"Dependent variable: Total factor productivity\"\n",
    "fe1 <- list(\n",
    "    c(\"firm\", \"Yes\", \"Yes\", \"Yes\", \"Yes\", \"Yes\", \"Yes\"),\n",
    "    c(\"industry-year\", \"Yes\", \"Yes\", \"Yes\", \"Yes\", \"Yes\", \"Yes\")\n",
    "             )\n",
    "\n",
    "table_1 <- go_latex(list(\n",
    "    t_0, t_1, t_2, t_3, t_4,t_5\n",
    "),\n",
    "    title=\"City characteristic TCZ effect of external credit demand on firm TFP\",\n",
    "    dep_var = dep,\n",
    "    addFE=fe1,\n",
    "    save=TRUE,\n",
    "    note = FALSE,\n",
    "    name=path\n",
    ") "
   ]
  },
  {
   "cell_type": "code",
   "execution_count": 36,
   "metadata": {
    "kernel": "SoS"
   },
   "outputs": [
    {
     "data": {
      "image/png": "[encoded data removed]",
      "text/plain": [
       "<wand.image.Image: edd68c0 'PDF' (716x971)>"
      ]
     },
     "metadata": {},
     "output_type": "display_data"
    }
   ],
   "source": [
    "tbe1  = \"This table estimates eq(3). \" \\\n",
    "\"Heteroskedasticity-robust standard errors\" \\\n",
    "\"clustered at the product level appear inparentheses.\"\\\n",
    "\"\\sym{*} Significance at the 10\\%, \\sym{**} Significance at the 5\\%, \\sym{***} Significance at the 1\\%.\"\n",
    "\n",
    "multicolumn ={\n",
    "    'TCZ': 2,\n",
    "    'Non-TCZ': 2,\n",
    "    'dummy':2\n",
    "}\n",
    "reorder = {\n",
    "    9:3,\n",
    "    #10:3,\n",
    "}\n",
    "#multi_lines_dep = '(city/product/trade regime/year)'\n",
    "#new_r = ['& test1', 'test2']\n",
    "lb.beautify(table_number = table_nb,\n",
    "            #reorder_var = reorder,\n",
    "            #multi_lines_dep = multi_lines_dep,\n",
    "            #new_row= new_r,\n",
    "            multicolumn = multicolumn,\n",
    "            table_nte = tbe1,\n",
    "            jupyter_preview = True,\n",
    "            resolution = 150,\n",
    "            folder = folder)"
   ]
  },
  {
   "cell_type": "markdown",
   "metadata": {
    "kernel": "SoS"
   },
   "source": [
    "## Table 8: City characteristic SPZ effect of internal finance on firm TFP"
   ]
  },
  {
   "cell_type": "code",
   "execution_count": 37,
   "metadata": {
    "kernel": "SoS"
   },
   "outputs": [],
   "source": [
    "folder = 'Tables_0'\n",
    "table_nb = 1\n",
    "table = 'table_{}'.format(table_nb)\n",
    "path = os.path.join(folder, table + '.txt')\n",
    "if os.path.exists(folder) == False:\n",
    "        os.mkdir(folder)\n",
    "for ext in ['.txt', '.tex', '.pdf']:\n",
    "    x = [a for a in os.listdir(folder) if a.endswith(ext)]\n",
    "    [os.remove(os.path.join(folder, i)) for i in x]"
   ]
  },
  {
   "cell_type": "code",
   "execution_count": 38,
   "metadata": {
    "kernel": "R"
   },
   "outputs": [],
   "source": [
    "%get path table \n",
    "### SOE\n",
    "t_0 <- felm(log(tfp_op) ~ \n",
    "            log(cashflow_to_tangible) + \n",
    "            log(labor_capital) +\n",
    "            log(total_asset) + \n",
    "            log(age) +\n",
    "            export_to_sale +\n",
    "            log(liabilities_tot_asset) +\n",
    "            log(asset_tangibility_tot_asset)\n",
    "            | firm + year + indu_2|0 | firm, df_final %>% filter(spz == 1),\n",
    "            exactDOF = TRUE)\n",
    "t_1 <- felm(log(tfp_op) ~ \n",
    "            log(current_ratio) + \n",
    "            log(labor_capital) +\n",
    "            log(total_asset) + \n",
    "            log(age) +\n",
    "            export_to_sale +\n",
    "            log(liabilities_tot_asset) +\n",
    "            log(asset_tangibility_tot_asset)\n",
    "            | firm + year + indu_2|0 | firm, df_final %>% filter(spz == 1),\n",
    "            exactDOF = TRUE)\n",
    "### Private\n",
    "t_2 <- felm(log(tfp_op) ~ \n",
    "            log(cashflow_to_tangible) + \n",
    "            log(labor_capital) +\n",
    "            log(total_asset) + \n",
    "            log(age) +\n",
    "            export_to_sale +\n",
    "            log(liabilities_tot_asset) +\n",
    "            log(asset_tangibility_tot_asset)\n",
    "            | firm + year + indu_2|0 | firm, df_final %>% filter(spz == 0),\n",
    "            exactDOF = TRUE)\n",
    "t_3 <- felm(log(tfp_op) ~ \n",
    "            log(current_ratio) + \n",
    "            log(labor_capital) +\n",
    "            log(total_asset) + \n",
    "            log(age) +\n",
    "            export_to_sale +\n",
    "            log(liabilities_tot_asset) +\n",
    "            log(asset_tangibility_tot_asset)\n",
    "            | firm + year + indu_2|0 | firm, df_final %>% filter(spz == 0),\n",
    "            exactDOF = TRUE)\n",
    "t_4 <- felm(log(tfp_op) ~ \n",
    "            log(cashflow_to_tangible) * spz+ \n",
    "            log(labor_capital) +\n",
    "            log(total_asset) + \n",
    "            log(age) +\n",
    "            export_to_sale +\n",
    "            log(liabilities_tot_asset) +\n",
    "            log(asset_tangibility_tot_asset)\n",
    "            | firm + year + indu_2|0 | firm, df_final,\n",
    "            exactDOF = TRUE)\n",
    "t_5 <- felm(log(tfp_op) ~ \n",
    "            log(current_ratio)*spz + \n",
    "            log(labor_capital) +\n",
    "            log(total_asset) + \n",
    "            log(age) +\n",
    "            export_to_sale +\n",
    "            log(liabilities_tot_asset) +\n",
    "            log(asset_tangibility_tot_asset)\n",
    "            | firm + year + indu_2|0 | firm, df_final,\n",
    "            exactDOF = TRUE)\n",
    "dep <- \"Dependent variable: Total factor productivity\"\n",
    "fe1 <- list(\n",
    "    c(\"firm\", \"Yes\", \"Yes\", \"Yes\", \"Yes\"),\n",
    "    c(\"industry-year\", \"Yes\", \"Yes\", \"Yes\", \"Yes\")\n",
    "             )\n",
    "\n",
    "table_1 <- go_latex(list(\n",
    "    t_0, t_1, t_2, t_3, t_4, t_5\n",
    "),\n",
    "    title=\"City characteristic SPZ effect of internal finance on firm TFP\",\n",
    "    dep_var = dep,\n",
    "    addFE=fe1,\n",
    "    save=TRUE,\n",
    "    note = FALSE,\n",
    "    name=path\n",
    ") "
   ]
  },
  {
   "cell_type": "code",
   "execution_count": 39,
   "metadata": {
    "kernel": "SoS"
   },
   "outputs": [
    {
     "data": {
      "image/png": "[encoded data removed]",
      "text/plain": [
       "<wand.image.Image: c35b365 'PDF' (716x768)>"
      ]
     },
     "metadata": {},
     "output_type": "display_data"
    }
   ],
   "source": [
    "tbe1  = \"This table estimates eq(3). \" \\\n",
    "\"Heteroskedasticity-robust standard errors\" \\\n",
    "\"clustered at the product level appear inparentheses.\"\\\n",
    "\"\\sym{*} Significance at the 10\\%, \\sym{**} Significance at the 5\\%, \\sym{***} Significance at the 1\\%.\"\n",
    "\n",
    "multicolumn ={\n",
    "    'TCZ': 2,\n",
    "    'Non-TCZ': 2,\n",
    "    'dummy':2\n",
    "}\n",
    "reorder = {\n",
    "    9:3,\n",
    "    #10:3,\n",
    "}\n",
    "#multi_lines_dep = '(city/product/trade regime/year)'\n",
    "#new_r = ['& test1', 'test2']\n",
    "lb.beautify(table_number = table_nb,\n",
    "            #reorder_var = reorder,\n",
    "            #multi_lines_dep = multi_lines_dep,\n",
    "            #new_row= new_r,\n",
    "            multicolumn = multicolumn,\n",
    "            table_nte = tbe1,\n",
    "            jupyter_preview = True,\n",
    "            resolution = 150,\n",
    "            folder = folder)"
   ]
  },
  {
   "cell_type": "markdown",
   "metadata": {
    "kernel": "SoS"
   },
   "source": [
    "## Table 9: City characteristic SPZ effect of external credit demand on firm productivity"
   ]
  },
  {
   "cell_type": "code",
   "execution_count": 40,
   "metadata": {
    "kernel": "SoS"
   },
   "outputs": [],
   "source": [
    "folder = 'Tables_0'\n",
    "table_nb = 1\n",
    "table = 'table_{}'.format(table_nb)\n",
    "path = os.path.join(folder, table + '.txt')\n",
    "if os.path.exists(folder) == False:\n",
    "        os.mkdir(folder)\n",
    "for ext in ['.txt', '.tex', '.pdf']:\n",
    "    x = [a for a in os.listdir(folder) if a.endswith(ext)]\n",
    "    [os.remove(os.path.join(folder, i)) for i in x]"
   ]
  },
  {
   "cell_type": "code",
   "execution_count": 41,
   "metadata": {
    "kernel": "R"
   },
   "outputs": [],
   "source": [
    "%get path table \n",
    "## Credit supply\n",
    "t_0 <- felm(log(tfp_op) ~ \n",
    "            log(cashflow_to_tangible) + \n",
    "            supply_all_credit *spz+\n",
    "            log(labor_capital) +\n",
    "            log(total_asset) + \n",
    "            log(age) +\n",
    "            export_to_sale +\n",
    "            log(liabilities_tot_asset) +\n",
    "            log(asset_tangibility_tot_asset) \n",
    "            | firm + year + indu_2|0 | firm, df_final,\n",
    "            exactDOF = TRUE)\n",
    "\n",
    "t_1 <- felm(log(tfp_op) ~ \n",
    "            log(cashflow_to_tangible) + \n",
    "            supply_long_term_credit *spz+ \n",
    "            log(labor_capital) +\n",
    "            log(total_asset) + \n",
    "            log(age) +\n",
    "            export_to_sale +\n",
    "            log(liabilities_tot_asset) +\n",
    "            log(asset_tangibility_tot_asset) \n",
    "            | firm + year + indu_2|0 | firm, df_final,\n",
    "            exactDOF = TRUE)\n",
    "\n",
    "t_2 <- felm(log(tfp_op) ~ \n",
    "            log(current_ratio) + \n",
    "            supply_all_credit *spz+ \n",
    "            log(labor_capital) +\n",
    "            log(total_asset) + \n",
    "            log(age) +\n",
    "            export_to_sale +\n",
    "            log(liabilities_tot_asset) +\n",
    "            log(asset_tangibility_tot_asset) \n",
    "            | firm + year + indu_2|0 | firm, df_final,\n",
    "            exactDOF = TRUE)\n",
    "t_3 <- felm(log(tfp_op) ~ \n",
    "            log(current_ratio) + \n",
    "            supply_long_term_credit*spz +\n",
    "            log(labor_capital) +\n",
    "            log(total_asset) + \n",
    "            log(age) +\n",
    "            export_to_sale +\n",
    "            log(liabilities_tot_asset) +\n",
    "            log(asset_tangibility_tot_asset) \n",
    "            | firm + year + indu_2|0 | firm, df_final,\n",
    "            exactDOF = TRUE)\n",
    "## Credit demand\n",
    "t_4 <- felm(log(tfp_op) ~ \n",
    "            log(cashflow_to_tangible) + \n",
    "            credit_constraint *spz+\n",
    "            log(labor_capital) +\n",
    "            log(total_asset) + \n",
    "            log(age) +\n",
    "            export_to_sale +\n",
    "            log(liabilities_tot_asset) +\n",
    "            log(asset_tangibility_tot_asset) \n",
    "            | firm + year |0 | firm, df_final,\n",
    "            exactDOF = TRUE)\n",
    "\n",
    "t_5 <- felm(log(tfp_op) ~ \n",
    "            log(current_ratio) + \n",
    "            credit_constraint *spz+ \n",
    "            log(labor_capital) +\n",
    "            log(total_asset) + \n",
    "            log(age) +\n",
    "            export_to_sale +\n",
    "            log(liabilities_tot_asset) +\n",
    "            log(asset_tangibility_tot_asset)\n",
    "            | firm + year|0 | firm, df_final,\n",
    "            exactDOF = TRUE)\n",
    "dep <- \"Dependent variable: Total factor productivity\"\n",
    "fe1 <- list(\n",
    "    c(\"firm\", \"Yes\", \"Yes\", \"Yes\", \"Yes\", \"Yes\", \"Yes\"),\n",
    "    c(\"industry-year\", \"Yes\", \"Yes\", \"Yes\", \"Yes\", \"Yes\", \"Yes\")\n",
    "             )\n",
    "\n",
    "table_1 <- go_latex(list(\n",
    "    t_0, t_1, t_2, t_3, t_4,t_5\n",
    "),\n",
    "    title=\"City characteristic SPZ effect of external credit demand on firm TFP\",\n",
    "    dep_var = dep,\n",
    "    addFE=fe1,\n",
    "    save=TRUE,\n",
    "    note = FALSE,\n",
    "    name=path\n",
    ") "
   ]
  },
  {
   "cell_type": "code",
   "execution_count": 42,
   "metadata": {
    "kernel": "SoS"
   },
   "outputs": [
    {
     "data": {
      "image/png": "[encoded data removed]",
      "text/plain": [
       "<wand.image.Image: 85ad067 'PDF' (716x967)>"
      ]
     },
     "metadata": {},
     "output_type": "display_data"
    }
   ],
   "source": [
    "tbe1  = \"This table estimates eq(3). \" \\\n",
    "\"Heteroskedasticity-robust standard errors\" \\\n",
    "\"clustered at the product level appear inparentheses.\"\\\n",
    "\"\\sym{*} Significance at the 10\\%, \\sym{**} Significance at the 5\\%, \\sym{***} Significance at the 1\\%.\"\n",
    "\n",
    "multicolumn ={\n",
    "    'TCZ': 2,\n",
    "    'Non-TCZ': 2,\n",
    "    'dummy':2\n",
    "}\n",
    "reorder = {\n",
    "    9:3,\n",
    "    #10:3,\n",
    "}\n",
    "#multi_lines_dep = '(city/product/trade regime/year)'\n",
    "#new_r = ['& test1', 'test2']\n",
    "lb.beautify(table_number = table_nb,\n",
    "            #reorder_var = reorder,\n",
    "            #multi_lines_dep = multi_lines_dep,\n",
    "            #new_row= new_r,\n",
    "            multicolumn = multicolumn,\n",
    "            table_nte = tbe1,\n",
    "            jupyter_preview = True,\n",
    "            resolution = 150,\n",
    "            folder = folder)"
   ]
  },
  {
   "cell_type": "markdown",
   "metadata": {
    "kernel": "SoS"
   },
   "source": [
    "# Previous results"
   ]
  },
  {
   "cell_type": "markdown",
   "metadata": {
    "kernel": "SoS"
   },
   "source": [
    "## Table 1: Baseline Estimate, tfp_OP_f\n",
    "\n",
    "$$ \\begin{aligned} \\text { TFP }_{f i t}= \\delta{6} \\text { Tangible Asset }_{fit} + \\delta{7} \\text { Current Ratio }_{fit}+\\delta{8} \\text { Cash/Assets }_{fit}+\\delta{9} \\text { Liabilities/Assets }_{fit}+\\Lambda{\\text {fit}}^{\\prime} X+\\vartheta_{i t}+u_{\\text {fit}} \\end{aligned} $$\n",
    "\n",
    "\n",
    "* Column 1: Baseline\n",
    "    * FE: \n",
    "        - fe 1: `firm`\n",
    "        - fe 2: `industry-year`\n",
    "* Column 2: Add control\n",
    "    * FE: \n",
    "        - fe 1: `firm`\n",
    "        - fe 2: `industry-year`\n",
    "* Column 3: Test credit constraint interaction\n",
    "    * FE: \n",
    "        - fe 1: `firm`\n",
    "        - fe 2: `industry-year`"
   ]
  },
  {
   "cell_type": "code",
   "execution_count": 13,
   "metadata": {
    "kernel": "SoS",
    "nteract": {
     "transient": {
      "deleting": false
     }
    }
   },
   "outputs": [],
   "source": [
    "folder = 'Tables_0'\n",
    "table_nb = 1\n",
    "table = 'table_{}'.format(table_nb)\n",
    "path = os.path.join(folder, table + '.txt')\n",
    "if os.path.exists(folder) == False:\n",
    "        os.mkdir(folder)\n",
    "for ext in ['.txt', '.tex', '.pdf']:\n",
    "    x = [a for a in os.listdir(folder) if a.endswith(ext)]\n",
    "    [os.remove(os.path.join(folder, i)) for i in x]"
   ]
  },
  {
   "cell_type": "code",
   "execution_count": 14,
   "metadata": {
    "kernel": "R"
   },
   "outputs": [],
   "source": [
    "%get path table \n",
    "t_0 <- felm(log(tfp_op) ~ \n",
    "            log(asset_tangibility_tot_asset) + \n",
    "            log(current_ratio) +\n",
    "            log(cashflow_to_tangible) +\n",
    "            log(liabilities_tot_asset)\n",
    "            | firm + year + indu_2|0 | firm, df_final,\n",
    "            exactDOF = TRUE)\n",
    "\n",
    "t_1 <- felm(log(tfp_op) ~ \n",
    "            log(asset_tangibility_tot_asset) + \n",
    "            log(current_ratio) +\n",
    "            log(cashflow_to_tangible) +\n",
    "            log(liabilities_tot_asset) +\n",
    "            log(sales_tot_asset) \n",
    "            | firm + year + indu_2 |0 | firm,df_final,\n",
    "            exactDOF = TRUE)\n",
    "\n",
    "t_2 <- felm(log(tfp_op) ~ \n",
    "            log(asset_tangibility_tot_asset) + \n",
    "            log(current_ratio) +\n",
    "            log(cashflow_to_tangible) +\n",
    "            log(liabilities_tot_asset) +\n",
    "            log(sales_tot_asset) +\n",
    "            log(current_ratio) * d_credit_constraint  + \n",
    "            log(cashflow_to_tangible) * d_credit_constraint + \n",
    "            log(liabilities_tot_asset) * d_credit_constraint\n",
    "            | firm + year + indu_2|0 | firm, df_final,\n",
    "            exactDOF = TRUE)\n",
    "\n",
    "dep <- \"Dependent variable: Total factor productivity\"\n",
    "fe1 <- list(\n",
    "    c(\"firm\", \"Yes\", \"Yes\", \"Yes\"),\n",
    "    c(\"industry-year\", \"Yes\", \"Yes\", \"Yes\")\n",
    "             )\n",
    "\n",
    "table_1 <- go_latex(list(\n",
    "    t_0, t_1, t_2\n",
    "),\n",
    "    title=\"Baseline Estimate, determinants of firm-level TFP\",\n",
    "    dep_var = dep,\n",
    "    addFE=fe1,\n",
    "    save=TRUE,\n",
    "    note = FALSE,\n",
    "    name=path\n",
    ") "
   ]
  },
  {
   "cell_type": "code",
   "execution_count": 15,
   "metadata": {
    "kernel": "SoS"
   },
   "outputs": [
    {
     "data": {
      "image/png": "[encoded data removed]",
      "text/plain": [
       "<wand.image.Image: 0083b23 'PDF' (716x729)>"
      ]
     },
     "metadata": {},
     "output_type": "display_data"
    }
   ],
   "source": [
    "tbe1  = \"This table estimates eq(3). \" \\\n",
    "\"Heteroskedasticity-robust standard errors\" \\\n",
    "\"clustered at the product level appear inparentheses.\"\\\n",
    "\"\\sym{*} Significance at the 10\\%, \\sym{**} Significance at the 5\\%, \\sym{***} Significance at the 1\\%.\"\n",
    "\n",
    "#multicolumn ={\n",
    "#    'Eligible': 2,\n",
    "#    'Non-Eligible': 1,\n",
    "#    'All': 1,\n",
    "#    'All benchmark': 1,\n",
    "#}\n",
    "\n",
    "#multi_lines_dep = '(city/product/trade regime/year)'\n",
    "#new_r = ['& test1', 'test2']\n",
    "lb.beautify(table_number = table_nb,\n",
    "            #reorder_var = reorder,\n",
    "            #multi_lines_dep = multi_lines_dep,\n",
    "            #new_row= new_r,\n",
    "            #multicolumn = multicolumn,\n",
    "            table_nte = tbe1,\n",
    "            jupyter_preview = True,\n",
    "            resolution = 150,\n",
    "            folder = folder)"
   ]
  },
  {
   "cell_type": "markdown",
   "metadata": {
    "kernel": "SoS"
   },
   "source": [
    "## Table 2: Separate estimate"
   ]
  },
  {
   "cell_type": "code",
   "execution_count": 16,
   "metadata": {
    "kernel": "SoS"
   },
   "outputs": [],
   "source": [
    "folder = 'Tables_0'\n",
    "table_nb = 2\n",
    "table = 'table_{}'.format(table_nb)\n",
    "path = os.path.join(folder, table + '.txt')\n",
    "if os.path.exists(folder) == False:\n",
    "        os.mkdir(folder)\n",
    "for ext in ['.txt', '.tex', '.pdf']:\n",
    "    x = [a for a in os.listdir(folder) if a.endswith(ext)]\n",
    "    [os.remove(os.path.join(folder, i)) for i in x]"
   ]
  },
  {
   "cell_type": "code",
   "execution_count": 17,
   "metadata": {
    "kernel": "R"
   },
   "outputs": [],
   "source": [
    "%get path table \n",
    "t_0 <- felm(log(tfp_op) ~ \n",
    "            log(asset_tangibility_tot_asset) \n",
    "            | firm + year + indu_2|0 | firm, df_final,\n",
    "            exactDOF = TRUE)\n",
    "\n",
    "t_1 <- felm(log(tfp_op) ~ \n",
    "            log(current_ratio) \n",
    "            | firm + year + indu_2 |0 | firm,df_final,\n",
    "            exactDOF = TRUE)\n",
    "\n",
    "t_2 <- felm(log(tfp_op) ~ \n",
    "            log(cashflow_to_tangible) \n",
    "            | firm + year + indu_2|0 | firm, df_final,\n",
    "            exactDOF = TRUE)\n",
    "            \n",
    "t_3 <- felm(log(tfp_op) ~ \n",
    "            log(liabilities_tot_asset) \n",
    "            | firm + year + indu_2|0 | firm, df_final,\n",
    "            exactDOF = TRUE)\n",
    "\n",
    "### interaction\n",
    "t_4 <- felm(log(tfp_op) ~ \n",
    "            log(asset_tangibility_tot_asset) * d_credit_constraint\n",
    "            | firm + year + indu_2|0 | firm, df_final,\n",
    "            exactDOF = TRUE)\n",
    "\n",
    "t_5 <- felm(log(tfp_op) ~ \n",
    "            log(current_ratio) * d_credit_constraint\n",
    "            | firm + year + indu_2 |0 | firm,df_final,\n",
    "            exactDOF = TRUE)\n",
    "\n",
    "t_6 <- felm(log(tfp_op) ~ \n",
    "            log(cashflow_to_tangible) * d_credit_constraint\n",
    "            | firm + year + indu_2|0 | firm, df_final,\n",
    "            exactDOF = TRUE)\n",
    "            \n",
    "t_7 <- felm(log(tfp_op) ~ \n",
    "            log(liabilities_tot_asset) * d_credit_constraint\n",
    "            | firm + year + indu_2|0 | firm, df_final,\n",
    "            exactDOF = TRUE)\n",
    "\n",
    "dep <- \"Dependent variable: Total factor productivity\"\n",
    "fe1 <- list(\n",
    "    c(\"firm\", \"Yes\", \"Yes\", \"Yes\", \"Yes\", \"Yes\", \"Yes\", \"Yes\", \"Yes\"),\n",
    "    c(\"industry-year\", \"Yes\", \"Yes\", \"Yes\", \"Yes\", \"Yes\", \"Yes\", \"Yes\", \"Yes\")\n",
    "             )\n",
    "\n",
    "table_1 <- go_latex(list(\n",
    "    t_0, t_1, t_2, t_3, t_4,t_5, t_6, t_7\n",
    "),\n",
    "    title=\"Baseline Estimate, determinants of firm-level TFP\",\n",
    "    dep_var = dep,\n",
    "    addFE=fe1,\n",
    "    save=TRUE,\n",
    "    note = FALSE,\n",
    "    name=path\n",
    ") "
   ]
  },
  {
   "cell_type": "code",
   "execution_count": 18,
   "metadata": {
    "kernel": "SoS"
   },
   "outputs": [
    {
     "data": {
      "image/png": "[encoded data removed]",
      "text/plain": [
       "<wand.image.Image: 705cdfe 'PDF' (716x489)>"
      ]
     },
     "metadata": {},
     "output_type": "display_data"
    }
   ],
   "source": [
    "tbe1  = \"This table estimates eq(3). \" \\\n",
    "\"Heteroskedasticity-robust standard errors\" \\\n",
    "\"clustered at the product level appear inparentheses.\"\\\n",
    "\"\\sym{*} Significance at the 10\\%, \\sym{**} Significance at the 5\\%, \\sym{***} Significance at the 1\\%.\"\n",
    "\n",
    "#multicolumn ={\n",
    "#    'Eligible': 2,\n",
    "#    'Non-Eligible': 1,\n",
    "#    'All': 1,\n",
    "#    'All benchmark': 1,\n",
    "#}\n",
    "\n",
    "#multi_lines_dep = '(city/product/trade regime/year)'\n",
    "#new_r = ['& test1', 'test2']\n",
    "lb.beautify(table_number = table_nb,\n",
    "            #reorder_var = reorder,\n",
    "            #multi_lines_dep = multi_lines_dep,\n",
    "            #new_row= new_r,\n",
    "            #multicolumn = multicolumn,\n",
    "            table_nte = tbe1,\n",
    "            jupyter_preview = True,\n",
    "            resolution = 150,\n",
    "            folder = folder)"
   ]
  },
  {
   "cell_type": "markdown",
   "metadata": {
    "kernel": "SoS"
   },
   "source": [
    "## Table 3: Private vs SOE"
   ]
  },
  {
   "cell_type": "code",
   "execution_count": 21,
   "metadata": {
    "kernel": "SoS"
   },
   "outputs": [],
   "source": [
    "folder = 'Tables_0'\n",
    "table_nb = 2\n",
    "table = 'table_{}'.format(table_nb)\n",
    "path = os.path.join(folder, table + '.txt')\n",
    "if os.path.exists(folder) == False:\n",
    "        os.mkdir(folder)\n",
    "for ext in ['.txt', '.tex', '.pdf']:\n",
    "    x = [a for a in os.listdir(folder) if a.endswith(ext)]\n",
    "    [os.remove(os.path.join(folder, i)) for i in x]"
   ]
  },
  {
   "cell_type": "code",
   "execution_count": 22,
   "metadata": {
    "kernel": "R"
   },
   "outputs": [],
   "source": [
    "%get path table\n",
    "t_0 <- felm(log(tfp_op) ~ \n",
    "            log(asset_tangibility_tot_asset) * soe_vs_pri\n",
    "            |firm + year + indu_2|0 | firm, df_final,\n",
    "            exactDOF = TRUE)\n",
    "\n",
    "t_1 <- felm(log(tfp_op) ~ \n",
    "            log(current_ratio) * soe_vs_pri\n",
    "            | firm + year + indu_2 |0 | firm,df_final,\n",
    "            exactDOF = TRUE)\n",
    "\n",
    "t_2 <- felm(log(tfp_op) ~ \n",
    "            log(cashflow_to_tangible) * soe_vs_pri\n",
    "            | firm + year + indu_2|0 | firm, df_final,\n",
    "            exactDOF = TRUE)\n",
    "            \n",
    "t_3 <- felm(log(tfp_op) ~ \n",
    "            log(liabilities_tot_asset) * soe_vs_pri\n",
    "            | firm + year + indu_2|0 | firm, df_final,\n",
    "            exactDOF = TRUE)\n",
    "\n",
    "t_4 <- felm(log(tfp_op) ~ \n",
    "            log(current_ratio) * soe_vs_pri +\n",
    "            log(cashflow_to_tangible) * soe_vs_pri +\n",
    "            log(liabilities_tot_asset) * soe_vs_pri\n",
    "            | firm + year + indu_2|0 | firm, df_final,\n",
    "            exactDOF = TRUE)\n",
    "\n",
    "t_5 <- felm(log(tfp_op) ~ \n",
    "            log(asset_tangibility_tot_asset) * soe_vs_pri +\n",
    "            log(current_ratio) * soe_vs_pri +\n",
    "            log(cashflow_to_tangible) * soe_vs_pri +\n",
    "            log(liabilities_tot_asset) * soe_vs_pri\n",
    "            | firm + year + indu_2|0 | firm, df_final,\n",
    "            exactDOF = TRUE)\n",
    "\n",
    "dep <- \"Dependent variable: Total factor productivity\"\n",
    "fe1 <- list(\n",
    "    c(\"firm\", \"Yes\", \"Yes\", \"Yes\", \"Yes\", \"Yes\", \"Yes\"),\n",
    "    c(\"industry-year\", \"Yes\", \"Yes\", \"Yes\", \"Yes\", \"Yes\", \"Yes\")\n",
    "             )\n",
    "\n",
    "table_1 <- go_latex(list(\n",
    "    t_0, t_1, t_2, t_3, t_4, t_5\n",
    "),\n",
    "    title=\"Baseline Estimate, determinants of firm-level TFP (SOE vs PRI)\",\n",
    "    dep_var = dep,\n",
    "    addFE=fe1,\n",
    "    save=TRUE,\n",
    "    note = FALSE,\n",
    "    name=path\n",
    ")"
   ]
  },
  {
   "cell_type": "code",
   "execution_count": 23,
   "metadata": {
    "kernel": "SoS"
   },
   "outputs": [
    {
     "data": {
      "image/png": "[encoded data removed]",
      "text/plain": [
       "<wand.image.Image: 006d65f 'PDF' (955x973)>"
      ]
     },
     "metadata": {},
     "output_type": "display_data"
    }
   ],
   "source": [
    "tbe1  = \"This table estimates eq(3). \" \\\n",
    "\"Heteroskedasticity-robust standard errors\" \\\n",
    "\"clustered at the firm level appear in parentheses.\"\\\n",
    "\" Current ratio, cash over asset and liabilities over asset are lagged by one year. \"\\\n",
    "\"\\sym{*} Significance at the 10\\%, \\sym{**} Significance at the 5\\%, \\sym{***} Significance at the 1\\%.\"\n",
    "\n",
    "#multicolumn ={\n",
    "#    'Eligible': 2,\n",
    "#    'Non-Eligible': 1,\n",
    "#    'All': 1,\n",
    "#    'All benchmark': 1,\n",
    "#}\n",
    "\n",
    "#multi_lines_dep = '(city/product/trade regime/year)'\n",
    "#new_r = ['& test1', 'test2']\n",
    "lb.beautify(table_number = table_nb,\n",
    "            #reorder_var = reorder,\n",
    "            #multi_lines_dep = multi_lines_dep,\n",
    "            #new_row= new_r,\n",
    "            #multicolumn = multicolumn,\n",
    "            table_nte = tbe1,\n",
    "            jupyter_preview = True,\n",
    "            resolution = 200,\n",
    "            folder = folder)"
   ]
  },
  {
   "cell_type": "markdown",
   "metadata": {
    "kernel": "SoS"
   },
   "source": [
    "## Table 4: TCZ"
   ]
  },
  {
   "cell_type": "code",
   "execution_count": 24,
   "metadata": {
    "kernel": "SoS"
   },
   "outputs": [],
   "source": [
    "folder = 'Tables_0'\n",
    "table_nb = 2\n",
    "table = 'table_{}'.format(table_nb)\n",
    "path = os.path.join(folder, table + '.txt')\n",
    "if os.path.exists(folder) == False:\n",
    "        os.mkdir(folder)\n",
    "for ext in ['.txt', '.tex', '.pdf']:\n",
    "    x = [a for a in os.listdir(folder) if a.endswith(ext)]\n",
    "    [os.remove(os.path.join(folder, i)) for i in x]"
   ]
  },
  {
   "cell_type": "code",
   "execution_count": 25,
   "metadata": {
    "kernel": "R"
   },
   "outputs": [],
   "source": [
    "%get path table\n",
    "t_0 <- felm(log(tfp_op) ~ \n",
    "            log(asset_tangibility_tot_asset) * tcz\n",
    "            | firm + year + indu_2|0 | firm, df_final,\n",
    "            exactDOF = TRUE)\n",
    "\n",
    "t_1 <- felm(log(tfp_op) ~ \n",
    "            log(current_ratio) * tcz\n",
    "            | firm + year + indu_2 |0 | firm,df_final,\n",
    "            exactDOF = TRUE)\n",
    "\n",
    "t_2 <- felm(log(tfp_op) ~ \n",
    "            log(cashflow_to_tangible) * tcz\n",
    "            |firm + year + indu_2|0 | firm, df_final,\n",
    "            exactDOF = TRUE)\n",
    "            \n",
    "t_3 <- felm(log(tfp_op) ~ \n",
    "            log(liabilities_tot_asset) * tcz\n",
    "            | firm + year + indu_2|0 | firm, df_final,\n",
    "            exactDOF = TRUE)\n",
    "\n",
    "t_4 <- felm(log(tfp_op) ~ \n",
    "            log(current_ratio) * tcz +\n",
    "            log(cashflow_to_tangible) * tcz +\n",
    "            log(liabilities_tot_asset) * tcz\n",
    "            | firm + year + indu_2|0 | firm, df_final,\n",
    "            exactDOF = TRUE)\n",
    "\n",
    "t_5 <- felm(log(tfp_op) ~ \n",
    "            log(current_ratio) * tcz +\n",
    "            log(current_ratio) * tcz +\n",
    "            log(cashflow_to_tangible) * tcz +\n",
    "            log(liabilities_tot_asset) * tcz\n",
    "            | firm + year + indu_2|0 | firm, df_final,\n",
    "            exactDOF = TRUE)\n",
    "            \n",
    "dep <- \"Dependent variable: TFP\"\n",
    "fe1 <- list(\n",
    "    c(\"firm\", \"Yes\", \"Yes\"),\n",
    "    c(\"industry-year\", \"Yes\", \"Yes\")\n",
    "             )\n",
    "\n",
    "table_1 <- go_latex(list(\n",
    "    t_0,t_1, t_2, t_3, t_4, t_5\n",
    "),\n",
    "    title=\"Baseline Estimate, determinants of firm-level TFP (TCZ)\",\n",
    "    dep_var = dep,\n",
    "    addFE=fe1,\n",
    "    save=TRUE,\n",
    "    note = FALSE,\n",
    "    name=path\n",
    ")"
   ]
  },
  {
   "cell_type": "code",
   "execution_count": 26,
   "metadata": {
    "kernel": "SoS"
   },
   "outputs": [
    {
     "data": {
      "image/png": "[encoded data removed]",
      "text/plain": [
       "<wand.image.Image: f0047fa 'PDF' (716x756)>"
      ]
     },
     "metadata": {},
     "output_type": "display_data"
    }
   ],
   "source": [
    "tbe1  = \"This table estimates eq(3). \" \\\n",
    "\"Heteroskedasticity-robust standard errors\" \\\n",
    "\"clustered at the firm level appear in parentheses.\"\\\n",
    "\" Current ratio, cash over asset and liabilities over asset are lagged by one year. \"\\\n",
    "\"\\sym{*} Significance at the 10\\%, \\sym{**} Significance at the 5\\%, \\sym{***} Significance at the 1\\%.\"\n",
    "\n",
    "#multicolumn ={\n",
    "#    'Eligible': 2,\n",
    "#    'Non-Eligible': 1,\n",
    "#    'All': 1,\n",
    "#    'All benchmark': 1,\n",
    "#}\n",
    "\n",
    "#multi_lines_dep = '(city/product/trade regime/year)'\n",
    "#new_r = ['& test1', 'test2']\n",
    "lb.beautify(table_number = table_nb,\n",
    "            #reorder_var = reorder,\n",
    "            #multi_lines_dep = multi_lines_dep,\n",
    "            #new_row= new_r,\n",
    "            #multicolumn = multicolumn,\n",
    "            table_nte = tbe1,\n",
    "            jupyter_preview = True,\n",
    "            resolution = 150,\n",
    "            folder = folder)"
   ]
  },
  {
   "cell_type": "markdown",
   "metadata": {
    "kernel": "SoS"
   },
   "source": [
    "## Table 5: SPZ"
   ]
  },
  {
   "cell_type": "code",
   "execution_count": 27,
   "metadata": {
    "kernel": "SoS"
   },
   "outputs": [],
   "source": [
    "folder = 'Tables_0'\n",
    "table_nb = 2\n",
    "table = 'table_{}'.format(table_nb)\n",
    "path = os.path.join(folder, table + '.txt')\n",
    "if os.path.exists(folder) == False:\n",
    "        os.mkdir(folder)\n",
    "for ext in ['.txt', '.tex', '.pdf']:\n",
    "    x = [a for a in os.listdir(folder) if a.endswith(ext)]\n",
    "    [os.remove(os.path.join(folder, i)) for i in x]"
   ]
  },
  {
   "cell_type": "code",
   "execution_count": 28,
   "metadata": {
    "kernel": "R"
   },
   "outputs": [],
   "source": [
    "%get path table\n",
    "t_0 <- felm(log(tfp_op) ~ \n",
    "            log(asset_tangibility_tot_asset) * spz\n",
    "            | firm + year + indu_2|0 | firm, df_final,\n",
    "            exactDOF = TRUE)\n",
    "\n",
    "t_1 <- felm(log(tfp_op) ~ \n",
    "            log(current_ratio) * spz\n",
    "            | firm + year + indu_2 |0 | firm,df_final,\n",
    "            exactDOF = TRUE)\n",
    "\n",
    "t_2 <- felm(log(tfp_op) ~ \n",
    "            log(cashflow_to_tangible) * spz\n",
    "            | firm + year + indu_2|0 | firm, df_final,\n",
    "            exactDOF = TRUE)\n",
    "            \n",
    "t_3 <- felm(log(tfp_op) ~ \n",
    "            log(liabilities_tot_asset) * spz\n",
    "            | firm + year + indu_2|0 | firm, df_final,\n",
    "            exactDOF = TRUE)\n",
    "\n",
    "t_4 <- felm(log(tfp_op) ~ \n",
    "            log(current_ratio) * spz +\n",
    "            log(cashflow_to_tangible) * spz +\n",
    "            log(liabilities_tot_asset) * spz\n",
    "            | firm + year + indu_2|0 | firm, df_final,\n",
    "            exactDOF = TRUE)\n",
    "\n",
    "t_5 <- felm(log(tfp_op) ~ \n",
    "            log(asset_tangibility_tot_asset) * spz +\n",
    "            log(current_ratio) * spz +\n",
    "            log(cashflow_to_tangible) * spz +\n",
    "            log(liabilities_tot_asset) * spz\n",
    "            | firm + year + indu_2|0 | firm, df_final,\n",
    "            exactDOF = TRUE)\n",
    "            \n",
    "dep <- \"Dependent variable: TFP\"\n",
    "fe1 <- list(\n",
    "    c(\"firm\", \"Yes\", \"Yes\"),\n",
    "    c(\"industry-year\", \"Yes\", \"Yes\")\n",
    "             )\n",
    "\n",
    "table_1 <- go_latex(list(\n",
    "    t_0,t_1, t_2, t_3, t_4, t_5\n",
    "),\n",
    "    title=\"Baseline Estimate, determinants of firm-level TFP (TCZ)\",\n",
    "    dep_var = dep,\n",
    "    addFE=fe1,\n",
    "    save=TRUE,\n",
    "    note = FALSE,\n",
    "    name=path\n",
    ")"
   ]
  },
  {
   "cell_type": "code",
   "execution_count": 29,
   "metadata": {
    "kernel": "SoS"
   },
   "outputs": [
    {
     "data": {
      "image/png": "[encoded data removed]",
      "text/plain": [
       "<wand.image.Image: a029144 'PDF' (716x794)>"
      ]
     },
     "metadata": {},
     "output_type": "display_data"
    }
   ],
   "source": [
    "tbe1  = \"This table estimates eq(3). \" \\\n",
    "\"Heteroskedasticity-robust standard errors\" \\\n",
    "\"clustered at the firm level appear in parentheses.\"\\\n",
    "\" Current ratio, cash over asset and liabilities over asset are lagged by one year. \"\\\n",
    "\"\\sym{*} Significance at the 10\\%, \\sym{**} Significance at the 5\\%, \\sym{***} Significance at the 1\\%.\"\n",
    "\n",
    "#multicolumn ={\n",
    "#    'Eligible': 2,\n",
    "#    'Non-Eligible': 1,\n",
    "#    'All': 1,\n",
    "#    'All benchmark': 1,\n",
    "#}\n",
    "\n",
    "#multi_lines_dep = '(city/product/trade regime/year)'\n",
    "#new_r = ['& test1', 'test2']\n",
    "lb.beautify(table_number = table_nb,\n",
    "            #reorder_var = reorder,\n",
    "            #multi_lines_dep = multi_lines_dep,\n",
    "            #new_row= new_r,\n",
    "            #multicolumn = multicolumn,\n",
    "            table_nte = tbe1,\n",
    "            jupyter_preview = True,\n",
    "            resolution = 150,\n",
    "            folder = folder)"
   ]
  },
  {
   "cell_type": "markdown",
   "metadata": {
    "kernel": "SoS"
   },
   "source": [
    "## Table 6: Large vs Small"
   ]
  },
  {
   "cell_type": "code",
   "execution_count": null,
   "metadata": {
    "kernel": "SoS"
   },
   "outputs": [],
   "source": [
    "folder = 'Tables_0'\n",
    "table_nb = 2\n",
    "table = 'table_{}'.format(table_nb)\n",
    "path = os.path.join(folder, table + '.txt')\n",
    "if os.path.exists(folder) == False:\n",
    "        os.mkdir(folder)\n",
    "for ext in ['.txt', '.tex', '.pdf']:\n",
    "    x = [a for a in os.listdir(folder) if a.endswith(ext)]\n",
    "    [os.remove(os.path.join(folder, i)) for i in x]"
   ]
  },
  {
   "cell_type": "code",
   "execution_count": null,
   "metadata": {
    "kernel": "R"
   },
   "outputs": [],
   "source": [
    "%get folder\n",
    "t <- 1\n",
    "for (var in list(\n",
    "    #'size_asset_',\n",
    "    'size_output_',\n",
    "    'size_employment_',\n",
    "    'size_capital_',\n",
    "    'size_sales_'\n",
    "    )){\n",
    "    \n",
    "    for (option in list('fci','fc','fi')){\n",
    "        \n",
    "        variable <- paste0(var, option)\n",
    "        \n",
    "        title <- paste0(\"Baseline Estimate, determinants of firm-level TFP (\", var, option, \")\")\n",
    "        path_1 <- paste0(folder,\"/table_\",t ,\".txt\")\n",
    "        t_0 <- felm(log(tfp_op) ~ \n",
    "                log(current_ratio) * d_size_percentile  + \n",
    "                log(cashflow_to_tangible) * d_size_percentile + \n",
    "                log(liabilities_tot_asset) * d_size_percentile\n",
    "                | firm + year + indu_2|0 | firm, df_final %>% \n",
    "    mutate(d_size_percentile = str_extract(get(variable), \"(?<=.5\\\\=)(.*?)(?=\\\\,)\")),\n",
    "                exactDOF = TRUE)\n",
    "\n",
    "    t_1 <- felm(log(tfp_op) ~ \n",
    "                    log(current_ratio) * d_size_percentile  + \n",
    "                log(cashflow_to_tangible) * d_size_percentile + \n",
    "                log(liabilities_tot_asset) * d_size_percentile\n",
    "                    |firm + year + indu_2|0 | firm, df_final %>% \n",
    "        mutate(d_size_percentile = str_extract(get(variable), \"(?<=.75\\\\=)(.*?)(?=\\\\,)\")),\n",
    "                    exactDOF = TRUE)\n",
    "\n",
    "    t_2 <- felm(log(tfp_op) ~ \n",
    "                    log(current_ratio) * d_size_percentile  + \n",
    "                log(cashflow_to_tangible) * d_size_percentile + \n",
    "                log(liabilities_tot_asset) * d_size_percentile\n",
    "                    | firm + year + indu_2|0 | firm, df_final %>% \n",
    "        mutate(d_size_percentile = str_extract(get(variable), \"(?<=.9\\\\=)(.*?)(?=\\\\,)\")),\n",
    "                    exactDOF = TRUE)\n",
    "\n",
    "    t_3 <- felm(log(tfp_op) ~ \n",
    "                    log(current_ratio) * d_size_percentile  + \n",
    "                log(cashflow_to_tangible) * d_size_percentile + \n",
    "                log(liabilities_tot_asset) * d_size_percentile\n",
    "                    | firm + year + indu_2|0 | firm, df_final %>% \n",
    "        mutate(d_size_percentile = str_extract(get(variable), \"(?<=.95\\\\=)(.*?)(?=\\\\})\")),\n",
    "                    exactDOF = TRUE)\n",
    "\n",
    "    dep <- \"Dependent variable: TFP\"\n",
    "    fe1 <- list(\n",
    "            c(\"firm\", \"Yes\", \"Yes\", \"Yes\", \"Yes\"),\n",
    "            c(\"industry-year\", \"Yes\", \"Yes\", \"Yes\", \"Yes\")\n",
    "                     )\n",
    "    table_1 <- go_latex(\n",
    "        list(t_0,t_1, t_2, t_3),\n",
    "        title=title,\n",
    "        dep_var = dep,\n",
    "        addFE=fe1,\n",
    "        save=TRUE,\n",
    "        note = FALSE,\n",
    "        name=path_1\n",
    "        )\n",
    "        t<- t + 1\n",
    "    }\n",
    "}"
   ]
  },
  {
   "cell_type": "code",
   "execution_count": null,
   "metadata": {
    "kernel": "SoS"
   },
   "outputs": [],
   "source": [
    "tbe1  = \"This table estimates eq(3). \" \\\n",
    "\"Heteroskedasticity-robust standard errors\" \\\n",
    "\"clustered at the firm level appear in parentheses.\"\\\n",
    "\" Current ratio, cash over asset and liabilities over asset are lagged by one year. \"\\\n",
    "\"\\sym{*} Significance at the 10\\%, \\sym{**} Significance at the 5\\%, \\sym{***} Significance at the 1\\%.\"\n",
    "\n",
    "#multicolumn ={\n",
    "#    'Eligible': 2,\n",
    "#    'Non-Eligible': 1,\n",
    "#    'All': 1,\n",
    "#    'All benchmark': 1,\n",
    "#}\n",
    "\n",
    "#multi_lines_dep = '(city/product/trade regime/year)'\n",
    "new_r = ['& .5', '.75', '.90', '.95']\n",
    "for i in range(1, 16):\n",
    "    print('\\n\\nTable {}\\n\\n'.format(i))\n",
    "    lb.beautify(table_number = i,\n",
    "                #reorder_var = reorder,\n",
    "                #multi_lines_dep = multi_lines_dep,\n",
    "                new_row= new_r,\n",
    "                #multicolumn = multicolumn,\n",
    "                table_nte = tbe1,\n",
    "                jupyter_preview = True,\n",
    "                resolution = 200,\n",
    "                folder = folder)"
   ]
  },
  {
   "cell_type": "code",
   "execution_count": null,
   "metadata": {
    "kernel": "SoS"
   },
   "outputs": [],
   "source": [
    "folder = 'Tables_0'\n",
    "table_nb = 2\n",
    "table = 'table_{}'.format(table_nb)\n",
    "path = os.path.join(folder, table + '.txt')\n",
    "if os.path.exists(folder) == False:\n",
    "        os.mkdir(folder)\n",
    "for ext in ['.txt', '.tex', '.pdf']:\n",
    "    x = [a for a in os.listdir(folder) if a.endswith(ext)]\n",
    "    [os.remove(os.path.join(folder, i)) for i in x]"
   ]
  },
  {
   "cell_type": "markdown",
   "metadata": {
    "kernel": "SoS",
    "nteract": {
     "transient": {
      "deleting": false
     }
    }
   },
   "source": [
    "# Generate reports"
   ]
  },
  {
   "cell_type": "code",
   "execution_count": null,
   "metadata": {
    "kernel": "python3",
    "nteract": {
     "transient": {
      "deleting": false
     }
    },
    "outputExpanded": false
   },
   "outputs": [],
   "source": [
    "import os, time, shutil, urllib, ipykernel, json\n",
    "from pathlib import Path\n",
    "from notebook import notebookapp"
   ]
  },
  {
   "cell_type": "code",
   "execution_count": null,
   "metadata": {
    "kernel": "python3",
    "nteract": {
     "transient": {
      "deleting": false
     }
    },
    "outputExpanded": false
   },
   "outputs": [],
   "source": [
    "def create_report(extension = \"html\", keep_code = False, notebookname = None):\n",
    "    \"\"\"\n",
    "    Create a report from the current notebook and save it in the \n",
    "    Report folder (Parent-> child directory)\n",
    "    \n",
    "    1. Exctract the current notbook name\n",
    "    2. Convert the Notebook \n",
    "    3. Move the newly created report\n",
    "    \n",
    "    Args:\n",
    "    extension: string. Can be \"html\", \"pdf\", \"md\"\n",
    "    \n",
    "    \n",
    "    \"\"\"\n",
    "    \n",
    "    ### Get notebook name\n",
    "    connection_file = os.path.basename(ipykernel.get_connection_file())\n",
    "    kernel_id = connection_file.split('-', 1)[0].split('.')[0]\n",
    "\n",
    "    for srv in notebookapp.list_running_servers():\n",
    "        try:\n",
    "            if srv['token']=='' and not srv['password']:  \n",
    "                req = urllib.request.urlopen(srv['url']+'api/sessions')\n",
    "            else:\n",
    "                req = urllib.request.urlopen(srv['url']+ \\\n",
    "                                             'api/sessions?token=' + \\\n",
    "                                             srv['token'])\n",
    "            sessions = json.load(req)\n",
    "            notebookname = sessions[0]['name']\n",
    "        except:\n",
    "            notebookname = notebookname  \n",
    "    \n",
    "    sep = '.'\n",
    "    path = os.getcwd()\n",
    "    #parent_path = str(Path(path).parent)\n",
    "    \n",
    "    ### Path report\n",
    "    #path_report = \"{}/Reports\".format(parent_path)\n",
    "    #path_report = \"{}/Reports\".format(path)\n",
    "    \n",
    "    ### Path destination\n",
    "    name_no_extension = notebookname.split(sep, 1)[0]\n",
    "    source_to_move = name_no_extension +'.{}'.format(extension)\n",
    "    dest = os.path.join(path,'Reports', source_to_move)\n",
    "    \n",
    "    ### Generate notebook\n",
    "    if keep_code:\n",
    "        os.system('jupyter nbconvert --to {} {}'.format(\n",
    "    extension,notebookname))\n",
    "    else:\n",
    "        os.system('jupyter nbconvert --no-input --to {} {}'.format(\n",
    "    extension,notebookname))\n",
    "    \n",
    "    ### Move notebook to report folder\n",
    "    #time.sleep(5)\n",
    "    shutil.move(source_to_move, dest)\n",
    "    print(\"Report Available at this adress:\\n {}\".format(dest))"
   ]
  },
  {
   "cell_type": "code",
   "execution_count": null,
   "metadata": {
    "kernel": "python3",
    "nteract": {
     "transient": {
      "deleting": false
     }
    },
    "outputExpanded": false
   },
   "outputs": [],
   "source": [
    "create_report(extension = \"html\", keep_code = False, notebookname = \"05_tfp_firm_level.ipynb\")"
   ]
  }
 ],
 "metadata": {
  "jupytext": {
   "formats": "ipynb,md"
  },
  "kernel_info": {
   "name": "python3"
  },
  "kernelspec": {
   "display_name": "SoS",
   "language": "sos",
   "name": "sos"
  },
  "language_info": {
   "codemirror_mode": "sos",
   "file_extension": ".sos",
   "mimetype": "text/x-sos",
   "name": "sos",
   "nbconvert_exporter": "sos_notebook.converter.SoS_Exporter",
   "pygments_lexer": "sos"
  },
  "nteract": {
   "version": "0.26.0"
  },
  "sos": {
   "kernels": [
    [
     "R",
     "ir",
     "R",
     "#DCDCDA",
     "r"
    ],
    [
     "SoS",
     "sos",
     "",
     "",
     "sos"
    ],
    [
     "python3",
     "python3",
     "python",
     "",
     {
      "name": "ipython",
      "version": 3
     }
    ]
   ],
   "version": "0.20.1"
  },
  "toc": {
   "base_numbering": 1,
   "nav_menu": {},
   "number_sections": true,
   "sideBar": true,
   "skip_h1_title": false,
   "title_cell": "Table of Contents",
   "title_sidebar": "Contents",
   "toc_cell": false,
   "toc_position": {},
   "toc_section_display": true,
   "toc_window_display": false
  }
 },
 "nbformat": 4,
 "nbformat_minor": 4
}
