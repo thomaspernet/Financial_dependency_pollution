{
 "cells": [
  {
   "cell_type": "markdown",
   "metadata": {
    "kernel": "SoS"
   },
   "source": [
    "# Estimate model pollution and financial dependency with city mandate\n",
    "\n",
    "# Objective(s)\n",
    "\n",
    "**Business needs**\n",
    "\n",
    "Estimate the SO2 emission as a function of financial ratio, policy mandate and a time break\n",
    "\n",
    "**Description**\n",
    "\n",
    "**Objective**\n",
    "\n",
    "Test the coefficient sign and significant of the main variable, the triple interaction term: financial ratio, time break and policy mandate. \n",
    "\n",
    "Test only with financial ratio computed at the industry level → more observation \n",
    "\n",
    "**Tables**\n",
    "\n",
    "1. Table 1: Baseline estimate, SO2 emission reduction and industry financial ratio\n",
    "\n",
    "**Cautious**\n",
    "\n",
    "\n",
    "# Metadata\n",
    "\n",
    "* Key: nii81ldai42313s\n",
    "* Parent key (for update parent):  \n",
    "* Notebook US Parent (i.e the one to update): \n",
    "* Epic: Epic 2\n",
    "* US: US 1\n",
    "* Date Begin: 11/28/2020\n",
    "* Duration Task: 1\n",
    "* Description: Estimate the SO2 emission as a function of financial ratio, policy mandate and a time break\n",
    "* Step type: Evaluate model\n",
    "* Status: Active\n",
    "* Source URL: US 01 Baseline financial ratio\n",
    "* Task type: Jupyter Notebook\n",
    "* Users: Thomas Pernet\n",
    "* Watchers: Thomas Pernet\n",
    "* User Account: https://468786073381.signin.aws.amazon.com/console\n",
    "* Estimated Log points: 7\n",
    "* Task tag: #econometrics,#financial-ratio,#policy,#so2\n",
    "* Toggl Tag: #model-estimate\n",
    "* current nb commits: 0\n",
    "* Meetings:  \n",
    "* Presentation:  \n",
    "* Email Information:  \n",
    "  * thread: Number of threads: 0(Default 0, to avoid display email)\n",
    "  *  \n",
    "\n",
    "# Input Cloud Storage [AWS/GCP]\n",
    "\n",
    "## Table/file\n",
    "\n",
    "* Origin: \n",
    "* Athena\n",
    "* Name: \n",
    "* asif_city_industry_financial_ratio\n",
    "* Github: \n",
    "  * https://github.com/thomaspernet/Financial_dependency_pollution/blob/master/01_data_preprocessing/02_transform_tables/00_asif_financial_ratio.md\n",
    "\n"
   ]
  },
  {
   "cell_type": "markdown",
   "metadata": {
    "kernel": "SoS"
   },
   "source": [
    "# Connexion server"
   ]
  },
  {
   "cell_type": "code",
   "execution_count": null,
   "metadata": {
    "kernel": "SoS"
   },
   "outputs": [],
   "source": [
    "from awsPy.aws_authorization import aws_connector\n",
    "from awsPy.aws_s3 import service_s3\n",
    "from awsPy.aws_glue import service_glue\n",
    "from pathlib import Path\n",
    "import pandas as pd\n",
    "import numpy as np\n",
    "#import seaborn as sns\n",
    "import os, shutil, json\n",
    "\n",
    "path = os.getcwd()\n",
    "parent_path = str(Path(path).parent.parent.parent)\n",
    "\n",
    "\n",
    "name_credential = 'financial_dep_SO2_accessKeys.csv'\n",
    "region = 'eu-west-3'\n",
    "bucket = 'datalake-datascience'\n",
    "path_cred = \"{0}/creds/{1}\".format(parent_path, name_credential)"
   ]
  },
  {
   "cell_type": "code",
   "execution_count": null,
   "metadata": {
    "kernel": "SoS"
   },
   "outputs": [],
   "source": [
    "con = aws_connector.aws_instantiate(credential = path_cred,\n",
    "                                       region = region)\n",
    "client= con.client_boto()\n",
    "s3 = service_s3.connect_S3(client = client,\n",
    "                      bucket = bucket, verbose = False)\n",
    "glue = service_glue.connect_glue(client = client) "
   ]
  },
  {
   "cell_type": "code",
   "execution_count": null,
   "metadata": {
    "kernel": "SoS"
   },
   "outputs": [],
   "source": [
    "pandas_setting = True\n",
    "if pandas_setting:\n",
    "    #cm = sns.light_palette(\"green\", as_cmap=True)\n",
    "    pd.set_option('display.max_columns', None)\n",
    "    pd.set_option('display.max_colwidth', None)"
   ]
  },
  {
   "cell_type": "code",
   "execution_count": null,
   "metadata": {
    "kernel": "SoS"
   },
   "outputs": [],
   "source": [
    "os.environ['KMP_DUPLICATE_LIB_OK']='True'"
   ]
  },
  {
   "cell_type": "markdown",
   "metadata": {
    "kernel": "SoS"
   },
   "source": [
    "# Load tables\n",
    "\n",
    "Since we load the data as a Pandas DataFrame, we want to pass the `dtypes`. We load the schema from Glue to guess the types"
   ]
  },
  {
   "cell_type": "code",
   "execution_count": null,
   "metadata": {
    "kernel": "SoS"
   },
   "outputs": [],
   "source": [
    "db = 'environment'\n",
    "table = 'fin_dep_pollution_baseline'"
   ]
  },
  {
   "cell_type": "code",
   "execution_count": null,
   "metadata": {
    "kernel": "SoS"
   },
   "outputs": [],
   "source": [
    "dtypes = {}\n",
    "schema = (glue.get_table_information(database = db,\n",
    "                           table = table)\n",
    "          ['Table']['StorageDescriptor']['Columns']\n",
    "         )\n",
    "for key, value in enumerate(schema):\n",
    "    if value['Type'] in ['varchar(12)']:\n",
    "        format_ = 'string'\n",
    "    elif value['Type'] in ['decimal(21,5)', 'double', 'bigint', 'int', 'float']:\n",
    "        format_ = 'float'\n",
    "    else:\n",
    "        format_ = value['Type'] \n",
    "    dtypes.update(\n",
    "        {value['Name']:format_}\n",
    "    )\n",
    "dtypes"
   ]
  },
  {
   "cell_type": "code",
   "execution_count": null,
   "metadata": {
    "kernel": "SoS"
   },
   "outputs": [],
   "source": [
    "download_data = False\n",
    "\n",
    "if download_data:\n",
    "    filename = 'df_{}'.format(table)\n",
    "    full_path_filename = 'SQL_OUTPUT_ATHENA/CSV/{}.csv'.format(filename)\n",
    "    s3 = service_s3.connect_S3(client = client,\n",
    "                          bucket = bucket, verbose = False)\n",
    "    query = \"\"\"\n",
    "    SELECT * \n",
    "    FROM {}.{}\n",
    "    \"\"\".format(db, table)\n",
    "    df = (s3.run_query(\n",
    "        query=query,\n",
    "        database=db,\n",
    "        s3_output='SQL_OUTPUT_ATHENA',\n",
    "        filename=filename,  # Add filename to print dataframe\n",
    "        destination_key='SQL_OUTPUT_ATHENA/CSV',  #Use it temporarily\n",
    "        dtype = dtypes\n",
    "    )\n",
    "            )\n",
    "    s3.download_file(\n",
    "        key = full_path_filename\n",
    "    )\n",
    "    path_local = os.path.join(str(Path(path).parent.parent.parent), \n",
    "                              \"00_data_catalogue/temporary_local_data\")\n",
    "    shutil.move(\n",
    "        filename + '.csv',\n",
    "        os.path.join(path_local, filename + '.csv')\n",
    "    )\n",
    "    s3.remove_file(full_path_filename)\n",
    "    df.head()"
   ]
  },
  {
   "cell_type": "code",
   "execution_count": null,
   "metadata": {
    "kernel": "SoS"
   },
   "outputs": [],
   "source": [
    "pd.DataFrame(schema)"
   ]
  },
  {
   "cell_type": "markdown",
   "metadata": {
    "kernel": "SoS"
   },
   "source": [
    "## Schema Latex table\n",
    "\n",
    "To rename a variable, please use the following template:\n",
    "\n",
    "```\n",
    "{\n",
    "    'old':'XX',\n",
    "    'new':'XX_1'\n",
    "    }\n",
    "```\n",
    "\n",
    "if you need to pass a latex format with `\\`, you need to duplicate it for instance, `\\text` becomes `\\\\text:\n",
    "\n",
    "```\n",
    "{\n",
    "    'old':'working\\_capital\\_i',\n",
    "    'new':'\\\\text{working capital}_i'\n",
    "    }\n",
    "```\n",
    "\n",
    "Then add it to the key `to_rename`"
   ]
  },
  {
   "cell_type": "code",
   "execution_count": null,
   "metadata": {
    "kernel": "SoS"
   },
   "outputs": [],
   "source": [
    "add_to_dic = True\n",
    "if add_to_dic:\n",
    "    with open('schema_table.json') as json_file:\n",
    "        data = json.load(json_file)\n",
    "    data['to_rename'] = []\n",
    "    dic_rename = [\n",
    "        ### control variables\n",
    "        {\n",
    "        'old':'output',\n",
    "        'new':'\\\\text{output}_{cit}'\n",
    "        },\n",
    "        {\n",
    "        'old':'employment',\n",
    "        'new':'\\\\text{employment}_{cit}'\n",
    "        },\n",
    "        {\n",
    "        'old':'capital',\n",
    "        'new':'\\\\text{capital}_{cit}'\n",
    "        },\n",
    "       # {\n",
    "       # 'old':'sales',\n",
    "       # 'new':'\\\\text{sales}_{cit}'\n",
    "       # },\n",
    "        \n",
    "        ### financial ratio\n",
    "        #### Industry\n",
    "        {\n",
    "        'old':'working\\_capital\\_i',\n",
    "        'new':'\\\\text{working capital}_i'\n",
    "        },\n",
    "        {\n",
    "        'old':'asset\\_tangibility\\_i',\n",
    "        'new':'\\\\text{asset tangibility}_i'\n",
    "        },\n",
    "        {\n",
    "        'old':'current\\_ratio\\_i',\n",
    "        'new':'\\\\text{current ratio}_i'\n",
    "        },\n",
    "        {\n",
    "        'old':'cash\\_assets\\_i',\n",
    "        'new':'\\\\text{cash assets}_i'\n",
    "        },\n",
    "        {\n",
    "        'old':'liabilities\\_assets\\_i',\n",
    "        'new':'\\\\text{liabilities assets}_i'\n",
    "        },\n",
    "        {\n",
    "        'old':'return\\_on\\_asset\\_i',\n",
    "        'new':'\\\\text{return on asset}_i'\n",
    "        },\n",
    "        {\n",
    "        'old':'sales\\_assets\\_i',\n",
    "        'new':'\\\\text{sales assets}_i'\n",
    "        },\n",
    "        #### City-industry\n",
    "        {\n",
    "        'old':'working\\_capital\\_ci',\n",
    "        'new':'\\\\text{working capital}_{ci}'\n",
    "        },\n",
    "        {\n",
    "        'old':'asset\\_tangibility\\_ci',\n",
    "        'new':'\\\\text{asset tangibility}_{ci}'\n",
    "        },\n",
    "        {\n",
    "        'old':'current\\_ratio\\_ci',\n",
    "        'new':'\\\\text{current ratio}_{ci}'\n",
    "        },\n",
    "        {\n",
    "        'old':'cash\\_assets\\_ci',\n",
    "        'new':'\\\\text{cash assets}_{ci}'\n",
    "        },\n",
    "        {\n",
    "        'old':'liabilities\\_assets\\_ci',\n",
    "        'new':'\\\\text{liabilities assets}_{ci}'\n",
    "        },\n",
    "        {\n",
    "        'old':'return\\_on\\_asset\\_ci',\n",
    "        'new':'\\\\text{return on asset}_{ci}'\n",
    "        },\n",
    "        {\n",
    "        'old':'sales\\_assets\\_ci',\n",
    "        'new':'\\\\text{sales assets}_{ci}'\n",
    "        },\n",
    "        #### City-Industry-year\n",
    "         {\n",
    "        'old':'working\\_capital\\_cit',\n",
    "        'new':'\\\\text{working capital}_{cit}'\n",
    "        },\n",
    "        {\n",
    "        'old':'asset\\_tangibility\\_cit',\n",
    "        'new':'\\\\text{asset tangibility}_{cit}'\n",
    "        },\n",
    "        {\n",
    "        'old':'current\\_ratio\\_cit',\n",
    "        'new':'\\\\text{current ratio}_{cit}'\n",
    "        },\n",
    "        {\n",
    "        'old':'cash\\_assets\\_cit',\n",
    "        'new':'\\\\text{cash assets}_{cit}'\n",
    "        },\n",
    "        {\n",
    "        'old':'liabilities\\_assets\\_cit',\n",
    "        'new':'\\\\text{liabilities assets}_{cit}'\n",
    "        },\n",
    "        {\n",
    "        'old':'return\\_on\\_asset\\_cit',\n",
    "        'new':'\\\\text{return on asset}_{cit}'\n",
    "        },\n",
    "        {\n",
    "        'old':'sales\\_assets\\_cit',\n",
    "        'new':'\\\\text{sales assets}_{cit}'\n",
    "        },\n",
    "        #### \n",
    "        {\n",
    "        'old':'periodTRUE',\n",
    "        'new':'\\\\text{period}'\n",
    "        },\n",
    "        {\n",
    "        'old':'period',\n",
    "        'new':'\\\\text{period}'\n",
    "        },\n",
    "        {\n",
    "        'old':'tso2\\_mandate\\_c',\n",
    "        'new':'\\\\text{policy mandate}_c'\n",
    "        },\n",
    "    ]\n",
    "\n",
    "    data['to_rename'].extend(dic_rename)\n",
    "    with open('schema_table.json', 'w') as outfile:\n",
    "        json.dump(data, outfile)\n",
    "    print(data)"
   ]
  },
  {
   "cell_type": "markdown",
   "metadata": {
    "kernel": "SoS"
   },
   "source": [
    "# Models to estimate\n",
    "\n",
    "The model to estimate is: \n",
    "\n",
    "## Fixed Effect\n",
    "\n",
    "TABLE FIXED EFFECT\n",
    "\n",
    "\n",
    "- FE NAME: `FE NAME IN TALBE`"
   ]
  },
  {
   "cell_type": "code",
   "execution_count": null,
   "metadata": {
    "kernel": "Python 3"
   },
   "outputs": [],
   "source": [
    "import function.latex_beautify as lb\n",
    "\n",
    "%load_ext autoreload\n",
    "%autoreload 2"
   ]
  },
  {
   "cell_type": "code",
   "execution_count": null,
   "metadata": {
    "kernel": "R"
   },
   "outputs": [],
   "source": [
    "options(warn=-1)\n",
    "library(tidyverse)\n",
    "library(lfe)\n",
    "#library(lazyeval)\n",
    "library('progress')\n",
    "path = \"function/table_golatex.R\"\n",
    "source(path)"
   ]
  },
  {
   "cell_type": "code",
   "execution_count": null,
   "metadata": {
    "kernel": "R"
   },
   "outputs": [],
   "source": [
    "path = '../../../00_Data_catalogue/temporary_local_data/df_fin_dep_pollution_baseline.csv'\n",
    "df_final <- read_csv(path) %>%\n",
    "mutate_if(is.character, as.factor) %>%\n",
    "    mutate_at(vars(starts_with(\"fe\")), as.factor) %>%\n",
    "mutate(\n",
    "    period = relevel(as.factor(period), ref='FALSE')\n",
    ")"
   ]
  },
  {
   "cell_type": "code",
   "execution_count": null,
   "metadata": {
    "kernel": "R"
   },
   "outputs": [],
   "source": [
    "head(df_final)"
   ]
  },
  {
   "cell_type": "markdown",
   "metadata": {
    "kernel": "SoS"
   },
   "source": [
    "## Table 1: Baseline estimate, SO2 emission reduction and industry financial ratio, industry level\n",
    "\n",
    "$$\n",
    "\\begin{aligned}\n",
    "\\text{SO2}_{cit}  &= \\alpha \\text{Financial ratio}_i \\times \\text{Period} \\times \\text{policy mandate}_c  + \\gamma_{ci} + \\gamma_{ti} +\\gamma_{ct}  + \\epsilon_{cit}\n",
    "\\end{aligned}\n",
    "$$\n",
    "\n",
    "\n",
    "\n",
    "* Column 1: working_capital_i\n",
    "    * Expected sign: + -> Less constrain because more cash after meeting its bills\n",
    "    * FE: \n",
    "        - fe 1: `ci`\n",
    "        - fe 2: `ti`\n",
    "        - fe 3: `ct`\n",
    "* Column 2: asset_tangibility_i\n",
    "    * Expected sign: + -> Less constrain because more liquid assets \n",
    "    * FE: \n",
    "        - fe 1: `ci`\n",
    "        - fe 2: `ti`\n",
    "        - fe 3: `ct`\n",
    "* Column 3: current_ratio_i\n",
    "    * Expected sign: + -> Less constrain because maximises current assets to payback current liabilities\n",
    "    * FE: \n",
    "        - fe 1: `ci`\n",
    "        - fe 2: `ti`\n",
    "        - fe 3: `ct`\n",
    "* Column 4: cash_assets_i\n",
    "    * Expected sign: + -> Less constrain because large portion of cash hold\n",
    "    * FE: \n",
    "        - fe 1: `ci`\n",
    "        - fe 2: `ti`\n",
    "        - fe 3: `ct`\n",
    "* Column 5: liabilities_assets_i\n",
    "   * Expected sign: - -> Large value indicates financed by creditors and not owners\n",
    "   * FE: \n",
    "        - fe 1: `ci`\n",
    "        - fe 2: `ti`\n",
    "        - fe 3: `ct`\n",
    "* Column 6: return_on_asset_i\n",
    "    * Expected sign:  + -> Large values indicates good performances, hence more profit\n",
    "    * FE: \n",
    "        - fe 1: `ci`\n",
    "        - fe 2: `ti`\n",
    "        - fe 3: `ct`\n",
    "* Column 7: sales_assets_i\n",
    "    * Expected sign: + -> Large value indicates good use of asset to generate sales\n",
    "    * FE: \n",
    "        - fe 1: `ci`\n",
    "        - fe 2: `ti`\n",
    "        - fe 3: `ct`   \n",
    "        \n",
    "**Andersen results**\n",
    "\n",
    "![](https://drive.google.com/uc?export=view&id=1HrqaA5NLRPjWk2lqvHyrZAjO3wSP5r-9)"
   ]
  },
  {
   "cell_type": "code",
   "execution_count": null,
   "metadata": {
    "kernel": "SoS"
   },
   "outputs": [],
   "source": [
    "folder = 'Tables_0'\n",
    "if os.path.exists(folder) == False:\n",
    "        os.mkdir(folder)\n",
    "for ext in ['.txt', '.tex', '.pdf']:\n",
    "    x = [a for a in os.listdir(folder) if a.endswith(ext)]\n",
    "    [os.remove(os.path.join(folder, i)) for i in x]"
   ]
  },
  {
   "cell_type": "code",
   "execution_count": null,
   "metadata": {
    "kernel": "R"
   },
   "outputs": [],
   "source": [
    "t_0 <- felm(log(tso2) ~ working_capital_i * period * tso2_mandate_c +\n",
    "            log(output +1) + log(employment+1) + log(capital+1)\n",
    "            | fe_c_i + fe_t_i + fe_c_t|0 | geocode4_corr, df_final,\n",
    "            exactDOF = TRUE)\n",
    "t_1 <- felm(log(tso2) ~ asset_tangibility_i * period * tso2_mandate_c +\n",
    "            log(output +1) + log(employment+1) + log(capital+1)\n",
    "            | fe_c_i + fe_t_i + fe_c_t|0 | geocode4_corr, df_final,\n",
    "            exactDOF = TRUE)\n",
    "\n",
    "t_2 <- felm(log(tso2) ~ current_ratio_i * period * tso2_mandate_c +\n",
    "            log(output +1) + log(employment+1) + log(capital+1)\n",
    "            | fe_c_i + fe_t_i + fe_c_t|0 | geocode4_corr, df_final,\n",
    "            exactDOF = TRUE)\n",
    "\n",
    "t_3 <- felm(log(tso2) ~ cash_assets_i * period * tso2_mandate_c +\n",
    "            log(output +1) + log(employment+1) + log(capital+1)\n",
    "            | fe_c_i + fe_t_i + fe_c_t|0 | geocode4_corr, df_final,\n",
    "            exactDOF = TRUE)\n",
    "\n",
    "t_4 <- felm(log(tso2) ~ liabilities_assets_i * period * tso2_mandate_c +\n",
    "            log(output +1) + log(employment+1) + log(capital+1)\n",
    "            | fe_c_i + fe_t_i + fe_c_t|0 | geocode4_corr, df_final,\n",
    "            exactDOF = TRUE)\n",
    "\n",
    "t_5 <- felm(log(tso2) ~ return_on_asset_i * period * tso2_mandate_c +\n",
    "            log(output +1) + log(employment+1) + log(capital+1)\n",
    "            | fe_c_i + fe_t_i + fe_c_t|0 | geocode4_corr, df_final,\n",
    "            exactDOF = TRUE)\n",
    "\n",
    "t_6 <- felm(log(tso2) ~ sales_assets_i * period * tso2_mandate_c +\n",
    "            log(output +1) + log(employment+1) + log(capital+1)\n",
    "            | fe_c_i + fe_t_i + fe_c_t|0 | geocode4_corr, df_final,\n",
    "            exactDOF = TRUE)\n",
    "\n",
    "dep <- \"Dependent variable: SO2 emission\"\n",
    "fe1 <- list(\n",
    "    c(\"City-industry\", \"Yes\", \"Yes\", \"Yes\", \"Yes\", \"Yes\", \"Yes\", \"Yes\"),\n",
    "    \n",
    "    c(\"Time-industry\", \"Yes\", \"Yes\", \"Yes\", \"Yes\", \"Yes\", \"Yes\", \"Yes\"),\n",
    "    \n",
    "    c(\"City-time\", \"Yes\", \"Yes\", \"Yes\", \"Yes\", \"Yes\", \"Yes\", \"Yes\")\n",
    "             )\n",
    "\n",
    "table_1 <- go_latex(list(\n",
    "    t_0,t_1, t_2, t_3, t_4, t_5, t_6\n",
    "),\n",
    "    title=\"Baseline estimate, SO2 emission reduction and industry financial ratio, industry level\",\n",
    "    dep_var = dep,\n",
    "    addFE=fe1,\n",
    "    save=TRUE,\n",
    "    note = FALSE,\n",
    "    name=\"Tables_0/table_0.txt\"\n",
    ")\n"
   ]
  },
  {
   "cell_type": "code",
   "execution_count": null,
   "metadata": {
    "kernel": "Python 3"
   },
   "outputs": [],
   "source": [
    "tbe1  = \"This table estimates eq(3). \" \\\n",
    "\"Heteroskedasticity-robust standard errors \" \\\n",
    "\"clustered at the city level appear inp arentheses. \"\\\n",
    "\"\\sym{*} Significance at the 10\\%, \\sym{**} Significance at the 5\\%, \\sym{***} Significance at the 1\\%.\"\n",
    "\n",
    "#multicolumn ={\n",
    "#    'Eligible': 2,\n",
    "#    'Non-Eligible': 1,\n",
    "#    'All': 1,\n",
    "#    'All benchmark': 1,\n",
    "#}\n",
    "\n",
    "#multi_lines_dep = '(city/product/trade regime/year)'\n",
    "#new_r = ['& test1', 'test2']\n",
    "lb.beautify(table_number = 0,\n",
    "            #reorder_var = reorder,\n",
    "            #multi_lines_dep = multi_lines_dep,\n",
    "            #new_row= new_r,\n",
    "            #multicolumn = multicolumn,\n",
    "            table_nte = tbe1,\n",
    "            jupyter_preview = True,\n",
    "            resolution = 200,\n",
    "           folder = folder)"
   ]
  },
  {
   "cell_type": "markdown",
   "metadata": {
    "kernel": "Python 3"
   },
   "source": [
    "## Table 2: Baseline estimate, SO2 emission reduction and industry financial ratio, city-industry level\n",
    "\n",
    "$$\n",
    "\\begin{aligned}\n",
    "\\text{SO2}_{cit}  &= \\alpha \\text{Financial ratio}_ci \\times \\text{Period} \\times \\text{policy mandate}_c  + \\gamma_{ci} + \\gamma_{ti} +\\gamma_{ct}  + \\epsilon_{cit}\n",
    "\\end{aligned}\n",
    "$$\n",
    "  "
   ]
  },
  {
   "cell_type": "code",
   "execution_count": null,
   "metadata": {
    "kernel": "Python 3"
   },
   "outputs": [],
   "source": [
    "import os\n",
    "try:\n",
    "    os.remove(\"Tables_0/table_1.txt\")\n",
    "except:\n",
    "    pass\n",
    "try:\n",
    "    os.remove(\"Tables_0/table_1.tex\")\n",
    "except:\n",
    "    pass\n",
    "try:\n",
    "    os.remove(\"Tables_0/table_1.pdf\")\n",
    "except:\n",
    "    pass"
   ]
  },
  {
   "cell_type": "code",
   "execution_count": null,
   "metadata": {
    "kernel": "R"
   },
   "outputs": [],
   "source": [
    "t_0 <- felm(log(tso2) ~ working_capital_ci * period * tso2_mandate_c +\n",
    "            log(output +1) + log(employment+1) + log(capital+1)\n",
    "            | fe_c_i + fe_t_i + fe_c_t|0 | geocode4_corr, df_final,\n",
    "            exactDOF = TRUE)\n",
    "t_1 <- felm(log(tso2) ~ asset_tangibility_ci * period * tso2_mandate_c +\n",
    "            log(output +1) + log(employment+1) + log(capital+1)\n",
    "            | fe_c_i + fe_t_i + fe_c_t|0 | geocode4_corr, df_final,\n",
    "            exactDOF = TRUE)\n",
    "\n",
    "t_2 <- felm(log(tso2) ~ current_ratio_ci * period * tso2_mandate_c +\n",
    "            log(output +1) + log(employment+1) + log(capital+1)\n",
    "            | fe_c_i + fe_t_i + fe_c_t|0 | geocode4_corr, df_final,\n",
    "            exactDOF = TRUE)\n",
    "\n",
    "t_3 <- felm(log(tso2) ~ cash_assets_ci * period * tso2_mandate_c +\n",
    "            log(output +1) + log(employment+1) + log(capital+1)\n",
    "            | fe_c_i + fe_t_i + fe_c_t|0 | geocode4_corr, df_final,\n",
    "            exactDOF = TRUE)\n",
    "\n",
    "t_4 <- felm(log(tso2) ~ liabilities_assets_ci * period * tso2_mandate_c +\n",
    "            log(output +1) + log(employment+1) + log(capital+1)\n",
    "            | fe_c_i + fe_t_i + fe_c_t|0 | geocode4_corr, df_final,\n",
    "            exactDOF = TRUE)\n",
    "\n",
    "t_5 <- felm(log(tso2) ~ return_on_asset_ci * period * tso2_mandate_c +\n",
    "            log(output +1) + log(employment+1) + log(capital+1)\n",
    "            | fe_c_i + fe_t_i + fe_c_t|0 | geocode4_corr, df_final,\n",
    "            exactDOF = TRUE)\n",
    "\n",
    "t_6 <- felm(log(tso2) ~ sales_assets_ci * period * tso2_mandate_c +\n",
    "            log(output +1) + log(employment+1) + log(capital+1)\n",
    "            | fe_c_i + fe_t_i + fe_c_t|0 | geocode4_corr, df_final,\n",
    "            exactDOF = TRUE)\n",
    "\n",
    "\n",
    "dep <- \"Dependent variable: SO2 emission\"\n",
    "fe1 <- list(\n",
    "    c(\"City-industry\", \"Yes\", \"Yes\", \"Yes\", \"Yes\", \"Yes\", \"Yes\", \"Yes\"),\n",
    "    \n",
    "    c(\"Time-industry\", \"Yes\", \"Yes\", \"Yes\", \"Yes\", \"Yes\", \"Yes\", \"Yes\"),\n",
    "    \n",
    "    c(\"City-time\", \"Yes\", \"Yes\", \"Yes\", \"Yes\", \"Yes\", \"Yes\", \"Yes\")\n",
    "             )\n",
    "\n",
    "table_1 <- go_latex(list(\n",
    "    t_0,t_1, t_2, t_3, t_4, t_5, t_6\n",
    "),\n",
    "    title=\"Baseline estimate, SO2 emission reduction and industry financial ratio, city-industry level\",\n",
    "    dep_var = dep,\n",
    "    addFE=fe1,\n",
    "    save=TRUE,\n",
    "    note = FALSE,\n",
    "    name=\"Tables_0/table_1.txt\"\n",
    ")"
   ]
  },
  {
   "cell_type": "code",
   "execution_count": null,
   "metadata": {
    "kernel": "Python 3"
   },
   "outputs": [],
   "source": [
    "tbe1  = \"This table estimates eq(3). \" \\\n",
    "\"Heteroskedasticity-robust standard errors \" \\\n",
    "\"clustered at the city level appear inp arentheses. \"\\\n",
    "\"\\sym{*} Significance at the 10\\%, \\sym{**} Significance at the 5\\%, \\sym{***} Significance at the 1\\%.\"\n",
    "\n",
    "#multicolumn ={\n",
    "#    'Eligible': 2,\n",
    "#    'Non-Eligible': 1,\n",
    "#    'All': 1,\n",
    "#    'All benchmark': 1,\n",
    "#}\n",
    "\n",
    "reorder = {\n",
    "    # Old, New\n",
    "    #9:3, ## Working capital\n",
    "    10:4, ## Asset tangibility\n",
    "    11:6, ## current ratio\n",
    "    12:8, ## cash asset\n",
    "    13:10, ## liabilities asset\n",
    "    14:12, ## return on asset\n",
    "    15:14\n",
    "}\n",
    "\n",
    "#multi_lines_dep = '(city/product/trade regime/year)'\n",
    "#new_r = ['& test1', 'test2']\n",
    "lb.beautify(table_number = 1,\n",
    "            reorder_var = reorder,\n",
    "            #multi_lines_dep = multi_lines_dep,\n",
    "            #new_row= new_r,\n",
    "            #multicolumn = multicolumn,\n",
    "            table_nte = tbe1,\n",
    "            jupyter_preview = True,\n",
    "            resolution = 200,\n",
    "           folder = folder)"
   ]
  },
  {
   "cell_type": "markdown",
   "metadata": {
    "kernel": "Python 3"
   },
   "source": [
    "## Table 3: Baseline estimate, SO2 emission reduction and industry financial ratio, city-industry-year level\n",
    "\n",
    "$$\n",
    "\\begin{aligned}\n",
    "\\text{SO2}_{cit}  &= \\alpha \\text{Financial ratio}_cit \\times \\text{Period} \\times \\text{policy mandate}_c  + \\gamma_{ci} + \\gamma_{ti} +\\gamma_{ct}  + \\epsilon_{cit}\n",
    "\\end{aligned}\n",
    "$$\n",
    "  "
   ]
  },
  {
   "cell_type": "code",
   "execution_count": null,
   "metadata": {
    "kernel": "SoS"
   },
   "outputs": [],
   "source": [
    "import os\n",
    "try:\n",
    "    os.remove(\"Tables_0/table_2.txt\")\n",
    "except:\n",
    "    pass\n",
    "try:\n",
    "    os.remove(\"Tables_0/table_2.tex\")\n",
    "except:\n",
    "    pass\n",
    "try:\n",
    "    os.remove(\"Tables_0/table_2.pdf\")\n",
    "except:\n",
    "    pass"
   ]
  },
  {
   "cell_type": "code",
   "execution_count": null,
   "metadata": {
    "kernel": "R"
   },
   "outputs": [],
   "source": [
    "t_0 <- felm(log(tso2) ~ working_capital_cit * period * tso2_mandate_c +\n",
    "            log(output +1) + log(employment+1) + log(capital+1)\n",
    "            | fe_c_i + fe_t_i + fe_c_t|0 | geocode4_corr, df_final,\n",
    "            exactDOF = TRUE)\n",
    "#t_1 <- felm(log(tso2) ~ asset_tangibility_cit * period * tso2_mandate_c +\n",
    "#            output + employment \n",
    "#            | fe_c_i + fe_t_i + fe_c_t|0 | geocode4_corr, df_final,\n",
    "#            exactDOF = TRUE)\n",
    "\n",
    "t_2 <- felm(log(tso2) ~ current_ratio_cit * period * tso2_mandate_c +\n",
    "            log(output +1) + log(employment+1) + log(capital+1)\n",
    "            | fe_c_i + fe_t_i + fe_c_t|0 | geocode4_corr, df_final,\n",
    "            exactDOF = TRUE)\n",
    "\n",
    "t_3 <- felm(log(tso2) ~ cash_assets_cit * period * tso2_mandate_c +\n",
    "            log(output +1) + log(employment+1) + log(capital+1)\n",
    "            | fe_c_i + fe_t_i + fe_c_t|0 | geocode4_corr, df_final,\n",
    "            exactDOF = TRUE)\n",
    "\n",
    "t_4 <- felm(log(tso2) ~ liabilities_assets_cit * period * tso2_mandate_c +\n",
    "            log(output +1) + log(employment+1) + log(capital+1)\n",
    "            | fe_c_i + fe_t_i + fe_c_t|0 | geocode4_corr, df_final,\n",
    "            exactDOF = TRUE)\n",
    "\n",
    "t_5 <- felm(log(tso2) ~ return_on_asset_cit * period * tso2_mandate_c +\n",
    "            log(output +1) + log(employment+1) + log(capital+1)\n",
    "            | fe_c_i + fe_t_i + fe_c_t|0 | geocode4_corr, df_final,\n",
    "            exactDOF = TRUE)\n",
    "\n",
    "t_6 <- felm(log(tso2) ~ sales_assets_cit * period * tso2_mandate_c +\n",
    "            log(output +1) + log(employment+1) + log(capital+1)\n",
    "            | fe_c_i + fe_t_i + fe_c_t|0 | geocode4_corr, df_final,\n",
    "            exactDOF = TRUE)\n",
    "\n",
    "dep <- \"Dependent variable: SO2 emission\"\n",
    "fe1 <- list(\n",
    "    c(\"City-industry\", \"Yes\", \"Yes\", \"Yes\", \"Yes\", \"Yes\", \"Yes\"),\n",
    "    \n",
    "    c(\"Time-industry\", \"Yes\", \"Yes\", \"Yes\", \"Yes\", \"Yes\", \"Yes\"),\n",
    "    \n",
    "    c(\"City-time\", \"Yes\", \"Yes\", \"Yes\", \"Yes\", \"Yes\", \"Yes\")\n",
    "             )\n",
    "\n",
    "table_1 <- go_latex(list(\n",
    "    t_0, t_2, t_3, t_4, t_5, t_6\n",
    "),\n",
    "    title=\"Baseline estimate, SO2 emission reduction and industry financial ratio, city-industry-year level\",\n",
    "    dep_var = dep,\n",
    "    addFE=fe1,\n",
    "    save=TRUE,\n",
    "    note = FALSE,\n",
    "    name=\"Tables_0/table_2.txt\"\n",
    ")"
   ]
  },
  {
   "cell_type": "code",
   "execution_count": null,
   "metadata": {
    "kernel": "Python 3"
   },
   "outputs": [],
   "source": [
    "tbe1  = \"This table estimates eq(3). \" \\\n",
    "\"Heteroskedasticity-robust standard errors \" \\\n",
    "\"clustered at the city level appear inp arentheses. \"\\\n",
    "\"\\sym{*} Significance at the 10\\%, \\sym{**} Significance at the 5\\%, \\sym{***} Significance at the 1\\%.\"\n",
    "\n",
    "#multicolumn ={\n",
    "#    'Eligible': 2,\n",
    "#    'Non-Eligible': 1,\n",
    "#    'All': 1,\n",
    "#    'All benchmark': 1,\n",
    "#}\n",
    "\n",
    "reorder = {\n",
    "    6:0,\n",
    "    7:1,\n",
    "    8:1,\n",
    "    ## Working capital\n",
    "    0:3,\n",
    "    21:5,\n",
    "    ## current ratio\n",
    "    1:8,\n",
    "    22:9,\n",
    "    ## cash asset\n",
    "    2:12,\n",
    "    23:13,\n",
    "    ## liabilitis asset\n",
    "    3:16,\n",
    "    24:17,\n",
    "    ## Retun asset\n",
    "    4:20,\n",
    "    25:21,\n",
    "    ## Sales asset\n",
    "    5:23\n",
    "\n",
    "}\n",
    "\n",
    "#multi_lines_dep = '(city/product/trade regime/year)'\n",
    "#new_r = ['& test1', 'test2']\n",
    "lb.beautify(table_number = 2,\n",
    "            reorder_var = reorder,\n",
    "            #multi_lines_dep = multi_lines_dep,\n",
    "            #new_row= new_r,\n",
    "            #multicolumn = multicolumn,\n",
    "            table_nte = tbe1,\n",
    "            jupyter_preview = True,\n",
    "            resolution = 200, \n",
    "           folder = folder)"
   ]
  },
  {
   "cell_type": "markdown",
   "metadata": {
    "kernel": "SoS",
    "nteract": {
     "transient": {
      "deleting": false
     }
    }
   },
   "source": [
    "# Generate reports"
   ]
  },
  {
   "cell_type": "code",
   "execution_count": null,
   "metadata": {
    "kernel": "Python 3",
    "nteract": {
     "transient": {
      "deleting": false
     }
    },
    "outputExpanded": false
   },
   "outputs": [],
   "source": [
    "import os, time, shutil, urllib, ipykernel, json\n",
    "from pathlib import Path\n",
    "from notebook import notebookapp"
   ]
  },
  {
   "cell_type": "code",
   "execution_count": null,
   "metadata": {
    "kernel": "Python 3",
    "nteract": {
     "transient": {
      "deleting": false
     }
    },
    "outputExpanded": false
   },
   "outputs": [],
   "source": [
    "def create_report(extension = \"html\", keep_code = False):\n",
    "    \"\"\"\n",
    "    Create a report from the current notebook and save it in the \n",
    "    Report folder (Parent-> child directory)\n",
    "    \n",
    "    1. Exctract the current notbook name\n",
    "    2. Convert the Notebook \n",
    "    3. Move the newly created report\n",
    "    \n",
    "    Args:\n",
    "    extension: string. Can be \"html\", \"pdf\", \"md\"\n",
    "    \n",
    "    \n",
    "    \"\"\"\n",
    "    \n",
    "    ### Get notebook name\n",
    "    connection_file = os.path.basename(ipykernel.get_connection_file())\n",
    "    kernel_id = connection_file.split('-', 1)[0].split('.')[0]\n",
    "\n",
    "    for srv in notebookapp.list_running_servers():\n",
    "        try:\n",
    "            if srv['token']=='' and not srv['password']:  \n",
    "                req = urllib.request.urlopen(srv['url']+'api/sessions')\n",
    "            else:\n",
    "                req = urllib.request.urlopen(srv['url']+ \\\n",
    "                                             'api/sessions?token=' + \\\n",
    "                                             srv['token'])\n",
    "            sessions = json.load(req)\n",
    "            notebookname = sessions[0]['name']\n",
    "        except:\n",
    "            pass  \n",
    "    \n",
    "    sep = '.'\n",
    "    path = os.getcwd()\n",
    "    #parent_path = str(Path(path).parent)\n",
    "    \n",
    "    ### Path report\n",
    "    #path_report = \"{}/Reports\".format(parent_path)\n",
    "    #path_report = \"{}/Reports\".format(path)\n",
    "    \n",
    "    ### Path destination\n",
    "    name_no_extension = notebookname.split(sep, 1)[0]\n",
    "    source_to_move = name_no_extension +'.{}'.format(extension)\n",
    "    dest = os.path.join(path,'Reports', source_to_move)\n",
    "    \n",
    "    ### Generate notebook\n",
    "    if keep_code:\n",
    "        os.system('jupyter nbconvert --to {} {}'.format(\n",
    "    extension,notebookname))\n",
    "    else:\n",
    "        os.system('jupyter nbconvert --no-input --to {} {}'.format(\n",
    "    extension,notebookname))\n",
    "    \n",
    "    ### Move notebook to report folder\n",
    "    #time.sleep(5)\n",
    "    shutil.move(source_to_move, dest)\n",
    "    print(\"Report Available at this adress:\\n {}\".format(dest))"
   ]
  },
  {
   "cell_type": "code",
   "execution_count": null,
   "metadata": {
    "kernel": "Python 3",
    "nteract": {
     "transient": {
      "deleting": false
     }
    },
    "outputExpanded": false
   },
   "outputs": [],
   "source": [
    "create_report(extension = \"html\", keep_code = True)"
   ]
  }
 ],
 "metadata": {
  "jupytext": {
   "formats": "ipynb,md"
  },
  "kernel_info": {
   "name": "python3"
  },
  "kernelspec": {
   "display_name": "SoS",
   "language": "sos",
   "name": "sos"
  },
  "language_info": {
   "codemirror_mode": "sos",
   "file_extension": ".sos",
   "mimetype": "text/x-sos",
   "name": "sos",
   "nbconvert_exporter": "sos_notebook.converter.SoS_Exporter",
   "pygments_lexer": "sos"
  },
  "nteract": {
   "version": "0.23.1"
  },
  "sos": {
   "kernels": [
    [
     "Python 3",
     "python3",
     "python3",
     "",
     {
      "name": "ipython",
      "version": 3
     }
    ],
    [
     "R",
     "ir",
     "R",
     "#DCDCDA",
     "r"
    ],
    [
     "SoS",
     "sos",
     "",
     "",
     "sos"
    ]
   ],
   "version": "0.21.13"
  },
  "toc": {
   "base_numbering": 1,
   "nav_menu": {},
   "number_sections": true,
   "sideBar": true,
   "skip_h1_title": false,
   "title_cell": "Table of Contents",
   "title_sidebar": "Contents",
   "toc_cell": false,
   "toc_position": {},
   "toc_section_display": true,
   "toc_window_display": false
  }
 },
 "nbformat": 4,
 "nbformat_minor": 4
}
