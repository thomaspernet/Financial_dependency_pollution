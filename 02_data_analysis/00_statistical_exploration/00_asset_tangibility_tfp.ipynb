{
 "cells": [
  {
   "cell_type": "markdown",
   "metadata": {
    "kernel": "SoS"
   },
   "source": [
    "# US Name\n",
    "\n",
    "Stylised fact asset tangibility \n",
    "\n",
    "# Business needs \n",
    "\n",
    "Find stylised fact investment biased toward asset tangibility\n",
    "\n",
    "## Description\n",
    "\n",
    "### Objective \n",
    "\n",
    "\n",
    "Stylised fact asset tangibility:Find stylised fact investment biased toward asset tangibility\n",
    "\n",
    "#### Scatterplot\n",
    "\n",
    "1. Compute a scatterplot aggregated at the city-industy-year \n",
    "  1. x-axis: \n",
    "    1. Asset tangible\n",
    "    2. TFP\n",
    "  2. y-axis: SO2 emission\n",
    "2. Compute a scatterplot aggregated at the city-industy-year \n",
    "  1. x-axis: \n",
    "    1. Asset tangible\n",
    "    2. TFP\n",
    "  2. y-axis: SO2 emission\n",
    "  3. Color by city SOE vs Private\n",
    "  4. Color by industry LARGE vs SMALL\n",
    "\n",
    "#### Table\n",
    "\n",
    "# Metadata\n",
    "\n",
    "- Key: oql78mzsh26385x\n",
    "- Epic: Statistical analysis\n",
    "- US: Asset tangibility and tfp\n",
    "- Task tag: #data-analysis, #tfp, #asset-tangibility\n",
    "- Analytics reports: \n",
    "\n",
    "# Input Cloud Storage\n",
    "\n",
    "## Table/file\n",
    "\n",
    "**Name** \n",
    "\n",
    "- https://github.com/thomaspernet/Financial_dependency_pollution/blob/master/01_data_preprocessing/02_transform_tables/09_asif_tfp_firm_baseline.md\n",
    "\n",
    "**Github**\n",
    "\n",
    "- DATA/ECON/FIRM_SURVEY/ASIF_CHINA/TRANSFORMED/TFP/CREDIT_CONSTRAINT\n",
    "\n"
   ]
  },
  {
   "cell_type": "markdown",
   "metadata": {
    "kernel": "SoS"
   },
   "source": [
    "# Connexion server"
   ]
  },
  {
   "cell_type": "code",
   "execution_count": null,
   "metadata": {
    "kernel": "SoS"
   },
   "outputs": [],
   "source": [
    "from awsPy.aws_authorization import aws_connector\n",
    "from awsPy.aws_s3 import service_s3\n",
    "from awsPy.aws_glue import service_glue\n",
    "from pathlib import Path\n",
    "import pandas as pd\n",
    "import numpy as np\n",
    "import seaborn as sns\n",
    "import matplotlib.pyplot as plt\n",
    "import os, shutil, json\n",
    "\n",
    "import tex2pix\n",
    "from PyPDF2 import PdfFileMerger\n",
    "from wand.image import Image as WImage\n",
    "\n",
    "path = os.getcwd()\n",
    "parent_path = str(Path(path).parent.parent)\n",
    "\n",
    "\n",
    "name_credential = 'financial_dep_SO2_accessKeys.csv'\n",
    "region = 'eu-west-3'\n",
    "bucket = 'datalake-datascience'\n",
    "path_cred = \"{0}/creds/{1}\".format(parent_path, name_credential)"
   ]
  },
  {
   "cell_type": "code",
   "execution_count": null,
   "metadata": {
    "kernel": "SoS"
   },
   "outputs": [],
   "source": [
    "con = aws_connector.aws_instantiate(credential = path_cred,\n",
    "                                       region = region)\n",
    "client= con.client_boto()\n",
    "s3 = service_s3.connect_S3(client = client,\n",
    "                      bucket = bucket, verbose = False)\n",
    "glue = service_glue.connect_glue(client = client) "
   ]
  },
  {
   "cell_type": "code",
   "execution_count": null,
   "metadata": {
    "kernel": "SoS"
   },
   "outputs": [],
   "source": [
    "pandas_setting = True\n",
    "if pandas_setting:\n",
    "    #cm = sns.light_palette(\"green\", as_cmap=True)\n",
    "    pd.set_option('display.max_columns', None)\n",
    "    pd.set_option('display.max_colwidth', None)"
   ]
  },
  {
   "cell_type": "code",
   "execution_count": null,
   "metadata": {
    "kernel": "SoS",
    "nteract": {
     "transient": {
      "deleting": false
     }
    }
   },
   "outputs": [],
   "source": [
    "os.environ['KMP_DUPLICATE_LIB_OK']='True'\n"
   ]
  },
  {
   "cell_type": "markdown",
   "metadata": {
    "kernel": "SoS"
   },
   "source": [
    "## Scatterplot\n",
    "\n",
    "1. Compute a scatterplot aggregated at the city-industy-year \n",
    "  1. x-axis: \n",
    "    1. Asset tangible\n",
    "    2. TFP\n",
    "  2. y-axis: SO2 emission\n",
    "2. Compute a scatterplot aggregated at the city-industy-year \n",
    "  1. x-axis: \n",
    "    1. Asset tangible\n",
    "    2. TFP\n",
    "  2. y-axis: SO2 emission\n",
    "  3. Color by city SOE vs Private\n",
    "  4. Color by industry LARGE vs SMALL"
   ]
  },
  {
   "cell_type": "markdown",
   "metadata": {
    "kernel": "SoS"
   },
   "source": [
    "#### Raw scatterplot\n",
    "\n",
    "1. Compute the average Asset tangible and TFP using firm-level data\n",
    "2. Merge with SO2 emission on city-industry-year\n",
    "3. Plot results"
   ]
  },
  {
   "cell_type": "code",
   "execution_count": null,
   "metadata": {
    "kernel": "SoS"
   },
   "outputs": [],
   "source": [
    "db = 'fin_dep_pollution_baseline_city'"
   ]
  },
  {
   "cell_type": "code",
   "execution_count": null,
   "metadata": {
    "kernel": "SoS"
   },
   "outputs": [],
   "source": [
    "query = \"\"\"\n",
    "SELECT \n",
    "  fin_dep_pollution_baseline_city.year, \n",
    "  fin_dep_pollution_baseline_city.geocode4_corr, \n",
    "  fin_dep_pollution_baseline_city.ind2, \n",
    "  tso2, \n",
    "  avg_tangible, \n",
    "  median_tangible, \n",
    "  avg_tfp, \n",
    "  median_tfp,\n",
    "  avg_rd,\n",
    "  median_rd,\n",
    "  sales_tot_asset,\n",
    "  total_asset,\n",
    "  employment,\n",
    "  capital,\n",
    "  current_asset,\n",
    "  current_ratio,\n",
    "  liabilities_tot_asset,\n",
    "  asset_tangibility_tot_asset,\n",
    "  cashflow_to_tangible, \n",
    "  dominated_output_soe_c, \n",
    "  element_at(dominated_output_i, .5) as dominated_output_i,\n",
    "  lower_location,\n",
    "  larger_location,\n",
    "  tcz,\n",
    "  spz\n",
    "  \n",
    "FROM \n",
    "  environment.fin_dep_pollution_baseline_city \n",
    "  INNER JOIN (\n",
    "    SELECT \n",
    "      year, \n",
    "      indu_2, \n",
    "      geocode4_corr, \n",
    "      AVG(asset_tangibility_tot_asset) AS avg_tangible, \n",
    "      approx_percentile(asset_tangibility_tot_asset,.5) AS median_tangible, \n",
    "      AVG(tfp_op) AS avg_tfp, \n",
    "      approx_percentile(tfp_op,.5) AS median_tfp,\n",
    "      AVG(rd_tot_asset) AS avg_rd, \n",
    "      approx_percentile(rd_tot_asset,.5) AS median_rd\n",
    "    FROM \n",
    "      firms_survey.asif_tfp_credit_constraint \n",
    "    GROUP BY \n",
    "      year, \n",
    "      indu_2, \n",
    "      geocode4_corr\n",
    "  ) AS agg ON fin_dep_pollution_baseline_city.year = agg.year \n",
    "  AND fin_dep_pollution_baseline_city.geocode4_corr = agg.geocode4_corr \n",
    "  AND fin_dep_pollution_baseline_city.ind2 = agg.indu_2 \n",
    "WHERE \n",
    "  fin_dep_pollution_baseline_city.year in (\n",
    "    '2001', '2002', '2003', '2004', '2005', \n",
    "    '2006', '2007'\n",
    "  )\n",
    "\"\"\"\n",
    "df = (\n",
    "    s3.run_query(\n",
    "    query=query,\n",
    "    database=db,\n",
    "    s3_output=\"SQL_OUTPUT_ATHENA\",\n",
    "    filename=\"scatter_plot_1\",  # Add filename to print dataframe\n",
    "    # destination_key=\"SQL_OUTPUT_ATHENA/CSV\",  # Use it temporarily\n",
    "    # dtype=dtypes,\n",
    "    )\n",
    "    .assign(\n",
    "    log_tso2= lambda x: np.log(x['tso2']),\n",
    "    log_avg_tangible=lambda x: np.log(x['avg_tangible']),\n",
    "    log_median_tangible=lambda x: np.log(x['median_tangible']),\n",
    "    log_avg_tfp=lambda x: np.log(x['avg_tfp']),\n",
    "    log_median_tfp=lambda x: np.log(x['median_tfp'])\n",
    "    )\n",
    ")\n",
    "df.head()"
   ]
  },
  {
   "cell_type": "code",
   "execution_count": null,
   "metadata": {
    "kernel": "SoS"
   },
   "outputs": [],
   "source": [
    "df.shape"
   ]
  },
  {
   "cell_type": "markdown",
   "metadata": {
    "kernel": "SoS"
   },
   "source": [
    "## Asset tangible"
   ]
  },
  {
   "cell_type": "code",
   "execution_count": null,
   "metadata": {
    "kernel": "SoS"
   },
   "outputs": [],
   "source": [
    "sns.set_style(\"white\")\n",
    "#beingsaved.set_rasterized(True)\n",
    "sns.lmplot(x=\"log_avg_tangible\",\n",
    "           y=\"log_tso2\",\n",
    "           data=df.loc[lambda x: x['log_avg_tangible'] > -6])\n",
    "#plt.title('Relationship between Financial dependencies and variation of SO2 between 2005 and 2007, in log')\n",
    "# Set x-axis label\n",
    "plt.xlabel('Asset tangibility')\n",
    "# Set y-axis label\n",
    "plt.ylabel('SO2 emission')\n",
    "plt.title('Relationship between Asset tangibility and SO2 emission')\n",
    "#plt.savefig(\"fig_2.png\",\n",
    "#            bbox_inches='tight',\n",
    "#            dpi=600)"
   ]
  },
  {
   "cell_type": "code",
   "execution_count": null,
   "metadata": {
    "kernel": "SoS"
   },
   "outputs": [],
   "source": [
    "sns.set_style(\"white\")\n",
    "#beingsaved.set_rasterized(True)\n",
    "sns.lmplot(x=\"log_avg_tangible\",\n",
    "           y=\"log_tso2\",\n",
    "           hue=\"dominated_output_soe_c\",\n",
    "           data=df.loc[lambda x: x['log_avg_tangible'] > -6]\n",
    "          )\n",
    "#plt.title('Relationship between Financial dependencies and variation of SO2 between 2005 and 2007, in log')\n",
    "# Set x-axis label\n",
    "plt.xlabel('Asset tangibility')\n",
    "# Set y-axis label\n",
    "plt.ylabel('SO2 emission')\n",
    "plt.title('Relationship between Asset tangibility and SO2 emission, by city ownership')\n",
    "#plt.savefig(\"fig_2.png\",\n",
    "#            bbox_inches='tight',\n",
    "#            dpi=600)"
   ]
  },
  {
   "cell_type": "code",
   "execution_count": null,
   "metadata": {
    "kernel": "SoS"
   },
   "outputs": [],
   "source": [
    "sns.set_style(\"white\")\n",
    "#beingsaved.set_rasterized(True)\n",
    "sns.lmplot(x=\"log_avg_tangible\",\n",
    "           y=\"log_tso2\",\n",
    "           hue=\"dominated_output_i\",\n",
    "           data=df.loc[lambda x: x['log_avg_tangible'] > -6]\n",
    "          )\n",
    "#plt.title('Relationship between Financial dependencies and variation of SO2 between 2005 and 2007, in log')\n",
    "# Set x-axis label\n",
    "plt.xlabel('Asset tangibility')\n",
    "# Set y-axis label\n",
    "plt.ylabel('SO2 emission')\n",
    "plt.title('Relationship between Asset tangibility and SO2 emission, by industry size')\n",
    "#plt.savefig(\"fig_2.png\",\n",
    "#            bbox_inches='tight',\n",
    "#            dpi=600)"
   ]
  },
  {
   "cell_type": "markdown",
   "metadata": {
    "kernel": "SoS"
   },
   "source": [
    "#### RD"
   ]
  },
  {
   "cell_type": "code",
   "execution_count": null,
   "metadata": {
    "kernel": "SoS"
   },
   "outputs": [],
   "source": [
    "sns.set_style(\"white\")\n",
    "#beingsaved.set_rasterized(True)\n",
    "sns.lmplot(x=\"avg_rd\",\n",
    "           y=\"log_tso2\",\n",
    "           data=df.loc[lambda x: x['year'] > 2004])\n",
    "#plt.title('Relationship between Financial dependencies and variation of SO2 between 2005 and 2007, in log')\n",
    "# Set x-axis label\n",
    "plt.xlabel('R&D')\n",
    "# Set y-axis label\n",
    "plt.ylabel('SO2 emission')\n",
    "plt.title('Relationship between RD and SO2 emission')\n",
    "#plt.savefig(\"fig_2.png\",\n",
    "#            bbox_inches='tight',\n",
    "#            dpi=600)"
   ]
  },
  {
   "cell_type": "code",
   "execution_count": null,
   "metadata": {
    "kernel": "SoS"
   },
   "outputs": [],
   "source": [
    "sns.set_style(\"white\")\n",
    "#beingsaved.set_rasterized(True)\n",
    "sns.lmplot(x=\"avg_rd\",\n",
    "           y=\"log_tso2\",\n",
    "           hue=\"dominated_output_soe_c\",\n",
    "           data=df.loc[lambda x: x['year'] > 2004])\n",
    "#plt.title('Relationship between Financial dependencies and variation of SO2 between 2005 and 2007, in log')\n",
    "# Set x-axis label\n",
    "plt.xlabel('R&D')\n",
    "# Set y-axis label\n",
    "plt.ylabel('SO2 emission')\n",
    "plt.title('Relationship between RD and SO2 emission, by city ownership')\n",
    "#plt.savefig(\"fig_2.png\",\n",
    "#            bbox_inches='tight',\n",
    "#            dpi=600)"
   ]
  },
  {
   "cell_type": "code",
   "execution_count": null,
   "metadata": {
    "kernel": "SoS"
   },
   "outputs": [],
   "source": [
    "sns.set_style(\"white\")\n",
    "#beingsaved.set_rasterized(True)\n",
    "sns.lmplot(x=\"avg_rd\",\n",
    "           y=\"log_tso2\",\n",
    "           hue=\"dominated_output_i\",\n",
    "           data=df.loc[lambda x: x['year'] > 2004])\n",
    "#plt.title('Relationship between Financial dependencies and variation of SO2 between 2005 and 2007, in log')\n",
    "# Set x-axis label\n",
    "plt.xlabel('R&D')\n",
    "# Set y-axis label\n",
    "plt.ylabel('SO2 emission')\n",
    "plt.title('Relationship between RD and SO2 emission, by industry size')\n",
    "#plt.savefig(\"fig_2.png\",\n",
    "#            bbox_inches='tight',\n",
    "#            dpi=600)"
   ]
  },
  {
   "cell_type": "markdown",
   "metadata": {
    "kernel": "SoS"
   },
   "source": [
    "#### TFP "
   ]
  },
  {
   "cell_type": "code",
   "execution_count": null,
   "metadata": {
    "kernel": "SoS"
   },
   "outputs": [],
   "source": [
    "sns.set_style(\"white\")\n",
    "#beingsaved.set_rasterized(True)\n",
    "sns.lmplot(x=\"log_avg_tfp\",\n",
    "           y=\"log_tso2\",\n",
    "           data=df#.loc[lambda x: x['log_avg_tangible'] > -6]\n",
    "          )\n",
    "#plt.title('Relationship between Financial dependencies and variation of SO2 between 2005 and 2007, in log')\n",
    "# Set x-axis label\n",
    "plt.xlabel('TFP')\n",
    "# Set y-axis label\n",
    "plt.ylabel('SO2 emission')\n",
    "plt.title('Relationship between TFP and SO2 emission')\n",
    "#plt.savefig(\"fig_2.png\",\n",
    "#            bbox_inches='tight',\n",
    "#            dpi=600)"
   ]
  },
  {
   "cell_type": "code",
   "execution_count": null,
   "metadata": {
    "kernel": "SoS"
   },
   "outputs": [],
   "source": [
    "sns.set_style(\"white\")\n",
    "#beingsaved.set_rasterized(True)\n",
    "sns.lmplot(x=\"log_avg_tfp\",\n",
    "           y=\"log_tso2\",\n",
    "           hue=\"dominated_output_soe_c\",\n",
    "           data=df#.loc[lambda x: x['log_avg_tangible'] > -6]\n",
    "          )\n",
    "#plt.title('Relationship between Financial dependencies and variation of SO2 between 2005 and 2007, in log')\n",
    "# Set x-axis label\n",
    "plt.xlabel('TFP')\n",
    "# Set y-axis label\n",
    "plt.ylabel('SO2 emission')\n",
    "plt.title('Relationship between TFP and SO2 emission, by city ownership')\n",
    "#plt.savefig(\"fig_2.png\",\n",
    "#            bbox_inches='tight',\n",
    "#            dpi=600)"
   ]
  },
  {
   "cell_type": "code",
   "execution_count": null,
   "metadata": {
    "kernel": "SoS"
   },
   "outputs": [],
   "source": [
    "sns.set_style(\"white\")\n",
    "#beingsaved.set_rasterized(True)\n",
    "sns.lmplot(x=\"log_avg_tfp\",\n",
    "           y=\"log_tso2\",\n",
    "           hue=\"dominated_output_i\",\n",
    "           data=df#.loc[lambda x: x['log_avg_tangible'] > -6]\n",
    "          )\n",
    "#plt.title('Relationship between Financial dependencies and variation of SO2 between 2005 and 2007, in log')\n",
    "# Set x-axis label\n",
    "plt.xlabel('TFP')\n",
    "# Set y-axis label\n",
    "plt.ylabel('SO2 emission')\n",
    "plt.title('Relationship between TFP and SO2 emission, by industry size')\n",
    "#plt.savefig(\"fig_2.png\",\n",
    "#            bbox_inches='tight',\n",
    "#            dpi=600)"
   ]
  },
  {
   "cell_type": "markdown",
   "metadata": {
    "kernel": "SoS"
   },
   "source": [
    "## Table"
   ]
  },
  {
   "cell_type": "code",
   "execution_count": null,
   "metadata": {
    "kernel": "SoS"
   },
   "outputs": [],
   "source": [
    "df_table = (\n",
    "    pd.concat(\n",
    "    [\n",
    "        pd.concat(\n",
    "            [\n",
    "                (\n",
    "                    df.assign(\n",
    "                        tso2=lambda x: x[\"tso2\"] / 1000000,\n",
    "                        sales=lambda x: x[\"sales_tot_asset\"] / 1000000,\n",
    "                        total_asset=lambda x: x[\"total_asset\"] / 1000000,\n",
    "                    )\n",
    "                    .agg(\n",
    "                        {\n",
    "                            \"tso2\": [\"mean\", \"std\"],\n",
    "                            \"asset_tangibility_tot_asset\": [\"mean\", \"std\"],\n",
    "                            \"sales_tot_asset\": [\"mean\", \"std\"],\n",
    "                            \"total_asset\": [\"mean\", \"std\"],\n",
    "                            \"cashflow_to_tangible\": [\"mean\", \"std\"],\n",
    "                            \"current_ratio\": [\"mean\", \"std\"],\n",
    "                            \"liabilities_tot_asset\": [\"mean\", \"std\"],\n",
    "                            \"avg_tfp\": [\"mean\", \"std\"],\n",
    "                            \"avg_rd\": [\"mean\", \"std\"],\n",
    "                        }\n",
    "                    )\n",
    "                    .T.assign(\n",
    "                        full_sample=lambda x: np.round(x[\"mean\"], 2).astype(str)\n",
    "                        + \" (\"\n",
    "                        + np.round(x[\"std\"], 2).astype(str)\n",
    "                        + \")\"\n",
    "                    )\n",
    "                    .reindex(columns=[\"full_sample\"])\n",
    "                    .rename(columns={\"full_sample\": \"\"})\n",
    "                )\n",
    "            ],\n",
    "            axis=1,\n",
    "            keys=[\"Full Sample\"],\n",
    "        ),\n",
    "        pd.concat(\n",
    "            [\n",
    "                (\n",
    "                    df.assign(\n",
    "                        tso2=lambda x: x[\"tso2\"] / 1000000,\n",
    "                        sales=lambda x: x[\"sales_tot_asset\"] / 1000000,\n",
    "                        total_asset=lambda x: x[\"total_asset\"] / 1000000,\n",
    "                    )\n",
    "                    .groupby([\"dominated_output_i\"])\n",
    "                    .agg(\n",
    "                        {\n",
    "                            \"tso2\": [\"mean\", \"std\"],\n",
    "                            \"asset_tangibility_tot_asset\": [\"mean\", \"std\"],\n",
    "                            \"sales_tot_asset\": [\"mean\", \"std\"],\n",
    "                            \"total_asset\": [\"mean\", \"std\"],\n",
    "                            \"cashflow_to_tangible\": [\"mean\", \"std\"],\n",
    "                            \"current_ratio\": [\"mean\", \"std\"],\n",
    "                            \"liabilities_tot_asset\": [\"mean\", \"std\"],\n",
    "                            \"avg_tfp\": [\"mean\", \"std\"],\n",
    "                            \"avg_rd\": [\"mean\", \"std\"],\n",
    "                        }\n",
    "                    )\n",
    "                    .T.unstack(-1)\n",
    "                    .assign(\n",
    "                        industry_false=lambda x: np.round(x[(False, \"mean\")], 2).astype(\n",
    "                            str\n",
    "                        )\n",
    "                        + \" (\"\n",
    "                        + np.round(x[(False, \"std\")], 2).astype(str)\n",
    "                        + \")\",\n",
    "                        industry_true=lambda x: np.round(x[(True, \"mean\")], 2).astype(\n",
    "                            str\n",
    "                        )\n",
    "                        + \" (\"\n",
    "                        + np.round(x[(True, \"std\")], 2).astype(str)\n",
    "                        + \")\",\n",
    "                    )\n",
    "                    .droplevel(axis=1, level=1)\n",
    "                    .iloc[:, 4:]\n",
    "                    # .reindex(columns = ['industry_false', 'industry_true'])\n",
    "                ).rename(columns={\"industry_false\": \"SMALL\", \"industry_true\": \"LARGE\"})\n",
    "            ],\n",
    "            axis=1,\n",
    "            keys=[\"Industry\"],\n",
    "        ),\n",
    "        pd.concat(\n",
    "            [\n",
    "                pd.concat(\n",
    "                    [\n",
    "                        (\n",
    "                            df.assign(\n",
    "                                tso2=lambda x: x[\"tso2\"] / 1000000,\n",
    "                                sales=lambda x: x[\"sales_tot_asset\"] / 1000000,\n",
    "                                total_asset=lambda x: x[\"total_asset\"] / 1000000,\n",
    "                            )\n",
    "                            .groupby([\"dominated_output_soe_c\"])\n",
    "                            .agg(\n",
    "                                {\n",
    "                                    \"tso2\": [\"mean\", \"std\"],\n",
    "                                    \"asset_tangibility_tot_asset\": [\"mean\", \"std\"],\n",
    "                                    \"sales_tot_asset\": [\"mean\", \"std\"],\n",
    "                                    \"total_asset\": [\"mean\", \"std\"],\n",
    "                                    \"cashflow_to_tangible\": [\"mean\", \"std\"],\n",
    "                                    \"current_ratio\": [\"mean\", \"std\"],\n",
    "                                    \"liabilities_tot_asset\": [\"mean\", \"std\"],\n",
    "                                    \"avg_tfp\": [\"mean\", \"std\"],\n",
    "                                    \"avg_rd\": [\"mean\", \"std\"],\n",
    "                                }\n",
    "                            )\n",
    "                            .T.unstack(-1)\n",
    "                            .assign(\n",
    "                                soe_false=lambda x: np.round(\n",
    "                                    x[(False, \"mean\")], 2\n",
    "                                ).astype(str)\n",
    "                                + \" (\"\n",
    "                                + np.round(x[(False, \"std\")], 2).astype(str)\n",
    "                                + \")\",\n",
    "                                soe_true=lambda x: np.round(\n",
    "                                    x[(True, \"mean\")], 2\n",
    "                                ).astype(str)\n",
    "                                + \" (\"\n",
    "                                + np.round(x[(True, \"std\")], 2).astype(str)\n",
    "                                + \")\",\n",
    "                            )\n",
    "                            .droplevel(axis=1, level=1)\n",
    "                            .iloc[:, 4:]\n",
    "                            .rename(columns={\"soe_false\": \"PRIVATE\", \"soe_true\": \"SOE\"})\n",
    "                        ),\n",
    "                        (\n",
    "                            df.assign(\n",
    "                                tso2=lambda x: x[\"tso2\"] / 1000000,\n",
    "                                sales=lambda x: x[\"sales_tot_asset\"] / 1000000,\n",
    "                                total_asset=lambda x: x[\"total_asset\"] / 1000000,\n",
    "                            )\n",
    "                            .groupby([\"tcz\"])\n",
    "                            .agg(\n",
    "                                {\n",
    "                                    \"tso2\": [\"mean\", \"std\"],\n",
    "                                    \"asset_tangibility_tot_asset\": [\"mean\", \"std\"],\n",
    "                                    \"sales_tot_asset\": [\"mean\", \"std\"],\n",
    "                                    \"total_asset\": [\"mean\", \"std\"],\n",
    "                                    \"cashflow_to_tangible\": [\"mean\", \"std\"],\n",
    "                                    \"current_ratio\": [\"mean\", \"std\"],\n",
    "                                    \"liabilities_tot_asset\": [\"mean\", \"std\"],\n",
    "                                    \"avg_tfp\": [\"mean\", \"std\"],\n",
    "                                    \"avg_rd\": [\"mean\", \"std\"],\n",
    "                                }\n",
    "                            )\n",
    "                            .T.unstack(-1)\n",
    "                            .assign(\n",
    "                                tcz_false=lambda x: np.round(x[(0, \"mean\")], 2).astype(\n",
    "                                    str\n",
    "                                )\n",
    "                                + \" (\"\n",
    "                                + np.round(x[(0, \"std\")], 2).astype(str)\n",
    "                                + \")\",\n",
    "                                tcz_true=lambda x: np.round(x[(1, \"mean\")], 2).astype(\n",
    "                                    str\n",
    "                                )\n",
    "                                + \" (\"\n",
    "                                + np.round(x[(1, \"std\")], 2).astype(str)\n",
    "                                + \")\",\n",
    "                            )\n",
    "                            .droplevel(axis=1, level=1)\n",
    "                            .iloc[:, 4:]\n",
    "                            .rename(columns={\"tcz_false\": \"NO TCZ\", \"tcz_true\": \"TCZ\"})\n",
    "                        ),\n",
    "                    ],\n",
    "                    axis=1,\n",
    "                )\n",
    "            ],\n",
    "            axis=1,\n",
    "            keys=[\"City\"],\n",
    "        ),\n",
    "    ],\n",
    "    axis=1,\n",
    ")\n",
    ".rename(index={\n",
    "    \"tso2\": \"SO2\",\n",
    "    \"asset_tangibility_tot_asset\": \"asset tangibility\",\n",
    "    \"sales_tot_asset\": \"sales to asset\",\n",
    "    \"total_asset\": \"total asset\",\n",
    "    \"cashflow_to_tangible\": \"cashflow\",\n",
    "    \"current_ratio\": \"current ratio\",\n",
    "    \"liabilities_tot_asset\": \"liabilities to asset\",\n",
    "    \"avg_tfp\": \"TFP\",\n",
    "    \"avg_rd\": \"RD\",\n",
    "})\n",
    ")\n",
    "df_latex = df_table.to_latex()\n",
    "#df_table"
   ]
  },
  {
   "cell_type": "code",
   "execution_count": null,
   "metadata": {
    "kernel": "SoS"
   },
   "outputs": [],
   "source": [
    "folder = 'Tables'\n",
    "table_number = 1"
   ]
  },
  {
   "cell_type": "code",
   "execution_count": null,
   "metadata": {
    "kernel": "SoS"
   },
   "outputs": [],
   "source": [
    "with open('{}/table_{}.tex'.format(folder,table_number), 'w') as fout:\n",
    "    for i in range(len( df_latex)):\n",
    "        if i ==0:\n",
    "            header= \"\\documentclass[preview]{standalone} \\n\\\\usepackage[utf8]{inputenc}\\n\" \\\n",
    "            \"\\\\usepackage{booktabs,caption,threeparttable, siunitx, adjustbox}\\n\\n\" \\\n",
    "            \"\\\\begin{document}\"\n",
    "            top =  '\\n\\\\begin{adjustbox}{width=\\\\textwidth, totalheight=\\\\textheight-2\\\\baselineskip,keepaspectratio}\\n'\n",
    "            fout.write(header)\n",
    "            fout.write(top)\n",
    "        fout.write( df_latex[i])\n",
    "    \n",
    "    bottom =  '\\n\\\\end{adjustbox}\\n'\n",
    "    footer = \"\\n\\n\\\\end{document}\"\n",
    "    fout.write(bottom)\n",
    "    fout.write(footer)\n",
    " \n",
    "f = open('{}/table_{}.tex'.format(folder,table_number))\n",
    "r = tex2pix.Renderer(f, runbibtex=False)\n",
    "r.mkpdf('{}/table_{}.pdf'.format(folder,table_number))\n",
    "img = WImage(filename='{}/table_{}.pdf'.format(folder,table_number),\n",
    "resolution = 200)\n",
    "display(img)"
   ]
  },
  {
   "cell_type": "markdown",
   "metadata": {
    "kernel": "SoS",
    "nteract": {
     "transient": {
      "deleting": false
     }
    }
   },
   "source": [
    "# Generate reports"
   ]
  },
  {
   "cell_type": "code",
   "execution_count": null,
   "metadata": {
    "kernel": "SoS",
    "nteract": {
     "transient": {
      "deleting": false
     }
    },
    "outputExpanded": false
   },
   "outputs": [],
   "source": [
    "import os, time, shutil, urllib, ipykernel, json\n",
    "from pathlib import Path\n",
    "from notebook import notebookapp"
   ]
  },
  {
   "cell_type": "code",
   "execution_count": null,
   "metadata": {
    "kernel": "SoS",
    "nteract": {
     "transient": {
      "deleting": false
     }
    },
    "outputExpanded": false
   },
   "outputs": [],
   "source": [
    "def create_report(extension = \"html\", keep_code = False, notebookname = None):\n",
    "    \"\"\"\n",
    "    Create a report from the current notebook and save it in the \n",
    "    Report folder (Parent-> child directory)\n",
    "    \n",
    "    1. Exctract the current notbook name\n",
    "    2. Convert the Notebook \n",
    "    3. Move the newly created report\n",
    "    \n",
    "    Args:\n",
    "    extension: string. Can be \"html\", \"pdf\", \"md\"\n",
    "    \n",
    "    \n",
    "    \"\"\"\n",
    "    \n",
    "    ### Get notebook name\n",
    "    connection_file = os.path.basename(ipykernel.get_connection_file())\n",
    "    kernel_id = connection_file.split('-', 1)[0].split('.')[0]\n",
    "\n",
    "    for srv in notebookapp.list_running_servers():\n",
    "        try:\n",
    "            if srv['token']=='' and not srv['password']:  \n",
    "                req = urllib.request.urlopen(srv['url']+'api/sessions')\n",
    "            else:\n",
    "                req = urllib.request.urlopen(srv['url']+ \\\n",
    "                                             'api/sessions?token=' + \\\n",
    "                                             srv['token'])\n",
    "            sessions = json.load(req)\n",
    "            notebookname = sessions[0]['name']\n",
    "        except:\n",
    "            notebookname = notebookname  \n",
    "    \n",
    "    sep = '.'\n",
    "    path = os.getcwd()\n",
    "    #parent_path = str(Path(path).parent)\n",
    "    \n",
    "    ### Path report\n",
    "    #path_report = \"{}/Reports\".format(parent_path)\n",
    "    #path_report = \"{}/Reports\".format(path)\n",
    "    \n",
    "    ### Path destination\n",
    "    name_no_extension = notebookname.split(sep, 1)[0]\n",
    "    source_to_move = name_no_extension +'.{}'.format(extension)\n",
    "    dest = os.path.join(path,'Reports', source_to_move)\n",
    "    \n",
    "    ### Generate notebook\n",
    "    if keep_code:\n",
    "        os.system('jupyter nbconvert --to {} {}'.format(\n",
    "    extension,notebookname))\n",
    "    else:\n",
    "        os.system('jupyter nbconvert --no-input --to {} {}'.format(\n",
    "    extension,notebookname))\n",
    "    \n",
    "    ### Move notebook to report folder\n",
    "    #time.sleep(5)\n",
    "    shutil.move(source_to_move, dest)\n",
    "    print(\"Report Available at this adress:\\n {}\".format(dest))"
   ]
  },
  {
   "cell_type": "code",
   "execution_count": null,
   "metadata": {
    "kernel": "SoS",
    "nteract": {
     "transient": {
      "deleting": false
     }
    },
    "outputExpanded": false
   },
   "outputs": [],
   "source": [
    "create_report(extension = \"html\", keep_code = False, notebookname = None)"
   ]
  }
 ],
 "metadata": {
  "jupytext": {
   "formats": "ipynb,md"
  },
  "kernel_info": {
   "name": "python3"
  },
  "kernelspec": {
   "display_name": "SoS",
   "language": "sos",
   "name": "sos"
  },
  "language_info": {
   "codemirror_mode": "sos",
   "file_extension": ".sos",
   "mimetype": "text/x-sos",
   "name": "sos",
   "nbconvert_exporter": "sos_notebook.converter.SoS_Exporter",
   "pygments_lexer": "sos"
  },
  "nteract": {
   "version": "0.26.0"
  },
  "sos": {
   "kernels": [
    [
     "R",
     "ir",
     "R",
     "#DCDCDA",
     "r"
    ],
    [
     "SoS",
     "sos",
     "",
     "",
     "sos"
    ]
   ],
   "version": "0.20.1"
  },
  "toc": {
   "base_numbering": 1,
   "nav_menu": {},
   "number_sections": true,
   "sideBar": true,
   "skip_h1_title": false,
   "title_cell": "Table of Contents",
   "title_sidebar": "Contents",
   "toc_cell": false,
   "toc_position": {},
   "toc_section_display": true,
   "toc_window_display": false
  }
 },
 "nbformat": 4,
 "nbformat_minor": 4
}
