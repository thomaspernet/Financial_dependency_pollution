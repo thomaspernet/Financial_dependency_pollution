{
 "cells": [
  {
   "cell_type": "markdown",
   "metadata": {
    "kernel": "SoS"
   },
   "source": [
    "# US Name\n",
    "\n",
    "Stylised fact asset tangibility \n",
    "\n",
    "# Business needs \n",
    "\n",
    "Find stylised fact investment biased toward asset tangibility\n",
    "\n",
    "## Description\n",
    "\n",
    "### Objective \n",
    "\n",
    "\n",
    "Stylised fact asset tangibility:Find stylised fact investment biased toward asset tangibility\n",
    "\n",
    "#### Scatterplot\n",
    "\n",
    "1. Compute a scatterplot aggregated at the city-industy-year \n",
    "  1. x-axis: \n",
    "    1. Asset tangible\n",
    "    2. TFP\n",
    "  2. y-axis: SO2 emission\n",
    "2. Compute a scatterplot aggregated at the city-industy-year \n",
    "  1. x-axis: \n",
    "    1. Asset tangible\n",
    "    2. TFP\n",
    "  2. y-axis: SO2 emission\n",
    "  3. Color by city SOE vs Private\n",
    "  4. Color by industry LARGE vs SMALL\n",
    "\n",
    "#### Table\n",
    "\n",
    "# Metadata\n",
    "\n",
    "- Key: oql78mzsh26385x\n",
    "- Epic: Statistical analysis\n",
    "- US: Asset tangibility and tfp\n",
    "- Task tag: #data-analysis, #tfp, #asset-tangibility\n",
    "- Analytics reports: \n",
    "\n",
    "# Input Cloud Storage\n",
    "\n",
    "## Table/file\n",
    "\n",
    "**Name** \n",
    "\n",
    "- https://github.com/thomaspernet/Financial_dependency_pollution/blob/master/01_data_preprocessing/02_transform_tables/09_asif_tfp_firm_baseline.md\n",
    "\n",
    "**Github**\n",
    "\n",
    "- DATA/ECON/FIRM_SURVEY/ASIF_CHINA/TRANSFORMED/TFP/CREDIT_CONSTRAINT\n",
    "\n"
   ]
  },
  {
   "cell_type": "markdown",
   "metadata": {
    "kernel": "SoS"
   },
   "source": [
    "# Connexion server"
   ]
  },
  {
   "cell_type": "code",
   "execution_count": null,
   "metadata": {
    "kernel": "SoS"
   },
   "outputs": [],
   "source": [
    "from awsPy.aws_authorization import aws_connector\n",
    "from awsPy.aws_s3 import service_s3\n",
    "from awsPy.aws_glue import service_glue\n",
    "from pathlib import Path\n",
    "import pandas as pd\n",
    "import numpy as np\n",
    "import seaborn as sns\n",
    "import matplotlib.pyplot as plt\n",
    "import os, shutil, json\n",
    "\n",
    "#import tex2pix\n",
    "#from PyPDF2 import PdfFileMerger\n",
    "#from wand.image import Image as WImage\n",
    "\n",
    "path = os.getcwd()\n",
    "parent_path = str(Path(path).parent.parent)\n",
    "\n",
    "\n",
    "name_credential = 'financial_dep_SO2_accessKeys.csv'\n",
    "region = 'eu-west-2'\n",
    "bucket = 'datalake-london'\n",
    "path_cred = \"{0}/creds/{1}\".format(parent_path, name_credential)"
   ]
  },
  {
   "cell_type": "code",
   "execution_count": null,
   "metadata": {
    "kernel": "SoS"
   },
   "outputs": [],
   "source": [
    "con = aws_connector.aws_instantiate(credential = path_cred,\n",
    "                                       region = region)\n",
    "client= con.client_boto()\n",
    "s3 = service_s3.connect_S3(client = client,\n",
    "                      bucket = bucket, verbose = False)\n",
    "glue = service_glue.connect_glue(client = client) "
   ]
  },
  {
   "cell_type": "code",
   "execution_count": null,
   "metadata": {
    "kernel": "SoS"
   },
   "outputs": [],
   "source": [
    "pandas_setting = True\n",
    "if pandas_setting:\n",
    "    #cm = sns.light_palette(\"green\", as_cmap=True)\n",
    "    pd.set_option('display.max_columns', None)\n",
    "    pd.set_option('display.max_colwidth', None)"
   ]
  },
  {
   "cell_type": "code",
   "execution_count": null,
   "metadata": {
    "kernel": "SoS",
    "nteract": {
     "transient": {
      "deleting": false
     }
    }
   },
   "outputs": [],
   "source": [
    "os.environ['KMP_DUPLICATE_LIB_OK']='True'\n"
   ]
  },
  {
   "cell_type": "markdown",
   "metadata": {
    "kernel": "SoS"
   },
   "source": [
    "## Scatterplot\n",
    "\n",
    "1. Compute a scatterplot aggregated at the city-industy-year \n",
    "  1. x-axis: \n",
    "    1. Asset tangible\n",
    "    2. TFP\n",
    "  2. y-axis: SO2 emission\n",
    "2. Compute a scatterplot aggregated at the city-industy-year \n",
    "  1. x-axis: \n",
    "    1. Asset tangible\n",
    "    2. TFP\n",
    "  2. y-axis: SO2 emission\n",
    "  3. Color by city SOE vs Private\n",
    "  4. Color by industry LARGE vs SMALL"
   ]
  },
  {
   "cell_type": "markdown",
   "metadata": {
    "kernel": "SoS"
   },
   "source": [
    "#### Raw scatterplot\n",
    "\n",
    "1. Compute the average Asset tangible and TFP using firm-level data\n",
    "2. Merge with SO2 emission on city-industry-year\n",
    "3. Plot results"
   ]
  },
  {
   "cell_type": "code",
   "execution_count": null,
   "metadata": {
    "kernel": "SoS"
   },
   "outputs": [],
   "source": [
    "db = 'fin_dep_pollution_baseline_city'"
   ]
  },
  {
   "cell_type": "code",
   "execution_count": null,
   "metadata": {
    "kernel": "SoS"
   },
   "outputs": [],
   "source": [
    "query = \"\"\"\n",
    "SELECT \n",
    "  fin_dep_pollution_baseline_city.year, \n",
    "  fin_dep_pollution_baseline_city.geocode4_corr, \n",
    "  fin_dep_pollution_baseline_city.ind2, \n",
    "  short,\n",
    "  tso2, \n",
    "  ln(tso2) AS log_tso2,\n",
    "  asset_tangibility_tot_asset,\n",
    "  ln(asset_tangibility_tot_asset) AS log_asset_tangibility_tot_asset,\n",
    "  total_asset,\n",
    "  ln(total_asset) AS log_total_asset,\n",
    "  lag_cashflow_to_tangible, \n",
    "  ln(lag_cashflow_to_tangible) AS log_lag_cashflow_to_tangible,\n",
    "  lag_current_ratio,\n",
    "  ln(lag_current_ratio) AS log_lag_current_ratio,\n",
    "  lag_liabilities_tot_asset,\n",
    "  ln(lag_liabilities_tot_asset) AS log_lag_liabilities_tot_asset,\n",
    "  lag_sales_tot_asset,\n",
    "  ln(lag_sales_tot_asset) AS log_lag_sales_tot_asset,\n",
    "  tfp_cit, \n",
    "  ln(tfp_cit) AS log_tfp_cit,\n",
    "  sum_rd,\n",
    "  avg_rd,\n",
    "  dominated_output_soe_c, \n",
    "  element_at(dominated_output_i, .5) as dominated_output_i,\n",
    "  lower_location,\n",
    "  larger_location,\n",
    "  tcz,\n",
    "  spz,\n",
    "  credit_constraint,\n",
    "  supply_all_credit,\n",
    "  supply_long_term_credit,\n",
    "  CASE WHEN credit_constraint > -0.47 THEN 'EXTERNAL_CONSTRAINT' ELSE 'NO_EXTERNAL_CONSTRAINT' END AS d_credit_constraint,\n",
    "  CASE WHEN supply_all_credit < 0.99 THEN 'INTERNAL_CONSTRAINT' ELSE 'NO_INTERNAL_CONSTRAINT' END AS d_supply_all_credit,\n",
    "  CASE WHEN supply_long_term_credit < 2.3255813 THEN 'INTERNAL_CONSTRAINT' ELSE 'NO_INTERNAL_CONSTRAINT' END AS d_supply_long_term_credit\n",
    "  \n",
    "FROM \n",
    "  environment.fin_dep_pollution_baseline_city \n",
    "  INNER JOIN (\n",
    "    SELECT \n",
    "      year, \n",
    "      indu_2, \n",
    "      geocode4_corr, \n",
    "      SUM(rd_tot_asset) AS sum_rd,\n",
    "      AVG(rd_tot_asset) AS avg_rd\n",
    "    FROM \n",
    "      firms_survey.asif_tfp_credit_constraint \n",
    "    GROUP BY \n",
    "      year, \n",
    "      indu_2, \n",
    "      geocode4_corr\n",
    "  ) AS agg ON fin_dep_pollution_baseline_city.year = agg.year \n",
    "  AND fin_dep_pollution_baseline_city.geocode4_corr = agg.geocode4_corr \n",
    "  AND fin_dep_pollution_baseline_city.ind2 = agg.indu_2 \n",
    "WHERE \n",
    "  fin_dep_pollution_baseline_city.year in (\n",
    "    '2001', '2002', '2003', '2004', '2005', \n",
    "    '2006', '2007'\n",
    "  )\n",
    "\"\"\"\n",
    "df = (\n",
    "    s3.run_query(\n",
    "    query=query,\n",
    "    database=db,\n",
    "    s3_output=\"SQL_OUTPUT_ATHENA\",\n",
    "    filename=\"scatter_plot_1\",  # Add filename to print dataframe\n",
    "    # destination_key=\"SQL_OUTPUT_ATHENA/CSV\",  # Use it temporarily\n",
    "    # dtype=dtypes,\n",
    "    )\n",
    ")\n",
    "df.head()"
   ]
  },
  {
   "cell_type": "code",
   "execution_count": null,
   "metadata": {
    "kernel": "SoS"
   },
   "outputs": [],
   "source": [
    "df.shape"
   ]
  },
  {
   "cell_type": "markdown",
   "metadata": {
    "kernel": "SoS"
   },
   "source": [
    "Load credit constraint"
   ]
  },
  {
   "cell_type": "code",
   "execution_count": null,
   "metadata": {
    "kernel": "SoS"
   },
   "outputs": [],
   "source": [
    "query_cc = \"\"\"\n",
    "SELECT DISTINCT(short), AVG(credit_constraint) as credit_constraint\n",
    "FROM environment.fin_dep_pollution_baseline_city \n",
    "GROUP BY short\n",
    "ORDER BY credit_constraint\n",
    "\"\"\"\n",
    "df_cc = (\n",
    "    s3.run_query(\n",
    "    query=query_cc,\n",
    "    database=db,\n",
    "    s3_output=\"SQL_OUTPUT_ATHENA\",\n",
    "    filename=\"scatter_plot_2\",  # Add filename to print dataframe\n",
    "    # destination_key=\"SQL_OUTPUT_ATHENA/CSV\",  # Use it temporarily\n",
    "    # dtype=dtypes,\n",
    "    )\n",
    ")\n",
    "df_cc"
   ]
  },
  {
   "cell_type": "code",
   "execution_count": null,
   "metadata": {
    "kernel": "SoS"
   },
   "outputs": [],
   "source": [
    "def generate_plots(df, \n",
    "                   x_title = 'Asset tangibility',\n",
    "                   x = 'log_asset_tangibility_tot_asset', \n",
    "                   industry = ['Tobacco', 'Smelting ferrous Metals']\n",
    "                  ):\n",
    "    \"\"\"\n",
    "    industry-> List of two items. First items be less constraints than second items\n",
    "    \"\"\"\n",
    "    sns.set_style(\"white\")\n",
    "    ### plot 1\n",
    "    sns.lmplot(x=x,\n",
    "           y=\"log_tso2\",\n",
    "           data=df\n",
    "          )\n",
    "    plt.xlabel(x_title)\n",
    "    plt.ylabel('SO2 emission')\n",
    "    plt.title('Relationship between {} and SO2 emission'.format(x_title))\n",
    "    #plt.savefig(\"fig_2.png\",\n",
    "    #       bbox_inches='tight',\n",
    "    #        dpi=600)\n",
    "    \n",
    "    ### Plot 2\n",
    "    sns.lmplot(x=x,\n",
    "           y=\"log_tso2\",\n",
    "           hue=\"dominated_output_soe_c\",\n",
    "           data=df\n",
    "          )\n",
    "    plt.xlabel(x_title)\n",
    "    plt.ylabel('SO2 emission')\n",
    "    plt.title('Relationship between {} and SO2 emission, by city ownership'.format(x_title))\n",
    "    \n",
    "    ### Plot 3\n",
    "    sns.lmplot(x=x,\n",
    "           y=\"log_tso2\",\n",
    "           hue=\"dominated_output_i\",\n",
    "           data=df\n",
    "          )\n",
    "    plt.xlabel(x_title)\n",
    "    plt.ylabel('SO2 emission')\n",
    "    plt.title('Relationship between {} and SO2 emission, by industry size'.format(x_title))\n",
    "    \n",
    "    ### Plot 4\n",
    "    sns.lmplot(x=x,\n",
    "           y=\"log_tso2\",\n",
    "           hue=\"d_credit_constraint\",\n",
    "           data=df\n",
    "          )\n",
    "    plt.xlabel(x_title)\n",
    "    plt.ylabel('SO2 emission')\n",
    "    plt.title('Relationship between {} and SO2 emission, by external finance'.format(x_title))\n",
    "    \n",
    "    ### Plot 5\n",
    "    sns.lmplot(x=x,\n",
    "           y=\"log_tso2\",\n",
    "           hue=\"short\",\n",
    "           data=df.loc[lambda x: x['short'].isin(industry)]\n",
    "          )\n",
    "    plt.xlabel(x_title)\n",
    "    plt.ylabel('SO2 emission')\n",
    "    plt.title('Relationship between {} and SO2 emission, by external finance'.format(x_title))\n",
    "    "
   ]
  },
  {
   "cell_type": "markdown",
   "metadata": {
    "kernel": "SoS"
   },
   "source": [
    "## SO2"
   ]
  },
  {
   "cell_type": "markdown",
   "metadata": {
    "kernel": "SoS"
   },
   "source": [
    "## Plots and statistical in paper\n",
    "\n",
    "-  SO2 emission in China from 2000 to 2010\n",
    "    - Code here: https://github.com/thomaspernet/pollution_credit_constraint/blob/main/02_data_analysis/02_statistical_tables/00_final_publishable_tables_figures.md#figure-1-replicate\n",
    "- Log asset tangibility vs log SO2 emissions\n",
    "- Log of internal finance vs log SO2 emissions\n",
    "- "
   ]
  },
  {
   "cell_type": "code",
   "execution_count": null,
   "metadata": {},
   "outputs": [],
   "source": [
    "from GoogleDrivePy.google_drive import connect_drive\n",
    "from GoogleDrivePy.google_authorization import authorization_service\n",
    "import seaborn as sns;\n",
    "import matplotlib.pyplot as plt\n"
   ]
  },
  {
   "cell_type": "markdown",
   "metadata": {},
   "source": [
    "### figure 1"
   ]
  },
  {
   "cell_type": "code",
   "execution_count": null,
   "metadata": {},
   "outputs": [],
   "source": [
    "for d in ['token.pickle', 'service.json']:\n",
    "    s3.download_file(key = \"CREDS/pollution_credit_constraint/creds/{}\".format(d),\n",
    "                 path_local = os.path.join(parent_path, \"creds\"))"
   ]
  },
  {
   "cell_type": "code",
   "execution_count": null,
   "metadata": {},
   "outputs": [],
   "source": [
    "os.path.join(\n",
    "    parent_path, \"creds\", \"service.json\")"
   ]
  },
  {
   "cell_type": "code",
   "execution_count": null,
   "metadata": {},
   "outputs": [],
   "source": [
    "auth = authorization_service.get_authorization(\n",
    "    #path_credential_gcp=os.path.join(parent_path, \"creds\", \"service.json\"),\n",
    "    path_credential_drive=os.path.join(parent_path, \"creds\"),\n",
    "    verbose=False,\n",
    "    # scope = ['https://www.googleapis.com/auth/spreadsheets.readonly',\n",
    "    # \"https://www.googleapis.com/auth/drive\"]\n",
    ")\n",
    "gd_auth = auth.authorization_drive(path_secret=os.path.join(\n",
    "    parent_path, \"creds\", \"credentials.json\"))\n",
    "drive = connect_drive.drive_operations(gd_auth)"
   ]
  },
  {
   "cell_type": "code",
   "execution_count": null,
   "metadata": {},
   "outputs": [],
   "source": [
    "FILENAME_SPREADSHEET = \"so2-emissions_china\"\n",
    "spreadsheet_id = drive.find_file_id(FILENAME_SPREADSHEET, to_print=False)\n",
    "sheetName = 'so2-emissions_china.csv'\n",
    "var = (\n",
    "    drive.upload_data_from_spreadsheet(\n",
    "        sheetID=spreadsheet_id,\n",
    "        sheetName=sheetName,\n",
    "        to_dataframe=True)\n",
    "    .assign(\n",
    "    so2 = lambda x: (pd.to_numeric(x['SO2(10.000 tons)'])/100).round(0).astype(int)\n",
    "    )\n",
    ")\n",
    "var"
   ]
  },
  {
   "cell_type": "code",
   "execution_count": null,
   "metadata": {},
   "outputs": [],
   "source": [
    "fig, ax = plt.subplots(figsize=(10, 8))\n",
    "ax.plot(var['Year'], var['so2'])\n",
    "ax.axvline(x='2006', c='red')\n",
    "ax.spines['right'].set_visible(False)\n",
    "ax.spines['top'].set_visible(False)\n",
    "ax.annotate('Introduction of the\\n 11th FYP', xy=('2006', 26), xytext=('2008', 26),\n",
    "            arrowprops=dict(facecolor='black', shrink=0.1),\n",
    "            )\n",
    "plt.xlabel('Year')\n",
    "# Set y-axis label\n",
    "plt.ylabel('SO2 (millions tons)')\n",
    "plt.xticks(rotation=30)\n",
    "#plt.title('SO2 emission in China from 2000 to 2010')\n",
    "#plt.show()\n",
    "plt.savefig(\"Figures/FIGURE_1.png\",\n",
    "            bbox_inches='tight',\n",
    "            dpi=600\n",
    "           )"
   ]
  },
  {
   "cell_type": "markdown",
   "metadata": {
    "kernel": "SoS"
   },
   "source": [
    "### figure 2"
   ]
  },
  {
   "cell_type": "code",
   "execution_count": null,
   "metadata": {
    "kernel": "SoS"
   },
   "outputs": [],
   "source": [
    "query = \"\"\"\n",
    "SELECT \n",
    "  year, \n",
    "  cityen, \n",
    "  sum_.province_en, \n",
    "  tcz, \n",
    "  larger_location,\n",
    "  lower_location, \n",
    "  sum_tso2 \n",
    "FROM \n",
    "  (\n",
    "    SELECT \n",
    "      year, \n",
    "      cityen, \n",
    "      TRIM(\n",
    "        UPPER(province_en)\n",
    "      ) as province_en, \n",
    "      tcz, \n",
    "      SUM(tso2) as sum_tso2 \n",
    "    FROM \n",
    "      environment.fin_dep_pollution_baseline_city \n",
    "    GROUP BY \n",
    "      year, \n",
    "      cityen, \n",
    "      province_en, \n",
    "      tcz\n",
    "  ) as sum_ \n",
    "  LEFT JOIN (\n",
    "    SELECT \n",
    "      UPPER(province_en) as province_en, \n",
    "      larger_location,\n",
    "      lower_location \n",
    "    FROM \n",
    "      chinese_lookup.geo_chinese_province_location\n",
    "  ) as city on sum_.province_en = city.province_en\n",
    "\n",
    "\"\"\"\n",
    "df_1 = (\n",
    "    s3.run_query(\n",
    "    query=query,\n",
    "    database=db,\n",
    "    s3_output=\"SQL_OUTPUT_ATHENA\",\n",
    "    filename=\"scatter_plot_2\",  # Add filename to print dataframe\n",
    "    # destination_key=\"SQL_OUTPUT_ATHENA/CSV\",  # Use it temporarily\n",
    "    # dtype=dtypes,\n",
    "    )\n",
    ")\n",
    "df_1 = df_1.fillna(\"Western\")"
   ]
  },
  {
   "cell_type": "code",
   "execution_count": null,
   "metadata": {
    "kernel": "SoS"
   },
   "outputs": [],
   "source": [
    "df_tcz = (df_1\n",
    "     .assign(sum_so2 = lambda x: x['sum_tso2']/1000000000)\n",
    " .replace({'tcz': {0: 'No TCZ cities', 1:'TCZ cities'}})\n",
    " #.loc[lambda x: x['year'].isin([2004, 2005, 2006, 2007])]\n",
    " .groupby(['tcz','lower_location', 'year'])[['sum_so2']]\n",
    " .sum()\n",
    "          .assign(pct_change = lambda x: x.groupby(['tcz', \"lower_location\"])['sum_so2'].transform(\"pct_change\"))\n",
    " .reset_index()\n",
    " #.stack()\n",
    " #.unstack([0, 1])\n",
    " \n",
    ")\n",
    "df_tcz.head()\n",
    "#sns.lineplot(data=df_tcz, x=\"year\", y=\"pct_change\", hue=\"tcz\")"
   ]
  },
  {
   "cell_type": "code",
   "execution_count": null,
   "metadata": {
    "kernel": "SoS"
   },
   "outputs": [],
   "source": [
    "chart = sns.relplot(\n",
    "    data=df_tcz,\n",
    "    x=\"year\",\n",
    "    y=\"pct_change\",\n",
    "    hue=\"lower_location\",\n",
    "    col = 'tcz',\n",
    "    kind=\"line\"\n",
    ")\n",
    "chart.set_axis_labels(x_var=\"year\", y_var=\"Percentage change SO2 emission\")\n",
    "chart.map(plt.axhline, y=0, ls='--', c='red')\n",
    "chart.set_titles(\"{col_name}\")\n",
    "chart._legend.set_title(\"Locations\")\n",
    "chart.set_axis_labels(x_var=\"Year\", y_var=\"Percentage change SO2\")\n",
    "chart.fig.set_figwidth(10)\n",
    "chart.fig.set_figheight(8)\n",
    "\n",
    "plt.savefig(\"Figures/FIGURE_2.png\",\n",
    "            bbox_inches='tight',\n",
    "            dpi=600)"
   ]
  },
  {
   "cell_type": "markdown",
   "metadata": {},
   "source": [
    "### figure 3"
   ]
  },
  {
   "cell_type": "code",
   "execution_count": null,
   "metadata": {
    "kernel": "SoS"
   },
   "outputs": [],
   "source": [
    "sns.set_style(\"white\")\n",
    "    ### plot 1\n",
    "chart = sns.lmplot(x=\"log_asset_tangibility_tot_asset\",\n",
    "           y=\"log_tso2\",\n",
    "           data=df.loc[lambda x: \n",
    "                      x['log_asset_tangibility_tot_asset'] > -4]\n",
    "          )\n",
    "chart.fig.set_figwidth(10)\n",
    "chart.fig.set_figheight(8)\n",
    "plt.xlabel(\"log Asset tangibility\")\n",
    "plt.ylabel('log SO2 emissions')\n",
    "plt.savefig(\"Figures/FIGURE_3.png\",\n",
    "            bbox_inches='tight',\n",
    "            dpi=600)"
   ]
  },
  {
   "cell_type": "markdown",
   "metadata": {},
   "source": [
    "### figure 4"
   ]
  },
  {
   "cell_type": "code",
   "execution_count": null,
   "metadata": {
    "kernel": "SoS"
   },
   "outputs": [],
   "source": [
    "fig_dims = (15, 10)\n",
    "fig, (ax1, ax2) = plt.subplots(ncols=2, sharey=False, figsize=fig_dims)\n",
    "\n",
    "sns.regplot(\n",
    "    x=\"log_lag_cashflow_to_tangible\",\n",
    "    y=\"log_tso2\",\n",
    "    data=(\n",
    "        df[\n",
    "            [\"log_tso2\", \"lag_cashflow_to_tangible\", \"log_lag_cashflow_to_tangible\"]\n",
    "        ].loc[\n",
    "            lambda x: x[\"lag_cashflow_to_tangible\"]\n",
    "            > 0 & ~x[\"lag_cashflow_to_tangible\"].isin([np.nan])\n",
    "        ]\n",
    "    ),\n",
    "    ax=ax1,\n",
    ")\n",
    "ax1.set_xlabel(\"log lag Cashflow\")\n",
    "ax1.set_ylabel(\"log SO2 emissions\")\n",
    "sns.regplot(\n",
    "    x=\"log_lag_current_ratio\",\n",
    "    y=\"log_tso2\",\n",
    "    data=(\n",
    "        df[[\"log_tso2\", \"lag_current_ratio\", \"log_lag_current_ratio\"]].loc[\n",
    "            lambda x: x[\"lag_current_ratio\"]\n",
    "            > 0 & ~x[\"lag_current_ratio\"].isin([np.nan])\n",
    "        ]\n",
    "    ),\n",
    "    ax=ax2,\n",
    ")\n",
    "ax2.set_xlabel(\"log lag Current ratio\")\n",
    "ax2.set_ylabel(\"log SO2 emissions\")\n",
    "# plt.xlabel(x_title)\n",
    "#fig.suptitle('Relationship between internal finance and SO2 emission')\n",
    "plt.savefig(\"Figures/FIGURE_4.png\",\n",
    "            bbox_inches='tight',\n",
    "            dpi=600)"
   ]
  },
  {
   "cell_type": "markdown",
   "metadata": {
    "kernel": "SoS"
   },
   "source": [
    "### Asset tangible"
   ]
  },
  {
   "cell_type": "code",
   "execution_count": null,
   "metadata": {
    "kernel": "SoS"
   },
   "outputs": [],
   "source": [
    "generate_plots(df.loc[lambda x: \n",
    "                      x['log_asset_tangibility_tot_asset'] > -6], \n",
    "                   x_title = 'Asset tangibility',\n",
    "                   x = 'log_asset_tangibility_tot_asset', \n",
    "                   industry = ['Tobacco', 'Smelting ferrous Metals']\n",
    "                  )"
   ]
  },
  {
   "cell_type": "markdown",
   "metadata": {
    "kernel": "SoS"
   },
   "source": [
    "### Cashflow"
   ]
  },
  {
   "cell_type": "code",
   "execution_count": null,
   "metadata": {
    "kernel": "SoS"
   },
   "outputs": [],
   "source": [
    "generate_plots(\n",
    "    (\n",
    "        df\n",
    "        .loc[\n",
    "            lambda x: x[\"lag_cashflow_to_tangible\"]\n",
    "            > 0 & ~x[\"lag_cashflow_to_tangible\"].isin([np.nan])\n",
    "        ]\n",
    "    ),\n",
    "    x_title=\"Cashflow\",\n",
    "    x=\"log_lag_cashflow_to_tangible\",\n",
    "    industry=[\"Tobacco\", \"Smelting ferrous Metals\"],\n",
    ")"
   ]
  },
  {
   "cell_type": "markdown",
   "metadata": {
    "kernel": "SoS"
   },
   "source": [
    "### Current ratio"
   ]
  },
  {
   "cell_type": "code",
   "execution_count": null,
   "metadata": {
    "kernel": "SoS"
   },
   "outputs": [],
   "source": [
    "generate_plots( (\n",
    "        df\n",
    "    .loc[\n",
    "            lambda x: x[\"lag_current_ratio\"]\n",
    "            > 0 & ~x[\"lag_current_ratio\"].isin([np.nan])\n",
    "        ]\n",
    "    ), \n",
    "                   x_title = 'Current ratio',\n",
    "                   x = 'log_lag_current_ratio', \n",
    "                   industry = ['Tobacco', 'Smelting ferrous Metals']\n",
    "                  )"
   ]
  },
  {
   "cell_type": "markdown",
   "metadata": {
    "kernel": "SoS"
   },
   "source": [
    "### Liabilities to asset"
   ]
  },
  {
   "cell_type": "code",
   "execution_count": null,
   "metadata": {
    "kernel": "SoS"
   },
   "outputs": [],
   "source": [
    "generate_plots((\n",
    "        df\n",
    "    .loc[\n",
    "            lambda x: x[\"lag_liabilities_tot_asset\"]\n",
    "            > 0 & ~x[\"lag_liabilities_tot_asset\"].isin([np.nan])\n",
    "        ]\n",
    "    ), \n",
    "                   x_title = 'Liabilities to asset',\n",
    "                   x = 'log_lag_liabilities_tot_asset', \n",
    "                   industry = ['Tobacco', 'Smelting ferrous Metals']\n",
    "                  )"
   ]
  },
  {
   "cell_type": "markdown",
   "metadata": {
    "kernel": "SoS"
   },
   "source": [
    "#### RD"
   ]
  },
  {
   "cell_type": "code",
   "execution_count": null,
   "metadata": {
    "kernel": "SoS"
   },
   "outputs": [],
   "source": [
    "generate_plots(df, \n",
    "                   x_title = 'R&D',\n",
    "                   x = 'avg_rd', \n",
    "                   industry = ['Tobacco', 'Smelting ferrous Metals']\n",
    "                  )"
   ]
  },
  {
   "cell_type": "markdown",
   "metadata": {
    "kernel": "SoS"
   },
   "source": [
    "#### TFP "
   ]
  },
  {
   "cell_type": "code",
   "execution_count": null,
   "metadata": {
    "kernel": "SoS"
   },
   "outputs": [],
   "source": [
    "generate_plots(df, \n",
    "                   x_title = 'TFP',\n",
    "                   x = 'log_tfp_cit', \n",
    "                   industry = ['Tobacco', 'Smelting ferrous Metals']\n",
    "                  )"
   ]
  },
  {
   "cell_type": "markdown",
   "metadata": {
    "kernel": "SoS"
   },
   "source": [
    "## Side by side"
   ]
  },
  {
   "cell_type": "code",
   "execution_count": null,
   "metadata": {
    "kernel": "SoS"
   },
   "outputs": [],
   "source": [
    "fig_dims = (15, 10)\n",
    "fig, (ax1, ax2) = plt.subplots(ncols=2, sharey=False, figsize=fig_dims)\n",
    "\n",
    "sns.regplot(\n",
    "    x=\"log_lag_cashflow_to_tangible\",\n",
    "    y=\"log_tso2\",\n",
    "    data=(\n",
    "        df[\n",
    "            [\"log_tso2\", \"lag_cashflow_to_tangible\", \"log_lag_cashflow_to_tangible\"]\n",
    "        ].loc[\n",
    "            lambda x: x[\"lag_cashflow_to_tangible\"]\n",
    "            > 0 & ~x[\"lag_cashflow_to_tangible\"].isin([np.nan])\n",
    "        ]\n",
    "    ),\n",
    "    ax=ax1,\n",
    ")\n",
    "ax1.set_xlabel(\"Lag Cashflow\")\n",
    "ax1.set_ylabel(\"SO2 emission\")\n",
    "sns.regplot(\n",
    "    x=\"log_lag_current_ratio\",\n",
    "    y=\"log_tso2\",\n",
    "    data=(\n",
    "        df[[\"log_tso2\", \"lag_current_ratio\", \"log_lag_current_ratio\"]].loc[\n",
    "            lambda x: x[\"lag_current_ratio\"]\n",
    "            > 0 & ~x[\"lag_current_ratio\"].isin([np.nan])\n",
    "        ]\n",
    "    ),\n",
    "    ax=ax2,\n",
    ")\n",
    "ax2.set_xlabel(\"Lag Current ratio\")\n",
    "ax2.set_ylabel(\"SO2 emission\")\n",
    "# plt.xlabel(x_title)\n",
    "fig.suptitle('Relationship between internal finance and SO2 emission')"
   ]
  },
  {
   "cell_type": "markdown",
   "metadata": {
    "kernel": "SoS"
   },
   "source": [
    "## Asset tangible"
   ]
  },
  {
   "cell_type": "markdown",
   "metadata": {
    "kernel": "SoS"
   },
   "source": [
    "### Cashflow"
   ]
  },
  {
   "cell_type": "code",
   "execution_count": null,
   "metadata": {
    "kernel": "SoS"
   },
   "outputs": [],
   "source": [
    "path_local = os.path.join(str(Path(path).parent.parent), \n",
    "                              \"00_data_catalogue/temporary_local_data\",\n",
    "                         'df_asif_tfp_credit_constraint.csv')\n",
    "df_tfp = (\n",
    "    pd.read_csv(path_local)\n",
    "    .assign(\n",
    "        log_tfp_op = lambda x: np.log(x['tfp_op']), \n",
    "        log_current_ratio = lambda x: np.log(x['current_ratio']), \n",
    "        log_liabilities_tot_asset = lambda x: np.log(x['liabilities_tot_asset']), \n",
    "        log_asset_tangibility_tot_asset = lambda x: np.log(x['asset_tangibility_tot_asset']), \n",
    "        log_cashflow_to_tangible = lambda x: np.log(x['cashflow_to_tangible'])\n",
    "    )\n",
    ")"
   ]
  },
  {
   "cell_type": "code",
   "execution_count": null,
   "metadata": {
    "kernel": "SoS"
   },
   "outputs": [],
   "source": [
    "sns.lmplot(x=\"log_cashflow_to_tangible\",\n",
    "           y=\"log_asset_tangibility_tot_asset\",\n",
    "           data=df_tfp\n",
    "          )\n",
    "plt.xlabel('Cashflow')\n",
    "plt.ylabel('Asset tangible')\n",
    "plt.title('Relationship between {} and TFP'.format('Asset tangible'))"
   ]
  },
  {
   "cell_type": "markdown",
   "metadata": {
    "kernel": "SoS"
   },
   "source": [
    "## RD"
   ]
  },
  {
   "cell_type": "code",
   "execution_count": null,
   "metadata": {
    "kernel": "SoS"
   },
   "outputs": [],
   "source": [
    "sns.lmplot(x=\"log_cashflow_to_tangible\",\n",
    "           y=\"rd_tot_asset\",\n",
    "           data=df_tfp.loc[lambda x: \n",
    "                           (x['year'] >2004) &\n",
    "                           (x['rd_tot_asset'] > 0)\n",
    "                           &\n",
    "                           (x['rd_tot_asset'] < 1.5)\n",
    "                          ]\n",
    "          )\n",
    "plt.xlabel('Cashflow')\n",
    "plt.ylabel('RD')\n",
    "plt.title('Relationship between {} and RD'.format('Cashflow'))"
   ]
  },
  {
   "cell_type": "markdown",
   "metadata": {
    "kernel": "SoS"
   },
   "source": [
    "## TFP"
   ]
  },
  {
   "cell_type": "markdown",
   "metadata": {
    "kernel": "SoS"
   },
   "source": [
    "### Cashflow"
   ]
  },
  {
   "cell_type": "code",
   "execution_count": null,
   "metadata": {
    "kernel": "SoS"
   },
   "outputs": [],
   "source": [
    "sns.lmplot(x=\"log_cashflow_to_tangible\",\n",
    "           y=\"log_tfp_op\",\n",
    "           data=df_tfp\n",
    "          )\n",
    "plt.xlabel('Cashflow')\n",
    "plt.ylabel('TFP')\n",
    "plt.title('Relationship between {} and TFP'.format('Cashflow'))"
   ]
  },
  {
   "cell_type": "markdown",
   "metadata": {
    "kernel": "SoS"
   },
   "source": [
    "## Table"
   ]
  },
  {
   "cell_type": "code",
   "execution_count": null,
   "metadata": {
    "kernel": "SoS"
   },
   "outputs": [],
   "source": [
    "path_local = os.path.join(str(Path(path).parent.parent), \n",
    "                              \"00_data_catalogue/temporary_local_data\",\n",
    "                         'df_fin_dep_pollution_baseline_city.csv')\n",
    "df_so2 = (\n",
    "    pd.read_csv(path_local)\n",
    ")"
   ]
  },
  {
   "cell_type": "code",
   "execution_count": null,
   "metadata": {
    "kernel": "SoS"
   },
   "outputs": [],
   "source": [
    "df_table = pd.concat(\n",
    "    [\n",
    "        pd.concat(\n",
    "            [\n",
    "                (\n",
    "                    df_so2.assign(\n",
    "                        tso2=lambda x: x[\"tso2\"] / 1000000,\n",
    "                        sales=lambda x: x[\"lag_sales_tot_asset\"] / 1000000,\n",
    "                        total_asset=lambda x: x[\"total_asset\"] / 1000000,\n",
    "                    )\n",
    "                    .agg(\n",
    "                        {\n",
    "                            \"tso2\": [\"mean\", \"std\"],\n",
    "                            \"asset_tangibility_tot_asset\": [\"mean\", \"std\"],\n",
    "                            \"lag_sales_tot_asset\": [\"mean\", \"std\"],\n",
    "                            \"total_asset\": [\"mean\", \"std\"],\n",
    "                            \"lag_cashflow_to_tangible\": [\"mean\", \"std\"],\n",
    "                            \"lag_current_ratio\": [\"mean\", \"std\"],\n",
    "                            \"lag_liabilities_tot_asset\": [\"mean\", \"std\"],\n",
    "                            \"tfp_cit\": [\"mean\", \"std\"],\n",
    "                            # \"sum_rd\": [\"mean\", \"std\"],\n",
    "                        }\n",
    "                    )\n",
    "                    .T.assign(\n",
    "                        full_sample=lambda x: np.round(x[\"mean\"], 2).astype(str)\n",
    "                        + \" (\"\n",
    "                        + np.round(x[\"std\"], 2).astype(str)\n",
    "                        + \")\"\n",
    "                    )\n",
    "                    .reindex(columns=[\"full_sample\"])\n",
    "                    .rename(columns={\"full_sample\": \"ALL\"})\n",
    "                )\n",
    "            ],\n",
    "            axis=1,\n",
    "            keys=[\"Full Sample\"],\n",
    "        ),\n",
    "        pd.concat(\n",
    "            [\n",
    "                (\n",
    "                    df_so2\n",
    "                    .assign(\n",
    "                        tso2=lambda x: x[\"tso2\"] / 1000000,\n",
    "                        sales=lambda x: x[\"lag_sales_tot_asset\"] / 1000000,\n",
    "                        total_asset=lambda x: x[\"total_asset\"] / 1000000,\n",
    "                        dominated_output_i = lambda x: \n",
    "                        np.where(\n",
    "        x['dominated_output_i'].str.extract(r\"(?<=0.5\\=)(.*?)(?=\\,)\") == 'true', True, False\n",
    "        )\n",
    "                    )\n",
    "                    .groupby([\"dominated_output_i\"])\n",
    "                    .agg(\n",
    "                        {\n",
    "                            \"tso2\": [\"mean\", \"std\"],\n",
    "                            \"asset_tangibility_tot_asset\": [\"mean\", \"std\"],\n",
    "                            \"lag_sales_tot_asset\": [\"mean\", \"std\"],\n",
    "                            \"total_asset\": [\"mean\", \"std\"],\n",
    "                            \"lag_cashflow_to_tangible\": [\"mean\", \"std\"],\n",
    "                            \"lag_current_ratio\": [\"mean\", \"std\"],\n",
    "                            \"lag_liabilities_tot_asset\": [\"mean\", \"std\"],\n",
    "                            \"tfp_cit\": [\"mean\", \"std\"],\n",
    "                            # \"sum_rd\": [\"mean\", \"std\"],\n",
    "                        }\n",
    "                    )\n",
    "                    .T.unstack(-1)\n",
    "                    .assign(\n",
    "                        industry_false=lambda x: np.round(x[(False, \"mean\")], 2).astype(\n",
    "                            str\n",
    "                        )\n",
    "                        + \" (\"\n",
    "                        + np.round(x[(False, \"std\")], 2).astype(str)\n",
    "                        + \")\",\n",
    "                        industry_true=lambda x: np.round(x[(True, \"mean\")], 2).astype(\n",
    "                            str\n",
    "                        )\n",
    "                        + \" (\"\n",
    "                        + np.round(x[(True, \"std\")], 2).astype(str)\n",
    "                        + \")\",\n",
    "                    )\n",
    "                    .droplevel(axis=1, level=1)\n",
    "                    .iloc[:, 4:]\n",
    "                    # .reindex(columns = ['industry_false', 'industry_true'])\n",
    "                ).rename(columns={\"industry_false\": \"SMALL\", \"industry_true\": \"LARGE\"})\n",
    "            ],\n",
    "            axis=1,\n",
    "            keys=[\"Industry\"],\n",
    "        ),\n",
    "        pd.concat(\n",
    "            [\n",
    "                pd.concat(\n",
    "                    [\n",
    "                        (\n",
    "                            df_so2\n",
    "                            .assign(\n",
    "                                tso2=lambda x: x[\"tso2\"] / 1000000,\n",
    "                                sales=lambda x: x[\"lag_sales_tot_asset\"] / 1000000,\n",
    "                                total_asset=lambda x: x[\"total_asset\"] / 1000000,\n",
    "                            )\n",
    "                            .groupby([\"dominated_output_soe_c\"])\n",
    "                            .agg(\n",
    "                                {\n",
    "                                    \"tso2\": [\"mean\", \"std\"],\n",
    "                                    \"asset_tangibility_tot_asset\": [\"mean\", \"std\"],\n",
    "                                    \"lag_sales_tot_asset\": [\"mean\", \"std\"],\n",
    "                                    \"total_asset\": [\"mean\", \"std\"],\n",
    "                                    \"lag_cashflow_to_tangible\": [\"mean\", \"std\"],\n",
    "                                    \"lag_current_ratio\": [\"mean\", \"std\"],\n",
    "                                    \"lag_liabilities_tot_asset\": [\"mean\", \"std\"],\n",
    "                                    \"tfp_cit\": [\"mean\", \"std\"],\n",
    "                                    # \"sum_rd\": [\"mean\", \"std\"],\n",
    "                                }\n",
    "                            )\n",
    "                            .T.unstack(-1)\n",
    "                            .assign(\n",
    "                                soe_false=lambda x: np.round(\n",
    "                                    x[(False, \"mean\")], 2\n",
    "                                ).astype(str)\n",
    "                                + \" (\"\n",
    "                                + np.round(x[(False, \"std\")], 2).astype(str)\n",
    "                                + \")\",\n",
    "                                soe_true=lambda x: np.round(\n",
    "                                    x[(True, \"mean\")], 2\n",
    "                                ).astype(str)\n",
    "                                + \" (\"\n",
    "                                + np.round(x[(True, \"std\")], 2).astype(str)\n",
    "                                + \")\",\n",
    "                            )\n",
    "                            .droplevel(axis=1, level=1)\n",
    "                            .iloc[:, 4:]\n",
    "                            .rename(columns={\"soe_false\": \"PRIVATE\", \"soe_true\": \"SOE\"})\n",
    "                        ),\n",
    "                        (\n",
    "                            df_so2\n",
    "                            .assign(\n",
    "                                tso2=lambda x: x[\"tso2\"] / 1000000,\n",
    "                                sales=lambda x: x[\"lag_sales_tot_asset\"] / 1000000,\n",
    "                                total_asset=lambda x: x[\"total_asset\"] / 1000000,\n",
    "                            )\n",
    "                            .groupby([\"tcz\"])\n",
    "                            .agg(\n",
    "                                {\n",
    "                                    \"tso2\": [\"mean\", \"std\"],\n",
    "                                    \"asset_tangibility_tot_asset\": [\"mean\", \"std\"],\n",
    "                                    \"lag_sales_tot_asset\": [\"mean\", \"std\"],\n",
    "                                    \"total_asset\": [\"mean\", \"std\"],\n",
    "                                    \"lag_cashflow_to_tangible\": [\"mean\", \"std\"],\n",
    "                                    \"lag_current_ratio\": [\"mean\", \"std\"],\n",
    "                                    \"lag_liabilities_tot_asset\": [\"mean\", \"std\"],\n",
    "                                    \"tfp_cit\": [\"mean\", \"std\"],\n",
    "                                    # \"sum_rd\": [\"mean\", \"std\"],\n",
    "                                }\n",
    "                            )\n",
    "                            .T.unstack(-1)\n",
    "                            .assign(\n",
    "                                tcz_false=lambda x: np.round(x[(0, \"mean\")], 2).astype(\n",
    "                                    str\n",
    "                                )\n",
    "                                + \" (\"\n",
    "                                + np.round(x[(0, \"std\")], 2).astype(str)\n",
    "                                + \")\",\n",
    "                                tcz_true=lambda x: np.round(x[(1, \"mean\")], 2).astype(\n",
    "                                    str\n",
    "                                )\n",
    "                                + \" (\"\n",
    "                                + np.round(x[(1, \"std\")], 2).astype(str)\n",
    "                                + \")\",\n",
    "                            )\n",
    "                            .droplevel(axis=1, level=1)\n",
    "                            .iloc[:, 4:]\n",
    "                            .rename(columns={\"tcz_false\": \"NO TCZ\", \"tcz_true\": \"TCZ\"})\n",
    "                        ),\n",
    "                    ],\n",
    "                    axis=1,\n",
    "                )\n",
    "            ],\n",
    "            axis=1,\n",
    "            keys=[\"City\"],\n",
    "        ),\n",
    "    ],\n",
    "    axis=1,\n",
    ").rename(\n",
    "    index={\n",
    "        \"tso2\": \"SO2\",\n",
    "        \"asset_tangibility_tot_asset\": \"asset tangibility\",\n",
    "        \"total_asset\": \"total asset\",\n",
    "        \"lag_cashflow_to_tangible\": \"cashflow\",\n",
    "        \"lag_current_ratio\": \"current ratio\",\n",
    "        \"lag_liabilities_tot_asset\": \"liabilities to asset\",\n",
    "        \"tfp_cit\": \"TFP\",\n",
    "        \"lag_sales_tot_asset\": \"sales to asset\",\n",
    "        # \"sum_rd\": \"RD\",\n",
    "    }\n",
    ")\n",
    "df_latex = df_table.to_latex()\n",
    "# df_table"
   ]
  },
  {
   "cell_type": "code",
   "execution_count": null,
   "metadata": {
    "kernel": "SoS"
   },
   "outputs": [],
   "source": [
    "folder = 'Tables'"
   ]
  },
  {
   "cell_type": "code",
   "execution_count": null,
   "metadata": {
    "kernel": "SoS"
   },
   "outputs": [],
   "source": [
    "title = \"Summary statistic\"\n",
    "tb_note = \"\"\"\n",
    "The information about the SO2 level is collected using various editions of the China Environment Statistics Yearbook and is reported in millions of tons.\n",
    "cashflow is measured as net income + depreciation over asset;\n",
    "current ratio is measured as current asset over current liabilities. Cashflow, current ratio, sales to asset and liabilities to asset are lagged by one year.\n",
    "TFP is computed the Olley-Parkes algorithm. \n",
    "An industry is labelled as large (small) when the city-industrial output share above (below) a critical threshold, for instance the 50th decile.\n",
    "(Non-)SOE-dominated cities refers to cities where the output share of SOEs is (below) above a critical threshold, for instance the 60th decile.\n",
    "The list of TCZ is provided by the State Council, 1998. “Official Reply to the State Council Concerning\n",
    "Acid Rain Control Areas and Sulfur Dioxide Pollution Control Areas”.\n",
    "Standard deviation is reported in parenthesis\n",
    "\"\"\""
   ]
  },
  {
   "cell_type": "code",
   "execution_count": null,
   "metadata": {
    "kernel": "SoS"
   },
   "outputs": [],
   "source": [
    "table_number = 1\n",
    "with open('{}/table_{}.tex'.format(folder,table_number), 'w') as fout:\n",
    "    for i in range(len( df_latex)):\n",
    "        if i ==0:\n",
    "            header= \"\\documentclass[preview]{standalone} \\n\\\\usepackage[utf8]{inputenc}\\n\" \\\n",
    "            \"\\\\usepackage{booktabs,caption,threeparttable, siunitx, adjustbox}\\n\\n\" \\\n",
    "            \"\\\\begin{document}\"\n",
    "            top =  '\\n\\\\begin{adjustbox}{width=\\\\textwidth, totalheight=\\\\textheight-2\\\\baselineskip,keepaspectratio}\\n'\n",
    "            table_top = \"\\n\\\\begin{table}[!htbp] \\centering\"\n",
    "            table_title = \"\\n\\caption{%s}\\n\" % title\n",
    "            \n",
    "            fout.write(header)\n",
    "            fout.write(table_top)\n",
    "            fout.write(table_title)\n",
    "            fout.write(top)\n",
    "           \n",
    "        fout.write( df_latex[i])\n",
    "    \n",
    "    bottom =  '\\n\\\\end{adjustbox}\\n'\n",
    "    tb_note_top = \"\\n\\\\begin{tablenotes}\\n\\small\\n\\item\"\n",
    "    table_bottom = \"\\n\\end{table}\"\n",
    "    footer = \"\\n\\n\\\\end{document}\"\n",
    "    tb_note_bottom = \"\\n\\end{tablenotes}\"\n",
    "    fout.write(bottom)\n",
    "    fout.write(tb_note_top)\n",
    "    fout.write(tb_note)\n",
    "    fout.write(tb_note_bottom)\n",
    "    fout.write(table_bottom)\n",
    "    fout.write(footer)\n",
    " \n",
    "f = open('{}/table_{}.tex'.format(folder,table_number))\n",
    "r = tex2pix.Renderer(f, runbibtex=False)\n",
    "r.mkpdf('{}/table_{}.pdf'.format(folder,table_number))\n",
    "img = WImage(filename='{}/table_{}.pdf'.format(folder,table_number),\n",
    "resolution = 200)\n",
    "display(img)"
   ]
  },
  {
   "cell_type": "code",
   "execution_count": null,
   "metadata": {
    "kernel": "SoS"
   },
   "outputs": [],
   "source": [
    "import os\n",
    "path = os.path.join(folder)\n",
    "if os.path.exists(folder) == False:\n",
    "        os.mkdir(folder)\n",
    "for ext in ['.txt', '.tex', '.pdf']:\n",
    "    x = [a for a in os.listdir(folder) if a.endswith(ext)]\n",
    "    [os.remove(os.path.join(folder, i)) for i in x]"
   ]
  },
  {
   "cell_type": "markdown",
   "metadata": {
    "kernel": "SoS"
   },
   "source": [
    "### Distribution by industry"
   ]
  },
  {
   "cell_type": "code",
   "execution_count": null,
   "metadata": {
    "kernel": "SoS"
   },
   "outputs": [],
   "source": [
    "df_industry = (\n",
    "    df_so2\n",
    "    .assign(\n",
    "        tso2=lambda x: x[\"tso2\"] / 1000000,\n",
    "        sales=lambda x: x[\"sales_tot_asset\"] / 1000000,\n",
    "        total_asset=lambda x: x[\"total_asset\"] / 1000000,\n",
    "    )\n",
    "    .groupby(\"short\")\n",
    "    .agg(\n",
    "        {\n",
    "            \"tso2\": [\"mean\", \"std\"],\n",
    "            \"asset_tangibility_tot_asset\": [\"mean\", \"std\"],\n",
    "            \"lag_cashflow_to_tangible\": [\"mean\", \"std\"],\n",
    "            \"lag_current_ratio\": [\"mean\", \"std\"],\n",
    "            \"lag_liabilities_tot_asset\": [\"mean\", \"std\"],\n",
    "            #\"tfp_cit\": [\"mean\", \"std\"],\n",
    "            #\"sum_rd\": [\"mean\", \"std\"],\n",
    "        }\n",
    "    )\n",
    "    .assign(\n",
    "        tso2_=lambda x: np.round(x[(\"tso2\", \"mean\")], 2).astype(str)\n",
    "        + \" (\"\n",
    "        + np.round(x[(\"tso2\", \"std\")], 2).astype(str)\n",
    "        + \")\",\n",
    "        asset_tangibility_tot_asset_=lambda x: np.round(\n",
    "            x[(\"asset_tangibility_tot_asset\", \"mean\")], 2\n",
    "        ).astype(str)\n",
    "        + \" (\"\n",
    "        + np.round(x[(\"asset_tangibility_tot_asset\", \"std\")], 2).astype(str)\n",
    "        + \")\",\n",
    "        cashflow_to_tangible_=lambda x: np.round(\n",
    "            x[(\"lag_cashflow_to_tangible\", \"mean\")], 2\n",
    "        ).astype(str)\n",
    "        + \" (\"\n",
    "        + np.round(x[(\"lag_cashflow_to_tangible\", \"std\")], 2).astype(str)\n",
    "        + \")\",\n",
    "        current_ratio_=lambda x: np.round(x[(\"lag_current_ratio\", \"mean\")], 2).astype(str)\n",
    "        + \" (\"\n",
    "        + np.round(x[(\"lag_current_ratio\", \"std\")], 2).astype(str)\n",
    "        + \")\",\n",
    "        liabilities_tot_asset_=lambda x: np.round(\n",
    "            x[(\"lag_liabilities_tot_asset\", \"mean\")], 2\n",
    "        ).astype(str)\n",
    "        + \" (\"\n",
    "        + np.round(x[(\"lag_liabilities_tot_asset\", \"std\")], 2).astype(str)\n",
    "        + \")\",\n",
    "        #tfp_cit_=lambda x: np.round(x[(\"tfp_cit\", \"mean\")], 2).astype(str)\n",
    "        #+ \" (\"\n",
    "        #+ np.round(x[(\"tfp_cit\", \"std\")], 2).astype(str)\n",
    "        #+ \")\",\n",
    "    )\n",
    "    .iloc[:, 10:]\n",
    "    .rename(\n",
    "        columns={\n",
    "            \"tso2_\": \"SO2\",\n",
    "            \"asset_tangibility_tot_asset_\": \"asset tangibility\",\n",
    "            \"cashflow_to_tangible_\": \"cashflow\",\n",
    "            \"current_ratio_\": \"current ratio\",\n",
    "            \"liabilities_tot_asset_\": \"liabilities to asset\",\n",
    "            #\"tfp_cit_\": \"TFP\",\n",
    "        }\n",
    "    )\n",
    "    .rename_axis(index={'short': 'Industry'})\n",
    ")\n",
    "df_latex = df_industry.to_latex()\n",
    "#df_industry"
   ]
  },
  {
   "cell_type": "code",
   "execution_count": null,
   "metadata": {
    "kernel": "SoS"
   },
   "outputs": [],
   "source": [
    "title = \"Average main variables by industry\"\n",
    "tb_note = \"\"\"\n",
    "The information about the SO2 level is collected using various editions of the China Environment Statistics Yearbook and is reported in millions of tons.\n",
    "cashflow is measured as net income + depreciation over asset;\n",
    "current ratio is measured as current asset over current liabilities. \n",
    "Cashflow, current ratio, sales to asset and liabilities to asset are lagged by one year.\n",
    "Standard deviation is reported in parenthesis\n",
    "\"\"\""
   ]
  },
  {
   "cell_type": "code",
   "execution_count": null,
   "metadata": {
    "kernel": "SoS"
   },
   "outputs": [],
   "source": [
    "table_number = 1\n",
    "with open('{}/table_{}.tex'.format(folder,table_number), 'w') as fout:\n",
    "    for i in range(len( df_latex)):\n",
    "        if i ==0:\n",
    "            header= \"\\documentclass[preview]{standalone} \\n\\\\usepackage[utf8]{inputenc}\\n\" \\\n",
    "            \"\\\\usepackage{booktabs,caption,threeparttable, siunitx, adjustbox}\\n\\n\" \\\n",
    "            \"\\\\begin{document}\"\n",
    "            top =  '\\n\\\\begin{adjustbox}{width=\\\\textwidth, totalheight=\\\\textheight-2\\\\baselineskip,keepaspectratio}\\n'\n",
    "            table_top = \"\\n\\\\begin{table}[!htbp] \\centering\"\n",
    "            table_title = \"\\n\\caption{%s}\\n\" % title\n",
    "            \n",
    "            fout.write(header)\n",
    "            fout.write(table_top)\n",
    "            fout.write(table_title)\n",
    "            fout.write(top)\n",
    "           \n",
    "        fout.write( df_latex[i])\n",
    "    \n",
    "    bottom =  '\\n\\\\end{adjustbox}\\n'\n",
    "    tb_note_top = \"\\n\\\\begin{tablenotes}\\n\\small\\n\\item\"\n",
    "    table_bottom = \"\\n\\end{table}\"\n",
    "    footer = \"\\n\\n\\\\end{document}\"\n",
    "    tb_note_bottom = \"\\n\\end{tablenotes}\"\n",
    "    fout.write(bottom)\n",
    "    fout.write(tb_note_top)\n",
    "    fout.write(tb_note)\n",
    "    fout.write(tb_note_bottom)\n",
    "    fout.write(table_bottom)\n",
    "    fout.write(footer)\n",
    " \n",
    "f = open('{}/table_{}.tex'.format(folder,table_number))\n",
    "r = tex2pix.Renderer(f, runbibtex=False)\n",
    "r.mkpdf('{}/table_{}.pdf'.format(folder,table_number))\n",
    "img = WImage(filename='{}/table_{}.pdf'.format(folder,table_number),\n",
    "resolution = 200)\n",
    "display(img)"
   ]
  },
  {
   "cell_type": "code",
   "execution_count": null,
   "metadata": {
    "kernel": "SoS"
   },
   "outputs": [],
   "source": [
    "import os\n",
    "path = os.path.join(folder)\n",
    "if os.path.exists(folder) == False:\n",
    "        os.mkdir(folder)\n",
    "for ext in ['.txt', '.tex', '.pdf']:\n",
    "    x = [a for a in os.listdir(folder) if a.endswith(ext)]\n",
    "    [os.remove(os.path.join(folder, i)) for i in x]"
   ]
  },
  {
   "cell_type": "markdown",
   "metadata": {
    "kernel": "SoS",
    "nteract": {
     "transient": {
      "deleting": false
     }
    }
   },
   "source": [
    "# Generate reports"
   ]
  },
  {
   "cell_type": "code",
   "execution_count": null,
   "metadata": {
    "kernel": "python3",
    "nteract": {
     "transient": {
      "deleting": false
     }
    },
    "outputExpanded": false
   },
   "outputs": [],
   "source": [
    "import os, time, shutil, urllib, ipykernel, json\n",
    "from pathlib import Path\n",
    "from notebook import notebookapp"
   ]
  },
  {
   "cell_type": "code",
   "execution_count": null,
   "metadata": {
    "kernel": "python3",
    "nteract": {
     "transient": {
      "deleting": false
     }
    },
    "outputExpanded": false
   },
   "outputs": [],
   "source": [
    "def create_report(extension = \"html\", keep_code = False, notebookname = None):\n",
    "    \"\"\"\n",
    "    Create a report from the current notebook and save it in the \n",
    "    Report folder (Parent-> child directory)\n",
    "    \n",
    "    1. Exctract the current notbook name\n",
    "    2. Convert the Notebook \n",
    "    3. Move the newly created report\n",
    "    \n",
    "    Args:\n",
    "    extension: string. Can be \"html\", \"pdf\", \"md\"\n",
    "    \n",
    "    \n",
    "    \"\"\"\n",
    "    \n",
    "    ### Get notebook name\n",
    "    connection_file = os.path.basename(ipykernel.get_connection_file())\n",
    "    kernel_id = connection_file.split('-', 1)[0].split('.')[0]\n",
    "\n",
    "    for srv in notebookapp.list_running_servers():\n",
    "        try:\n",
    "            if srv['token']=='' and not srv['password']:  \n",
    "                req = urllib.request.urlopen(srv['url']+'api/sessions')\n",
    "            else:\n",
    "                req = urllib.request.urlopen(srv['url']+ \\\n",
    "                                             'api/sessions?token=' + \\\n",
    "                                             srv['token'])\n",
    "            sessions = json.load(req)\n",
    "            notebookname = sessions[0]['name']\n",
    "        except:\n",
    "            notebookname = notebookname  \n",
    "    \n",
    "    sep = '.'\n",
    "    path = os.getcwd()\n",
    "    #parent_path = str(Path(path).parent)\n",
    "    \n",
    "    ### Path report\n",
    "    #path_report = \"{}/Reports\".format(parent_path)\n",
    "    #path_report = \"{}/Reports\".format(path)\n",
    "    \n",
    "    ### Path destination\n",
    "    name_no_extension = notebookname.split(sep, 1)[0]\n",
    "    source_to_move = name_no_extension +'.{}'.format(extension)\n",
    "    dest = os.path.join(path,'Reports', source_to_move)\n",
    "    \n",
    "    ### Generate notebook\n",
    "    if keep_code:\n",
    "        os.system('jupyter nbconvert --to {} {}'.format(\n",
    "    extension,notebookname))\n",
    "    else:\n",
    "        os.system('jupyter nbconvert --no-input --to {} {}'.format(\n",
    "    extension,notebookname))\n",
    "    \n",
    "    ### Move notebook to report folder\n",
    "    #time.sleep(5)\n",
    "    shutil.move(source_to_move, dest)\n",
    "    print(\"Report Available at this adress:\\n {}\".format(dest))"
   ]
  },
  {
   "cell_type": "code",
   "execution_count": null,
   "metadata": {
    "kernel": "python3",
    "nteract": {
     "transient": {
      "deleting": false
     }
    },
    "outputExpanded": false
   },
   "outputs": [],
   "source": [
    "create_report(extension = \"html\", keep_code = False, notebookname = '00_asset_tangibility_tfp.ipynb')"
   ]
  }
 ],
 "metadata": {
  "jupytext": {
   "formats": "ipynb,md"
  },
  "kernel_info": {
   "name": "python3"
  },
  "kernelspec": {
   "display_name": "Python 3",
   "language": "python",
   "name": "python3"
  },
  "language_info": {
   "codemirror_mode": {
    "name": "ipython",
    "version": 3
   },
   "file_extension": ".py",
   "mimetype": "text/x-python",
   "name": "python",
   "nbconvert_exporter": "python",
   "pygments_lexer": "ipython3",
   "version": "3.8.5"
  },
  "nteract": {
   "version": "0.26.0"
  },
  "sos": {
   "kernels": [
    [
     "SoS",
     "sos",
     "",
     "",
     "sos"
    ],
    [
     "python3",
     "python3",
     "python",
     "",
     {
      "name": "ipython",
      "version": 3
     }
    ]
   ],
   "version": "0.20.1"
  },
  "toc": {
   "base_numbering": 1,
   "nav_menu": {},
   "number_sections": true,
   "sideBar": true,
   "skip_h1_title": false,
   "title_cell": "Table of Contents",
   "title_sidebar": "Contents",
   "toc_cell": false,
   "toc_position": {},
   "toc_section_display": true,
   "toc_window_display": false
  }
 },
 "nbformat": 4,
 "nbformat_minor": 4
}
