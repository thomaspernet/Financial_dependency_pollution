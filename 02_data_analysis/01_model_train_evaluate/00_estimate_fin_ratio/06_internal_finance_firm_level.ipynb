{
 "cells": [
  {
   "cell_type": "markdown",
   "metadata": {
    "kernel": "SoS"
   },
   "source": [
    "# US Name\n",
    "\n",
    "Estimate tangible asset as a function of  current ratio and others (Evaluate role of internal finance) \n",
    "\n",
    "# Business needs \n",
    "\n",
    "Estimate tangible asset as a function of  current ratio, cash_over_total_asset, liabilities over asset, Cash flow to total asset, cash flow to total tangible asset, credit constraint (Evaluate the impact of internal finance on asset) \n",
    "\n",
    "## Description\n",
    "### Objective \n",
    "\n",
    "Test the coefficient sign and significant of the main variable\n",
    "\n",
    "### Tables\n",
    "\n",
    "Table 1: Baseline Estimate, tangible asset and current ratio, cash_over_total_asset, liabilities over asset, Cash flow to total asset, cash flow to total tangible asset, credit constraint\n",
    "\n",
    "**Cautious**\n",
    "Make sure no empty rows, otherwise it will be filtered out in the estimate\n",
    "\n",
    "\n",
    "# Metadata\n",
    "\n",
    "- Key: gac25vjvp54377n\n",
    "- Epic: Models\n",
    "- US: Internal finance estimate\n",
    "- Task tag: #internal-finance, #credit-constraint, #firm-level\n",
    "- Analytics reports: \n",
    "\n",
    "# Input Cloud Storage\n",
    "\n",
    "## Table/file\n",
    "\n",
    "**Name** \n",
    "\n",
    "- https://github.com/thomaspernet/Financial_dependency_pollution/blob/master/01_data_preprocessing/02_transform_tables/09_asif_tfp_firm_baseline.md\n",
    "\n",
    "**Github**\n",
    "\n",
    "- DATA/ECON/FIRM_SURVEY/ASIF_CHINA/TRANSFORMED/TFP/CREDIT_CONSTRAINT\n",
    "\n"
   ]
  },
  {
   "cell_type": "markdown",
   "metadata": {
    "kernel": "SoS"
   },
   "source": [
    "# Connexion server"
   ]
  },
  {
   "cell_type": "code",
   "execution_count": null,
   "metadata": {
    "kernel": "SoS"
   },
   "outputs": [],
   "source": [
    "from awsPy.aws_authorization import aws_connector\n",
    "from awsPy.aws_s3 import service_s3\n",
    "from awsPy.aws_glue import service_glue\n",
    "from pathlib import Path\n",
    "import pandas as pd\n",
    "import numpy as np\n",
    "#import seaborn as sns\n",
    "import os, shutil, json\n",
    "\n",
    "from sklearn import preprocessing\n",
    "\n",
    "le = preprocessing.LabelEncoder()\n",
    "\n",
    "path = os.getcwd()\n",
    "parent_path = str(Path(path).parent.parent.parent)\n",
    "\n",
    "\n",
    "name_credential = 'financial_dep_SO2_accessKeys.csv'\n",
    "region = 'eu-west-2'\n",
    "bucket = 'datalake-london'\n",
    "path_cred = \"{0}/creds/{1}\".format(parent_path, name_credential)"
   ]
  },
  {
   "cell_type": "code",
   "execution_count": null,
   "metadata": {
    "kernel": "SoS"
   },
   "outputs": [],
   "source": [
    "con = aws_connector.aws_instantiate(credential = path_cred,\n",
    "                                       region = region)\n",
    "client= con.client_boto()\n",
    "s3 = service_s3.connect_S3(client = client,\n",
    "                      bucket = bucket, verbose = False)\n",
    "glue = service_glue.connect_glue(client = client) "
   ]
  },
  {
   "cell_type": "code",
   "execution_count": null,
   "metadata": {
    "kernel": "SoS"
   },
   "outputs": [],
   "source": [
    "pandas_setting = True\n",
    "if pandas_setting:\n",
    "    #cm = sns.light_palette(\"green\", as_cmap=True)\n",
    "    pd.set_option('display.max_columns', None)\n",
    "    pd.set_option('display.max_colwidth', None)"
   ]
  },
  {
   "cell_type": "code",
   "execution_count": null,
   "metadata": {
    "kernel": "SoS",
    "nteract": {
     "transient": {
      "deleting": false
     }
    }
   },
   "outputs": [],
   "source": [
    "os.environ['KMP_DUPLICATE_LIB_OK']='True'\n"
   ]
  },
  {
   "cell_type": "code",
   "execution_count": null,
   "metadata": {
    "kernel": "R"
   },
   "outputs": [],
   "source": [
    "change_target <- function(table){\n",
    "    ## SOE\n",
    "    check_target_current_ratio_soe <- grep(\"ownershipPRIVATE:log\\\\(current_ratio\\\\)\", rownames(table$coef))\n",
    "    check_target_liabilities_soe <- grep(\"ownershipPRIVATE:log\\\\(liabilities_tot_asset\\\\)\", rownames(table$coef))\n",
    "    ## foreign\n",
    "    check_target_current_ratio_for <- grep(\"ownership_adjustedDOMESTIC:log\\\\(current_ratio\\\\)\", rownames(table$coef))\n",
    "    check_target_liabilities_for <- grep(\"ownership_adjustedDOMESTIC:log\\\\(liabilities_tot_asset\\\\)\", rownames(table$coef))\n",
    "    \n",
    "    ## TCZ\n",
    "    check_target_current_ratio_tcz <- grep(\"tcz:log\\\\(current_ratio\\\\)\", rownames(table$coef))\n",
    "    check_target_liabilities_tcz <- grep(\"tcz:log\\\\(liabilities_tot_asset\\\\)\", rownames(table$coef))\n",
    "    #check_target_cashflow_tcz <- grep(\"tcz:log\\\\(cashflow_to_tangible\\\\)\", rownames(table$coef))\n",
    "    \n",
    "    ## SPZ\n",
    "    check_target_current_ratio_spz <- grep(\"spz:log\\\\(current_ratio\\\\)\", rownames(table$coef))\n",
    "    check_target_liabilities_spz <- grep(\"spz:log\\\\(liabilities_tot_asset\\\\)\", rownames(table$coef))\n",
    "    #check_target_cashflow_spz <- grep(\"tcz:log\\\\(cashflow_to_tangible\\\\)\", rownames(table$coef))\n",
    "    \n",
    "    if (length(check_target_current_ratio_soe) !=0) {\n",
    "    ## SOE\n",
    "    rownames(table$coefficients)[check_target_current_ratio_soe] <- 'log(current_ratio):ownershipPRIVATE'\n",
    "    rownames(table$beta)[check_target_current_ratio_soe] <- 'log(current_ratio):ownershipPRIVATE'\n",
    "    rownames(table$coefficients)[check_target_liabilities_soe] <- 'log(liabilities_tot_asset):ownershipPRIVATE'\n",
    "    rownames(table$beta)[check_target_liabilities_soe] <- 'log(liabilities_tot_asset):ownershipPRIVATE'\n",
    "    } else if (length(check_target_current_ratio_tcz) !=0){\n",
    "    \n",
    "    ## TCZ\n",
    "    rownames(table$coefficients)[check_target_current_ratio_tcz] <- 'log(current_ratio):tcz'\n",
    "    rownames(table$beta)[check_target_current_ratio_tcz] <- 'log(current_ratio):tcz'\n",
    "    rownames(table$coefficients)[check_target_liabilities_tcz] <- 'log(liabilities_tot_asset):tcz'\n",
    "    rownames(table$beta)[check_target_liabilities_tcz] <- 'log(liabilities_tot_asset):tcz'\n",
    "    #rownames(table$coefficients)[check_target_cashflow_tcz] <- 'log(cashflow_to_tangible):tcz'\n",
    "    #rownames(table$beta)[check_target_cashflow_tcz] <- 'log(cashflow_to_tangible):tcz'\n",
    "        } else if (length(check_target_current_ratio_spz) !=0){\n",
    "        \n",
    "    ## SPZ\n",
    "    rownames(table$coefficients)[check_target_current_ratio_spz] <- 'log(current_ratio):spz'\n",
    "    rownames(table$beta)[check_target_current_ratio_spz] <- 'log(current_ratio):spz'\n",
    "    rownames(table$coefficients)[check_target_liabilities_spz] <- 'log(liabilities_tot_asset):spz'\n",
    "    rownames(table$beta)[check_target_liabilities_spz] <- 'log(liabilities_tot_asset):spz'\n",
    "    #rownames(table$coefficients)[check_target_cashflow_spz] <- 'log(cashflow_to_tangible):tcz'\n",
    "    #rownames(table$beta)[check_target_cashflow_spz] <- 'log(cashflow_to_tangible):tcz'\n",
    "        }\n",
    "    else if (length(check_target_current_ratio_for) !=0){\n",
    "        \n",
    "    ## for\n",
    "    rownames(table$coefficients)[check_target_current_ratio_for] <- 'log(current_ratio):ownership_adjustedDOMESTIC'\n",
    "    rownames(table$beta)[check_target_current_ratio_for] <- 'log(current_ratio):ownership_adjustedDOMESTIC'\n",
    "    rownames(table$coefficients)[check_target_liabilities_for] <- 'log(liabilities_tot_asset):ownership_adjustedDOMESTIC'\n",
    "    rownames(table$beta)[check_target_liabilities_for] <- 'log(liabilities_tot_asset):ownership_adjustedDOMESTIC'\n",
    "    #rownames(table$coefficients)[check_target_cashflow_spz] <- 'log(cashflow_to_tangible):tcz'\n",
    "    #rownames(table$beta)[check_target_cashflow_spz] <- 'log(cashflow_to_tangible):tcz'\n",
    "        }\n",
    "    return (table)\n",
    "}"
   ]
  },
  {
   "cell_type": "markdown",
   "metadata": {
    "kernel": "SoS"
   },
   "source": [
    "# Load tables\n",
    "\n",
    "Since we load the data as a Pandas DataFrame, we want to pass the `dtypes`. We load the schema from Glue to guess the types\n",
    "\n",
    "R has a hard time importing correctly values with many missing values, so to force R to import `rd_tot_asset` as a float, we use the following trick\n",
    "\n",
    "- `rd_tot_asset` lowest value is -.013. Hence, when `rd_tot_asset` is missing replace by -1000"
   ]
  },
  {
   "cell_type": "code",
   "execution_count": null,
   "metadata": {
    "kernel": "SoS"
   },
   "outputs": [],
   "source": [
    "db = 'firms_survey'\n",
    "table = 'asif_tfp_credit_constraint'"
   ]
  },
  {
   "cell_type": "code",
   "execution_count": null,
   "metadata": {
    "kernel": "SoS"
   },
   "outputs": [],
   "source": [
    "dtypes = {}\n",
    "schema = (glue.get_table_information(database = db,\n",
    "                           table = table)\n",
    "          ['Table']['StorageDescriptor']['Columns']\n",
    "         )\n",
    "for key, value in enumerate(schema):\n",
    "    if value['Type'] in ['varchar(12)']:\n",
    "        format_ = 'string'\n",
    "    elif value['Type'] in ['decimal(21,5)', 'double', 'bigint', 'int', 'float']:\n",
    "        format_ = 'float'\n",
    "    else:\n",
    "        format_ = value['Type'] \n",
    "    dtypes.update(\n",
    "        {value['Name']:format_}\n",
    "    )"
   ]
  },
  {
   "cell_type": "code",
   "execution_count": null,
   "metadata": {
    "kernel": "SoS"
   },
   "outputs": [],
   "source": [
    "download_data = True\n",
    "filename = 'df_{}_rd'.format(table)\n",
    "full_path_filename = 'SQL_OUTPUT_ATHENA/CSV/{}.csv'.format(filename)\n",
    "path_local = os.path.join(str(Path(path).parent.parent.parent), \n",
    "                              \"00_data_catalogue/temporary_local_data\")\n",
    "df_path = os.path.join(path_local, filename + '.csv')\n",
    "if download_data:\n",
    "    \n",
    "    s3 = service_s3.connect_S3(client = client,\n",
    "                          bucket = bucket, verbose = False)\n",
    "    query = \"\"\"\n",
    "    SELECT *,\n",
    "    CASE WHEN rd_tot_asset IS NULL THEN -1000 \n",
    "    WHEN rd_tot_asset < 0 THEN 0\n",
    "    ELSE rd_tot_asset END AS rd_tot_asset_trick\n",
    "    FROM {}.{}\n",
    "    WHERE\n",
    "    cashflow_to_tangible > 0\n",
    "    AND current_ratio > 0\n",
    "    AND liabilities_tot_asset > 0\n",
    "    AND age > 0\n",
    "    AND year in (\n",
    "        '2001', '2002', '2003', '2004', '2005', \n",
    "        '2006', '2007'\n",
    "      )\n",
    "    \"\"\".format(db, table)\n",
    "    df = (s3.run_query(\n",
    "        query=query,\n",
    "        database=db,\n",
    "        s3_output='SQL_OUTPUT_ATHENA',\n",
    "        filename=filename,  # Add filename to print dataframe\n",
    "        destination_key='SQL_OUTPUT_ATHENA/CSV',  #Use it temporarily\n",
    "        dtype = dtypes\n",
    "    )\n",
    "          .assign(\n",
    "              ownership = lambda x: np.where(x['ownership'].isin(['COLLECTIVE']), \"SOE\", x['ownership']),\n",
    "          )\n",
    "          .assign(\n",
    "              ownership = lambda x: np.where(x['ownership'].isin(['HTM']), \"FOREIGN\", x['ownership']),\n",
    "              ownership_adjusted = lambda x: np.where(x['ownership'].isin(['PRIVATE', 'SOE', 'COLLECTIVE']), 'DOMESTIC', 'FOREIGN'),\n",
    "              fe_fo=lambda x: le.fit_transform(x[\"firm\"].astype('str') + x['ownership'])\n",
    "            )\n",
    "        )\n",
    "    #s3.download_file(\n",
    "    #    key = full_path_filename\n",
    "    #)\n",
    "    #shutil.move(\n",
    "    #    filename + '.csv',\n",
    "    #    os.path.join(path_local, filename + '.csv')\n",
    "    #)\n",
    "    #s3.remove_file(full_path_filename)"
   ]
  },
  {
   "cell_type": "code",
   "execution_count": null,
   "metadata": {
    "kernel": "SoS"
   },
   "outputs": [],
   "source": [
    "df.to_csv(df_path, index = False)"
   ]
  },
  {
   "cell_type": "code",
   "execution_count": null,
   "metadata": {
    "kernel": "SoS",
    "nteract": {
     "transient": {
      "deleting": false
     }
    }
   },
   "outputs": [],
   "source": [
    "pd.DataFrame(schema)"
   ]
  },
  {
   "cell_type": "markdown",
   "metadata": {
    "kernel": "SoS",
    "nteract": {
     "transient": {
      "deleting": false
     }
    }
   },
   "source": [
    "## Schema Latex table\n",
    "\n",
    "To rename a variable, please use the following template:\n",
    "\n",
    "```\n",
    "{\n",
    "    'old':'XX',\n",
    "    'new':'XX_1'\n",
    "    }\n",
    "```\n",
    "\n",
    "if you need to pass a latex format with `\\`, you need to duplicate it for instance, `\\text` becomes `\\\\text:\n",
    "\n",
    "```\n",
    "{\n",
    "    'old':'working\\_capital\\_i',\n",
    "    'new':'\\\\text{working capital}_i'\n",
    "    }\n",
    "```\n",
    "\n",
    "Then add it to the key `to_rename`"
   ]
  },
  {
   "cell_type": "code",
   "execution_count": null,
   "metadata": {
    "kernel": "SoS",
    "nteract": {
     "transient": {
      "deleting": false
     }
    }
   },
   "outputs": [],
   "source": [
    "add_to_dic = True\n",
    "if add_to_dic:\n",
    "    if os.path.exists(\"schema_table.json\"):\n",
    "        os.remove(\"schema_table.json\")\n",
    "        data = {'to_rename':[], 'to_remove':[]}\n",
    "    dic_rename =  [\n",
    "        {\n",
    "        'old':'periodTRUE',\n",
    "        'new':'\\\\text{period}'\n",
    "        },\n",
    "        ### depd\n",
    "        {\n",
    "        'old':'total\\_asset',\n",
    "        'new':'\\\\text{total asset}'\n",
    "        },\n",
    "        {\n",
    "        'old':'tangible',\n",
    "        'new':'\\\\text{tangible asset}'\n",
    "        },\n",
    "        {\n",
    "        'old':'investment\\_tot\\_asset',\n",
    "        'new':'\\\\text{investment to asset}'\n",
    "        },\n",
    "        {\n",
    "        'old':'rd\\_tot\\_asset',\n",
    "        'new':'\\\\text{rd to asset}'\n",
    "        },\n",
    "        {\n",
    "        'old':'asset\\_tangibility\\_tot\\_asset',\n",
    "        'new':'\\\\text{asset tangibility}'\n",
    "        },\n",
    "        \n",
    "        ### ind\n",
    "        {\n",
    "        'old':'current\\_ratio',\n",
    "        'new':'\\\\text{current ratio}'\n",
    "        },\n",
    "        {\n",
    "        'old':'lag\\_current\\_ratio',\n",
    "        'new':'\\\\text{current ratio}'\n",
    "        },\n",
    "        {\n",
    "        'old':'quick\\_ratio',\n",
    "        'new':'\\\\text{quick ratio}'\n",
    "        },\n",
    "        {\n",
    "        'old':'lag\\_liabilities\\_tot\\_asset',\n",
    "        'new':'\\\\text{liabilities to asset}'\n",
    "        },\n",
    "        {\n",
    "        'old':'liabilities\\_tot\\_asset',\n",
    "        'new':'\\\\text{liabilities to asset}'\n",
    "        },\n",
    "        {\n",
    "        'old':'sales\\_tot\\_asset',\n",
    "        'new':'\\\\text{sales to asset}'\n",
    "        },\n",
    "        {\n",
    "        'old':'lag\\_sales\\_tot\\_asset',\n",
    "        'new':'\\\\text{sales to asset}'\n",
    "        },\n",
    "        {\n",
    "        'old':'cash\\_tot\\_asset',\n",
    "        'new':'\\\\text{cash to asset}'\n",
    "        },\n",
    "        {\n",
    "        'old':'cashflow\\_tot\\_asset',\n",
    "        'new':'\\\\text{cashflow to asset}'\n",
    "        },\n",
    "        {\n",
    "        'old':'cashflow\\_to\\_tangible',\n",
    "        'new':'\\\\text{cashflow}'\n",
    "        },\n",
    "        {\n",
    "        'old':'lag\\_cashflow\\_to\\_tangible',\n",
    "        'new':'\\\\text{cashflow}'\n",
    "        },\n",
    "        {\n",
    "        'old':'d\\_credit\\_constraintBELOW',\n",
    "        'new':'\\\\text{Fin dep}_{i}'\n",
    "        },\n",
    "        ## control\n",
    "        {\n",
    "        'old':'age + 1',\n",
    "        'new':'\\\\text{age}'\n",
    "        },\n",
    "        {\n",
    "        'old':'export\\_to\\_sale',\n",
    "        'new':'\\\\text{export to sale}'\n",
    "        },\n",
    "        {\n",
    "        'old':'labor\\_capital',\n",
    "        'new':'\\\\text{labor to capital}'\n",
    "        },\n",
    "        ### Supply demand external finance\n",
    "        {\n",
    "        'old':'supply\\_all\\_credit',\n",
    "        'new':'\\\\text{all credit}'\n",
    "        },\n",
    "        {\n",
    "        'old':'supply\\_long\\_term\\_credit',\n",
    "        'new':'\\\\text{long term credit}'\n",
    "        },\n",
    "        {\n",
    "        'old':'credit\\_constraint',\n",
    "        'new':'\\\\text{credit constraint}'\n",
    "        },\n",
    "        {\n",
    "        'old':'soe\\_vs\\_priPRIVATE',\n",
    "        'new':'\\\\text{private}'\n",
    "        },\n",
    "        ## TFP\n",
    "        {\n",
    "        'old':'tfp\\_cit',\n",
    "        'new':'\\\\text{TFP}'\n",
    "        },\n",
    "        {\n",
    "        'old':'ownershipPRIVATE',\n",
    "        'new':'\\\\text{private}'\n",
    "        },\n",
    "        {\n",
    "        'old':'ownership\\_adjustedDOMESTIC',\n",
    "        'new':'\\\\text{domestic}'\n",
    "        },\n",
    "        {\n",
    "        'old':'all\\_loan',\n",
    "        'new':'\\\\text{all credit}'\n",
    "        },\n",
    "        {\n",
    "        'old':'short_term_loan',\n",
    "        'new':'\\\\text{short term credit}'\n",
    "        },\n",
    "        {\n",
    "        'old':'long\\_term\\_loan',\n",
    "        'new':'\\\\text{long term credit}'\n",
    "        }\n",
    "        \n",
    "    ]\n",
    "    \n",
    "\n",
    "    data['to_rename'].extend(dic_rename)\n",
    "    with open('schema_table.json', 'w') as outfile:\n",
    "        json.dump(data, outfile)"
   ]
  },
  {
   "cell_type": "code",
   "execution_count": null,
   "metadata": {
    "kernel": "SoS"
   },
   "outputs": [],
   "source": [
    "import sys\n",
    "sys.path.append(os.path.join(parent_path, 'utils'))\n",
    "import latex.latex_beautify as lb"
   ]
  },
  {
   "cell_type": "code",
   "execution_count": null,
   "metadata": {
    "kernel": "R"
   },
   "outputs": [],
   "source": [
    "options(warn=-1)\n",
    "library(tidyverse)\n",
    "library(lfe)\n",
    "#library(lazyeval)\n",
    "library('progress')\n",
    "path = \"../../../utils/latex/table_golatex.R\"\n",
    "source(path)"
   ]
  },
  {
   "cell_type": "code",
   "execution_count": null,
   "metadata": {
    "kernel": "SoS"
   },
   "outputs": [],
   "source": [
    "query = \"\"\"\n",
    "SELECT year,\n",
    "province_en, \n",
    "1/(total_short_term/total_gdp) as short_term_loan,\n",
    "1/(total_bank_loan/total_gdp) as all_loan,\n",
    "1/(total_long_term_loan/total_gdp) as long_term_loan\n",
    "FROM \"almanac_bank_china\".\"province_loan_and_credit\" \n",
    "\"\"\"\n",
    "df_loan = (\n",
    "    s3.run_query(\n",
    "        query=query,\n",
    "        database=db,\n",
    "        s3_output='SQL_OUTPUT_ATHENA',\n",
    "        filename='loan',  # Add filename to print dataframe\n",
    "        destination_key='SQL_OUTPUT_ATHENA/CSV',  #Use it temporarily\n",
    "    )\n",
    "    .to_csv('temp_loan.csv', index = False)\n",
    ")"
   ]
  },
  {
   "cell_type": "markdown",
   "metadata": {
    "kernel": "SoS"
   },
   "source": [
    "Use short/long term by year instead of average over time"
   ]
  },
  {
   "cell_type": "code",
   "execution_count": null,
   "metadata": {
    "kernel": "R"
   },
   "outputs": [],
   "source": [
    "%get df_path\n",
    "df_final <- read_csv(df_path) %>%\n",
    "mutate_if(is.character, as.factor) %>%\n",
    "    mutate_at(vars(starts_with(\"fe\")), as.factor) %>%\n",
    "mutate(\n",
    "#    period = relevel(as.factor(period), ref='FALSE'),\n",
    "    d_credit_constraint = relevel(as.factor(d_credit_constraint), ref='BELOW'),\n",
    "    ownership = relevel(as.factor(ownership), ref='SOE'),\n",
    "    ownership_adjusted = relevel(as.factor(ownership_adjusted), ref='FOREIGN')\n",
    ") %>% left_join(read_csv('temp_loan.csv'))\n",
    "dim(df_final)"
   ]
  },
  {
   "cell_type": "code",
   "execution_count": null,
   "metadata": {
    "kernel": "R"
   },
   "outputs": [],
   "source": [
    "glimpse(df_final)"
   ]
  },
  {
   "cell_type": "markdown",
   "metadata": {
    "kernel": "SoS"
   },
   "source": [
    "## Table 1: Channel of transmission: Asset accumulation\n",
    "\n",
    "$$\n",
    "\\begin{aligned}\n",
    "\\text { (Asset) }_{i t}= \\beta_{1}\\text {Cash flow}_{fit}+\\beta_{2}\\text {Current ratio}_{fit}+\\beta_{3}\\text {liabilities to asset}_{fit} + \\beta_{4}\\text {X}_{fit} +\\epsilon_{fit}\n",
    "\\end{aligned}\n",
    "$$\n",
    "\n",
    "* Column 1: tangible to total asset\n",
    "    * FE: \n",
    "        - fe 1: `firm`\n",
    "        - fe 2: `industry-year`\n",
    "* Column 2: RD to total asset\n",
    "    * FE: \n",
    "        - fe 1: `firm`\n",
    "        - fe 2: `industry-year`\n",
    "        \n",
    "**var of interest**\n",
    "\n",
    "- `cashflow_to_tangible``\n",
    "- `current_ratio`\n",
    "- `liabilities_tot_asset`\n",
    "        \n",
    "**Control**\n",
    "\n",
    "- `Sales/Assets` \n",
    "- `age`\n",
    "- `export_to_sale` \n",
    "\n",
    "\n",
    "All explanatory variables are lagged one year."
   ]
  },
  {
   "cell_type": "code",
   "execution_count": null,
   "metadata": {
    "kernel": "SoS",
    "nteract": {
     "transient": {
      "deleting": false
     }
    }
   },
   "outputs": [],
   "source": [
    "folder = 'Tables_1'\n",
    "table_nb = 10\n",
    "table = 'table_{}'.format(table_nb)\n",
    "path = os.path.join(folder, table + '.txt')\n",
    "if os.path.exists(folder) == False:\n",
    "        os.mkdir(folder)\n",
    "try:\n",
    "    for ext in ['table_{}.txt'.format(table_nb), 'table_{}.tex'.format(table_nb), 'table_{}.pdf'.format(table_nb)]:\n",
    "        os.remove(os.path.join(folder, ext))\n",
    "except:\n",
    "    pass"
   ]
  },
  {
   "cell_type": "markdown",
   "metadata": {
    "kernel": "SoS"
   },
   "source": [
    "Need to add `%>% filter(!is.na(labor_capital))` to have the same number of observartions as TFP table"
   ]
  },
  {
   "cell_type": "code",
   "execution_count": null,
   "metadata": {
    "kernel": "R"
   },
   "outputs": [],
   "source": [
    "change_target <- function(table){\n",
    "    ## SOE\n",
    "    check_target_current_ratio_soe <- grep(\"log\\\\(cashflow_to_tangible\\\\):d_credit_constraintBELOW\", rownames(table$coef))\n",
    "    check_target_liabilities_soe <- grep(\"log\\\\(current_ratio\\\\):d_credit_constraint1ABOVE\", rownames(table$coef))\n",
    "    \n",
    "    check_target_current_ratio_soe1 <- grep(\"log\\\\(cashflow_to_tangible\\\\):d_credit_constraintABOVE\", rownames(table$coef))\n",
    "    check_target_liabilities_soe1 <- grep(\"d_credit_constraintABOVE:log\\\\(current_ratio\\\\)\", rownames(table$coef))\n",
    "\n",
    "\n",
    "    \n",
    "    if (length(check_target_current_ratio_soe) !=0) {\n",
    "    ## SOE\n",
    "    rownames(table$coefficients)[check_target_current_ratio_soe] <- 'log(current_ratio):credit_constraint'\n",
    "    rownames(table$beta)[check_target_current_ratio_soe] <- 'log(current_ratio):credit_constraint'\n",
    "    rownames(table$coefficients)[check_target_liabilities_soe] <- 'log(liabilities_tot_asset):credit_constraint'\n",
    "    rownames(table$beta)[check_target_liabilities_soe] <- 'log(liabilities_tot_asset):credit_constraint'\n",
    "        \n",
    "    \n",
    "    }\n",
    "    \n",
    "    if (length(check_target_current_ratio_soe1) !=0) {\n",
    "        rownames(table$coefficients)[check_target_current_ratio_soe1] <- 'log(current_ratio):credit_constraint'\n",
    "    rownames(table$beta)[check_target_current_ratio_soe1] <- 'log(current_ratio):credit_constraint'\n",
    "    rownames(table$coefficients)[check_target_liabilities_soe1] <- 'log(liabilities_tot_asset):credit_constraint'\n",
    "    rownames(table$beta)[check_target_liabilities_soe1] <- 'log(liabilities_tot_asset):credit_constraint'\n",
    "        }\n",
    "    \n",
    "\n",
    "    return (table)\n",
    "}"
   ]
  },
  {
   "cell_type": "code",
   "execution_count": null,
   "metadata": {
    "kernel": "R"
   },
   "outputs": [],
   "source": [
    "dim(df_final %>% filter(!is.na(d_credit_constraint))%>% filter(!is.na(labor_capital)))"
   ]
  },
  {
   "cell_type": "code",
   "execution_count": null,
   "metadata": {
    "kernel": "R"
   },
   "outputs": [],
   "source": [
    "%get path table\n",
    "t_0 <- felm(log(asset_tangibility_tot_asset) ~\n",
    "            log(cashflow_to_tangible) +\n",
    "            log(current_ratio) +\n",
    "            log(liabilities_tot_asset) +\n",
    "            log(age) +\n",
    "            export_to_sale \n",
    "            | firm + year + indu_2|0 | firm,df_final %>% \n",
    "            #filter(!is.na(d_credit_constraint))%>% \n",
    "            filter(!is.na(labor_capital)),\n",
    "            exactDOF = TRUE)\n",
    "\n",
    "t_1 <- felm(rd_tot_asset_trick ~\n",
    "            log(cashflow_to_tangible) +\n",
    "            log(current_ratio) +\n",
    "            log(liabilities_tot_asset) +\n",
    "            log(age) +\n",
    "            export_to_sale \n",
    "            | firm + year + indu_2|0 | firm,df_final %>% \n",
    "            filter(year %in% list(\"2005\",\"2006\", \"2007\"))%>% \n",
    "            #filter(!is.na(d_credit_constraint))%>% \n",
    "            filter(!is.na(labor_capital)),\n",
    "            exactDOF = TRUE)\n",
    "\n",
    "## All credits\n",
    "t_2 <- felm(log(asset_tangibility_tot_asset) ~\n",
    "            log(cashflow_to_tangible) +\n",
    "            log(current_ratio) +\n",
    "            log(liabilities_tot_asset) +\n",
    "            log(age) +\n",
    "            export_to_sale +\n",
    "            all_loan\n",
    "            | firm + year + indu_2|0 | firm,df_final %>% \n",
    "            #filter(!is.na(d_credit_constraint))%>% \n",
    "            filter(!is.na(labor_capital)),\n",
    "            exactDOF = TRUE)\n",
    "\n",
    "t_3 <- felm(rd_tot_asset_trick ~\n",
    "            log(cashflow_to_tangible) +\n",
    "            log(current_ratio) +\n",
    "            log(liabilities_tot_asset) +\n",
    "            log(age) +\n",
    "            export_to_sale +\n",
    "            all_loan\n",
    "            |firm + year + indu_2|0 | firm,df_final %>% \n",
    "            filter(year %in% list(\"2005\",\"2006\", \"2007\"))%>% \n",
    "            #filter(!is.na(d_credit_constraint))%>% \n",
    "            filter(!is.na(labor_capital)),\n",
    "            exactDOF = TRUE)\n",
    "\n",
    "## LT credit\n",
    "t_4 <- felm(log(asset_tangibility_tot_asset) ~\n",
    "            log(cashflow_to_tangible) +\n",
    "            log(current_ratio) +\n",
    "            log(liabilities_tot_asset) +\n",
    "            log(age) +\n",
    "            export_to_sale +\n",
    "            long_term_loan\n",
    "            | firm + year + indu_2|0 | firm,df_final %>% \n",
    "            #filter(!is.na(d_credit_constraint))%>% \n",
    "            filter(!is.na(labor_capital)),\n",
    "            exactDOF = TRUE)\n",
    "\n",
    "t_5 <- felm(rd_tot_asset_trick ~\n",
    "            log(cashflow_to_tangible) +\n",
    "            log(current_ratio) +\n",
    "            log(liabilities_tot_asset) +\n",
    "            log(age) +\n",
    "            export_to_sale +\n",
    "            long_term_loan\n",
    "            |firm + indu_2 + year|0 | firm,df_final %>% \n",
    "            filter(year %in% list(\"2005\",\"2006\", \"2007\"))%>% \n",
    "            #filter(!is.na(d_credit_constraint))%>% \n",
    "            filter(!is.na(labor_capital)),\n",
    "            exactDOF = TRUE)\n",
    "        \n",
    "dep <- \"Dependent variable\"\n",
    "fe1 <- list(\n",
    "    c(\"firm\", \"Yes\", \"Yes\", \"Yes\", \"Yes\", \"Yes\", \"Yes\", \"Yes\", \"Yes\"),\n",
    "    c(\"industry\", \"Yes\", \"Yes\", \"Yes\", \"Yes\", \"Yes\", \"Yes\", \"Yes\", \"Yes\"),\n",
    "    c(\"year\", \"Yes\", \"Yes\", \"Yes\", \"Yes\", \"Yes\", \"Yes\", \"Yes\", \"Yes\")\n",
    "             )\n",
    "\n",
    "table_1 <- go_latex(list(\n",
    "    t_0,t_1, t_2, t_3, t_4, t_5#, t_6,t_7\n",
    "),\n",
    "    title=\"Asset structure (tangible versus intangible) and internal finance\",\n",
    "    dep_var = dep,\n",
    "    addFE=fe1,\n",
    "    save=TRUE,\n",
    "    note = FALSE,\n",
    "    name=path\n",
    ") "
   ]
  },
  {
   "cell_type": "code",
   "execution_count": null,
   "metadata": {
    "kernel": "SoS"
   },
   "outputs": [],
   "source": [
    "tbe1  = \"This table estimates equation XX. \" \\\n",
    "\"Independent variable cash flow is measured as net income + depreciation over asset; \" \\\n",
    "\"current ratio is measured as current asset over current liabilities. \" \\\n",
    "\"Credit supply (all and long term) is measured by taking the average bank loan to GDP ratio by province (2001–2007). \" \\\n",
    "\"Financial dependency is the share of capital expenditure not financed with cash flow from operations. \" \\\n",
    "\"Heteroskedasticity-robust standard errors clustered at the firm level appear in parentheses. \" \\\n",
    "\"\\sym{*} Significance at the 10\\%, \\sym{**} Significance at the 5\\%, \\sym{***} Significance at the 1\\%. \" \n",
    "\n",
    "#multi_lines_dep = '(city/product/trade regime/year)'\n",
    "new_r = ['& Tangible to asset', 'RD', 'Tangible to asset', 'RD', 'Tangible to asset', 'RD']\n",
    "lb.beautify(table_number = table_nb,\n",
    "            #reorder_var = reorder,\n",
    "            #multi_lines_dep = multi_lines_dep,\n",
    "            new_row= new_r,\n",
    "            #multicolumn = multicolumn,\n",
    "            table_nte = tbe1,\n",
    "            jupyter_preview = True,\n",
    "            resolution = 200,\n",
    "            folder = folder)"
   ]
  },
  {
   "cell_type": "code",
   "execution_count": null,
   "metadata": {
    "kernel": "SoS"
   },
   "outputs": [],
   "source": [
    "os.rename('Tables_1/{}.tex'.format(table), 'Tables_1/{}_ASSET.tex'.format(table))"
   ]
  },
  {
   "cell_type": "code",
   "execution_count": null,
   "metadata": {
    "kernel": "SoS"
   },
   "outputs": [],
   "source": [
    "folder = 'Tables_1'\n",
    "table_nb = 10\n",
    "table = 'table_{}'.format(table_nb)\n",
    "path = os.path.join(folder, table + '.txt')\n",
    "if os.path.exists(folder) == False:\n",
    "        os.mkdir(folder)\n",
    "try:\n",
    "    for ext in ['table_{}.txt'.format(table_nb), 'table_{}.tex'.format(table_nb), 'table_{}.pdf'.format(table_nb)]:\n",
    "        os.remove(os.path.join(folder, ext))\n",
    "except:\n",
    "    pass"
   ]
  },
  {
   "cell_type": "code",
   "execution_count": null,
   "metadata": {
    "kernel": "R"
   },
   "outputs": [],
   "source": [
    "%get path table\n",
    "t_0 <- felm(log(asset_tangibility_tot_asset) ~\n",
    "            log(cashflow_to_tangible) * d_credit_constraint +\n",
    "            log(current_ratio) * d_credit_constraint1+\n",
    "            log(liabilities_tot_asset) +\n",
    "            log(age) +\n",
    "            export_to_sale \n",
    "            | firm + year + indu_2|0 ,df_final %>% \n",
    "            #filter(!is.na(d_credit_constraint))%>% \n",
    "            filter(!is.na(labor_capital)) %>%\n",
    "             mutate(d_credit_constraint = ifelse(\n",
    "                credit_constraint > -0.44, \"ABOVE\",\"BELOW\"\n",
    "            )) %>%\n",
    "             mutate(d_credit_constraint = replace_na(d_credit_constraint, 'BELOW')) %>%\n",
    "             mutate(\n",
    "                 d_credit_constraint1 = relevel(as.factor(d_credit_constraint), ref='BELOW')\n",
    "             ),\n",
    "            exactDOF = TRUE)\n",
    "t_0 <- change_target(t_0)\n",
    "t_1 <- felm(rd_tot_asset_trick ~\n",
    "            log(cashflow_to_tangible) * d_credit_constraint +\n",
    "            log(current_ratio) * d_credit_constraint1+\n",
    "            log(liabilities_tot_asset) +\n",
    "            log(age) +\n",
    "            export_to_sale \n",
    "            | firm + year + indu_2|0 ,df_final %>% \n",
    "            filter(year %in% list(\"2005\",\"2006\", \"2007\"))%>%\n",
    "            filter(!is.na(labor_capital))%>% \n",
    "             mutate(d_credit_constraint = ifelse(\n",
    "                credit_constraint > -0.44, \"ABOVE\",\"BELOW\"\n",
    "            )) %>%\n",
    "            mutate(d_credit_constraint = replace_na(d_credit_constraint, 'BELOW')) %>%\n",
    "             mutate(\n",
    "                 d_credit_constraint1 = relevel(as.factor(d_credit_constraint), ref='BELOW')\n",
    "             ),\n",
    "            exactDOF = TRUE)\n",
    "t_1 <- change_target(t_1)\n",
    "## All credits\n",
    "t_2 <- felm(log(asset_tangibility_tot_asset) ~\n",
    "            log(cashflow_to_tangible) * d_credit_constraint +\n",
    "            log(current_ratio) * d_credit_constraint1+\n",
    "            log(liabilities_tot_asset) +\n",
    "            log(age) +\n",
    "            export_to_sale +\n",
    "            all_loan\n",
    "            | firm + year + indu_2|0 ,df_final %>% \n",
    "            #filter(!is.na(d_credit_constraint)) %>% \n",
    "            filter(!is.na(labor_capital)) %>%\n",
    "             mutate(d_credit_constraint = ifelse(\n",
    "                credit_constraint > -0.44, \"ABOVE\",\"BELOW\"\n",
    "            )) %>%\n",
    "            mutate(d_credit_constraint = replace_na(d_credit_constraint, 'BELOW')) %>%\n",
    "             mutate(\n",
    "                 d_credit_constraint1 = relevel(as.factor(d_credit_constraint), ref='BELOW')\n",
    "             ),\n",
    "            exactDOF = TRUE)\n",
    "t_2 <- change_target(t_2)\n",
    "t_3 <- felm(rd_tot_asset_trick ~\n",
    "            log(cashflow_to_tangible) * d_credit_constraint +\n",
    "            log(current_ratio) * d_credit_constraint1+\n",
    "            log(liabilities_tot_asset) +\n",
    "            log(age) +\n",
    "            export_to_sale +\n",
    "            all_loan\n",
    "            |firm + year + indu_2|0 ,df_final %>% \n",
    "            filter(year %in% list(\"2005\",\"2006\", \"2007\"))%>% \n",
    "            filter(!is.na(labor_capital))%>% \n",
    "             mutate(d_credit_constraint = ifelse(\n",
    "                credit_constraint > -0.44, \"ABOVE\",\"BELOW\"\n",
    "            )) %>%\n",
    "            mutate(d_credit_constraint = replace_na(d_credit_constraint, 'BELOW')) %>%\n",
    "             mutate(\n",
    "                 d_credit_constraint1 = relevel(as.factor(d_credit_constraint), ref='BELOW')\n",
    "             ),\n",
    "            exactDOF = TRUE)\n",
    "t_3 <- change_target(t_3)\n",
    "## LT credit\n",
    "t_4 <- felm(log(asset_tangibility_tot_asset) ~\n",
    "            log(cashflow_to_tangible) * d_credit_constraint +\n",
    "            log(current_ratio) * d_credit_constraint1+\n",
    "            log(liabilities_tot_asset) +\n",
    "            log(age) +\n",
    "            export_to_sale +\n",
    "            long_term_loan\n",
    "            | firm + year + indu_2|0 ,df_final %>% \n",
    "            #filter(!is.na(d_credit_constraint))%>% \n",
    "            filter(!is.na(labor_capital)) %>%\n",
    "             mutate(d_credit_constraint = ifelse(\n",
    "                credit_constraint > -0.44, \"ABOVE\",\"BELOW\"\n",
    "            )) %>%\n",
    "             mutate(d_credit_constraint = replace_na(d_credit_constraint, 'BELOW')) %>%\n",
    "             mutate(\n",
    "                 d_credit_constraint1 = relevel(as.factor(d_credit_constraint), ref='BELOW')\n",
    "             ),\n",
    "            exactDOF = TRUE)\n",
    "t_4 <- change_target(t_4)\n",
    "t_5 <- felm(rd_tot_asset_trick ~\n",
    "            log(cashflow_to_tangible) * d_credit_constraint +\n",
    "            log(current_ratio) * d_credit_constraint1+\n",
    "            log(liabilities_tot_asset) +\n",
    "            log(age) +\n",
    "            export_to_sale +\n",
    "            long_term_loan\n",
    "            |firm + indu_2 + year|0 ,df_final %>% \n",
    "            filter(year %in% list(\"2005\",\"2006\", \"2007\"))%>% \n",
    "            filter(!is.na(labor_capital))%>% \n",
    "             mutate(d_credit_constraint = ifelse(\n",
    "                credit_constraint > -0.44, \"ABOVE\",\"BELOW\"\n",
    "            )) %>%\n",
    "            mutate(d_credit_constraint = replace_na(d_credit_constraint, 'BELOW')) %>%\n",
    "             mutate(\n",
    "                 d_credit_constraint1 = relevel(as.factor(d_credit_constraint), ref='BELOW')\n",
    "             ),\n",
    "            exactDOF = TRUE)\n",
    "t_5 <- change_target(t_5)     \n",
    "dep <- \"Dependent variable\"\n",
    "fe1 <- list(\n",
    "    c(\"firm\", \"Yes\", \"Yes\", \"Yes\", \"Yes\", \"Yes\", \"Yes\", \"Yes\", \"Yes\"),\n",
    "    c(\"industry\", \"Yes\", \"Yes\", \"Yes\", \"Yes\", \"Yes\", \"Yes\", \"Yes\", \"Yes\"),\n",
    "    c(\"year\", \"Yes\", \"Yes\", \"Yes\", \"Yes\", \"Yes\", \"Yes\", \"Yes\", \"Yes\")\n",
    "             )\n",
    "\n",
    "table_1 <- go_latex(list(\n",
    "    t_0,t_1, t_2, t_3, t_4, t_5#, t_6,t_7\n",
    "),\n",
    "    title=\"Asset structure (tangible versus intangible) and internal finance\",\n",
    "    dep_var = dep,\n",
    "    addFE=fe1,\n",
    "    save=TRUE,\n",
    "    note = FALSE,\n",
    "    name=path\n",
    ") "
   ]
  },
  {
   "cell_type": "code",
   "execution_count": null,
   "metadata": {
    "kernel": "SoS"
   },
   "outputs": [],
   "source": [
    "tbe1  = \"This table estimates equation XX. \" \\\n",
    "\"Independent variable cash flow is measured as net income + depreciation over asset; \" \\\n",
    "\"current ratio is measured as current asset over current liabilities. \" \\\n",
    "\"Credit supply (all and long term) is measured by taking the average bank loan to GDP ratio by province (2001–2007). \" \\\n",
    "\"Financial dependency is the share of capital expenditure not financed with cash flow from operations. \" \\\n",
    "\"Heteroskedasticity-robust standard errors clustered at the firm level appear in parentheses. \" \\\n",
    "\"\\sym{*} Significance at the 10\\%, \\sym{**} Significance at the 5\\%, \\sym{***} Significance at the 1\\%. \" \n",
    "\n",
    "#multi_lines_dep = '(city/product/trade regime/year)'\n",
    "new_r = ['& Tangible to asset', 'RD', 'Tangible to asset', 'RD', 'Tangible to asset', 'RD']\n",
    "lb.beautify(table_number = table_nb,\n",
    "            #reorder_var = reorder,\n",
    "            #multi_lines_dep = multi_lines_dep,\n",
    "            new_row= new_r,\n",
    "            #multicolumn = multicolumn,\n",
    "            table_nte = tbe1,\n",
    "            jupyter_preview = True,\n",
    "            resolution = 200,\n",
    "            folder = folder)"
   ]
  },
  {
   "cell_type": "code",
   "execution_count": null,
   "metadata": {
    "kernel": "SoS"
   },
   "outputs": [],
   "source": [
    "os.rename('Tables_1/{}.tex'.format(table), 'Tables_1/{}_ASSET_CONSTRAINT.tex'.format(table))"
   ]
  },
  {
   "cell_type": "markdown",
   "metadata": {
    "kernel": "SoS"
   },
   "source": [
    "## Table 2: Ownership structure effect"
   ]
  },
  {
   "cell_type": "markdown",
   "metadata": {
    "kernel": "SoS"
   },
   "source": [
    "## SOE vs Private\n",
    "\n",
    "Manually rename tex: table_11_SOE"
   ]
  },
  {
   "cell_type": "code",
   "execution_count": null,
   "metadata": {
    "kernel": "SoS"
   },
   "outputs": [],
   "source": [
    "folder = 'Tables_1'\n",
    "table_nb = 11\n",
    "table = 'table_{}'.format(table_nb)\n",
    "path = os.path.join(folder, table + '.txt')\n",
    "if os.path.exists(folder) == False:\n",
    "        os.mkdir(folder)\n",
    "\n",
    "try:\n",
    "    for ext in ['table_{}.txt'.format(table_nb), 'table_{}.tex'.format(table_nb), 'table_{}.pdf'.format(table_nb)]:\n",
    "        os.remove(os.path.join(folder, ext))\n",
    "except:\n",
    "    pass"
   ]
  },
  {
   "cell_type": "code",
   "execution_count": null,
   "metadata": {
    "kernel": "R"
   },
   "outputs": [],
   "source": [
    "%get path table\n",
    "t_4 <- felm(log(asset_tangibility_tot_asset) ~\n",
    "            log(cashflow_to_tangible) * ownership+\n",
    "            log(current_ratio) * ownership+\n",
    "            log(liabilities_tot_asset) +\n",
    "            log(age) +\n",
    "            export_to_sale \n",
    "            | fe_fo + year + indu_2|0 | firm,df_final %>%\n",
    "            mutate(ownership = replace(ownership, ownership %in% c('FOREIGN', 'HTM'), 'PRIVATE'))%>% \n",
    "            filter(\n",
    "            ownership %in% c('SOE','PRIVATE'))%>% \n",
    "            #filter(!is.na(d_credit_constraint))%>% \n",
    "            filter(!is.na(labor_capital)),\n",
    "            exactDOF = TRUE)\n",
    "t_4 <- change_target(t_4)\n",
    "t_5 <- felm(rd_tot_asset_trick ~\n",
    "            log(cashflow_to_tangible)* ownership +\n",
    "            log(current_ratio) * ownership+\n",
    "            log(liabilities_tot_asset) +\n",
    "            log(age) +\n",
    "            export_to_sale \n",
    "            | fe_fo + year + indu_2|0 | firm,df_final %>%\n",
    "            mutate(ownership = replace(ownership, ownership %in% c('FOREIGN', 'HTM'), 'PRIVATE'))%>% \n",
    "            filter(\n",
    "                year %in% list(\"2005\",\"2006\", \"2007\") & \n",
    "            ownership %in% c('SOE','PRIVATE'))%>% \n",
    "            #filter(!is.na(d_credit_constraint))%>% \n",
    "            filter(!is.na(labor_capital)),\n",
    "            exactDOF = TRUE)\n",
    "t_5 <- change_target(t_5)\n",
    "\n",
    "###\n",
    "t_6 <- felm(log(asset_tangibility_tot_asset) ~\n",
    "            log(cashflow_to_tangible) * ownership+\n",
    "            log(current_ratio) * ownership+\n",
    "            log(liabilities_tot_asset) +\n",
    "            log(age) +\n",
    "            export_to_sale +\n",
    "            all_loan\n",
    "            | fe_fo + year + indu_2|0 | firm,df_final %>%\n",
    "            mutate(ownership = replace(ownership, ownership %in% c('FOREIGN', 'HTM'), 'PRIVATE'))%>% \n",
    "            filter(\n",
    "            ownership %in% c('SOE','PRIVATE'))%>% \n",
    "            #filter(!is.na(d_credit_constraint))%>% \n",
    "            filter(!is.na(labor_capital)),\n",
    "            exactDOF = TRUE)\n",
    "t_6 <- change_target(t_6)\n",
    "t_7 <- felm(rd_tot_asset_trick ~\n",
    "            log(cashflow_to_tangible)* ownership +\n",
    "            log(current_ratio) * ownership+\n",
    "            log(liabilities_tot_asset) +\n",
    "           log(age) +\n",
    "            export_to_sale +\n",
    "            all_loan\n",
    "            | fe_fo + year + indu_2|0 | firm,df_final %>%\n",
    "            mutate(ownership = replace(ownership, ownership %in% c('FOREIGN', 'HTM'), 'PRIVATE'))%>% \n",
    "            filter(\n",
    "                year %in% list(\"2005\",\"2006\", \"2007\") & \n",
    "            ownership %in% c('SOE','PRIVATE'))%>% \n",
    "            #filter(!is.na(d_credit_constraint))%>% \n",
    "            filter(!is.na(labor_capital)),\n",
    "            exactDOF = TRUE)\n",
    "t_7 <- change_target(t_7)\n",
    "t_8 <- felm(log(asset_tangibility_tot_asset) ~\n",
    "            log(cashflow_to_tangible) * ownership+\n",
    "            log(current_ratio) * ownership+\n",
    "            log(liabilities_tot_asset) +\n",
    "            log(age) +\n",
    "            export_to_sale +\n",
    "            long_term_loan\n",
    "            | fe_fo + year + indu_2|0 | firm,df_final %>%\n",
    "            mutate(ownership = replace(ownership, ownership %in% c('FOREIGN', 'HTM'), 'PRIVATE'))%>% \n",
    "            filter(\n",
    "            ownership %in% c('SOE','PRIVATE'))%>% \n",
    "            #filter(!is.na(d_credit_constraint))%>% \n",
    "            filter(!is.na(labor_capital)),\n",
    "            exactDOF = TRUE)\n",
    "t_8 <- change_target(t_8)\n",
    "t_9 <- felm(rd_tot_asset_trick ~\n",
    "            log(cashflow_to_tangible)* ownership +\n",
    "           log(current_ratio) * ownership+\n",
    "            log(liabilities_tot_asset) +\n",
    "            log(age) +\n",
    "            export_to_sale +\n",
    "            long_term_loan\n",
    "            | fe_fo + year + indu_2|0 | firm,df_final %>%\n",
    "            mutate(ownership = replace(ownership, ownership %in% c('FOREIGN', 'HTM'), 'PRIVATE'))%>% \n",
    "            filter(\n",
    "                year %in% list(\"2005\",\"2006\", \"2007\") & \n",
    "            ownership %in% c('SOE','PRIVATE'))%>% \n",
    "            #filter(!is.na(d_credit_constraint))%>% \n",
    "            filter(!is.na(labor_capital)),\n",
    "            exactDOF = TRUE)\n",
    "t_9 <- change_target(t_9)\n",
    "\n",
    "dep <- \"Dependent variable\"\n",
    "fe1 <- list(\n",
    "    c(\"firm-ownership\", \"Yes\", \"Yes\", \"Yes\", \"Yes\", \"Yes\", \"Yes\", \"Yes\", \"Yes\", \"Yes\", \"Yes\"),\n",
    "    c(\"industry\", \"Yes\", \"Yes\", \"Yes\", \"Yes\", \"Yes\", \"Yes\", \"Yes\", \"Yes\", \"Yes\", \"Yes\"),\n",
    "    c(\"year\", \"Yes\", \"Yes\", \"Yes\", \"Yes\", \"Yes\", \"Yes\", \"Yes\", \"Yes\", \"Yes\", \"Yes\")\n",
    "             )\n",
    "\n",
    "table_1 <- go_latex(list(\n",
    "    #t_0, t_1, t_2, t_3, \n",
    "    t_4,t_5, t_6, t_7, t_8, t_9\n",
    "),\n",
    "    title=\"Asset structure (tangible versus intangible) and internal finance\",\n",
    "    dep_var = dep,\n",
    "    addFE=fe1,\n",
    "    save=TRUE,\n",
    "    note = FALSE,\n",
    "    name=path\n",
    ") \n"
   ]
  },
  {
   "cell_type": "code",
   "execution_count": null,
   "metadata": {
    "kernel": "SoS"
   },
   "outputs": [],
   "source": [
    "tbe1  = \"This table estimates eq(X). \" \\\n",
    "\"Heteroskedasticity-robust standard errors\" \\\n",
    "\"clustered at the firm level appear inparentheses.\"\\\n",
    "\"Dependent variables include firm's TFP level \" \\\n",
    "\" Independent variable cashflow is measured as net income + depreciation over asset;\"\\\n",
    "\" current ratio is measured as current asset over current liabilities. \" \\\n",
    "\"\\sym{*} Significance at the 10\\%, \\sym{**} Significance at the 5\\%, \\sym{***} Significance at the 1\\%.\"\n",
    "\n",
    "reorder = {\n",
    "    7:1,\n",
    "    8:3,\n",
    "    #13:5\n",
    "}\n",
    "\n",
    "#multi_lines_dep = '(city/product/trade regime/year)'\n",
    "new_r = ['& Tangible to asset', 'RD', 'Tangible to asset', 'RD', 'Tangible to asset', 'RD']\n",
    "lb.beautify(table_number = table_nb,\n",
    "            #reorder_var = reorder,\n",
    "            #multi_lines_dep = multi_lines_dep,\n",
    "            new_row= new_r,\n",
    "            #multicolumn = multicolumn,\n",
    "            table_nte = tbe1,\n",
    "            jupyter_preview = True,\n",
    "            resolution = 200,\n",
    "            folder = folder)"
   ]
  },
  {
   "cell_type": "code",
   "execution_count": null,
   "metadata": {
    "kernel": "SoS"
   },
   "outputs": [],
   "source": [
    "os.rename('Tables_1/{}.tex'.format(table), 'Tables_1/{}_SOE.tex'.format(table))"
   ]
  },
  {
   "cell_type": "markdown",
   "metadata": {
    "kernel": "SoS"
   },
   "source": [
    "## Domestic vs Foreign\n",
    "\n",
    "- table_13_DOMESTIC.tex"
   ]
  },
  {
   "cell_type": "code",
   "execution_count": null,
   "metadata": {
    "kernel": "SoS"
   },
   "outputs": [],
   "source": [
    "folder = 'Tables_1'\n",
    "table_nb = 12\n",
    "table = 'table_{}'.format(table_nb)\n",
    "path = os.path.join(folder, table + '.txt')\n",
    "if os.path.exists(folder) == False:\n",
    "        os.mkdir(folder)\n",
    "\n",
    "try:\n",
    "    for ext in ['table_{}.txt'.format(table_nb), 'table_{}.tex'.format(table_nb), 'table_{}.pdf'.format(table_nb)]:\n",
    "        os.remove(os.path.join(folder, ext))\n",
    "except:\n",
    "    pass"
   ]
  },
  {
   "cell_type": "code",
   "execution_count": null,
   "metadata": {
    "kernel": "R"
   },
   "outputs": [],
   "source": [
    "%get path table\n",
    "t_4 <- felm(log(asset_tangibility_tot_asset) ~\n",
    "            log(cashflow_to_tangible) * ownership_adjusted+\n",
    "            log(current_ratio) * ownership_adjusted+\n",
    "            log(liabilities_tot_asset) +\n",
    "            log(age) +\n",
    "            export_to_sale \n",
    "            | fe_fo + year + indu_2|0 | firm,df_final %>% \n",
    "            filter(\n",
    "            ownership_adjusted %in% c('DOMESTIC','FOREIGN'))%>% \n",
    "            #filter(!is.na(d_credit_constraint))%>% \n",
    "            filter(!is.na(labor_capital)),\n",
    "            exactDOF = TRUE)\n",
    "t_4 <- change_target(t_4)\n",
    "t_5 <- felm(rd_tot_asset_trick ~\n",
    "            log(cashflow_to_tangible)* ownership_adjusted +\n",
    "            log(current_ratio) * ownership_adjusted+\n",
    "            log(liabilities_tot_asset) +\n",
    "            log(age) +\n",
    "            export_to_sale \n",
    "            | fe_fo + year + indu_2|0 | firm,df_final %>% \n",
    "            filter(\n",
    "            ownership_adjusted %in% c('DOMESTIC','FOREIGN') &\n",
    "            year %in% list(\"2005\",\"2006\", \"2007\"))%>% \n",
    "            #filter(!is.na(d_credit_constraint))%>% \n",
    "            filter(!is.na(labor_capital)),\n",
    "            exactDOF = TRUE)\n",
    "t_5 <- change_target(t_5)\n",
    "\n",
    "###\n",
    "t_6 <- felm(log(asset_tangibility_tot_asset) ~\n",
    "            log(cashflow_to_tangible) * ownership_adjusted+\n",
    "            log(current_ratio) * ownership_adjusted+\n",
    "            log(liabilities_tot_asset) +\n",
    "            log(age) +\n",
    "            export_to_sale +\n",
    "            all_loan\n",
    "            | fe_fo + year + indu_2|0 | firm,df_final %>% \n",
    "            filter(\n",
    "            ownership_adjusted %in% c('DOMESTIC','FOREIGN'))%>% \n",
    "            #filter(!is.na(d_credit_constraint))%>% \n",
    "            filter(!is.na(labor_capital)),\n",
    "            exactDOF = TRUE)\n",
    "t_6 <- change_target(t_6)\n",
    "t_7 <- felm(rd_tot_asset_trick ~\n",
    "            log(cashflow_to_tangible)* ownership_adjusted +\n",
    "            log(current_ratio) * ownership_adjusted+\n",
    "            log(liabilities_tot_asset) +\n",
    "            log(age) +\n",
    "            export_to_sale +\n",
    "            all_loan\n",
    "            | fe_fo + year + indu_2|0 | firm,df_final %>%\n",
    "            filter(\n",
    "            ownership_adjusted %in% c('DOMESTIC','FOREIGN') &\n",
    "            year %in% list(\"2005\",\"2006\", \"2007\"))%>% \n",
    "            #filter(!is.na(d_credit_constraint))%>% \n",
    "            filter(!is.na(labor_capital)),\n",
    "            exactDOF = TRUE)\n",
    "t_7 <- change_target(t_7)\n",
    "t_8 <- felm(log(asset_tangibility_tot_asset) ~\n",
    "            log(cashflow_to_tangible) * ownership_adjusted+\n",
    "            log(current_ratio) * ownership_adjusted+\n",
    "            log(liabilities_tot_asset) +\n",
    "            log(age) +\n",
    "            export_to_sale +\n",
    "            long_term_loan\n",
    "            | fe_fo + year + indu_2|0 | firm,df_final %>% \n",
    "            filter(\n",
    "            ownership_adjusted %in% c('DOMESTIC','FOREIGN'))%>% \n",
    "            #filter(!is.na(d_credit_constraint))%>% \n",
    "            filter(!is.na(labor_capital)),\n",
    "            exactDOF = TRUE)\n",
    "t_8 <- change_target(t_8)\n",
    "t_9 <- felm(rd_tot_asset_trick ~\n",
    "            log(cashflow_to_tangible)* ownership_adjusted +\n",
    "            log(current_ratio) * ownership_adjusted+\n",
    "            log(liabilities_tot_asset) +\n",
    "            log(age) +\n",
    "            export_to_sale +\n",
    "            long_term_loan\n",
    "            | fe_fo + year + indu_2|0 | firm,df_final %>% \n",
    "            filter(\n",
    "            ownership_adjusted %in% c('DOMESTIC','FOREIGN') &\n",
    "            year %in% list(\"2005\",\"2006\", \"2007\"))%>% \n",
    "            #filter(!is.na(d_credit_constraint))%>% \n",
    "            filter(!is.na(labor_capital)),\n",
    "            exactDOF = TRUE)\n",
    "t_9 <- change_target(t_9)\n",
    "\n",
    "dep <- \"Dependent variable\"\n",
    "fe1 <- list(\n",
    "    c(\"firm-ownership\", \"Yes\", \"Yes\", \"Yes\", \"Yes\", \"Yes\", \"Yes\", \"Yes\", \"Yes\", \"Yes\", \"Yes\"),\n",
    "    c(\"industry\", \"Yes\", \"Yes\", \"Yes\", \"Yes\", \"Yes\", \"Yes\", \"Yes\", \"Yes\", \"Yes\", \"Yes\"),\n",
    "    c(\"year\", \"Yes\", \"Yes\", \"Yes\", \"Yes\", \"Yes\", \"Yes\", \"Yes\", \"Yes\", \"Yes\", \"Yes\")\n",
    "             )\n",
    "\n",
    "table_1 <- go_latex(list(\n",
    "    #t_0, t_1, t_2, t_3, \n",
    "    t_4,t_5, t_6, t_7, t_8, t_9\n",
    "),\n",
    "    title=\"Asset structure (tangible versus intangible) and internal finance\",\n",
    "    dep_var = dep,\n",
    "    addFE=fe1,\n",
    "    save=TRUE,\n",
    "    note = FALSE,\n",
    "    name=path\n",
    ") \n"
   ]
  },
  {
   "cell_type": "code",
   "execution_count": null,
   "metadata": {
    "kernel": "SoS"
   },
   "outputs": [],
   "source": [
    "tbe1  = \"This table estimates eq(X). \" \\\n",
    "\"Heteroskedasticity-robust standard errors\" \\\n",
    "\"clustered at the firm level appear inparentheses.\"\\\n",
    "\"Dependent variables include firm's TFP level \" \\\n",
    "\" Independent variable cashflow is measured as net income + depreciation over asset;\"\\\n",
    "\" current ratio is measured as current asset over current liabilities. \" \\\n",
    "\"\\sym{*} Significance at the 10\\%, \\sym{**} Significance at the 5\\%, \\sym{***} Significance at the 1\\%.\"\n",
    "\n",
    "multicolumn ={\n",
    "    'DOMESTIC': 2,\n",
    "    'FOREIGN': 2,\n",
    "}\n",
    "\n",
    "#multi_lines_dep = '(city/product/trade regime/year)'\n",
    "new_r = ['& Tangible to asset', 'RD', 'Tangible to asset', 'RD', 'Tangible to asset', 'RD',\n",
    "        'Tangible to asset', 'RD']\n",
    "lb.beautify(table_number = table_nb,\n",
    "            #reorder_var = reorder,\n",
    "            #multi_lines_dep = multi_lines_dep,\n",
    "            new_row= new_r,\n",
    "            #multicolumn = multicolumn,\n",
    "            table_nte = tbe1,\n",
    "            jupyter_preview = True,\n",
    "            resolution = 200,\n",
    "            folder = folder)"
   ]
  },
  {
   "cell_type": "code",
   "execution_count": null,
   "metadata": {
    "kernel": "SoS"
   },
   "outputs": [],
   "source": [
    "os.rename('Tables_1/{}.tex'.format(table), 'Tables_1/{}_DOMESTIC.tex'.format(table))"
   ]
  },
  {
   "cell_type": "code",
   "execution_count": null,
   "metadata": {
    "kernel": "SoS"
   },
   "outputs": [],
   "source": [
    "import glob\n",
    "for ext in ['*.txt', '*.pdf']:\n",
    "    for zippath in glob.iglob(os.path.join(folder, ext)):\n",
    "        os.remove(zippath)"
   ]
  },
  {
   "cell_type": "markdown",
   "metadata": {
    "kernel": "SoS",
    "nteract": {
     "transient": {
      "deleting": false
     }
    }
   },
   "source": [
    "# Generate reports"
   ]
  },
  {
   "cell_type": "code",
   "execution_count": null,
   "metadata": {
    "kernel": "python3",
    "nteract": {
     "transient": {
      "deleting": false
     }
    },
    "outputExpanded": false
   },
   "outputs": [],
   "source": [
    "import os, time, shutil, urllib, ipykernel, json\n",
    "from pathlib import Path\n",
    "from notebook import notebookapp"
   ]
  },
  {
   "cell_type": "code",
   "execution_count": null,
   "metadata": {
    "kernel": "python3",
    "nteract": {
     "transient": {
      "deleting": false
     }
    },
    "outputExpanded": false
   },
   "outputs": [],
   "source": [
    "def create_report(extension = \"html\", keep_code = False, notebookname = None):\n",
    "    \"\"\"\n",
    "    Create a report from the current notebook and save it in the \n",
    "    Report folder (Parent-> child directory)\n",
    "    \n",
    "    1. Exctract the current notbook name\n",
    "    2. Convert the Notebook \n",
    "    3. Move the newly created report\n",
    "    \n",
    "    Args:\n",
    "    extension: string. Can be \"html\", \"pdf\", \"md\"\n",
    "    \n",
    "    \n",
    "    \"\"\"\n",
    "    \n",
    "    ### Get notebook name\n",
    "    connection_file = os.path.basename(ipykernel.get_connection_file())\n",
    "    kernel_id = connection_file.split('-', 1)[0].split('.')[0]\n",
    "\n",
    "    for srv in notebookapp.list_running_servers():\n",
    "        try:\n",
    "            if srv['token']=='' and not srv['password']:  \n",
    "                req = urllib.request.urlopen(srv['url']+'api/sessions')\n",
    "            else:\n",
    "                req = urllib.request.urlopen(srv['url']+ \\\n",
    "                                             'api/sessions?token=' + \\\n",
    "                                             srv['token'])\n",
    "            sessions = json.load(req)\n",
    "            notebookname = sessions[0]['name']\n",
    "        except:\n",
    "            notebookname = notebookname  \n",
    "    \n",
    "    sep = '.'\n",
    "    path = os.getcwd()\n",
    "    #parent_path = str(Path(path).parent)\n",
    "    \n",
    "    ### Path report\n",
    "    #path_report = \"{}/Reports\".format(parent_path)\n",
    "    #path_report = \"{}/Reports\".format(path)\n",
    "    \n",
    "    ### Path destination\n",
    "    name_no_extension = notebookname.split(sep, 1)[0]\n",
    "    source_to_move = name_no_extension +'.{}'.format(extension)\n",
    "    dest = os.path.join(path,'Reports', source_to_move)\n",
    "    \n",
    "    ### Generate notebook\n",
    "    if keep_code:\n",
    "        os.system('jupyter nbconvert --to {} {}'.format(\n",
    "    extension,notebookname))\n",
    "    else:\n",
    "        os.system('jupyter nbconvert --no-input --to {} {}'.format(\n",
    "    extension,notebookname))\n",
    "    \n",
    "    ### Move notebook to report folder\n",
    "    #time.sleep(5)\n",
    "    shutil.move(source_to_move, dest)\n",
    "    print(\"Report Available at this adress:\\n {}\".format(dest))"
   ]
  },
  {
   "cell_type": "code",
   "execution_count": null,
   "metadata": {
    "kernel": "python3",
    "nteract": {
     "transient": {
      "deleting": false
     }
    },
    "outputExpanded": false
   },
   "outputs": [],
   "source": [
    "create_report(extension = \"html\", keep_code = True, notebookname = \"06_internal_finance_firm_level.ipynb\")"
   ]
  }
 ],
 "metadata": {
  "jupytext": {
   "formats": "ipynb,md"
  },
  "kernel_info": {
   "name": "python3"
  },
  "kernelspec": {
   "display_name": "SoS",
   "language": "sos",
   "name": "sos"
  },
  "language_info": {
   "codemirror_mode": "sos",
   "file_extension": ".sos",
   "mimetype": "text/x-sos",
   "name": "sos",
   "nbconvert_exporter": "sos_notebook.converter.SoS_Exporter",
   "pygments_lexer": "sos"
  },
  "nteract": {
   "version": "0.26.0"
  },
  "sos": {
   "kernels": [
    [
     "R",
     "ir",
     "R",
     "#DCDCDA",
     "r"
    ],
    [
     "SoS",
     "sos",
     "",
     "",
     "sos"
    ],
    [
     "python3",
     "python3",
     "python",
     "",
     {
      "name": "ipython",
      "version": 3
     }
    ]
   ],
   "version": "0.20.1"
  },
  "toc": {
   "base_numbering": 1,
   "nav_menu": {},
   "number_sections": true,
   "sideBar": true,
   "skip_h1_title": false,
   "title_cell": "Table of Contents",
   "title_sidebar": "Contents",
   "toc_cell": false,
   "toc_position": {},
   "toc_section_display": true,
   "toc_window_display": false
  }
 },
 "nbformat": 4,
 "nbformat_minor": 4
}
