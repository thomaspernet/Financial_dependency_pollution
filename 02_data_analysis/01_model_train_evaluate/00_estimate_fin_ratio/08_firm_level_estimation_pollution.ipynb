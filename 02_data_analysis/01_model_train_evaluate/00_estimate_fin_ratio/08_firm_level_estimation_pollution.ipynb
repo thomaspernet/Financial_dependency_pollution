{
 "cells": [
  {
   "cell_type": "markdown",
   "metadata": {
    "kernel": "SoS"
   },
   "source": [
    "# US Name\n",
    "Model estimate Estimate internal finance and pollution emission firm level\n",
    "\n",
    "# Description\n",
    "None\n",
    "# Metadata\n",
    "- Key: 488_Financial_dependency_pollution\n",
    "- Epic: Models\n",
    "- US: Evaluate econometrics model\n",
    "- Task tag: #internal-finance, #training-Financial-dependency-pollution\n",
    "- Analytics reports: \n",
    "# Input\n",
    "## Table/file\n",
    "**Name**\n",
    "- asif_financial_ratio_baseline_firm\n",
    "- china_firm_pollution_data\n",
    "**Github**\n",
    "- https://github.com/thomaspernet/Financial_dependency_pollution/blob/master/02_data_analysis/01_model_train_evaluate/00_estimate_fin_ratio/08_firm_level_estimation_pollution.md\n",
    "\n"
   ]
  },
  {
   "cell_type": "markdown",
   "metadata": {
    "kernel": "SoS"
   },
   "source": [
    "# Connexion server"
   ]
  },
  {
   "cell_type": "code",
   "execution_count": 1,
   "metadata": {
    "kernel": "SoS"
   },
   "outputs": [],
   "source": [
    "from awsPy.aws_authorization import aws_connector\n",
    "from awsPy.aws_s3 import service_s3\n",
    "from awsPy.aws_glue import service_glue\n",
    "from pathlib import Path\n",
    "import pandas as pd\n",
    "import numpy as np\n",
    "#import seaborn as sns\n",
    "import os, shutil, json\n",
    "import sys\n",
    "\n",
    "from sklearn import preprocessing\n",
    "\n",
    "le = preprocessing.LabelEncoder()\n",
    "\n",
    "path = os.getcwd()\n",
    "parent_path = str(Path(path).parent.parent.parent)\n",
    "\n",
    "\n",
    "name_credential = 'financial_dep_SO2_accessKeys.csv'\n",
    "region = 'eu-west-2'\n",
    "bucket = 'datalake-london'\n",
    "path_cred = \"{0}/creds/{1}\".format(parent_path, name_credential)"
   ]
  },
  {
   "cell_type": "code",
   "execution_count": 2,
   "metadata": {
    "kernel": "SoS"
   },
   "outputs": [],
   "source": [
    "con = aws_connector.aws_instantiate(credential = path_cred,\n",
    "                                       region = region)\n",
    "client= con.client_boto()\n",
    "s3 = service_s3.connect_S3(client = client,\n",
    "                      bucket = bucket, verbose = False)\n",
    "glue = service_glue.connect_glue(client = client) "
   ]
  },
  {
   "cell_type": "code",
   "execution_count": 3,
   "metadata": {
    "kernel": "SoS"
   },
   "outputs": [],
   "source": [
    "pandas_setting = True\n",
    "if pandas_setting:\n",
    "    #cm = sns.light_palette(\"green\", as_cmap=True)\n",
    "    pd.set_option('display.max_columns', None)\n",
    "    pd.set_option('display.max_colwidth', None)"
   ]
  },
  {
   "cell_type": "code",
   "execution_count": 4,
   "metadata": {
    "kernel": "SoS",
    "nteract": {
     "transient": {
      "deleting": false
     }
    }
   },
   "outputs": [],
   "source": [
    "os.environ['KMP_DUPLICATE_LIB_OK']='True'\n"
   ]
  },
  {
   "cell_type": "markdown",
   "metadata": {
    "kernel": "SoS"
   },
   "source": [
    "# Load tables\n",
    "\n",
    "Since we load the data as a Pandas DataFrame, we want to pass the `dtypes`. We load the schema from Glue to guess the types\n",
    "\n",
    "- 1=state -> 110 141 143 151\n",
    "- 2=collective -> 120 130 142 149\n",
    "- 3=private -171 172 173 174 190\n",
    "- 4=foreign- 210 220 230 240\n",
    "- 5=Hong Kong, Macau and Taiwan (4 and 5 can be combined into a single \"foreign\" category - 310 320 330 340"
   ]
  },
  {
   "cell_type": "code",
   "execution_count": 5,
   "metadata": {
    "kernel": "SoS"
   },
   "outputs": [],
   "source": [
    "db = 'environment'\n",
    "table = 'china_financial_dependency_pollution'"
   ]
  },
  {
   "cell_type": "code",
   "execution_count": null,
   "metadata": {
    "kernel": "SoS"
   },
   "outputs": [],
   "source": []
  },
  {
   "cell_type": "code",
   "execution_count": 6,
   "metadata": {
    "kernel": "SoS"
   },
   "outputs": [],
   "source": [
    "dtypes = {}\n",
    "schema = (glue.get_table_information(database = db,\n",
    "                           table = table)\n",
    "          ['Table']['StorageDescriptor']['Columns']\n",
    "         )\n",
    "for key, value in enumerate(schema):\n",
    "    if value['Type'] in ['varchar(12)',\n",
    "                         'varchar(3)',\n",
    "                        'varchar(14)', 'varchar(11)']:\n",
    "        format_ = 'string'\n",
    "    elif value['Type'] in ['decimal(21,5)', 'double', 'bigint', 'int', 'float']:\n",
    "        format_ = 'float'\n",
    "    else:\n",
    "        format_ = value['Type'] \n",
    "    dtypes.update(\n",
    "        {value['Name']:format_}\n",
    "    )"
   ]
  },
  {
   "cell_type": "code",
   "execution_count": 7,
   "metadata": {
    "kernel": "SoS"
   },
   "outputs": [],
   "source": [
    "download_data = True\n",
    "filename = 'df_{}'.format(table)\n",
    "full_path_filename = 'SQL_OUTPUT_ATHENA/CSV/{}.csv'.format(filename)\n",
    "path_local = os.path.join(str(Path(path).parent.parent.parent), \n",
    "                              \"00_data_catalog/temporary_local_data\")\n",
    "df_path = 'df_asif.csv'#os.path.join(path_local, filename + '.csv')\n",
    "if download_data:\n",
    "    \n",
    "    s3 = service_s3.connect_S3(client = client,\n",
    "                          bucket = bucket, verbose = False)\n",
    "    query = \"\"\"\n",
    "    SELECT *,CASE WHEN rd_tot_asset IS NULL THEN -1000 \n",
    "    WHEN rd_tot_asset < 0 THEN 0\n",
    "    ELSE rd_tot_asset END AS rd_tot_asset_trick,\n",
    "     CASE \n",
    "WHEN ownership_new in (1) THEN 'SOE' \n",
    "ELSE 'NOT_SOE' END AS SOE,\n",
    " CASE \n",
    "WHEN ownership_new in (4,5) THEN 'FOREIGN' \n",
    "ELSE 'NOT_FOREIGN' END AS FOREIGN,\n",
    "concat(indu_2,'-',year) as fe_indu2_year,\n",
    "concat(china_financial_dependency_pollution.geocode4_corr,'-',year) as fe_city_year\n",
    "from environment.china_financial_dependency_pollution\n",
    "LEFT JOIN policy.china_city_tcz_spz\n",
    "        ON china_financial_dependency_pollution.geocode4_corr = china_city_tcz_spz.geocode4_corr\n",
    "WHERE asset_tangibility_tot_asset IS NOT NULL and\n",
    "    sales IS NOT NULL and\n",
    "    total_asset IS NOT NULL and \n",
    "    cashflow_to_tangible >0\n",
    "ORDER BY firm, year\n",
    "    \"\"\".format(db, table)\n",
    "    df = (s3.run_query(\n",
    "            query=query,\n",
    "            database=db,\n",
    "            s3_output='SQL_OUTPUT_ATHENA',\n",
    "            filename=filename,  # Add filename to print dataframe\n",
    "            destination_key='SQL_OUTPUT_ATHENA/CSV',  #Use it temporarily\n",
    "            dtype = dtypes\n",
    "        )\n",
    "          .assign(\n",
    "              tcz = lambda x: x['tcz'].fillna(0).astype('int').astype('str'),\n",
    "              spz = lambda x: x['spz'].fillna(0).astype('int').astype('str'),\n",
    "              fe_fo=lambda x: le.fit_transform(x[\"firm\"].astype('str')),\n",
    "              fe_indu2_year=lambda x: le.fit_transform(x[\"fe_indu2_year\"].astype('str')),\n",
    "              fe_city_year=lambda x: le.fit_transform(x[\"fe_city_year\"].astype('str')),\n",
    "            )\n",
    "                )\n",
    "    #s3.download_file(\n",
    "    #    key = full_path_filename\n",
    "    #)\n",
    "    #shutil.move(\n",
    "    #    filename + '.csv',\n",
    "    #    os.path.join(path_local, filename + '.csv')\n",
    "    #\n",
    "    #s3.remove_file(full_path_filename)\n",
    "    #df.head()\n",
    "    #df.to_csv(df_path)"
   ]
  },
  {
   "cell_type": "code",
   "execution_count": 8,
   "metadata": {
    "kernel": "SoS"
   },
   "outputs": [
    {
     "data": {
      "text/plain": [
       "cic                      int64\n",
       "industry_name           object\n",
       "financial_dep_china    float64\n",
       "financial_dep_us       float64\n",
       "hum_cap_us             float64\n",
       "phys_cap_us            float64\n",
       "liquidity_need_us      float64\n",
       "rd_intensity_us        float64\n",
       "foreign_share_us       float64\n",
       "dtype: object"
      ]
     },
     "execution_count": 8,
     "metadata": {},
     "output_type": "execute_result"
    }
   ],
   "source": [
    "query= \"\"\"\n",
    "SELECT * FROM \"industry\".\"china_credit_constraint\"\n",
    "\"\"\"\n",
    "df_credit = (s3.run_query(\n",
    "            query=query,\n",
    "            database=db,\n",
    "            s3_output='SQL_OUTPUT_ATHENA',\n",
    "            filename=filename,  # Add filename to print dataframe\n",
    "            destination_key='SQL_OUTPUT_ATHENA/CSV',  #Use it temporarily\n",
    "            dtype = dtypes\n",
    "        )\n",
    "     )\n",
    "df_credit.dtypes"
   ]
  },
  {
   "cell_type": "code",
   "execution_count": 9,
   "metadata": {
    "kernel": "SoS"
   },
   "outputs": [
    {
     "data": {
      "text/html": [
       "<div>\n",
       "<style scoped>\n",
       "    .dataframe tbody tr th:only-of-type {\n",
       "        vertical-align: middle;\n",
       "    }\n",
       "\n",
       "    .dataframe tbody tr th {\n",
       "        vertical-align: top;\n",
       "    }\n",
       "\n",
       "    .dataframe thead th {\n",
       "        text-align: right;\n",
       "    }\n",
       "</style>\n",
       "<table border=\"1\" class=\"dataframe\">\n",
       "  <thead>\n",
       "    <tr style=\"text-align: right;\">\n",
       "      <th></th>\n",
       "      <th>cic</th>\n",
       "      <th>industry_name</th>\n",
       "      <th>financial_dep_china</th>\n",
       "      <th>financial_dep_us</th>\n",
       "      <th>hum_cap_us</th>\n",
       "      <th>phys_cap_us</th>\n",
       "      <th>liquidity_need_us</th>\n",
       "      <th>rd_intensity_us</th>\n",
       "      <th>foreign_share_us</th>\n",
       "    </tr>\n",
       "  </thead>\n",
       "  <tbody>\n",
       "    <tr>\n",
       "      <th>0</th>\n",
       "      <td>16</td>\n",
       "      <td>Tobacco</td>\n",
       "      <td>-1.54</td>\n",
       "      <td>-0.45</td>\n",
       "      <td>1.35</td>\n",
       "      <td>0.02</td>\n",
       "      <td>0.25</td>\n",
       "      <td>0.0</td>\n",
       "      <td>0.02</td>\n",
       "    </tr>\n",
       "  </tbody>\n",
       "</table>\n",
       "</div>"
      ],
      "text/plain": [
       "   cic industry_name  financial_dep_china  financial_dep_us  hum_cap_us  \\\n",
       "0   16       Tobacco                -1.54             -0.45        1.35   \n",
       "\n",
       "   phys_cap_us  liquidity_need_us  rd_intensity_us  foreign_share_us  \n",
       "0         0.02               0.25              0.0              0.02  "
      ]
     },
     "execution_count": 9,
     "metadata": {},
     "output_type": "execute_result"
    }
   ],
   "source": [
    "df_credit.head(1)"
   ]
  },
  {
   "cell_type": "code",
   "execution_count": 10,
   "metadata": {
    "kernel": "SoS"
   },
   "outputs": [
    {
     "data": {
      "text/plain": [
       "(104699, 93)"
      ]
     },
     "execution_count": 10,
     "metadata": {},
     "output_type": "execute_result"
    }
   ],
   "source": [
    "df.shape"
   ]
  },
  {
   "cell_type": "code",
   "execution_count": 11,
   "metadata": {
    "kernel": "SoS"
   },
   "outputs": [],
   "source": [
    "df = (\n",
    "    df\n",
    "    .merge(df_credit.rename(columns = {'cic':'indu_2'}), how= 'inner')\n",
    "    .assign(\n",
    "        constraint = lambda x: x['financial_dep_china'] > -0.44,\n",
    "        constraint_1 = lambda x: x['financial_dep_china'] > -0.26\n",
    "    )\n",
    ")"
   ]
  },
  {
   "cell_type": "code",
   "execution_count": 12,
   "metadata": {
    "kernel": "SoS"
   },
   "outputs": [
    {
     "data": {
      "text/plain": [
       "(104285, 103)"
      ]
     },
     "execution_count": 12,
     "metadata": {},
     "output_type": "execute_result"
    }
   ],
   "source": [
    "df.shape"
   ]
  },
  {
   "cell_type": "code",
   "execution_count": 13,
   "metadata": {
    "kernel": "SoS"
   },
   "outputs": [
    {
     "data": {
      "text/plain": [
       "quick_ratio    0\n",
       "dtype: int64"
      ]
     },
     "execution_count": 13,
     "metadata": {},
     "output_type": "execute_result"
    }
   ],
   "source": [
    "df[['quick_ratio']].isna().sum()"
   ]
  },
  {
   "cell_type": "code",
   "execution_count": 14,
   "metadata": {
    "kernel": "SoS"
   },
   "outputs": [
    {
     "data": {
      "text/html": [
       "<div>\n",
       "<style scoped>\n",
       "    .dataframe tbody tr th:only-of-type {\n",
       "        vertical-align: middle;\n",
       "    }\n",
       "\n",
       "    .dataframe tbody tr th {\n",
       "        vertical-align: top;\n",
       "    }\n",
       "\n",
       "    .dataframe thead th {\n",
       "        text-align: right;\n",
       "    }\n",
       "</style>\n",
       "<table border=\"1\" class=\"dataframe\">\n",
       "  <thead>\n",
       "    <tr style=\"text-align: right;\">\n",
       "      <th></th>\n",
       "      <th>year</th>\n",
       "      <th>firm</th>\n",
       "      <th>name</th>\n",
       "      <th>geocode4_corr</th>\n",
       "      <th>province_en</th>\n",
       "      <th>cic_adj</th>\n",
       "      <th>cic03</th>\n",
       "      <th>indu_2</th>\n",
       "      <th>ownership_new</th>\n",
       "      <th>age</th>\n",
       "      <th>tfp_op</th>\n",
       "      <th>tfp_lp</th>\n",
       "      <th>output</th>\n",
       "      <th>outputdefl</th>\n",
       "      <th>sales</th>\n",
       "      <th>employment</th>\n",
       "      <th>capital</th>\n",
       "      <th>current_asset</th>\n",
       "      <th>tofixed</th>\n",
       "      <th>error</th>\n",
       "      <th>total_liabilities</th>\n",
       "      <th>total_asset</th>\n",
       "      <th>total_right</th>\n",
       "      <th>intangible</th>\n",
       "      <th>tangible</th>\n",
       "      <th>net_non_current</th>\n",
       "      <th>cashflow</th>\n",
       "      <th>current_ratio</th>\n",
       "      <th>quick_ratio</th>\n",
       "      <th>liabilities_tot_asset</th>\n",
       "      <th>sales_tot_asset</th>\n",
       "      <th>investment_tot_asset</th>\n",
       "      <th>rd_tot_asset</th>\n",
       "      <th>asset_tangibility_tot_asset</th>\n",
       "      <th>cashflow_tot_asset</th>\n",
       "      <th>cashflow_to_tangible</th>\n",
       "      <th>return_to_sale</th>\n",
       "      <th>coverage_ratio</th>\n",
       "      <th>liquidity</th>\n",
       "      <th>total_industrialwater_used</th>\n",
       "      <th>total_freshwater_used</th>\n",
       "      <th>gyqs</th>\n",
       "      <th>total_repeatedwater_used</th>\n",
       "      <th>total_coal_used</th>\n",
       "      <th>rlmxf</th>\n",
       "      <th>ylmxf</th>\n",
       "      <th>rlmpjlf</th>\n",
       "      <th>rlyxf</th>\n",
       "      <th>zyxf</th>\n",
       "      <th>cyxf</th>\n",
       "      <th>rlypjlf</th>\n",
       "      <th>zypjlf</th>\n",
       "      <th>clean_gas_used</th>\n",
       "      <th>waste_water</th>\n",
       "      <th>cod</th>\n",
       "      <th>ad</th>\n",
       "      <th>waste_gas</th>\n",
       "      <th>so2</th>\n",
       "      <th>nox</th>\n",
       "      <th>smoke_dust</th>\n",
       "      <th>soot</th>\n",
       "      <th>yfc</th>\n",
       "      <th>gyfscll</th>\n",
       "      <th>hxxyqcl</th>\n",
       "      <th>xzssqcl</th>\n",
       "      <th>adqcl</th>\n",
       "      <th>eyhlqcl</th>\n",
       "      <th>dyhwqcl</th>\n",
       "      <th>ycqcl</th>\n",
       "      <th>gyfcqcl</th>\n",
       "      <th>dwastewater_equip</th>\n",
       "      <th>fszlssnl</th>\n",
       "      <th>fszlssfee</th>\n",
       "      <th>dwastegas_equip</th>\n",
       "      <th>dso2_equip</th>\n",
       "      <th>fqzlssnl</th>\n",
       "      <th>tlssnl</th>\n",
       "      <th>hxxycsl</th>\n",
       "      <th>adcsl</th>\n",
       "      <th>eyhlcsl</th>\n",
       "      <th>dyhwcsl</th>\n",
       "      <th>yfccsl</th>\n",
       "      <th>province</th>\n",
       "      <th>city</th>\n",
       "      <th>geocode4_corr.1</th>\n",
       "      <th>tcz</th>\n",
       "      <th>spz</th>\n",
       "      <th>rd_tot_asset_trick</th>\n",
       "      <th>SOE</th>\n",
       "      <th>FOREIGN</th>\n",
       "      <th>fe_indu2_year</th>\n",
       "      <th>fe_city_year</th>\n",
       "      <th>fe_fo</th>\n",
       "      <th>industry_name</th>\n",
       "      <th>financial_dep_china</th>\n",
       "      <th>financial_dep_us</th>\n",
       "      <th>hum_cap_us</th>\n",
       "      <th>phys_cap_us</th>\n",
       "      <th>liquidity_need_us</th>\n",
       "      <th>rd_intensity_us</th>\n",
       "      <th>foreign_share_us</th>\n",
       "      <th>constraint</th>\n",
       "      <th>constraint_1</th>\n",
       "    </tr>\n",
       "  </thead>\n",
       "  <tbody>\n",
       "    <tr>\n",
       "      <th>0</th>\n",
       "      <td>2006</td>\n",
       "      <td>100037</td>\n",
       "      <td>长治市三宝生化药业有限公司</td>\n",
       "      <td>1404</td>\n",
       "      <td>Shanxi</td>\n",
       "      <td>2760</td>\n",
       "      <td>2710</td>\n",
       "      <td>27</td>\n",
       "      <td>0.0</td>\n",
       "      <td>5.0</td>\n",
       "      <td>1.210186</td>\n",
       "      <td>5.25578</td>\n",
       "      <td>5842.0</td>\n",
       "      <td>1.095</td>\n",
       "      <td>8599.0</td>\n",
       "      <td>140.0</td>\n",
       "      <td>19960.0</td>\n",
       "      <td>14869</td>\n",
       "      <td>31133</td>\n",
       "      <td>-5880</td>\n",
       "      <td>41957</td>\n",
       "      <td>67377</td>\n",
       "      <td>67377</td>\n",
       "      <td>17674</td>\n",
       "      <td>28954</td>\n",
       "      <td>46628</td>\n",
       "      <td>2179</td>\n",
       "      <td>0.38644</td>\n",
       "      <td>0.14403</td>\n",
       "      <td>0.62272</td>\n",
       "      <td>0.12763</td>\n",
       "      <td>0.01039</td>\n",
       "      <td>0.0</td>\n",
       "      <td>0.42973</td>\n",
       "      <td>0.03234</td>\n",
       "      <td>0.07526</td>\n",
       "      <td>0.0</td>\n",
       "      <td>0.0</td>\n",
       "      <td>-0.81536</td>\n",
       "      <td>500.0</td>\n",
       "      <td>500.0</td>\n",
       "      <td>NaN</td>\n",
       "      <td>0.0</td>\n",
       "      <td>500.0</td>\n",
       "      <td>500.0</td>\n",
       "      <td>0.0</td>\n",
       "      <td>NaN</td>\n",
       "      <td>NaN</td>\n",
       "      <td>NaN</td>\n",
       "      <td>NaN</td>\n",
       "      <td>0.4</td>\n",
       "      <td>NaN</td>\n",
       "      <td>NaN</td>\n",
       "      <td>400.0</td>\n",
       "      <td>40.0</td>\n",
       "      <td>NaN</td>\n",
       "      <td>529.0</td>\n",
       "      <td>3200.0</td>\n",
       "      <td>3750.0</td>\n",
       "      <td>17000.0</td>\n",
       "      <td>0.0</td>\n",
       "      <td>NaN</td>\n",
       "      <td>NaN</td>\n",
       "      <td>NaN</td>\n",
       "      <td>NaN</td>\n",
       "      <td>NaN</td>\n",
       "      <td>NaN</td>\n",
       "      <td>NaN</td>\n",
       "      <td>100000.0</td>\n",
       "      <td>NaN</td>\n",
       "      <td>1.0</td>\n",
       "      <td>4.0</td>\n",
       "      <td>0.0</td>\n",
       "      <td>0.0</td>\n",
       "      <td>0.0</td>\n",
       "      <td>0.0</td>\n",
       "      <td>0.0</td>\n",
       "      <td>NaN</td>\n",
       "      <td>NaN</td>\n",
       "      <td>NaN</td>\n",
       "      <td>NaN</td>\n",
       "      <td>NaN</td>\n",
       "      <td>Shanxi</td>\n",
       "      <td>Changzhi</td>\n",
       "      <td>1404.0</td>\n",
       "      <td>0</td>\n",
       "      <td>0</td>\n",
       "      <td>0.0</td>\n",
       "      <td>NOT_SOE</td>\n",
       "      <td>NOT_FOREIGN</td>\n",
       "      <td>148</td>\n",
       "      <td>165</td>\n",
       "      <td>0</td>\n",
       "      <td>Medicines</td>\n",
       "      <td>-0.44</td>\n",
       "      <td>0.22</td>\n",
       "      <td>1.21</td>\n",
       "      <td>0.06</td>\n",
       "      <td>0.15</td>\n",
       "      <td>0.02</td>\n",
       "      <td>0.06</td>\n",
       "      <td>False</td>\n",
       "      <td>False</td>\n",
       "    </tr>\n",
       "  </tbody>\n",
       "</table>\n",
       "</div>"
      ],
      "text/plain": [
       "   year    firm           name  geocode4_corr province_en  cic_adj  cic03  \\\n",
       "0  2006  100037  长治市三宝生化药业有限公司           1404     Shanxi      2760   2710   \n",
       "\n",
       "   indu_2  ownership_new  age    tfp_op   tfp_lp  output  outputdefl   sales  \\\n",
       "0      27            0.0  5.0  1.210186  5.25578  5842.0       1.095  8599.0   \n",
       "\n",
       "   employment  capital  current_asset  tofixed  error  total_liabilities  \\\n",
       "0       140.0  19960.0          14869    31133  -5880              41957   \n",
       "\n",
       "   total_asset  total_right  intangible  tangible  net_non_current  cashflow  \\\n",
       "0        67377        67377       17674     28954            46628      2179   \n",
       "\n",
       "   current_ratio  quick_ratio  liabilities_tot_asset  sales_tot_asset  \\\n",
       "0        0.38644      0.14403                0.62272          0.12763   \n",
       "\n",
       "   investment_tot_asset  rd_tot_asset  asset_tangibility_tot_asset  \\\n",
       "0               0.01039           0.0                      0.42973   \n",
       "\n",
       "   cashflow_tot_asset  cashflow_to_tangible  return_to_sale  coverage_ratio  \\\n",
       "0             0.03234               0.07526             0.0             0.0   \n",
       "\n",
       "   liquidity  total_industrialwater_used  total_freshwater_used  gyqs  \\\n",
       "0   -0.81536                       500.0                  500.0   NaN   \n",
       "\n",
       "   total_repeatedwater_used  total_coal_used  rlmxf  ylmxf  rlmpjlf  rlyxf  \\\n",
       "0                       0.0            500.0  500.0    0.0      NaN    NaN   \n",
       "\n",
       "   zyxf  cyxf  rlypjlf  zypjlf  clean_gas_used  waste_water   cod  ad  \\\n",
       "0   NaN   NaN      0.4     NaN             NaN        400.0  40.0 NaN   \n",
       "\n",
       "   waste_gas     so2     nox  smoke_dust  soot  yfc  gyfscll  hxxyqcl  \\\n",
       "0      529.0  3200.0  3750.0     17000.0   0.0  NaN      NaN      NaN   \n",
       "\n",
       "   xzssqcl  adqcl  eyhlqcl  dyhwqcl     ycqcl  gyfcqcl  dwastewater_equip  \\\n",
       "0      NaN    NaN      NaN      NaN  100000.0      NaN                1.0   \n",
       "\n",
       "   fszlssnl  fszlssfee  dwastegas_equip  dso2_equip  fqzlssnl  tlssnl  \\\n",
       "0       4.0        0.0              0.0         0.0       0.0     0.0   \n",
       "\n",
       "   hxxycsl  adcsl  eyhlcsl  dyhwcsl  yfccsl province      city  \\\n",
       "0      NaN    NaN      NaN      NaN     NaN   Shanxi  Changzhi   \n",
       "\n",
       "   geocode4_corr.1 tcz spz  rd_tot_asset_trick      SOE      FOREIGN  \\\n",
       "0           1404.0   0   0                 0.0  NOT_SOE  NOT_FOREIGN   \n",
       "\n",
       "   fe_indu2_year  fe_city_year  fe_fo industry_name  financial_dep_china  \\\n",
       "0            148           165      0     Medicines                -0.44   \n",
       "\n",
       "   financial_dep_us  hum_cap_us  phys_cap_us  liquidity_need_us  \\\n",
       "0              0.22        1.21         0.06               0.15   \n",
       "\n",
       "   rd_intensity_us  foreign_share_us  constraint  constraint_1  \n",
       "0             0.02              0.06       False         False  "
      ]
     },
     "execution_count": 14,
     "metadata": {},
     "output_type": "execute_result"
    }
   ],
   "source": [
    "df.head(1)"
   ]
  },
  {
   "cell_type": "markdown",
   "metadata": {
    "kernel": "SoS"
   },
   "source": [
    "## Create lags\n",
    "\n",
    "log(asset_tangibility_tot_asset) +\n",
    "            log(lag_cashflow_to_tangible) +\n",
    "            #log(lag_current_ratio) +\n",
    "            log(sales) +\n",
    "            log(total_asset) +\n",
    "            log(lag_liabilities_tot_asset) +\n",
    "            log(lag_sales_tot_asset)"
   ]
  },
  {
   "cell_type": "code",
   "execution_count": 15,
   "metadata": {
    "kernel": "SoS"
   },
   "outputs": [],
   "source": [
    "df_final = (\n",
    "    df\n",
    "    .assign(\n",
    "    **{\n",
    "        f'lag_{c}': df.groupby(['firm'])[c].transform('shift') for c in\n",
    "        ['cashflow_to_tangible',\n",
    "                     'current_ratio',\n",
    "         \"quick_ratio\",\n",
    "                     'sales_tot_asset',\n",
    "                     'liabilities_tot_asset',\n",
    "                     \"asset_tangibility_tot_asset\",\n",
    "                     \"sales\",\n",
    "                     \"total_asset\",\n",
    "                     \"tfp_op\",\"tfp_lp\"]\n",
    "    }\n",
    "    )\n",
    "    .dropna(subset = [\n",
    "        'lag_cashflow_to_tangible',\n",
    "                    #'lag_current_ratio',\n",
    "                     'lag_sales_tot_asset',\n",
    "                     'lag_liabilities_tot_asset',\n",
    "                     #\"lag_asset_tangibility_tot_asset\",\n",
    "                     #\"lag_sales\",\n",
    "                     #\"lag_total_asset\",\n",
    "                     #\"lag_tfp_op\",\n",
    "                     #\"lag_tfp_lp\"\n",
    "                     ])\n",
    "    #.to_csv(df_path)\n",
    ")"
   ]
  },
  {
   "cell_type": "code",
   "execution_count": 16,
   "metadata": {
    "kernel": "SoS"
   },
   "outputs": [
    {
     "data": {
      "text/html": [
       "<div>\n",
       "<style scoped>\n",
       "    .dataframe tbody tr th:only-of-type {\n",
       "        vertical-align: middle;\n",
       "    }\n",
       "\n",
       "    .dataframe tbody tr th {\n",
       "        vertical-align: top;\n",
       "    }\n",
       "\n",
       "    .dataframe thead th {\n",
       "        text-align: right;\n",
       "    }\n",
       "</style>\n",
       "<table border=\"1\" class=\"dataframe\">\n",
       "  <thead>\n",
       "    <tr style=\"text-align: right;\">\n",
       "      <th></th>\n",
       "      <th>lag_asset_tangibility_tot_asset</th>\n",
       "      <th>lag_cashflow_to_tangible</th>\n",
       "      <th>lag_current_ratio</th>\n",
       "      <th>lag_quick_ratio</th>\n",
       "      <th>lag_sales</th>\n",
       "      <th>lag_total_asset</th>\n",
       "      <th>lag_liabilities_tot_asset</th>\n",
       "      <th>lag_sales_tot_asset</th>\n",
       "      <th>lag_tfp_op</th>\n",
       "      <th>lag_tfp_lp</th>\n",
       "    </tr>\n",
       "  </thead>\n",
       "  <tbody>\n",
       "    <tr>\n",
       "      <th>count</th>\n",
       "      <td>62992.000000</td>\n",
       "      <td>62992.000000</td>\n",
       "      <td>62992.000000</td>\n",
       "      <td>62992.000000</td>\n",
       "      <td>6.299200e+04</td>\n",
       "      <td>6.299200e+04</td>\n",
       "      <td>62992.000000</td>\n",
       "      <td>62992.000000</td>\n",
       "      <td>61312.000000</td>\n",
       "      <td>61312.000000</td>\n",
       "    </tr>\n",
       "    <tr>\n",
       "      <th>mean</th>\n",
       "      <td>0.498408</td>\n",
       "      <td>0.170537</td>\n",
       "      <td>1.157386</td>\n",
       "      <td>0.253412</td>\n",
       "      <td>3.083760e+05</td>\n",
       "      <td>4.165033e+05</td>\n",
       "      <td>0.578738</td>\n",
       "      <td>0.975131</td>\n",
       "      <td>0.809244</td>\n",
       "      <td>7.164143</td>\n",
       "    </tr>\n",
       "    <tr>\n",
       "      <th>std</th>\n",
       "      <td>0.195867</td>\n",
       "      <td>0.763335</td>\n",
       "      <td>4.428319</td>\n",
       "      <td>1.419629</td>\n",
       "      <td>1.711420e+06</td>\n",
       "      <td>2.303661e+06</td>\n",
       "      <td>0.196293</td>\n",
       "      <td>1.092976</td>\n",
       "      <td>0.343691</td>\n",
       "      <td>1.190627</td>\n",
       "    </tr>\n",
       "    <tr>\n",
       "      <th>min</th>\n",
       "      <td>0.000050</td>\n",
       "      <td>0.000010</td>\n",
       "      <td>0.000170</td>\n",
       "      <td>-0.680140</td>\n",
       "      <td>1.000000e+00</td>\n",
       "      <td>2.400000e+02</td>\n",
       "      <td>0.002130</td>\n",
       "      <td>0.000100</td>\n",
       "      <td>-7.108141</td>\n",
       "      <td>-1.214162</td>\n",
       "    </tr>\n",
       "    <tr>\n",
       "      <th>25%</th>\n",
       "      <td>0.353128</td>\n",
       "      <td>0.048500</td>\n",
       "      <td>0.516158</td>\n",
       "      <td>0.047720</td>\n",
       "      <td>2.060725e+04</td>\n",
       "      <td>2.865950e+04</td>\n",
       "      <td>0.450540</td>\n",
       "      <td>0.451967</td>\n",
       "      <td>0.660216</td>\n",
       "      <td>6.349331</td>\n",
       "    </tr>\n",
       "    <tr>\n",
       "      <th>50%</th>\n",
       "      <td>0.491860</td>\n",
       "      <td>0.092440</td>\n",
       "      <td>0.814610</td>\n",
       "      <td>0.131745</td>\n",
       "      <td>5.613600e+04</td>\n",
       "      <td>7.961000e+04</td>\n",
       "      <td>0.585870</td>\n",
       "      <td>0.715890</td>\n",
       "      <td>0.810496</td>\n",
       "      <td>7.102134</td>\n",
       "    </tr>\n",
       "    <tr>\n",
       "      <th>75%</th>\n",
       "      <td>0.641502</td>\n",
       "      <td>0.175592</td>\n",
       "      <td>1.210990</td>\n",
       "      <td>0.273053</td>\n",
       "      <td>1.667962e+05</td>\n",
       "      <td>2.421325e+05</td>\n",
       "      <td>0.713550</td>\n",
       "      <td>1.143603</td>\n",
       "      <td>0.963511</td>\n",
       "      <td>7.906987</td>\n",
       "    </tr>\n",
       "    <tr>\n",
       "      <th>max</th>\n",
       "      <td>0.999930</td>\n",
       "      <td>120.000000</td>\n",
       "      <td>659.200000</td>\n",
       "      <td>173.333330</td>\n",
       "      <td>1.170000e+08</td>\n",
       "      <td>1.647260e+08</td>\n",
       "      <td>9.685200</td>\n",
       "      <td>59.606030</td>\n",
       "      <td>10.258273</td>\n",
       "      <td>12.529512</td>\n",
       "    </tr>\n",
       "  </tbody>\n",
       "</table>\n",
       "</div>"
      ],
      "text/plain": [
       "       lag_asset_tangibility_tot_asset  lag_cashflow_to_tangible  \\\n",
       "count                     62992.000000              62992.000000   \n",
       "mean                          0.498408                  0.170537   \n",
       "std                           0.195867                  0.763335   \n",
       "min                           0.000050                  0.000010   \n",
       "25%                           0.353128                  0.048500   \n",
       "50%                           0.491860                  0.092440   \n",
       "75%                           0.641502                  0.175592   \n",
       "max                           0.999930                120.000000   \n",
       "\n",
       "       lag_current_ratio  lag_quick_ratio     lag_sales  lag_total_asset  \\\n",
       "count       62992.000000     62992.000000  6.299200e+04     6.299200e+04   \n",
       "mean            1.157386         0.253412  3.083760e+05     4.165033e+05   \n",
       "std             4.428319         1.419629  1.711420e+06     2.303661e+06   \n",
       "min             0.000170        -0.680140  1.000000e+00     2.400000e+02   \n",
       "25%             0.516158         0.047720  2.060725e+04     2.865950e+04   \n",
       "50%             0.814610         0.131745  5.613600e+04     7.961000e+04   \n",
       "75%             1.210990         0.273053  1.667962e+05     2.421325e+05   \n",
       "max           659.200000       173.333330  1.170000e+08     1.647260e+08   \n",
       "\n",
       "       lag_liabilities_tot_asset  lag_sales_tot_asset    lag_tfp_op  \\\n",
       "count               62992.000000         62992.000000  61312.000000   \n",
       "mean                    0.578738             0.975131      0.809244   \n",
       "std                     0.196293             1.092976      0.343691   \n",
       "min                     0.002130             0.000100     -7.108141   \n",
       "25%                     0.450540             0.451967      0.660216   \n",
       "50%                     0.585870             0.715890      0.810496   \n",
       "75%                     0.713550             1.143603      0.963511   \n",
       "max                     9.685200            59.606030     10.258273   \n",
       "\n",
       "         lag_tfp_lp  \n",
       "count  61312.000000  \n",
       "mean       7.164143  \n",
       "std        1.190627  \n",
       "min       -1.214162  \n",
       "25%        6.349331  \n",
       "50%        7.102134  \n",
       "75%        7.906987  \n",
       "max       12.529512  "
      ]
     },
     "execution_count": 16,
     "metadata": {},
     "output_type": "execute_result"
    }
   ],
   "source": [
    "df_final.reindex(columns = [\n",
    "    'lag_asset_tangibility_tot_asset',\n",
    "    'lag_cashflow_to_tangible',\n",
    "    'lag_current_ratio',\n",
    "    \"lag_quick_ratio\",\n",
    "    'lag_sales',\n",
    "    'lag_total_asset',\n",
    "    'lag_liabilities_tot_asset',\n",
    "    'lag_sales_tot_asset',\n",
    "    'lag_tfp_op',\n",
    "    'lag_tfp_lp'\n",
    "]).describe()"
   ]
  },
  {
   "cell_type": "code",
   "execution_count": 17,
   "metadata": {
    "kernel": "SoS"
   },
   "outputs": [
    {
     "data": {
      "text/plain": [
       "(62992, 113)"
      ]
     },
     "execution_count": 17,
     "metadata": {},
     "output_type": "execute_result"
    }
   ],
   "source": [
    "df_final.shape"
   ]
  },
  {
   "cell_type": "code",
   "execution_count": 18,
   "metadata": {
    "kernel": "SoS"
   },
   "outputs": [
    {
     "data": {
      "text/plain": [
       "SOE    0\n",
       "dtype: int64"
      ]
     },
     "execution_count": 18,
     "metadata": {},
     "output_type": "execute_result"
    }
   ],
   "source": [
    "df_final[[\"SOE\"]].isna().sum()"
   ]
  },
  {
   "cell_type": "code",
   "execution_count": 19,
   "metadata": {
    "kernel": "SoS"
   },
   "outputs": [],
   "source": [
    "(\n",
    "    df_final\n",
    "    .to_csv(df_path)\n",
    ")"
   ]
  },
  {
   "cell_type": "code",
   "execution_count": 20,
   "metadata": {
    "kernel": "SoS",
    "nteract": {
     "transient": {
      "deleting": false
     }
    }
   },
   "outputs": [
    {
     "data": {
      "text/html": [
       "<div>\n",
       "<style scoped>\n",
       "    .dataframe tbody tr th:only-of-type {\n",
       "        vertical-align: middle;\n",
       "    }\n",
       "\n",
       "    .dataframe tbody tr th {\n",
       "        vertical-align: top;\n",
       "    }\n",
       "\n",
       "    .dataframe thead th {\n",
       "        text-align: right;\n",
       "    }\n",
       "</style>\n",
       "<table border=\"1\" class=\"dataframe\">\n",
       "  <thead>\n",
       "    <tr style=\"text-align: right;\">\n",
       "      <th></th>\n",
       "      <th>Name</th>\n",
       "      <th>Type</th>\n",
       "    </tr>\n",
       "  </thead>\n",
       "  <tbody>\n",
       "    <tr>\n",
       "      <th>0</th>\n",
       "      <td>year</td>\n",
       "      <td>string</td>\n",
       "    </tr>\n",
       "    <tr>\n",
       "      <th>1</th>\n",
       "      <td>firm</td>\n",
       "      <td>string</td>\n",
       "    </tr>\n",
       "    <tr>\n",
       "      <th>2</th>\n",
       "      <td>name</td>\n",
       "      <td>string</td>\n",
       "    </tr>\n",
       "    <tr>\n",
       "      <th>3</th>\n",
       "      <td>geocode4_corr</td>\n",
       "      <td>string</td>\n",
       "    </tr>\n",
       "    <tr>\n",
       "      <th>4</th>\n",
       "      <td>province_en</td>\n",
       "      <td>string</td>\n",
       "    </tr>\n",
       "    <tr>\n",
       "      <th>...</th>\n",
       "      <td>...</td>\n",
       "      <td>...</td>\n",
       "    </tr>\n",
       "    <tr>\n",
       "      <th>77</th>\n",
       "      <td>hxxycsl</td>\n",
       "      <td>string</td>\n",
       "    </tr>\n",
       "    <tr>\n",
       "      <th>78</th>\n",
       "      <td>adcsl</td>\n",
       "      <td>string</td>\n",
       "    </tr>\n",
       "    <tr>\n",
       "      <th>79</th>\n",
       "      <td>eyhlcsl</td>\n",
       "      <td>string</td>\n",
       "    </tr>\n",
       "    <tr>\n",
       "      <th>80</th>\n",
       "      <td>dyhwcsl</td>\n",
       "      <td>string</td>\n",
       "    </tr>\n",
       "    <tr>\n",
       "      <th>81</th>\n",
       "      <td>yfccsl</td>\n",
       "      <td>string</td>\n",
       "    </tr>\n",
       "  </tbody>\n",
       "</table>\n",
       "<p>82 rows × 2 columns</p>\n",
       "</div>"
      ],
      "text/plain": [
       "             Name    Type\n",
       "0            year  string\n",
       "1            firm  string\n",
       "2            name  string\n",
       "3   geocode4_corr  string\n",
       "4     province_en  string\n",
       "..            ...     ...\n",
       "77        hxxycsl  string\n",
       "78          adcsl  string\n",
       "79        eyhlcsl  string\n",
       "80        dyhwcsl  string\n",
       "81         yfccsl  string\n",
       "\n",
       "[82 rows x 2 columns]"
      ]
     },
     "execution_count": 20,
     "metadata": {},
     "output_type": "execute_result"
    }
   ],
   "source": [
    "pd.DataFrame(schema)"
   ]
  },
  {
   "cell_type": "markdown",
   "metadata": {
    "kernel": "SoS",
    "nteract": {
     "transient": {
      "deleting": false
     }
    }
   },
   "source": [
    "## Schema Latex table\n",
    "\n",
    "To rename a variable, please use the following template:\n",
    "\n",
    "```\n",
    "{\n",
    "    'old':'XX',\n",
    "    'new':'XX_1'\n",
    "    }\n",
    "```\n",
    "\n",
    "if you need to pass a latex format with `\\`, you need to duplicate it for instance, `\\text` becomes `\\\\text:\n",
    "\n",
    "```\n",
    "{\n",
    "    'old':'working\\_capital\\_i',\n",
    "    'new':'\\\\text{working capital}_i'\n",
    "    }\n",
    "```\n",
    "\n",
    "Then add it to the key `to_rename`"
   ]
  },
  {
   "cell_type": "code",
   "execution_count": null,
   "metadata": {
    "kernel": "SoS",
    "nteract": {
     "transient": {
      "deleting": false
     }
    }
   },
   "outputs": [],
   "source": [
    "add_to_dic = False\n",
    "if add_to_dic:\n",
    "    if os.path.exists(\"schema_table.json\"):\n",
    "        os.remove(\"schema_table.json\")\n",
    "    data = {'to_rename':[], 'to_remove':[]}\n",
    "    dic_rename = [\n",
    "        {\n",
    "        'old':'working\\_capital\\_i',\n",
    "        'new':'\\\\text{working capital}_i'\n",
    "        },\n",
    "        {\n",
    "        'old':'periodTRUE',\n",
    "        'new':'\\\\text{period}'\n",
    "        },\n",
    "        {\n",
    "        'old':'tso2\\_mandate\\_c',\n",
    "        'new':'\\\\text{policy mandate}_'\n",
    "        },\n",
    "    ]\n",
    "\n",
    "    data['to_rename'].extend(dic_rename)\n",
    "    with open('schema_table.json', 'w') as outfile:\n",
    "        json.dump(data, outfile)"
   ]
  },
  {
   "cell_type": "code",
   "execution_count": null,
   "metadata": {
    "kernel": "SoS"
   },
   "outputs": [],
   "source": [
    "sys.path.append(os.path.join(parent_path, 'utils'))\n",
    "import latex.latex_beautify as lb\n",
    "#%load_ext autoreload\n",
    "#%autoreload 2"
   ]
  },
  {
   "cell_type": "code",
   "execution_count": null,
   "metadata": {
    "kernel": "R"
   },
   "outputs": [],
   "source": [
    "options(warn=-1)\n",
    "library(tidyverse)\n",
    "library(lfe)\n",
    "#library(lazyeval)\n",
    "library('progress')\n",
    "path = \"../../../utils/latex/table_golatex.R\"\n",
    "source(path)"
   ]
  },
  {
   "cell_type": "code",
   "execution_count": null,
   "metadata": {
    "kernel": "R"
   },
   "outputs": [],
   "source": [
    "%get df_path\n",
    "df_final <- read_csv(df_path) %>%\n",
    "mutate_if(is.character, as.factor) %>%\n",
    "    mutate_at(vars(starts_with(\"fe\")), as.factor)"
   ]
  },
  {
   "cell_type": "code",
   "execution_count": null,
   "metadata": {
    "kernel": "R"
   },
   "outputs": [],
   "source": [
    "#df_final %>%select(so2)"
   ]
  },
  {
   "cell_type": "markdown",
   "metadata": {
    "kernel": "SoS"
   },
   "source": [
    "## Table 1:XXX\n",
    "\n",
    "$$\n",
    "\\begin{aligned}\n",
    "\\text{Write your equation}\n",
    "\\end{aligned}\n",
    "$$\n",
    "\n",
    "\n",
    "* Column 1: XXX\n",
    "    * FE: \n",
    "        - fe 1: `XX`\n",
    "        - fe 2: `XX`\n",
    "        - fe 3: `XX`\n",
    "* Column 2: XXX\n",
    "    * FE: \n",
    "        - fe 1: `XX`\n",
    "        - fe 2: `XX`\n",
    "        - fe 3: `XX`\n",
    "* Column 3: XXX\n",
    "    * FE: \n",
    "        - fe 1: `XX`\n",
    "        - fe 2: `XX`\n",
    "        - fe 3: `XX`\n",
    "* Column 4: XXX\n",
    "    * FE: \n",
    "        - fe 1: `XX`\n",
    "        - fe 2: `XX`\n",
    "        - fe 3: `XX`"
   ]
  },
  {
   "cell_type": "code",
   "execution_count": null,
   "metadata": {
    "kernel": "SoS",
    "nteract": {
     "transient": {
      "deleting": false
     }
    }
   },
   "outputs": [],
   "source": [
    "folder = 'Tables_0'\n",
    "table_nb = 1\n",
    "table = 'table_{}'.format(table_nb)\n",
    "path = os.path.join(folder, table + '.txt')\n",
    "if os.path.exists(folder) == False:\n",
    "        os.mkdir(folder)\n",
    "for ext in ['.txt', '.tex', '.pdf']:\n",
    "    x = [a for a in os.listdir(folder) if a.endswith(ext)]\n",
    "    [os.remove(os.path.join(folder, i)) for i in x]"
   ]
  },
  {
   "cell_type": "code",
   "execution_count": null,
   "metadata": {
    "kernel": "SoS"
   },
   "outputs": [],
   "source": [
    "(df_final\n",
    ".assign(\n",
    "share_o = lambda x: x['so2']/x['output']\n",
    ")\n",
    ".reindex(columns = [\n",
    "    \"share_o\",\n",
    "    'lag_cashflow_to_tangible',\n",
    "                     'lag_current_ratio',\n",
    "                     'lag_sales_tot_asset',\n",
    "                     'lag_liabilities_tot_asset',\n",
    "                     \"lag_asset_tangibility_tot_asset\",\n",
    "                     \"lag_sales\",\n",
    "                     \"lag_total_asset\",\n",
    "                     \"lag_tfp_op\",\n",
    "                     \"lag_tfp_lp\"\n",
    "]).describe(percentiles=np.arange(0,1,.05))\n",
    ")"
   ]
  },
  {
   "cell_type": "markdown",
   "metadata": {
    "kernel": "SoS"
   },
   "source": [
    "### Replicate tables\n",
    "\n",
    "- current_ratio\n",
    "- cashflow\n",
    "- quick_ratio\n",
    "- return_to_sale\n",
    "- coverage_ratio\n",
    "- liquidity"
   ]
  },
  {
   "cell_type": "code",
   "execution_count": null,
   "metadata": {
    "kernel": "SoS"
   },
   "outputs": [],
   "source": [
    "df_final.head(1)"
   ]
  },
  {
   "cell_type": "code",
   "execution_count": null,
   "metadata": {
    "kernel": "SoS"
   },
   "outputs": [],
   "source": [
    "df_final.assign(eoutput = lambda x: x['output']/x['dso2_equip'])[[\n",
    "    'so2','dso2_equip','eoutput'\n",
    "]].corr()"
   ]
  },
  {
   "cell_type": "code",
   "execution_count": null,
   "metadata": {
    "kernel": "SoS"
   },
   "outputs": [],
   "source": [
    "df_final['year'].unique()"
   ]
  },
  {
   "cell_type": "code",
   "execution_count": null,
   "metadata": {
    "kernel": "SoS"
   },
   "outputs": [],
   "source": [
    "df_final.loc[lambda x: x['so2'] == 0].shape[0]/df_final.shape[0]"
   ]
  },
  {
   "cell_type": "code",
   "execution_count": null,
   "metadata": {
    "kernel": "SoS"
   },
   "outputs": [],
   "source": [
    "df_final.loc[lambda x: x['cod'] == 0].shape[0]/df_final.shape[0]"
   ]
  },
  {
   "cell_type": "code",
   "execution_count": null,
   "metadata": {
    "kernel": "SoS"
   },
   "outputs": [],
   "source": [
    "df_final.loc[lambda x: x['waste_water'] == 0].shape[0]/df_final.shape[0]"
   ]
  },
  {
   "cell_type": "code",
   "execution_count": null,
   "metadata": {
    "kernel": "SoS"
   },
   "outputs": [],
   "source": [
    "df_final.filter(like='tfp')"
   ]
  },
  {
   "cell_type": "markdown",
   "metadata": {
    "kernel": "SoS"
   },
   "source": [
    "Table 1"
   ]
  },
  {
   "cell_type": "code",
   "execution_count": null,
   "metadata": {
    "kernel": "SoS"
   },
   "outputs": [],
   "source": [
    "folder = 'Tables_0'\n",
    "table_nb = 1\n",
    "table = 'table_{}'.format(table_nb)\n",
    "path = os.path.join(folder, table + '.txt')\n",
    "if os.path.exists(folder) == False:\n",
    "        os.mkdir(folder)\n",
    "for ext in ['.txt', '.pdf']:\n",
    "    x = [a for a in os.listdir(folder) if a.endswith(ext)]\n",
    "    [os.remove(os.path.join(folder, i)) for i in x]"
   ]
  },
  {
   "cell_type": "code",
   "execution_count": null,
   "metadata": {
    "kernel": "SoS"
   },
   "outputs": [],
   "source": [
    "df_final.head(1)\n",
    "# total_coal_used, waste_gas, nox, smoke_dust, soot"
   ]
  },
  {
   "cell_type": "code",
   "execution_count": null,
   "metadata": {
    "kernel": "R"
   },
   "outputs": [],
   "source": [
    "%get path table\n",
    "t_0 <- felm(log(so2 +1) ~ \n",
    "            log(asset_tangibility_tot_asset) +\n",
    "            log(sales) +\n",
    "            log(total_asset) +\n",
    "            log(lag_liabilities_tot_asset) +\n",
    "            log(lag_sales_tot_asset)\n",
    "            | firm+year+geocode4_corr|0 | firm, df_final%>% \n",
    "            filter(lag_cashflow_to_tangible <0.837524),\n",
    "            exactDOF = TRUE)\n",
    "t_1 <- felm(log(cod +1) ~ \n",
    "            log(asset_tangibility_tot_asset) +\n",
    "            log(sales) +\n",
    "            log(total_asset) +\n",
    "            log(lag_liabilities_tot_asset) +\n",
    "            log(lag_sales_tot_asset)\n",
    "            | firm+year+geocode4_corr|0 | firm, df_final%>% \n",
    "            filter(lag_cashflow_to_tangible <0.837524),\n",
    "            exactDOF = TRUE)\n",
    "t_2 <- felm(log(waste_water +1) ~ \n",
    "            log(asset_tangibility_tot_asset) +\n",
    "            log(sales) +\n",
    "            log(total_asset) +\n",
    "            log(lag_liabilities_tot_asset) +\n",
    "            log(lag_sales_tot_asset)\n",
    "            | firm+year+geocode4_corr|0 | firm, df_final%>% \n",
    "            filter(lag_cashflow_to_tangible <0.837524),\n",
    "            exactDOF = TRUE)\n",
    "dep <- \"Dependent variable: Pollution emissions\"\n",
    "fe1 <- list(\n",
    "    c(\"firm\", \"Yes\", \"Yes\", \"Yes\"),\n",
    "    c(\"year\", \"Yes\", \"Yes\", \"Yes\"),\n",
    "    c(\"city\", \"Yes\", \"Yes\", \"Yes\")\n",
    "             )\n",
    "\n",
    "table_1 <- go_latex(list(\n",
    "    t_0,t_1, t_2\n",
    "),\n",
    "    title=\"Determinant of pollution emissions\",\n",
    "    dep_var = dep,\n",
    "    addFE=fe1,\n",
    "    save=TRUE,\n",
    "    note = FALSE,\n",
    "    name=path\n",
    ") "
   ]
  },
  {
   "cell_type": "code",
   "execution_count": null,
   "metadata": {
    "kernel": "SoS"
   },
   "outputs": [],
   "source": [
    "tbe1  = \"This table estimates eq(3). \" \\\n",
    "\"Heteroskedasticity-robust standard errors\" \\\n",
    "\"clustered at the product level appear inparentheses.\"\\\n",
    "\"\\sym{*} Significance at the 10\\%, \\sym{**} Significance at the 5\\%, \\sym{***} Significance at the 1\\%.\"\n",
    "\n",
    "#multicolumn ={\n",
    "#    'Eligible': 2,\n",
    "#    'Non-Eligible': 1,\n",
    "#    'All': 1,\n",
    "#    'All benchmark': 1,\n",
    "#}\n",
    "\n",
    "#multi_lines_dep = '(city/product/trade regime/year)'\n",
    "new_r = ['& SO2', 'COD', \"Waste water\"]\n",
    "lb.beautify(table_number = table_nb,\n",
    "            #reorder_var = reorder,\n",
    "            #multi_lines_dep = multi_lines_dep,\n",
    "            new_row= new_r,\n",
    "            #multicolumn = multicolumn,\n",
    "            table_nte = tbe1,\n",
    "            jupyter_preview = True,\n",
    "            resolution = 150,\n",
    "            folder = folder)"
   ]
  },
  {
   "cell_type": "code",
   "execution_count": null,
   "metadata": {
    "kernel": "SoS"
   },
   "outputs": [],
   "source": [
    "folder = 'Tables_0'\n",
    "table_nb = 1\n",
    "table = 'table_{}'.format(table_nb)\n",
    "path = os.path.join(folder, table + '.txt')\n",
    "if os.path.exists(folder) == False:\n",
    "        os.mkdir(folder)\n",
    "for ext in ['.txt', '.pdf']:\n",
    "    x = [a for a in os.listdir(folder) if a.endswith(ext)]\n",
    "    [os.remove(os.path.join(folder, i)) for i in x]"
   ]
  },
  {
   "cell_type": "code",
   "execution_count": null,
   "metadata": {
    "kernel": "R"
   },
   "outputs": [],
   "source": [
    "%get path table\n",
    "t_0 <- felm(log(so2 +1) ~ \n",
    "            log(tfp_op) +\n",
    "            log(sales) +\n",
    "            log(total_asset) +\n",
    "            log(lag_liabilities_tot_asset) +\n",
    "            log(lag_sales_tot_asset)\n",
    "            | firm+year+geocode4_corr|0 | firm, df_final%>% \n",
    "            filter(lag_cashflow_to_tangible <0.837524),\n",
    "            exactDOF = TRUE)\n",
    "t_1 <- felm(log(cod +1) ~ \n",
    "            log(tfp_op) +\n",
    "            log(sales) +\n",
    "            log(total_asset) +\n",
    "            log(lag_liabilities_tot_asset) +\n",
    "            log(lag_sales_tot_asset)\n",
    "            | firm+year+geocode4_corr|0 | firm, df_final%>% \n",
    "            filter(lag_cashflow_to_tangible <0.837524),\n",
    "            exactDOF = TRUE)\n",
    "t_2 <- felm(log(waste_water +1) ~ \n",
    "            log(tfp_op) +\n",
    "            log(sales) +\n",
    "            log(total_asset) +\n",
    "            log(lag_liabilities_tot_asset) +\n",
    "            log(lag_sales_tot_asset)\n",
    "            | firm+year+geocode4_corr|0 | firm, df_final%>% \n",
    "            filter(lag_cashflow_to_tangible <0.837524),\n",
    "            exactDOF = TRUE)\n",
    "dep <- \"Dependent variable: Pollution emissions\"\n",
    "fe1 <- list(\n",
    "    c(\"firm\", \"Yes\", \"Yes\", \"Yes\"),\n",
    "    c(\"year\", \"Yes\", \"Yes\", \"Yes\"),\n",
    "    c(\"city\", \"Yes\", \"Yes\", \"Yes\")\n",
    "             )\n",
    "\n",
    "table_1 <- go_latex(list(\n",
    "    t_0,t_1, t_2\n",
    "),\n",
    "    title=\"Determinant of pollution emissions\",\n",
    "    dep_var = dep,\n",
    "    addFE=fe1,\n",
    "    save=TRUE,\n",
    "    note = FALSE,\n",
    "    name=path\n",
    ") "
   ]
  },
  {
   "cell_type": "code",
   "execution_count": null,
   "metadata": {
    "kernel": "SoS"
   },
   "outputs": [],
   "source": [
    "tbe1  = \"This table estimates eq(3). \" \\\n",
    "\"Heteroskedasticity-robust standard errors\" \\\n",
    "\"clustered at the product level appear inparentheses.\"\\\n",
    "\"\\sym{*} Significance at the 10\\%, \\sym{**} Significance at the 5\\%, \\sym{***} Significance at the 1\\%.\"\n",
    "\n",
    "#multicolumn ={\n",
    "#    'Eligible': 2,\n",
    "#    'Non-Eligible': 1,\n",
    "#    'All': 1,\n",
    "#    'All benchmark': 1,\n",
    "#}\n",
    "\n",
    "#multi_lines_dep = '(city/product/trade regime/year)'\n",
    "new_r = ['& SO2', 'COD', \"Waste water\"]\n",
    "lb.beautify(table_number = table_nb,\n",
    "            #reorder_var = reorder,\n",
    "            #multi_lines_dep = multi_lines_dep,\n",
    "            new_row= new_r,\n",
    "            #multicolumn = multicolumn,\n",
    "            table_nte = tbe1,\n",
    "            jupyter_preview = True,\n",
    "            resolution = 150,\n",
    "            folder = folder)"
   ]
  },
  {
   "cell_type": "code",
   "execution_count": null,
   "metadata": {
    "kernel": "SoS"
   },
   "outputs": [],
   "source": [
    "folder = 'Tables_0'\n",
    "table_nb = 1\n",
    "table = 'table_{}'.format(table_nb)\n",
    "path = os.path.join(folder, table + '.txt')\n",
    "if os.path.exists(folder) == False:\n",
    "        os.mkdir(folder)\n",
    "for ext in ['.txt', '.pdf']:\n",
    "    x = [a for a in os.listdir(folder) if a.endswith(ext)]\n",
    "    [os.remove(os.path.join(folder, i)) for i in x]"
   ]
  },
  {
   "cell_type": "code",
   "execution_count": null,
   "metadata": {
    "kernel": "R"
   },
   "outputs": [],
   "source": [
    "%get path table\n",
    "t_0 <- felm(log(so2 +1) ~ \n",
    "            rd_tot_asset_trick +\n",
    "            log(sales) +\n",
    "            log(total_asset) +\n",
    "            log(lag_liabilities_tot_asset) +\n",
    "            log(lag_sales_tot_asset)\n",
    "            | firm+year+geocode4_corr|0 | firm, df_final%>% \n",
    "            filter(lag_cashflow_to_tangible <0.837524)%>% filter(year %in% list(\"2005\",\"2006\", \"2007\")),\n",
    "            exactDOF = TRUE)\n",
    "t_1 <- felm(log(cod +1) ~ \n",
    "            rd_tot_asset_trick +\n",
    "            log(sales) +\n",
    "            log(total_asset) +\n",
    "            log(lag_liabilities_tot_asset) +\n",
    "            log(lag_sales_tot_asset)\n",
    "            | firm+year+geocode4_corr|0 | firm, df_final%>% \n",
    "            filter(lag_cashflow_to_tangible <0.837524)%>% filter(year %in% list(\"2005\",\"2006\", \"2007\")),\n",
    "            exactDOF = TRUE)\n",
    "t_2 <- felm(log(waste_water +1) ~ \n",
    "            rd_tot_asset_trick +\n",
    "            log(sales) +\n",
    "            log(total_asset) +\n",
    "            log(lag_liabilities_tot_asset) +\n",
    "            log(lag_sales_tot_asset)\n",
    "            | firm+year+geocode4_corr|0 | firm, df_final%>% \n",
    "            filter(lag_cashflow_to_tangible <0.837524)%>% filter(year %in% list(\"2005\",\"2006\", \"2007\")),\n",
    "            exactDOF = TRUE)\n",
    "dep <- \"Dependent variable: Pollution emissions\"\n",
    "fe1 <- list(\n",
    "    c(\"firm\", \"Yes\", \"Yes\", \"Yes\"),\n",
    "    c(\"year\", \"Yes\", \"Yes\", \"Yes\"),\n",
    "    c(\"city\", \"Yes\", \"Yes\", \"Yes\")\n",
    "             )\n",
    "\n",
    "table_1 <- go_latex(list(\n",
    "    t_0,t_1, t_2\n",
    "),\n",
    "    title=\"Determinant of pollution emissions\",\n",
    "    dep_var = dep,\n",
    "    addFE=fe1,\n",
    "    save=TRUE,\n",
    "    note = FALSE,\n",
    "    name=path\n",
    ") "
   ]
  },
  {
   "cell_type": "code",
   "execution_count": null,
   "metadata": {
    "kernel": "SoS"
   },
   "outputs": [],
   "source": [
    "tbe1  = \"This table estimates eq(3). \" \\\n",
    "\"Heteroskedasticity-robust standard errors\" \\\n",
    "\"clustered at the product level appear inparentheses.\"\\\n",
    "\"\\sym{*} Significance at the 10\\%, \\sym{**} Significance at the 5\\%, \\sym{***} Significance at the 1\\%.\"\n",
    "\n",
    "#multicolumn ={\n",
    "#    'Eligible': 2,\n",
    "#    'Non-Eligible': 1,\n",
    "#    'All': 1,\n",
    "#    'All benchmark': 1,\n",
    "#}\n",
    "\n",
    "#multi_lines_dep = '(city/product/trade regime/year)'\n",
    "new_r = ['& SO2', 'COD', \"Waste water\"]\n",
    "lb.beautify(table_number = table_nb,\n",
    "            #reorder_var = reorder,\n",
    "            #multi_lines_dep = multi_lines_dep,\n",
    "            new_row= new_r,\n",
    "            #multicolumn = multicolumn,\n",
    "            table_nte = tbe1,\n",
    "            jupyter_preview = True,\n",
    "            resolution = 150,\n",
    "            folder = folder)"
   ]
  },
  {
   "cell_type": "code",
   "execution_count": null,
   "metadata": {
    "kernel": "SoS"
   },
   "outputs": [],
   "source": [
    "df_final"
   ]
  },
  {
   "cell_type": "markdown",
   "metadata": {
    "kernel": "R"
   },
   "source": [
    "### Ownership"
   ]
  },
  {
   "cell_type": "code",
   "execution_count": null,
   "metadata": {
    "kernel": "SoS"
   },
   "outputs": [],
   "source": [
    "folder = 'Tables_0'\n",
    "table_nb = 1\n",
    "table = 'table_{}'.format(table_nb)\n",
    "path = os.path.join(folder, table + '.txt')\n",
    "if os.path.exists(folder) == False:\n",
    "        os.mkdir(folder)\n",
    "for ext in ['.txt', '.pdf']:\n",
    "    x = [a for a in os.listdir(folder) if a.endswith(ext)]\n",
    "    [os.remove(os.path.join(folder, i)) for i in x]"
   ]
  },
  {
   "cell_type": "code",
   "execution_count": null,
   "metadata": {
    "kernel": "R"
   },
   "outputs": [],
   "source": [
    "%get path table\n",
    "#### SO2\n",
    "t_0 <- felm(log(so2 +1) ~ \n",
    "            log(asset_tangibility_tot_asset) +\n",
    "            log(sales) +\n",
    "            log(total_asset) +\n",
    "            log(lag_liabilities_tot_asset) +\n",
    "            log(lag_sales_tot_asset)\n",
    "            | firm+year+geocode4_corr|0 | firm, df_final%>%filter(SOE == \"SOE\")%>% \n",
    "            filter(lag_cashflow_to_tangible <0.837524),\n",
    "            exactDOF = TRUE)\n",
    "t_1 <-felm(log(so2 +1) ~ \n",
    "            log(asset_tangibility_tot_asset) +\n",
    "            log(sales) +\n",
    "            log(total_asset) +\n",
    "            log(lag_liabilities_tot_asset) +\n",
    "            log(lag_sales_tot_asset)\n",
    "            | firm+year+geocode4_corr|0 | firm, df_final%>%filter(SOE != \"SOE\")%>% \n",
    "            filter(lag_cashflow_to_tangible <0.837524),\n",
    "            exactDOF = TRUE)\n",
    "\n",
    "### COD\n",
    "t_2 <- felm(log(cod +1) ~ \n",
    "            log(asset_tangibility_tot_asset) +\n",
    "            log(sales) +\n",
    "            log(total_asset) +\n",
    "            log(lag_liabilities_tot_asset) +\n",
    "            log(lag_sales_tot_asset)\n",
    "            | firm+year+geocode4_corr|0 | firm, df_final%>%filter(SOE == \"SOE\")%>% \n",
    "            filter(lag_cashflow_to_tangible <0.837524),\n",
    "            exactDOF = TRUE)\n",
    "t_3 <-felm(log(cod +1) ~ \n",
    "            log(asset_tangibility_tot_asset) +\n",
    "            log(sales) +\n",
    "            log(total_asset) +\n",
    "            log(lag_liabilities_tot_asset) +\n",
    "            log(lag_sales_tot_asset)\n",
    "            | firm+year+geocode4_corr|0 | firm, df_final%>%filter(SOE != \"SOE\")%>% \n",
    "            filter(lag_cashflow_to_tangible <0.837524),\n",
    "            exactDOF = TRUE)\n",
    "### Waste water\n",
    "t_4 <- felm(log(waste_water +1) ~ \n",
    "            log(asset_tangibility_tot_asset) +\n",
    "            log(sales) +\n",
    "            log(total_asset) +\n",
    "            log(lag_liabilities_tot_asset) +\n",
    "            log(lag_sales_tot_asset)\n",
    "            | firm+year+geocode4_corr|0 | firm, df_final%>%filter(SOE == \"SOE\")%>% \n",
    "            filter(lag_cashflow_to_tangible <0.837524),\n",
    "            exactDOF = TRUE)\n",
    "t_5 <-felm(log(waste_water +1) ~ \n",
    "            log(asset_tangibility_tot_asset) +\n",
    "            log(sales) +\n",
    "            log(total_asset) +\n",
    "            log(lag_liabilities_tot_asset) +\n",
    "            log(lag_sales_tot_asset)\n",
    "            | firm+year+geocode4_corr|0 | firm, df_final%>%filter(SOE != \"SOE\")%>% \n",
    "            filter(lag_cashflow_to_tangible <0.837524),\n",
    "            exactDOF = TRUE)\n",
    "\n",
    "dep <- \"Dependent variable: pollution emissions\"\n",
    "fe1 <- list(\n",
    "    c(\"firm\", \"Yes\", \"Yes\", \"Yes\", \"Yes\", \"Yes\", \"Yes\"),\n",
    "    c(\"year\", \"Yes\", \"Yes\", \"Yes\", \"Yes\", \"Yes\", \"Yes\"),\n",
    "    c(\"city\", \"Yes\", \"Yes\", \"Yes\", \"Yes\", \"Yes\", \"Yes\")\n",
    "             )\n",
    "\n",
    "table_1 <- go_latex(list(\n",
    "    t_0,t_1, t_2, t_3, t_4, t_5\n",
    "),\n",
    "    title=\"Pollution emissions and firm's ownership\",\n",
    "    dep_var = dep,\n",
    "    addFE=fe1,\n",
    "    save=TRUE,\n",
    "    note = FALSE,\n",
    "    name=path\n",
    ") "
   ]
  },
  {
   "cell_type": "code",
   "execution_count": null,
   "metadata": {
    "kernel": "SoS"
   },
   "outputs": [],
   "source": [
    "tbe1  = \"This table estimates eq(3). \" \\\n",
    "\"Heteroskedasticity-robust standard errors\" \\\n",
    "\"clustered at the product level appear inparentheses.\"\\\n",
    "\"\\sym{*} Significance at the 10\\%, \\sym{**} Significance at the 5\\%, \\sym{***} Significance at the 1\\%.\"\n",
    "\n",
    "multicolumn ={\n",
    "    'SO2': 2,\n",
    "    'COD': 2,\n",
    "    'Waste water': 2\n",
    "}\n",
    "\n",
    "#multi_lines_dep = '(city/product/trade regime/year)'\n",
    "new_r = ['& SOE', 'No SOE', \"SOE\",\"No SOE\", \"SOE\",\"No SOE\"]\n",
    "lb.beautify(table_number = table_nb,\n",
    "            #reorder_var = reorder,\n",
    "            #multi_lines_dep = multi_lines_dep,\n",
    "            new_row= new_r,\n",
    "            multicolumn = multicolumn,\n",
    "            table_nte = tbe1,\n",
    "            jupyter_preview = True,\n",
    "            resolution = 150,\n",
    "            folder = folder)"
   ]
  },
  {
   "cell_type": "code",
   "execution_count": null,
   "metadata": {
    "kernel": "SoS"
   },
   "outputs": [],
   "source": [
    "folder = 'Tables_0'\n",
    "table_nb = 1\n",
    "table = 'table_{}'.format(table_nb)\n",
    "path = os.path.join(folder, table + '.txt')\n",
    "if os.path.exists(folder) == False:\n",
    "        os.mkdir(folder)\n",
    "for ext in ['.txt', '.pdf']:\n",
    "    x = [a for a in os.listdir(folder) if a.endswith(ext)]\n",
    "    [os.remove(os.path.join(folder, i)) for i in x]"
   ]
  },
  {
   "cell_type": "code",
   "execution_count": null,
   "metadata": {
    "kernel": "R"
   },
   "outputs": [],
   "source": [
    "%get path table\n",
    "#### SO2\n",
    "t_0 <- felm(log(so2 +1) ~ \n",
    "            log(asset_tangibility_tot_asset) +\n",
    "            log(sales) +\n",
    "            log(total_asset) +\n",
    "            log(lag_liabilities_tot_asset) +\n",
    "            log(lag_sales_tot_asset)\n",
    "            | firm+year+geocode4_corr|0 | firm, df_final%>%filter(FOREIGN == \"FOREIGN\")%>% \n",
    "            filter(lag_cashflow_to_tangible <0.837524),\n",
    "            exactDOF = TRUE)\n",
    "t_1 <-felm(log(so2 +1) ~ \n",
    "            log(asset_tangibility_tot_asset) +\n",
    "            log(sales) +\n",
    "            log(total_asset) +\n",
    "            log(lag_liabilities_tot_asset) +\n",
    "            log(lag_sales_tot_asset)\n",
    "            | firm+year+geocode4_corr|0 | firm, df_final%>%filter(FOREIGN != \"FOREIGN\")%>% \n",
    "            filter(lag_cashflow_to_tangible <0.837524),\n",
    "            exactDOF = TRUE)\n",
    "\n",
    "### COD\n",
    "t_2 <- felm(log(cod +1) ~ \n",
    "            log(asset_tangibility_tot_asset) +\n",
    "            log(sales) +\n",
    "            log(total_asset) +\n",
    "            log(lag_liabilities_tot_asset) +\n",
    "            log(lag_sales_tot_asset)\n",
    "            | firm+year+geocode4_corr|0 | firm, df_final%>%filter(FOREIGN == \"FOREIGN\")%>% \n",
    "            filter(lag_cashflow_to_tangible <0.837524),\n",
    "            exactDOF = TRUE)\n",
    "t_3 <-felm(log(cod +1) ~ \n",
    "            log(asset_tangibility_tot_asset) +\n",
    "            log(sales) +\n",
    "            log(total_asset) +\n",
    "            log(lag_liabilities_tot_asset) +\n",
    "            log(lag_sales_tot_asset)\n",
    "            | firm+year+geocode4_corr|0 | firm, df_final%>%filter(FOREIGN != \"FOREIGN\")%>% \n",
    "            filter(lag_cashflow_to_tangible <0.837524),\n",
    "            exactDOF = TRUE)\n",
    "### Waste water\n",
    "t_4 <- felm(log(waste_water +1) ~ \n",
    "            log(asset_tangibility_tot_asset) +\n",
    "            log(sales) +\n",
    "            log(total_asset) +\n",
    "            log(lag_liabilities_tot_asset) +\n",
    "            log(lag_sales_tot_asset)\n",
    "            | firm+year+geocode4_corr|0 | firm, df_final%>%filter(FOREIGN == \"FOREIGN\")%>% \n",
    "            filter(lag_cashflow_to_tangible <0.837524),\n",
    "            exactDOF = TRUE)\n",
    "t_5 <-felm(log(waste_water +1) ~ \n",
    "            log(asset_tangibility_tot_asset) +\n",
    "            log(sales) +\n",
    "            log(total_asset) +\n",
    "            log(lag_liabilities_tot_asset) +\n",
    "            log(lag_sales_tot_asset)\n",
    "            | firm+year+geocode4_corr|0 | firm, df_final%>%filter(FOREIGN != \"FOREIGN\")%>% \n",
    "            filter(lag_cashflow_to_tangible <0.837524),\n",
    "            exactDOF = TRUE)\n",
    "\n",
    "dep <- \"Dependent variable: pollution emissions\"\n",
    "fe1 <- list(\n",
    "    c(\"firm\", \"Yes\", \"Yes\", \"Yes\", \"Yes\", \"Yes\", \"Yes\"),\n",
    "    c(\"year\", \"Yes\", \"Yes\", \"Yes\", \"Yes\", \"Yes\", \"Yes\"),\n",
    "    c(\"city\", \"Yes\", \"Yes\", \"Yes\", \"Yes\", \"Yes\", \"Yes\")\n",
    "             )\n",
    "\n",
    "table_1 <- go_latex(list(\n",
    "    t_0,t_1, t_2, t_3, t_4, t_5\n",
    "),\n",
    "    title=\"Pollution emissions and firm's ownership\",\n",
    "    dep_var = dep,\n",
    "    addFE=fe1,\n",
    "    save=TRUE,\n",
    "    note = FALSE,\n",
    "    name=path\n",
    ") "
   ]
  },
  {
   "cell_type": "code",
   "execution_count": null,
   "metadata": {
    "kernel": "SoS"
   },
   "outputs": [],
   "source": [
    "tbe1  = \"This table estimates eq(3). \" \\\n",
    "\"Heteroskedasticity-robust standard errors\" \\\n",
    "\"clustered at the product level appear inparentheses.\"\\\n",
    "\"\\sym{*} Significance at the 10\\%, \\sym{**} Significance at the 5\\%, \\sym{***} Significance at the 1\\%.\"\n",
    "\n",
    "multicolumn ={\n",
    "    'SO2': 2,\n",
    "    'COD': 2,\n",
    "    'Waste water': 2\n",
    "}\n",
    "\n",
    "#multi_lines_dep = '(city/product/trade regime/year)'\n",
    "new_r = ['& Foreign', 'No Foreign', \"Foreign\",\"No Foreign\", \"Foreign\",\"No Foreign\"]\n",
    "lb.beautify(table_number = table_nb,\n",
    "            #reorder_var = reorder,\n",
    "            #multi_lines_dep = multi_lines_dep,\n",
    "            new_row= new_r,\n",
    "            multicolumn = multicolumn,\n",
    "            table_nte = tbe1,\n",
    "            jupyter_preview = True,\n",
    "            resolution = 150,\n",
    "            folder = folder)"
   ]
  },
  {
   "cell_type": "markdown",
   "metadata": {
    "kernel": "SoS"
   },
   "source": [
    "## Firm's size"
   ]
  },
  {
   "cell_type": "code",
   "execution_count": null,
   "metadata": {
    "kernel": "R"
   },
   "outputs": [],
   "source": [
    "df_final_size <- df_final %>%\n",
    "  left_join(df_final %>%\n",
    "              group_by(year, cic_adj) %>%\n",
    "              summarise(output = quantile(output, 0.75),\n",
    "                        sales = quantile(sales, 0.75),\n",
    "                        employment = quantile(employment, 0.75),\n",
    "                        total_asset = quantile(total_asset, 0.75)) %>%\n",
    "              ungroup() %>%\n",
    "              rename(\n",
    "                s_output = output,\n",
    "                s_sales = sales,\n",
    "                s_employment = employment,\n",
    "                s_total_asset = total_asset\n",
    "              )\n",
    "  ) %>%\n",
    "  mutate(d_output = if_else(output > s_output, \"Yes\", \"No\"),\n",
    "         d_sales = if_else(sales > s_sales, \"Yes\", \"No\"),\n",
    "         d_employment = if_else(employment > s_employment, \"Yes\", \"No\"),\n",
    "         d_total_asset = if_else(total_asset > s_total_asset, \"Yes\", \"No\"))"
   ]
  },
  {
   "cell_type": "code",
   "execution_count": null,
   "metadata": {
    "kernel": "R"
   },
   "outputs": [],
   "source": [
    "dim(df_final_size %>% filter(d_output == \"Yes\"))"
   ]
  },
  {
   "cell_type": "code",
   "execution_count": null,
   "metadata": {
    "kernel": "SoS"
   },
   "outputs": [],
   "source": [
    "folder = 'Tables_0'\n",
    "table_nb = 1\n",
    "table = 'table_{}'.format(table_nb)\n",
    "path = os.path.join(folder, table + '.txt')\n",
    "if os.path.exists(folder) == False:\n",
    "        os.mkdir(folder)\n",
    "for ext in ['.txt', '.pdf']:\n",
    "    x = [a for a in os.listdir(folder) if a.endswith(ext)]\n",
    "    [os.remove(os.path.join(folder, i)) for i in x]"
   ]
  },
  {
   "cell_type": "code",
   "execution_count": null,
   "metadata": {
    "kernel": "R"
   },
   "outputs": [],
   "source": [
    "%get path table\n",
    "#### SO2\n",
    "t_0 <- felm(log(so2 +1) ~ \n",
    "            log(asset_tangibility_tot_asset) +\n",
    "            log(sales) +\n",
    "            log(total_asset) +\n",
    "            log(lag_liabilities_tot_asset) +\n",
    "            log(lag_sales_tot_asset)\n",
    "            | firm+year+geocode4_corr|0 | firm, df_final_size%>% filter(d_output == \"Yes\")%>% \n",
    "            filter(lag_cashflow_to_tangible <0.837524),\n",
    "            exactDOF = TRUE)\n",
    "t_1 <-felm(log(so2 +1) ~ \n",
    "            log(asset_tangibility_tot_asset) +\n",
    "            log(sales) +\n",
    "            log(total_asset) +\n",
    "            log(lag_liabilities_tot_asset) +\n",
    "            log(lag_sales_tot_asset)\n",
    "            | firm+year+geocode4_corr|0 | firm, df_final_size%>% filter(d_output != \"Yes\")%>% \n",
    "            filter(lag_cashflow_to_tangible <0.837524),\n",
    "            exactDOF = TRUE)\n",
    "\n",
    "### COD\n",
    "t_2 <- felm(log(cod +1) ~ \n",
    "            log(asset_tangibility_tot_asset) +\n",
    "            log(sales) +\n",
    "            log(total_asset) +\n",
    "            log(lag_liabilities_tot_asset) +\n",
    "            log(lag_sales_tot_asset)\n",
    "            | firm+year+geocode4_corr|0 | firm, df_final_size%>% filter(d_output == \"Yes\")%>% \n",
    "            filter(lag_cashflow_to_tangible <0.837524),\n",
    "            exactDOF = TRUE)\n",
    "t_3 <-felm(log(cod +1) ~ \n",
    "            log(asset_tangibility_tot_asset) +\n",
    "            log(sales) +\n",
    "            log(total_asset) +\n",
    "            log(lag_liabilities_tot_asset) +\n",
    "            log(lag_sales_tot_asset)\n",
    "            | firm+year+geocode4_corr|0 | firm, df_final_size%>% filter(d_output != \"Yes\")%>% \n",
    "            filter(lag_cashflow_to_tangible <0.837524),\n",
    "            exactDOF = TRUE)\n",
    "### Waste water\n",
    "t_4 <- felm(log(waste_water +1) ~ \n",
    "            log(asset_tangibility_tot_asset) +\n",
    "            log(sales) +\n",
    "            log(total_asset) +\n",
    "            log(lag_liabilities_tot_asset) +\n",
    "            log(lag_sales_tot_asset)\n",
    "            | firm+year+geocode4_corr|0 | firm, df_final_size%>% filter(d_output == \"Yes\")%>% \n",
    "            filter(lag_cashflow_to_tangible <0.837524),\n",
    "            exactDOF = TRUE)\n",
    "t_5 <-felm(log(waste_water +1) ~ \n",
    "            log(asset_tangibility_tot_asset) +\n",
    "            log(sales) +\n",
    "            log(total_asset) +\n",
    "            log(lag_liabilities_tot_asset) +\n",
    "            log(lag_sales_tot_asset)\n",
    "            | firm+year+geocode4_corr|0 | firm, df_final_size%>% filter(d_output != \"Yes\")%>% \n",
    "            filter(lag_cashflow_to_tangible <0.837524),\n",
    "            exactDOF = TRUE)\n",
    "\n",
    "dep <- \"Dependent variable: pollution emissions\"\n",
    "fe1 <- list(\n",
    "    c(\"firm\", \"Yes\", \"Yes\", \"Yes\", \"Yes\", \"Yes\", \"Yes\"),\n",
    "    c(\"year\", \"Yes\", \"Yes\", \"Yes\", \"Yes\", \"Yes\", \"Yes\"),\n",
    "    c(\"city\", \"Yes\", \"Yes\", \"Yes\", \"Yes\", \"Yes\", \"Yes\")\n",
    "             )\n",
    "\n",
    "table_1 <- go_latex(list(\n",
    "    t_0,t_1, t_2, t_3, t_4, t_5\n",
    "),\n",
    "    title=\"Pollution emissions and firm's size\",\n",
    "    dep_var = dep,\n",
    "    addFE=fe1,\n",
    "    save=TRUE,\n",
    "    note = FALSE,\n",
    "    name=path\n",
    ") "
   ]
  },
  {
   "cell_type": "code",
   "execution_count": null,
   "metadata": {
    "kernel": "SoS"
   },
   "outputs": [],
   "source": [
    "tbe1  = \"This table estimates eq(3). \" \\\n",
    "\"Heteroskedasticity-robust standard errors\" \\\n",
    "\"clustered at the product level appear inparentheses.\"\\\n",
    "\"\\sym{*} Significance at the 10\\%, \\sym{**} Significance at the 5\\%, \\sym{***} Significance at the 1\\%.\"\n",
    "\n",
    "multicolumn ={\n",
    "    'SO2': 2,\n",
    "    'COD': 2,\n",
    "    'Waste water': 2\n",
    "}\n",
    "\n",
    "#multi_lines_dep = '(city/product/trade regime/year)'\n",
    "new_r = ['& Large', 'No Large', \"Large\",\"No Large\", \"Large\",\"No Large\"]\n",
    "lb.beautify(table_number = table_nb,\n",
    "            #reorder_var = reorder,\n",
    "            #multi_lines_dep = multi_lines_dep,\n",
    "            new_row= new_r,\n",
    "            multicolumn = multicolumn,\n",
    "            table_nte = tbe1,\n",
    "            jupyter_preview = True,\n",
    "            resolution = 150,\n",
    "            folder = folder)"
   ]
  },
  {
   "cell_type": "code",
   "execution_count": null,
   "metadata": {
    "kernel": "SoS"
   },
   "outputs": [],
   "source": [
    "folder = 'Tables_0'\n",
    "table_nb = 1\n",
    "table = 'table_{}'.format(table_nb)\n",
    "path = os.path.join(folder, table + '.txt')\n",
    "if os.path.exists(folder) == False:\n",
    "        os.mkdir(folder)\n",
    "for ext in ['.txt', '.pdf']:\n",
    "    x = [a for a in os.listdir(folder) if a.endswith(ext)]\n",
    "    [os.remove(os.path.join(folder, i)) for i in x]"
   ]
  },
  {
   "cell_type": "code",
   "execution_count": null,
   "metadata": {
    "kernel": "R"
   },
   "outputs": [],
   "source": [
    "%get path table\n",
    "#### SO2\n",
    "t_0 <- felm(log(so2 +1) ~ \n",
    "            log(tfp_op) +\n",
    "            log(sales) +\n",
    "            log(total_asset) +\n",
    "            log(lag_liabilities_tot_asset) +\n",
    "            log(lag_sales_tot_asset)\n",
    "            | firm+year+geocode4_corr|0 | firm, df_final_size%>% filter(d_employment == \"Yes\")%>% \n",
    "            filter(lag_cashflow_to_tangible <0.837524),\n",
    "            exactDOF = TRUE)\n",
    "t_1 <-felm(log(so2 +1) ~ \n",
    "            log(tfp_op) +\n",
    "            log(sales) +\n",
    "            log(total_asset) +\n",
    "            log(lag_liabilities_tot_asset) +\n",
    "            log(lag_sales_tot_asset)\n",
    "            | firm+year+geocode4_corr|0 | firm, df_final_size%>% filter(d_employment != \"Yes\")%>% \n",
    "            filter(lag_cashflow_to_tangible <0.837524),\n",
    "            exactDOF = TRUE)\n",
    "\n",
    "### COD\n",
    "t_2 <- felm(log(cod +1) ~ \n",
    "            log(tfp_op) +\n",
    "            log(sales) +\n",
    "            log(total_asset) +\n",
    "            log(lag_liabilities_tot_asset) +\n",
    "            log(lag_sales_tot_asset)\n",
    "            | firm+year+geocode4_corr|0 | firm, df_final_size%>% filter(d_employment == \"Yes\")%>% \n",
    "            filter(lag_cashflow_to_tangible <0.837524),\n",
    "            exactDOF = TRUE)\n",
    "t_3 <-felm(log(cod +1) ~ \n",
    "            log(tfp_op) +\n",
    "            log(sales) +\n",
    "            log(total_asset) +\n",
    "            log(lag_liabilities_tot_asset) +\n",
    "            log(lag_sales_tot_asset)\n",
    "            | firm+year+geocode4_corr|0 | firm, df_final_size%>% filter(d_employment != \"Yes\")%>% \n",
    "            filter(lag_cashflow_to_tangible <0.837524),\n",
    "            exactDOF = TRUE)\n",
    "### Waste water\n",
    "t_4 <- felm(log(waste_water +1) ~ \n",
    "            log(tfp_op) +\n",
    "            log(sales) +\n",
    "            log(total_asset) +\n",
    "            log(lag_liabilities_tot_asset) +\n",
    "            log(lag_sales_tot_asset)\n",
    "            | firm+year+geocode4_corr|0 | firm, df_final_size%>% filter(d_employment == \"Yes\")%>% \n",
    "            filter(lag_cashflow_to_tangible <0.837524),\n",
    "            exactDOF = TRUE)\n",
    "t_5 <-felm(log(waste_water +1) ~ \n",
    "            log(tfp_op) +\n",
    "            log(sales) +\n",
    "            log(total_asset) +\n",
    "            log(lag_liabilities_tot_asset) +\n",
    "            log(lag_sales_tot_asset)\n",
    "            | firm+year+geocode4_corr|0 | firm, df_final_size%>% filter(d_employment != \"Yes\")%>% \n",
    "            filter(lag_cashflow_to_tangible <0.837524),\n",
    "            exactDOF = TRUE)\n",
    "\n",
    "dep <- \"Dependent variable: pollution emissions\"\n",
    "fe1 <- list(\n",
    "    c(\"firm\", \"Yes\", \"Yes\", \"Yes\", \"Yes\", \"Yes\", \"Yes\"),\n",
    "    c(\"year\", \"Yes\", \"Yes\", \"Yes\", \"Yes\", \"Yes\", \"Yes\"),\n",
    "    c(\"city\", \"Yes\", \"Yes\", \"Yes\", \"Yes\", \"Yes\", \"Yes\")\n",
    "             )\n",
    "\n",
    "table_1 <- go_latex(list(\n",
    "    t_0,t_1, t_2, t_3, t_4, t_5\n",
    "),\n",
    "    title=\"Pollution emissions and firm's size\",\n",
    "    dep_var = dep,\n",
    "    addFE=fe1,\n",
    "    save=TRUE,\n",
    "    note = FALSE,\n",
    "    name=path\n",
    ") "
   ]
  },
  {
   "cell_type": "code",
   "execution_count": null,
   "metadata": {
    "kernel": "SoS"
   },
   "outputs": [],
   "source": [
    "tbe1  = \"This table estimates eq(3). \" \\\n",
    "\"Heteroskedasticity-robust standard errors\" \\\n",
    "\"clustered at the product level appear inparentheses.\"\\\n",
    "\"\\sym{*} Significance at the 10\\%, \\sym{**} Significance at the 5\\%, \\sym{***} Significance at the 1\\%.\"\n",
    "\n",
    "multicolumn ={\n",
    "    'SO2': 2,\n",
    "    'COD': 2,\n",
    "    'Waste water': 2\n",
    "}\n",
    "\n",
    "#multi_lines_dep = '(city/product/trade regime/year)'\n",
    "new_r = ['& Large', 'No Large', \"Large\",\"No Large\", \"Large\",\"No Large\"]\n",
    "lb.beautify(table_number = table_nb,\n",
    "            #reorder_var = reorder,\n",
    "            #multi_lines_dep = multi_lines_dep,\n",
    "            new_row= new_r,\n",
    "            multicolumn = multicolumn,\n",
    "            table_nte = tbe1,\n",
    "            jupyter_preview = True,\n",
    "            resolution = 150,\n",
    "            folder = folder)"
   ]
  },
  {
   "cell_type": "code",
   "execution_count": null,
   "metadata": {
    "kernel": "SoS"
   },
   "outputs": [],
   "source": []
  },
  {
   "cell_type": "code",
   "execution_count": null,
   "metadata": {
    "kernel": "SoS"
   },
   "outputs": [],
   "source": []
  },
  {
   "cell_type": "code",
   "execution_count": null,
   "metadata": {
    "kernel": "SoS"
   },
   "outputs": [],
   "source": [
    "folder = 'Tables_0'\n",
    "table_nb = 1\n",
    "table = 'table_{}'.format(table_nb)\n",
    "path = os.path.join(folder, table + '.txt')\n",
    "if os.path.exists(folder) == False:\n",
    "        os.mkdir(folder)\n",
    "for ext in ['.txt', '.pdf']:\n",
    "    x = [a for a in os.listdir(folder) if a.endswith(ext)]\n",
    "    [os.remove(os.path.join(folder, i)) for i in x]"
   ]
  },
  {
   "cell_type": "code",
   "execution_count": null,
   "metadata": {
    "kernel": "R"
   },
   "outputs": [],
   "source": [
    "%get path table\n",
    "#### SO2\n",
    "t_0 <- felm(log(so2 +1) ~ \n",
    "            log(asset_tangibility_tot_asset) +\n",
    "            log(sales) +\n",
    "            log(total_asset) +\n",
    "            log(lag_liabilities_tot_asset) +\n",
    "            log(lag_sales_tot_asset)\n",
    "            | firm+year+geocode4_corr|0 | firm, df_final_size%>% filter(d_sales == \"Yes\")%>% \n",
    "            filter(lag_cashflow_to_tangible <0.837524),\n",
    "            exactDOF = TRUE)\n",
    "t_1 <-felm(log(so2 +1) ~ \n",
    "            log(asset_tangibility_tot_asset) +\n",
    "            log(sales) +\n",
    "            log(total_asset) +\n",
    "            log(lag_liabilities_tot_asset) +\n",
    "            log(lag_sales_tot_asset)\n",
    "            | firm+year+geocode4_corr|0 | firm, df_final_size%>% filter(d_sales != \"Yes\")%>% \n",
    "            filter(lag_cashflow_to_tangible <0.837524),\n",
    "            exactDOF = TRUE)\n",
    "\n",
    "### COD\n",
    "t_2 <- felm(log(cod +1) ~ \n",
    "            log(asset_tangibility_tot_asset) +\n",
    "            log(sales) +\n",
    "            log(total_asset) +\n",
    "            log(lag_liabilities_tot_asset) +\n",
    "            log(lag_sales_tot_asset)\n",
    "            | firm+year+geocode4_corr|0 | firm, df_final_size%>% filter(d_sales == \"Yes\")%>% \n",
    "            filter(lag_cashflow_to_tangible <0.837524),\n",
    "            exactDOF = TRUE)\n",
    "t_3 <-felm(log(cod +1) ~ \n",
    "            log(asset_tangibility_tot_asset) +\n",
    "            log(sales) +\n",
    "            log(total_asset) +\n",
    "            log(lag_liabilities_tot_asset) +\n",
    "            log(lag_sales_tot_asset)\n",
    "            | firm+year+geocode4_corr|0 | firm, df_final_size%>% filter(d_sales != \"Yes\")%>% \n",
    "            filter(lag_cashflow_to_tangible <0.837524),\n",
    "            exactDOF = TRUE)\n",
    "### Waste water\n",
    "t_4 <- felm(log(waste_water +1) ~ \n",
    "            log(asset_tangibility_tot_asset) +\n",
    "            log(sales) +\n",
    "            log(total_asset) +\n",
    "            log(lag_liabilities_tot_asset) +\n",
    "            log(lag_sales_tot_asset)\n",
    "            | firm+year+geocode4_corr|0 | firm, df_final_size%>% filter(d_sales == \"Yes\")%>% \n",
    "            filter(lag_cashflow_to_tangible <0.837524),\n",
    "            exactDOF = TRUE)\n",
    "t_5 <-felm(log(waste_water +1) ~ \n",
    "            log(asset_tangibility_tot_asset) +\n",
    "            log(sales) +\n",
    "            log(total_asset) +\n",
    "            log(lag_liabilities_tot_asset) +\n",
    "            log(lag_sales_tot_asset)\n",
    "            | firm+year+geocode4_corr|0 | firm, df_final_size%>% filter(d_sales != \"Yes\")%>% \n",
    "            filter(lag_cashflow_to_tangible <0.837524),\n",
    "            exactDOF = TRUE)\n",
    "\n",
    "dep <- \"Dependent variable: pollution emissions\"\n",
    "fe1 <- list(\n",
    "    c(\"firm\", \"Yes\", \"Yes\", \"Yes\", \"Yes\", \"Yes\", \"Yes\"),\n",
    "    c(\"year\", \"Yes\", \"Yes\", \"Yes\", \"Yes\", \"Yes\", \"Yes\"),\n",
    "    c(\"city\", \"Yes\", \"Yes\", \"Yes\", \"Yes\", \"Yes\", \"Yes\")\n",
    "             )\n",
    "\n",
    "table_1 <- go_latex(list(\n",
    "    t_0,t_1, t_2, t_3, t_4, t_5\n",
    "),\n",
    "    title=\"Pollution emissions and firm's size\",\n",
    "    dep_var = dep,\n",
    "    addFE=fe1,\n",
    "    save=TRUE,\n",
    "    note = FALSE,\n",
    "    name=path\n",
    ") "
   ]
  },
  {
   "cell_type": "code",
   "execution_count": null,
   "metadata": {
    "kernel": "SoS"
   },
   "outputs": [],
   "source": [
    "tbe1  = \"This table estimates eq(3). \" \\\n",
    "\"Heteroskedasticity-robust standard errors\" \\\n",
    "\"clustered at the product level appear inparentheses.\"\\\n",
    "\"\\sym{*} Significance at the 10\\%, \\sym{**} Significance at the 5\\%, \\sym{***} Significance at the 1\\%.\"\n",
    "\n",
    "multicolumn ={\n",
    "    'SO2': 2,\n",
    "    'COD': 2,\n",
    "    'Waste water': 2\n",
    "}\n",
    "\n",
    "#multi_lines_dep = '(city/product/trade regime/year)'\n",
    "new_r = ['& Large', 'No Large', \"Large\",\"No Large\", \"Large\",\"No Large\"]\n",
    "lb.beautify(table_number = table_nb,\n",
    "            #reorder_var = reorder,\n",
    "            #multi_lines_dep = multi_lines_dep,\n",
    "            new_row= new_r,\n",
    "            multicolumn = multicolumn,\n",
    "            table_nte = tbe1,\n",
    "            jupyter_preview = True,\n",
    "            resolution = 150,\n",
    "            folder = folder)"
   ]
  },
  {
   "cell_type": "code",
   "execution_count": null,
   "metadata": {
    "kernel": "SoS"
   },
   "outputs": [],
   "source": [
    "folder = 'Tables_0'\n",
    "table_nb = 1\n",
    "table = 'table_{}'.format(table_nb)\n",
    "path = os.path.join(folder, table + '.txt')\n",
    "if os.path.exists(folder) == False:\n",
    "        os.mkdir(folder)\n",
    "for ext in ['.txt', '.pdf']:\n",
    "    x = [a for a in os.listdir(folder) if a.endswith(ext)]\n",
    "    [os.remove(os.path.join(folder, i)) for i in x]"
   ]
  },
  {
   "cell_type": "code",
   "execution_count": null,
   "metadata": {
    "kernel": "R"
   },
   "outputs": [],
   "source": [
    "%get path table\n",
    "#### SO2\n",
    "t_0 <- felm(log(so2 +1) ~ \n",
    "            log(asset_tangibility_tot_asset) +\n",
    "            log(sales) +\n",
    "            log(total_asset) +\n",
    "            log(lag_liabilities_tot_asset) +\n",
    "            log(lag_sales_tot_asset)\n",
    "            | firm+year+geocode4_corr|0 | firm, df_final_size%>% filter(d_employment == \"Yes\")%>% \n",
    "            filter(lag_cashflow_to_tangible <0.837524),\n",
    "            exactDOF = TRUE)\n",
    "t_1 <-felm(log(so2 +1) ~ \n",
    "            log(asset_tangibility_tot_asset) +\n",
    "            log(sales) +\n",
    "            log(total_asset) +\n",
    "            log(lag_liabilities_tot_asset) +\n",
    "            log(lag_sales_tot_asset)\n",
    "            | firm+year+geocode4_corr|0 | firm, df_final_size%>% filter(d_employment != \"Yes\")%>% \n",
    "            filter(lag_cashflow_to_tangible <0.837524),\n",
    "            exactDOF = TRUE)\n",
    "\n",
    "### COD\n",
    "t_2 <- felm(log(cod +1) ~ \n",
    "            log(asset_tangibility_tot_asset) +\n",
    "            log(sales) +\n",
    "            log(total_asset) +\n",
    "            log(lag_liabilities_tot_asset) +\n",
    "            log(lag_sales_tot_asset)\n",
    "            | firm+year+geocode4_corr|0 | firm, df_final_size%>% filter(d_employment == \"Yes\")%>% \n",
    "            filter(lag_cashflow_to_tangible <0.837524),\n",
    "            exactDOF = TRUE)\n",
    "t_3 <-felm(log(cod +1) ~ \n",
    "            log(asset_tangibility_tot_asset) +\n",
    "            log(sales) +\n",
    "            log(total_asset) +\n",
    "            log(lag_liabilities_tot_asset) +\n",
    "            log(lag_sales_tot_asset)\n",
    "            | firm+year+geocode4_corr|0 | firm, df_final_size%>% filter(d_employment != \"Yes\")%>% \n",
    "            filter(lag_cashflow_to_tangible <0.837524),\n",
    "            exactDOF = TRUE)\n",
    "### Waste water\n",
    "t_4 <- felm(log(waste_water +1) ~ \n",
    "            log(asset_tangibility_tot_asset) +\n",
    "            log(sales) +\n",
    "            log(total_asset) +\n",
    "            log(lag_liabilities_tot_asset) +\n",
    "            log(lag_sales_tot_asset)\n",
    "            | firm+year+geocode4_corr|0 | firm, df_final_size%>% filter(d_employment == \"Yes\")%>% \n",
    "            filter(lag_cashflow_to_tangible <0.837524),\n",
    "            exactDOF = TRUE)\n",
    "t_5 <-felm(log(waste_water +1) ~ \n",
    "            log(asset_tangibility_tot_asset) +\n",
    "            log(sales) +\n",
    "            log(total_asset) +\n",
    "            log(lag_liabilities_tot_asset) +\n",
    "            log(lag_sales_tot_asset)\n",
    "            | firm+year+geocode4_corr|0 | firm, df_final_size%>% filter(d_employment != \"Yes\")%>% \n",
    "            filter(lag_cashflow_to_tangible <0.837524),\n",
    "            exactDOF = TRUE)\n",
    "\n",
    "dep <- \"Dependent variable: pollution emissions\"\n",
    "fe1 <- list(\n",
    "    c(\"firm\", \"Yes\", \"Yes\", \"Yes\", \"Yes\", \"Yes\", \"Yes\"),\n",
    "    c(\"year\", \"Yes\", \"Yes\", \"Yes\", \"Yes\", \"Yes\", \"Yes\"),\n",
    "    c(\"city\", \"Yes\", \"Yes\", \"Yes\", \"Yes\", \"Yes\", \"Yes\")\n",
    "             )\n",
    "\n",
    "table_1 <- go_latex(list(\n",
    "    t_0,t_1, t_2, t_3, t_4, t_5\n",
    "),\n",
    "    title=\"Pollution emissions and firm's size\",\n",
    "    dep_var = dep,\n",
    "    addFE=fe1,\n",
    "    save=TRUE,\n",
    "    note = FALSE,\n",
    "    name=path\n",
    ") "
   ]
  },
  {
   "cell_type": "code",
   "execution_count": null,
   "metadata": {
    "kernel": "SoS"
   },
   "outputs": [],
   "source": [
    "tbe1  = \"This table estimates eq(3). \" \\\n",
    "\"Heteroskedasticity-robust standard errors\" \\\n",
    "\"clustered at the product level appear inparentheses.\"\\\n",
    "\"\\sym{*} Significance at the 10\\%, \\sym{**} Significance at the 5\\%, \\sym{***} Significance at the 1\\%.\"\n",
    "\n",
    "multicolumn ={\n",
    "    'SO2': 2,\n",
    "    'COD': 2,\n",
    "    'Waste water': 2\n",
    "}\n",
    "\n",
    "#multi_lines_dep = '(city/product/trade regime/year)'\n",
    "new_r = ['& Large', 'No Large', \"Large\",\"No Large\", \"Large\",\"No Large\"]\n",
    "lb.beautify(table_number = table_nb,\n",
    "            #reorder_var = reorder,\n",
    "            #multi_lines_dep = multi_lines_dep,\n",
    "            new_row= new_r,\n",
    "            multicolumn = multicolumn,\n",
    "            table_nte = tbe1,\n",
    "            jupyter_preview = True,\n",
    "            resolution = 150,\n",
    "            folder = folder)"
   ]
  },
  {
   "cell_type": "code",
   "execution_count": null,
   "metadata": {
    "kernel": "SoS"
   },
   "outputs": [],
   "source": [
    "folder = 'Tables_0'\n",
    "table_nb = 1\n",
    "table = 'table_{}'.format(table_nb)\n",
    "path = os.path.join(folder, table + '.txt')\n",
    "if os.path.exists(folder) == False:\n",
    "        os.mkdir(folder)\n",
    "for ext in ['.txt', '.pdf']:\n",
    "    x = [a for a in os.listdir(folder) if a.endswith(ext)]\n",
    "    [os.remove(os.path.join(folder, i)) for i in x]"
   ]
  },
  {
   "cell_type": "code",
   "execution_count": null,
   "metadata": {
    "kernel": "R"
   },
   "outputs": [],
   "source": [
    "%get path table\n",
    "#### SO2\n",
    "t_0 <- felm(log(so2 +1) ~ \n",
    "            log(asset_tangibility_tot_asset) +\n",
    "            log(sales) +\n",
    "            log(total_asset) +\n",
    "            log(lag_liabilities_tot_asset) +\n",
    "            log(lag_sales_tot_asset)\n",
    "            | firm+year+geocode4_corr|0 | firm, df_final_size%>% filter(d_total_asset == \"Yes\")%>% \n",
    "            filter(lag_cashflow_to_tangible <0.837524),\n",
    "            exactDOF = TRUE)\n",
    "t_1 <-felm(log(so2 +1) ~ \n",
    "            log(asset_tangibility_tot_asset) +\n",
    "            log(sales) +\n",
    "            log(total_asset) +\n",
    "            log(lag_liabilities_tot_asset) +\n",
    "            log(lag_sales_tot_asset)\n",
    "            | firm+year+geocode4_corr|0 | firm, df_final_size%>% filter(d_total_asset != \"Yes\")%>% \n",
    "            filter(lag_cashflow_to_tangible <0.837524),\n",
    "            exactDOF = TRUE)\n",
    "\n",
    "### COD\n",
    "t_2 <- felm(log(cod +1) ~ \n",
    "            log(asset_tangibility_tot_asset) +\n",
    "            log(sales) +\n",
    "            log(total_asset) +\n",
    "            log(lag_liabilities_tot_asset) +\n",
    "            log(lag_sales_tot_asset)\n",
    "            | firm+year+geocode4_corr|0 | firm, df_final_size%>% filter(d_total_asset == \"Yes\")%>% \n",
    "            filter(lag_cashflow_to_tangible <0.837524),\n",
    "            exactDOF = TRUE)\n",
    "t_3 <-felm(log(cod +1) ~ \n",
    "            log(asset_tangibility_tot_asset) +\n",
    "            log(sales) +\n",
    "            log(total_asset) +\n",
    "            log(lag_liabilities_tot_asset) +\n",
    "            log(lag_sales_tot_asset)\n",
    "            | firm+year+geocode4_corr|0 | firm, df_final_size%>% filter(d_total_asset != \"Yes\")%>% \n",
    "            filter(lag_cashflow_to_tangible <0.837524),\n",
    "            exactDOF = TRUE)\n",
    "### Waste water\n",
    "t_4 <- felm(log(waste_water +1) ~ \n",
    "            log(asset_tangibility_tot_asset) +\n",
    "            log(sales) +\n",
    "            log(total_asset) +\n",
    "            log(lag_liabilities_tot_asset) +\n",
    "            log(lag_sales_tot_asset)\n",
    "            | firm+year+geocode4_corr|0 | firm, df_final_size%>% filter(d_total_asset == \"Yes\")%>% \n",
    "            filter(lag_cashflow_to_tangible <0.837524),\n",
    "            exactDOF = TRUE)\n",
    "t_5 <-felm(log(waste_water +1) ~ \n",
    "            log(asset_tangibility_tot_asset) +\n",
    "            log(sales) +\n",
    "            log(total_asset) +\n",
    "            log(lag_liabilities_tot_asset) +\n",
    "            log(lag_sales_tot_asset)\n",
    "            | firm+year+geocode4_corr|0 | firm, df_final_size%>% filter(d_total_asset != \"Yes\")%>% \n",
    "            filter(lag_cashflow_to_tangible <0.837524),\n",
    "            exactDOF = TRUE)\n",
    "\n",
    "dep <- \"Dependent variable: pollution emissions\"\n",
    "fe1 <- list(\n",
    "    c(\"firm\", \"Yes\", \"Yes\", \"Yes\", \"Yes\", \"Yes\", \"Yes\"),\n",
    "    c(\"year\", \"Yes\", \"Yes\", \"Yes\", \"Yes\", \"Yes\", \"Yes\"),\n",
    "    c(\"city\", \"Yes\", \"Yes\", \"Yes\", \"Yes\", \"Yes\", \"Yes\")\n",
    "             )\n",
    "\n",
    "table_1 <- go_latex(list(\n",
    "    t_0,t_1, t_2, t_3, t_4, t_5\n",
    "),\n",
    "    title=\"Pollution emissions and firm's size\",\n",
    "    dep_var = dep,\n",
    "    addFE=fe1,\n",
    "    save=TRUE,\n",
    "    note = FALSE,\n",
    "    name=path\n",
    ") "
   ]
  },
  {
   "cell_type": "code",
   "execution_count": null,
   "metadata": {
    "kernel": "SoS"
   },
   "outputs": [],
   "source": [
    "tbe1  = \"This table estimates eq(3). \" \\\n",
    "\"Heteroskedasticity-robust standard errors\" \\\n",
    "\"clustered at the product level appear inparentheses.\"\\\n",
    "\"\\sym{*} Significance at the 10\\%, \\sym{**} Significance at the 5\\%, \\sym{***} Significance at the 1\\%.\"\n",
    "\n",
    "multicolumn ={\n",
    "    'SO2': 2,\n",
    "    'COD': 2,\n",
    "    'Waste water': 2\n",
    "}\n",
    "\n",
    "#multi_lines_dep = '(city/product/trade regime/year)'\n",
    "new_r = ['& Large', 'No Large', \"Large\",\"No Large\", \"Large\",\"No Large\"]\n",
    "lb.beautify(table_number = table_nb,\n",
    "            #reorder_var = reorder,\n",
    "            #multi_lines_dep = multi_lines_dep,\n",
    "            new_row= new_r,\n",
    "            multicolumn = multicolumn,\n",
    "            table_nte = tbe1,\n",
    "            jupyter_preview = True,\n",
    "            resolution = 150,\n",
    "            folder = folder)"
   ]
  },
  {
   "cell_type": "markdown",
   "metadata": {
    "kernel": "R"
   },
   "source": [
    "### TZC/SPZ"
   ]
  },
  {
   "cell_type": "code",
   "execution_count": null,
   "metadata": {
    "kernel": "SoS"
   },
   "outputs": [],
   "source": [
    "folder = 'Tables_0'\n",
    "table_nb = 1\n",
    "table = 'table_{}'.format(table_nb)\n",
    "path = os.path.join(folder, table + '.txt')\n",
    "if os.path.exists(folder) == False:\n",
    "        os.mkdir(folder)\n",
    "for ext in ['.txt', '.pdf']:\n",
    "    x = [a for a in os.listdir(folder) if a.endswith(ext)]\n",
    "    [os.remove(os.path.join(folder, i)) for i in x]"
   ]
  },
  {
   "cell_type": "code",
   "execution_count": null,
   "metadata": {
    "kernel": "R"
   },
   "outputs": [],
   "source": [
    "%get path table\n",
    "#### SO2\n",
    "t_0 <- felm(log(so2 +1) ~ \n",
    "            log(asset_tangibility_tot_asset) +\n",
    "            log(sales) +\n",
    "            log(total_asset) +\n",
    "            log(lag_liabilities_tot_asset) +\n",
    "            log(lag_sales_tot_asset)\n",
    "            | firm+year+geocode4_corr|0 | firm, df_final%>%filter(tcz == 1)%>% \n",
    "            filter(lag_cashflow_to_tangible <0.837524),\n",
    "            exactDOF = TRUE)\n",
    "t_1 <-felm(log(so2 +1) ~ \n",
    "            log(asset_tangibility_tot_asset) +\n",
    "            log(sales) +\n",
    "            log(total_asset) +\n",
    "            log(lag_liabilities_tot_asset) +\n",
    "            log(lag_sales_tot_asset)\n",
    "            | firm+year+geocode4_corr|0 | firm, df_final%>%filter(tcz != 1)%>% \n",
    "            filter(lag_cashflow_to_tangible <0.837524),\n",
    "            exactDOF = TRUE)\n",
    "\n",
    "### COD\n",
    "t_2 <- felm(log(cod +1) ~ \n",
    "            log(asset_tangibility_tot_asset) +\n",
    "            log(sales) +\n",
    "            log(total_asset) +\n",
    "            log(lag_liabilities_tot_asset) +\n",
    "            log(lag_sales_tot_asset)\n",
    "            | firm+year+geocode4_corr|0 | firm, df_final%>%filter(tcz == 1)%>% \n",
    "            filter(lag_cashflow_to_tangible <0.837524),\n",
    "            exactDOF = TRUE)\n",
    "t_3 <-felm(log(cod +1) ~ \n",
    "            log(asset_tangibility_tot_asset) +\n",
    "            log(sales) +\n",
    "            log(total_asset) +\n",
    "            log(lag_liabilities_tot_asset) +\n",
    "            log(lag_sales_tot_asset)\n",
    "            | firm+year+geocode4_corr|0 | firm, df_final%>%filter(tcz !=1)%>% \n",
    "            filter(lag_cashflow_to_tangible <0.837524),\n",
    "            exactDOF = TRUE)\n",
    "### Waste water\n",
    "t_4 <- felm(log(waste_water +1) ~ \n",
    "            log(asset_tangibility_tot_asset) +\n",
    "            log(sales) +\n",
    "            log(total_asset) +\n",
    "            log(lag_liabilities_tot_asset) +\n",
    "            log(lag_sales_tot_asset)\n",
    "            | firm+year+geocode4_corr|0 | firm, df_final%>%filter(tcz == 1)%>% \n",
    "            filter(lag_cashflow_to_tangible <0.837524),\n",
    "            exactDOF = TRUE)\n",
    "t_5 <-felm(log(waste_water +1) ~ \n",
    "            log(asset_tangibility_tot_asset) +\n",
    "            log(sales) +\n",
    "            log(total_asset) +\n",
    "            log(lag_liabilities_tot_asset) +\n",
    "            log(lag_sales_tot_asset)\n",
    "            | firm+year+geocode4_corr|0 | firm, df_final%>%filter(tcz != 1)%>% \n",
    "            filter(lag_cashflow_to_tangible <0.837524),\n",
    "            exactDOF = TRUE)\n",
    "\n",
    "dep <- \"Dependent variable: pollution emissions\"\n",
    "fe1 <- list(\n",
    "    c(\"firm\", \"Yes\", \"Yes\", \"Yes\", \"Yes\", \"Yes\", \"Yes\"),\n",
    "    c(\"year\", \"Yes\", \"Yes\", \"Yes\", \"Yes\", \"Yes\", \"Yes\"),\n",
    "    c(\"city\", \"Yes\", \"Yes\", \"Yes\", \"Yes\", \"Yes\", \"Yes\")\n",
    "             )\n",
    "\n",
    "table_1 <- go_latex(list(\n",
    "    t_0,t_1, t_2, t_3, t_4, t_5\n",
    "),\n",
    "    title=\"Pollution emissions and city type\",\n",
    "    dep_var = dep,\n",
    "    addFE=fe1,\n",
    "    save=TRUE,\n",
    "    note = FALSE,\n",
    "    name=path\n",
    ") "
   ]
  },
  {
   "cell_type": "code",
   "execution_count": null,
   "metadata": {
    "kernel": "SoS"
   },
   "outputs": [],
   "source": [
    "tbe1  = \"This table estimates eq(3). \" \\\n",
    "\"Heteroskedasticity-robust standard errors\" \\\n",
    "\"clustered at the product level appear inparentheses.\"\\\n",
    "\"\\sym{*} Significance at the 10\\%, \\sym{**} Significance at the 5\\%, \\sym{***} Significance at the 1\\%.\"\n",
    "\n",
    "multicolumn ={\n",
    "    'SO2': 2,\n",
    "    'COD': 2,\n",
    "    'Waste water': 2\n",
    "}\n",
    "\n",
    "#multi_lines_dep = '(city/product/trade regime/year)'\n",
    "new_r = ['& TCZ', 'No TCZ', \"TCZ\",\"No TCZ\", \"TCZ\",\"No TCZ\"]\n",
    "lb.beautify(table_number = table_nb,\n",
    "            #reorder_var = reorder,\n",
    "            #multi_lines_dep = multi_lines_dep,\n",
    "            new_row= new_r,\n",
    "            multicolumn = multicolumn,\n",
    "            table_nte = tbe1,\n",
    "            jupyter_preview = True,\n",
    "            resolution = 150,\n",
    "            folder = folder)"
   ]
  },
  {
   "cell_type": "code",
   "execution_count": null,
   "metadata": {
    "kernel": "SoS"
   },
   "outputs": [],
   "source": [
    "folder = 'Tables_0'\n",
    "table_nb = 1\n",
    "table = 'table_{}'.format(table_nb)\n",
    "path = os.path.join(folder, table + '.txt')\n",
    "if os.path.exists(folder) == False:\n",
    "        os.mkdir(folder)\n",
    "for ext in ['.txt', '.pdf']:\n",
    "    x = [a for a in os.listdir(folder) if a.endswith(ext)]\n",
    "    [os.remove(os.path.join(folder, i)) for i in x]"
   ]
  },
  {
   "cell_type": "code",
   "execution_count": null,
   "metadata": {
    "kernel": "R"
   },
   "outputs": [],
   "source": [
    "%get path table\n",
    "#### SO2\n",
    "t_0 <- felm(log(so2 +1) ~ \n",
    "            log(asset_tangibility_tot_asset) +\n",
    "            log(sales) +\n",
    "            log(total_asset) +\n",
    "            log(lag_liabilities_tot_asset) +\n",
    "            log(lag_sales_tot_asset)\n",
    "            | firm+year+geocode4_corr|0 | firm, df_final%>%filter(spz == 1)%>% \n",
    "            filter(lag_cashflow_to_tangible <0.837524),\n",
    "            exactDOF = TRUE)\n",
    "t_1 <-felm(log(so2 +1) ~ \n",
    "            log(asset_tangibility_tot_asset) +\n",
    "            log(sales) +\n",
    "            log(total_asset) +\n",
    "            log(lag_liabilities_tot_asset) +\n",
    "            log(lag_sales_tot_asset)\n",
    "            | firm+year+geocode4_corr|0 | firm, df_final%>%filter(spz != 1)%>% \n",
    "            filter(lag_cashflow_to_tangible <0.837524),\n",
    "            exactDOF = TRUE)\n",
    "\n",
    "### COD\n",
    "t_2 <- felm(log(cod +1) ~ \n",
    "            log(asset_tangibility_tot_asset) +\n",
    "            log(sales) +\n",
    "            log(total_asset) +\n",
    "            log(lag_liabilities_tot_asset) +\n",
    "            log(lag_sales_tot_asset)\n",
    "            | firm+year+geocode4_corr|0 | firm, df_final%>%filter(spz == 1)%>% \n",
    "            filter(lag_cashflow_to_tangible <0.837524),\n",
    "            exactDOF = TRUE)\n",
    "t_3 <-felm(log(cod +1) ~ \n",
    "            log(asset_tangibility_tot_asset) +\n",
    "            log(sales) +\n",
    "            log(total_asset) +\n",
    "            log(lag_liabilities_tot_asset) +\n",
    "            log(lag_sales_tot_asset)\n",
    "            | firm+year+geocode4_corr|0 | firm, df_final%>%filter(spz !=1)%>% \n",
    "            filter(lag_cashflow_to_tangible <0.837524),\n",
    "            exactDOF = TRUE)\n",
    "### Waste water\n",
    "t_4 <- felm(log(waste_water +1) ~ \n",
    "            log(asset_tangibility_tot_asset) +\n",
    "            log(sales) +\n",
    "            log(total_asset) +\n",
    "            log(lag_liabilities_tot_asset) +\n",
    "            log(lag_sales_tot_asset)\n",
    "            | firm+year+geocode4_corr|0 | firm, df_final%>%filter(spz == 1)%>% \n",
    "            filter(lag_cashflow_to_tangible <0.837524),\n",
    "            exactDOF = TRUE)\n",
    "t_5 <-felm(log(waste_water +1) ~ \n",
    "            log(asset_tangibility_tot_asset) +\n",
    "            log(sales) +\n",
    "            log(total_asset) +\n",
    "            log(lag_liabilities_tot_asset) +\n",
    "            log(lag_sales_tot_asset)\n",
    "            | firm+year+geocode4_corr|0 | firm, df_final%>%filter(spz != 1)%>% \n",
    "            filter(lag_cashflow_to_tangible <0.837524),\n",
    "            exactDOF = TRUE)\n",
    "\n",
    "dep <- \"Dependent variable: pollution emissions\"\n",
    "fe1 <- list(\n",
    "    c(\"firm\", \"Yes\", \"Yes\", \"Yes\", \"Yes\", \"Yes\", \"Yes\"),\n",
    "    c(\"year\", \"Yes\", \"Yes\", \"Yes\", \"Yes\", \"Yes\", \"Yes\"),\n",
    "    c(\"city\", \"Yes\", \"Yes\", \"Yes\", \"Yes\", \"Yes\", \"Yes\")\n",
    "             )\n",
    "\n",
    "table_1 <- go_latex(list(\n",
    "    t_0,t_1, t_2, t_3, t_4, t_5\n",
    "),\n",
    "    title=\"Pollution emissions and city type\",\n",
    "    dep_var = dep,\n",
    "    addFE=fe1,\n",
    "    save=TRUE,\n",
    "    note = FALSE,\n",
    "    name=path\n",
    ") "
   ]
  },
  {
   "cell_type": "code",
   "execution_count": null,
   "metadata": {
    "kernel": "SoS"
   },
   "outputs": [],
   "source": [
    "tbe1  = \"This table estimates eq(3). \" \\\n",
    "\"Heteroskedasticity-robust standard errors\" \\\n",
    "\"clustered at the product level appear inparentheses.\"\\\n",
    "\"\\sym{*} Significance at the 10\\%, \\sym{**} Significance at the 5\\%, \\sym{***} Significance at the 1\\%.\"\n",
    "\n",
    "multicolumn ={\n",
    "    'SO2': 2,\n",
    "    'COD': 2,\n",
    "    'Waste water': 2\n",
    "}\n",
    "\n",
    "#multi_lines_dep = '(city/product/trade regime/year)'\n",
    "new_r = ['& SPZ', 'No SPZ', \"SPZ\",\"No SPZ\", \"SPZ\",\"No SPZ\"]\n",
    "lb.beautify(table_number = table_nb,\n",
    "            #reorder_var = reorder,\n",
    "            #multi_lines_dep = multi_lines_dep,\n",
    "            new_row= new_r,\n",
    "            multicolumn = multicolumn,\n",
    "            table_nte = tbe1,\n",
    "            jupyter_preview = True,\n",
    "            resolution = 150,\n",
    "            folder = folder)"
   ]
  },
  {
   "cell_type": "markdown",
   "metadata": {
    "kernel": "SoS"
   },
   "source": [
    "### Constraint"
   ]
  },
  {
   "cell_type": "code",
   "execution_count": null,
   "metadata": {
    "kernel": "SoS"
   },
   "outputs": [],
   "source": [
    "folder = 'Tables_0'\n",
    "table_nb = 1\n",
    "table = 'table_{}'.format(table_nb)\n",
    "path = os.path.join(folder, table + '.txt')\n",
    "if os.path.exists(folder) == False:\n",
    "        os.mkdir(folder)\n",
    "for ext in ['.txt', '.pdf']:\n",
    "    x = [a for a in os.listdir(folder) if a.endswith(ext)]\n",
    "    [os.remove(os.path.join(folder, i)) for i in x]"
   ]
  },
  {
   "cell_type": "code",
   "execution_count": null,
   "metadata": {
    "kernel": "SoS"
   },
   "outputs": [],
   "source": [
    "df_final.head(1)"
   ]
  },
  {
   "cell_type": "code",
   "execution_count": null,
   "metadata": {
    "kernel": "R"
   },
   "outputs": [],
   "source": [
    "%get path table\n",
    "#### SO2\n",
    "t_0 <- felm(log(so2 +1) ~ \n",
    "            log(asset_tangibility_tot_asset) +\n",
    "            log(sales) +\n",
    "            log(total_asset) +\n",
    "            log(lag_liabilities_tot_asset) +\n",
    "            log(lag_sales_tot_asset)\n",
    "            | firm+year+geocode4_corr|0 | firm, df_final%>%filter(constraint == TRUE)%>% \n",
    "            filter(lag_cashflow_to_tangible <0.837524),\n",
    "            exactDOF = TRUE)\n",
    "t_1 <-felm(log(so2 +1) ~ \n",
    "            log(asset_tangibility_tot_asset) +\n",
    "            log(sales) +\n",
    "            log(total_asset) +\n",
    "            log(lag_liabilities_tot_asset) +\n",
    "            log(lag_sales_tot_asset)\n",
    "            | firm+year+geocode4_corr|0 | firm, df_final%>%filter(constraint != TRUE)%>% \n",
    "            filter(lag_cashflow_to_tangible <0.837524),\n",
    "            exactDOF = TRUE)\n",
    "\n",
    "### COD\n",
    "t_2 <- felm(log(cod +1) ~ \n",
    "            log(asset_tangibility_tot_asset) +\n",
    "            log(sales) +\n",
    "            log(total_asset) +\n",
    "            log(lag_liabilities_tot_asset) +\n",
    "            log(lag_sales_tot_asset)\n",
    "            | firm+year+geocode4_corr|0 | firm, df_final%>%filter(constraint == TRUE)%>% \n",
    "            filter(lag_cashflow_to_tangible <0.837524),\n",
    "            exactDOF = TRUE)\n",
    "t_3 <-felm(log(cod +1) ~ \n",
    "            log(asset_tangibility_tot_asset) +\n",
    "            log(sales) +\n",
    "            log(total_asset) +\n",
    "            log(lag_liabilities_tot_asset) +\n",
    "            log(lag_sales_tot_asset)\n",
    "            | firm+year+geocode4_corr|0 | firm, df_final%>%filter(constraint !=TRUE)%>% \n",
    "            filter(lag_cashflow_to_tangible <0.837524),\n",
    "            exactDOF = TRUE)\n",
    "### Waste water\n",
    "t_4 <- felm(log(waste_water +1) ~ \n",
    "            log(asset_tangibility_tot_asset) +\n",
    "            log(sales) +\n",
    "            log(total_asset) +\n",
    "            log(lag_liabilities_tot_asset) +\n",
    "            log(lag_sales_tot_asset)\n",
    "            | firm+year+geocode4_corr|0 | firm, df_final%>%filter(constraint == TRUE)%>% \n",
    "            filter(lag_cashflow_to_tangible <0.837524),\n",
    "            exactDOF = TRUE)\n",
    "t_5 <-felm(log(waste_water +1) ~ \n",
    "            log(asset_tangibility_tot_asset) +\n",
    "            log(sales) +\n",
    "            log(total_asset) +\n",
    "            log(lag_liabilities_tot_asset) +\n",
    "            log(lag_sales_tot_asset)\n",
    "            | firm+year+geocode4_corr|0 | firm, df_final%>%filter(constraint != TRUE)%>% \n",
    "            filter(lag_cashflow_to_tangible <0.837524),\n",
    "            exactDOF = TRUE)\n",
    "\n",
    "dep <- \"Dependent variable: pollution emissions\"\n",
    "fe1 <- list(\n",
    "    c(\"firm\", \"Yes\", \"Yes\", \"Yes\", \"Yes\", \"Yes\", \"Yes\"),\n",
    "    c(\"year\", \"Yes\", \"Yes\", \"Yes\", \"Yes\", \"Yes\", \"Yes\"),\n",
    "    c(\"city\", \"Yes\", \"Yes\", \"Yes\", \"Yes\", \"Yes\", \"Yes\")\n",
    "             )\n",
    "\n",
    "table_1 <- go_latex(list(\n",
    "    t_0,t_1, t_2, t_3, t_4, t_5\n",
    "),\n",
    "    title=\"Pollution emissions and Financial constraint\",\n",
    "    dep_var = dep,\n",
    "    addFE=fe1,\n",
    "    save=TRUE,\n",
    "    note = FALSE,\n",
    "    name=path\n",
    ") "
   ]
  },
  {
   "cell_type": "code",
   "execution_count": null,
   "metadata": {
    "kernel": "SoS"
   },
   "outputs": [],
   "source": [
    "tbe1  = \"This table estimates eq(3). \" \\\n",
    "\"Heteroskedasticity-robust standard errors\" \\\n",
    "\"clustered at the product level appear inparentheses.\"\\\n",
    "\"\\sym{*} Significance at the 10\\%, \\sym{**} Significance at the 5\\%, \\sym{***} Significance at the 1\\%.\"\n",
    "\n",
    "multicolumn ={\n",
    "    'SO2': 2,\n",
    "    'COD': 2,\n",
    "    'Waste water': 2\n",
    "}\n",
    "\n",
    "#multi_lines_dep = '(city/product/trade regime/year)'\n",
    "new_r = ['& Contraint', 'No Contraint', \"Contraint\",\"No Contraint\", \"Contraint\",\"No Contraint\"]\n",
    "lb.beautify(table_number = table_nb,\n",
    "            #reorder_var = reorder,\n",
    "            #multi_lines_dep = multi_lines_dep,\n",
    "            new_row= new_r,\n",
    "            multicolumn = multicolumn,\n",
    "            table_nte = tbe1,\n",
    "            jupyter_preview = True,\n",
    "            resolution = 150,\n",
    "            folder = folder)"
   ]
  },
  {
   "cell_type": "code",
   "execution_count": null,
   "metadata": {
    "kernel": "SoS"
   },
   "outputs": [],
   "source": [
    "folder = 'Tables_0'\n",
    "table_nb = 1\n",
    "table = 'table_{}'.format(table_nb)\n",
    "path = os.path.join(folder, table + '.txt')\n",
    "if os.path.exists(folder) == False:\n",
    "        os.mkdir(folder)\n",
    "for ext in ['.txt', '.pdf']:\n",
    "    x = [a for a in os.listdir(folder) if a.endswith(ext)]\n",
    "    [os.remove(os.path.join(folder, i)) for i in x]"
   ]
  },
  {
   "cell_type": "code",
   "execution_count": null,
   "metadata": {
    "kernel": "R"
   },
   "outputs": [],
   "source": [
    "%get path table\n",
    "#### SO2\n",
    "t_0 <- felm(log(so2 +1) ~ \n",
    "            log(tfp_op) +\n",
    "            log(sales) +\n",
    "            log(total_asset) +\n",
    "            log(lag_liabilities_tot_asset) +\n",
    "            log(lag_sales_tot_asset)\n",
    "            | firm+year+geocode4_corr|0 | firm, df_final%>%filter(constraint == TRUE)%>% \n",
    "            filter(lag_cashflow_to_tangible <0.837524),\n",
    "            exactDOF = TRUE)\n",
    "t_1 <-felm(log(so2 +1) ~ \n",
    "            log(tfp_op) +\n",
    "            log(sales) +\n",
    "            log(total_asset) +\n",
    "            log(lag_liabilities_tot_asset) +\n",
    "            log(lag_sales_tot_asset)\n",
    "            | firm+year+geocode4_corr|0 | firm, df_final%>%filter(constraint != TRUE)%>% \n",
    "            filter(lag_cashflow_to_tangible <0.837524),\n",
    "            exactDOF = TRUE)\n",
    "\n",
    "### COD\n",
    "t_2 <- felm(log(cod +1) ~ \n",
    "            log(tfp_op) +\n",
    "            log(sales) +\n",
    "            log(total_asset) +\n",
    "            log(lag_liabilities_tot_asset) +\n",
    "            log(lag_sales_tot_asset)\n",
    "            | firm+year+geocode4_corr|0 | firm, df_final%>%filter(constraint == TRUE)%>% \n",
    "            filter(lag_cashflow_to_tangible <0.837524),\n",
    "            exactDOF = TRUE)\n",
    "t_3 <-felm(log(cod +1) ~ \n",
    "            log(tfp_op) +\n",
    "            log(sales) +\n",
    "            log(total_asset) +\n",
    "            log(lag_liabilities_tot_asset) +\n",
    "            log(lag_sales_tot_asset)\n",
    "            | firm+year+geocode4_corr|0 | firm, df_final%>%filter(constraint !=TRUE)%>% \n",
    "            filter(lag_cashflow_to_tangible <0.837524),\n",
    "            exactDOF = TRUE)\n",
    "### Waste water\n",
    "t_4 <- felm(log(waste_water +1) ~ \n",
    "            log(tfp_op) +\n",
    "            log(sales) +\n",
    "            log(total_asset) +\n",
    "            log(lag_liabilities_tot_asset) +\n",
    "            log(lag_sales_tot_asset)\n",
    "            | firm+year+geocode4_corr|0 | firm, df_final%>%filter(constraint == TRUE)%>% \n",
    "            filter(lag_cashflow_to_tangible <0.837524),\n",
    "            exactDOF = TRUE)\n",
    "t_5 <-felm(log(waste_water +1) ~ \n",
    "            log(tfp_op) +\n",
    "            log(sales) +\n",
    "            log(total_asset) +\n",
    "            log(lag_liabilities_tot_asset) +\n",
    "            log(lag_sales_tot_asset)\n",
    "            | firm+year+geocode4_corr|0 | firm, df_final%>%filter(constraint != TRUE)%>% \n",
    "            filter(lag_cashflow_to_tangible <0.837524),\n",
    "            exactDOF = TRUE)\n",
    "\n",
    "dep <- \"Dependent variable: pollution emissions\"\n",
    "fe1 <- list(\n",
    "    c(\"firm\", \"Yes\", \"Yes\", \"Yes\", \"Yes\", \"Yes\", \"Yes\"),\n",
    "    c(\"year\", \"Yes\", \"Yes\", \"Yes\", \"Yes\", \"Yes\", \"Yes\"),\n",
    "    c(\"city\", \"Yes\", \"Yes\", \"Yes\", \"Yes\", \"Yes\", \"Yes\")\n",
    "             )\n",
    "\n",
    "table_1 <- go_latex(list(\n",
    "    t_0,t_1, t_2, t_3, t_4, t_5\n",
    "),\n",
    "    title=\"Pollution emissions and Financial constraint\",\n",
    "    dep_var = dep,\n",
    "    addFE=fe1,\n",
    "    save=TRUE,\n",
    "    note = FALSE,\n",
    "    name=path\n",
    ") "
   ]
  },
  {
   "cell_type": "code",
   "execution_count": null,
   "metadata": {
    "kernel": "SoS"
   },
   "outputs": [],
   "source": [
    "tbe1  = \"This table estimates eq(3). \" \\\n",
    "\"Heteroskedasticity-robust standard errors\" \\\n",
    "\"clustered at the product level appear inparentheses.\"\\\n",
    "\"\\sym{*} Significance at the 10\\%, \\sym{**} Significance at the 5\\%, \\sym{***} Significance at the 1\\%.\"\n",
    "\n",
    "multicolumn ={\n",
    "    'SO2': 2,\n",
    "    'COD': 2,\n",
    "    'Waste water': 2\n",
    "}\n",
    "\n",
    "#multi_lines_dep = '(city/product/trade regime/year)'\n",
    "new_r = ['& Contraint', 'No Contraint', \"Contraint\",\"No Contraint\", \"Contraint\",\"No Contraint\"]\n",
    "lb.beautify(table_number = table_nb,\n",
    "            #reorder_var = reorder,\n",
    "            #multi_lines_dep = multi_lines_dep,\n",
    "            new_row= new_r,\n",
    "            multicolumn = multicolumn,\n",
    "            table_nte = tbe1,\n",
    "            jupyter_preview = True,\n",
    "            resolution = 150,\n",
    "            folder = folder)"
   ]
  },
  {
   "cell_type": "code",
   "execution_count": null,
   "metadata": {
    "kernel": "SoS"
   },
   "outputs": [],
   "source": []
  },
  {
   "cell_type": "markdown",
   "metadata": {
    "kernel": "R"
   },
   "source": [
    "### Transmission channel"
   ]
  },
  {
   "cell_type": "markdown",
   "metadata": {
    "kernel": "R"
   },
   "source": [
    "Faire avec taille"
   ]
  },
  {
   "cell_type": "markdown",
   "metadata": {
    "kernel": "R"
   },
   "source": [
    "Regarder l'hétérogénéity, SOE/foreign/taille\n",
    "\n",
    "- Changer de polluants\n",
    "\n",
    "Est ce que l'accès a la finance interne affecte les emissions. \n",
    "\n",
    "Une entreprise publique/large est moins sensible a la contrainte de crédit."
   ]
  },
  {
   "cell_type": "code",
   "execution_count": null,
   "metadata": {
    "kernel": "SoS"
   },
   "outputs": [],
   "source": [
    "folder = 'Tables_0'\n",
    "table_nb = 1\n",
    "table = 'table_{}'.format(table_nb)\n",
    "path = os.path.join(folder, table + '.txt')\n",
    "if os.path.exists(folder) == False:\n",
    "        os.mkdir(folder)\n",
    "for ext in ['.txt', '.pdf']:\n",
    "    x = [a for a in os.listdir(folder) if a.endswith(ext)]\n",
    "    [os.remove(os.path.join(folder, i)) for i in x]"
   ]
  },
  {
   "cell_type": "code",
   "execution_count": null,
   "metadata": {
    "kernel": "R"
   },
   "outputs": [],
   "source": [
    "t_0 <-felm(log(asset_tangibility_tot_asset) ~ \n",
    "            log(cashflow_to_tangible) + \n",
    "            log(liabilities_tot_asset) + \n",
    "            log(total_asset) + \n",
    "            log(age)\n",
    "            | firm+year+geocode4_corr|0 | firm, df_final%>% \n",
    "            filter(lag_cashflow_to_tangible <0.837524),\n",
    "            exactDOF = TRUE)\n",
    "t_1<-felm(rd_tot_asset_trick ~ \n",
    "            log(cashflow_to_tangible) + \n",
    "            log(liabilities_tot_asset) + \n",
    "            log(total_asset) + \n",
    "            log(age)\n",
    "            | firm+year+geocode4_corr|0 | firm, df_final%>% \n",
    "            filter(lag_cashflow_to_tangible <0.837524) %>% filter(year %in% list(\"2005\",\"2006\", \"2007\")),\n",
    "            exactDOF = TRUE)\n",
    "t_2<-felm(log(tfp_op) ~ \n",
    "            log(cashflow_to_tangible) + \n",
    "            log(liabilities_tot_asset) + \n",
    "            log(total_asset) + \n",
    "            log(age)\n",
    "            | firm+year+geocode4_corr|0 | firm, df_final%>% \n",
    "            filter(lag_cashflow_to_tangible <0.837524) ,\n",
    "            exactDOF = TRUE)\n",
    "dep <- \"Dependent variable: pollution emissions\"\n",
    "fe1 <- list(\n",
    "    c(\"firm\", \"Yes\", \"Yes\", \"Yes\"),\n",
    "    c(\"year\", \"Yes\", \"Yes\", \"Yes\"),\n",
    "    c(\"city\", \"Yes\", \"Yes\", \"Yes\")\n",
    "             )\n",
    "\n",
    "table_1 <- go_latex(list(\n",
    "    t_0,t_1, t_2\n",
    "),\n",
    "    title=\"Transmission channel\",\n",
    "    dep_var = dep,\n",
    "    addFE=fe1,\n",
    "    save=TRUE,\n",
    "    note = FALSE,\n",
    "    name=path\n",
    ")"
   ]
  },
  {
   "cell_type": "code",
   "execution_count": null,
   "metadata": {
    "kernel": "SoS"
   },
   "outputs": [],
   "source": [
    "tbe1  = \"This table estimates eq(3). \" \\\n",
    "\"Heteroskedasticity-robust standard errors\" \\\n",
    "\"clustered at the product level appear inparentheses.\"\\\n",
    "\"\\sym{*} Significance at the 10\\%, \\sym{**} Significance at the 5\\%, \\sym{***} Significance at the 1\\%.\"\n",
    "\n",
    "multicolumn ={\n",
    "    'SO2': 2,\n",
    "    'COD': 2,\n",
    "    'Waste water': 2\n",
    "}\n",
    "\n",
    "#multi_lines_dep = '(city/product/trade regime/year)'\n",
    "new_r = ['& Asset tangilbility', 'R\\&D', \"TFP\"]\n",
    "lb.beautify(table_number = table_nb,\n",
    "            #reorder_var = reorder,\n",
    "            #multi_lines_dep = multi_lines_dep,\n",
    "            new_row= new_r,\n",
    "            #multicolumn = multicolumn,\n",
    "            table_nte = tbe1,\n",
    "            jupyter_preview = True,\n",
    "            resolution = 150,\n",
    "            folder = folder)"
   ]
  },
  {
   "cell_type": "code",
   "execution_count": null,
   "metadata": {
    "kernel": "SoS"
   },
   "outputs": [],
   "source": [
    "#- current_ratio\n",
    "#- cashflow\n",
    "#- quick_ratio\n",
    "#- return_to_sale\n",
    "#- coverage_ratio\n",
    "#- liquidity"
   ]
  },
  {
   "cell_type": "code",
   "execution_count": null,
   "metadata": {
    "kernel": "SoS"
   },
   "outputs": [],
   "source": [
    "folder = 'Tables_0'\n",
    "table_nb = 1\n",
    "table = 'table_{}'.format(table_nb)\n",
    "path = os.path.join(folder, table + '.txt')\n",
    "if os.path.exists(folder) == False:\n",
    "        os.mkdir(folder)\n",
    "for ext in ['.txt', '.pdf']:\n",
    "    x = [a for a in os.listdir(folder) if a.endswith(ext)]\n",
    "    [os.remove(os.path.join(folder, i)) for i in x]"
   ]
  },
  {
   "cell_type": "code",
   "execution_count": null,
   "metadata": {
    "kernel": "SoS"
   },
   "outputs": [],
   "source": [
    "df_final['liquidity'].describe()"
   ]
  },
  {
   "cell_type": "code",
   "execution_count": null,
   "metadata": {
    "kernel": "R"
   },
   "outputs": [],
   "source": [
    "t_0 <-felm(log(asset_tangibility_tot_asset) ~ \n",
    "            log(current_ratio) + \n",
    "            log(liabilities_tot_asset) + \n",
    "            log(total_asset) + \n",
    "            log(age)\n",
    "            | firm+year+geocode4_corr|0 | firm, df_final%>% \n",
    "            filter(lag_cashflow_to_tangible <0.837524),\n",
    "            exactDOF = TRUE)\n",
    "t_1<-felm(rd_tot_asset_trick ~ \n",
    "            log(current_ratio) + \n",
    "            log(liabilities_tot_asset) + \n",
    "            log(total_asset) + \n",
    "            log(age)\n",
    "            | firm+year+geocode4_corr|0 | firm, df_final%>% \n",
    "            filter(lag_cashflow_to_tangible <0.837524) %>% filter(year %in% list(\"2005\",\"2006\", \"2007\")),\n",
    "            exactDOF = TRUE)\n",
    "t_2<-felm(log(tfp_op) ~ \n",
    "            log(current_ratio) + \n",
    "            log(liabilities_tot_asset) + \n",
    "            log(total_asset) + \n",
    "            log(age)\n",
    "            | firm+year+geocode4_corr|0 | firm, df_final%>% \n",
    "            filter(lag_cashflow_to_tangible <0.837524) ,\n",
    "            exactDOF = TRUE)\n",
    "dep <- \"Dependent variable: pollution emissions\"\n",
    "fe1 <- list(\n",
    "    c(\"firm\", \"Yes\", \"Yes\", \"Yes\"),\n",
    "    c(\"year\", \"Yes\", \"Yes\", \"Yes\"),\n",
    "    c(\"city\", \"Yes\", \"Yes\", \"Yes\")\n",
    "             )\n",
    "\n",
    "table_1 <- go_latex(list(\n",
    "    t_0,t_1, t_2\n",
    "),\n",
    "    title=\"Transmission channel\",\n",
    "    dep_var = dep,\n",
    "    addFE=fe1,\n",
    "    save=TRUE,\n",
    "    note = FALSE,\n",
    "    name=path\n",
    ")"
   ]
  },
  {
   "cell_type": "code",
   "execution_count": null,
   "metadata": {
    "kernel": "SoS"
   },
   "outputs": [],
   "source": [
    "tbe1  = \"This table estimates eq(3). \" \\\n",
    "\"Heteroskedasticity-robust standard errors\" \\\n",
    "\"clustered at the product level appear inparentheses.\"\\\n",
    "\"\\sym{*} Significance at the 10\\%, \\sym{**} Significance at the 5\\%, \\sym{***} Significance at the 1\\%.\"\n",
    "\n",
    "multicolumn ={\n",
    "    'SO2': 2,\n",
    "    'COD': 2,\n",
    "    'Waste water': 2\n",
    "}\n",
    "\n",
    "#multi_lines_dep = '(city/product/trade regime/year)'\n",
    "new_r = ['& Asset tangilbility', 'R\\&D', \"TFP\"]\n",
    "lb.beautify(table_number = table_nb,\n",
    "            #reorder_var = reorder,\n",
    "            #multi_lines_dep = multi_lines_dep,\n",
    "            new_row= new_r,\n",
    "            #multicolumn = multicolumn,\n",
    "            table_nte = tbe1,\n",
    "            jupyter_preview = True,\n",
    "            resolution = 150,\n",
    "            folder = folder)"
   ]
  },
  {
   "cell_type": "code",
   "execution_count": null,
   "metadata": {
    "kernel": "SoS"
   },
   "outputs": [],
   "source": []
  },
  {
   "cell_type": "code",
   "execution_count": null,
   "metadata": {
    "kernel": "SoS"
   },
   "outputs": [],
   "source": []
  },
  {
   "cell_type": "code",
   "execution_count": null,
   "metadata": {
    "kernel": "SoS"
   },
   "outputs": [],
   "source": [
    "folder = 'Tables_0'\n",
    "table_nb = 1\n",
    "table = 'table_{}'.format(table_nb)\n",
    "path = os.path.join(folder, table + '.txt')\n",
    "if os.path.exists(folder) == False:\n",
    "        os.mkdir(folder)\n",
    "for ext in ['.txt', '.pdf']:\n",
    "    x = [a for a in os.listdir(folder) if a.endswith(ext)]\n",
    "    [os.remove(os.path.join(folder, i)) for i in x]"
   ]
  },
  {
   "cell_type": "code",
   "execution_count": null,
   "metadata": {
    "kernel": "R"
   },
   "outputs": [],
   "source": [
    "t_0 <-felm(log(asset_tangibility_tot_asset) ~ \n",
    "            log(cashflow_to_tangible) + \n",
    "            log(liabilities_tot_asset) + \n",
    "            log(total_asset) + \n",
    "            log(age)\n",
    "            | firm+year+geocode4_corr|0 | firm, df_final%>% filter(SOE == \"SOE\")%>% \n",
    "            filter(lag_cashflow_to_tangible <0.837524),\n",
    "            exactDOF = TRUE)\n",
    "\n",
    "t_1 <-felm(log(asset_tangibility_tot_asset) ~ \n",
    "            log(cashflow_to_tangible) + \n",
    "            log(liabilities_tot_asset) + \n",
    "            log(total_asset) + \n",
    "            log(age)\n",
    "            | firm+year+geocode4_corr|0 | firm, df_final%>% filter(SOE != \"SOE\")%>% \n",
    "            filter(lag_cashflow_to_tangible <0.837524),\n",
    "            exactDOF = TRUE)\n",
    "\n",
    "t_2<-felm(rd_tot_asset_trick ~ \n",
    "            log(cashflow_to_tangible) + \n",
    "            log(liabilities_tot_asset) + \n",
    "            log(total_asset) + \n",
    "            log(age)\n",
    "            | firm+year+geocode4_corr|0 | firm, df_final%>% \n",
    "            filter(lag_cashflow_to_tangible <0.837524) %>% filter(SOE == \"SOE\")%>% filter(year %in% list(\"2005\",\"2006\", \"2007\")),\n",
    "            exactDOF = TRUE)\n",
    "\n",
    "t_3<-felm(rd_tot_asset_trick ~ \n",
    "            log(cashflow_to_tangible) + \n",
    "            log(liabilities_tot_asset) + \n",
    "            log(total_asset) + \n",
    "            log(age)\n",
    "            | firm+year+geocode4_corr|0 | firm, df_final%>% \n",
    "            filter(lag_cashflow_to_tangible <0.837524) %>% filter(SOE != \"SOE\")%>% filter(year %in% list(\"2005\",\"2006\", \"2007\")),\n",
    "            exactDOF = TRUE)\n",
    "\n",
    "t_4<-felm(log(tfp_op) ~ \n",
    "            log(cashflow_to_tangible) + \n",
    "            log(liabilities_tot_asset) + \n",
    "            log(total_asset) + \n",
    "            log(age)\n",
    "            | firm+year+geocode4_corr|0 | firm, df_final%>% filter(SOE == \"SOE\")%>% \n",
    "            filter(lag_cashflow_to_tangible <0.837524) ,\n",
    "            exactDOF = TRUE)\n",
    "\n",
    "t_5<-felm(log(tfp_op) ~ \n",
    "            log(cashflow_to_tangible) + \n",
    "            log(liabilities_tot_asset) + \n",
    "            log(total_asset) + \n",
    "            log(age)\n",
    "            | firm+year+geocode4_corr|0 | firm, df_final%>% filter(SOE != \"SOE\")%>% \n",
    "            filter(lag_cashflow_to_tangible <0.837524) ,\n",
    "            exactDOF = TRUE)\n",
    "\n",
    "dep <- \"Dependent variable: pollution emissions\"\n",
    "fe1 <- list(\n",
    "    c(\"firm\", \"Yes\", \"Yes\", \"Yes\", \"Yes\", \"Yes\", \"Yes\"),\n",
    "    c(\"year\", \"Yes\", \"Yes\", \"Yes\", \"Yes\", \"Yes\", \"Yes\"),\n",
    "    c(\"city\", \"Yes\", \"Yes\", \"Yes\", \"Yes\", \"Yes\", \"Yes\")\n",
    "             )\n",
    "\n",
    "table_1 <- go_latex(list(\n",
    "    t_0,t_1, t_2, t_3, t_4, t_5\n",
    "),\n",
    "    title=\"Transmission channel\",\n",
    "    dep_var = dep,\n",
    "    addFE=fe1,\n",
    "    save=TRUE,\n",
    "    note = FALSE,\n",
    "    name=path\n",
    ")"
   ]
  },
  {
   "cell_type": "code",
   "execution_count": null,
   "metadata": {
    "kernel": "SoS"
   },
   "outputs": [],
   "source": [
    "tbe1  = \"This table estimates eq(3). \" \\\n",
    "\"Heteroskedasticity-robust standard errors\" \\\n",
    "\"clustered at the product level appear inparentheses.\"\\\n",
    "\"\\sym{*} Significance at the 10\\%, \\sym{**} Significance at the 5\\%, \\sym{***} Significance at the 1\\%.\"\n",
    "\n",
    "multicolumn ={\n",
    "    'Asset tangilbility': 2,\n",
    "    'R\\&D': 2,\n",
    "    'TFP': 2\n",
    "}\n",
    "\n",
    "#multi_lines_dep = '(city/product/trade regime/year)'\n",
    "new_r = ['& SOE', 'No SOE', \"SOE\",\"No SOE\", \"SOE\",\"No SOE\"]\n",
    "lb.beautify(table_number = table_nb,\n",
    "            #reorder_var = reorder,\n",
    "            #multi_lines_dep = multi_lines_dep,\n",
    "            new_row= new_r,\n",
    "            multicolumn = multicolumn,\n",
    "            table_nte = tbe1,\n",
    "            jupyter_preview = True,\n",
    "            resolution = 150,\n",
    "            folder = folder)"
   ]
  },
  {
   "cell_type": "code",
   "execution_count": null,
   "metadata": {
    "kernel": "SoS"
   },
   "outputs": [],
   "source": [
    "folder = 'Tables_0'\n",
    "table_nb = 1\n",
    "table = 'table_{}'.format(table_nb)\n",
    "path = os.path.join(folder, table + '.txt')\n",
    "if os.path.exists(folder) == False:\n",
    "        os.mkdir(folder)\n",
    "for ext in ['.txt', '.pdf']:\n",
    "    x = [a for a in os.listdir(folder) if a.endswith(ext)]\n",
    "    [os.remove(os.path.join(folder, i)) for i in x]"
   ]
  },
  {
   "cell_type": "code",
   "execution_count": null,
   "metadata": {
    "kernel": "R"
   },
   "outputs": [],
   "source": [
    "t_0 <-felm(log(asset_tangibility_tot_asset) ~ \n",
    "            log(cashflow_to_tangible) + \n",
    "            log(liabilities_tot_asset) + \n",
    "            log(total_asset) + \n",
    "            log(age)\n",
    "            | firm+year+geocode4_corr|0 | firm, df_final%>% filter(constraint == TRUE)%>% \n",
    "            filter(lag_cashflow_to_tangible <0.837524),\n",
    "            exactDOF = TRUE)\n",
    "\n",
    "t_1 <-felm(log(asset_tangibility_tot_asset) ~ \n",
    "            log(cashflow_to_tangible) + \n",
    "            log(liabilities_tot_asset) + \n",
    "            log(total_asset) + \n",
    "            log(age)\n",
    "            | firm+year+geocode4_corr|0 | firm, df_final%>% filter(constraint != TRUE)%>% \n",
    "            filter(lag_cashflow_to_tangible <0.837524),\n",
    "            exactDOF = TRUE)\n",
    "\n",
    "t_2<-felm(rd_tot_asset_trick ~ \n",
    "            log(cashflow_to_tangible) + \n",
    "            log(liabilities_tot_asset) + \n",
    "            log(total_asset) + \n",
    "            log(age)\n",
    "            | firm+year+geocode4_corr|0 | firm, df_final%>% \n",
    "            filter(lag_cashflow_to_tangible <0.837524) %>% filter(constraint == TRUE)%>% filter(year %in% list(\"2005\",\"2006\", \"2007\")),\n",
    "            exactDOF = TRUE)\n",
    "\n",
    "t_3<-felm(rd_tot_asset_trick ~ \n",
    "            log(cashflow_to_tangible) + \n",
    "            log(liabilities_tot_asset) + \n",
    "            log(total_asset) + \n",
    "            log(age)\n",
    "            | firm+year+geocode4_corr|0 | firm, df_final%>% \n",
    "            filter(lag_cashflow_to_tangible <0.837524) %>% filter(constraint != TRUE)%>% filter(year %in% list(\"2005\",\"2006\", \"2007\")),\n",
    "            exactDOF = TRUE)\n",
    "\n",
    "t_4<-felm(log(tfp_op) ~ \n",
    "            log(cashflow_to_tangible) + \n",
    "            log(liabilities_tot_asset) + \n",
    "            log(total_asset) + \n",
    "            log(age)\n",
    "            | firm+year+geocode4_corr|0 | firm, df_final%>% filter(constraint == TRUE)%>% \n",
    "            filter(lag_cashflow_to_tangible <0.837524) ,\n",
    "            exactDOF = TRUE)\n",
    "\n",
    "t_5<-felm(log(tfp_op) ~ \n",
    "            log(cashflow_to_tangible) + \n",
    "            log(liabilities_tot_asset) + \n",
    "            log(total_asset) + \n",
    "            log(age)\n",
    "            | firm+year+geocode4_corr|0 | firm, df_final%>% filter(constraint != TRUE)%>% \n",
    "            filter(lag_cashflow_to_tangible <0.837524) ,\n",
    "            exactDOF = TRUE)\n",
    "\n",
    "dep <- \"Dependent variable: pollution emissions\"\n",
    "fe1 <- list(\n",
    "    c(\"firm\", \"Yes\", \"Yes\", \"Yes\", \"Yes\", \"Yes\", \"Yes\"),\n",
    "    c(\"year\", \"Yes\", \"Yes\", \"Yes\", \"Yes\", \"Yes\", \"Yes\"),\n",
    "    c(\"city\", \"Yes\", \"Yes\", \"Yes\", \"Yes\", \"Yes\", \"Yes\")\n",
    "             )\n",
    "\n",
    "table_1 <- go_latex(list(\n",
    "    t_0,t_1, t_2, t_3, t_4, t_5\n",
    "),\n",
    "    title=\"Transmission channel\",\n",
    "    dep_var = dep,\n",
    "    addFE=fe1,\n",
    "    save=TRUE,\n",
    "    note = FALSE,\n",
    "    name=path\n",
    ")"
   ]
  },
  {
   "cell_type": "code",
   "execution_count": null,
   "metadata": {
    "kernel": "SoS"
   },
   "outputs": [],
   "source": [
    "tbe1  = \"This table estimates eq(3). \" \\\n",
    "\"Heteroskedasticity-robust standard errors\" \\\n",
    "\"clustered at the product level appear inparentheses.\"\\\n",
    "\"\\sym{*} Significance at the 10\\%, \\sym{**} Significance at the 5\\%, \\sym{***} Significance at the 1\\%.\"\n",
    "\n",
    "multicolumn ={\n",
    "    'Asset tangilbility': 2,\n",
    "    'R\\&D': 2,\n",
    "    'TFP': 2\n",
    "}\n",
    "\n",
    "#multi_lines_dep = '(city/product/trade regime/year)'\n",
    "new_r = ['& Contraint', 'No Contraint', \"Contraint\",\"No Contraint\", \"Contraint\",\"No Contraint\"]\n",
    "lb.beautify(table_number = table_nb,\n",
    "            #reorder_var = reorder,\n",
    "            #multi_lines_dep = multi_lines_dep,\n",
    "            new_row= new_r,\n",
    "            multicolumn = multicolumn,\n",
    "            table_nte = tbe1,\n",
    "            jupyter_preview = True,\n",
    "            resolution = 150,\n",
    "            folder = folder)"
   ]
  },
  {
   "cell_type": "code",
   "execution_count": null,
   "metadata": {
    "kernel": "SoS"
   },
   "outputs": [],
   "source": [
    "folder = 'Tables_0'\n",
    "table_nb = 1\n",
    "table = 'table_{}'.format(table_nb)\n",
    "path = os.path.join(folder, table + '.txt')\n",
    "if os.path.exists(folder) == False:\n",
    "        os.mkdir(folder)\n",
    "for ext in ['.txt', '.pdf']:\n",
    "    x = [a for a in os.listdir(folder) if a.endswith(ext)]\n",
    "    [os.remove(os.path.join(folder, i)) for i in x]"
   ]
  },
  {
   "cell_type": "code",
   "execution_count": null,
   "metadata": {
    "kernel": "R"
   },
   "outputs": [],
   "source": [
    "t_0 <-felm(log(asset_tangibility_tot_asset) ~ \n",
    "            log(cashflow_to_tangible) + \n",
    "            log(liabilities_tot_asset) + \n",
    "            log(total_asset) + \n",
    "            log(age)\n",
    "            | firm+year+geocode4_corr|0 | firm, df_final_size%>% filter(d_employment == \"Yes\")%>% \n",
    "            filter(lag_cashflow_to_tangible <0.837524),\n",
    "            exactDOF = TRUE)\n",
    "\n",
    "t_1 <-felm(log(asset_tangibility_tot_asset) ~ \n",
    "            log(cashflow_to_tangible) + \n",
    "            log(liabilities_tot_asset) + \n",
    "            log(total_asset) + \n",
    "            log(age)\n",
    "            | firm+year+geocode4_corr|0 | firm, df_final_size%>% filter(d_employment != \"Yes\")%>% \n",
    "            filter(lag_cashflow_to_tangible <0.837524),\n",
    "            exactDOF = TRUE)\n",
    "\n",
    "t_2<-felm(rd_tot_asset_trick ~ \n",
    "            log(cashflow_to_tangible) + \n",
    "            log(liabilities_tot_asset) + \n",
    "            log(total_asset) + \n",
    "            log(age)\n",
    "            | firm+year+geocode4_corr|0 | firm, df_final_size%>% \n",
    "            filter(lag_cashflow_to_tangible <0.837524) %>% filter(d_employment == \"Yes\")%>% filter(year %in% list(\"2005\",\"2006\", \"2007\")),\n",
    "            exactDOF = TRUE)\n",
    "\n",
    "t_3<-felm(rd_tot_asset_trick ~ \n",
    "            log(cashflow_to_tangible) + \n",
    "            log(liabilities_tot_asset) + \n",
    "            log(total_asset) + \n",
    "            log(age)\n",
    "            | firm+year+geocode4_corr|0 | firm, df_final_size%>% \n",
    "            filter(lag_cashflow_to_tangible <0.837524) %>% filter(d_employment != \"Yes\")%>% filter(year %in% list(\"2005\",\"2006\", \"2007\")),\n",
    "            exactDOF = TRUE)\n",
    "\n",
    "t_4<-felm(log(tfp_op) ~ \n",
    "            log(cashflow_to_tangible) + \n",
    "            log(liabilities_tot_asset) + \n",
    "            log(total_asset) + \n",
    "            log(age)\n",
    "            | firm+year+geocode4_corr|0 | firm, df_final_size%>% filter(d_employment == \"Yes\")%>% \n",
    "            filter(lag_cashflow_to_tangible <0.837524) ,\n",
    "            exactDOF = TRUE)\n",
    "\n",
    "t_5<-felm(log(tfp_op) ~ \n",
    "            log(cashflow_to_tangible) + \n",
    "            log(liabilities_tot_asset) + \n",
    "            log(total_asset) + \n",
    "            log(age)\n",
    "            | firm+year+geocode4_corr|0 | firm, df_final_size%>% filter(d_employment != \"Yes\")%>% \n",
    "            filter(lag_cashflow_to_tangible <0.837524) ,\n",
    "            exactDOF = TRUE)\n",
    "\n",
    "dep <- \"Dependent variable: pollution emissions\"\n",
    "fe1 <- list(\n",
    "    c(\"firm\", \"Yes\", \"Yes\", \"Yes\", \"Yes\", \"Yes\", \"Yes\"),\n",
    "    c(\"year\", \"Yes\", \"Yes\", \"Yes\", \"Yes\", \"Yes\", \"Yes\"),\n",
    "    c(\"city\", \"Yes\", \"Yes\", \"Yes\", \"Yes\", \"Yes\", \"Yes\")\n",
    "             )\n",
    "\n",
    "table_1 <- go_latex(list(\n",
    "    t_0,t_1, t_2, t_3, t_4, t_5\n",
    "),\n",
    "    title=\"Transmission channel\",\n",
    "    dep_var = dep,\n",
    "    addFE=fe1,\n",
    "    save=TRUE,\n",
    "    note = FALSE,\n",
    "    name=path\n",
    ")"
   ]
  },
  {
   "cell_type": "code",
   "execution_count": null,
   "metadata": {
    "kernel": "R"
   },
   "outputs": [],
   "source": [
    "summary(\n",
    "felm(log(asset_tangibility_tot_asset) ~ \n",
    "            log(cashflow_to_tangible) * log(total_asset)+ \n",
    "            log(liabilities_tot_asset) + \n",
    "            log(total_asset) + \n",
    "            log(age)\n",
    "            | firm+year+geocode4_corr|0 | firm, df_final_size%>% \n",
    "            filter(lag_cashflow_to_tangible <0.837524),\n",
    "            exactDOF = TRUE))"
   ]
  },
  {
   "cell_type": "code",
   "execution_count": null,
   "metadata": {
    "kernel": "R"
   },
   "outputs": [],
   "source": [
    "summary(\n",
    "felm(log(asset_tangibility_tot_asset) ~ \n",
    "            log(cashflow_to_tangible) * log(employment)+ \n",
    "            log(liabilities_tot_asset) + \n",
    "            log(total_asset) + \n",
    "            log(age)\n",
    "            | firm+year+geocode4_corr|0 | firm, df_final_size%>% \n",
    "            filter(lag_cashflow_to_tangible <0.837524),\n",
    "            exactDOF = TRUE))"
   ]
  },
  {
   "cell_type": "code",
   "execution_count": null,
   "metadata": {
    "kernel": "SoS"
   },
   "outputs": [],
   "source": [
    "tbe1  = \"This table estimates eq(3). \" \\\n",
    "\"Heteroskedasticity-robust standard errors\" \\\n",
    "\"clustered at the product level appear inparentheses.\"\\\n",
    "\"\\sym{*} Significance at the 10\\%, \\sym{**} Significance at the 5\\%, \\sym{***} Significance at the 1\\%.\"\n",
    "\n",
    "multicolumn ={\n",
    "    'Asset tangilbility': 2,\n",
    "    'R\\&D': 2,\n",
    "    'TFP': 2\n",
    "}\n",
    "\n",
    "#multi_lines_dep = '(city/product/trade regime/year)'\n",
    "new_r = ['& Large', 'No Large', \"Large\",\"No Large\", \"Large\",\"No Large\"]\n",
    "lb.beautify(table_number = table_nb,\n",
    "            #reorder_var = reorder,\n",
    "            #multi_lines_dep = multi_lines_dep,\n",
    "            new_row= new_r,\n",
    "            multicolumn = multicolumn,\n",
    "            table_nte = tbe1,\n",
    "            jupyter_preview = True,\n",
    "            resolution = 150,\n",
    "            folder = folder)"
   ]
  },
  {
   "cell_type": "markdown",
   "metadata": {
    "kernel": "R"
   },
   "source": [
    "# Replicate one internal finance\n",
    "\n",
    "\n",
    "-> prendre que asset tangilbilty et mettre les polluants, on explique que asset tangiblity\n",
    "\n",
    "Mecanisme:\n",
    "\n",
    "Cashflow"
   ]
  },
  {
   "cell_type": "markdown",
   "metadata": {
    "kernel": "R"
   },
   "source": [
    "- Journal:\n",
    "    - Environment and development economics: https://www.cambridge.org/core/journals/environment-and-development-economics\n",
    "    - Review of environmental econ and policy: https://www.journals.uchicago.edu/toc/reep/current"
   ]
  },
  {
   "cell_type": "code",
   "execution_count": null,
   "metadata": {
    "kernel": "R"
   },
   "outputs": [],
   "source": [
    "%get path table\n",
    "t_0 <- felm(YYY ~XXX\n",
    "            | FE|0 | CLUSTER, df_final %>% filter(XXX == 'YYY'),\n",
    "            exactDOF = TRUE)\n",
    "\n",
    "t_0 <- felm(YYY ~XXX\n",
    "            | FE|0 | CLUSTER, df_final %>% filter(XXX != 'YYY'),\n",
    "            exactDOF = TRUE)\n",
    "\n",
    "t_2 <- felm(kYYY ~XXX\n",
    "            | FE|0 | CLUSTER, df_final,\n",
    "            exactDOF = TRUE)\n",
    "\n",
    "t_3 <- felm(kYYY ~XXX\n",
    "            | FE|0 | CLUSTER, df_final,\n",
    "            exactDOF = TRUE)\n",
    "            \n",
    "dep <- \"Dependent variable: YYYY\"\n",
    "fe1 <- list(\n",
    "    c(\"XXXXX\", \"Yes\", \"Yes\", \"No\", \"No\"),\n",
    "    \n",
    "    c(\"XXXXX\", \"Yes\", \"Yes\", \"No\", \"No\"),\n",
    "    \n",
    "    c(\"XXXXX\",\"Yes\", \"Yes\", \"Yes\", \"No\"),\n",
    "    \n",
    "    c(\"XXXXX\",\"No\", \"No\", \"Yes\", \"Yes\"),\n",
    "    \n",
    "    c(\"XXXXX\",\"No\", \"No\", \"Yes\", \"Yes\"),\n",
    "    \n",
    "    c(\"XXXXX\", \"No\", \"No\", \"No\", \"Yes\")\n",
    "             )\n",
    "\n",
    "table_1 <- go_latex(list(\n",
    "    t_0,t_1, t_2, t_3\n",
    "),\n",
    "    title=\"TITLE\",\n",
    "    dep_var = dep,\n",
    "    addFE=fe1,\n",
    "    save=TRUE,\n",
    "    note = FALSE,\n",
    "    name=path\n",
    ") "
   ]
  },
  {
   "cell_type": "code",
   "execution_count": null,
   "metadata": {
    "kernel": "SoS"
   },
   "outputs": [],
   "source": [
    "tbe1  = \"This table estimates eq(3). \" \\\n",
    "\"Heteroskedasticity-robust standard errors\" \\\n",
    "\"clustered at the product level appear inparentheses.\"\\\n",
    "\"\\sym{*} Significance at the 10\\%, \\sym{**} Significance at the 5\\%, \\sym{***} Significance at the 1\\%.\"\n",
    "\n",
    "#multicolumn ={\n",
    "#    'Eligible': 2,\n",
    "#    'Non-Eligible': 1,\n",
    "#    'All': 1,\n",
    "#    'All benchmark': 1,\n",
    "#}\n",
    "\n",
    "#multi_lines_dep = '(city/product/trade regime/year)'\n",
    "#new_r = ['& test1', 'test2']\n",
    "lb.beautify(table_number = table_nb,\n",
    "            #reorder_var = reorder,\n",
    "            #multi_lines_dep = multi_lines_dep,\n",
    "            #new_row= new_r,\n",
    "            #multicolumn = multicolumn,\n",
    "            table_nte = tbe1,\n",
    "            jupyter_preview = True,\n",
    "            resolution = 150,\n",
    "            folder = folder)"
   ]
  },
  {
   "cell_type": "markdown",
   "metadata": {
    "kernel": "SoS",
    "nteract": {
     "transient": {
      "deleting": false
     }
    }
   },
   "source": [
    "# Generate reports"
   ]
  },
  {
   "cell_type": "code",
   "execution_count": null,
   "metadata": {
    "kernel": "python3",
    "nteract": {
     "transient": {
      "deleting": false
     }
    },
    "outputExpanded": false
   },
   "outputs": [],
   "source": [
    "import os, time, shutil, urllib, ipykernel, json\n",
    "from pathlib import Path\n",
    "from notebook import notebookapp\n",
    "import sys\n",
    "path = os.getcwd()\n",
    "parent_path = str(Path(path).parent.parent.parent)\n",
    "sys.path.append(os.path.join(parent_path, 'utils'))\n",
    "import make_toc\n",
    "import create_report"
   ]
  },
  {
   "cell_type": "code",
   "execution_count": null,
   "metadata": {
    "kernel": "SoS"
   },
   "outputs": [],
   "source": [
    "name_json = 'parameters_ETL_pollution_credit_constraint.json'\n",
    "path_json = os.path.join(str(Path(path).parent.parent), 'utils',name_json)"
   ]
  },
  {
   "cell_type": "code",
   "execution_count": null,
   "metadata": {
    "kernel": "python3",
    "nteract": {
     "transient": {
      "deleting": false
     }
    },
    "outputExpanded": false
   },
   "outputs": [],
   "source": [
    "create_report.create_report(extension = \"html\", keep_code = False, notebookname = None)"
   ]
  },
  {
   "cell_type": "code",
   "execution_count": null,
   "metadata": {
    "kernel": "python3"
   },
   "outputs": [],
   "source": [
    "### Update TOC in Github\n",
    "for p in [parent_path,\n",
    "          str(Path(path).parent),\n",
    "          #os.path.join(str(Path(path).parent), \"00_download_data_from\"),\n",
    "          #os.path.join(str(Path(path).parent.parent), \"02_data_analysis\"),\n",
    "          #os.path.join(str(Path(path).parent.parent), \"02_data_analysis\", \"00_statistical_exploration\"),\n",
    "          #os.path.join(str(Path(path).parent.parent), \"02_data_analysis\", \"01_model_estimation\"),\n",
    "         ]:\n",
    "    try:\n",
    "        os.remove(os.path.join(p, 'README.md'))\n",
    "    except:\n",
    "        pass\n",
    "    path_parameter = os.path.join(parent_path,'utils', name_json)\n",
    "    md_lines =  make_toc.create_index(cwd = p, path_parameter = path_parameter)\n",
    "    md_out_fn = os.path.join(p,'README.md')\n",
    "    \n",
    "    if p == parent_path:\n",
    "    \n",
    "        make_toc.replace_index(md_out_fn, md_lines, Header = os.path.basename(p).replace('_', ' '), add_description = True, path_parameter = path_parameter)\n",
    "    else:\n",
    "        make_toc.replace_index(md_out_fn, md_lines, Header = os.path.basename(p).replace('_', ' '), add_description = False)"
   ]
  },
  {
   "cell_type": "code",
   "execution_count": null,
   "metadata": {
    "kernel": "python3"
   },
   "outputs": [],
   "source": [
    "!jupyter nbconvert --no-input --to html 08_firm_level_estimation_pollution.ipynb"
   ]
  }
 ],
 "metadata": {
  "jupytext": {
   "formats": "ipynb,md"
  },
  "kernel_info": {
   "name": "python3"
  },
  "kernelspec": {
   "display_name": "SoS",
   "language": "sos",
   "name": "sos"
  },
  "language_info": {
   "codemirror_mode": "sos",
   "file_extension": ".sos",
   "mimetype": "text/x-sos",
   "name": "sos",
   "nbconvert_exporter": "sos_notebook.converter.SoS_Exporter",
   "pygments_lexer": "sos"
  },
  "nteract": {
   "version": "0.28.0"
  },
  "sos": {
   "kernels": [
    [
     "R",
     "ir",
     "R",
     "#DCDCDA",
     "r"
    ],
    [
     "SoS",
     "sos",
     "",
     "",
     "sos"
    ],
    [
     "python3",
     "python3",
     "python",
     "",
     {
      "name": "ipython",
      "version": 3
     }
    ]
   ],
   "version": "0.20.1"
  },
  "toc": {
   "base_numbering": 1,
   "nav_menu": {},
   "number_sections": true,
   "sideBar": true,
   "skip_h1_title": false,
   "title_cell": "Table of Contents",
   "title_sidebar": "Contents",
   "toc_cell": false,
   "toc_position": {},
   "toc_section_display": true,
   "toc_window_display": false
  }
 },
 "nbformat": 4,
 "nbformat_minor": 4
}
